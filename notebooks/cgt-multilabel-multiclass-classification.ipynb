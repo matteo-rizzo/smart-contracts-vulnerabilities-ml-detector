{
 "cells": [
  {
   "metadata": {},
   "cell_type": "markdown",
   "source": "# Import",
   "id": "172880abc3d187d8"
  },
  {
   "cell_type": "code",
   "id": "initial_id",
   "metadata": {
    "collapsed": true,
    "ExecuteTime": {
     "end_time": "2024-05-06T10:03:52.801350Z",
     "start_time": "2024-05-06T10:03:22.613808Z"
    }
   },
   "source": [
    "import os\n",
    "import random\n",
    "import re\n",
    "from collections import Counter\n",
    "from typing import Tuple, Dict, List\n",
    "\n",
    "import numpy as np\n",
    "import pandas as pd\n",
    "import torch\n",
    "import torch.nn as nn\n",
    "import torch.optim as optim\n",
    "from sklearn.ensemble import RandomForestClassifier, GradientBoostingClassifier\n",
    "from sklearn.feature_extraction.text import TfidfVectorizer\n",
    "from sklearn.metrics import accuracy_score, precision_score, recall_score, f1_score\n",
    "from sklearn.metrics import classification_report\n",
    "from sklearn.metrics import hamming_loss\n",
    "from sklearn.model_selection import cross_val_score\n",
    "from sklearn.model_selection import train_test_split, KFold\n",
    "from sklearn.multiclass import OneVsRestClassifier\n",
    "from sklearn.pipeline import Pipeline\n",
    "from sklearn.svm import SVC\n",
    "from torch.optim import AdamW\n",
    "from torch.utils.data import DataLoader, TensorDataset, Subset\n",
    "from torch.utils.data import RandomSampler\n",
    "from tqdm import tqdm\n",
    "from transformers import RobertaForSequenceClassification, RobertaTokenizer\n",
    "\n",
    "\n",
    "def warn(*args, **kwargs):\n",
    "    pass\n",
    "\n",
    "\n",
    "import warnings\n",
    "\n",
    "warnings.warn = warn"
   ],
   "outputs": [],
   "execution_count": 1
  },
  {
   "metadata": {},
   "cell_type": "markdown",
   "source": "# Configuration",
   "id": "fc1ec8b396d0a08e"
  },
  {
   "metadata": {
    "ExecuteTime": {
     "end_time": "2024-05-06T10:03:53.004354Z",
     "start_time": "2024-05-06T10:03:52.801350Z"
    }
   },
   "cell_type": "code",
   "source": [
    "DEVICE = torch.device(\"cuda:0\" if torch.cuda.is_available() else \"cpu\")\n",
    "print(f\"Running on device {DEVICE}\")\n",
    "\n",
    "RANDOM_SEED = 0\n",
    "torch.manual_seed(RANDOM_SEED)\n",
    "np.random.seed(RANDOM_SEED)\n",
    "random.seed(RANDOM_SEED)\n",
    "torch.backends.cudnn.benchmark = False\n",
    "\n",
    "PATH_TO_DATASET = os.path.join(\"dataset\")\n",
    "BERT_MODEL_TYPE = 'microsoft/codebert-base'\n",
    "\n",
    "MAX_FEATURES = 500\n",
    "BATCH_SIZE = 2\n",
    "NUM_EPOCHS = 30\n",
    "NUM_LABELS = 20\n",
    "LR = 0.001\n",
    "\n",
    "TEST_SIZE = 0.2\n",
    "FILE_TYPE = \"runtime\"\n",
    "FILE_EXT = \".rt.hex\"\n",
    "FILE_ID = \"runtime\""
   ],
   "id": "1374f63db7c6cea9",
   "outputs": [
    {
     "name": "stdout",
     "output_type": "stream",
     "text": [
      "Running on device cuda:0\n"
     ]
    }
   ],
   "execution_count": 2
  },
  {
   "metadata": {},
   "cell_type": "markdown",
   "source": [
    "# Dataset\n",
    "\n",
    "Create PyTorch dataset feeding either source code, bytecode or runtime to the models."
   ],
   "id": "a424b60aff524ded"
  },
  {
   "metadata": {},
   "cell_type": "markdown",
   "source": "## Preprocessing",
   "id": "24ae2bd4455509d6"
  },
  {
   "metadata": {
    "ExecuteTime": {
     "end_time": "2024-05-06T10:03:53.019982Z",
     "start_time": "2024-05-06T10:03:53.004354Z"
    }
   },
   "cell_type": "code",
   "source": [
    "def preprocess_hex(hex_data: str) -> str:\n",
    "    # Reads a hex file and converts it to a byte string\n",
    "    byte_data = bytes.fromhex(hex_data.strip())\n",
    "\n",
    "    # Convert byte data to a readable ASCII string, ignoring non-ASCII characters\n",
    "    return ' '.join(f'{byte:02x}' for byte in byte_data)"
   ],
   "id": "41e2ed4561254c43",
   "outputs": [],
   "execution_count": 3
  },
  {
   "metadata": {
    "ExecuteTime": {
     "end_time": "2024-05-06T10:03:53.035607Z",
     "start_time": "2024-05-06T10:03:53.019982Z"
    }
   },
   "cell_type": "code",
   "source": [
    "def preprocess_solidity_code(code: str) -> str:\n",
    "    # Remove single-line comments\n",
    "    code = re.sub(r'//.*', '', code)\n",
    "\n",
    "    # Remove multi-line comments\n",
    "    code = re.sub(r'/\\*.*?\\*/', '', code, flags=re.DOTALL)\n",
    "\n",
    "    # Remove blank lines (lines only containing whitespace)\n",
    "    lines = code.split('\\n')\n",
    "    non_blank_lines = [line for line in lines if line.strip() != '']\n",
    "    code = '\\n'.join(non_blank_lines)\n",
    "\n",
    "    return code"
   ],
   "id": "f75a48b51037e77c",
   "outputs": [],
   "execution_count": 4
  },
  {
   "metadata": {
    "ExecuteTime": {
     "end_time": "2024-05-06T10:03:53.051229Z",
     "start_time": "2024-05-06T10:03:53.035607Z"
    }
   },
   "cell_type": "code",
   "source": [
    "def preprocess(data: str):\n",
    "    return preprocess_solidity_code(data) if FILE_TYPE == \"source\" else preprocess_hex(data)"
   ],
   "id": "15fa061be57e6304",
   "outputs": [],
   "execution_count": 5
  },
  {
   "metadata": {},
   "cell_type": "markdown",
   "source": "## Labels Management",
   "id": "7e084d9053915673"
  },
  {
   "metadata": {
    "ExecuteTime": {
     "end_time": "2024-05-06T10:03:53.066857Z",
     "start_time": "2024-05-06T10:03:53.051229Z"
    }
   },
   "cell_type": "code",
   "source": [
    "def init_docs_and_gt(data: pd.DataFrame, file_type: str = FILE_TYPE, file_ext: str = FILE_EXT) -> Tuple:\n",
    "    docs, labels, gt = {}, {}, {}\n",
    "    for _, row in tqdm(data.iterrows(), desc=\"Initializing documents and groundtruth data\"):\n",
    "        item_id, file_id = row[\"id\"], row[\"fp_\" + FILE_ID]\n",
    "\n",
    "        # Check if file exists\n",
    "        path_to_file = os.path.join(PATH_TO_DATASET, file_type, str(file_id) + file_ext)\n",
    "        if os.path.exists(path_to_file):\n",
    "\n",
    "            # Initialize the documents\n",
    "            docs[item_id] = preprocess(open(path_to_file, 'r', encoding=\"utf8\").read())\n",
    "\n",
    "            # Initialize the label\n",
    "            labels[item_id] = [0] * NUM_LABELS\n",
    "\n",
    "            # Initialize the groundtruth\n",
    "            prop = row[\"property\"].lower()\n",
    "            if prop not in gt.keys():\n",
    "                gt[prop] = len(gt.values())\n",
    "\n",
    "    return list(docs.values()), labels, gt"
   ],
   "id": "1511840b0951d215",
   "outputs": [],
   "execution_count": 6
  },
  {
   "metadata": {
    "ExecuteTime": {
     "end_time": "2024-05-06T10:03:53.082481Z",
     "start_time": "2024-05-06T10:03:53.066857Z"
    }
   },
   "cell_type": "code",
   "source": [
    "def set_labels(data: pd.DataFrame, labels: Dict, gt: Dict, file_type: str = FILE_TYPE,\n",
    "               file_ext: str = FILE_EXT) -> List:\n",
    "    for _, row in tqdm(data.iterrows(), desc=\"Setting up the labels\"):\n",
    "        item_id, file_id = row[\"id\"], row[\"fp_\" + FILE_ID]\n",
    "\n",
    "        # Check if file exists\n",
    "        path_to_file = os.path.join(PATH_TO_DATASET, file_type, str(file_id) + file_ext)\n",
    "        if os.path.exists(path_to_file):\n",
    "\n",
    "            # Set label   \n",
    "            prop = row[\"property\"].lower()\n",
    "            if row['property_holds'] == 't':\n",
    "                labels[item_id][gt[prop]] = 1\n",
    "\n",
    "    return list(labels.values())"
   ],
   "id": "89cc44af1e668270",
   "outputs": [],
   "execution_count": 7
  },
  {
   "metadata": {},
   "cell_type": "markdown",
   "source": "## Initialization of the dataset",
   "id": "bac1ca9644eca1a4"
  },
  {
   "metadata": {
    "ExecuteTime": {
     "end_time": "2024-05-06T10:04:17.270042Z",
     "start_time": "2024-05-06T10:03:53.082481Z"
    }
   },
   "cell_type": "code",
   "source": [
    "# Read the dataset from CSV\n",
    "dataset = pd.read_csv(os.path.join(PATH_TO_DATASET, \"consolidated.csv\"), sep=\";\")\n",
    "\n",
    "# Count the frequency of each item in the column\n",
    "frequency = dataset['dataset'].value_counts()\n",
    "\n",
    "# Find the item with the maximum occurrence\n",
    "most_frequent_item = frequency.idxmax()\n",
    "most_frequent_count = frequency.max()\n",
    "\n",
    "print(f\"The most frequent item in the column is '{most_frequent_item}' and it appears {most_frequent_count} times.\")\n",
    "\n",
    "# Exclude outliers from the dataset\n",
    "dataset = dataset[dataset[\"dataset\"] == most_frequent_item]\n",
    "\n",
    "# Initialize the documents and the groundtruth\n",
    "documents, labels, gt = init_docs_and_gt(dataset)\n",
    "\n",
    "# Set the labels for the multilabel classification problem\n",
    "labels = set_labels(dataset, labels, gt)"
   ],
   "id": "fb254a69e43e824e",
   "outputs": [
    {
     "name": "stdout",
     "output_type": "stream",
     "text": [
      "The most frequent item in the column is 'CodeSmells' and it appears 10395 times.\n"
     ]
    },
    {
     "name": "stderr",
     "output_type": "stream",
     "text": [
      "Initializing documents and groundtruth data: 10395it [00:22, 456.30it/s]\n",
      "Setting up the labels: 10395it [00:00, 10731.12it/s]\n"
     ]
    }
   ],
   "execution_count": 8
  },
  {
   "metadata": {},
   "cell_type": "markdown",
   "source": "# BERT-like Models",
   "id": "f2934d41ac3e7b8f"
  },
  {
   "metadata": {
    "ExecuteTime": {
     "end_time": "2024-05-06T10:04:26.348417Z",
     "start_time": "2024-05-06T10:04:17.270042Z"
    }
   },
   "cell_type": "code",
   "source": [
    "model = RobertaForSequenceClassification.from_pretrained(BERT_MODEL_TYPE, num_labels=20, ignore_mismatched_sizes=True)\n",
    "model.config.problem_type = \"multi_label_classification\"\n",
    "model.to(DEVICE)\n",
    "\n",
    "tokenizer = RobertaTokenizer.from_pretrained(BERT_MODEL_TYPE, ignore_mismatched_sizes=True)\n",
    "\n",
    "optimizer = AdamW(model.parameters(), lr=LR)\n",
    "loss_fn = nn.BCEWithLogitsLoss()"
   ],
   "id": "5acdc46ff12870a3",
   "outputs": [
    {
     "name": "stderr",
     "output_type": "stream",
     "text": [
      "Some weights of RobertaForSequenceClassification were not initialized from the model checkpoint at microsoft/codebert-base and are newly initialized: ['classifier.dense.bias', 'classifier.dense.weight', 'classifier.out_proj.bias', 'classifier.out_proj.weight']\n",
      "You should probably TRAIN this model on a down-stream task to be able to use it for predictions and inference.\n"
     ]
    }
   ],
   "execution_count": 9
  },
  {
   "metadata": {
    "ExecuteTime": {
     "end_time": "2024-05-06T10:04:26.363685Z",
     "start_time": "2024-05-06T10:04:26.348417Z"
    }
   },
   "cell_type": "code",
   "source": [
    "def compute_metrics(true_labels, pred_labels):\n",
    "    accuracy = accuracy_score(true_labels, pred_labels)\n",
    "    precision = precision_score(true_labels, pred_labels, average='samples', zero_division=0)\n",
    "    recall = recall_score(true_labels, pred_labels, average='samples', zero_division=0)\n",
    "    f1 = f1_score(true_labels, pred_labels, average='samples', zero_division=0)\n",
    "    hamming = hamming_loss(true_labels, pred_labels)\n",
    "    return accuracy, precision, recall, f1, hamming"
   ],
   "id": "7440a306f6c6dda9",
   "outputs": [],
   "execution_count": 10
  },
  {
   "metadata": {
    "ExecuteTime": {
     "end_time": "2024-05-06T10:04:26.379318Z",
     "start_time": "2024-05-06T10:04:26.363685Z"
    }
   },
   "cell_type": "code",
   "source": [
    "def train_and_evaluate(model, train_dataloader, test_dataloader):\n",
    "    for epoch in range(NUM_EPOCHS):\n",
    "        model.train()\n",
    "        train_losses, train_metrics = [], []\n",
    "\n",
    "        # Training loop\n",
    "        for batch in tqdm(train_dataloader, desc=\"Training\"):\n",
    "            batch = tuple(b.to(model.device) for b in batch)\n",
    "            inputs = {'input_ids': batch[0], 'attention_mask': batch[1], 'labels': batch[2]}\n",
    "            model.zero_grad()\n",
    "            outputs = model(**inputs)\n",
    "            loss = loss_fn(outputs.logits, inputs['labels'])\n",
    "            train_losses.append(loss.item())\n",
    "            loss.backward()\n",
    "            optimizer.step()\n",
    "\n",
    "            # Compute metrics for the batch\n",
    "            with torch.no_grad():\n",
    "                predictions = torch.sigmoid(outputs.logits).round().cpu().numpy()\n",
    "                batch_metrics = compute_metrics(batch[2].cpu().numpy(), predictions)\n",
    "                train_metrics.append(batch_metrics)\n",
    "\n",
    "        avg_train_loss = np.mean(train_losses)\n",
    "        avg_train_metrics = np.mean(train_metrics, axis=0)\n",
    "        print(\n",
    "            f\"\\nEpoch {epoch + 1}/{NUM_EPOCHS} | Train loss: {avg_train_loss:.4f} | Train Metrics: Precision: {avg_train_metrics[1]:.4f}, Recall: {avg_train_metrics[2]:.4f}, F1: {avg_train_metrics[3]:.4f}, Hamming Loss: {avg_train_metrics[4]:.4f}\\n\")\n",
    "\n",
    "        # Validation phase\n",
    "        model.eval()\n",
    "        test_losses, test_metrics = [], []\n",
    "\n",
    "        for batch in tqdm(test_dataloader, desc=\"Testing\"):\n",
    "            batch = tuple(b.to(model.device) for b in batch)\n",
    "            inputs = {'input_ids': batch[0], 'attention_mask': batch[1], 'labels': batch[2]}\n",
    "            with torch.no_grad():\n",
    "                outputs = model(**inputs)\n",
    "                loss = loss_fn(outputs.logits, inputs['labels'])\n",
    "                test_losses.append(loss.item())\n",
    "                predictions = torch.sigmoid(outputs.logits).round().cpu().numpy()\n",
    "                batch_metrics = compute_metrics(batch[2].cpu().numpy(), predictions)\n",
    "                test_metrics.append(batch_metrics)\n",
    "\n",
    "        avg_test_loss = np.mean(test_losses)\n",
    "        avg_test_metrics = np.mean(test_metrics, axis=0)\n",
    "        print(\n",
    "            f\"\\nEpoch {epoch + 1}/{NUM_EPOCHS} | Test loss: {avg_test_loss:.4f} | Test Metrics: Precision: {avg_test_metrics[1]:.4f}, Recall: {avg_test_metrics[2]:.4f}, F1: {avg_test_metrics[3]:.4f}, Hamming Loss: {avg_test_metrics[4]:.4f}\\n\")\n"
   ],
   "id": "c80667693427c66a",
   "outputs": [],
   "execution_count": 11
  },
  {
   "metadata": {
    "ExecuteTime": {
     "end_time": "2024-05-06T10:04:26.394943Z",
     "start_time": "2024-05-06T10:04:26.379318Z"
    }
   },
   "cell_type": "code",
   "source": [
    "def evaluate_on_test_set(model, test_dataloader):\n",
    "    model.eval()\n",
    "    test_losses, test_metrics = [], []\n",
    "\n",
    "    with torch.no_grad():\n",
    "        for batch in tqdm(test_dataloader, desc=\"Evaluating on Test Set\"):\n",
    "            batch = tuple(b.to(model.device) for b in batch)\n",
    "            inputs = {'input_ids': batch[0], 'attention_mask': batch[1], 'labels': batch[2]}\n",
    "            outputs = model(**inputs)\n",
    "            loss = loss_fn(outputs.logits, inputs['labels'])\n",
    "            test_losses.append(loss.item())\n",
    "\n",
    "            predictions = torch.sigmoid(outputs.logits).round().cpu().numpy()\n",
    "            batch_metrics = compute_metrics(batch[2].cpu().numpy(), predictions)\n",
    "            test_metrics.append(batch_metrics)\n",
    "\n",
    "    avg_test_loss = np.mean(test_losses)\n",
    "    avg_test_metrics = np.mean(test_metrics, axis=0)\n",
    "    print(\n",
    "        f\"\\nTest Set Evaluation | Loss: {avg_test_loss:.4f} | Precision: {avg_test_metrics[1]:.4f}, Recall: {avg_test_metrics[2]:.4f}, F1: {avg_test_metrics[3]:.4f}, Hamming Loss: {avg_test_metrics[4]:.4f}\\n\")\n"
   ],
   "id": "c2c756331f70649e",
   "outputs": [],
   "execution_count": 12
  },
  {
   "metadata": {
    "ExecuteTime": {
     "end_time": "2024-05-06T10:40:43.246788Z",
     "start_time": "2024-05-06T10:04:26.394943Z"
    }
   },
   "cell_type": "code",
   "source": [
    "encoding = tokenizer(documents, add_special_tokens=True, max_length=512,\n",
    "                     return_token_type_ids=False, padding=\"max_length\",\n",
    "                     truncation=True, return_attention_mask=True,\n",
    "                     return_tensors='pt')\n",
    "\n",
    "# Splitting data into train and test sets\n",
    "x_train, x_test, y_train, y_test = train_test_split(encoding['input_ids'], labels, test_size=TEST_SIZE)\n",
    "train_masks, test_masks, _, _ = train_test_split(encoding['attention_mask'], labels, test_size=TEST_SIZE)\n",
    "\n",
    "# Creating datasets\n",
    "train_dataset = TensorDataset(x_train, train_masks, torch.tensor(y_train).float())\n",
    "test_dataset = TensorDataset(x_test, test_masks, torch.tensor(y_test).float())\n",
    "\n",
    "# K-Fold Configuration\n",
    "num_folds = 5\n",
    "kf = KFold(n_splits=num_folds, shuffle=True)\n",
    "\n",
    "# Applying K-Fold Cross-Validation\n",
    "for fold, (train_idx, val_idx) in enumerate(kf.split(train_dataset)):\n",
    "    train_subsampler = Subset(train_dataset, train_idx)\n",
    "    val_subsampler = Subset(train_dataset, val_idx)\n",
    "\n",
    "    train_loader = DataLoader(train_subsampler, sampler=RandomSampler(train_subsampler), batch_size=BATCH_SIZE)\n",
    "    val_loader = DataLoader(val_subsampler, batch_size=BATCH_SIZE)  # No need for shuffling\n",
    "\n",
    "    print(f\"Starting Fold {fold + 1}\")\n",
    "    train_and_evaluate(model, train_loader, val_loader)\n",
    "\n",
    "# Create test dataloader (assuming test_dataset is already created)\n",
    "test_dataloader = DataLoader(test_dataset, batch_size=BATCH_SIZE, shuffle=False)\n",
    "\n",
    "# Evaluate on the test set\n",
    "evaluate_on_test_set(model, test_dataloader)"
   ],
   "id": "cfb9656b31564534",
   "outputs": [
    {
     "name": "stdout",
     "output_type": "stream",
     "text": [
      "Starting Fold 1\n"
     ]
    },
    {
     "name": "stderr",
     "output_type": "stream",
     "text": [
      "Training: 100%|██████████| 176/176 [00:16<00:00, 10.50it/s]\n"
     ]
    },
    {
     "name": "stdout",
     "output_type": "stream",
     "text": [
      "\n",
      "Epoch 1/30 | Train loss: 0.2599 | Train Metrics: Precision: 0.7562, Recall: 0.7242, F1: 0.7115, Hamming Loss: 0.1044\n",
      "\n"
     ]
    },
    {
     "name": "stderr",
     "output_type": "stream",
     "text": [
      "Testing: 100%|██████████| 44/44 [00:01<00:00, 39.67it/s]\n"
     ]
    },
    {
     "name": "stdout",
     "output_type": "stream",
     "text": [
      "\n",
      "Epoch 1/30 | Test loss: 0.2857 | Test Metrics: Precision: 0.7083, Recall: 0.5928, F1: 0.6235, Hamming Loss: 0.1312\n",
      "\n"
     ]
    },
    {
     "name": "stderr",
     "output_type": "stream",
     "text": [
      "Training: 100%|██████████| 176/176 [00:13<00:00, 13.43it/s]\n"
     ]
    },
    {
     "name": "stdout",
     "output_type": "stream",
     "text": [
      "\n",
      "Epoch 2/30 | Train loss: 0.2464 | Train Metrics: Precision: 0.7810, Recall: 0.6847, F1: 0.7036, Hamming Loss: 0.1034\n",
      "\n"
     ]
    },
    {
     "name": "stderr",
     "output_type": "stream",
     "text": [
      "Testing: 100%|██████████| 44/44 [00:01<00:00, 39.65it/s]\n"
     ]
    },
    {
     "name": "stdout",
     "output_type": "stream",
     "text": [
      "\n",
      "Epoch 2/30 | Test loss: 0.2949 | Test Metrics: Precision: 0.8220, Recall: 0.6831, F1: 0.7243, Hamming Loss: 0.0972\n",
      "\n"
     ]
    },
    {
     "name": "stderr",
     "output_type": "stream",
     "text": [
      "Training: 100%|██████████| 176/176 [00:13<00:00, 13.43it/s]\n"
     ]
    },
    {
     "name": "stdout",
     "output_type": "stream",
     "text": [
      "\n",
      "Epoch 3/30 | Train loss: 0.2452 | Train Metrics: Precision: 0.7830, Recall: 0.7145, F1: 0.7211, Hamming Loss: 0.0982\n",
      "\n"
     ]
    },
    {
     "name": "stderr",
     "output_type": "stream",
     "text": [
      "Testing: 100%|██████████| 44/44 [00:01<00:00, 39.67it/s]\n"
     ]
    },
    {
     "name": "stdout",
     "output_type": "stream",
     "text": [
      "\n",
      "Epoch 3/30 | Test loss: 0.2651 | Test Metrics: Precision: 0.7273, Recall: 0.7853, F1: 0.7339, Hamming Loss: 0.1028\n",
      "\n"
     ]
    },
    {
     "name": "stderr",
     "output_type": "stream",
     "text": [
      "Training: 100%|██████████| 176/176 [00:13<00:00, 13.41it/s]\n"
     ]
    },
    {
     "name": "stdout",
     "output_type": "stream",
     "text": [
      "\n",
      "Epoch 4/30 | Train loss: 0.2423 | Train Metrics: Precision: 0.7840, Recall: 0.7056, F1: 0.7170, Hamming Loss: 0.0997\n",
      "\n"
     ]
    },
    {
     "name": "stderr",
     "output_type": "stream",
     "text": [
      "Testing: 100%|██████████| 44/44 [00:01<00:00, 39.68it/s]\n"
     ]
    },
    {
     "name": "stdout",
     "output_type": "stream",
     "text": [
      "\n",
      "Epoch 4/30 | Test loss: 0.2796 | Test Metrics: Precision: 0.7424, Recall: 0.6070, F1: 0.6483, Hamming Loss: 0.1210\n",
      "\n"
     ]
    },
    {
     "name": "stderr",
     "output_type": "stream",
     "text": [
      "Training: 100%|██████████| 176/176 [00:13<00:00, 13.38it/s]\n"
     ]
    },
    {
     "name": "stdout",
     "output_type": "stream",
     "text": [
      "\n",
      "Epoch 5/30 | Train loss: 0.2435 | Train Metrics: Precision: 0.7744, Recall: 0.7117, F1: 0.7160, Hamming Loss: 0.1007\n",
      "\n"
     ]
    },
    {
     "name": "stderr",
     "output_type": "stream",
     "text": [
      "Testing: 100%|██████████| 44/44 [00:01<00:00, 39.65it/s]\n"
     ]
    },
    {
     "name": "stdout",
     "output_type": "stream",
     "text": [
      "\n",
      "Epoch 5/30 | Test loss: 0.2629 | Test Metrics: Precision: 0.8220, Recall: 0.6831, F1: 0.7243, Hamming Loss: 0.0972\n",
      "\n"
     ]
    },
    {
     "name": "stderr",
     "output_type": "stream",
     "text": [
      "Training: 100%|██████████| 176/176 [00:13<00:00, 13.27it/s]\n"
     ]
    },
    {
     "name": "stdout",
     "output_type": "stream",
     "text": [
      "\n",
      "Epoch 6/30 | Train loss: 0.2429 | Train Metrics: Precision: 0.7702, Recall: 0.7157, F1: 0.7181, Hamming Loss: 0.1007\n",
      "\n"
     ]
    },
    {
     "name": "stderr",
     "output_type": "stream",
     "text": [
      "Testing: 100%|██████████| 44/44 [00:01<00:00, 39.12it/s]\n"
     ]
    },
    {
     "name": "stdout",
     "output_type": "stream",
     "text": [
      "\n",
      "Epoch 6/30 | Test loss: 0.2738 | Test Metrics: Precision: 0.8220, Recall: 0.6831, F1: 0.7243, Hamming Loss: 0.0972\n",
      "\n"
     ]
    },
    {
     "name": "stderr",
     "output_type": "stream",
     "text": [
      "Training: 100%|██████████| 176/176 [00:13<00:00, 13.39it/s]\n"
     ]
    },
    {
     "name": "stdout",
     "output_type": "stream",
     "text": [
      "\n",
      "Epoch 7/30 | Train loss: 0.2398 | Train Metrics: Precision: 0.7721, Recall: 0.7290, F1: 0.7269, Hamming Loss: 0.0977\n",
      "\n"
     ]
    },
    {
     "name": "stderr",
     "output_type": "stream",
     "text": [
      "Testing: 100%|██████████| 44/44 [00:01<00:00, 39.11it/s]\n"
     ]
    },
    {
     "name": "stdout",
     "output_type": "stream",
     "text": [
      "\n",
      "Epoch 7/30 | Test loss: 0.2636 | Test Metrics: Precision: 0.8220, Recall: 0.6831, F1: 0.7243, Hamming Loss: 0.0972\n",
      "\n"
     ]
    },
    {
     "name": "stderr",
     "output_type": "stream",
     "text": [
      "Training: 100%|██████████| 176/176 [00:13<00:00, 13.44it/s]\n"
     ]
    },
    {
     "name": "stdout",
     "output_type": "stream",
     "text": [
      "\n",
      "Epoch 8/30 | Train loss: 0.2380 | Train Metrics: Precision: 0.7752, Recall: 0.7323, F1: 0.7303, Hamming Loss: 0.0966\n",
      "\n"
     ]
    },
    {
     "name": "stderr",
     "output_type": "stream",
     "text": [
      "Testing: 100%|██████████| 44/44 [00:01<00:00, 39.12it/s]\n"
     ]
    },
    {
     "name": "stdout",
     "output_type": "stream",
     "text": [
      "\n",
      "Epoch 8/30 | Test loss: 0.2747 | Test Metrics: Precision: 0.8220, Recall: 0.6831, F1: 0.7243, Hamming Loss: 0.0972\n",
      "\n"
     ]
    },
    {
     "name": "stderr",
     "output_type": "stream",
     "text": [
      "Training: 100%|██████████| 176/176 [00:13<00:00, 13.43it/s]\n"
     ]
    },
    {
     "name": "stdout",
     "output_type": "stream",
     "text": [
      "\n",
      "Epoch 9/30 | Train loss: 0.2356 | Train Metrics: Precision: 0.7964, Recall: 0.7058, F1: 0.7268, Hamming Loss: 0.0956\n",
      "\n"
     ]
    },
    {
     "name": "stderr",
     "output_type": "stream",
     "text": [
      "Testing: 100%|██████████| 44/44 [00:01<00:00, 39.68it/s]\n"
     ]
    },
    {
     "name": "stdout",
     "output_type": "stream",
     "text": [
      "\n",
      "Epoch 9/30 | Test loss: 0.2654 | Test Metrics: Precision: 0.8220, Recall: 0.6831, F1: 0.7243, Hamming Loss: 0.0972\n",
      "\n"
     ]
    },
    {
     "name": "stderr",
     "output_type": "stream",
     "text": [
      "Training: 100%|██████████| 176/176 [00:13<00:00, 13.41it/s]\n"
     ]
    },
    {
     "name": "stdout",
     "output_type": "stream",
     "text": [
      "\n",
      "Epoch 10/30 | Train loss: 0.2365 | Train Metrics: Precision: 0.7907, Recall: 0.7202, F1: 0.7307, Hamming Loss: 0.0950\n",
      "\n"
     ]
    },
    {
     "name": "stderr",
     "output_type": "stream",
     "text": [
      "Testing: 100%|██████████| 44/44 [00:01<00:00, 39.66it/s]\n"
     ]
    },
    {
     "name": "stdout",
     "output_type": "stream",
     "text": [
      "\n",
      "Epoch 10/30 | Test loss: 0.2744 | Test Metrics: Precision: 0.8220, Recall: 0.6831, F1: 0.7243, Hamming Loss: 0.0972\n",
      "\n"
     ]
    },
    {
     "name": "stderr",
     "output_type": "stream",
     "text": [
      "Training: 100%|██████████| 176/176 [00:13<00:00, 13.41it/s]\n"
     ]
    },
    {
     "name": "stdout",
     "output_type": "stream",
     "text": [
      "\n",
      "Epoch 11/30 | Train loss: 0.2357 | Train Metrics: Precision: 0.7969, Recall: 0.6986, F1: 0.7209, Hamming Loss: 0.0970\n",
      "\n"
     ]
    },
    {
     "name": "stderr",
     "output_type": "stream",
     "text": [
      "Testing: 100%|██████████| 44/44 [00:01<00:00, 40.24it/s]\n"
     ]
    },
    {
     "name": "stdout",
     "output_type": "stream",
     "text": [
      "\n",
      "Epoch 11/30 | Test loss: 0.2706 | Test Metrics: Precision: 0.7017, Recall: 0.7711, F1: 0.7116, Hamming Loss: 0.1131\n",
      "\n"
     ]
    },
    {
     "name": "stderr",
     "output_type": "stream",
     "text": [
      "Training: 100%|██████████| 176/176 [00:13<00:00, 13.43it/s]\n"
     ]
    },
    {
     "name": "stdout",
     "output_type": "stream",
     "text": [
      "\n",
      "Epoch 12/30 | Train loss: 0.2356 | Train Metrics: Precision: 0.7797, Recall: 0.7269, F1: 0.7289, Hamming Loss: 0.0966\n",
      "\n"
     ]
    },
    {
     "name": "stderr",
     "output_type": "stream",
     "text": [
      "Testing: 100%|██████████| 44/44 [00:01<00:00, 39.67it/s]\n"
     ]
    },
    {
     "name": "stdout",
     "output_type": "stream",
     "text": [
      "\n",
      "Epoch 12/30 | Test loss: 0.2748 | Test Metrics: Precision: 0.8220, Recall: 0.6831, F1: 0.7243, Hamming Loss: 0.0972\n",
      "\n"
     ]
    },
    {
     "name": "stderr",
     "output_type": "stream",
     "text": [
      "Training: 100%|██████████| 176/176 [00:13<00:00, 13.41it/s]\n"
     ]
    },
    {
     "name": "stdout",
     "output_type": "stream",
     "text": [
      "\n",
      "Epoch 13/30 | Train loss: 0.2334 | Train Metrics: Precision: 0.8011, Recall: 0.7087, F1: 0.7288, Hamming Loss: 0.0950\n",
      "\n"
     ]
    },
    {
     "name": "stderr",
     "output_type": "stream",
     "text": [
      "Testing: 100%|██████████| 44/44 [00:01<00:00, 39.65it/s]\n"
     ]
    },
    {
     "name": "stdout",
     "output_type": "stream",
     "text": [
      "\n",
      "Epoch 13/30 | Test loss: 0.2627 | Test Metrics: Precision: 0.8220, Recall: 0.6831, F1: 0.7243, Hamming Loss: 0.0972\n",
      "\n"
     ]
    },
    {
     "name": "stderr",
     "output_type": "stream",
     "text": [
      "Training: 100%|██████████| 176/176 [00:13<00:00, 13.39it/s]\n"
     ]
    },
    {
     "name": "stdout",
     "output_type": "stream",
     "text": [
      "\n",
      "Epoch 14/30 | Train loss: 0.2341 | Train Metrics: Precision: 0.8031, Recall: 0.6973, F1: 0.7218, Hamming Loss: 0.0960\n",
      "\n"
     ]
    },
    {
     "name": "stderr",
     "output_type": "stream",
     "text": [
      "Testing: 100%|██████████| 44/44 [00:01<00:00, 39.66it/s]\n"
     ]
    },
    {
     "name": "stdout",
     "output_type": "stream",
     "text": [
      "\n",
      "Epoch 14/30 | Test loss: 0.2638 | Test Metrics: Precision: 0.8220, Recall: 0.6831, F1: 0.7243, Hamming Loss: 0.0972\n",
      "\n"
     ]
    },
    {
     "name": "stderr",
     "output_type": "stream",
     "text": [
      "Training: 100%|██████████| 176/176 [00:13<00:00, 13.38it/s]\n"
     ]
    },
    {
     "name": "stdout",
     "output_type": "stream",
     "text": [
      "\n",
      "Epoch 15/30 | Train loss: 0.2342 | Train Metrics: Precision: 0.7869, Recall: 0.7217, F1: 0.7295, Hamming Loss: 0.0960\n",
      "\n"
     ]
    },
    {
     "name": "stderr",
     "output_type": "stream",
     "text": [
      "Testing: 100%|██████████| 44/44 [00:01<00:00, 39.65it/s]\n"
     ]
    },
    {
     "name": "stdout",
     "output_type": "stream",
     "text": [
      "\n",
      "Epoch 15/30 | Test loss: 0.2640 | Test Metrics: Precision: 0.7273, Recall: 0.7853, F1: 0.7339, Hamming Loss: 0.1028\n",
      "\n"
     ]
    },
    {
     "name": "stderr",
     "output_type": "stream",
     "text": [
      "Training: 100%|██████████| 176/176 [00:13<00:00, 13.38it/s]\n"
     ]
    },
    {
     "name": "stdout",
     "output_type": "stream",
     "text": [
      "\n",
      "Epoch 16/30 | Train loss: 0.2343 | Train Metrics: Precision: 0.7905, Recall: 0.7066, F1: 0.7246, Hamming Loss: 0.0963\n",
      "\n"
     ]
    },
    {
     "name": "stderr",
     "output_type": "stream",
     "text": [
      "Testing: 100%|██████████| 44/44 [00:01<00:00, 40.22it/s]\n"
     ]
    },
    {
     "name": "stdout",
     "output_type": "stream",
     "text": [
      "\n",
      "Epoch 16/30 | Test loss: 0.2659 | Test Metrics: Precision: 0.8220, Recall: 0.6831, F1: 0.7243, Hamming Loss: 0.0972\n",
      "\n"
     ]
    },
    {
     "name": "stderr",
     "output_type": "stream",
     "text": [
      "Training: 100%|██████████| 176/176 [00:13<00:00, 13.39it/s]\n"
     ]
    },
    {
     "name": "stdout",
     "output_type": "stream",
     "text": [
      "\n",
      "Epoch 17/30 | Train loss: 0.2342 | Train Metrics: Precision: 0.8043, Recall: 0.7041, F1: 0.7280, Hamming Loss: 0.0943\n",
      "\n"
     ]
    },
    {
     "name": "stderr",
     "output_type": "stream",
     "text": [
      "Testing: 100%|██████████| 44/44 [00:01<00:00, 39.66it/s]\n"
     ]
    },
    {
     "name": "stdout",
     "output_type": "stream",
     "text": [
      "\n",
      "Epoch 17/30 | Test loss: 0.2621 | Test Metrics: Precision: 0.8220, Recall: 0.6831, F1: 0.7243, Hamming Loss: 0.0972\n",
      "\n"
     ]
    },
    {
     "name": "stderr",
     "output_type": "stream",
     "text": [
      "Training: 100%|██████████| 176/176 [00:13<00:00, 13.35it/s]\n"
     ]
    },
    {
     "name": "stdout",
     "output_type": "stream",
     "text": [
      "\n",
      "Epoch 18/30 | Train loss: 0.2336 | Train Metrics: Precision: 0.7992, Recall: 0.7011, F1: 0.7266, Hamming Loss: 0.0953\n",
      "\n"
     ]
    },
    {
     "name": "stderr",
     "output_type": "stream",
     "text": [
      "Testing: 100%|██████████| 44/44 [00:01<00:00, 39.68it/s]\n"
     ]
    },
    {
     "name": "stdout",
     "output_type": "stream",
     "text": [
      "\n",
      "Epoch 18/30 | Test loss: 0.2670 | Test Metrics: Precision: 0.8220, Recall: 0.6831, F1: 0.7243, Hamming Loss: 0.0972\n",
      "\n"
     ]
    },
    {
     "name": "stderr",
     "output_type": "stream",
     "text": [
      "Training: 100%|██████████| 176/176 [00:13<00:00, 13.36it/s]\n"
     ]
    },
    {
     "name": "stdout",
     "output_type": "stream",
     "text": [
      "\n",
      "Epoch 19/30 | Train loss: 0.2327 | Train Metrics: Precision: 0.7976, Recall: 0.7063, F1: 0.7272, Hamming Loss: 0.0952\n",
      "\n"
     ]
    },
    {
     "name": "stderr",
     "output_type": "stream",
     "text": [
      "Testing: 100%|██████████| 44/44 [00:01<00:00, 39.67it/s]\n"
     ]
    },
    {
     "name": "stdout",
     "output_type": "stream",
     "text": [
      "\n",
      "Epoch 19/30 | Test loss: 0.2649 | Test Metrics: Precision: 0.8220, Recall: 0.6831, F1: 0.7243, Hamming Loss: 0.0972\n",
      "\n"
     ]
    },
    {
     "name": "stderr",
     "output_type": "stream",
     "text": [
      "Training: 100%|██████████| 176/176 [00:13<00:00, 13.35it/s]\n"
     ]
    },
    {
     "name": "stdout",
     "output_type": "stream",
     "text": [
      "\n",
      "Epoch 20/30 | Train loss: 0.2335 | Train Metrics: Precision: 0.8037, Recall: 0.6972, F1: 0.7267, Hamming Loss: 0.0949\n",
      "\n"
     ]
    },
    {
     "name": "stderr",
     "output_type": "stream",
     "text": [
      "Testing: 100%|██████████| 44/44 [00:01<00:00, 39.66it/s]\n"
     ]
    },
    {
     "name": "stdout",
     "output_type": "stream",
     "text": [
      "\n",
      "Epoch 20/30 | Test loss: 0.2639 | Test Metrics: Precision: 0.8220, Recall: 0.6831, F1: 0.7243, Hamming Loss: 0.0972\n",
      "\n"
     ]
    },
    {
     "name": "stderr",
     "output_type": "stream",
     "text": [
      "Training: 100%|██████████| 176/176 [00:13<00:00, 13.35it/s]\n"
     ]
    },
    {
     "name": "stdout",
     "output_type": "stream",
     "text": [
      "\n",
      "Epoch 21/30 | Train loss: 0.2337 | Train Metrics: Precision: 0.8026, Recall: 0.7013, F1: 0.7260, Hamming Loss: 0.0963\n",
      "\n"
     ]
    },
    {
     "name": "stderr",
     "output_type": "stream",
     "text": [
      "Testing: 100%|██████████| 44/44 [00:01<00:00, 39.66it/s]\n"
     ]
    },
    {
     "name": "stdout",
     "output_type": "stream",
     "text": [
      "\n",
      "Epoch 21/30 | Test loss: 0.2627 | Test Metrics: Precision: 0.8220, Recall: 0.6831, F1: 0.7243, Hamming Loss: 0.0972\n",
      "\n"
     ]
    },
    {
     "name": "stderr",
     "output_type": "stream",
     "text": [
      "Training: 100%|██████████| 176/176 [00:13<00:00, 13.35it/s]\n"
     ]
    },
    {
     "name": "stdout",
     "output_type": "stream",
     "text": [
      "\n",
      "Epoch 22/30 | Train loss: 0.2331 | Train Metrics: Precision: 0.7983, Recall: 0.7124, F1: 0.7316, Hamming Loss: 0.0947\n",
      "\n"
     ]
    },
    {
     "name": "stderr",
     "output_type": "stream",
     "text": [
      "Testing: 100%|██████████| 44/44 [00:01<00:00, 39.67it/s]\n"
     ]
    },
    {
     "name": "stdout",
     "output_type": "stream",
     "text": [
      "\n",
      "Epoch 22/30 | Test loss: 0.2691 | Test Metrics: Precision: 0.8220, Recall: 0.6831, F1: 0.7243, Hamming Loss: 0.0972\n",
      "\n"
     ]
    },
    {
     "name": "stderr",
     "output_type": "stream",
     "text": [
      "Training: 100%|██████████| 176/176 [00:13<00:00, 13.35it/s]\n"
     ]
    },
    {
     "name": "stdout",
     "output_type": "stream",
     "text": [
      "\n",
      "Epoch 23/30 | Train loss: 0.2315 | Train Metrics: Precision: 0.7951, Recall: 0.7224, F1: 0.7341, Hamming Loss: 0.0946\n",
      "\n"
     ]
    },
    {
     "name": "stderr",
     "output_type": "stream",
     "text": [
      "Testing: 100%|██████████| 44/44 [00:01<00:00, 39.65it/s]\n"
     ]
    },
    {
     "name": "stdout",
     "output_type": "stream",
     "text": [
      "\n",
      "Epoch 23/30 | Test loss: 0.2776 | Test Metrics: Precision: 0.8220, Recall: 0.6831, F1: 0.7243, Hamming Loss: 0.0972\n",
      "\n"
     ]
    },
    {
     "name": "stderr",
     "output_type": "stream",
     "text": [
      "Training: 100%|██████████| 176/176 [00:13<00:00, 13.33it/s]\n"
     ]
    },
    {
     "name": "stdout",
     "output_type": "stream",
     "text": [
      "\n",
      "Epoch 24/30 | Train loss: 0.2313 | Train Metrics: Precision: 0.8075, Recall: 0.6987, F1: 0.7291, Hamming Loss: 0.0940\n",
      "\n"
     ]
    },
    {
     "name": "stderr",
     "output_type": "stream",
     "text": [
      "Testing: 100%|██████████| 44/44 [00:01<00:00, 39.66it/s]\n"
     ]
    },
    {
     "name": "stdout",
     "output_type": "stream",
     "text": [
      "\n",
      "Epoch 24/30 | Test loss: 0.2632 | Test Metrics: Precision: 0.7273, Recall: 0.7853, F1: 0.7339, Hamming Loss: 0.1028\n",
      "\n"
     ]
    },
    {
     "name": "stderr",
     "output_type": "stream",
     "text": [
      "Training: 100%|██████████| 176/176 [00:13<00:00, 13.35it/s]\n"
     ]
    },
    {
     "name": "stdout",
     "output_type": "stream",
     "text": [
      "\n",
      "Epoch 25/30 | Train loss: 0.2333 | Train Metrics: Precision: 0.7791, Recall: 0.7234, F1: 0.7262, Hamming Loss: 0.0976\n",
      "\n"
     ]
    },
    {
     "name": "stderr",
     "output_type": "stream",
     "text": [
      "Testing: 100%|██████████| 44/44 [00:01<00:00, 39.66it/s]\n"
     ]
    },
    {
     "name": "stdout",
     "output_type": "stream",
     "text": [
      "\n",
      "Epoch 25/30 | Test loss: 0.2595 | Test Metrics: Precision: 0.8220, Recall: 0.6831, F1: 0.7243, Hamming Loss: 0.0972\n",
      "\n"
     ]
    },
    {
     "name": "stderr",
     "output_type": "stream",
     "text": [
      "Training: 100%|██████████| 176/176 [00:13<00:00, 13.31it/s]\n"
     ]
    },
    {
     "name": "stdout",
     "output_type": "stream",
     "text": [
      "\n",
      "Epoch 26/30 | Train loss: 0.2324 | Train Metrics: Precision: 0.8009, Recall: 0.7061, F1: 0.7298, Hamming Loss: 0.0942\n",
      "\n"
     ]
    },
    {
     "name": "stderr",
     "output_type": "stream",
     "text": [
      "Testing: 100%|██████████| 44/44 [00:01<00:00, 39.67it/s]\n"
     ]
    },
    {
     "name": "stdout",
     "output_type": "stream",
     "text": [
      "\n",
      "Epoch 26/30 | Test loss: 0.2662 | Test Metrics: Precision: 0.8220, Recall: 0.6831, F1: 0.7243, Hamming Loss: 0.0972\n",
      "\n"
     ]
    },
    {
     "name": "stderr",
     "output_type": "stream",
     "text": [
      "Training: 100%|██████████| 176/176 [00:13<00:00, 13.31it/s]\n"
     ]
    },
    {
     "name": "stdout",
     "output_type": "stream",
     "text": [
      "\n",
      "Epoch 27/30 | Train loss: 0.2328 | Train Metrics: Precision: 0.8055, Recall: 0.7015, F1: 0.7284, Hamming Loss: 0.0947\n",
      "\n"
     ]
    },
    {
     "name": "stderr",
     "output_type": "stream",
     "text": [
      "Testing: 100%|██████████| 44/44 [00:01<00:00, 39.66it/s]\n"
     ]
    },
    {
     "name": "stdout",
     "output_type": "stream",
     "text": [
      "\n",
      "Epoch 27/30 | Test loss: 0.2635 | Test Metrics: Precision: 0.8220, Recall: 0.6831, F1: 0.7243, Hamming Loss: 0.0972\n",
      "\n"
     ]
    },
    {
     "name": "stderr",
     "output_type": "stream",
     "text": [
      "Training: 100%|██████████| 176/176 [00:13<00:00, 13.33it/s]\n"
     ]
    },
    {
     "name": "stdout",
     "output_type": "stream",
     "text": [
      "\n",
      "Epoch 28/30 | Train loss: 0.2320 | Train Metrics: Precision: 0.7881, Recall: 0.7156, F1: 0.7275, Hamming Loss: 0.0963\n",
      "\n"
     ]
    },
    {
     "name": "stderr",
     "output_type": "stream",
     "text": [
      "Testing: 100%|██████████| 44/44 [00:01<00:00, 39.65it/s]\n"
     ]
    },
    {
     "name": "stdout",
     "output_type": "stream",
     "text": [
      "\n",
      "Epoch 28/30 | Test loss: 0.2602 | Test Metrics: Precision: 0.8220, Recall: 0.6831, F1: 0.7243, Hamming Loss: 0.0972\n",
      "\n"
     ]
    },
    {
     "name": "stderr",
     "output_type": "stream",
     "text": [
      "Training: 100%|██████████| 176/176 [00:13<00:00, 13.31it/s]\n"
     ]
    },
    {
     "name": "stdout",
     "output_type": "stream",
     "text": [
      "\n",
      "Epoch 29/30 | Train loss: 0.2315 | Train Metrics: Precision: 0.8030, Recall: 0.7160, F1: 0.7349, Hamming Loss: 0.0935\n",
      "\n"
     ]
    },
    {
     "name": "stderr",
     "output_type": "stream",
     "text": [
      "Testing: 100%|██████████| 44/44 [00:01<00:00, 39.66it/s]\n"
     ]
    },
    {
     "name": "stdout",
     "output_type": "stream",
     "text": [
      "\n",
      "Epoch 29/30 | Test loss: 0.2599 | Test Metrics: Precision: 0.8220, Recall: 0.6831, F1: 0.7243, Hamming Loss: 0.0972\n",
      "\n"
     ]
    },
    {
     "name": "stderr",
     "output_type": "stream",
     "text": [
      "Training: 100%|██████████| 176/176 [00:13<00:00, 13.31it/s]\n"
     ]
    },
    {
     "name": "stdout",
     "output_type": "stream",
     "text": [
      "\n",
      "Epoch 30/30 | Train loss: 0.2338 | Train Metrics: Precision: 0.7941, Recall: 0.6994, F1: 0.7214, Hamming Loss: 0.0973\n",
      "\n"
     ]
    },
    {
     "name": "stderr",
     "output_type": "stream",
     "text": [
      "Testing: 100%|██████████| 44/44 [00:01<00:00, 39.10it/s]\n"
     ]
    },
    {
     "name": "stdout",
     "output_type": "stream",
     "text": [
      "\n",
      "Epoch 30/30 | Test loss: 0.2613 | Test Metrics: Precision: 0.8220, Recall: 0.6831, F1: 0.7243, Hamming Loss: 0.0972\n",
      "\n",
      "Starting Fold 2\n"
     ]
    },
    {
     "name": "stderr",
     "output_type": "stream",
     "text": [
      "Training: 100%|██████████| 176/176 [00:13<00:00, 13.30it/s]\n"
     ]
    },
    {
     "name": "stdout",
     "output_type": "stream",
     "text": [
      "\n",
      "Epoch 1/30 | Train loss: 0.2428 | Train Metrics: Precision: 0.7882, Recall: 0.7102, F1: 0.7255, Hamming Loss: 0.0986\n",
      "\n"
     ]
    },
    {
     "name": "stderr",
     "output_type": "stream",
     "text": [
      "Testing: 100%|██████████| 44/44 [00:01<00:00, 39.67it/s]\n"
     ]
    },
    {
     "name": "stdout",
     "output_type": "stream",
     "text": [
      "\n",
      "Epoch 1/30 | Test loss: 0.2200 | Test Metrics: Precision: 0.8295, Recall: 0.7485, F1: 0.7643, Hamming Loss: 0.0790\n",
      "\n"
     ]
    },
    {
     "name": "stderr",
     "output_type": "stream",
     "text": [
      "Training: 100%|██████████| 176/176 [00:13<00:00, 13.31it/s]\n"
     ]
    },
    {
     "name": "stdout",
     "output_type": "stream",
     "text": [
      "\n",
      "Epoch 2/30 | Train loss: 0.2959 | Train Metrics: Precision: 0.7547, Recall: 0.7130, F1: 0.7055, Hamming Loss: 0.1107\n",
      "\n"
     ]
    },
    {
     "name": "stderr",
     "output_type": "stream",
     "text": [
      "Testing: 100%|██████████| 44/44 [00:01<00:00, 39.11it/s]\n"
     ]
    },
    {
     "name": "stdout",
     "output_type": "stream",
     "text": [
      "\n",
      "Epoch 2/30 | Test loss: 0.2600 | Test Metrics: Precision: 0.8295, Recall: 0.7485, F1: 0.7643, Hamming Loss: 0.0790\n",
      "\n"
     ]
    },
    {
     "name": "stderr",
     "output_type": "stream",
     "text": [
      "Training: 100%|██████████| 176/176 [00:13<00:00, 13.30it/s]\n"
     ]
    },
    {
     "name": "stdout",
     "output_type": "stream",
     "text": [
      "\n",
      "Epoch 3/30 | Train loss: 0.2913 | Train Metrics: Precision: 0.7575, Recall: 0.7101, F1: 0.7059, Hamming Loss: 0.1061\n",
      "\n"
     ]
    },
    {
     "name": "stderr",
     "output_type": "stream",
     "text": [
      "Testing: 100%|██████████| 44/44 [00:01<00:00, 40.22it/s]\n"
     ]
    },
    {
     "name": "stdout",
     "output_type": "stream",
     "text": [
      "\n",
      "Epoch 3/30 | Test loss: 0.2568 | Test Metrics: Precision: 0.6932, Recall: 0.8179, F1: 0.7297, Hamming Loss: 0.1006\n",
      "\n"
     ]
    },
    {
     "name": "stderr",
     "output_type": "stream",
     "text": [
      "Training: 100%|██████████| 176/176 [00:13<00:00, 13.28it/s]\n"
     ]
    },
    {
     "name": "stdout",
     "output_type": "stream",
     "text": [
      "\n",
      "Epoch 4/30 | Train loss: 0.2573 | Train Metrics: Precision: 0.7647, Recall: 0.7128, F1: 0.7148, Hamming Loss: 0.1044\n",
      "\n"
     ]
    },
    {
     "name": "stderr",
     "output_type": "stream",
     "text": [
      "Testing: 100%|██████████| 44/44 [00:01<00:00, 39.10it/s]\n"
     ]
    },
    {
     "name": "stdout",
     "output_type": "stream",
     "text": [
      "\n",
      "Epoch 4/30 | Test loss: 0.2201 | Test Metrics: Precision: 0.8295, Recall: 0.7485, F1: 0.7643, Hamming Loss: 0.0790\n",
      "\n"
     ]
    },
    {
     "name": "stderr",
     "output_type": "stream",
     "text": [
      "Training: 100%|██████████| 176/176 [00:13<00:00, 13.31it/s]\n"
     ]
    },
    {
     "name": "stdout",
     "output_type": "stream",
     "text": [
      "\n",
      "Epoch 5/30 | Train loss: 0.2467 | Train Metrics: Precision: 0.7794, Recall: 0.7039, F1: 0.7169, Hamming Loss: 0.1020\n",
      "\n"
     ]
    },
    {
     "name": "stderr",
     "output_type": "stream",
     "text": [
      "Testing: 100%|██████████| 44/44 [00:01<00:00, 39.11it/s]\n"
     ]
    },
    {
     "name": "stdout",
     "output_type": "stream",
     "text": [
      "\n",
      "Epoch 5/30 | Test loss: 0.2243 | Test Metrics: Precision: 0.8295, Recall: 0.7485, F1: 0.7643, Hamming Loss: 0.0790\n",
      "\n"
     ]
    },
    {
     "name": "stderr",
     "output_type": "stream",
     "text": [
      "Training: 100%|██████████| 176/176 [00:13<00:00, 13.28it/s]\n"
     ]
    },
    {
     "name": "stdout",
     "output_type": "stream",
     "text": [
      "\n",
      "Epoch 6/30 | Train loss: 0.2433 | Train Metrics: Precision: 0.8002, Recall: 0.6992, F1: 0.7234, Hamming Loss: 0.0984\n",
      "\n"
     ]
    },
    {
     "name": "stderr",
     "output_type": "stream",
     "text": [
      "Testing: 100%|██████████| 44/44 [00:01<00:00, 39.11it/s]\n"
     ]
    },
    {
     "name": "stdout",
     "output_type": "stream",
     "text": [
      "\n",
      "Epoch 6/30 | Test loss: 0.2274 | Test Metrics: Precision: 0.6932, Recall: 0.8179, F1: 0.7297, Hamming Loss: 0.1006\n",
      "\n"
     ]
    },
    {
     "name": "stderr",
     "output_type": "stream",
     "text": [
      "Training: 100%|██████████| 176/176 [00:13<00:00, 13.28it/s]\n"
     ]
    },
    {
     "name": "stdout",
     "output_type": "stream",
     "text": [
      "\n",
      "Epoch 7/30 | Train loss: 0.2419 | Train Metrics: Precision: 0.7841, Recall: 0.7073, F1: 0.7217, Hamming Loss: 0.1003\n",
      "\n"
     ]
    },
    {
     "name": "stderr",
     "output_type": "stream",
     "text": [
      "Testing: 100%|██████████| 44/44 [00:01<00:00, 39.11it/s]\n"
     ]
    },
    {
     "name": "stdout",
     "output_type": "stream",
     "text": [
      "\n",
      "Epoch 7/30 | Test loss: 0.2175 | Test Metrics: Precision: 0.8295, Recall: 0.7485, F1: 0.7643, Hamming Loss: 0.0790\n",
      "\n"
     ]
    },
    {
     "name": "stderr",
     "output_type": "stream",
     "text": [
      "Training: 100%|██████████| 176/176 [00:13<00:00, 13.28it/s]\n"
     ]
    },
    {
     "name": "stdout",
     "output_type": "stream",
     "text": [
      "\n",
      "Epoch 8/30 | Train loss: 0.2422 | Train Metrics: Precision: 0.7929, Recall: 0.7021, F1: 0.7242, Hamming Loss: 0.0983\n",
      "\n"
     ]
    },
    {
     "name": "stderr",
     "output_type": "stream",
     "text": [
      "Testing: 100%|██████████| 44/44 [00:01<00:00, 39.73it/s]\n"
     ]
    },
    {
     "name": "stdout",
     "output_type": "stream",
     "text": [
      "\n",
      "Epoch 8/30 | Test loss: 0.2223 | Test Metrics: Precision: 0.8295, Recall: 0.7485, F1: 0.7643, Hamming Loss: 0.0790\n",
      "\n"
     ]
    },
    {
     "name": "stderr",
     "output_type": "stream",
     "text": [
      "Training: 100%|██████████| 176/176 [00:13<00:00, 13.28it/s]\n"
     ]
    },
    {
     "name": "stdout",
     "output_type": "stream",
     "text": [
      "\n",
      "Epoch 9/30 | Train loss: 0.2412 | Train Metrics: Precision: 0.7911, Recall: 0.6975, F1: 0.7198, Hamming Loss: 0.0994\n",
      "\n"
     ]
    },
    {
     "name": "stderr",
     "output_type": "stream",
     "text": [
      "Testing: 100%|██████████| 44/44 [00:01<00:00, 39.29it/s]\n"
     ]
    },
    {
     "name": "stdout",
     "output_type": "stream",
     "text": [
      "\n",
      "Epoch 9/30 | Test loss: 0.2193 | Test Metrics: Precision: 0.8295, Recall: 0.7485, F1: 0.7643, Hamming Loss: 0.0790\n",
      "\n"
     ]
    },
    {
     "name": "stderr",
     "output_type": "stream",
     "text": [
      "Training: 100%|██████████| 176/176 [00:13<00:00, 13.29it/s]\n"
     ]
    },
    {
     "name": "stdout",
     "output_type": "stream",
     "text": [
      "\n",
      "Epoch 10/30 | Train loss: 0.2418 | Train Metrics: Precision: 0.7866, Recall: 0.7076, F1: 0.7239, Hamming Loss: 0.0991\n",
      "\n"
     ]
    },
    {
     "name": "stderr",
     "output_type": "stream",
     "text": [
      "Testing: 100%|██████████| 44/44 [00:01<00:00, 39.66it/s]\n"
     ]
    },
    {
     "name": "stdout",
     "output_type": "stream",
     "text": [
      "\n",
      "Epoch 10/30 | Test loss: 0.2218 | Test Metrics: Precision: 0.6932, Recall: 0.8179, F1: 0.7297, Hamming Loss: 0.1006\n",
      "\n"
     ]
    },
    {
     "name": "stderr",
     "output_type": "stream",
     "text": [
      "Training: 100%|██████████| 176/176 [00:13<00:00, 13.30it/s]\n"
     ]
    },
    {
     "name": "stdout",
     "output_type": "stream",
     "text": [
      "\n",
      "Epoch 11/30 | Train loss: 0.2407 | Train Metrics: Precision: 0.7992, Recall: 0.6914, F1: 0.7177, Hamming Loss: 0.0991\n",
      "\n"
     ]
    },
    {
     "name": "stderr",
     "output_type": "stream",
     "text": [
      "Testing: 100%|██████████| 44/44 [00:01<00:00, 39.66it/s]\n"
     ]
    },
    {
     "name": "stdout",
     "output_type": "stream",
     "text": [
      "\n",
      "Epoch 11/30 | Test loss: 0.2182 | Test Metrics: Precision: 0.8295, Recall: 0.7485, F1: 0.7643, Hamming Loss: 0.0790\n",
      "\n"
     ]
    },
    {
     "name": "stderr",
     "output_type": "stream",
     "text": [
      "Training: 100%|██████████| 176/176 [00:13<00:00, 13.27it/s]\n"
     ]
    },
    {
     "name": "stdout",
     "output_type": "stream",
     "text": [
      "\n",
      "Epoch 12/30 | Train loss: 0.2408 | Train Metrics: Precision: 0.7954, Recall: 0.6954, F1: 0.7208, Hamming Loss: 0.0990\n",
      "\n"
     ]
    },
    {
     "name": "stderr",
     "output_type": "stream",
     "text": [
      "Testing: 100%|██████████| 44/44 [00:01<00:00, 39.67it/s]\n"
     ]
    },
    {
     "name": "stdout",
     "output_type": "stream",
     "text": [
      "\n",
      "Epoch 12/30 | Test loss: 0.2236 | Test Metrics: Precision: 0.7102, Recall: 0.8359, F1: 0.7472, Hamming Loss: 0.0938\n",
      "\n"
     ]
    },
    {
     "name": "stderr",
     "output_type": "stream",
     "text": [
      "Training: 100%|██████████| 176/176 [00:13<00:00, 13.27it/s]\n"
     ]
    },
    {
     "name": "stdout",
     "output_type": "stream",
     "text": [
      "\n",
      "Epoch 13/30 | Train loss: 0.2416 | Train Metrics: Precision: 0.7780, Recall: 0.7085, F1: 0.7193, Hamming Loss: 0.1011\n",
      "\n"
     ]
    },
    {
     "name": "stderr",
     "output_type": "stream",
     "text": [
      "Testing: 100%|██████████| 44/44 [00:01<00:00, 39.12it/s]\n"
     ]
    },
    {
     "name": "stdout",
     "output_type": "stream",
     "text": [
      "\n",
      "Epoch 13/30 | Test loss: 0.2206 | Test Metrics: Precision: 0.6932, Recall: 0.8179, F1: 0.7297, Hamming Loss: 0.1006\n",
      "\n"
     ]
    },
    {
     "name": "stderr",
     "output_type": "stream",
     "text": [
      "Training: 100%|██████████| 176/176 [00:13<00:00, 13.25it/s]\n"
     ]
    },
    {
     "name": "stdout",
     "output_type": "stream",
     "text": [
      "\n",
      "Epoch 14/30 | Train loss: 0.2407 | Train Metrics: Precision: 0.8052, Recall: 0.6948, F1: 0.7256, Hamming Loss: 0.0972\n",
      "\n"
     ]
    },
    {
     "name": "stderr",
     "output_type": "stream",
     "text": [
      "Testing: 100%|██████████| 44/44 [00:01<00:00, 39.66it/s]\n"
     ]
    },
    {
     "name": "stdout",
     "output_type": "stream",
     "text": [
      "\n",
      "Epoch 14/30 | Test loss: 0.2229 | Test Metrics: Precision: 0.8295, Recall: 0.7485, F1: 0.7643, Hamming Loss: 0.0790\n",
      "\n"
     ]
    },
    {
     "name": "stderr",
     "output_type": "stream",
     "text": [
      "Training: 100%|██████████| 176/176 [00:13<00:00, 13.25it/s]\n"
     ]
    },
    {
     "name": "stdout",
     "output_type": "stream",
     "text": [
      "\n",
      "Epoch 15/30 | Train loss: 0.2409 | Train Metrics: Precision: 0.7902, Recall: 0.7050, F1: 0.7231, Hamming Loss: 0.0989\n",
      "\n"
     ]
    },
    {
     "name": "stderr",
     "output_type": "stream",
     "text": [
      "Testing: 100%|██████████| 44/44 [00:01<00:00, 39.10it/s]\n"
     ]
    },
    {
     "name": "stdout",
     "output_type": "stream",
     "text": [
      "\n",
      "Epoch 15/30 | Test loss: 0.2166 | Test Metrics: Precision: 0.8295, Recall: 0.7485, F1: 0.7643, Hamming Loss: 0.0790\n",
      "\n"
     ]
    },
    {
     "name": "stderr",
     "output_type": "stream",
     "text": [
      "Training: 100%|██████████| 176/176 [00:13<00:00, 13.25it/s]\n"
     ]
    },
    {
     "name": "stdout",
     "output_type": "stream",
     "text": [
      "\n",
      "Epoch 16/30 | Train loss: 0.2400 | Train Metrics: Precision: 0.7867, Recall: 0.7194, F1: 0.7305, Hamming Loss: 0.0974\n",
      "\n"
     ]
    },
    {
     "name": "stderr",
     "output_type": "stream",
     "text": [
      "Testing: 100%|██████████| 44/44 [00:01<00:00, 39.10it/s]\n"
     ]
    },
    {
     "name": "stdout",
     "output_type": "stream",
     "text": [
      "\n",
      "Epoch 16/30 | Test loss: 0.2175 | Test Metrics: Precision: 0.8295, Recall: 0.7485, F1: 0.7643, Hamming Loss: 0.0790\n",
      "\n"
     ]
    },
    {
     "name": "stderr",
     "output_type": "stream",
     "text": [
      "Training: 100%|██████████| 176/176 [00:13<00:00, 13.25it/s]\n"
     ]
    },
    {
     "name": "stdout",
     "output_type": "stream",
     "text": [
      "\n",
      "Epoch 17/30 | Train loss: 0.2411 | Train Metrics: Precision: 0.7838, Recall: 0.7085, F1: 0.7198, Hamming Loss: 0.1013\n",
      "\n"
     ]
    },
    {
     "name": "stderr",
     "output_type": "stream",
     "text": [
      "Testing: 100%|██████████| 44/44 [00:01<00:00, 39.11it/s]\n"
     ]
    },
    {
     "name": "stdout",
     "output_type": "stream",
     "text": [
      "\n",
      "Epoch 17/30 | Test loss: 0.2232 | Test Metrics: Precision: 0.6932, Recall: 0.8179, F1: 0.7297, Hamming Loss: 0.1006\n",
      "\n"
     ]
    },
    {
     "name": "stderr",
     "output_type": "stream",
     "text": [
      "Training: 100%|██████████| 176/176 [00:13<00:00, 13.25it/s]\n"
     ]
    },
    {
     "name": "stdout",
     "output_type": "stream",
     "text": [
      "\n",
      "Epoch 18/30 | Train loss: 0.2412 | Train Metrics: Precision: 0.7798, Recall: 0.7106, F1: 0.7206, Hamming Loss: 0.1006\n",
      "\n"
     ]
    },
    {
     "name": "stderr",
     "output_type": "stream",
     "text": [
      "Testing: 100%|██████████| 44/44 [00:01<00:00, 39.11it/s]\n"
     ]
    },
    {
     "name": "stdout",
     "output_type": "stream",
     "text": [
      "\n",
      "Epoch 18/30 | Test loss: 0.2204 | Test Metrics: Precision: 0.8295, Recall: 0.7485, F1: 0.7643, Hamming Loss: 0.0790\n",
      "\n"
     ]
    },
    {
     "name": "stderr",
     "output_type": "stream",
     "text": [
      "Training: 100%|██████████| 176/176 [00:13<00:00, 13.24it/s]\n"
     ]
    },
    {
     "name": "stdout",
     "output_type": "stream",
     "text": [
      "\n",
      "Epoch 19/30 | Train loss: 0.2414 | Train Metrics: Precision: 0.8030, Recall: 0.6879, F1: 0.7215, Hamming Loss: 0.0980\n",
      "\n"
     ]
    },
    {
     "name": "stderr",
     "output_type": "stream",
     "text": [
      "Testing: 100%|██████████| 44/44 [00:01<00:00, 39.66it/s]\n"
     ]
    },
    {
     "name": "stdout",
     "output_type": "stream",
     "text": [
      "\n",
      "Epoch 19/30 | Test loss: 0.2195 | Test Metrics: Precision: 0.8295, Recall: 0.7485, F1: 0.7643, Hamming Loss: 0.0790\n",
      "\n"
     ]
    },
    {
     "name": "stderr",
     "output_type": "stream",
     "text": [
      "Training: 100%|██████████| 176/176 [00:13<00:00, 13.25it/s]\n"
     ]
    },
    {
     "name": "stdout",
     "output_type": "stream",
     "text": [
      "\n",
      "Epoch 20/30 | Train loss: 0.2401 | Train Metrics: Precision: 0.7983, Recall: 0.6904, F1: 0.7196, Hamming Loss: 0.0990\n",
      "\n"
     ]
    },
    {
     "name": "stderr",
     "output_type": "stream",
     "text": [
      "Testing: 100%|██████████| 44/44 [00:01<00:00, 39.11it/s]\n"
     ]
    },
    {
     "name": "stdout",
     "output_type": "stream",
     "text": [
      "\n",
      "Epoch 20/30 | Test loss: 0.2187 | Test Metrics: Precision: 0.8295, Recall: 0.7485, F1: 0.7643, Hamming Loss: 0.0790\n",
      "\n"
     ]
    },
    {
     "name": "stderr",
     "output_type": "stream",
     "text": [
      "Training: 100%|██████████| 176/176 [00:13<00:00, 13.24it/s]\n"
     ]
    },
    {
     "name": "stdout",
     "output_type": "stream",
     "text": [
      "\n",
      "Epoch 21/30 | Train loss: 0.2410 | Train Metrics: Precision: 0.8054, Recall: 0.6804, F1: 0.7168, Hamming Loss: 0.0990\n",
      "\n"
     ]
    },
    {
     "name": "stderr",
     "output_type": "stream",
     "text": [
      "Testing: 100%|██████████| 44/44 [00:01<00:00, 39.10it/s]\n"
     ]
    },
    {
     "name": "stdout",
     "output_type": "stream",
     "text": [
      "\n",
      "Epoch 21/30 | Test loss: 0.2212 | Test Metrics: Precision: 0.8295, Recall: 0.7485, F1: 0.7643, Hamming Loss: 0.0790\n",
      "\n"
     ]
    },
    {
     "name": "stderr",
     "output_type": "stream",
     "text": [
      "Training: 100%|██████████| 176/176 [00:13<00:00, 13.24it/s]\n"
     ]
    },
    {
     "name": "stdout",
     "output_type": "stream",
     "text": [
      "\n",
      "Epoch 22/30 | Train loss: 0.2409 | Train Metrics: Precision: 0.7917, Recall: 0.7022, F1: 0.7218, Hamming Loss: 0.0993\n",
      "\n"
     ]
    },
    {
     "name": "stderr",
     "output_type": "stream",
     "text": [
      "Testing: 100%|██████████| 44/44 [00:01<00:00, 39.66it/s]\n"
     ]
    },
    {
     "name": "stdout",
     "output_type": "stream",
     "text": [
      "\n",
      "Epoch 22/30 | Test loss: 0.2186 | Test Metrics: Precision: 0.8295, Recall: 0.7485, F1: 0.7643, Hamming Loss: 0.0790\n",
      "\n"
     ]
    },
    {
     "name": "stderr",
     "output_type": "stream",
     "text": [
      "Training: 100%|██████████| 176/176 [00:13<00:00, 13.25it/s]\n"
     ]
    },
    {
     "name": "stdout",
     "output_type": "stream",
     "text": [
      "\n",
      "Epoch 23/30 | Train loss: 0.2404 | Train Metrics: Precision: 0.7893, Recall: 0.7022, F1: 0.7205, Hamming Loss: 0.1001\n",
      "\n"
     ]
    },
    {
     "name": "stderr",
     "output_type": "stream",
     "text": [
      "Testing: 100%|██████████| 44/44 [00:01<00:00, 38.56it/s]\n"
     ]
    },
    {
     "name": "stdout",
     "output_type": "stream",
     "text": [
      "\n",
      "Epoch 23/30 | Test loss: 0.2206 | Test Metrics: Precision: 0.8295, Recall: 0.7485, F1: 0.7643, Hamming Loss: 0.0790\n",
      "\n"
     ]
    },
    {
     "name": "stderr",
     "output_type": "stream",
     "text": [
      "Training: 100%|██████████| 176/176 [00:13<00:00, 13.24it/s]\n"
     ]
    },
    {
     "name": "stdout",
     "output_type": "stream",
     "text": [
      "\n",
      "Epoch 24/30 | Train loss: 0.2410 | Train Metrics: Precision: 0.7886, Recall: 0.7100, F1: 0.7264, Hamming Loss: 0.0983\n",
      "\n"
     ]
    },
    {
     "name": "stderr",
     "output_type": "stream",
     "text": [
      "Testing: 100%|██████████| 44/44 [00:01<00:00, 39.66it/s]\n"
     ]
    },
    {
     "name": "stdout",
     "output_type": "stream",
     "text": [
      "\n",
      "Epoch 24/30 | Test loss: 0.2173 | Test Metrics: Precision: 0.8295, Recall: 0.7485, F1: 0.7643, Hamming Loss: 0.0790\n",
      "\n"
     ]
    },
    {
     "name": "stderr",
     "output_type": "stream",
     "text": [
      "Training: 100%|██████████| 176/176 [00:13<00:00, 13.22it/s]\n"
     ]
    },
    {
     "name": "stdout",
     "output_type": "stream",
     "text": [
      "\n",
      "Epoch 25/30 | Train loss: 0.2409 | Train Metrics: Precision: 0.8068, Recall: 0.6811, F1: 0.7187, Hamming Loss: 0.0984\n",
      "\n"
     ]
    },
    {
     "name": "stderr",
     "output_type": "stream",
     "text": [
      "Testing: 100%|██████████| 44/44 [00:01<00:00, 39.10it/s]\n"
     ]
    },
    {
     "name": "stdout",
     "output_type": "stream",
     "text": [
      "\n",
      "Epoch 25/30 | Test loss: 0.2230 | Test Metrics: Precision: 0.8295, Recall: 0.7485, F1: 0.7643, Hamming Loss: 0.0790\n",
      "\n"
     ]
    },
    {
     "name": "stderr",
     "output_type": "stream",
     "text": [
      "Training: 100%|██████████| 176/176 [00:13<00:00, 13.24it/s]\n"
     ]
    },
    {
     "name": "stdout",
     "output_type": "stream",
     "text": [
      "\n",
      "Epoch 26/30 | Train loss: 0.2400 | Train Metrics: Precision: 0.7957, Recall: 0.7026, F1: 0.7252, Hamming Loss: 0.0974\n",
      "\n"
     ]
    },
    {
     "name": "stderr",
     "output_type": "stream",
     "text": [
      "Testing: 100%|██████████| 44/44 [00:01<00:00, 39.65it/s]\n"
     ]
    },
    {
     "name": "stdout",
     "output_type": "stream",
     "text": [
      "\n",
      "Epoch 26/30 | Test loss: 0.2180 | Test Metrics: Precision: 0.8295, Recall: 0.7485, F1: 0.7643, Hamming Loss: 0.0790\n",
      "\n"
     ]
    },
    {
     "name": "stderr",
     "output_type": "stream",
     "text": [
      "Training: 100%|██████████| 176/176 [00:13<00:00, 13.21it/s]\n"
     ]
    },
    {
     "name": "stdout",
     "output_type": "stream",
     "text": [
      "\n",
      "Epoch 27/30 | Train loss: 0.2408 | Train Metrics: Precision: 0.7850, Recall: 0.6995, F1: 0.7185, Hamming Loss: 0.1006\n",
      "\n"
     ]
    },
    {
     "name": "stderr",
     "output_type": "stream",
     "text": [
      "Testing: 100%|██████████| 44/44 [00:01<00:00, 39.11it/s]\n"
     ]
    },
    {
     "name": "stdout",
     "output_type": "stream",
     "text": [
      "\n",
      "Epoch 27/30 | Test loss: 0.2168 | Test Metrics: Precision: 0.8295, Recall: 0.7485, F1: 0.7643, Hamming Loss: 0.0790\n",
      "\n"
     ]
    },
    {
     "name": "stderr",
     "output_type": "stream",
     "text": [
      "Training: 100%|██████████| 176/176 [00:13<00:00, 13.24it/s]\n"
     ]
    },
    {
     "name": "stdout",
     "output_type": "stream",
     "text": [
      "\n",
      "Epoch 28/30 | Train loss: 0.2404 | Train Metrics: Precision: 0.7962, Recall: 0.7051, F1: 0.7280, Hamming Loss: 0.0970\n",
      "\n"
     ]
    },
    {
     "name": "stderr",
     "output_type": "stream",
     "text": [
      "Testing: 100%|██████████| 44/44 [00:01<00:00, 39.12it/s]\n"
     ]
    },
    {
     "name": "stdout",
     "output_type": "stream",
     "text": [
      "\n",
      "Epoch 28/30 | Test loss: 0.2194 | Test Metrics: Precision: 0.7102, Recall: 0.8359, F1: 0.7472, Hamming Loss: 0.0938\n",
      "\n"
     ]
    },
    {
     "name": "stderr",
     "output_type": "stream",
     "text": [
      "Training: 100%|██████████| 176/176 [00:13<00:00, 13.24it/s]\n"
     ]
    },
    {
     "name": "stdout",
     "output_type": "stream",
     "text": [
      "\n",
      "Epoch 29/30 | Train loss: 0.2418 | Train Metrics: Precision: 0.7881, Recall: 0.6970, F1: 0.7187, Hamming Loss: 0.1006\n",
      "\n"
     ]
    },
    {
     "name": "stderr",
     "output_type": "stream",
     "text": [
      "Testing: 100%|██████████| 44/44 [00:01<00:00, 39.10it/s]\n"
     ]
    },
    {
     "name": "stdout",
     "output_type": "stream",
     "text": [
      "\n",
      "Epoch 29/30 | Test loss: 0.2207 | Test Metrics: Precision: 0.8295, Recall: 0.7485, F1: 0.7643, Hamming Loss: 0.0790\n",
      "\n"
     ]
    },
    {
     "name": "stderr",
     "output_type": "stream",
     "text": [
      "Training: 100%|██████████| 176/176 [00:13<00:00, 13.24it/s]\n"
     ]
    },
    {
     "name": "stdout",
     "output_type": "stream",
     "text": [
      "\n",
      "Epoch 30/30 | Train loss: 0.2387 | Train Metrics: Precision: 0.7976, Recall: 0.6786, F1: 0.7121, Hamming Loss: 0.1011\n",
      "\n"
     ]
    },
    {
     "name": "stderr",
     "output_type": "stream",
     "text": [
      "Testing: 100%|██████████| 44/44 [00:01<00:00, 39.65it/s]\n"
     ]
    },
    {
     "name": "stdout",
     "output_type": "stream",
     "text": [
      "\n",
      "Epoch 30/30 | Test loss: 0.2246 | Test Metrics: Precision: 0.8295, Recall: 0.7485, F1: 0.7643, Hamming Loss: 0.0790\n",
      "\n",
      "Starting Fold 3\n"
     ]
    },
    {
     "name": "stderr",
     "output_type": "stream",
     "text": [
      "Training: 100%|██████████| 176/176 [00:13<00:00, 13.24it/s]\n"
     ]
    },
    {
     "name": "stdout",
     "output_type": "stream",
     "text": [
      "\n",
      "Epoch 1/30 | Train loss: 0.2367 | Train Metrics: Precision: 0.8041, Recall: 0.7015, F1: 0.7281, Hamming Loss: 0.0945\n",
      "\n"
     ]
    },
    {
     "name": "stderr",
     "output_type": "stream",
     "text": [
      "Testing: 100%|██████████| 44/44 [00:01<00:00, 38.58it/s]\n"
     ]
    },
    {
     "name": "stdout",
     "output_type": "stream",
     "text": [
      "\n",
      "Epoch 1/30 | Test loss: 0.2280 | Test Metrics: Precision: 0.8333, Recall: 0.6817, F1: 0.7307, Hamming Loss: 0.0960\n",
      "\n"
     ]
    },
    {
     "name": "stderr",
     "output_type": "stream",
     "text": [
      "Training: 100%|██████████| 176/176 [00:13<00:00, 13.22it/s]\n"
     ]
    },
    {
     "name": "stdout",
     "output_type": "stream",
     "text": [
      "\n",
      "Epoch 2/30 | Train loss: 0.2377 | Train Metrics: Precision: 0.8054, Recall: 0.7027, F1: 0.7294, Hamming Loss: 0.0938\n",
      "\n"
     ]
    },
    {
     "name": "stderr",
     "output_type": "stream",
     "text": [
      "Testing: 100%|██████████| 44/44 [00:01<00:00, 39.11it/s]\n"
     ]
    },
    {
     "name": "stdout",
     "output_type": "stream",
     "text": [
      "\n",
      "Epoch 2/30 | Test loss: 0.2261 | Test Metrics: Precision: 0.8333, Recall: 0.6817, F1: 0.7307, Hamming Loss: 0.0960\n",
      "\n"
     ]
    },
    {
     "name": "stderr",
     "output_type": "stream",
     "text": [
      "Training: 100%|██████████| 176/176 [00:13<00:00, 13.21it/s]\n"
     ]
    },
    {
     "name": "stdout",
     "output_type": "stream",
     "text": [
      "\n",
      "Epoch 3/30 | Train loss: 0.2381 | Train Metrics: Precision: 0.8082, Recall: 0.7001, F1: 0.7299, Hamming Loss: 0.0933\n",
      "\n"
     ]
    },
    {
     "name": "stderr",
     "output_type": "stream",
     "text": [
      "Testing: 100%|██████████| 44/44 [00:01<00:00, 39.65it/s]\n"
     ]
    },
    {
     "name": "stdout",
     "output_type": "stream",
     "text": [
      "\n",
      "Epoch 3/30 | Test loss: 0.2290 | Test Metrics: Precision: 0.7415, Recall: 0.7879, F1: 0.7453, Hamming Loss: 0.0994\n",
      "\n"
     ]
    },
    {
     "name": "stderr",
     "output_type": "stream",
     "text": [
      "Training: 100%|██████████| 176/176 [00:13<00:00, 13.22it/s]\n"
     ]
    },
    {
     "name": "stdout",
     "output_type": "stream",
     "text": [
      "\n",
      "Epoch 4/30 | Train loss: 0.2382 | Train Metrics: Precision: 0.8021, Recall: 0.6999, F1: 0.7270, Hamming Loss: 0.0945\n",
      "\n"
     ]
    },
    {
     "name": "stderr",
     "output_type": "stream",
     "text": [
      "Testing: 100%|██████████| 44/44 [00:01<00:00, 39.10it/s]\n"
     ]
    },
    {
     "name": "stdout",
     "output_type": "stream",
     "text": [
      "\n",
      "Epoch 4/30 | Test loss: 0.2281 | Test Metrics: Precision: 0.8333, Recall: 0.6817, F1: 0.7307, Hamming Loss: 0.0960\n",
      "\n"
     ]
    },
    {
     "name": "stderr",
     "output_type": "stream",
     "text": [
      "Training: 100%|██████████| 176/176 [00:13<00:00, 13.21it/s]\n"
     ]
    },
    {
     "name": "stdout",
     "output_type": "stream",
     "text": [
      "\n",
      "Epoch 5/30 | Train loss: 0.2386 | Train Metrics: Precision: 0.8054, Recall: 0.6957, F1: 0.7255, Hamming Loss: 0.0946\n",
      "\n"
     ]
    },
    {
     "name": "stderr",
     "output_type": "stream",
     "text": [
      "Testing: 100%|██████████| 44/44 [00:01<00:00, 39.10it/s]\n"
     ]
    },
    {
     "name": "stdout",
     "output_type": "stream",
     "text": [
      "\n",
      "Epoch 5/30 | Test loss: 0.2271 | Test Metrics: Precision: 0.8333, Recall: 0.6817, F1: 0.7307, Hamming Loss: 0.0960\n",
      "\n"
     ]
    },
    {
     "name": "stderr",
     "output_type": "stream",
     "text": [
      "Training: 100%|██████████| 176/176 [00:13<00:00, 13.22it/s]\n"
     ]
    },
    {
     "name": "stdout",
     "output_type": "stream",
     "text": [
      "\n",
      "Epoch 6/30 | Train loss: 0.2387 | Train Metrics: Precision: 0.8118, Recall: 0.6965, F1: 0.7296, Hamming Loss: 0.0930\n",
      "\n"
     ]
    },
    {
     "name": "stderr",
     "output_type": "stream",
     "text": [
      "Testing: 100%|██████████| 44/44 [00:01<00:00, 38.52it/s]\n"
     ]
    },
    {
     "name": "stdout",
     "output_type": "stream",
     "text": [
      "\n",
      "Epoch 6/30 | Test loss: 0.2319 | Test Metrics: Precision: 0.8333, Recall: 0.6817, F1: 0.7307, Hamming Loss: 0.0960\n",
      "\n"
     ]
    },
    {
     "name": "stderr",
     "output_type": "stream",
     "text": [
      "Training: 100%|██████████| 176/176 [00:13<00:00, 13.22it/s]\n"
     ]
    },
    {
     "name": "stdout",
     "output_type": "stream",
     "text": [
      "\n",
      "Epoch 7/30 | Train loss: 0.2380 | Train Metrics: Precision: 0.8089, Recall: 0.6967, F1: 0.7280, Hamming Loss: 0.0937\n",
      "\n"
     ]
    },
    {
     "name": "stderr",
     "output_type": "stream",
     "text": [
      "Testing: 100%|██████████| 44/44 [00:01<00:00, 39.11it/s]\n"
     ]
    },
    {
     "name": "stdout",
     "output_type": "stream",
     "text": [
      "\n",
      "Epoch 7/30 | Test loss: 0.2281 | Test Metrics: Precision: 0.8333, Recall: 0.6817, F1: 0.7307, Hamming Loss: 0.0960\n",
      "\n"
     ]
    },
    {
     "name": "stderr",
     "output_type": "stream",
     "text": [
      "Training: 100%|██████████| 176/176 [00:13<00:00, 13.22it/s]\n"
     ]
    },
    {
     "name": "stdout",
     "output_type": "stream",
     "text": [
      "\n",
      "Epoch 8/30 | Train loss: 0.2374 | Train Metrics: Precision: 0.8116, Recall: 0.6958, F1: 0.7291, Hamming Loss: 0.0932\n",
      "\n"
     ]
    },
    {
     "name": "stderr",
     "output_type": "stream",
     "text": [
      "Testing: 100%|██████████| 44/44 [00:01<00:00, 39.11it/s]\n"
     ]
    },
    {
     "name": "stdout",
     "output_type": "stream",
     "text": [
      "\n",
      "Epoch 8/30 | Test loss: 0.2315 | Test Metrics: Precision: 0.8333, Recall: 0.6817, F1: 0.7307, Hamming Loss: 0.0960\n",
      "\n"
     ]
    },
    {
     "name": "stderr",
     "output_type": "stream",
     "text": [
      "Training: 100%|██████████| 176/176 [00:13<00:00, 13.21it/s]\n"
     ]
    },
    {
     "name": "stdout",
     "output_type": "stream",
     "text": [
      "\n",
      "Epoch 9/30 | Train loss: 0.2378 | Train Metrics: Precision: 0.8052, Recall: 0.6998, F1: 0.7276, Hamming Loss: 0.0943\n",
      "\n"
     ]
    },
    {
     "name": "stderr",
     "output_type": "stream",
     "text": [
      "Testing: 100%|██████████| 44/44 [00:01<00:00, 39.10it/s]\n"
     ]
    },
    {
     "name": "stdout",
     "output_type": "stream",
     "text": [
      "\n",
      "Epoch 9/30 | Test loss: 0.2311 | Test Metrics: Precision: 0.8333, Recall: 0.6817, F1: 0.7307, Hamming Loss: 0.0960\n",
      "\n"
     ]
    },
    {
     "name": "stderr",
     "output_type": "stream",
     "text": [
      "Training: 100%|██████████| 176/176 [00:13<00:00, 13.21it/s]\n"
     ]
    },
    {
     "name": "stdout",
     "output_type": "stream",
     "text": [
      "\n",
      "Epoch 10/30 | Train loss: 0.2372 | Train Metrics: Precision: 0.8108, Recall: 0.6870, F1: 0.7226, Hamming Loss: 0.0947\n",
      "\n"
     ]
    },
    {
     "name": "stderr",
     "output_type": "stream",
     "text": [
      "Testing: 100%|██████████| 44/44 [00:01<00:00, 38.58it/s]\n"
     ]
    },
    {
     "name": "stdout",
     "output_type": "stream",
     "text": [
      "\n",
      "Epoch 10/30 | Test loss: 0.2331 | Test Metrics: Precision: 0.8333, Recall: 0.6817, F1: 0.7307, Hamming Loss: 0.0960\n",
      "\n"
     ]
    },
    {
     "name": "stderr",
     "output_type": "stream",
     "text": [
      "Training: 100%|██████████| 176/176 [00:13<00:00, 13.24it/s]\n"
     ]
    },
    {
     "name": "stdout",
     "output_type": "stream",
     "text": [
      "\n",
      "Epoch 11/30 | Train loss: 0.2377 | Train Metrics: Precision: 0.7978, Recall: 0.7198, F1: 0.7344, Hamming Loss: 0.0929\n",
      "\n"
     ]
    },
    {
     "name": "stderr",
     "output_type": "stream",
     "text": [
      "Testing: 100%|██████████| 44/44 [00:01<00:00, 39.10it/s]\n"
     ]
    },
    {
     "name": "stdout",
     "output_type": "stream",
     "text": [
      "\n",
      "Epoch 11/30 | Test loss: 0.2294 | Test Metrics: Precision: 0.8333, Recall: 0.6817, F1: 0.7307, Hamming Loss: 0.0960\n",
      "\n"
     ]
    },
    {
     "name": "stderr",
     "output_type": "stream",
     "text": [
      "Training: 100%|██████████| 176/176 [00:13<00:00, 13.22it/s]\n"
     ]
    },
    {
     "name": "stdout",
     "output_type": "stream",
     "text": [
      "\n",
      "Epoch 12/30 | Train loss: 0.2385 | Train Metrics: Precision: 0.8066, Recall: 0.7004, F1: 0.7289, Hamming Loss: 0.0938\n",
      "\n"
     ]
    },
    {
     "name": "stderr",
     "output_type": "stream",
     "text": [
      "Testing: 100%|██████████| 44/44 [00:01<00:00, 39.10it/s]\n"
     ]
    },
    {
     "name": "stdout",
     "output_type": "stream",
     "text": [
      "\n",
      "Epoch 12/30 | Test loss: 0.2312 | Test Metrics: Precision: 0.8333, Recall: 0.6817, F1: 0.7307, Hamming Loss: 0.0960\n",
      "\n"
     ]
    },
    {
     "name": "stderr",
     "output_type": "stream",
     "text": [
      "Training: 100%|██████████| 176/176 [00:13<00:00, 13.21it/s]\n"
     ]
    },
    {
     "name": "stdout",
     "output_type": "stream",
     "text": [
      "\n",
      "Epoch 13/30 | Train loss: 0.2376 | Train Metrics: Precision: 0.8116, Recall: 0.6958, F1: 0.7291, Hamming Loss: 0.0932\n",
      "\n"
     ]
    },
    {
     "name": "stderr",
     "output_type": "stream",
     "text": [
      "Testing: 100%|██████████| 44/44 [00:01<00:00, 39.11it/s]\n"
     ]
    },
    {
     "name": "stdout",
     "output_type": "stream",
     "text": [
      "\n",
      "Epoch 13/30 | Test loss: 0.2285 | Test Metrics: Precision: 0.8333, Recall: 0.6817, F1: 0.7307, Hamming Loss: 0.0960\n",
      "\n"
     ]
    },
    {
     "name": "stderr",
     "output_type": "stream",
     "text": [
      "Training: 100%|██████████| 176/176 [00:13<00:00, 13.22it/s]\n"
     ]
    },
    {
     "name": "stdout",
     "output_type": "stream",
     "text": [
      "\n",
      "Epoch 14/30 | Train loss: 0.2377 | Train Metrics: Precision: 0.8099, Recall: 0.6989, F1: 0.7295, Hamming Loss: 0.0935\n",
      "\n"
     ]
    },
    {
     "name": "stderr",
     "output_type": "stream",
     "text": [
      "Testing: 100%|██████████| 44/44 [00:01<00:00, 39.10it/s]\n"
     ]
    },
    {
     "name": "stdout",
     "output_type": "stream",
     "text": [
      "\n",
      "Epoch 14/30 | Test loss: 0.2304 | Test Metrics: Precision: 0.8333, Recall: 0.6817, F1: 0.7307, Hamming Loss: 0.0960\n",
      "\n"
     ]
    },
    {
     "name": "stderr",
     "output_type": "stream",
     "text": [
      "Training: 100%|██████████| 176/176 [00:13<00:00, 13.22it/s]\n"
     ]
    },
    {
     "name": "stdout",
     "output_type": "stream",
     "text": [
      "\n",
      "Epoch 15/30 | Train loss: 0.2375 | Train Metrics: Precision: 0.7933, Recall: 0.7097, F1: 0.7270, Hamming Loss: 0.0953\n",
      "\n"
     ]
    },
    {
     "name": "stderr",
     "output_type": "stream",
     "text": [
      "Testing: 100%|██████████| 44/44 [00:01<00:00, 39.12it/s]\n"
     ]
    },
    {
     "name": "stdout",
     "output_type": "stream",
     "text": [
      "\n",
      "Epoch 15/30 | Test loss: 0.2288 | Test Metrics: Precision: 0.8333, Recall: 0.6817, F1: 0.7307, Hamming Loss: 0.0960\n",
      "\n"
     ]
    },
    {
     "name": "stderr",
     "output_type": "stream",
     "text": [
      "Training: 100%|██████████| 176/176 [00:13<00:00, 13.21it/s]\n"
     ]
    },
    {
     "name": "stdout",
     "output_type": "stream",
     "text": [
      "\n",
      "Epoch 16/30 | Train loss: 0.2367 | Train Metrics: Precision: 0.8092, Recall: 0.6998, F1: 0.7299, Hamming Loss: 0.0932\n",
      "\n"
     ]
    },
    {
     "name": "stderr",
     "output_type": "stream",
     "text": [
      "Testing: 100%|██████████| 44/44 [00:01<00:00, 39.66it/s]\n"
     ]
    },
    {
     "name": "stdout",
     "output_type": "stream",
     "text": [
      "\n",
      "Epoch 16/30 | Test loss: 0.2290 | Test Metrics: Precision: 0.8333, Recall: 0.6817, F1: 0.7307, Hamming Loss: 0.0960\n",
      "\n"
     ]
    },
    {
     "name": "stderr",
     "output_type": "stream",
     "text": [
      "Training: 100%|██████████| 176/176 [00:13<00:00, 13.20it/s]\n"
     ]
    },
    {
     "name": "stdout",
     "output_type": "stream",
     "text": [
      "\n",
      "Epoch 17/30 | Train loss: 0.2378 | Train Metrics: Precision: 0.8120, Recall: 0.6927, F1: 0.7263, Hamming Loss: 0.0938\n",
      "\n"
     ]
    },
    {
     "name": "stderr",
     "output_type": "stream",
     "text": [
      "Testing: 100%|██████████| 44/44 [00:01<00:00, 39.11it/s]\n"
     ]
    },
    {
     "name": "stdout",
     "output_type": "stream",
     "text": [
      "\n",
      "Epoch 17/30 | Test loss: 0.2296 | Test Metrics: Precision: 0.8333, Recall: 0.6817, F1: 0.7307, Hamming Loss: 0.0960\n",
      "\n"
     ]
    },
    {
     "name": "stderr",
     "output_type": "stream",
     "text": [
      "Training: 100%|██████████| 176/176 [00:13<00:00, 13.21it/s]\n"
     ]
    },
    {
     "name": "stdout",
     "output_type": "stream",
     "text": [
      "\n",
      "Epoch 18/30 | Train loss: 0.2377 | Train Metrics: Precision: 0.8116, Recall: 0.6958, F1: 0.7291, Hamming Loss: 0.0932\n",
      "\n"
     ]
    },
    {
     "name": "stderr",
     "output_type": "stream",
     "text": [
      "Testing: 100%|██████████| 44/44 [00:01<00:00, 39.11it/s]\n"
     ]
    },
    {
     "name": "stdout",
     "output_type": "stream",
     "text": [
      "\n",
      "Epoch 18/30 | Test loss: 0.2292 | Test Metrics: Precision: 0.8333, Recall: 0.6817, F1: 0.7307, Hamming Loss: 0.0960\n",
      "\n"
     ]
    },
    {
     "name": "stderr",
     "output_type": "stream",
     "text": [
      "Training: 100%|██████████| 176/176 [00:13<00:00, 13.21it/s]\n"
     ]
    },
    {
     "name": "stdout",
     "output_type": "stream",
     "text": [
      "\n",
      "Epoch 19/30 | Train loss: 0.2373 | Train Metrics: Precision: 0.8045, Recall: 0.7050, F1: 0.7308, Hamming Loss: 0.0933\n",
      "\n"
     ]
    },
    {
     "name": "stderr",
     "output_type": "stream",
     "text": [
      "Testing: 100%|██████████| 44/44 [00:01<00:00, 39.11it/s]\n"
     ]
    },
    {
     "name": "stdout",
     "output_type": "stream",
     "text": [
      "\n",
      "Epoch 19/30 | Test loss: 0.2294 | Test Metrics: Precision: 0.8333, Recall: 0.6817, F1: 0.7307, Hamming Loss: 0.0960\n",
      "\n"
     ]
    },
    {
     "name": "stderr",
     "output_type": "stream",
     "text": [
      "Training: 100%|██████████| 176/176 [00:13<00:00, 13.21it/s]\n"
     ]
    },
    {
     "name": "stdout",
     "output_type": "stream",
     "text": [
      "\n",
      "Epoch 20/30 | Train loss: 0.2368 | Train Metrics: Precision: 0.8104, Recall: 0.6972, F1: 0.7291, Hamming Loss: 0.0933\n",
      "\n"
     ]
    },
    {
     "name": "stderr",
     "output_type": "stream",
     "text": [
      "Testing: 100%|██████████| 44/44 [00:01<00:00, 39.10it/s]\n"
     ]
    },
    {
     "name": "stdout",
     "output_type": "stream",
     "text": [
      "\n",
      "Epoch 20/30 | Test loss: 0.2303 | Test Metrics: Precision: 0.8333, Recall: 0.6817, F1: 0.7307, Hamming Loss: 0.0960\n",
      "\n"
     ]
    },
    {
     "name": "stderr",
     "output_type": "stream",
     "text": [
      "Training: 100%|██████████| 176/176 [00:13<00:00, 13.21it/s]\n"
     ]
    },
    {
     "name": "stdout",
     "output_type": "stream",
     "text": [
      "\n",
      "Epoch 21/30 | Train loss: 0.2371 | Train Metrics: Precision: 0.8040, Recall: 0.7033, F1: 0.7295, Hamming Loss: 0.0938\n",
      "\n"
     ]
    },
    {
     "name": "stderr",
     "output_type": "stream",
     "text": [
      "Testing: 100%|██████████| 44/44 [00:01<00:00, 38.57it/s]\n"
     ]
    },
    {
     "name": "stdout",
     "output_type": "stream",
     "text": [
      "\n",
      "Epoch 21/30 | Test loss: 0.2301 | Test Metrics: Precision: 0.8333, Recall: 0.6817, F1: 0.7307, Hamming Loss: 0.0960\n",
      "\n"
     ]
    },
    {
     "name": "stderr",
     "output_type": "stream",
     "text": [
      "Training: 100%|██████████| 176/176 [00:13<00:00, 13.21it/s]\n"
     ]
    },
    {
     "name": "stdout",
     "output_type": "stream",
     "text": [
      "\n",
      "Epoch 22/30 | Train loss: 0.2375 | Train Metrics: Precision: 0.8118, Recall: 0.6967, F1: 0.7296, Hamming Loss: 0.0930\n",
      "\n"
     ]
    },
    {
     "name": "stderr",
     "output_type": "stream",
     "text": [
      "Testing: 100%|██████████| 44/44 [00:01<00:00, 39.11it/s]\n"
     ]
    },
    {
     "name": "stdout",
     "output_type": "stream",
     "text": [
      "\n",
      "Epoch 22/30 | Test loss: 0.2295 | Test Metrics: Precision: 0.8333, Recall: 0.6817, F1: 0.7307, Hamming Loss: 0.0960\n",
      "\n"
     ]
    },
    {
     "name": "stderr",
     "output_type": "stream",
     "text": [
      "Training: 100%|██████████| 176/176 [00:13<00:00, 13.21it/s]\n"
     ]
    },
    {
     "name": "stdout",
     "output_type": "stream",
     "text": [
      "\n",
      "Epoch 23/30 | Train loss: 0.2371 | Train Metrics: Precision: 0.8052, Recall: 0.6990, F1: 0.7275, Hamming Loss: 0.0943\n",
      "\n"
     ]
    },
    {
     "name": "stderr",
     "output_type": "stream",
     "text": [
      "Testing: 100%|██████████| 44/44 [00:01<00:00, 38.58it/s]\n"
     ]
    },
    {
     "name": "stdout",
     "output_type": "stream",
     "text": [
      "\n",
      "Epoch 23/30 | Test loss: 0.2280 | Test Metrics: Precision: 0.8333, Recall: 0.6817, F1: 0.7307, Hamming Loss: 0.0960\n",
      "\n"
     ]
    },
    {
     "name": "stderr",
     "output_type": "stream",
     "text": [
      "Training: 100%|██████████| 176/176 [00:13<00:00, 13.21it/s]\n"
     ]
    },
    {
     "name": "stdout",
     "output_type": "stream",
     "text": [
      "\n",
      "Epoch 24/30 | Train loss: 0.2374 | Train Metrics: Precision: 0.8052, Recall: 0.7092, F1: 0.7333, Hamming Loss: 0.0926\n",
      "\n"
     ]
    },
    {
     "name": "stderr",
     "output_type": "stream",
     "text": [
      "Testing: 100%|██████████| 44/44 [00:01<00:00, 39.10it/s]\n"
     ]
    },
    {
     "name": "stdout",
     "output_type": "stream",
     "text": [
      "\n",
      "Epoch 24/30 | Test loss: 0.2287 | Test Metrics: Precision: 0.8333, Recall: 0.6817, F1: 0.7307, Hamming Loss: 0.0960\n",
      "\n"
     ]
    },
    {
     "name": "stderr",
     "output_type": "stream",
     "text": [
      "Training: 100%|██████████| 176/176 [00:13<00:00, 13.19it/s]\n"
     ]
    },
    {
     "name": "stdout",
     "output_type": "stream",
     "text": [
      "\n",
      "Epoch 25/30 | Train loss: 0.2372 | Train Metrics: Precision: 0.8011, Recall: 0.7091, F1: 0.7316, Hamming Loss: 0.0936\n",
      "\n"
     ]
    },
    {
     "name": "stderr",
     "output_type": "stream",
     "text": [
      "Testing: 100%|██████████| 44/44 [00:01<00:00, 39.11it/s]\n"
     ]
    },
    {
     "name": "stdout",
     "output_type": "stream",
     "text": [
      "\n",
      "Epoch 25/30 | Test loss: 0.2305 | Test Metrics: Precision: 0.8333, Recall: 0.6817, F1: 0.7307, Hamming Loss: 0.0960\n",
      "\n"
     ]
    },
    {
     "name": "stderr",
     "output_type": "stream",
     "text": [
      "Training: 100%|██████████| 176/176 [00:13<00:00, 13.22it/s]\n"
     ]
    },
    {
     "name": "stdout",
     "output_type": "stream",
     "text": [
      "\n",
      "Epoch 26/30 | Train loss: 0.2373 | Train Metrics: Precision: 0.8089, Recall: 0.6977, F1: 0.7275, Hamming Loss: 0.0940\n",
      "\n"
     ]
    },
    {
     "name": "stderr",
     "output_type": "stream",
     "text": [
      "Testing: 100%|██████████| 44/44 [00:01<00:00, 39.66it/s]\n"
     ]
    },
    {
     "name": "stdout",
     "output_type": "stream",
     "text": [
      "\n",
      "Epoch 26/30 | Test loss: 0.2323 | Test Metrics: Precision: 0.8333, Recall: 0.6817, F1: 0.7307, Hamming Loss: 0.0960\n",
      "\n"
     ]
    },
    {
     "name": "stderr",
     "output_type": "stream",
     "text": [
      "Training: 100%|██████████| 176/176 [00:13<00:00, 13.21it/s]\n"
     ]
    },
    {
     "name": "stdout",
     "output_type": "stream",
     "text": [
      "\n",
      "Epoch 27/30 | Train loss: 0.2374 | Train Metrics: Precision: 0.8113, Recall: 0.6972, F1: 0.7297, Hamming Loss: 0.0930\n",
      "\n"
     ]
    },
    {
     "name": "stderr",
     "output_type": "stream",
     "text": [
      "Testing: 100%|██████████| 44/44 [00:01<00:00, 39.11it/s]\n"
     ]
    },
    {
     "name": "stdout",
     "output_type": "stream",
     "text": [
      "\n",
      "Epoch 27/30 | Test loss: 0.2282 | Test Metrics: Precision: 0.8333, Recall: 0.6817, F1: 0.7307, Hamming Loss: 0.0960\n",
      "\n"
     ]
    },
    {
     "name": "stderr",
     "output_type": "stream",
     "text": [
      "Training: 100%|██████████| 176/176 [00:13<00:00, 13.19it/s]\n"
     ]
    },
    {
     "name": "stdout",
     "output_type": "stream",
     "text": [
      "\n",
      "Epoch 28/30 | Train loss: 0.2375 | Train Metrics: Precision: 0.8097, Recall: 0.6962, F1: 0.7281, Hamming Loss: 0.0936\n",
      "\n"
     ]
    },
    {
     "name": "stderr",
     "output_type": "stream",
     "text": [
      "Testing: 100%|██████████| 44/44 [00:01<00:00, 39.12it/s]\n"
     ]
    },
    {
     "name": "stdout",
     "output_type": "stream",
     "text": [
      "\n",
      "Epoch 28/30 | Test loss: 0.2288 | Test Metrics: Precision: 0.8333, Recall: 0.6817, F1: 0.7307, Hamming Loss: 0.0960\n",
      "\n"
     ]
    },
    {
     "name": "stderr",
     "output_type": "stream",
     "text": [
      "Training: 100%|██████████| 176/176 [00:13<00:00, 13.19it/s]\n"
     ]
    },
    {
     "name": "stdout",
     "output_type": "stream",
     "text": [
      "\n",
      "Epoch 29/30 | Train loss: 0.2371 | Train Metrics: Precision: 0.8116, Recall: 0.6958, F1: 0.7291, Hamming Loss: 0.0932\n",
      "\n"
     ]
    },
    {
     "name": "stderr",
     "output_type": "stream",
     "text": [
      "Testing: 100%|██████████| 44/44 [00:01<00:00, 38.57it/s]\n"
     ]
    },
    {
     "name": "stdout",
     "output_type": "stream",
     "text": [
      "\n",
      "Epoch 29/30 | Test loss: 0.2312 | Test Metrics: Precision: 0.8333, Recall: 0.6817, F1: 0.7307, Hamming Loss: 0.0960\n",
      "\n"
     ]
    },
    {
     "name": "stderr",
     "output_type": "stream",
     "text": [
      "Training: 100%|██████████| 176/176 [00:13<00:00, 13.19it/s]\n"
     ]
    },
    {
     "name": "stdout",
     "output_type": "stream",
     "text": [
      "\n",
      "Epoch 30/30 | Train loss: 0.2373 | Train Metrics: Precision: 0.8061, Recall: 0.7011, F1: 0.7291, Hamming Loss: 0.0935\n",
      "\n"
     ]
    },
    {
     "name": "stderr",
     "output_type": "stream",
     "text": [
      "Testing: 100%|██████████| 44/44 [00:01<00:00, 39.10it/s]\n"
     ]
    },
    {
     "name": "stdout",
     "output_type": "stream",
     "text": [
      "\n",
      "Epoch 30/30 | Test loss: 0.2290 | Test Metrics: Precision: 0.8333, Recall: 0.6817, F1: 0.7307, Hamming Loss: 0.0960\n",
      "\n",
      "Starting Fold 4\n"
     ]
    },
    {
     "name": "stderr",
     "output_type": "stream",
     "text": [
      "Training: 100%|██████████| 176/176 [00:13<00:00, 13.19it/s]\n"
     ]
    },
    {
     "name": "stdout",
     "output_type": "stream",
     "text": [
      "\n",
      "Epoch 1/30 | Train loss: 0.2326 | Train Metrics: Precision: 0.8144, Recall: 0.7010, F1: 0.7318, Hamming Loss: 0.0926\n",
      "\n"
     ]
    },
    {
     "name": "stderr",
     "output_type": "stream",
     "text": [
      "Testing: 100%|██████████| 44/44 [00:01<00:00, 39.10it/s]\n"
     ]
    },
    {
     "name": "stdout",
     "output_type": "stream",
     "text": [
      "\n",
      "Epoch 1/30 | Test loss: 0.2447 | Test Metrics: Precision: 0.8220, Recall: 0.6646, F1: 0.7213, Hamming Loss: 0.0983\n",
      "\n"
     ]
    },
    {
     "name": "stderr",
     "output_type": "stream",
     "text": [
      "Training: 100%|██████████| 176/176 [00:13<00:00, 13.08it/s]\n"
     ]
    },
    {
     "name": "stdout",
     "output_type": "stream",
     "text": [
      "\n",
      "Epoch 2/30 | Train loss: 0.2334 | Train Metrics: Precision: 0.8137, Recall: 0.7008, F1: 0.7313, Hamming Loss: 0.0928\n",
      "\n"
     ]
    },
    {
     "name": "stderr",
     "output_type": "stream",
     "text": [
      "Testing: 100%|██████████| 44/44 [00:01<00:00, 38.05it/s]\n"
     ]
    },
    {
     "name": "stdout",
     "output_type": "stream",
     "text": [
      "\n",
      "Epoch 2/30 | Test loss: 0.2434 | Test Metrics: Precision: 0.8220, Recall: 0.6646, F1: 0.7213, Hamming Loss: 0.0983\n",
      "\n"
     ]
    },
    {
     "name": "stderr",
     "output_type": "stream",
     "text": [
      "Training: 100%|██████████| 176/176 [00:13<00:00, 13.08it/s]\n"
     ]
    },
    {
     "name": "stdout",
     "output_type": "stream",
     "text": [
      "\n",
      "Epoch 3/30 | Train loss: 0.2322 | Train Metrics: Precision: 0.8085, Recall: 0.7032, F1: 0.7305, Hamming Loss: 0.0935\n",
      "\n"
     ]
    },
    {
     "name": "stderr",
     "output_type": "stream",
     "text": [
      "Testing: 100%|██████████| 44/44 [00:01<00:00, 39.10it/s]\n"
     ]
    },
    {
     "name": "stdout",
     "output_type": "stream",
     "text": [
      "\n",
      "Epoch 3/30 | Test loss: 0.2442 | Test Metrics: Precision: 0.8220, Recall: 0.6646, F1: 0.7213, Hamming Loss: 0.0983\n",
      "\n"
     ]
    },
    {
     "name": "stderr",
     "output_type": "stream",
     "text": [
      "Training: 100%|██████████| 176/176 [00:13<00:00, 13.19it/s]\n"
     ]
    },
    {
     "name": "stdout",
     "output_type": "stream",
     "text": [
      "\n",
      "Epoch 4/30 | Train loss: 0.2337 | Train Metrics: Precision: 0.8144, Recall: 0.7001, F1: 0.7314, Hamming Loss: 0.0926\n",
      "\n"
     ]
    },
    {
     "name": "stderr",
     "output_type": "stream",
     "text": [
      "Testing: 100%|██████████| 44/44 [00:01<00:00, 38.57it/s]\n"
     ]
    },
    {
     "name": "stdout",
     "output_type": "stream",
     "text": [
      "\n",
      "Epoch 4/30 | Test loss: 0.2450 | Test Metrics: Precision: 0.8220, Recall: 0.6646, F1: 0.7213, Hamming Loss: 0.0983\n",
      "\n"
     ]
    },
    {
     "name": "stderr",
     "output_type": "stream",
     "text": [
      "Training: 100%|██████████| 176/176 [00:13<00:00, 13.21it/s]\n"
     ]
    },
    {
     "name": "stdout",
     "output_type": "stream",
     "text": [
      "\n",
      "Epoch 5/30 | Train loss: 0.2334 | Train Metrics: Precision: 0.8137, Recall: 0.7001, F1: 0.7311, Hamming Loss: 0.0928\n",
      "\n"
     ]
    },
    {
     "name": "stderr",
     "output_type": "stream",
     "text": [
      "Testing: 100%|██████████| 44/44 [00:01<00:00, 39.10it/s]\n"
     ]
    },
    {
     "name": "stdout",
     "output_type": "stream",
     "text": [
      "\n",
      "Epoch 5/30 | Test loss: 0.2432 | Test Metrics: Precision: 0.8220, Recall: 0.6646, F1: 0.7213, Hamming Loss: 0.0983\n",
      "\n"
     ]
    },
    {
     "name": "stderr",
     "output_type": "stream",
     "text": [
      "Training: 100%|██████████| 176/176 [00:13<00:00, 13.19it/s]\n"
     ]
    },
    {
     "name": "stdout",
     "output_type": "stream",
     "text": [
      "\n",
      "Epoch 6/30 | Train loss: 0.2326 | Train Metrics: Precision: 0.8144, Recall: 0.7001, F1: 0.7314, Hamming Loss: 0.0926\n",
      "\n"
     ]
    },
    {
     "name": "stderr",
     "output_type": "stream",
     "text": [
      "Testing: 100%|██████████| 44/44 [00:01<00:00, 39.10it/s]\n"
     ]
    },
    {
     "name": "stdout",
     "output_type": "stream",
     "text": [
      "\n",
      "Epoch 6/30 | Test loss: 0.2434 | Test Metrics: Precision: 0.8220, Recall: 0.6646, F1: 0.7213, Hamming Loss: 0.0983\n",
      "\n"
     ]
    },
    {
     "name": "stderr",
     "output_type": "stream",
     "text": [
      "Training: 100%|██████████| 176/176 [00:13<00:00, 13.18it/s]\n"
     ]
    },
    {
     "name": "stdout",
     "output_type": "stream",
     "text": [
      "\n",
      "Epoch 7/30 | Train loss: 0.2332 | Train Metrics: Precision: 0.8144, Recall: 0.7001, F1: 0.7314, Hamming Loss: 0.0926\n",
      "\n"
     ]
    },
    {
     "name": "stderr",
     "output_type": "stream",
     "text": [
      "Testing: 100%|██████████| 44/44 [00:01<00:00, 39.30it/s]\n"
     ]
    },
    {
     "name": "stdout",
     "output_type": "stream",
     "text": [
      "\n",
      "Epoch 7/30 | Test loss: 0.2437 | Test Metrics: Precision: 0.8220, Recall: 0.6646, F1: 0.7213, Hamming Loss: 0.0983\n",
      "\n"
     ]
    },
    {
     "name": "stderr",
     "output_type": "stream",
     "text": [
      "Training: 100%|██████████| 176/176 [00:13<00:00, 13.20it/s]\n"
     ]
    },
    {
     "name": "stdout",
     "output_type": "stream",
     "text": [
      "\n",
      "Epoch 8/30 | Train loss: 0.2325 | Train Metrics: Precision: 0.8130, Recall: 0.7008, F1: 0.7310, Hamming Loss: 0.0928\n",
      "\n"
     ]
    },
    {
     "name": "stderr",
     "output_type": "stream",
     "text": [
      "Testing: 100%|██████████| 44/44 [00:01<00:00, 39.11it/s]\n"
     ]
    },
    {
     "name": "stdout",
     "output_type": "stream",
     "text": [
      "\n",
      "Epoch 8/30 | Test loss: 0.2435 | Test Metrics: Precision: 0.8220, Recall: 0.6646, F1: 0.7213, Hamming Loss: 0.0983\n",
      "\n"
     ]
    },
    {
     "name": "stderr",
     "output_type": "stream",
     "text": [
      "Training: 100%|██████████| 176/176 [00:13<00:00, 13.19it/s]\n"
     ]
    },
    {
     "name": "stdout",
     "output_type": "stream",
     "text": [
      "\n",
      "Epoch 9/30 | Train loss: 0.2327 | Train Metrics: Precision: 0.8137, Recall: 0.7005, F1: 0.7314, Hamming Loss: 0.0926\n",
      "\n"
     ]
    },
    {
     "name": "stderr",
     "output_type": "stream",
     "text": [
      "Testing: 100%|██████████| 44/44 [00:01<00:00, 39.10it/s]\n"
     ]
    },
    {
     "name": "stdout",
     "output_type": "stream",
     "text": [
      "\n",
      "Epoch 9/30 | Test loss: 0.2453 | Test Metrics: Precision: 0.8220, Recall: 0.6646, F1: 0.7213, Hamming Loss: 0.0983\n",
      "\n"
     ]
    },
    {
     "name": "stderr",
     "output_type": "stream",
     "text": [
      "Training: 100%|██████████| 176/176 [00:13<00:00, 13.19it/s]\n"
     ]
    },
    {
     "name": "stdout",
     "output_type": "stream",
     "text": [
      "\n",
      "Epoch 10/30 | Train loss: 0.2331 | Train Metrics: Precision: 0.8082, Recall: 0.7047, F1: 0.7310, Hamming Loss: 0.0933\n",
      "\n"
     ]
    },
    {
     "name": "stderr",
     "output_type": "stream",
     "text": [
      "Testing: 100%|██████████| 44/44 [00:01<00:00, 39.11it/s]\n"
     ]
    },
    {
     "name": "stdout",
     "output_type": "stream",
     "text": [
      "\n",
      "Epoch 10/30 | Test loss: 0.2435 | Test Metrics: Precision: 0.8220, Recall: 0.6646, F1: 0.7213, Hamming Loss: 0.0983\n",
      "\n"
     ]
    },
    {
     "name": "stderr",
     "output_type": "stream",
     "text": [
      "Training: 100%|██████████| 176/176 [00:13<00:00, 13.17it/s]\n"
     ]
    },
    {
     "name": "stdout",
     "output_type": "stream",
     "text": [
      "\n",
      "Epoch 11/30 | Train loss: 0.2319 | Train Metrics: Precision: 0.8070, Recall: 0.7100, F1: 0.7333, Hamming Loss: 0.0928\n",
      "\n"
     ]
    },
    {
     "name": "stderr",
     "output_type": "stream",
     "text": [
      "Testing: 100%|██████████| 44/44 [00:01<00:00, 39.10it/s]\n"
     ]
    },
    {
     "name": "stdout",
     "output_type": "stream",
     "text": [
      "\n",
      "Epoch 11/30 | Test loss: 0.2433 | Test Metrics: Precision: 0.8220, Recall: 0.6646, F1: 0.7213, Hamming Loss: 0.0983\n",
      "\n"
     ]
    },
    {
     "name": "stderr",
     "output_type": "stream",
     "text": [
      "Training: 100%|██████████| 176/176 [00:13<00:00, 13.19it/s]\n"
     ]
    },
    {
     "name": "stdout",
     "output_type": "stream",
     "text": [
      "\n",
      "Epoch 12/30 | Train loss: 0.2322 | Train Metrics: Precision: 0.8144, Recall: 0.7001, F1: 0.7314, Hamming Loss: 0.0926\n",
      "\n"
     ]
    },
    {
     "name": "stderr",
     "output_type": "stream",
     "text": [
      "Testing: 100%|██████████| 44/44 [00:01<00:00, 39.12it/s]\n"
     ]
    },
    {
     "name": "stdout",
     "output_type": "stream",
     "text": [
      "\n",
      "Epoch 12/30 | Test loss: 0.2448 | Test Metrics: Precision: 0.8220, Recall: 0.6646, F1: 0.7213, Hamming Loss: 0.0983\n",
      "\n"
     ]
    },
    {
     "name": "stderr",
     "output_type": "stream",
     "text": [
      "Training: 100%|██████████| 176/176 [00:13<00:00, 13.19it/s]\n"
     ]
    },
    {
     "name": "stdout",
     "output_type": "stream",
     "text": [
      "\n",
      "Epoch 13/30 | Train loss: 0.2329 | Train Metrics: Precision: 0.8139, Recall: 0.7001, F1: 0.7311, Hamming Loss: 0.0928\n",
      "\n"
     ]
    },
    {
     "name": "stderr",
     "output_type": "stream",
     "text": [
      "Testing: 100%|██████████| 44/44 [00:01<00:00, 39.11it/s]\n"
     ]
    },
    {
     "name": "stdout",
     "output_type": "stream",
     "text": [
      "\n",
      "Epoch 13/30 | Test loss: 0.2436 | Test Metrics: Precision: 0.8220, Recall: 0.6646, F1: 0.7213, Hamming Loss: 0.0983\n",
      "\n"
     ]
    },
    {
     "name": "stderr",
     "output_type": "stream",
     "text": [
      "Training: 100%|██████████| 176/176 [00:13<00:00, 13.17it/s]\n"
     ]
    },
    {
     "name": "stdout",
     "output_type": "stream",
     "text": [
      "\n",
      "Epoch 14/30 | Train loss: 0.2324 | Train Metrics: Precision: 0.8059, Recall: 0.7063, F1: 0.7307, Hamming Loss: 0.0936\n",
      "\n"
     ]
    },
    {
     "name": "stderr",
     "output_type": "stream",
     "text": [
      "Testing: 100%|██████████| 44/44 [00:01<00:00, 39.27it/s]\n"
     ]
    },
    {
     "name": "stdout",
     "output_type": "stream",
     "text": [
      "\n",
      "Epoch 14/30 | Test loss: 0.2448 | Test Metrics: Precision: 0.8220, Recall: 0.6646, F1: 0.7213, Hamming Loss: 0.0983\n",
      "\n"
     ]
    },
    {
     "name": "stderr",
     "output_type": "stream",
     "text": [
      "Training: 100%|██████████| 176/176 [00:13<00:00, 13.19it/s]\n"
     ]
    },
    {
     "name": "stdout",
     "output_type": "stream",
     "text": [
      "\n",
      "Epoch 15/30 | Train loss: 0.2327 | Train Metrics: Precision: 0.8144, Recall: 0.7001, F1: 0.7314, Hamming Loss: 0.0926\n",
      "\n"
     ]
    },
    {
     "name": "stderr",
     "output_type": "stream",
     "text": [
      "Testing: 100%|██████████| 44/44 [00:01<00:00, 39.11it/s]\n"
     ]
    },
    {
     "name": "stdout",
     "output_type": "stream",
     "text": [
      "\n",
      "Epoch 15/30 | Test loss: 0.2452 | Test Metrics: Precision: 0.8220, Recall: 0.6646, F1: 0.7213, Hamming Loss: 0.0983\n",
      "\n"
     ]
    },
    {
     "name": "stderr",
     "output_type": "stream",
     "text": [
      "Training: 100%|██████████| 176/176 [00:13<00:00, 13.19it/s]\n"
     ]
    },
    {
     "name": "stdout",
     "output_type": "stream",
     "text": [
      "\n",
      "Epoch 16/30 | Train loss: 0.2324 | Train Metrics: Precision: 0.8094, Recall: 0.7025, F1: 0.7302, Hamming Loss: 0.0933\n",
      "\n"
     ]
    },
    {
     "name": "stderr",
     "output_type": "stream",
     "text": [
      "Testing: 100%|██████████| 44/44 [00:01<00:00, 39.11it/s]\n"
     ]
    },
    {
     "name": "stdout",
     "output_type": "stream",
     "text": [
      "\n",
      "Epoch 16/30 | Test loss: 0.2456 | Test Metrics: Precision: 0.8220, Recall: 0.6646, F1: 0.7213, Hamming Loss: 0.0983\n",
      "\n"
     ]
    },
    {
     "name": "stderr",
     "output_type": "stream",
     "text": [
      "Training: 100%|██████████| 176/176 [00:13<00:00, 13.21it/s]\n"
     ]
    },
    {
     "name": "stdout",
     "output_type": "stream",
     "text": [
      "\n",
      "Epoch 17/30 | Train loss: 0.2330 | Train Metrics: Precision: 0.8144, Recall: 0.7001, F1: 0.7314, Hamming Loss: 0.0926\n",
      "\n"
     ]
    },
    {
     "name": "stderr",
     "output_type": "stream",
     "text": [
      "Testing: 100%|██████████| 44/44 [00:01<00:00, 39.66it/s]\n"
     ]
    },
    {
     "name": "stdout",
     "output_type": "stream",
     "text": [
      "\n",
      "Epoch 17/30 | Test loss: 0.2454 | Test Metrics: Precision: 0.8220, Recall: 0.6646, F1: 0.7213, Hamming Loss: 0.0983\n",
      "\n"
     ]
    },
    {
     "name": "stderr",
     "output_type": "stream",
     "text": [
      "Training: 100%|██████████| 176/176 [00:13<00:00, 13.21it/s]\n"
     ]
    },
    {
     "name": "stdout",
     "output_type": "stream",
     "text": [
      "\n",
      "Epoch 18/30 | Train loss: 0.2328 | Train Metrics: Precision: 0.8144, Recall: 0.7001, F1: 0.7314, Hamming Loss: 0.0926\n",
      "\n"
     ]
    },
    {
     "name": "stderr",
     "output_type": "stream",
     "text": [
      "Testing: 100%|██████████| 44/44 [00:01<00:00, 39.11it/s]\n"
     ]
    },
    {
     "name": "stdout",
     "output_type": "stream",
     "text": [
      "\n",
      "Epoch 18/30 | Test loss: 0.2446 | Test Metrics: Precision: 0.8220, Recall: 0.6646, F1: 0.7213, Hamming Loss: 0.0983\n",
      "\n"
     ]
    },
    {
     "name": "stderr",
     "output_type": "stream",
     "text": [
      "Training: 100%|██████████| 176/176 [00:13<00:00, 13.19it/s]\n"
     ]
    },
    {
     "name": "stdout",
     "output_type": "stream",
     "text": [
      "\n",
      "Epoch 19/30 | Train loss: 0.2325 | Train Metrics: Precision: 0.8130, Recall: 0.7001, F1: 0.7308, Hamming Loss: 0.0929\n",
      "\n"
     ]
    },
    {
     "name": "stderr",
     "output_type": "stream",
     "text": [
      "Testing: 100%|██████████| 44/44 [00:01<00:00, 39.11it/s]\n"
     ]
    },
    {
     "name": "stdout",
     "output_type": "stream",
     "text": [
      "\n",
      "Epoch 19/30 | Test loss: 0.2454 | Test Metrics: Precision: 0.8220, Recall: 0.6646, F1: 0.7213, Hamming Loss: 0.0983\n",
      "\n"
     ]
    },
    {
     "name": "stderr",
     "output_type": "stream",
     "text": [
      "Training: 100%|██████████| 176/176 [00:13<00:00, 13.19it/s]\n"
     ]
    },
    {
     "name": "stdout",
     "output_type": "stream",
     "text": [
      "\n",
      "Epoch 20/30 | Train loss: 0.2333 | Train Metrics: Precision: 0.8144, Recall: 0.7001, F1: 0.7314, Hamming Loss: 0.0926\n",
      "\n"
     ]
    },
    {
     "name": "stderr",
     "output_type": "stream",
     "text": [
      "Testing: 100%|██████████| 44/44 [00:01<00:00, 39.12it/s]\n"
     ]
    },
    {
     "name": "stdout",
     "output_type": "stream",
     "text": [
      "\n",
      "Epoch 20/30 | Test loss: 0.2435 | Test Metrics: Precision: 0.8220, Recall: 0.6646, F1: 0.7213, Hamming Loss: 0.0983\n",
      "\n"
     ]
    },
    {
     "name": "stderr",
     "output_type": "stream",
     "text": [
      "Training: 100%|██████████| 176/176 [00:13<00:00, 13.19it/s]\n"
     ]
    },
    {
     "name": "stdout",
     "output_type": "stream",
     "text": [
      "\n",
      "Epoch 21/30 | Train loss: 0.2329 | Train Metrics: Precision: 0.8144, Recall: 0.7001, F1: 0.7314, Hamming Loss: 0.0926\n",
      "\n"
     ]
    },
    {
     "name": "stderr",
     "output_type": "stream",
     "text": [
      "Testing: 100%|██████████| 44/44 [00:01<00:00, 38.99it/s]\n"
     ]
    },
    {
     "name": "stdout",
     "output_type": "stream",
     "text": [
      "\n",
      "Epoch 21/30 | Test loss: 0.2438 | Test Metrics: Precision: 0.8220, Recall: 0.6646, F1: 0.7213, Hamming Loss: 0.0983\n",
      "\n"
     ]
    },
    {
     "name": "stderr",
     "output_type": "stream",
     "text": [
      "Training: 100%|██████████| 176/176 [00:13<00:00, 13.17it/s]\n"
     ]
    },
    {
     "name": "stdout",
     "output_type": "stream",
     "text": [
      "\n",
      "Epoch 22/30 | Train loss: 0.2319 | Train Metrics: Precision: 0.8064, Recall: 0.7057, F1: 0.7304, Hamming Loss: 0.0935\n",
      "\n"
     ]
    },
    {
     "name": "stderr",
     "output_type": "stream",
     "text": [
      "Testing: 100%|██████████| 44/44 [00:01<00:00, 39.12it/s]\n"
     ]
    },
    {
     "name": "stdout",
     "output_type": "stream",
     "text": [
      "\n",
      "Epoch 22/30 | Test loss: 0.2437 | Test Metrics: Precision: 0.8220, Recall: 0.6646, F1: 0.7213, Hamming Loss: 0.0983\n",
      "\n"
     ]
    },
    {
     "name": "stderr",
     "output_type": "stream",
     "text": [
      "Training: 100%|██████████| 176/176 [00:13<00:00, 13.19it/s]\n"
     ]
    },
    {
     "name": "stdout",
     "output_type": "stream",
     "text": [
      "\n",
      "Epoch 23/30 | Train loss: 0.2326 | Train Metrics: Precision: 0.8144, Recall: 0.7001, F1: 0.7314, Hamming Loss: 0.0926\n",
      "\n"
     ]
    },
    {
     "name": "stderr",
     "output_type": "stream",
     "text": [
      "Testing: 100%|██████████| 44/44 [00:01<00:00, 38.77it/s]\n"
     ]
    },
    {
     "name": "stdout",
     "output_type": "stream",
     "text": [
      "\n",
      "Epoch 23/30 | Test loss: 0.2440 | Test Metrics: Precision: 0.8220, Recall: 0.6646, F1: 0.7213, Hamming Loss: 0.0983\n",
      "\n"
     ]
    },
    {
     "name": "stderr",
     "output_type": "stream",
     "text": [
      "Training: 100%|██████████| 176/176 [00:13<00:00, 13.18it/s]\n"
     ]
    },
    {
     "name": "stdout",
     "output_type": "stream",
     "text": [
      "\n",
      "Epoch 24/30 | Train loss: 0.2324 | Train Metrics: Precision: 0.8144, Recall: 0.7001, F1: 0.7314, Hamming Loss: 0.0926\n",
      "\n"
     ]
    },
    {
     "name": "stderr",
     "output_type": "stream",
     "text": [
      "Testing: 100%|██████████| 44/44 [00:01<00:00, 39.12it/s]\n"
     ]
    },
    {
     "name": "stdout",
     "output_type": "stream",
     "text": [
      "\n",
      "Epoch 24/30 | Test loss: 0.2454 | Test Metrics: Precision: 0.8220, Recall: 0.6646, F1: 0.7213, Hamming Loss: 0.0983\n",
      "\n"
     ]
    },
    {
     "name": "stderr",
     "output_type": "stream",
     "text": [
      "Training: 100%|██████████| 176/176 [00:13<00:00, 13.19it/s]\n"
     ]
    },
    {
     "name": "stdout",
     "output_type": "stream",
     "text": [
      "\n",
      "Epoch 25/30 | Train loss: 0.2326 | Train Metrics: Precision: 0.8006, Recall: 0.7136, F1: 0.7312, Hamming Loss: 0.0940\n",
      "\n"
     ]
    },
    {
     "name": "stderr",
     "output_type": "stream",
     "text": [
      "Testing: 100%|██████████| 44/44 [00:01<00:00, 39.11it/s]\n"
     ]
    },
    {
     "name": "stdout",
     "output_type": "stream",
     "text": [
      "\n",
      "Epoch 25/30 | Test loss: 0.2439 | Test Metrics: Precision: 0.8220, Recall: 0.6646, F1: 0.7213, Hamming Loss: 0.0983\n",
      "\n"
     ]
    },
    {
     "name": "stderr",
     "output_type": "stream",
     "text": [
      "Training: 100%|██████████| 176/176 [00:13<00:00, 13.21it/s]\n"
     ]
    },
    {
     "name": "stdout",
     "output_type": "stream",
     "text": [
      "\n",
      "Epoch 26/30 | Train loss: 0.2330 | Train Metrics: Precision: 0.8063, Recall: 0.7034, F1: 0.7291, Hamming Loss: 0.0939\n",
      "\n"
     ]
    },
    {
     "name": "stderr",
     "output_type": "stream",
     "text": [
      "Testing: 100%|██████████| 44/44 [00:01<00:00, 38.57it/s]\n"
     ]
    },
    {
     "name": "stdout",
     "output_type": "stream",
     "text": [
      "\n",
      "Epoch 26/30 | Test loss: 0.2438 | Test Metrics: Precision: 0.8220, Recall: 0.6646, F1: 0.7213, Hamming Loss: 0.0983\n",
      "\n"
     ]
    },
    {
     "name": "stderr",
     "output_type": "stream",
     "text": [
      "Training: 100%|██████████| 176/176 [00:13<00:00, 13.19it/s]\n"
     ]
    },
    {
     "name": "stdout",
     "output_type": "stream",
     "text": [
      "\n",
      "Epoch 27/30 | Train loss: 0.2320 | Train Metrics: Precision: 0.8144, Recall: 0.7001, F1: 0.7314, Hamming Loss: 0.0926\n",
      "\n"
     ]
    },
    {
     "name": "stderr",
     "output_type": "stream",
     "text": [
      "Testing: 100%|██████████| 44/44 [00:01<00:00, 39.12it/s]\n"
     ]
    },
    {
     "name": "stdout",
     "output_type": "stream",
     "text": [
      "\n",
      "Epoch 27/30 | Test loss: 0.2444 | Test Metrics: Precision: 0.8220, Recall: 0.6646, F1: 0.7213, Hamming Loss: 0.0983\n",
      "\n"
     ]
    },
    {
     "name": "stderr",
     "output_type": "stream",
     "text": [
      "Training: 100%|██████████| 176/176 [00:13<00:00, 13.10it/s]\n"
     ]
    },
    {
     "name": "stdout",
     "output_type": "stream",
     "text": [
      "\n",
      "Epoch 28/30 | Train loss: 0.2329 | Train Metrics: Precision: 0.8144, Recall: 0.7001, F1: 0.7314, Hamming Loss: 0.0926\n",
      "\n"
     ]
    },
    {
     "name": "stderr",
     "output_type": "stream",
     "text": [
      "Testing: 100%|██████████| 44/44 [00:01<00:00, 38.58it/s]\n"
     ]
    },
    {
     "name": "stdout",
     "output_type": "stream",
     "text": [
      "\n",
      "Epoch 28/30 | Test loss: 0.2435 | Test Metrics: Precision: 0.8220, Recall: 0.6646, F1: 0.7213, Hamming Loss: 0.0983\n",
      "\n"
     ]
    },
    {
     "name": "stderr",
     "output_type": "stream",
     "text": [
      "Training: 100%|██████████| 176/176 [00:12<00:00, 14.62it/s]\n"
     ]
    },
    {
     "name": "stdout",
     "output_type": "stream",
     "text": [
      "\n",
      "Epoch 29/30 | Train loss: 0.2318 | Train Metrics: Precision: 0.8061, Recall: 0.7070, F1: 0.7299, Hamming Loss: 0.0939\n",
      "\n"
     ]
    },
    {
     "name": "stderr",
     "output_type": "stream",
     "text": [
      "Testing: 100%|██████████| 44/44 [00:01<00:00, 38.58it/s]\n"
     ]
    },
    {
     "name": "stdout",
     "output_type": "stream",
     "text": [
      "\n",
      "Epoch 29/30 | Test loss: 0.2463 | Test Metrics: Precision: 0.8220, Recall: 0.6646, F1: 0.7213, Hamming Loss: 0.0983\n",
      "\n"
     ]
    },
    {
     "name": "stderr",
     "output_type": "stream",
     "text": [
      "Training: 100%|██████████| 176/176 [00:13<00:00, 13.19it/s]\n"
     ]
    },
    {
     "name": "stdout",
     "output_type": "stream",
     "text": [
      "\n",
      "Epoch 30/30 | Train loss: 0.2332 | Train Metrics: Precision: 0.8144, Recall: 0.7001, F1: 0.7314, Hamming Loss: 0.0926\n",
      "\n"
     ]
    },
    {
     "name": "stderr",
     "output_type": "stream",
     "text": [
      "Testing: 100%|██████████| 44/44 [00:01<00:00, 39.12it/s]\n"
     ]
    },
    {
     "name": "stdout",
     "output_type": "stream",
     "text": [
      "\n",
      "Epoch 30/30 | Test loss: 0.2430 | Test Metrics: Precision: 0.8220, Recall: 0.6646, F1: 0.7213, Hamming Loss: 0.0983\n",
      "\n",
      "Starting Fold 5\n"
     ]
    },
    {
     "name": "stderr",
     "output_type": "stream",
     "text": [
      "Training: 100%|██████████| 176/176 [00:13<00:00, 13.17it/s]\n"
     ]
    },
    {
     "name": "stdout",
     "output_type": "stream",
     "text": [
      "\n",
      "Epoch 1/30 | Train loss: 0.2374 | Train Metrics: Precision: 0.8199, Recall: 0.6997, F1: 0.7340, Hamming Loss: 0.0940\n",
      "\n"
     ]
    },
    {
     "name": "stderr",
     "output_type": "stream",
     "text": [
      "Testing: 100%|██████████| 44/44 [00:01<00:00, 39.10it/s]\n"
     ]
    },
    {
     "name": "stdout",
     "output_type": "stream",
     "text": [
      "\n",
      "Epoch 1/30 | Test loss: 0.2239 | Test Metrics: Precision: 0.7727, Recall: 0.6869, F1: 0.7065, Hamming Loss: 0.0983\n",
      "\n"
     ]
    },
    {
     "name": "stderr",
     "output_type": "stream",
     "text": [
      "Training: 100%|██████████| 176/176 [00:13<00:00, 13.17it/s]\n"
     ]
    },
    {
     "name": "stdout",
     "output_type": "stream",
     "text": [
      "\n",
      "Epoch 2/30 | Train loss: 0.2374 | Train Metrics: Precision: 0.8267, Recall: 0.6945, F1: 0.7351, Hamming Loss: 0.0926\n",
      "\n"
     ]
    },
    {
     "name": "stderr",
     "output_type": "stream",
     "text": [
      "Testing: 100%|██████████| 44/44 [00:01<00:00, 39.10it/s]\n"
     ]
    },
    {
     "name": "stdout",
     "output_type": "stream",
     "text": [
      "\n",
      "Epoch 2/30 | Test loss: 0.2267 | Test Metrics: Precision: 0.7727, Recall: 0.6869, F1: 0.7065, Hamming Loss: 0.0983\n",
      "\n"
     ]
    },
    {
     "name": "stderr",
     "output_type": "stream",
     "text": [
      "Training: 100%|██████████| 176/176 [00:13<00:00, 13.16it/s]\n"
     ]
    },
    {
     "name": "stdout",
     "output_type": "stream",
     "text": [
      "\n",
      "Epoch 3/30 | Train loss: 0.2365 | Train Metrics: Precision: 0.8267, Recall: 0.6945, F1: 0.7351, Hamming Loss: 0.0926\n",
      "\n"
     ]
    },
    {
     "name": "stderr",
     "output_type": "stream",
     "text": [
      "Testing: 100%|██████████| 44/44 [00:01<00:00, 39.11it/s]\n"
     ]
    },
    {
     "name": "stdout",
     "output_type": "stream",
     "text": [
      "\n",
      "Epoch 3/30 | Test loss: 0.2277 | Test Metrics: Precision: 0.7727, Recall: 0.6869, F1: 0.7065, Hamming Loss: 0.0983\n",
      "\n"
     ]
    },
    {
     "name": "stderr",
     "output_type": "stream",
     "text": [
      "Training: 100%|██████████| 176/176 [00:13<00:00, 13.17it/s]\n"
     ]
    },
    {
     "name": "stdout",
     "output_type": "stream",
     "text": [
      "\n",
      "Epoch 4/30 | Train loss: 0.2376 | Train Metrics: Precision: 0.8267, Recall: 0.6945, F1: 0.7351, Hamming Loss: 0.0926\n",
      "\n"
     ]
    },
    {
     "name": "stderr",
     "output_type": "stream",
     "text": [
      "Testing: 100%|██████████| 44/44 [00:01<00:00, 39.12it/s]\n"
     ]
    },
    {
     "name": "stdout",
     "output_type": "stream",
     "text": [
      "\n",
      "Epoch 4/30 | Test loss: 0.2259 | Test Metrics: Precision: 0.7727, Recall: 0.6869, F1: 0.7065, Hamming Loss: 0.0983\n",
      "\n"
     ]
    },
    {
     "name": "stderr",
     "output_type": "stream",
     "text": [
      "Training: 100%|██████████| 176/176 [00:13<00:00, 13.19it/s]\n"
     ]
    },
    {
     "name": "stdout",
     "output_type": "stream",
     "text": [
      "\n",
      "Epoch 5/30 | Train loss: 0.2364 | Train Metrics: Precision: 0.8267, Recall: 0.6945, F1: 0.7351, Hamming Loss: 0.0926\n",
      "\n"
     ]
    },
    {
     "name": "stderr",
     "output_type": "stream",
     "text": [
      "Testing: 100%|██████████| 44/44 [00:01<00:00, 39.11it/s]\n"
     ]
    },
    {
     "name": "stdout",
     "output_type": "stream",
     "text": [
      "\n",
      "Epoch 5/30 | Test loss: 0.2264 | Test Metrics: Precision: 0.7727, Recall: 0.6869, F1: 0.7065, Hamming Loss: 0.0983\n",
      "\n"
     ]
    },
    {
     "name": "stderr",
     "output_type": "stream",
     "text": [
      "Training: 100%|██████████| 176/176 [00:13<00:00, 13.17it/s]\n"
     ]
    },
    {
     "name": "stdout",
     "output_type": "stream",
     "text": [
      "\n",
      "Epoch 6/30 | Train loss: 0.2368 | Train Metrics: Precision: 0.8267, Recall: 0.6945, F1: 0.7351, Hamming Loss: 0.0926\n",
      "\n"
     ]
    },
    {
     "name": "stderr",
     "output_type": "stream",
     "text": [
      "Testing: 100%|██████████| 44/44 [00:01<00:00, 39.10it/s]\n"
     ]
    },
    {
     "name": "stdout",
     "output_type": "stream",
     "text": [
      "\n",
      "Epoch 6/30 | Test loss: 0.2277 | Test Metrics: Precision: 0.7727, Recall: 0.6869, F1: 0.7065, Hamming Loss: 0.0983\n",
      "\n"
     ]
    },
    {
     "name": "stderr",
     "output_type": "stream",
     "text": [
      "Training: 100%|██████████| 176/176 [00:13<00:00, 13.17it/s]\n"
     ]
    },
    {
     "name": "stdout",
     "output_type": "stream",
     "text": [
      "\n",
      "Epoch 7/30 | Train loss: 0.2368 | Train Metrics: Precision: 0.8175, Recall: 0.6990, F1: 0.7332, Hamming Loss: 0.0940\n",
      "\n"
     ]
    },
    {
     "name": "stderr",
     "output_type": "stream",
     "text": [
      "Testing: 100%|██████████| 44/44 [00:01<00:00, 39.11it/s]\n"
     ]
    },
    {
     "name": "stdout",
     "output_type": "stream",
     "text": [
      "\n",
      "Epoch 7/30 | Test loss: 0.2263 | Test Metrics: Precision: 0.7727, Recall: 0.6869, F1: 0.7065, Hamming Loss: 0.0983\n",
      "\n"
     ]
    },
    {
     "name": "stderr",
     "output_type": "stream",
     "text": [
      "Training: 100%|██████████| 176/176 [00:13<00:00, 13.19it/s]\n"
     ]
    },
    {
     "name": "stdout",
     "output_type": "stream",
     "text": [
      "\n",
      "Epoch 8/30 | Train loss: 0.2369 | Train Metrics: Precision: 0.8267, Recall: 0.6945, F1: 0.7351, Hamming Loss: 0.0926\n",
      "\n"
     ]
    },
    {
     "name": "stderr",
     "output_type": "stream",
     "text": [
      "Testing: 100%|██████████| 44/44 [00:01<00:00, 39.12it/s]\n"
     ]
    },
    {
     "name": "stdout",
     "output_type": "stream",
     "text": [
      "\n",
      "Epoch 8/30 | Test loss: 0.2257 | Test Metrics: Precision: 0.7727, Recall: 0.6869, F1: 0.7065, Hamming Loss: 0.0983\n",
      "\n"
     ]
    },
    {
     "name": "stderr",
     "output_type": "stream",
     "text": [
      "Training: 100%|██████████| 176/176 [00:13<00:00, 13.17it/s]\n"
     ]
    },
    {
     "name": "stdout",
     "output_type": "stream",
     "text": [
      "\n",
      "Epoch 9/30 | Train loss: 0.2374 | Train Metrics: Precision: 0.8213, Recall: 0.6960, F1: 0.7334, Hamming Loss: 0.0937\n",
      "\n"
     ]
    },
    {
     "name": "stderr",
     "output_type": "stream",
     "text": [
      "Testing: 100%|██████████| 44/44 [00:01<00:00, 39.11it/s]\n"
     ]
    },
    {
     "name": "stdout",
     "output_type": "stream",
     "text": [
      "\n",
      "Epoch 9/30 | Test loss: 0.2272 | Test Metrics: Precision: 0.7727, Recall: 0.6869, F1: 0.7065, Hamming Loss: 0.0983\n",
      "\n"
     ]
    },
    {
     "name": "stderr",
     "output_type": "stream",
     "text": [
      "Training: 100%|██████████| 176/176 [00:13<00:00, 13.17it/s]\n"
     ]
    },
    {
     "name": "stdout",
     "output_type": "stream",
     "text": [
      "\n",
      "Epoch 10/30 | Train loss: 0.2367 | Train Metrics: Precision: 0.8267, Recall: 0.6945, F1: 0.7351, Hamming Loss: 0.0926\n",
      "\n"
     ]
    },
    {
     "name": "stderr",
     "output_type": "stream",
     "text": [
      "Testing: 100%|██████████| 44/44 [00:01<00:00, 38.59it/s]\n"
     ]
    },
    {
     "name": "stdout",
     "output_type": "stream",
     "text": [
      "\n",
      "Epoch 10/30 | Test loss: 0.2252 | Test Metrics: Precision: 0.7727, Recall: 0.6869, F1: 0.7065, Hamming Loss: 0.0983\n",
      "\n"
     ]
    },
    {
     "name": "stderr",
     "output_type": "stream",
     "text": [
      "Training: 100%|██████████| 176/176 [00:13<00:00, 13.19it/s]\n"
     ]
    },
    {
     "name": "stdout",
     "output_type": "stream",
     "text": [
      "\n",
      "Epoch 11/30 | Train loss: 0.2372 | Train Metrics: Precision: 0.8232, Recall: 0.6954, F1: 0.7340, Hamming Loss: 0.0933\n",
      "\n"
     ]
    },
    {
     "name": "stderr",
     "output_type": "stream",
     "text": [
      "Testing: 100%|██████████| 44/44 [00:01<00:00, 39.11it/s]\n"
     ]
    },
    {
     "name": "stdout",
     "output_type": "stream",
     "text": [
      "\n",
      "Epoch 11/30 | Test loss: 0.2237 | Test Metrics: Precision: 0.7727, Recall: 0.6869, F1: 0.7065, Hamming Loss: 0.0983\n",
      "\n"
     ]
    },
    {
     "name": "stderr",
     "output_type": "stream",
     "text": [
      "Training: 100%|██████████| 176/176 [00:13<00:00, 13.21it/s]\n"
     ]
    },
    {
     "name": "stdout",
     "output_type": "stream",
     "text": [
      "\n",
      "Epoch 12/30 | Train loss: 0.2365 | Train Metrics: Precision: 0.8262, Recall: 0.6945, F1: 0.7350, Hamming Loss: 0.0928\n",
      "\n"
     ]
    },
    {
     "name": "stderr",
     "output_type": "stream",
     "text": [
      "Testing: 100%|██████████| 44/44 [00:01<00:00, 39.11it/s]\n"
     ]
    },
    {
     "name": "stdout",
     "output_type": "stream",
     "text": [
      "\n",
      "Epoch 12/30 | Test loss: 0.2251 | Test Metrics: Precision: 0.7727, Recall: 0.6869, F1: 0.7065, Hamming Loss: 0.0983\n",
      "\n"
     ]
    },
    {
     "name": "stderr",
     "output_type": "stream",
     "text": [
      "Training: 100%|██████████| 176/176 [00:13<00:00, 13.17it/s]\n"
     ]
    },
    {
     "name": "stdout",
     "output_type": "stream",
     "text": [
      "\n",
      "Epoch 13/30 | Train loss: 0.2369 | Train Metrics: Precision: 0.8267, Recall: 0.6945, F1: 0.7351, Hamming Loss: 0.0926\n",
      "\n"
     ]
    },
    {
     "name": "stderr",
     "output_type": "stream",
     "text": [
      "Testing: 100%|██████████| 44/44 [00:01<00:00, 39.12it/s]\n"
     ]
    },
    {
     "name": "stdout",
     "output_type": "stream",
     "text": [
      "\n",
      "Epoch 13/30 | Test loss: 0.2265 | Test Metrics: Precision: 0.7727, Recall: 0.6869, F1: 0.7065, Hamming Loss: 0.0983\n",
      "\n"
     ]
    },
    {
     "name": "stderr",
     "output_type": "stream",
     "text": [
      "Training: 100%|██████████| 176/176 [00:13<00:00, 13.21it/s]\n"
     ]
    },
    {
     "name": "stdout",
     "output_type": "stream",
     "text": [
      "\n",
      "Epoch 14/30 | Train loss: 0.2372 | Train Metrics: Precision: 0.8267, Recall: 0.6945, F1: 0.7351, Hamming Loss: 0.0926\n",
      "\n"
     ]
    },
    {
     "name": "stderr",
     "output_type": "stream",
     "text": [
      "Testing: 100%|██████████| 44/44 [00:01<00:00, 39.10it/s]\n"
     ]
    },
    {
     "name": "stdout",
     "output_type": "stream",
     "text": [
      "\n",
      "Epoch 14/30 | Test loss: 0.2260 | Test Metrics: Precision: 0.7727, Recall: 0.6869, F1: 0.7065, Hamming Loss: 0.0983\n",
      "\n"
     ]
    },
    {
     "name": "stderr",
     "output_type": "stream",
     "text": [
      "Training: 100%|██████████| 176/176 [00:13<00:00, 13.19it/s]\n"
     ]
    },
    {
     "name": "stdout",
     "output_type": "stream",
     "text": [
      "\n",
      "Epoch 15/30 | Train loss: 0.2372 | Train Metrics: Precision: 0.8267, Recall: 0.6945, F1: 0.7351, Hamming Loss: 0.0926\n",
      "\n"
     ]
    },
    {
     "name": "stderr",
     "output_type": "stream",
     "text": [
      "Testing: 100%|██████████| 44/44 [00:01<00:00, 39.11it/s]\n"
     ]
    },
    {
     "name": "stdout",
     "output_type": "stream",
     "text": [
      "\n",
      "Epoch 15/30 | Test loss: 0.2290 | Test Metrics: Precision: 0.7727, Recall: 0.6869, F1: 0.7065, Hamming Loss: 0.0983\n",
      "\n"
     ]
    },
    {
     "name": "stderr",
     "output_type": "stream",
     "text": [
      "Training: 100%|██████████| 176/176 [00:13<00:00, 13.19it/s]\n"
     ]
    },
    {
     "name": "stdout",
     "output_type": "stream",
     "text": [
      "\n",
      "Epoch 16/30 | Train loss: 0.2375 | Train Metrics: Precision: 0.8267, Recall: 0.6945, F1: 0.7351, Hamming Loss: 0.0926\n",
      "\n"
     ]
    },
    {
     "name": "stderr",
     "output_type": "stream",
     "text": [
      "Testing: 100%|██████████| 44/44 [00:01<00:00, 38.57it/s]\n"
     ]
    },
    {
     "name": "stdout",
     "output_type": "stream",
     "text": [
      "\n",
      "Epoch 16/30 | Test loss: 0.2266 | Test Metrics: Precision: 0.7727, Recall: 0.6869, F1: 0.7065, Hamming Loss: 0.0983\n",
      "\n"
     ]
    },
    {
     "name": "stderr",
     "output_type": "stream",
     "text": [
      "Training: 100%|██████████| 176/176 [00:13<00:00, 13.19it/s]\n"
     ]
    },
    {
     "name": "stdout",
     "output_type": "stream",
     "text": [
      "\n",
      "Epoch 17/30 | Train loss: 0.2380 | Train Metrics: Precision: 0.8267, Recall: 0.6945, F1: 0.7351, Hamming Loss: 0.0926\n",
      "\n"
     ]
    },
    {
     "name": "stderr",
     "output_type": "stream",
     "text": [
      "Testing: 100%|██████████| 44/44 [00:01<00:00, 39.10it/s]\n"
     ]
    },
    {
     "name": "stdout",
     "output_type": "stream",
     "text": [
      "\n",
      "Epoch 17/30 | Test loss: 0.2249 | Test Metrics: Precision: 0.7727, Recall: 0.6869, F1: 0.7065, Hamming Loss: 0.0983\n",
      "\n"
     ]
    },
    {
     "name": "stderr",
     "output_type": "stream",
     "text": [
      "Training: 100%|██████████| 176/176 [00:13<00:00, 13.19it/s]\n"
     ]
    },
    {
     "name": "stdout",
     "output_type": "stream",
     "text": [
      "\n",
      "Epoch 18/30 | Train loss: 0.2369 | Train Metrics: Precision: 0.8267, Recall: 0.6945, F1: 0.7351, Hamming Loss: 0.0926\n",
      "\n"
     ]
    },
    {
     "name": "stderr",
     "output_type": "stream",
     "text": [
      "Testing: 100%|██████████| 44/44 [00:01<00:00, 39.11it/s]\n"
     ]
    },
    {
     "name": "stdout",
     "output_type": "stream",
     "text": [
      "\n",
      "Epoch 18/30 | Test loss: 0.2253 | Test Metrics: Precision: 0.7727, Recall: 0.6869, F1: 0.7065, Hamming Loss: 0.0983\n",
      "\n"
     ]
    },
    {
     "name": "stderr",
     "output_type": "stream",
     "text": [
      "Training: 100%|██████████| 176/176 [00:13<00:00, 13.17it/s]\n"
     ]
    },
    {
     "name": "stdout",
     "output_type": "stream",
     "text": [
      "\n",
      "Epoch 19/30 | Train loss: 0.2378 | Train Metrics: Precision: 0.8222, Recall: 0.6980, F1: 0.7348, Hamming Loss: 0.0932\n",
      "\n"
     ]
    },
    {
     "name": "stderr",
     "output_type": "stream",
     "text": [
      "Testing: 100%|██████████| 44/44 [00:01<00:00, 39.12it/s]\n"
     ]
    },
    {
     "name": "stdout",
     "output_type": "stream",
     "text": [
      "\n",
      "Epoch 19/30 | Test loss: 0.2275 | Test Metrics: Precision: 0.7727, Recall: 0.6869, F1: 0.7065, Hamming Loss: 0.0983\n",
      "\n"
     ]
    },
    {
     "name": "stderr",
     "output_type": "stream",
     "text": [
      "Training: 100%|██████████| 176/176 [00:13<00:00, 13.19it/s]\n"
     ]
    },
    {
     "name": "stdout",
     "output_type": "stream",
     "text": [
      "\n",
      "Epoch 20/30 | Train loss: 0.2373 | Train Metrics: Precision: 0.8267, Recall: 0.6945, F1: 0.7351, Hamming Loss: 0.0926\n",
      "\n"
     ]
    },
    {
     "name": "stderr",
     "output_type": "stream",
     "text": [
      "Testing: 100%|██████████| 44/44 [00:01<00:00, 39.11it/s]\n"
     ]
    },
    {
     "name": "stdout",
     "output_type": "stream",
     "text": [
      "\n",
      "Epoch 20/30 | Test loss: 0.2253 | Test Metrics: Precision: 0.7727, Recall: 0.6869, F1: 0.7065, Hamming Loss: 0.0983\n",
      "\n"
     ]
    },
    {
     "name": "stderr",
     "output_type": "stream",
     "text": [
      "Training: 100%|██████████| 176/176 [00:13<00:00, 13.19it/s]\n"
     ]
    },
    {
     "name": "stdout",
     "output_type": "stream",
     "text": [
      "\n",
      "Epoch 21/30 | Train loss: 0.2370 | Train Metrics: Precision: 0.8189, Recall: 0.7039, F1: 0.7356, Hamming Loss: 0.0933\n",
      "\n"
     ]
    },
    {
     "name": "stderr",
     "output_type": "stream",
     "text": [
      "Testing: 100%|██████████| 44/44 [00:01<00:00, 39.11it/s]\n"
     ]
    },
    {
     "name": "stdout",
     "output_type": "stream",
     "text": [
      "\n",
      "Epoch 21/30 | Test loss: 0.2254 | Test Metrics: Precision: 0.7727, Recall: 0.6869, F1: 0.7065, Hamming Loss: 0.0983\n",
      "\n"
     ]
    },
    {
     "name": "stderr",
     "output_type": "stream",
     "text": [
      "Training: 100%|██████████| 176/176 [00:13<00:00, 13.16it/s]\n"
     ]
    },
    {
     "name": "stdout",
     "output_type": "stream",
     "text": [
      "\n",
      "Epoch 22/30 | Train loss: 0.2371 | Train Metrics: Precision: 0.8205, Recall: 0.6984, F1: 0.7347, Hamming Loss: 0.0932\n",
      "\n"
     ]
    },
    {
     "name": "stderr",
     "output_type": "stream",
     "text": [
      "Testing: 100%|██████████| 44/44 [00:01<00:00, 39.51it/s]\n"
     ]
    },
    {
     "name": "stdout",
     "output_type": "stream",
     "text": [
      "\n",
      "Epoch 22/30 | Test loss: 0.2287 | Test Metrics: Precision: 0.7727, Recall: 0.6869, F1: 0.7065, Hamming Loss: 0.0983\n",
      "\n"
     ]
    },
    {
     "name": "stderr",
     "output_type": "stream",
     "text": [
      "Training: 100%|██████████| 176/176 [00:13<00:00, 13.19it/s]\n"
     ]
    },
    {
     "name": "stdout",
     "output_type": "stream",
     "text": [
      "\n",
      "Epoch 23/30 | Train loss: 0.2376 | Train Metrics: Precision: 0.8267, Recall: 0.6945, F1: 0.7351, Hamming Loss: 0.0926\n",
      "\n"
     ]
    },
    {
     "name": "stderr",
     "output_type": "stream",
     "text": [
      "Testing: 100%|██████████| 44/44 [00:01<00:00, 39.11it/s]\n"
     ]
    },
    {
     "name": "stdout",
     "output_type": "stream",
     "text": [
      "\n",
      "Epoch 23/30 | Test loss: 0.2265 | Test Metrics: Precision: 0.7727, Recall: 0.6869, F1: 0.7065, Hamming Loss: 0.0983\n",
      "\n"
     ]
    },
    {
     "name": "stderr",
     "output_type": "stream",
     "text": [
      "Training: 100%|██████████| 176/176 [00:13<00:00, 13.17it/s]\n"
     ]
    },
    {
     "name": "stdout",
     "output_type": "stream",
     "text": [
      "\n",
      "Epoch 24/30 | Train loss: 0.2374 | Train Metrics: Precision: 0.8267, Recall: 0.6949, F1: 0.7355, Hamming Loss: 0.0925\n",
      "\n"
     ]
    },
    {
     "name": "stderr",
     "output_type": "stream",
     "text": [
      "Testing: 100%|██████████| 44/44 [00:01<00:00, 39.16it/s]\n"
     ]
    },
    {
     "name": "stdout",
     "output_type": "stream",
     "text": [
      "\n",
      "Epoch 24/30 | Test loss: 0.2255 | Test Metrics: Precision: 0.7727, Recall: 0.6869, F1: 0.7065, Hamming Loss: 0.0983\n",
      "\n"
     ]
    },
    {
     "name": "stderr",
     "output_type": "stream",
     "text": [
      "Training: 100%|██████████| 176/176 [00:13<00:00, 13.20it/s]\n"
     ]
    },
    {
     "name": "stdout",
     "output_type": "stream",
     "text": [
      "\n",
      "Epoch 25/30 | Train loss: 0.2377 | Train Metrics: Precision: 0.8267, Recall: 0.6945, F1: 0.7351, Hamming Loss: 0.0926\n",
      "\n"
     ]
    },
    {
     "name": "stderr",
     "output_type": "stream",
     "text": [
      "Testing: 100%|██████████| 44/44 [00:01<00:00, 38.58it/s]\n"
     ]
    },
    {
     "name": "stdout",
     "output_type": "stream",
     "text": [
      "\n",
      "Epoch 25/30 | Test loss: 0.2255 | Test Metrics: Precision: 0.7727, Recall: 0.6869, F1: 0.7065, Hamming Loss: 0.0983\n",
      "\n"
     ]
    },
    {
     "name": "stderr",
     "output_type": "stream",
     "text": [
      "Training: 100%|██████████| 176/176 [00:13<00:00, 13.19it/s]\n"
     ]
    },
    {
     "name": "stdout",
     "output_type": "stream",
     "text": [
      "\n",
      "Epoch 26/30 | Train loss: 0.2369 | Train Metrics: Precision: 0.8267, Recall: 0.6945, F1: 0.7351, Hamming Loss: 0.0926\n",
      "\n"
     ]
    },
    {
     "name": "stderr",
     "output_type": "stream",
     "text": [
      "Testing: 100%|██████████| 44/44 [00:01<00:00, 39.11it/s]\n"
     ]
    },
    {
     "name": "stdout",
     "output_type": "stream",
     "text": [
      "\n",
      "Epoch 26/30 | Test loss: 0.2277 | Test Metrics: Precision: 0.7727, Recall: 0.6869, F1: 0.7065, Hamming Loss: 0.0983\n",
      "\n"
     ]
    },
    {
     "name": "stderr",
     "output_type": "stream",
     "text": [
      "Training: 100%|██████████| 176/176 [00:13<00:00, 13.21it/s]\n"
     ]
    },
    {
     "name": "stdout",
     "output_type": "stream",
     "text": [
      "\n",
      "Epoch 27/30 | Train loss: 0.2367 | Train Metrics: Precision: 0.8267, Recall: 0.6952, F1: 0.7355, Hamming Loss: 0.0925\n",
      "\n"
     ]
    },
    {
     "name": "stderr",
     "output_type": "stream",
     "text": [
      "Testing: 100%|██████████| 44/44 [00:01<00:00, 39.11it/s]\n"
     ]
    },
    {
     "name": "stdout",
     "output_type": "stream",
     "text": [
      "\n",
      "Epoch 27/30 | Test loss: 0.2279 | Test Metrics: Precision: 0.7727, Recall: 0.6869, F1: 0.7065, Hamming Loss: 0.0983\n",
      "\n"
     ]
    },
    {
     "name": "stderr",
     "output_type": "stream",
     "text": [
      "Training: 100%|██████████| 176/176 [00:13<00:00, 13.19it/s]\n"
     ]
    },
    {
     "name": "stdout",
     "output_type": "stream",
     "text": [
      "\n",
      "Epoch 28/30 | Train loss: 0.2374 | Train Metrics: Precision: 0.8248, Recall: 0.6959, F1: 0.7349, Hamming Loss: 0.0928\n",
      "\n"
     ]
    },
    {
     "name": "stderr",
     "output_type": "stream",
     "text": [
      "Testing: 100%|██████████| 44/44 [00:01<00:00, 38.57it/s]\n"
     ]
    },
    {
     "name": "stdout",
     "output_type": "stream",
     "text": [
      "\n",
      "Epoch 28/30 | Test loss: 0.2272 | Test Metrics: Precision: 0.7727, Recall: 0.6869, F1: 0.7065, Hamming Loss: 0.0983\n",
      "\n"
     ]
    },
    {
     "name": "stderr",
     "output_type": "stream",
     "text": [
      "Training: 100%|██████████| 176/176 [00:13<00:00, 13.17it/s]\n"
     ]
    },
    {
     "name": "stdout",
     "output_type": "stream",
     "text": [
      "\n",
      "Epoch 29/30 | Train loss: 0.2375 | Train Metrics: Precision: 0.8267, Recall: 0.6945, F1: 0.7351, Hamming Loss: 0.0926\n",
      "\n"
     ]
    },
    {
     "name": "stderr",
     "output_type": "stream",
     "text": [
      "Testing: 100%|██████████| 44/44 [00:01<00:00, 39.11it/s]\n"
     ]
    },
    {
     "name": "stdout",
     "output_type": "stream",
     "text": [
      "\n",
      "Epoch 29/30 | Test loss: 0.2251 | Test Metrics: Precision: 0.7727, Recall: 0.6869, F1: 0.7065, Hamming Loss: 0.0983\n",
      "\n"
     ]
    },
    {
     "name": "stderr",
     "output_type": "stream",
     "text": [
      "Training: 100%|██████████| 176/176 [00:13<00:00, 13.19it/s]\n"
     ]
    },
    {
     "name": "stdout",
     "output_type": "stream",
     "text": [
      "\n",
      "Epoch 30/30 | Train loss: 0.2363 | Train Metrics: Precision: 0.8262, Recall: 0.6945, F1: 0.7349, Hamming Loss: 0.0928\n",
      "\n"
     ]
    },
    {
     "name": "stderr",
     "output_type": "stream",
     "text": [
      "Testing: 100%|██████████| 44/44 [00:01<00:00, 39.65it/s]\n"
     ]
    },
    {
     "name": "stdout",
     "output_type": "stream",
     "text": [
      "\n",
      "Epoch 30/30 | Test loss: 0.2267 | Test Metrics: Precision: 0.7727, Recall: 0.6869, F1: 0.7065, Hamming Loss: 0.0983\n",
      "\n"
     ]
    },
    {
     "name": "stderr",
     "output_type": "stream",
     "text": [
      "Evaluating on Test Set: 100%|██████████| 56/56 [00:01<00:00, 37.34it/s]"
     ]
    },
    {
     "name": "stdout",
     "output_type": "stream",
     "text": [
      "\n",
      "Test Set Evaluation | Loss: 0.2501 | Precision: 0.8155, Recall: 0.6594, F1: 0.7044, Hamming Loss: 0.1049\n",
      "\n"
     ]
    },
    {
     "name": "stderr",
     "output_type": "stream",
     "text": [
      "\n"
     ]
    }
   ],
   "execution_count": 13
  },
  {
   "metadata": {},
   "cell_type": "markdown",
   "source": "# SVM, Random Forest, Gradient Boosting",
   "id": "ccd9856e5cf86718"
  },
  {
   "metadata": {
    "ExecuteTime": {
     "end_time": "2024-05-06T10:40:43.262452Z",
     "start_time": "2024-05-06T10:40:43.246788Z"
    }
   },
   "cell_type": "code",
   "source": [
    "classifiers = {\n",
    "    \"svm\": SVC(kernel='linear', probability=True),\n",
    "    \"random_forest\": RandomForestClassifier(n_estimators=100, random_state=RANDOM_SEED),\n",
    "    \"gradient_boosting\": GradientBoostingClassifier(n_estimators=100, learning_rate=0.1, max_depth=3)\n",
    "}"
   ],
   "id": "21eb9c99d919bdd1",
   "outputs": [],
   "execution_count": 14
  },
  {
   "metadata": {
    "ExecuteTime": {
     "end_time": "2024-05-06T10:46:56.960124Z",
     "start_time": "2024-05-06T10:40:43.262452Z"
    }
   },
   "cell_type": "code",
   "source": [
    "# Preprocessing and Feature Extraction\n",
    "vectorizer = TfidfVectorizer(max_features=MAX_FEATURES)\n",
    "x = vectorizer.fit_transform(documents)\n",
    "y = labels\n",
    "\n",
    "# Splitting Data\n",
    "x_train, x_test, y_train, y_test = train_test_split(x, y, test_size=TEST_SIZE, random_state=RANDOM_SEED)\n",
    "\n",
    "for classifier_name, classifier in classifiers.items():\n",
    "    print(f\"\\nTESTING CLASSIFIER: {classifier_name}\")\n",
    "\n",
    "    # Train the SVM model with One-vs-Rest strategy\n",
    "    model = OneVsRestClassifier(classifier)\n",
    "    model.fit(x_train, y_train)\n",
    "\n",
    "    # Evaluate the model\n",
    "    predictions = model.predict(x_test)\n",
    "    print(\"\\n-> Accuracy: .............. :\", accuracy_score(y_test, predictions))\n",
    "    print(\"\\n-> Classification Report ... :\", classification_report(y_test, predictions))\n",
    "\n",
    "    # Define a pipeline combining a text vectorizer, and a classifier\n",
    "    pipeline = Pipeline([('tfidf', vectorizer), ('clf', model)])\n",
    "\n",
    "    # Perform cross-validation\n",
    "    scores = cross_val_score(pipeline, documents, y, cv=5, scoring='f1_samples')\n",
    "    print(\"\\n-> Mean CV F1 score ....... :\", scores.mean())"
   ],
   "id": "cd228b01fa44096f",
   "outputs": [
    {
     "name": "stdout",
     "output_type": "stream",
     "text": [
      "\n",
      "TESTING CLASSIFIER: svm\n",
      "\n",
      "-> Accuracy: .............. : 0.15315315315315314\n",
      "\n",
      "-> Classification Report ... :               precision    recall  f1-score   support\n",
      "\n",
      "           0       0.00      0.00      0.00         3\n",
      "           1       0.00      0.00      0.00         0\n",
      "           2       0.00      0.00      0.00         0\n",
      "           3       0.00      0.00      0.00         6\n",
      "           4       0.00      0.00      0.00         2\n",
      "           5       0.00      0.00      0.00         2\n",
      "           6       0.00      0.00      0.00        22\n",
      "           7       0.00      0.00      0.00        14\n",
      "           8       0.00      0.00      0.00         3\n",
      "           9       1.00      0.36      0.53        47\n",
      "          10       0.95      1.00      0.97       105\n",
      "          11       0.00      0.00      0.00         0\n",
      "          12       0.00      0.00      0.00         0\n",
      "          13       1.00      0.02      0.04        47\n",
      "          14       0.87      1.00      0.93        97\n",
      "          15       0.00      0.00      0.00         8\n",
      "          16       0.00      0.00      0.00         1\n",
      "          17       0.62      1.00      0.77        69\n",
      "          18       0.00      0.00      0.00         0\n",
      "          19       0.00      0.00      0.00        13\n",
      "\n",
      "   micro avg       0.82      0.66      0.73       439\n",
      "   macro avg       0.22      0.17      0.16       439\n",
      "weighted avg       0.73      0.66      0.62       439\n",
      " samples avg       0.82      0.69      0.73       439\n",
      "\n",
      "\n",
      "-> Mean CV F1 score ....... : 0.7574883390337936\n",
      "\n",
      "TESTING CLASSIFIER: random_forest\n",
      "\n",
      "-> Accuracy: .............. : 0.25225225225225223\n",
      "\n",
      "-> Classification Report ... :               precision    recall  f1-score   support\n",
      "\n",
      "           0       1.00      0.33      0.50         3\n",
      "           1       0.00      0.00      0.00         0\n",
      "           2       0.00      0.00      0.00         0\n",
      "           3       0.00      0.00      0.00         6\n",
      "           4       0.00      0.00      0.00         2\n",
      "           5       0.00      0.00      0.00         2\n",
      "           6       1.00      0.23      0.37        22\n",
      "           7       1.00      0.07      0.13        14\n",
      "           8       0.00      0.00      0.00         3\n",
      "           9       0.91      0.66      0.77        47\n",
      "          10       0.95      1.00      0.97       105\n",
      "          11       0.00      0.00      0.00         0\n",
      "          12       0.00      0.00      0.00         0\n",
      "          13       0.82      0.68      0.74        47\n",
      "          14       0.87      0.99      0.93        97\n",
      "          15       0.00      0.00      0.00         8\n",
      "          16       0.00      0.00      0.00         1\n",
      "          17       0.70      1.00      0.82        69\n",
      "          18       0.00      0.00      0.00         0\n",
      "          19       1.00      0.08      0.14        13\n",
      "\n",
      "   micro avg       0.85      0.78      0.81       439\n",
      "   macro avg       0.41      0.25      0.27       439\n",
      "weighted avg       0.83      0.78      0.76       439\n",
      " samples avg       0.85      0.80      0.80       439\n",
      "\n",
      "\n",
      "-> Mean CV F1 score ....... : 0.8128465989375082\n",
      "\n",
      "TESTING CLASSIFIER: gradient_boosting\n",
      "\n",
      "-> Accuracy: .............. : 0.2702702702702703\n",
      "\n",
      "-> Classification Report ... :               precision    recall  f1-score   support\n",
      "\n",
      "           0       0.00      0.00      0.00         3\n",
      "           1       0.00      0.00      0.00         0\n",
      "           2       0.00      0.00      0.00         0\n",
      "           3       0.50      0.17      0.25         6\n",
      "           4       0.00      0.00      0.00         2\n",
      "           5       0.00      0.00      0.00         2\n",
      "           6       0.88      0.32      0.47        22\n",
      "           7       0.60      0.21      0.32        14\n",
      "           8       0.50      0.33      0.40         3\n",
      "           9       0.86      0.68      0.76        47\n",
      "          10       0.95      1.00      0.97       105\n",
      "          11       0.00      0.00      0.00         0\n",
      "          12       0.00      0.00      0.00         0\n",
      "          13       0.78      0.77      0.77        47\n",
      "          14       0.88      0.97      0.92        97\n",
      "          15       0.50      0.12      0.20         8\n",
      "          16       0.00      0.00      0.00         1\n",
      "          17       0.69      0.96      0.80        69\n",
      "          18       0.00      0.00      0.00         0\n",
      "          19       1.00      0.23      0.38        13\n",
      "\n",
      "   micro avg       0.81      0.79      0.80       439\n",
      "   macro avg       0.41      0.29      0.31       439\n",
      "weighted avg       0.82      0.79      0.78       439\n",
      " samples avg       0.82      0.81      0.79       439\n",
      "\n",
      "\n",
      "-> Mean CV F1 score ....... : 0.7975168212895486\n"
     ]
    }
   ],
   "execution_count": 15
  },
  {
   "metadata": {},
   "cell_type": "markdown",
   "source": "# Simple Neural Network",
   "id": "c489beb8f1bec7f6"
  },
  {
   "metadata": {
    "ExecuteTime": {
     "end_time": "2024-05-06T10:46:56.981510Z",
     "start_time": "2024-05-06T10:46:56.960124Z"
    }
   },
   "cell_type": "code",
   "source": [
    "class SimpleNN(nn.Module):\n",
    "    def __init__(self):\n",
    "        super(SimpleNN, self).__init__()\n",
    "        self.fc1 = nn.Linear(MAX_FEATURES, 512)\n",
    "        self.fc2 = nn.Linear(512, 128)\n",
    "        self.fc3 = nn.Linear(128, y.shape[1])\n",
    "        self.relu = nn.ReLU()\n",
    "\n",
    "    def forward(self, x):\n",
    "        x = self.relu(self.fc1(x))\n",
    "        x = self.relu(self.fc2(x))\n",
    "        x = torch.sigmoid(self.fc3(x))\n",
    "        return x"
   ],
   "id": "efa02ce8766e7c38",
   "outputs": [],
   "execution_count": 16
  },
  {
   "metadata": {
    "ExecuteTime": {
     "end_time": "2024-05-06T10:48:30.918659Z",
     "start_time": "2024-05-06T10:46:56.981510Z"
    }
   },
   "cell_type": "code",
   "source": [
    "MAX_FEATURES = 256\n",
    "# Preprocessing and Feature Extraction\n",
    "x = TfidfVectorizer(max_features=MAX_FEATURES).fit_transform(documents).toarray()\n",
    "x = torch.FloatTensor(x)\n",
    "y = torch.FloatTensor(labels)\n",
    "\n",
    "x_train, x_test, y_train, y_test = train_test_split(x, y, test_size=TEST_SIZE, random_state=RANDOM_SEED)\n",
    "\n",
    "# K-Fold Configuration\n",
    "num_folds = 5\n",
    "kf = KFold(n_splits=num_folds, shuffle=True, random_state=RANDOM_SEED)\n",
    "\n",
    "# Prepare the test DataLoader\n",
    "test_data = DataLoader(TensorDataset(x_test, y_test), batch_size=BATCH_SIZE, shuffle=False)\n",
    "\n",
    "# Loss and optimizer\n",
    "criterion = nn.BCELoss()\n",
    "\n",
    "for fold, (train_idx, val_idx) in enumerate(kf.split(x_train)):\n",
    "    print(f\"Fold {fold + 1}/{num_folds}\")\n",
    "\n",
    "    # Creating data subsets for the current fold\n",
    "    x_train_fold, x_val_fold = x_train[train_idx], x_train[val_idx]\n",
    "    y_train_fold, y_val_fold = y_train[train_idx], y_train[val_idx]\n",
    "\n",
    "    train_data = DataLoader(TensorDataset(x_train_fold, y_train_fold), batch_size=BATCH_SIZE, shuffle=True)\n",
    "    val_data = DataLoader(TensorDataset(x_val_fold, y_val_fold), batch_size=BATCH_SIZE, shuffle=False)\n",
    "\n",
    "    # Initialize the network\n",
    "    model = SimpleNN()\n",
    "\n",
    "    # Optimizer\n",
    "    optimizer = AdamW(model.parameters(), lr=LR)\n",
    "\n",
    "    # Training and validation loop\n",
    "    for epoch in range(NUM_EPOCHS):\n",
    "        model.train()\n",
    "        total_loss = 0\n",
    "        for inputs, targets in tqdm(train_data, desc=\"Training\"):\n",
    "            optimizer.zero_grad()\n",
    "            outputs = model(inputs)\n",
    "            loss = criterion(outputs, targets)\n",
    "            loss.backward()\n",
    "            optimizer.step()\n",
    "            total_loss += loss.item()\n",
    "\n",
    "        # Validation phase\n",
    "        model.eval()\n",
    "        with torch.no_grad():\n",
    "            all_predictions, all_targets = [], []\n",
    "            for inputs, targets in tqdm(val_data, desc=\"Validation\"):\n",
    "                outputs = model(inputs)\n",
    "                all_predictions.append(outputs)\n",
    "                all_targets.append(targets)\n",
    "\n",
    "            all_predictions = torch.cat(all_predictions).cpu()\n",
    "            all_targets = torch.cat(all_targets).cpu()\n",
    "            predicted_labels = (all_predictions > 0.5).type(torch.float)\n",
    "            acc = accuracy_score(all_targets.numpy(), predicted_labels.numpy())\n",
    "            print(f'Validation - Fold {fold + 1}, Epoch {epoch + 1}: Accuracy: {acc:.4f}')\n",
    "\n",
    "# Evaluate on the test set\n",
    "model.eval()\n",
    "with torch.no_grad():\n",
    "    all_predictions, all_targets = [], []\n",
    "    for inputs, targets in tqdm(test_data, desc=\"Testing\"):\n",
    "        outputs = model(inputs)\n",
    "        all_predictions.append(outputs)\n",
    "        all_targets.append(targets)\n",
    "\n",
    "    all_predictions = torch.cat(all_predictions).cpu()\n",
    "    all_targets = torch.cat(all_targets).cpu()\n",
    "    predicted_labels = (all_predictions > 0.5).type(torch.float)\n",
    "    acc = accuracy_score(all_targets.numpy(), predicted_labels.numpy())\n",
    "    precision = precision_score(all_targets.numpy(), predicted_labels.numpy(), average='samples', zero_division=0)\n",
    "    recall = recall_score(all_targets.numpy(), predicted_labels.numpy(), average='samples', zero_division=0)\n",
    "    f1 = f1_score(all_targets.numpy(), predicted_labels.numpy(), average='samples', zero_division=0)\n",
    "    print(f'Test Set Evaluation - Accuracy: {acc:.4f}, Precision: {precision:.4f}, Recall: {recall:.4f}, F1:{f1:.4f}')\n"
   ],
   "id": "a863a02c32516439",
   "outputs": [
    {
     "name": "stdout",
     "output_type": "stream",
     "text": [
      "Fold 1/5\n"
     ]
    },
    {
     "name": "stderr",
     "output_type": "stream",
     "text": [
      "Training: 100%|██████████| 176/176 [00:00<00:00, 234.67it/s]\n",
      "Validation: 100%|██████████| 44/44 [00:00<00:00, 2815.96it/s]\n"
     ]
    },
    {
     "name": "stdout",
     "output_type": "stream",
     "text": [
      "Validation - Fold 1, Epoch 1: Accuracy: 0.0909\n"
     ]
    },
    {
     "name": "stderr",
     "output_type": "stream",
     "text": [
      "Training: 100%|██████████| 176/176 [00:00<00:00, 388.43it/s]\n",
      "Validation: 100%|██████████| 44/44 [00:00<00:00, 2816.13it/s]\n"
     ]
    },
    {
     "name": "stdout",
     "output_type": "stream",
     "text": [
      "Validation - Fold 1, Epoch 2: Accuracy: 0.0909\n"
     ]
    },
    {
     "name": "stderr",
     "output_type": "stream",
     "text": [
      "Training: 100%|██████████| 176/176 [00:00<00:00, 388.19it/s]\n",
      "Validation: 100%|██████████| 44/44 [00:00<00:00, 2836.52it/s]\n"
     ]
    },
    {
     "name": "stdout",
     "output_type": "stream",
     "text": [
      "Validation - Fold 1, Epoch 3: Accuracy: 0.0909\n"
     ]
    },
    {
     "name": "stderr",
     "output_type": "stream",
     "text": [
      "Training: 100%|██████████| 176/176 [00:00<00:00, 341.40it/s]\n",
      "Validation: 100%|██████████| 44/44 [00:00<00:00, 2815.61it/s]\n"
     ]
    },
    {
     "name": "stdout",
     "output_type": "stream",
     "text": [
      "Validation - Fold 1, Epoch 4: Accuracy: 0.0682\n"
     ]
    },
    {
     "name": "stderr",
     "output_type": "stream",
     "text": [
      "Training: 100%|██████████| 176/176 [00:00<00:00, 288.82it/s]\n",
      "Validation: 100%|██████████| 44/44 [00:00<00:00, 2815.87it/s]\n"
     ]
    },
    {
     "name": "stdout",
     "output_type": "stream",
     "text": [
      "Validation - Fold 1, Epoch 5: Accuracy: 0.0909\n"
     ]
    },
    {
     "name": "stderr",
     "output_type": "stream",
     "text": [
      "Training: 100%|██████████| 176/176 [00:00<00:00, 281.61it/s]\n",
      "Validation: 100%|██████████| 44/44 [00:00<?, ?it/s]\n"
     ]
    },
    {
     "name": "stdout",
     "output_type": "stream",
     "text": [
      "Validation - Fold 1, Epoch 6: Accuracy: 0.1023\n"
     ]
    },
    {
     "name": "stderr",
     "output_type": "stream",
     "text": [
      "Training: 100%|██████████| 176/176 [00:00<00:00, 281.54it/s]\n",
      "Validation: 100%|██████████| 44/44 [00:00<00:00, 2836.34it/s]\n"
     ]
    },
    {
     "name": "stdout",
     "output_type": "stream",
     "text": [
      "Validation - Fold 1, Epoch 7: Accuracy: 0.1023\n"
     ]
    },
    {
     "name": "stderr",
     "output_type": "stream",
     "text": [
      "Training: 100%|██████████| 176/176 [00:00<00:00, 281.62it/s]\n",
      "Validation: 100%|██████████| 44/44 [00:00<00:00, 2816.04it/s]\n"
     ]
    },
    {
     "name": "stdout",
     "output_type": "stream",
     "text": [
      "Validation - Fold 1, Epoch 8: Accuracy: 0.0909\n"
     ]
    },
    {
     "name": "stderr",
     "output_type": "stream",
     "text": [
      "Training: 100%|██████████| 176/176 [00:00<00:00, 281.58it/s]\n",
      "Validation: 100%|██████████| 44/44 [00:00<00:00, 2815.79it/s]\n"
     ]
    },
    {
     "name": "stdout",
     "output_type": "stream",
     "text": [
      "Validation - Fold 1, Epoch 9: Accuracy: 0.1023\n"
     ]
    },
    {
     "name": "stderr",
     "output_type": "stream",
     "text": [
      "Training: 100%|██████████| 176/176 [00:00<00:00, 288.83it/s]\n",
      "Validation: 100%|██████████| 44/44 [00:00<00:00, 2816.17it/s]\n"
     ]
    },
    {
     "name": "stdout",
     "output_type": "stream",
     "text": [
      "Validation - Fold 1, Epoch 10: Accuracy: 0.1023\n"
     ]
    },
    {
     "name": "stderr",
     "output_type": "stream",
     "text": [
      "Training: 100%|██████████| 176/176 [00:00<00:00, 268.18it/s]\n",
      "Validation: 100%|██████████| 44/44 [00:00<?, ?it/s]\n"
     ]
    },
    {
     "name": "stdout",
     "output_type": "stream",
     "text": [
      "Validation - Fold 1, Epoch 11: Accuracy: 0.1023\n"
     ]
    },
    {
     "name": "stderr",
     "output_type": "stream",
     "text": [
      "Training: 100%|██████████| 176/176 [00:00<00:00, 296.38it/s]\n",
      "Validation: 100%|██████████| 44/44 [00:00<00:00, 2813.72it/s]\n"
     ]
    },
    {
     "name": "stdout",
     "output_type": "stream",
     "text": [
      "Validation - Fold 1, Epoch 12: Accuracy: 0.0909\n"
     ]
    },
    {
     "name": "stderr",
     "output_type": "stream",
     "text": [
      "Training: 100%|██████████| 176/176 [00:00<00:00, 288.81it/s]\n",
      "Validation: 100%|██████████| 44/44 [00:00<?, ?it/s]\n"
     ]
    },
    {
     "name": "stdout",
     "output_type": "stream",
     "text": [
      "Validation - Fold 1, Epoch 13: Accuracy: 0.1364\n"
     ]
    },
    {
     "name": "stderr",
     "output_type": "stream",
     "text": [
      "Training: 100%|██████████| 176/176 [00:00<00:00, 296.42it/s]\n",
      "Validation: 100%|██████████| 44/44 [00:00<?, ?it/s]\n"
     ]
    },
    {
     "name": "stdout",
     "output_type": "stream",
     "text": [
      "Validation - Fold 1, Epoch 14: Accuracy: 0.1136\n"
     ]
    },
    {
     "name": "stderr",
     "output_type": "stream",
     "text": [
      "Training: 100%|██████████| 176/176 [00:00<00:00, 274.73it/s]\n",
      "Validation: 100%|██████████| 44/44 [00:00<?, ?it/s]\n"
     ]
    },
    {
     "name": "stdout",
     "output_type": "stream",
     "text": [
      "Validation - Fold 1, Epoch 15: Accuracy: 0.1023\n"
     ]
    },
    {
     "name": "stderr",
     "output_type": "stream",
     "text": [
      "Training: 100%|██████████| 176/176 [00:00<00:00, 296.33it/s]\n",
      "Validation: 100%|██████████| 44/44 [00:00<?, ?it/s]\n"
     ]
    },
    {
     "name": "stdout",
     "output_type": "stream",
     "text": [
      "Validation - Fold 1, Epoch 16: Accuracy: 0.1023\n"
     ]
    },
    {
     "name": "stderr",
     "output_type": "stream",
     "text": [
      "Training: 100%|██████████| 176/176 [00:00<00:00, 281.76it/s]\n",
      "Validation: 100%|██████████| 44/44 [00:00<?, ?it/s]\n"
     ]
    },
    {
     "name": "stdout",
     "output_type": "stream",
     "text": [
      "Validation - Fold 1, Epoch 17: Accuracy: 0.1591\n"
     ]
    },
    {
     "name": "stderr",
     "output_type": "stream",
     "text": [
      "Training: 100%|██████████| 176/176 [00:00<00:00, 288.80it/s]\n",
      "Validation: 100%|██████████| 44/44 [00:00<00:00, 2801.93it/s]\n"
     ]
    },
    {
     "name": "stdout",
     "output_type": "stream",
     "text": [
      "Validation - Fold 1, Epoch 18: Accuracy: 0.2159\n"
     ]
    },
    {
     "name": "stderr",
     "output_type": "stream",
     "text": [
      "Training: 100%|██████████| 176/176 [00:00<00:00, 281.56it/s]\n",
      "Validation: 100%|██████████| 44/44 [00:00<?, ?it/s]\n"
     ]
    },
    {
     "name": "stdout",
     "output_type": "stream",
     "text": [
      "Validation - Fold 1, Epoch 19: Accuracy: 0.1932\n"
     ]
    },
    {
     "name": "stderr",
     "output_type": "stream",
     "text": [
      "Training: 100%|██████████| 176/176 [00:00<00:00, 274.76it/s]\n",
      "Validation: 100%|██████████| 44/44 [00:00<?, ?it/s]\n"
     ]
    },
    {
     "name": "stdout",
     "output_type": "stream",
     "text": [
      "Validation - Fold 1, Epoch 20: Accuracy: 0.1705\n"
     ]
    },
    {
     "name": "stderr",
     "output_type": "stream",
     "text": [
      "Training: 100%|██████████| 176/176 [00:00<00:00, 296.42it/s]\n",
      "Validation: 100%|██████████| 44/44 [00:00<?, ?it/s]\n"
     ]
    },
    {
     "name": "stdout",
     "output_type": "stream",
     "text": [
      "Validation - Fold 1, Epoch 21: Accuracy: 0.1477\n"
     ]
    },
    {
     "name": "stderr",
     "output_type": "stream",
     "text": [
      "Training: 100%|██████████| 176/176 [00:00<00:00, 288.82it/s]\n",
      "Validation: 100%|██████████| 44/44 [00:00<00:00, 29452.50it/s]\n"
     ]
    },
    {
     "name": "stdout",
     "output_type": "stream",
     "text": [
      "Validation - Fold 1, Epoch 22: Accuracy: 0.2045\n"
     ]
    },
    {
     "name": "stderr",
     "output_type": "stream",
     "text": [
      "Training: 100%|██████████| 176/176 [00:00<00:00, 289.34it/s]\n",
      "Validation: 100%|██████████| 44/44 [00:00<?, ?it/s]\n"
     ]
    },
    {
     "name": "stdout",
     "output_type": "stream",
     "text": [
      "Validation - Fold 1, Epoch 23: Accuracy: 0.1818\n"
     ]
    },
    {
     "name": "stderr",
     "output_type": "stream",
     "text": [
      "Training: 100%|██████████| 176/176 [00:00<00:00, 289.02it/s]\n",
      "Validation: 100%|██████████| 44/44 [00:00<00:00, 2816.04it/s]\n"
     ]
    },
    {
     "name": "stdout",
     "output_type": "stream",
     "text": [
      "Validation - Fold 1, Epoch 24: Accuracy: 0.1818\n"
     ]
    },
    {
     "name": "stderr",
     "output_type": "stream",
     "text": [
      "Training: 100%|██████████| 176/176 [00:00<00:00, 274.72it/s]\n",
      "Validation: 100%|██████████| 44/44 [00:00<00:00, 2814.15it/s]\n"
     ]
    },
    {
     "name": "stdout",
     "output_type": "stream",
     "text": [
      "Validation - Fold 1, Epoch 25: Accuracy: 0.1818\n"
     ]
    },
    {
     "name": "stderr",
     "output_type": "stream",
     "text": [
      "Training: 100%|██████████| 176/176 [00:00<00:00, 288.78it/s]\n",
      "Validation: 100%|██████████| 44/44 [00:00<00:00, 2139.26it/s]\n"
     ]
    },
    {
     "name": "stdout",
     "output_type": "stream",
     "text": [
      "Validation - Fold 1, Epoch 26: Accuracy: 0.1932\n"
     ]
    },
    {
     "name": "stderr",
     "output_type": "stream",
     "text": [
      "Training: 100%|██████████| 176/176 [00:00<00:00, 270.32it/s]\n",
      "Validation: 100%|██████████| 44/44 [00:00<?, ?it/s]\n"
     ]
    },
    {
     "name": "stdout",
     "output_type": "stream",
     "text": [
      "Validation - Fold 1, Epoch 27: Accuracy: 0.1705\n"
     ]
    },
    {
     "name": "stderr",
     "output_type": "stream",
     "text": [
      "Training: 100%|██████████| 176/176 [00:00<00:00, 288.76it/s]\n",
      "Validation: 100%|██████████| 44/44 [00:00<?, ?it/s]\n"
     ]
    },
    {
     "name": "stdout",
     "output_type": "stream",
     "text": [
      "Validation - Fold 1, Epoch 28: Accuracy: 0.1818\n"
     ]
    },
    {
     "name": "stderr",
     "output_type": "stream",
     "text": [
      "Training: 100%|██████████| 176/176 [00:00<00:00, 281.58it/s]\n",
      "Validation: 100%|██████████| 44/44 [00:00<?, ?it/s]\n"
     ]
    },
    {
     "name": "stdout",
     "output_type": "stream",
     "text": [
      "Validation - Fold 1, Epoch 29: Accuracy: 0.1932\n"
     ]
    },
    {
     "name": "stderr",
     "output_type": "stream",
     "text": [
      "Training: 100%|██████████| 176/176 [00:00<00:00, 274.74it/s]\n",
      "Validation: 100%|██████████| 44/44 [00:00<00:00, 2815.27it/s]\n"
     ]
    },
    {
     "name": "stdout",
     "output_type": "stream",
     "text": [
      "Validation - Fold 1, Epoch 30: Accuracy: 0.1591\n",
      "Fold 2/5\n"
     ]
    },
    {
     "name": "stderr",
     "output_type": "stream",
     "text": [
      "Training: 100%|██████████| 176/176 [00:00<00:00, 341.33it/s]\n",
      "Validation: 100%|██████████| 44/44 [00:00<00:00, 2816.00it/s]\n"
     ]
    },
    {
     "name": "stdout",
     "output_type": "stream",
     "text": [
      "Validation - Fold 2, Epoch 1: Accuracy: 0.1705\n"
     ]
    },
    {
     "name": "stderr",
     "output_type": "stream",
     "text": [
      "Training: 100%|██████████| 176/176 [00:00<00:00, 331.32it/s]\n",
      "Validation: 100%|██████████| 44/44 [00:00<00:00, 2816.17it/s]\n"
     ]
    },
    {
     "name": "stdout",
     "output_type": "stream",
     "text": [
      "Validation - Fold 2, Epoch 2: Accuracy: 0.1705\n"
     ]
    },
    {
     "name": "stderr",
     "output_type": "stream",
     "text": [
      "Training: 100%|██████████| 176/176 [00:00<00:00, 388.34it/s]\n",
      "Validation: 100%|██████████| 44/44 [00:00<00:00, 2809.83it/s]\n"
     ]
    },
    {
     "name": "stdout",
     "output_type": "stream",
     "text": [
      "Validation - Fold 2, Epoch 3: Accuracy: 0.1818\n"
     ]
    },
    {
     "name": "stderr",
     "output_type": "stream",
     "text": [
      "Training: 100%|██████████| 176/176 [00:00<00:00, 352.08it/s]\n",
      "Validation: 100%|██████████| 44/44 [00:00<?, ?it/s]\n"
     ]
    },
    {
     "name": "stdout",
     "output_type": "stream",
     "text": [
      "Validation - Fold 2, Epoch 4: Accuracy: 0.1705\n"
     ]
    },
    {
     "name": "stderr",
     "output_type": "stream",
     "text": [
      "Training: 100%|██████████| 176/176 [00:00<00:00, 296.41it/s]\n",
      "Validation: 100%|██████████| 44/44 [00:00<00:00, 2815.96it/s]\n"
     ]
    },
    {
     "name": "stdout",
     "output_type": "stream",
     "text": [
      "Validation - Fold 2, Epoch 5: Accuracy: 0.1705\n"
     ]
    },
    {
     "name": "stderr",
     "output_type": "stream",
     "text": [
      "Training: 100%|██████████| 176/176 [00:00<00:00, 304.42it/s]\n",
      "Validation: 100%|██████████| 44/44 [00:00<00:00, 2816.30it/s]\n"
     ]
    },
    {
     "name": "stdout",
     "output_type": "stream",
     "text": [
      "Validation - Fold 2, Epoch 6: Accuracy: 0.1818\n"
     ]
    },
    {
     "name": "stderr",
     "output_type": "stream",
     "text": [
      "Training: 100%|██████████| 176/176 [00:00<00:00, 288.81it/s]\n",
      "Validation: 100%|██████████| 44/44 [00:00<00:00, 2815.79it/s]\n"
     ]
    },
    {
     "name": "stdout",
     "output_type": "stream",
     "text": [
      "Validation - Fold 2, Epoch 7: Accuracy: 0.1136\n"
     ]
    },
    {
     "name": "stderr",
     "output_type": "stream",
     "text": [
      "Training: 100%|██████████| 176/176 [00:00<00:00, 288.75it/s]\n",
      "Validation: 100%|██████████| 44/44 [00:00<00:00, 2836.21it/s]\n"
     ]
    },
    {
     "name": "stdout",
     "output_type": "stream",
     "text": [
      "Validation - Fold 2, Epoch 8: Accuracy: 0.1591\n"
     ]
    },
    {
     "name": "stderr",
     "output_type": "stream",
     "text": [
      "Training: 100%|██████████| 176/176 [00:00<00:00, 304.48it/s]\n",
      "Validation: 100%|██████████| 44/44 [00:00<?, ?it/s]\n"
     ]
    },
    {
     "name": "stdout",
     "output_type": "stream",
     "text": [
      "Validation - Fold 2, Epoch 9: Accuracy: 0.1705\n"
     ]
    },
    {
     "name": "stderr",
     "output_type": "stream",
     "text": [
      "Training: 100%|██████████| 176/176 [00:00<00:00, 296.39it/s]\n",
      "Validation: 100%|██████████| 44/44 [00:00<?, ?it/s]\n"
     ]
    },
    {
     "name": "stdout",
     "output_type": "stream",
     "text": [
      "Validation - Fold 2, Epoch 10: Accuracy: 0.1591\n"
     ]
    },
    {
     "name": "stderr",
     "output_type": "stream",
     "text": [
      "Training: 100%|██████████| 176/176 [00:00<00:00, 288.82it/s]\n",
      "Validation: 100%|██████████| 44/44 [00:00<00:00, 2815.53it/s]\n"
     ]
    },
    {
     "name": "stdout",
     "output_type": "stream",
     "text": [
      "Validation - Fold 2, Epoch 11: Accuracy: 0.1705\n"
     ]
    },
    {
     "name": "stderr",
     "output_type": "stream",
     "text": [
      "Training: 100%|██████████| 176/176 [00:00<00:00, 294.32it/s]\n",
      "Validation: 100%|██████████| 44/44 [00:00<00:00, 3823.35it/s]\n"
     ]
    },
    {
     "name": "stdout",
     "output_type": "stream",
     "text": [
      "Validation - Fold 2, Epoch 12: Accuracy: 0.2045\n"
     ]
    },
    {
     "name": "stderr",
     "output_type": "stream",
     "text": [
      "Training: 100%|██████████| 176/176 [00:00<00:00, 304.50it/s]\n",
      "Validation: 100%|██████████| 44/44 [00:00<00:00, 1990.03it/s]\n"
     ]
    },
    {
     "name": "stdout",
     "output_type": "stream",
     "text": [
      "Validation - Fold 2, Epoch 13: Accuracy: 0.1818\n"
     ]
    },
    {
     "name": "stderr",
     "output_type": "stream",
     "text": [
      "Training: 100%|██████████| 176/176 [00:00<00:00, 284.54it/s]\n",
      "Validation: 100%|██████████| 44/44 [00:00<00:00, 2815.91it/s]\n"
     ]
    },
    {
     "name": "stdout",
     "output_type": "stream",
     "text": [
      "Validation - Fold 2, Epoch 14: Accuracy: 0.1932\n"
     ]
    },
    {
     "name": "stderr",
     "output_type": "stream",
     "text": [
      "Training: 100%|██████████| 176/176 [00:00<00:00, 274.72it/s]\n",
      "Validation: 100%|██████████| 44/44 [00:00<00:00, 2816.09it/s]\n"
     ]
    },
    {
     "name": "stdout",
     "output_type": "stream",
     "text": [
      "Validation - Fold 2, Epoch 15: Accuracy: 0.1932\n"
     ]
    },
    {
     "name": "stderr",
     "output_type": "stream",
     "text": [
      "Training: 100%|██████████| 176/176 [00:00<00:00, 281.49it/s]\n",
      "Validation: 100%|██████████| 44/44 [00:00<00:00, 2831.42it/s]\n"
     ]
    },
    {
     "name": "stdout",
     "output_type": "stream",
     "text": [
      "Validation - Fold 2, Epoch 16: Accuracy: 0.1705\n"
     ]
    },
    {
     "name": "stderr",
     "output_type": "stream",
     "text": [
      "Training: 100%|██████████| 176/176 [00:00<00:00, 296.51it/s]\n",
      "Validation: 100%|██████████| 44/44 [00:00<00:00, 2816.99it/s]\n"
     ]
    },
    {
     "name": "stdout",
     "output_type": "stream",
     "text": [
      "Validation - Fold 2, Epoch 17: Accuracy: 0.1932\n"
     ]
    },
    {
     "name": "stderr",
     "output_type": "stream",
     "text": [
      "Training: 100%|██████████| 176/176 [00:00<00:00, 288.85it/s]\n",
      "Validation: 100%|██████████| 44/44 [00:00<00:00, 2816.00it/s]\n"
     ]
    },
    {
     "name": "stdout",
     "output_type": "stream",
     "text": [
      "Validation - Fold 2, Epoch 18: Accuracy: 0.1818\n"
     ]
    },
    {
     "name": "stderr",
     "output_type": "stream",
     "text": [
      "Training: 100%|██████████| 176/176 [00:00<00:00, 296.42it/s]\n",
      "Validation: 100%|██████████| 44/44 [00:00<?, ?it/s]\n"
     ]
    },
    {
     "name": "stdout",
     "output_type": "stream",
     "text": [
      "Validation - Fold 2, Epoch 19: Accuracy: 0.1932\n"
     ]
    },
    {
     "name": "stderr",
     "output_type": "stream",
     "text": [
      "Training: 100%|██████████| 176/176 [00:00<00:00, 281.57it/s]\n",
      "Validation: 100%|██████████| 44/44 [00:00<00:00, 2816.30it/s]\n"
     ]
    },
    {
     "name": "stdout",
     "output_type": "stream",
     "text": [
      "Validation - Fold 2, Epoch 20: Accuracy: 0.2045\n"
     ]
    },
    {
     "name": "stderr",
     "output_type": "stream",
     "text": [
      "Training: 100%|██████████| 176/176 [00:00<00:00, 279.11it/s]\n",
      "Validation: 100%|██████████| 44/44 [00:00<00:00, 4318.66it/s]\n"
     ]
    },
    {
     "name": "stdout",
     "output_type": "stream",
     "text": [
      "Validation - Fold 2, Epoch 21: Accuracy: 0.2045\n"
     ]
    },
    {
     "name": "stderr",
     "output_type": "stream",
     "text": [
      "Training: 100%|██████████| 176/176 [00:00<00:00, 296.40it/s]\n",
      "Validation: 100%|██████████| 44/44 [00:00<?, ?it/s]\n"
     ]
    },
    {
     "name": "stdout",
     "output_type": "stream",
     "text": [
      "Validation - Fold 2, Epoch 22: Accuracy: 0.1932\n"
     ]
    },
    {
     "name": "stderr",
     "output_type": "stream",
     "text": [
      "Training: 100%|██████████| 176/176 [00:00<00:00, 274.70it/s]\n",
      "Validation: 100%|██████████| 44/44 [00:00<00:00, 2836.47it/s]\n"
     ]
    },
    {
     "name": "stdout",
     "output_type": "stream",
     "text": [
      "Validation - Fold 2, Epoch 23: Accuracy: 0.2045\n"
     ]
    },
    {
     "name": "stderr",
     "output_type": "stream",
     "text": [
      "Training: 100%|██████████| 176/176 [00:00<00:00, 281.62it/s]\n",
      "Validation: 100%|██████████| 44/44 [00:00<00:00, 2815.87it/s]\n"
     ]
    },
    {
     "name": "stdout",
     "output_type": "stream",
     "text": [
      "Validation - Fold 2, Epoch 24: Accuracy: 0.1932\n"
     ]
    },
    {
     "name": "stderr",
     "output_type": "stream",
     "text": [
      "Training: 100%|██████████| 176/176 [00:00<00:00, 296.45it/s]\n",
      "Validation: 100%|██████████| 44/44 [00:00<00:00, 2815.83it/s]\n"
     ]
    },
    {
     "name": "stdout",
     "output_type": "stream",
     "text": [
      "Validation - Fold 2, Epoch 25: Accuracy: 0.2273\n"
     ]
    },
    {
     "name": "stderr",
     "output_type": "stream",
     "text": [
      "Training: 100%|██████████| 176/176 [00:00<00:00, 296.40it/s]\n",
      "Validation: 100%|██████████| 44/44 [00:00<?, ?it/s]\n"
     ]
    },
    {
     "name": "stdout",
     "output_type": "stream",
     "text": [
      "Validation - Fold 2, Epoch 26: Accuracy: 0.1705\n"
     ]
    },
    {
     "name": "stderr",
     "output_type": "stream",
     "text": [
      "Training: 100%|██████████| 176/176 [00:00<00:00, 288.82it/s]\n",
      "Validation: 100%|██████████| 44/44 [00:00<?, ?it/s]\n"
     ]
    },
    {
     "name": "stdout",
     "output_type": "stream",
     "text": [
      "Validation - Fold 2, Epoch 27: Accuracy: 0.2159\n"
     ]
    },
    {
     "name": "stderr",
     "output_type": "stream",
     "text": [
      "Training: 100%|██████████| 176/176 [00:00<00:00, 296.44it/s]\n",
      "Validation: 100%|██████████| 44/44 [00:00<00:00, 2815.96it/s]\n"
     ]
    },
    {
     "name": "stdout",
     "output_type": "stream",
     "text": [
      "Validation - Fold 2, Epoch 28: Accuracy: 0.1818\n"
     ]
    },
    {
     "name": "stderr",
     "output_type": "stream",
     "text": [
      "Training: 100%|██████████| 176/176 [00:00<00:00, 281.54it/s]\n",
      "Validation: 100%|██████████| 44/44 [00:00<?, ?it/s]\n"
     ]
    },
    {
     "name": "stdout",
     "output_type": "stream",
     "text": [
      "Validation - Fold 2, Epoch 29: Accuracy: 0.2045\n"
     ]
    },
    {
     "name": "stderr",
     "output_type": "stream",
     "text": [
      "Training: 100%|██████████| 176/176 [00:00<00:00, 288.97it/s]\n",
      "Validation: 100%|██████████| 44/44 [00:00<00:00, 2836.56it/s]\n"
     ]
    },
    {
     "name": "stdout",
     "output_type": "stream",
     "text": [
      "Validation - Fold 2, Epoch 30: Accuracy: 0.2159\n",
      "Fold 3/5\n"
     ]
    },
    {
     "name": "stderr",
     "output_type": "stream",
     "text": [
      "Training: 100%|██████████| 176/176 [00:00<00:00, 386.97it/s]\n",
      "Validation: 100%|██████████| 44/44 [00:00<00:00, 3140.73it/s]\n"
     ]
    },
    {
     "name": "stdout",
     "output_type": "stream",
     "text": [
      "Validation - Fold 3, Epoch 1: Accuracy: 0.1591\n"
     ]
    },
    {
     "name": "stderr",
     "output_type": "stream",
     "text": [
      "Training: 100%|██████████| 176/176 [00:00<00:00, 363.23it/s]\n",
      "Validation: 100%|██████████| 44/44 [00:00<00:00, 2836.08it/s]\n"
     ]
    },
    {
     "name": "stdout",
     "output_type": "stream",
     "text": [
      "Validation - Fold 3, Epoch 2: Accuracy: 0.0909\n"
     ]
    },
    {
     "name": "stderr",
     "output_type": "stream",
     "text": [
      "Training: 100%|██████████| 176/176 [00:00<00:00, 405.25it/s]\n",
      "Validation: 100%|██████████| 44/44 [00:00<?, ?it/s]\n"
     ]
    },
    {
     "name": "stdout",
     "output_type": "stream",
     "text": [
      "Validation - Fold 3, Epoch 3: Accuracy: 0.1591\n"
     ]
    },
    {
     "name": "stderr",
     "output_type": "stream",
     "text": [
      "Training: 100%|██████████| 176/176 [00:00<00:00, 351.97it/s]\n",
      "Validation: 100%|██████████| 44/44 [00:00<?, ?it/s]\n"
     ]
    },
    {
     "name": "stdout",
     "output_type": "stream",
     "text": [
      "Validation - Fold 3, Epoch 4: Accuracy: 0.1477\n"
     ]
    },
    {
     "name": "stderr",
     "output_type": "stream",
     "text": [
      "Training: 100%|██████████| 176/176 [00:00<00:00, 295.11it/s]\n",
      "Validation: 100%|██████████| 44/44 [00:00<00:00, 2815.27it/s]\n"
     ]
    },
    {
     "name": "stdout",
     "output_type": "stream",
     "text": [
      "Validation - Fold 3, Epoch 5: Accuracy: 0.1477\n"
     ]
    },
    {
     "name": "stderr",
     "output_type": "stream",
     "text": [
      "Training: 100%|██████████| 176/176 [00:00<00:00, 284.15it/s]\n",
      "Validation: 100%|██████████| 44/44 [00:00<00:00, 2484.11it/s]\n"
     ]
    },
    {
     "name": "stdout",
     "output_type": "stream",
     "text": [
      "Validation - Fold 3, Epoch 6: Accuracy: 0.1591\n"
     ]
    },
    {
     "name": "stderr",
     "output_type": "stream",
     "text": [
      "Training: 100%|██████████| 176/176 [00:00<00:00, 297.35it/s]\n",
      "Validation: 100%|██████████| 44/44 [00:00<00:00, 5059.34it/s]\n"
     ]
    },
    {
     "name": "stdout",
     "output_type": "stream",
     "text": [
      "Validation - Fold 3, Epoch 7: Accuracy: 0.1591\n"
     ]
    },
    {
     "name": "stderr",
     "output_type": "stream",
     "text": [
      "Training: 100%|██████████| 176/176 [00:00<00:00, 285.45it/s]\n",
      "Validation: 100%|██████████| 44/44 [00:00<00:00, 2813.30it/s]\n"
     ]
    },
    {
     "name": "stdout",
     "output_type": "stream",
     "text": [
      "Validation - Fold 3, Epoch 8: Accuracy: 0.1705\n"
     ]
    },
    {
     "name": "stderr",
     "output_type": "stream",
     "text": [
      "Training: 100%|██████████| 176/176 [00:00<00:00, 281.72it/s]\n",
      "Validation: 100%|██████████| 44/44 [00:00<00:00, 2816.47it/s]\n"
     ]
    },
    {
     "name": "stdout",
     "output_type": "stream",
     "text": [
      "Validation - Fold 3, Epoch 9: Accuracy: 0.1477\n"
     ]
    },
    {
     "name": "stderr",
     "output_type": "stream",
     "text": [
      "Training: 100%|██████████| 176/176 [00:00<00:00, 288.78it/s]\n",
      "Validation: 100%|██████████| 44/44 [00:00<00:00, 2815.91it/s]\n"
     ]
    },
    {
     "name": "stdout",
     "output_type": "stream",
     "text": [
      "Validation - Fold 3, Epoch 10: Accuracy: 0.1818\n"
     ]
    },
    {
     "name": "stderr",
     "output_type": "stream",
     "text": [
      "Training: 100%|██████████| 176/176 [00:00<00:00, 288.82it/s]\n",
      "Validation: 100%|██████████| 44/44 [00:00<00:00, 2815.87it/s]\n"
     ]
    },
    {
     "name": "stdout",
     "output_type": "stream",
     "text": [
      "Validation - Fold 3, Epoch 11: Accuracy: 0.1591\n"
     ]
    },
    {
     "name": "stderr",
     "output_type": "stream",
     "text": [
      "Training: 100%|██████████| 176/176 [00:00<00:00, 281.61it/s]\n",
      "Validation: 100%|██████████| 44/44 [00:00<?, ?it/s]\n"
     ]
    },
    {
     "name": "stdout",
     "output_type": "stream",
     "text": [
      "Validation - Fold 3, Epoch 12: Accuracy: 0.1705\n"
     ]
    },
    {
     "name": "stderr",
     "output_type": "stream",
     "text": [
      "Training: 100%|██████████| 176/176 [00:00<00:00, 281.45it/s]\n",
      "Validation: 100%|██████████| 44/44 [00:00<00:00, 2836.43it/s]\n"
     ]
    },
    {
     "name": "stdout",
     "output_type": "stream",
     "text": [
      "Validation - Fold 3, Epoch 13: Accuracy: 0.1705\n"
     ]
    },
    {
     "name": "stderr",
     "output_type": "stream",
     "text": [
      "Training: 100%|██████████| 176/176 [00:00<00:00, 274.67it/s]\n",
      "Validation: 100%|██████████| 44/44 [00:00<00:00, 3715.73it/s]\n"
     ]
    },
    {
     "name": "stdout",
     "output_type": "stream",
     "text": [
      "Validation - Fold 3, Epoch 14: Accuracy: 0.1591\n"
     ]
    },
    {
     "name": "stderr",
     "output_type": "stream",
     "text": [
      "Training: 100%|██████████| 176/176 [00:00<00:00, 274.76it/s]\n",
      "Validation: 100%|██████████| 44/44 [00:00<00:00, 2815.79it/s]\n"
     ]
    },
    {
     "name": "stdout",
     "output_type": "stream",
     "text": [
      "Validation - Fold 3, Epoch 15: Accuracy: 0.1818\n"
     ]
    },
    {
     "name": "stderr",
     "output_type": "stream",
     "text": [
      "Training: 100%|██████████| 176/176 [00:00<00:00, 281.60it/s]\n",
      "Validation: 100%|██████████| 44/44 [00:00<00:00, 2816.52it/s]\n"
     ]
    },
    {
     "name": "stdout",
     "output_type": "stream",
     "text": [
      "Validation - Fold 3, Epoch 16: Accuracy: 0.2273\n"
     ]
    },
    {
     "name": "stderr",
     "output_type": "stream",
     "text": [
      "Training: 100%|██████████| 176/176 [00:00<00:00, 288.82it/s]\n",
      "Validation: 100%|██████████| 44/44 [00:00<00:00, 2815.74it/s]\n"
     ]
    },
    {
     "name": "stdout",
     "output_type": "stream",
     "text": [
      "Validation - Fold 3, Epoch 17: Accuracy: 0.1705\n"
     ]
    },
    {
     "name": "stderr",
     "output_type": "stream",
     "text": [
      "Training: 100%|██████████| 176/176 [00:00<00:00, 288.86it/s]\n",
      "Validation: 100%|██████████| 44/44 [00:00<00:00, 2816.43it/s]\n"
     ]
    },
    {
     "name": "stdout",
     "output_type": "stream",
     "text": [
      "Validation - Fold 3, Epoch 18: Accuracy: 0.2273\n"
     ]
    },
    {
     "name": "stderr",
     "output_type": "stream",
     "text": [
      "Training: 100%|██████████| 176/176 [00:00<00:00, 288.71it/s]\n",
      "Validation: 100%|██████████| 44/44 [00:00<?, ?it/s]\n"
     ]
    },
    {
     "name": "stdout",
     "output_type": "stream",
     "text": [
      "Validation - Fold 3, Epoch 19: Accuracy: 0.2159\n"
     ]
    },
    {
     "name": "stderr",
     "output_type": "stream",
     "text": [
      "Training: 100%|██████████| 176/176 [00:00<00:00, 268.26it/s]\n",
      "Validation: 100%|██████████| 44/44 [00:00<00:00, 2815.48it/s]\n"
     ]
    },
    {
     "name": "stdout",
     "output_type": "stream",
     "text": [
      "Validation - Fold 3, Epoch 20: Accuracy: 0.2386\n"
     ]
    },
    {
     "name": "stderr",
     "output_type": "stream",
     "text": [
      "Training: 100%|██████████| 176/176 [00:00<00:00, 281.60it/s]\n",
      "Validation: 100%|██████████| 44/44 [00:00<00:00, 2816.47it/s]\n"
     ]
    },
    {
     "name": "stdout",
     "output_type": "stream",
     "text": [
      "Validation - Fold 3, Epoch 21: Accuracy: 0.2159\n"
     ]
    },
    {
     "name": "stderr",
     "output_type": "stream",
     "text": [
      "Training: 100%|██████████| 176/176 [00:00<00:00, 273.64it/s]\n",
      "Validation: 100%|██████████| 44/44 [00:00<00:00, 14587.73it/s]\n"
     ]
    },
    {
     "name": "stdout",
     "output_type": "stream",
     "text": [
      "Validation - Fold 3, Epoch 22: Accuracy: 0.2159\n"
     ]
    },
    {
     "name": "stderr",
     "output_type": "stream",
     "text": [
      "Training: 100%|██████████| 176/176 [00:00<00:00, 278.67it/s]\n",
      "Validation: 100%|██████████| 44/44 [00:00<00:00, 2815.79it/s]\n"
     ]
    },
    {
     "name": "stdout",
     "output_type": "stream",
     "text": [
      "Validation - Fold 3, Epoch 23: Accuracy: 0.1932\n"
     ]
    },
    {
     "name": "stderr",
     "output_type": "stream",
     "text": [
      "Training: 100%|██████████| 176/176 [00:00<00:00, 281.61it/s]\n",
      "Validation: 100%|██████████| 44/44 [00:00<00:00, 2816.13it/s]\n"
     ]
    },
    {
     "name": "stdout",
     "output_type": "stream",
     "text": [
      "Validation - Fold 3, Epoch 24: Accuracy: 0.2273\n"
     ]
    },
    {
     "name": "stderr",
     "output_type": "stream",
     "text": [
      "Training: 100%|██████████| 176/176 [00:00<00:00, 274.72it/s]\n",
      "Validation: 100%|██████████| 44/44 [00:00<00:00, 2814.20it/s]\n"
     ]
    },
    {
     "name": "stdout",
     "output_type": "stream",
     "text": [
      "Validation - Fold 3, Epoch 25: Accuracy: 0.2386\n"
     ]
    },
    {
     "name": "stderr",
     "output_type": "stream",
     "text": [
      "Training: 100%|██████████| 176/176 [00:00<00:00, 268.16it/s]\n",
      "Validation: 100%|██████████| 44/44 [00:00<00:00, 2836.47it/s]\n"
     ]
    },
    {
     "name": "stdout",
     "output_type": "stream",
     "text": [
      "Validation - Fold 3, Epoch 26: Accuracy: 0.2500\n"
     ]
    },
    {
     "name": "stderr",
     "output_type": "stream",
     "text": [
      "Training: 100%|██████████| 176/176 [00:00<00:00, 274.63it/s]\n",
      "Validation: 100%|██████████| 44/44 [00:00<?, ?it/s]\n"
     ]
    },
    {
     "name": "stdout",
     "output_type": "stream",
     "text": [
      "Validation - Fold 3, Epoch 27: Accuracy: 0.2386\n"
     ]
    },
    {
     "name": "stderr",
     "output_type": "stream",
     "text": [
      "Training: 100%|██████████| 176/176 [00:00<00:00, 275.86it/s]\n",
      "Validation: 100%|██████████| 44/44 [00:00<00:00, 2813.34it/s]\n"
     ]
    },
    {
     "name": "stdout",
     "output_type": "stream",
     "text": [
      "Validation - Fold 3, Epoch 28: Accuracy: 0.2273\n"
     ]
    },
    {
     "name": "stderr",
     "output_type": "stream",
     "text": [
      "Training: 100%|██████████| 176/176 [00:00<00:00, 268.13it/s]\n",
      "Validation: 100%|██████████| 44/44 [00:00<?, ?it/s]\n"
     ]
    },
    {
     "name": "stdout",
     "output_type": "stream",
     "text": [
      "Validation - Fold 3, Epoch 29: Accuracy: 0.2273\n"
     ]
    },
    {
     "name": "stderr",
     "output_type": "stream",
     "text": [
      "Training: 100%|██████████| 176/176 [00:00<00:00, 268.25it/s]\n",
      "Validation: 100%|██████████| 44/44 [00:00<?, ?it/s]\n"
     ]
    },
    {
     "name": "stdout",
     "output_type": "stream",
     "text": [
      "Validation - Fold 3, Epoch 30: Accuracy: 0.2159\n",
      "Fold 4/5\n"
     ]
    },
    {
     "name": "stderr",
     "output_type": "stream",
     "text": [
      "Training: 100%|██████████| 176/176 [00:00<00:00, 402.02it/s]\n",
      "Validation: 100%|██████████| 44/44 [00:00<?, ?it/s]\n"
     ]
    },
    {
     "name": "stdout",
     "output_type": "stream",
     "text": [
      "Validation - Fold 4, Epoch 1: Accuracy: 0.1591\n"
     ]
    },
    {
     "name": "stderr",
     "output_type": "stream",
     "text": [
      "Training: 100%|██████████| 176/176 [00:00<00:00, 363.50it/s]\n",
      "Validation: 100%|██████████| 44/44 [00:00<00:00, 2815.83it/s]\n"
     ]
    },
    {
     "name": "stdout",
     "output_type": "stream",
     "text": [
      "Validation - Fold 4, Epoch 2: Accuracy: 0.1591\n"
     ]
    },
    {
     "name": "stderr",
     "output_type": "stream",
     "text": [
      "Training: 100%|██████████| 176/176 [00:00<00:00, 387.98it/s]\n",
      "Validation: 100%|██████████| 44/44 [00:00<00:00, 3698.68it/s]\n"
     ]
    },
    {
     "name": "stdout",
     "output_type": "stream",
     "text": [
      "Validation - Fold 4, Epoch 3: Accuracy: 0.1591\n"
     ]
    },
    {
     "name": "stderr",
     "output_type": "stream",
     "text": [
      "Training: 100%|██████████| 176/176 [00:00<00:00, 337.69it/s]\n",
      "Validation: 100%|██████████| 44/44 [00:00<00:00, 4383.70it/s]\n"
     ]
    },
    {
     "name": "stdout",
     "output_type": "stream",
     "text": [
      "Validation - Fold 4, Epoch 4: Accuracy: 0.1591\n"
     ]
    },
    {
     "name": "stderr",
     "output_type": "stream",
     "text": [
      "Training: 100%|██████████| 176/176 [00:00<00:00, 296.37it/s]\n",
      "Validation: 100%|██████████| 44/44 [00:00<00:00, 2813.72it/s]\n"
     ]
    },
    {
     "name": "stdout",
     "output_type": "stream",
     "text": [
      "Validation - Fold 4, Epoch 5: Accuracy: 0.1591\n"
     ]
    },
    {
     "name": "stderr",
     "output_type": "stream",
     "text": [
      "Training: 100%|██████████| 176/176 [00:00<00:00, 304.46it/s]\n",
      "Validation: 100%|██████████| 44/44 [00:00<00:00, 2813.47it/s]\n"
     ]
    },
    {
     "name": "stdout",
     "output_type": "stream",
     "text": [
      "Validation - Fold 4, Epoch 6: Accuracy: 0.1591\n"
     ]
    },
    {
     "name": "stderr",
     "output_type": "stream",
     "text": [
      "Training: 100%|██████████| 176/176 [00:00<00:00, 296.29it/s]\n",
      "Validation: 100%|██████████| 44/44 [00:00<00:00, 2836.69it/s]\n"
     ]
    },
    {
     "name": "stdout",
     "output_type": "stream",
     "text": [
      "Validation - Fold 4, Epoch 7: Accuracy: 0.1477\n"
     ]
    },
    {
     "name": "stderr",
     "output_type": "stream",
     "text": [
      "Training: 100%|██████████| 176/176 [00:00<00:00, 281.67it/s]\n",
      "Validation: 100%|██████████| 44/44 [00:00<00:00, 2813.64it/s]\n"
     ]
    },
    {
     "name": "stdout",
     "output_type": "stream",
     "text": [
      "Validation - Fold 4, Epoch 8: Accuracy: 0.1705\n"
     ]
    },
    {
     "name": "stderr",
     "output_type": "stream",
     "text": [
      "Training: 100%|██████████| 176/176 [00:00<00:00, 288.64it/s]\n",
      "Validation: 100%|██████████| 44/44 [00:00<00:00, 2813.77it/s]\n"
     ]
    },
    {
     "name": "stdout",
     "output_type": "stream",
     "text": [
      "Validation - Fold 4, Epoch 9: Accuracy: 0.1705\n"
     ]
    },
    {
     "name": "stderr",
     "output_type": "stream",
     "text": [
      "Training: 100%|██████████| 176/176 [00:00<00:00, 289.01it/s]\n",
      "Validation: 100%|██████████| 44/44 [00:00<00:00, 2816.39it/s]\n"
     ]
    },
    {
     "name": "stdout",
     "output_type": "stream",
     "text": [
      "Validation - Fold 4, Epoch 10: Accuracy: 0.1591\n"
     ]
    },
    {
     "name": "stderr",
     "output_type": "stream",
     "text": [
      "Training: 100%|██████████| 176/176 [00:00<00:00, 296.46it/s]\n",
      "Validation: 100%|██████████| 44/44 [00:00<00:00, 2815.61it/s]\n"
     ]
    },
    {
     "name": "stdout",
     "output_type": "stream",
     "text": [
      "Validation - Fold 4, Epoch 11: Accuracy: 0.1818\n"
     ]
    },
    {
     "name": "stderr",
     "output_type": "stream",
     "text": [
      "Training: 100%|██████████| 176/176 [00:00<00:00, 296.38it/s]\n",
      "Validation: 100%|██████████| 44/44 [00:00<00:00, 2815.96it/s]\n"
     ]
    },
    {
     "name": "stdout",
     "output_type": "stream",
     "text": [
      "Validation - Fold 4, Epoch 12: Accuracy: 0.2159\n"
     ]
    },
    {
     "name": "stderr",
     "output_type": "stream",
     "text": [
      "Training: 100%|██████████| 176/176 [00:00<00:00, 281.61it/s]\n",
      "Validation: 100%|██████████| 44/44 [00:00<00:00, 2815.70it/s]\n"
     ]
    },
    {
     "name": "stdout",
     "output_type": "stream",
     "text": [
      "Validation - Fold 4, Epoch 13: Accuracy: 0.1705\n"
     ]
    },
    {
     "name": "stderr",
     "output_type": "stream",
     "text": [
      "Training: 100%|██████████| 176/176 [00:00<00:00, 296.29it/s]\n",
      "Validation: 100%|██████████| 44/44 [00:00<00:00, 2813.98it/s]\n"
     ]
    },
    {
     "name": "stdout",
     "output_type": "stream",
     "text": [
      "Validation - Fold 4, Epoch 14: Accuracy: 0.2159\n"
     ]
    },
    {
     "name": "stderr",
     "output_type": "stream",
     "text": [
      "Training: 100%|██████████| 176/176 [00:00<00:00, 288.46it/s]\n",
      "Validation: 100%|██████████| 44/44 [00:00<00:00, 2815.74it/s]\n"
     ]
    },
    {
     "name": "stdout",
     "output_type": "stream",
     "text": [
      "Validation - Fold 4, Epoch 15: Accuracy: 0.1932\n"
     ]
    },
    {
     "name": "stderr",
     "output_type": "stream",
     "text": [
      "Training: 100%|██████████| 176/176 [00:00<00:00, 297.90it/s]\n",
      "Validation: 100%|██████████| 44/44 [00:00<?, ?it/s]\n"
     ]
    },
    {
     "name": "stdout",
     "output_type": "stream",
     "text": [
      "Validation - Fold 4, Epoch 16: Accuracy: 0.1932\n"
     ]
    },
    {
     "name": "stderr",
     "output_type": "stream",
     "text": [
      "Training: 100%|██████████| 176/176 [00:00<00:00, 288.66it/s]\n",
      "Validation: 100%|██████████| 44/44 [00:00<00:00, 2836.47it/s]\n"
     ]
    },
    {
     "name": "stdout",
     "output_type": "stream",
     "text": [
      "Validation - Fold 4, Epoch 17: Accuracy: 0.2159\n"
     ]
    },
    {
     "name": "stderr",
     "output_type": "stream",
     "text": [
      "Training: 100%|██████████| 176/176 [00:00<00:00, 288.90it/s]\n",
      "Validation: 100%|██████████| 44/44 [00:00<00:00, 2816.56it/s]\n"
     ]
    },
    {
     "name": "stdout",
     "output_type": "stream",
     "text": [
      "Validation - Fold 4, Epoch 18: Accuracy: 0.2273\n"
     ]
    },
    {
     "name": "stderr",
     "output_type": "stream",
     "text": [
      "Training: 100%|██████████| 176/176 [00:00<00:00, 288.83it/s]\n",
      "Validation: 100%|██████████| 44/44 [00:00<00:00, 2815.79it/s]\n"
     ]
    },
    {
     "name": "stdout",
     "output_type": "stream",
     "text": [
      "Validation - Fold 4, Epoch 19: Accuracy: 0.2273\n"
     ]
    },
    {
     "name": "stderr",
     "output_type": "stream",
     "text": [
      "Training: 100%|██████████| 176/176 [00:00<00:00, 296.43it/s]\n",
      "Validation: 100%|██████████| 44/44 [00:00<?, ?it/s]\n"
     ]
    },
    {
     "name": "stdout",
     "output_type": "stream",
     "text": [
      "Validation - Fold 4, Epoch 20: Accuracy: 0.2159\n"
     ]
    },
    {
     "name": "stderr",
     "output_type": "stream",
     "text": [
      "Training: 100%|██████████| 176/176 [00:00<00:00, 288.67it/s]\n",
      "Validation: 100%|██████████| 44/44 [00:00<00:00, 2813.68it/s]\n"
     ]
    },
    {
     "name": "stdout",
     "output_type": "stream",
     "text": [
      "Validation - Fold 4, Epoch 21: Accuracy: 0.1932\n"
     ]
    },
    {
     "name": "stderr",
     "output_type": "stream",
     "text": [
      "Training: 100%|██████████| 176/176 [00:00<00:00, 281.67it/s]\n",
      "Validation: 100%|██████████| 44/44 [00:00<00:00, 2836.21it/s]\n"
     ]
    },
    {
     "name": "stdout",
     "output_type": "stream",
     "text": [
      "Validation - Fold 4, Epoch 22: Accuracy: 0.2159\n"
     ]
    },
    {
     "name": "stderr",
     "output_type": "stream",
     "text": [
      "Training: 100%|██████████| 176/176 [00:00<00:00, 296.28it/s]\n",
      "Validation: 100%|██████████| 44/44 [00:00<00:00, 2813.17it/s]\n"
     ]
    },
    {
     "name": "stdout",
     "output_type": "stream",
     "text": [
      "Validation - Fold 4, Epoch 23: Accuracy: 0.2159\n"
     ]
    },
    {
     "name": "stderr",
     "output_type": "stream",
     "text": [
      "Training: 100%|██████████| 176/176 [00:00<00:00, 291.36it/s]\n",
      "Validation: 100%|██████████| 44/44 [00:00<?, ?it/s]\n"
     ]
    },
    {
     "name": "stdout",
     "output_type": "stream",
     "text": [
      "Validation - Fold 4, Epoch 24: Accuracy: 0.2159\n"
     ]
    },
    {
     "name": "stderr",
     "output_type": "stream",
     "text": [
      "Training: 100%|██████████| 176/176 [00:00<00:00, 288.72it/s]\n",
      "Validation: 100%|██████████| 44/44 [00:00<00:00, 2813.42it/s]\n"
     ]
    },
    {
     "name": "stdout",
     "output_type": "stream",
     "text": [
      "Validation - Fold 4, Epoch 25: Accuracy: 0.2386\n"
     ]
    },
    {
     "name": "stderr",
     "output_type": "stream",
     "text": [
      "Training: 100%|██████████| 176/176 [00:00<00:00, 288.82it/s]\n",
      "Validation: 100%|██████████| 44/44 [00:00<00:00, 2814.15it/s]\n"
     ]
    },
    {
     "name": "stdout",
     "output_type": "stream",
     "text": [
      "Validation - Fold 4, Epoch 26: Accuracy: 0.2386\n"
     ]
    },
    {
     "name": "stderr",
     "output_type": "stream",
     "text": [
      "Training: 100%|██████████| 176/176 [00:00<00:00, 274.71it/s]\n",
      "Validation: 100%|██████████| 44/44 [00:00<00:00, 1407.92it/s]\n"
     ]
    },
    {
     "name": "stdout",
     "output_type": "stream",
     "text": [
      "Validation - Fold 4, Epoch 27: Accuracy: 0.2614\n"
     ]
    },
    {
     "name": "stderr",
     "output_type": "stream",
     "text": [
      "Training: 100%|██████████| 176/176 [00:00<00:00, 274.76it/s]\n",
      "Validation: 100%|██████████| 44/44 [00:00<?, ?it/s]\n"
     ]
    },
    {
     "name": "stdout",
     "output_type": "stream",
     "text": [
      "Validation - Fold 4, Epoch 28: Accuracy: 0.2273\n"
     ]
    },
    {
     "name": "stderr",
     "output_type": "stream",
     "text": [
      "Training: 100%|██████████| 176/176 [00:00<00:00, 281.60it/s]\n",
      "Validation: 100%|██████████| 44/44 [00:00<00:00, 2816.21it/s]\n"
     ]
    },
    {
     "name": "stdout",
     "output_type": "stream",
     "text": [
      "Validation - Fold 4, Epoch 29: Accuracy: 0.2386\n"
     ]
    },
    {
     "name": "stderr",
     "output_type": "stream",
     "text": [
      "Training: 100%|██████████| 176/176 [00:00<00:00, 296.36it/s]\n",
      "Validation: 100%|██████████| 44/44 [00:00<?, ?it/s]\n"
     ]
    },
    {
     "name": "stdout",
     "output_type": "stream",
     "text": [
      "Validation - Fold 4, Epoch 30: Accuracy: 0.2500\n",
      "Fold 5/5\n"
     ]
    },
    {
     "name": "stderr",
     "output_type": "stream",
     "text": [
      "Training: 100%|██████████| 176/176 [00:00<00:00, 367.73it/s]\n",
      "Validation: 100%|██████████| 44/44 [00:00<00:00, 2813.38it/s]\n"
     ]
    },
    {
     "name": "stdout",
     "output_type": "stream",
     "text": [
      "Validation - Fold 5, Epoch 1: Accuracy: 0.1477\n"
     ]
    },
    {
     "name": "stderr",
     "output_type": "stream",
     "text": [
      "Training: 100%|██████████| 176/176 [00:00<00:00, 388.40it/s]\n",
      "Validation: 100%|██████████| 44/44 [00:00<?, ?it/s]\n"
     ]
    },
    {
     "name": "stdout",
     "output_type": "stream",
     "text": [
      "Validation - Fold 5, Epoch 2: Accuracy: 0.1477\n"
     ]
    },
    {
     "name": "stderr",
     "output_type": "stream",
     "text": [
      "Training: 100%|██████████| 176/176 [00:00<00:00, 388.42it/s]\n",
      "Validation: 100%|██████████| 44/44 [00:00<?, ?it/s]\n"
     ]
    },
    {
     "name": "stdout",
     "output_type": "stream",
     "text": [
      "Validation - Fold 5, Epoch 3: Accuracy: 0.1477\n"
     ]
    },
    {
     "name": "stderr",
     "output_type": "stream",
     "text": [
      "Training: 100%|██████████| 176/176 [00:00<00:00, 352.00it/s]\n",
      "Validation: 100%|██████████| 44/44 [00:00<00:00, 2816.60it/s]\n"
     ]
    },
    {
     "name": "stdout",
     "output_type": "stream",
     "text": [
      "Validation - Fold 5, Epoch 4: Accuracy: 0.1477\n"
     ]
    },
    {
     "name": "stderr",
     "output_type": "stream",
     "text": [
      "Training: 100%|██████████| 176/176 [00:00<00:00, 281.61it/s]\n",
      "Validation: 100%|██████████| 44/44 [00:00<00:00, 2815.83it/s]\n"
     ]
    },
    {
     "name": "stdout",
     "output_type": "stream",
     "text": [
      "Validation - Fold 5, Epoch 5: Accuracy: 0.1477\n"
     ]
    },
    {
     "name": "stderr",
     "output_type": "stream",
     "text": [
      "Training: 100%|██████████| 176/176 [00:00<00:00, 281.59it/s]\n",
      "Validation: 100%|██████████| 44/44 [00:00<00:00, 2816.47it/s]\n"
     ]
    },
    {
     "name": "stdout",
     "output_type": "stream",
     "text": [
      "Validation - Fold 5, Epoch 6: Accuracy: 0.1477\n"
     ]
    },
    {
     "name": "stderr",
     "output_type": "stream",
     "text": [
      "Training: 100%|██████████| 176/176 [00:00<00:00, 272.17it/s]\n",
      "Validation: 100%|██████████| 44/44 [00:00<00:00, 4397.17it/s]\n"
     ]
    },
    {
     "name": "stdout",
     "output_type": "stream",
     "text": [
      "Validation - Fold 5, Epoch 7: Accuracy: 0.1364\n"
     ]
    },
    {
     "name": "stderr",
     "output_type": "stream",
     "text": [
      "Training: 100%|██████████| 176/176 [00:00<00:00, 288.82it/s]\n",
      "Validation: 100%|██████████| 44/44 [00:00<?, ?it/s]\n"
     ]
    },
    {
     "name": "stdout",
     "output_type": "stream",
     "text": [
      "Validation - Fold 5, Epoch 8: Accuracy: 0.1477\n"
     ]
    },
    {
     "name": "stderr",
     "output_type": "stream",
     "text": [
      "Training: 100%|██████████| 176/176 [00:00<00:00, 268.25it/s]\n",
      "Validation: 100%|██████████| 44/44 [00:00<?, ?it/s]\n"
     ]
    },
    {
     "name": "stdout",
     "output_type": "stream",
     "text": [
      "Validation - Fold 5, Epoch 9: Accuracy: 0.1932\n"
     ]
    },
    {
     "name": "stderr",
     "output_type": "stream",
     "text": [
      "Training: 100%|██████████| 176/176 [00:00<00:00, 274.76it/s]\n",
      "Validation: 100%|██████████| 44/44 [00:00<?, ?it/s]\n"
     ]
    },
    {
     "name": "stdout",
     "output_type": "stream",
     "text": [
      "Validation - Fold 5, Epoch 10: Accuracy: 0.1477\n"
     ]
    },
    {
     "name": "stderr",
     "output_type": "stream",
     "text": [
      "Training: 100%|██████████| 176/176 [00:00<00:00, 281.40it/s]\n",
      "Validation: 100%|██████████| 44/44 [00:00<00:00, 2836.25it/s]\n"
     ]
    },
    {
     "name": "stdout",
     "output_type": "stream",
     "text": [
      "Validation - Fold 5, Epoch 11: Accuracy: 0.1705\n"
     ]
    },
    {
     "name": "stderr",
     "output_type": "stream",
     "text": [
      "Training: 100%|██████████| 176/176 [00:00<00:00, 288.97it/s]\n",
      "Validation: 100%|██████████| 44/44 [00:00<00:00, 2815.83it/s]\n"
     ]
    },
    {
     "name": "stdout",
     "output_type": "stream",
     "text": [
      "Validation - Fold 5, Epoch 12: Accuracy: 0.2159\n"
     ]
    },
    {
     "name": "stderr",
     "output_type": "stream",
     "text": [
      "Training: 100%|██████████| 176/176 [00:00<00:00, 271.25it/s]\n",
      "Validation: 100%|██████████| 44/44 [00:00<00:00, 3966.42it/s]\n"
     ]
    },
    {
     "name": "stdout",
     "output_type": "stream",
     "text": [
      "Validation - Fold 5, Epoch 13: Accuracy: 0.1477\n"
     ]
    },
    {
     "name": "stderr",
     "output_type": "stream",
     "text": [
      "Training: 100%|██████████| 176/176 [00:00<00:00, 276.27it/s]\n",
      "Validation: 100%|██████████| 44/44 [00:00<00:00, 8344.61it/s]\n"
     ]
    },
    {
     "name": "stdout",
     "output_type": "stream",
     "text": [
      "Validation - Fold 5, Epoch 14: Accuracy: 0.1477\n"
     ]
    },
    {
     "name": "stderr",
     "output_type": "stream",
     "text": [
      "Training: 100%|██████████| 176/176 [00:00<00:00, 276.97it/s]\n",
      "Validation: 100%|██████████| 44/44 [00:00<00:00, 2836.82it/s]\n"
     ]
    },
    {
     "name": "stdout",
     "output_type": "stream",
     "text": [
      "Validation - Fold 5, Epoch 15: Accuracy: 0.1591\n"
     ]
    },
    {
     "name": "stderr",
     "output_type": "stream",
     "text": [
      "Training: 100%|██████████| 176/176 [00:00<00:00, 281.49it/s]\n",
      "Validation: 100%|██████████| 44/44 [00:00<?, ?it/s]\n"
     ]
    },
    {
     "name": "stdout",
     "output_type": "stream",
     "text": [
      "Validation - Fold 5, Epoch 16: Accuracy: 0.1364\n"
     ]
    },
    {
     "name": "stderr",
     "output_type": "stream",
     "text": [
      "Training: 100%|██████████| 176/176 [00:00<00:00, 281.53it/s]\n",
      "Validation: 100%|██████████| 44/44 [00:00<00:00, 2835.73it/s]\n"
     ]
    },
    {
     "name": "stdout",
     "output_type": "stream",
     "text": [
      "Validation - Fold 5, Epoch 17: Accuracy: 0.2500\n"
     ]
    },
    {
     "name": "stderr",
     "output_type": "stream",
     "text": [
      "Training: 100%|██████████| 176/176 [00:00<00:00, 274.85it/s]\n",
      "Validation: 100%|██████████| 44/44 [00:00<00:00, 2815.27it/s]\n"
     ]
    },
    {
     "name": "stdout",
     "output_type": "stream",
     "text": [
      "Validation - Fold 5, Epoch 18: Accuracy: 0.2500\n"
     ]
    },
    {
     "name": "stderr",
     "output_type": "stream",
     "text": [
      "Training: 100%|██████████| 176/176 [00:00<00:00, 281.60it/s]\n",
      "Validation: 100%|██████████| 44/44 [00:00<?, ?it/s]\n"
     ]
    },
    {
     "name": "stdout",
     "output_type": "stream",
     "text": [
      "Validation - Fold 5, Epoch 19: Accuracy: 0.2386\n"
     ]
    },
    {
     "name": "stderr",
     "output_type": "stream",
     "text": [
      "Training: 100%|██████████| 176/176 [00:00<00:00, 274.64it/s]\n",
      "Validation: 100%|██████████| 44/44 [00:00<00:00, 2813.90it/s]\n"
     ]
    },
    {
     "name": "stdout",
     "output_type": "stream",
     "text": [
      "Validation - Fold 5, Epoch 20: Accuracy: 0.1591\n"
     ]
    },
    {
     "name": "stderr",
     "output_type": "stream",
     "text": [
      "Training: 100%|██████████| 176/176 [00:00<00:00, 274.71it/s]\n",
      "Validation: 100%|██████████| 44/44 [00:00<?, ?it/s]\n"
     ]
    },
    {
     "name": "stdout",
     "output_type": "stream",
     "text": [
      "Validation - Fold 5, Epoch 21: Accuracy: 0.1477\n"
     ]
    },
    {
     "name": "stderr",
     "output_type": "stream",
     "text": [
      "Training: 100%|██████████| 176/176 [00:00<00:00, 288.96it/s]\n",
      "Validation: 100%|██████████| 44/44 [00:00<00:00, 2816.00it/s]\n"
     ]
    },
    {
     "name": "stdout",
     "output_type": "stream",
     "text": [
      "Validation - Fold 5, Epoch 22: Accuracy: 0.2614\n"
     ]
    },
    {
     "name": "stderr",
     "output_type": "stream",
     "text": [
      "Training: 100%|██████████| 176/176 [00:00<00:00, 281.38it/s]\n",
      "Validation: 100%|██████████| 44/44 [00:00<00:00, 2835.99it/s]\n"
     ]
    },
    {
     "name": "stdout",
     "output_type": "stream",
     "text": [
      "Validation - Fold 5, Epoch 23: Accuracy: 0.2386\n"
     ]
    },
    {
     "name": "stderr",
     "output_type": "stream",
     "text": [
      "Training: 100%|██████████| 176/176 [00:00<00:00, 274.89it/s]\n",
      "Validation: 100%|██████████| 44/44 [00:00<00:00, 2815.53it/s]\n"
     ]
    },
    {
     "name": "stdout",
     "output_type": "stream",
     "text": [
      "Validation - Fold 5, Epoch 24: Accuracy: 0.3068\n"
     ]
    },
    {
     "name": "stderr",
     "output_type": "stream",
     "text": [
      "Training: 100%|██████████| 176/176 [00:00<00:00, 288.81it/s]\n",
      "Validation: 100%|██████████| 44/44 [00:00<00:00, 32680.96it/s]\n"
     ]
    },
    {
     "name": "stdout",
     "output_type": "stream",
     "text": [
      "Validation - Fold 5, Epoch 25: Accuracy: 0.3295\n"
     ]
    },
    {
     "name": "stderr",
     "output_type": "stream",
     "text": [
      "Training: 100%|██████████| 176/176 [00:00<00:00, 269.09it/s]\n",
      "Validation: 100%|██████████| 44/44 [00:00<?, ?it/s]\n"
     ]
    },
    {
     "name": "stdout",
     "output_type": "stream",
     "text": [
      "Validation - Fold 5, Epoch 26: Accuracy: 0.3409\n"
     ]
    },
    {
     "name": "stderr",
     "output_type": "stream",
     "text": [
      "Training: 100%|██████████| 176/176 [00:00<00:00, 281.59it/s]\n",
      "Validation: 100%|██████████| 44/44 [00:00<?, ?it/s]\n"
     ]
    },
    {
     "name": "stdout",
     "output_type": "stream",
     "text": [
      "Validation - Fold 5, Epoch 27: Accuracy: 0.3295\n"
     ]
    },
    {
     "name": "stderr",
     "output_type": "stream",
     "text": [
      "Training: 100%|██████████| 176/176 [00:00<00:00, 274.72it/s]\n",
      "Validation: 100%|██████████| 44/44 [00:00<00:00, 2815.70it/s]\n"
     ]
    },
    {
     "name": "stdout",
     "output_type": "stream",
     "text": [
      "Validation - Fold 5, Epoch 28: Accuracy: 0.2727\n"
     ]
    },
    {
     "name": "stderr",
     "output_type": "stream",
     "text": [
      "Training: 100%|██████████| 176/176 [00:00<00:00, 274.74it/s]\n",
      "Validation: 100%|██████████| 44/44 [00:00<00:00, 2815.87it/s]\n"
     ]
    },
    {
     "name": "stdout",
     "output_type": "stream",
     "text": [
      "Validation - Fold 5, Epoch 29: Accuracy: 0.2955\n"
     ]
    },
    {
     "name": "stderr",
     "output_type": "stream",
     "text": [
      "Training: 100%|██████████| 176/176 [00:00<00:00, 281.62it/s]\n",
      "Validation: 100%|██████████| 44/44 [00:00<00:00, 2816.04it/s]\n"
     ]
    },
    {
     "name": "stdout",
     "output_type": "stream",
     "text": [
      "Validation - Fold 5, Epoch 30: Accuracy: 0.2841\n"
     ]
    },
    {
     "name": "stderr",
     "output_type": "stream",
     "text": [
      "Testing: 100%|██████████| 56/56 [00:00<00:00, 1791.88it/s]"
     ]
    },
    {
     "name": "stdout",
     "output_type": "stream",
     "text": [
      "Test Set Evaluation - Accuracy: 0.1982, Precision: 0.8249, Recall: 0.7829, F1:0.7836\n"
     ]
    },
    {
     "name": "stderr",
     "output_type": "stream",
     "text": [
      "\n"
     ]
    }
   ],
   "execution_count": 17
  },
  {
   "metadata": {},
   "cell_type": "markdown",
   "source": "# LSTM",
   "id": "990ea60a5cad8c3d"
  },
  {
   "metadata": {
    "ExecuteTime": {
     "end_time": "2024-05-06T10:48:30.934284Z",
     "start_time": "2024-05-06T10:48:30.918659Z"
    }
   },
   "cell_type": "code",
   "source": [
    "class LSTMClassifier(nn.Module):\n",
    "    def __init__(self, vocab_size, embedding_dim, hidden_dim, output_dim, pretrained_embeddings):\n",
    "        super(LSTMClassifier, self).__init__()\n",
    "        self.embedding = nn.Embedding(vocab_size, embedding_dim)\n",
    "        self.embedding.weight = nn.Parameter(torch.tensor(pretrained_embeddings, dtype=torch.float32))\n",
    "        self.embedding.weight.requires_grad = True  # Optionally freeze the embeddings\n",
    "        self.lstm = nn.LSTM(embedding_dim, hidden_dim, batch_first=True)\n",
    "        self.fc = nn.Linear(hidden_dim, output_dim)\n",
    "\n",
    "    def forward(self, text):\n",
    "        embedded = self.embedding(text)\n",
    "        packed_output, (hidden, cell) = self.lstm(embedded)\n",
    "        hidden = hidden.squeeze(0)\n",
    "        output = self.fc(hidden)\n",
    "        return torch.sigmoid(output)"
   ],
   "id": "e77799d5ed7f928",
   "outputs": [],
   "execution_count": 18
  },
  {
   "metadata": {
    "ExecuteTime": {
     "end_time": "2024-05-06T10:48:30.949910Z",
     "start_time": "2024-05-06T10:48:30.934284Z"
    }
   },
   "cell_type": "code",
   "source": [
    "# Load GloVe embeddings\n",
    "def load_glove_embeddings(glove_file):\n",
    "    embeddings = {}\n",
    "    with open(glove_file, 'r', encoding='utf-8') as file:\n",
    "        for line in tqdm(file, desc=\"Loading GloVe Embeddings\"):\n",
    "            parts = line.split()\n",
    "            word = parts[0]\n",
    "            vector = np.array(parts[1:], dtype=np.float32)\n",
    "            embeddings[word] = vector\n",
    "    return embeddings"
   ],
   "id": "424061fefe78513e",
   "outputs": [],
   "execution_count": 19
  },
  {
   "metadata": {
    "ExecuteTime": {
     "end_time": "2024-05-06T10:48:40.684340Z",
     "start_time": "2024-05-06T10:48:30.949910Z"
    }
   },
   "cell_type": "code",
   "source": [
    "glove_embeddings = load_glove_embeddings('glove.6B.100d.txt')  # Update path as necessary\n",
    "\n",
    "# Tokenization and vocabulary creation\n",
    "word_count = Counter(word for sentence in documents for word in sentence.lower().split())\n",
    "vocabulary = {word: i + 1 for i, word in enumerate(word_count)}  # start indexing from 1\n",
    "vocabulary['<PAD>'] = 0  # Padding value\n",
    "\n",
    "# Embedding matrix creation\n",
    "embedding_dim = 100  # Dimensionality of GloVe embeddings used\n",
    "embedding_matrix = np.zeros((len(vocabulary), embedding_dim))\n",
    "for word, i in tqdm(vocabulary.items(), desc='Creating Embedding Matrix'):\n",
    "    embedding_vector = glove_embeddings.get(word)\n",
    "    if embedding_vector is not None:\n",
    "        embedding_matrix[i] = embedding_vector\n",
    "\n",
    "# Convert text to sequence of integers\n",
    "sequences = [[vocabulary[word] for word in text.lower().split()] for text in documents]\n",
    "\n",
    "# Finding the longest sequence\n",
    "max_seq_len = max(len(seq) for seq in sequences)\n",
    "\n",
    "# Pad sequences\n",
    "seq_padded = [seq + [vocabulary['<PAD>']] * (max_seq_len - len(seq)) for seq in sequences]"
   ],
   "id": "a3609dd521dbe50e",
   "outputs": [
    {
     "name": "stderr",
     "output_type": "stream",
     "text": [
      "Loading GloVe Embeddings: 400000it [00:09, 44367.52it/s]\n",
      "Creating Embedding Matrix: 100%|██████████| 257/257 [00:00<?, ?it/s]\n"
     ]
    }
   ],
   "execution_count": 20
  },
  {
   "metadata": {
    "ExecuteTime": {
     "end_time": "2024-05-06T11:48:31.309400Z",
     "start_time": "2024-05-06T10:48:40.684340Z"
    }
   },
   "cell_type": "code",
   "source": [
    "x_tensor = torch.tensor(seq_padded, dtype=torch.long)\n",
    "y_tensor = torch.tensor(labels, dtype=torch.float)\n",
    "\n",
    "# Split dataset for final evaluation\n",
    "x_train_val, x_test, y_train_val, y_test = train_test_split(x_tensor, y_tensor, test_size=TEST_SIZE,\n",
    "                                                            random_state=RANDOM_SEED)\n",
    "test_data = DataLoader(TensorDataset(x_test, y_test), batch_size=BATCH_SIZE, shuffle=False)\n",
    "\n",
    "# K-Fold Configuration\n",
    "num_folds = 5\n",
    "kf = KFold(n_splits=num_folds, shuffle=True, random_state=RANDOM_SEED)\n",
    "\n",
    "# Perform K-fold Cross Validation\n",
    "for fold, (train_idx, val_idx) in enumerate(kf.split(x_train_val)):\n",
    "    print(f\"Training Fold {fold + 1}/{num_folds}\")\n",
    "\n",
    "    # Create training and validation data loaders\n",
    "    train_data = DataLoader(TensorDataset(x_train_val[train_idx], y_train_val[train_idx]), batch_size=BATCH_SIZE,\n",
    "                            shuffle=True)\n",
    "    val_data = DataLoader(TensorDataset(x_train_val[val_idx], y_train_val[val_idx]), batch_size=BATCH_SIZE,\n",
    "                          shuffle=False)\n",
    "\n",
    "    # Model, loss, and optimizer setup\n",
    "    model = LSTMClassifier(len(vocabulary), embedding_dim, hidden_dim=100, output_dim=y_train_val.shape[1],\n",
    "                           pretrained_embeddings=embedding_matrix)\n",
    "    model = model.to(DEVICE)\n",
    "    criterion = nn.BCELoss().to(DEVICE)\n",
    "    optimizer = optim.Adam(model.parameters(), lr=LR)\n",
    "\n",
    "    # Training loop\n",
    "    for epoch in range(NUM_EPOCHS):\n",
    "        model.train()\n",
    "        total_loss = 0\n",
    "        for inputs, targets in tqdm(train_data, desc=f\"Training Epoch {epoch + 1}, Fold {fold + 1}\"):\n",
    "            inputs, targets = inputs.to(DEVICE), targets.to(DEVICE)\n",
    "            optimizer.zero_grad()\n",
    "            outputs = model(inputs)\n",
    "            loss = criterion(outputs, targets)\n",
    "            loss.backward()\n",
    "            optimizer.step()\n",
    "            total_loss += loss.item()\n",
    "\n",
    "        model.eval()\n",
    "        with torch.no_grad():\n",
    "            all_predictions, all_targets = [], []\n",
    "            for inputs, targets in tqdm(val_data, desc=\"Validating\"):\n",
    "                inputs, targets = inputs.to(DEVICE), targets.to(DEVICE)\n",
    "                outputs = model(inputs)\n",
    "                predicted_labels = (outputs > 0.5).float()\n",
    "                all_predictions.append(predicted_labels)\n",
    "                all_targets.append(targets)\n",
    "\n",
    "            all_predictions = torch.cat(all_predictions).cpu()\n",
    "            all_targets = torch.cat(all_targets).cpu()\n",
    "            acc = accuracy_score(all_targets.numpy(), all_predictions.numpy())\n",
    "            precision = precision_score(all_targets.numpy(), all_predictions.numpy(), average='samples',\n",
    "                                        zero_division=0)\n",
    "            recall = recall_score(all_targets.numpy(), all_predictions.numpy(), average='samples', zero_division=0)\n",
    "            f1 = f1_score(all_targets.numpy(), all_predictions.numpy(), average='samples', zero_division=0)\n",
    "\n",
    "            print(\n",
    "                f\"Epoch {epoch + 1}/{NUM_EPOCHS}, Fold {fold + 1} - Loss: {total_loss / len(train_data):.4f}, Acc: {acc:.4f}, Precision: {precision:.4f}, Recall: {recall:.4f}, F1: {f1:.4f}\")\n",
    "\n",
    "# Evaluate on the separate test set\n",
    "model.eval()\n",
    "with torch.no_grad():\n",
    "    all_predictions, all_targets = [], []\n",
    "    for inputs, targets in tqdm(test_data, desc=\"Evaluating on Test Set\"):\n",
    "        inputs, targets = inputs.to(DEVICE), targets.to(DEVICE)\n",
    "        outputs = model(inputs)\n",
    "        predicted_labels = (outputs > 0.5).float()\n",
    "        all_predictions.append(predicted_labels)\n",
    "        all_targets.append(targets)\n",
    "\n",
    "    all_predictions = torch.cat(all_predictions).cpu()\n",
    "    all_targets = torch.cat(all_targets).cpu()\n",
    "    acc = accuracy_score(all_targets.numpy(), all_predictions.numpy())\n",
    "    precision = precision_score(all_targets.numpy(), all_predictions.numpy(), average='samples', zero_division=0)\n",
    "    recall = recall_score(all_targets.numpy(), all_predictions.numpy(), average='samples', zero_division=0)\n",
    "    f1 = f1_score(all_targets.numpy(), all_predictions.numpy(), average='samples', zero_division=0)\n",
    "\n",
    "    print(f\"Test Set Evaluation - Acc: {acc:.4f}, Precision: {precision:.4f}, Recall: {recall:.4f}, F1: {f1:.4f}\")"
   ],
   "id": "c00f0ccc3317a45e",
   "outputs": [
    {
     "name": "stdout",
     "output_type": "stream",
     "text": [
      "Training Fold 1/5\n"
     ]
    },
    {
     "name": "stderr",
     "output_type": "stream",
     "text": [
      "Training Epoch 1, Fold 1: 100%|██████████| 176/176 [00:21<00:00,  8.05it/s]\n",
      "Validating: 100%|██████████| 44/44 [00:02<00:00, 15.30it/s]\n"
     ]
    },
    {
     "name": "stdout",
     "output_type": "stream",
     "text": [
      "Epoch 1/30, Fold 1 - Loss: 0.2883, Acc: 0.0909, Precision: 0.8144, Recall: 0.6871, F1: 0.7273\n"
     ]
    },
    {
     "name": "stderr",
     "output_type": "stream",
     "text": [
      "Training Epoch 2, Fold 1: 100%|██████████| 176/176 [00:20<00:00,  8.47it/s]\n",
      "Validating: 100%|██████████| 44/44 [00:02<00:00, 15.64it/s]\n"
     ]
    },
    {
     "name": "stdout",
     "output_type": "stream",
     "text": [
      "Epoch 2/30, Fold 1 - Loss: 0.2367, Acc: 0.0909, Precision: 0.8144, Recall: 0.6871, F1: 0.7273\n"
     ]
    },
    {
     "name": "stderr",
     "output_type": "stream",
     "text": [
      "Training Epoch 3, Fold 1: 100%|██████████| 176/176 [00:20<00:00,  8.44it/s]\n",
      "Validating: 100%|██████████| 44/44 [00:02<00:00, 15.57it/s]\n"
     ]
    },
    {
     "name": "stdout",
     "output_type": "stream",
     "text": [
      "Epoch 3/30, Fold 1 - Loss: 0.2359, Acc: 0.0909, Precision: 0.8144, Recall: 0.6871, F1: 0.7273\n"
     ]
    },
    {
     "name": "stderr",
     "output_type": "stream",
     "text": [
      "Training Epoch 4, Fold 1: 100%|██████████| 176/176 [00:20<00:00,  8.43it/s]\n",
      "Validating: 100%|██████████| 44/44 [00:02<00:00, 15.65it/s]\n"
     ]
    },
    {
     "name": "stdout",
     "output_type": "stream",
     "text": [
      "Epoch 4/30, Fold 1 - Loss: 0.2363, Acc: 0.0909, Precision: 0.8144, Recall: 0.6871, F1: 0.7273\n"
     ]
    },
    {
     "name": "stderr",
     "output_type": "stream",
     "text": [
      "Training Epoch 5, Fold 1: 100%|██████████| 176/176 [00:20<00:00,  8.43it/s]\n",
      "Validating: 100%|██████████| 44/44 [00:02<00:00, 15.47it/s]\n"
     ]
    },
    {
     "name": "stdout",
     "output_type": "stream",
     "text": [
      "Epoch 5/30, Fold 1 - Loss: 0.2354, Acc: 0.0909, Precision: 0.8144, Recall: 0.6871, F1: 0.7273\n"
     ]
    },
    {
     "name": "stderr",
     "output_type": "stream",
     "text": [
      "Training Epoch 6, Fold 1: 100%|██████████| 176/176 [00:20<00:00,  8.44it/s]\n",
      "Validating: 100%|██████████| 44/44 [00:02<00:00, 15.64it/s]\n"
     ]
    },
    {
     "name": "stdout",
     "output_type": "stream",
     "text": [
      "Epoch 6/30, Fold 1 - Loss: 0.2340, Acc: 0.0909, Precision: 0.8144, Recall: 0.6871, F1: 0.7273\n"
     ]
    },
    {
     "name": "stderr",
     "output_type": "stream",
     "text": [
      "Training Epoch 7, Fold 1: 100%|██████████| 176/176 [00:20<00:00,  8.44it/s]\n",
      "Validating: 100%|██████████| 44/44 [00:02<00:00, 15.56it/s]\n"
     ]
    },
    {
     "name": "stdout",
     "output_type": "stream",
     "text": [
      "Epoch 7/30, Fold 1 - Loss: 0.2361, Acc: 0.0909, Precision: 0.8144, Recall: 0.6871, F1: 0.7273\n"
     ]
    },
    {
     "name": "stderr",
     "output_type": "stream",
     "text": [
      "Training Epoch 8, Fold 1: 100%|██████████| 176/176 [00:20<00:00,  8.43it/s]\n",
      "Validating: 100%|██████████| 44/44 [00:02<00:00, 15.64it/s]\n"
     ]
    },
    {
     "name": "stdout",
     "output_type": "stream",
     "text": [
      "Epoch 8/30, Fold 1 - Loss: 0.2358, Acc: 0.0909, Precision: 0.8144, Recall: 0.6871, F1: 0.7273\n"
     ]
    },
    {
     "name": "stderr",
     "output_type": "stream",
     "text": [
      "Training Epoch 9, Fold 1: 100%|██████████| 176/176 [00:20<00:00,  8.44it/s]\n",
      "Validating: 100%|██████████| 44/44 [00:02<00:00, 15.56it/s]\n"
     ]
    },
    {
     "name": "stdout",
     "output_type": "stream",
     "text": [
      "Epoch 9/30, Fold 1 - Loss: 0.2354, Acc: 0.0909, Precision: 0.8144, Recall: 0.6871, F1: 0.7273\n"
     ]
    },
    {
     "name": "stderr",
     "output_type": "stream",
     "text": [
      "Training Epoch 10, Fold 1: 100%|██████████| 176/176 [00:20<00:00,  8.44it/s]\n",
      "Validating: 100%|██████████| 44/44 [00:02<00:00, 15.56it/s]\n"
     ]
    },
    {
     "name": "stdout",
     "output_type": "stream",
     "text": [
      "Epoch 10/30, Fold 1 - Loss: 0.2356, Acc: 0.0909, Precision: 0.8144, Recall: 0.6871, F1: 0.7273\n"
     ]
    },
    {
     "name": "stderr",
     "output_type": "stream",
     "text": [
      "Training Epoch 11, Fold 1: 100%|██████████| 176/176 [00:20<00:00,  8.43it/s]\n",
      "Validating: 100%|██████████| 44/44 [00:02<00:00, 15.65it/s]\n"
     ]
    },
    {
     "name": "stdout",
     "output_type": "stream",
     "text": [
      "Epoch 11/30, Fold 1 - Loss: 0.2357, Acc: 0.0909, Precision: 0.8144, Recall: 0.6871, F1: 0.7273\n"
     ]
    },
    {
     "name": "stderr",
     "output_type": "stream",
     "text": [
      "Training Epoch 12, Fold 1: 100%|██████████| 176/176 [00:20<00:00,  8.43it/s]\n",
      "Validating: 100%|██████████| 44/44 [00:02<00:00, 15.56it/s]\n"
     ]
    },
    {
     "name": "stdout",
     "output_type": "stream",
     "text": [
      "Epoch 12/30, Fold 1 - Loss: 0.2363, Acc: 0.0909, Precision: 0.8144, Recall: 0.6871, F1: 0.7273\n"
     ]
    },
    {
     "name": "stderr",
     "output_type": "stream",
     "text": [
      "Training Epoch 13, Fold 1: 100%|██████████| 176/176 [00:20<00:00,  8.44it/s]\n",
      "Validating: 100%|██████████| 44/44 [00:02<00:00, 15.55it/s]\n"
     ]
    },
    {
     "name": "stdout",
     "output_type": "stream",
     "text": [
      "Epoch 13/30, Fold 1 - Loss: 0.2349, Acc: 0.0909, Precision: 0.8144, Recall: 0.6871, F1: 0.7273\n"
     ]
    },
    {
     "name": "stderr",
     "output_type": "stream",
     "text": [
      "Training Epoch 14, Fold 1: 100%|██████████| 176/176 [00:20<00:00,  8.43it/s]\n",
      "Validating: 100%|██████████| 44/44 [00:02<00:00, 15.56it/s]\n"
     ]
    },
    {
     "name": "stdout",
     "output_type": "stream",
     "text": [
      "Epoch 14/30, Fold 1 - Loss: 0.2360, Acc: 0.0909, Precision: 0.8144, Recall: 0.6871, F1: 0.7273\n"
     ]
    },
    {
     "name": "stderr",
     "output_type": "stream",
     "text": [
      "Training Epoch 15, Fold 1: 100%|██████████| 176/176 [00:20<00:00,  8.43it/s]\n",
      "Validating: 100%|██████████| 44/44 [00:02<00:00, 15.56it/s]\n"
     ]
    },
    {
     "name": "stdout",
     "output_type": "stream",
     "text": [
      "Epoch 15/30, Fold 1 - Loss: 0.2347, Acc: 0.0909, Precision: 0.8144, Recall: 0.6871, F1: 0.7273\n"
     ]
    },
    {
     "name": "stderr",
     "output_type": "stream",
     "text": [
      "Training Epoch 16, Fold 1: 100%|██████████| 176/176 [00:20<00:00,  8.40it/s]\n",
      "Validating: 100%|██████████| 44/44 [00:02<00:00, 15.47it/s]\n"
     ]
    },
    {
     "name": "stdout",
     "output_type": "stream",
     "text": [
      "Epoch 16/30, Fold 1 - Loss: 0.2345, Acc: 0.0909, Precision: 0.8144, Recall: 0.6871, F1: 0.7273\n"
     ]
    },
    {
     "name": "stderr",
     "output_type": "stream",
     "text": [
      "Training Epoch 17, Fold 1: 100%|██████████| 176/176 [00:20<00:00,  8.40it/s]\n",
      "Validating: 100%|██████████| 44/44 [00:02<00:00, 15.56it/s]\n"
     ]
    },
    {
     "name": "stdout",
     "output_type": "stream",
     "text": [
      "Epoch 17/30, Fold 1 - Loss: 0.2348, Acc: 0.0795, Precision: 0.7074, Recall: 0.7788, F1: 0.7242\n"
     ]
    },
    {
     "name": "stderr",
     "output_type": "stream",
     "text": [
      "Training Epoch 18, Fold 1: 100%|██████████| 176/176 [00:20<00:00,  8.40it/s]\n",
      "Validating: 100%|██████████| 44/44 [00:02<00:00, 15.56it/s]\n"
     ]
    },
    {
     "name": "stdout",
     "output_type": "stream",
     "text": [
      "Epoch 18/30, Fold 1 - Loss: 0.2348, Acc: 0.0909, Precision: 0.8144, Recall: 0.6871, F1: 0.7273\n"
     ]
    },
    {
     "name": "stderr",
     "output_type": "stream",
     "text": [
      "Training Epoch 19, Fold 1: 100%|██████████| 176/176 [00:20<00:00,  8.39it/s]\n",
      "Validating: 100%|██████████| 44/44 [00:02<00:00, 15.56it/s]\n"
     ]
    },
    {
     "name": "stdout",
     "output_type": "stream",
     "text": [
      "Epoch 19/30, Fold 1 - Loss: 0.2353, Acc: 0.0909, Precision: 0.8144, Recall: 0.6871, F1: 0.7273\n"
     ]
    },
    {
     "name": "stderr",
     "output_type": "stream",
     "text": [
      "Training Epoch 20, Fold 1: 100%|██████████| 176/176 [00:20<00:00,  8.40it/s]\n",
      "Validating: 100%|██████████| 44/44 [00:02<00:00, 15.47it/s]\n"
     ]
    },
    {
     "name": "stdout",
     "output_type": "stream",
     "text": [
      "Epoch 20/30, Fold 1 - Loss: 0.2345, Acc: 0.0909, Precision: 0.8144, Recall: 0.6871, F1: 0.7273\n"
     ]
    },
    {
     "name": "stderr",
     "output_type": "stream",
     "text": [
      "Training Epoch 21, Fold 1: 100%|██████████| 176/176 [00:20<00:00,  8.39it/s]\n",
      "Validating: 100%|██████████| 44/44 [00:02<00:00, 15.56it/s]\n"
     ]
    },
    {
     "name": "stdout",
     "output_type": "stream",
     "text": [
      "Epoch 21/30, Fold 1 - Loss: 0.2353, Acc: 0.0909, Precision: 0.8144, Recall: 0.6871, F1: 0.7273\n"
     ]
    },
    {
     "name": "stderr",
     "output_type": "stream",
     "text": [
      "Training Epoch 22, Fold 1: 100%|██████████| 176/176 [00:20<00:00,  8.39it/s]\n",
      "Validating: 100%|██████████| 44/44 [00:02<00:00, 15.47it/s]\n"
     ]
    },
    {
     "name": "stdout",
     "output_type": "stream",
     "text": [
      "Epoch 22/30, Fold 1 - Loss: 0.2348, Acc: 0.0909, Precision: 0.8144, Recall: 0.6871, F1: 0.7273\n"
     ]
    },
    {
     "name": "stderr",
     "output_type": "stream",
     "text": [
      "Training Epoch 23, Fold 1: 100%|██████████| 176/176 [00:20<00:00,  8.39it/s]\n",
      "Validating: 100%|██████████| 44/44 [00:02<00:00, 15.39it/s]\n"
     ]
    },
    {
     "name": "stdout",
     "output_type": "stream",
     "text": [
      "Epoch 23/30, Fold 1 - Loss: 0.2349, Acc: 0.0909, Precision: 0.8144, Recall: 0.6871, F1: 0.7273\n"
     ]
    },
    {
     "name": "stderr",
     "output_type": "stream",
     "text": [
      "Training Epoch 24, Fold 1: 100%|██████████| 176/176 [00:20<00:00,  8.40it/s]\n",
      "Validating: 100%|██████████| 44/44 [00:02<00:00, 15.47it/s]\n"
     ]
    },
    {
     "name": "stdout",
     "output_type": "stream",
     "text": [
      "Epoch 24/30, Fold 1 - Loss: 0.2352, Acc: 0.0795, Precision: 0.7074, Recall: 0.7788, F1: 0.7242\n"
     ]
    },
    {
     "name": "stderr",
     "output_type": "stream",
     "text": [
      "Training Epoch 25, Fold 1: 100%|██████████| 176/176 [00:20<00:00,  8.38it/s]\n",
      "Validating: 100%|██████████| 44/44 [00:02<00:00, 15.53it/s]\n"
     ]
    },
    {
     "name": "stdout",
     "output_type": "stream",
     "text": [
      "Epoch 25/30, Fold 1 - Loss: 0.2350, Acc: 0.0909, Precision: 0.8144, Recall: 0.6871, F1: 0.7273\n"
     ]
    },
    {
     "name": "stderr",
     "output_type": "stream",
     "text": [
      "Training Epoch 26, Fold 1: 100%|██████████| 176/176 [00:20<00:00,  8.39it/s]\n",
      "Validating: 100%|██████████| 44/44 [00:02<00:00, 15.56it/s]\n"
     ]
    },
    {
     "name": "stdout",
     "output_type": "stream",
     "text": [
      "Epoch 26/30, Fold 1 - Loss: 0.2342, Acc: 0.0909, Precision: 0.8144, Recall: 0.6871, F1: 0.7273\n"
     ]
    },
    {
     "name": "stderr",
     "output_type": "stream",
     "text": [
      "Training Epoch 27, Fold 1: 100%|██████████| 176/176 [00:20<00:00,  8.39it/s]\n",
      "Validating: 100%|██████████| 44/44 [00:02<00:00, 15.45it/s]\n"
     ]
    },
    {
     "name": "stdout",
     "output_type": "stream",
     "text": [
      "Epoch 27/30, Fold 1 - Loss: 0.2347, Acc: 0.0909, Precision: 0.8144, Recall: 0.6871, F1: 0.7273\n"
     ]
    },
    {
     "name": "stderr",
     "output_type": "stream",
     "text": [
      "Training Epoch 28, Fold 1: 100%|██████████| 176/176 [00:20<00:00,  8.40it/s]\n",
      "Validating: 100%|██████████| 44/44 [00:02<00:00, 15.47it/s]\n"
     ]
    },
    {
     "name": "stdout",
     "output_type": "stream",
     "text": [
      "Epoch 28/30, Fold 1 - Loss: 0.2346, Acc: 0.0909, Precision: 0.8144, Recall: 0.6871, F1: 0.7273\n"
     ]
    },
    {
     "name": "stderr",
     "output_type": "stream",
     "text": [
      "Training Epoch 29, Fold 1: 100%|██████████| 176/176 [00:20<00:00,  8.39it/s]\n",
      "Validating: 100%|██████████| 44/44 [00:02<00:00, 15.56it/s]\n"
     ]
    },
    {
     "name": "stdout",
     "output_type": "stream",
     "text": [
      "Epoch 29/30, Fold 1 - Loss: 0.2346, Acc: 0.0909, Precision: 0.8144, Recall: 0.6871, F1: 0.7273\n"
     ]
    },
    {
     "name": "stderr",
     "output_type": "stream",
     "text": [
      "Training Epoch 30, Fold 1: 100%|██████████| 176/176 [00:20<00:00,  8.39it/s]\n",
      "Validating: 100%|██████████| 44/44 [00:02<00:00, 15.56it/s]\n"
     ]
    },
    {
     "name": "stdout",
     "output_type": "stream",
     "text": [
      "Epoch 30/30, Fold 1 - Loss: 0.2345, Acc: 0.0909, Precision: 0.8144, Recall: 0.6871, F1: 0.7273\n",
      "Training Fold 2/5\n"
     ]
    },
    {
     "name": "stderr",
     "output_type": "stream",
     "text": [
      "Training Epoch 1, Fold 2: 100%|██████████| 176/176 [00:20<00:00,  8.40it/s]\n",
      "Validating: 100%|██████████| 44/44 [00:02<00:00, 15.58it/s]\n"
     ]
    },
    {
     "name": "stdout",
     "output_type": "stream",
     "text": [
      "Epoch 1/30, Fold 2 - Loss: 0.2844, Acc: 0.1705, Precision: 0.8106, Recall: 0.6920, F1: 0.7257\n"
     ]
    },
    {
     "name": "stderr",
     "output_type": "stream",
     "text": [
      "Training Epoch 2, Fold 2: 100%|██████████| 176/176 [00:20<00:00,  8.40it/s]\n",
      "Validating: 100%|██████████| 44/44 [00:02<00:00, 15.56it/s]\n"
     ]
    },
    {
     "name": "stdout",
     "output_type": "stream",
     "text": [
      "Epoch 2/30, Fold 2 - Loss: 0.2321, Acc: 0.1705, Precision: 0.8106, Recall: 0.6920, F1: 0.7257\n"
     ]
    },
    {
     "name": "stderr",
     "output_type": "stream",
     "text": [
      "Training Epoch 3, Fold 2: 100%|██████████| 176/176 [00:20<00:00,  8.40it/s]\n",
      "Validating: 100%|██████████| 44/44 [00:02<00:00, 15.56it/s]\n"
     ]
    },
    {
     "name": "stdout",
     "output_type": "stream",
     "text": [
      "Epoch 3/30, Fold 2 - Loss: 0.2310, Acc: 0.1705, Precision: 0.8106, Recall: 0.6920, F1: 0.7257\n"
     ]
    },
    {
     "name": "stderr",
     "output_type": "stream",
     "text": [
      "Training Epoch 4, Fold 2: 100%|██████████| 176/176 [00:20<00:00,  8.39it/s]\n",
      "Validating: 100%|██████████| 44/44 [00:02<00:00, 15.56it/s]\n"
     ]
    },
    {
     "name": "stdout",
     "output_type": "stream",
     "text": [
      "Epoch 4/30, Fold 2 - Loss: 0.2322, Acc: 0.1705, Precision: 0.8106, Recall: 0.6920, F1: 0.7257\n"
     ]
    },
    {
     "name": "stderr",
     "output_type": "stream",
     "text": [
      "Training Epoch 5, Fold 2: 100%|██████████| 176/176 [00:20<00:00,  8.40it/s]\n",
      "Validating: 100%|██████████| 44/44 [00:02<00:00, 15.56it/s]\n"
     ]
    },
    {
     "name": "stdout",
     "output_type": "stream",
     "text": [
      "Epoch 5/30, Fold 2 - Loss: 0.2302, Acc: 0.0568, Precision: 0.7017, Recall: 0.7837, F1: 0.7208\n"
     ]
    },
    {
     "name": "stderr",
     "output_type": "stream",
     "text": [
      "Training Epoch 6, Fold 2: 100%|██████████| 176/176 [00:20<00:00,  8.39it/s]\n",
      "Validating: 100%|██████████| 44/44 [00:02<00:00, 15.46it/s]\n"
     ]
    },
    {
     "name": "stdout",
     "output_type": "stream",
     "text": [
      "Epoch 6/30, Fold 2 - Loss: 0.2313, Acc: 0.1705, Precision: 0.8106, Recall: 0.6920, F1: 0.7257\n"
     ]
    },
    {
     "name": "stderr",
     "output_type": "stream",
     "text": [
      "Training Epoch 7, Fold 2: 100%|██████████| 176/176 [00:20<00:00,  8.39it/s]\n",
      "Validating: 100%|██████████| 44/44 [00:02<00:00, 15.47it/s]\n"
     ]
    },
    {
     "name": "stdout",
     "output_type": "stream",
     "text": [
      "Epoch 7/30, Fold 2 - Loss: 0.2311, Acc: 0.1705, Precision: 0.8106, Recall: 0.6920, F1: 0.7257\n"
     ]
    },
    {
     "name": "stderr",
     "output_type": "stream",
     "text": [
      "Training Epoch 8, Fold 2: 100%|██████████| 176/176 [00:20<00:00,  8.39it/s]\n",
      "Validating: 100%|██████████| 44/44 [00:02<00:00, 15.56it/s]\n"
     ]
    },
    {
     "name": "stdout",
     "output_type": "stream",
     "text": [
      "Epoch 8/30, Fold 2 - Loss: 0.2307, Acc: 0.1705, Precision: 0.8106, Recall: 0.6920, F1: 0.7257\n"
     ]
    },
    {
     "name": "stderr",
     "output_type": "stream",
     "text": [
      "Training Epoch 9, Fold 2: 100%|██████████| 176/176 [00:20<00:00,  8.39it/s]\n",
      "Validating: 100%|██████████| 44/44 [00:02<00:00, 15.56it/s]\n"
     ]
    },
    {
     "name": "stdout",
     "output_type": "stream",
     "text": [
      "Epoch 9/30, Fold 2 - Loss: 0.2310, Acc: 0.1705, Precision: 0.8106, Recall: 0.6920, F1: 0.7257\n"
     ]
    },
    {
     "name": "stderr",
     "output_type": "stream",
     "text": [
      "Training Epoch 10, Fold 2: 100%|██████████| 176/176 [00:20<00:00,  8.40it/s]\n",
      "Validating: 100%|██████████| 44/44 [00:02<00:00, 15.47it/s]\n"
     ]
    },
    {
     "name": "stdout",
     "output_type": "stream",
     "text": [
      "Epoch 10/30, Fold 2 - Loss: 0.2304, Acc: 0.0568, Precision: 0.7017, Recall: 0.7837, F1: 0.7208\n"
     ]
    },
    {
     "name": "stderr",
     "output_type": "stream",
     "text": [
      "Training Epoch 11, Fold 2: 100%|██████████| 176/176 [00:20<00:00,  8.39it/s]\n",
      "Validating: 100%|██████████| 44/44 [00:02<00:00, 15.47it/s]\n"
     ]
    },
    {
     "name": "stdout",
     "output_type": "stream",
     "text": [
      "Epoch 11/30, Fold 2 - Loss: 0.2308, Acc: 0.1705, Precision: 0.8106, Recall: 0.6920, F1: 0.7257\n"
     ]
    },
    {
     "name": "stderr",
     "output_type": "stream",
     "text": [
      "Training Epoch 12, Fold 2: 100%|██████████| 176/176 [00:20<00:00,  8.39it/s]\n",
      "Validating: 100%|██████████| 44/44 [00:02<00:00, 15.47it/s]\n"
     ]
    },
    {
     "name": "stdout",
     "output_type": "stream",
     "text": [
      "Epoch 12/30, Fold 2 - Loss: 0.2304, Acc: 0.1705, Precision: 0.8106, Recall: 0.6920, F1: 0.7257\n"
     ]
    },
    {
     "name": "stderr",
     "output_type": "stream",
     "text": [
      "Training Epoch 13, Fold 2: 100%|██████████| 176/176 [00:20<00:00,  8.39it/s]\n",
      "Validating: 100%|██████████| 44/44 [00:02<00:00, 15.56it/s]\n"
     ]
    },
    {
     "name": "stdout",
     "output_type": "stream",
     "text": [
      "Epoch 13/30, Fold 2 - Loss: 0.2298, Acc: 0.1705, Precision: 0.8106, Recall: 0.6920, F1: 0.7257\n"
     ]
    },
    {
     "name": "stderr",
     "output_type": "stream",
     "text": [
      "Training Epoch 14, Fold 2: 100%|██████████| 176/176 [00:20<00:00,  8.39it/s]\n",
      "Validating: 100%|██████████| 44/44 [00:02<00:00, 15.47it/s]\n"
     ]
    },
    {
     "name": "stdout",
     "output_type": "stream",
     "text": [
      "Epoch 14/30, Fold 2 - Loss: 0.2306, Acc: 0.1705, Precision: 0.8106, Recall: 0.6920, F1: 0.7257\n"
     ]
    },
    {
     "name": "stderr",
     "output_type": "stream",
     "text": [
      "Training Epoch 15, Fold 2: 100%|██████████| 176/176 [00:20<00:00,  8.40it/s]\n",
      "Validating: 100%|██████████| 44/44 [00:02<00:00, 15.50it/s]\n"
     ]
    },
    {
     "name": "stdout",
     "output_type": "stream",
     "text": [
      "Epoch 15/30, Fold 2 - Loss: 0.2306, Acc: 0.1705, Precision: 0.8106, Recall: 0.6920, F1: 0.7257\n"
     ]
    },
    {
     "name": "stderr",
     "output_type": "stream",
     "text": [
      "Training Epoch 16, Fold 2: 100%|██████████| 176/176 [00:20<00:00,  8.38it/s]\n",
      "Validating: 100%|██████████| 44/44 [00:02<00:00, 15.47it/s]\n"
     ]
    },
    {
     "name": "stdout",
     "output_type": "stream",
     "text": [
      "Epoch 16/30, Fold 2 - Loss: 0.2298, Acc: 0.1705, Precision: 0.8106, Recall: 0.6920, F1: 0.7257\n"
     ]
    },
    {
     "name": "stderr",
     "output_type": "stream",
     "text": [
      "Training Epoch 17, Fold 2: 100%|██████████| 176/176 [00:20<00:00,  8.39it/s]\n",
      "Validating: 100%|██████████| 44/44 [00:02<00:00, 15.56it/s]\n"
     ]
    },
    {
     "name": "stdout",
     "output_type": "stream",
     "text": [
      "Epoch 17/30, Fold 2 - Loss: 0.2304, Acc: 0.1705, Precision: 0.8106, Recall: 0.6920, F1: 0.7257\n"
     ]
    },
    {
     "name": "stderr",
     "output_type": "stream",
     "text": [
      "Training Epoch 18, Fold 2: 100%|██████████| 176/176 [00:20<00:00,  8.39it/s]\n",
      "Validating: 100%|██████████| 44/44 [00:02<00:00, 15.48it/s]\n"
     ]
    },
    {
     "name": "stdout",
     "output_type": "stream",
     "text": [
      "Epoch 18/30, Fold 2 - Loss: 0.2305, Acc: 0.1705, Precision: 0.8106, Recall: 0.6920, F1: 0.7257\n"
     ]
    },
    {
     "name": "stderr",
     "output_type": "stream",
     "text": [
      "Training Epoch 19, Fold 2: 100%|██████████| 176/176 [00:21<00:00,  8.37it/s]\n",
      "Validating: 100%|██████████| 44/44 [00:02<00:00, 15.47it/s]\n"
     ]
    },
    {
     "name": "stdout",
     "output_type": "stream",
     "text": [
      "Epoch 19/30, Fold 2 - Loss: 0.2301, Acc: 0.1705, Precision: 0.8106, Recall: 0.6920, F1: 0.7257\n"
     ]
    },
    {
     "name": "stderr",
     "output_type": "stream",
     "text": [
      "Training Epoch 20, Fold 2: 100%|██████████| 176/176 [00:21<00:00,  8.37it/s]\n",
      "Validating: 100%|██████████| 44/44 [00:02<00:00, 15.47it/s]\n"
     ]
    },
    {
     "name": "stdout",
     "output_type": "stream",
     "text": [
      "Epoch 20/30, Fold 2 - Loss: 0.2298, Acc: 0.1705, Precision: 0.8106, Recall: 0.6920, F1: 0.7257\n"
     ]
    },
    {
     "name": "stderr",
     "output_type": "stream",
     "text": [
      "Training Epoch 21, Fold 2: 100%|██████████| 176/176 [00:20<00:00,  8.39it/s]\n",
      "Validating: 100%|██████████| 44/44 [00:02<00:00, 15.47it/s]\n"
     ]
    },
    {
     "name": "stdout",
     "output_type": "stream",
     "text": [
      "Epoch 21/30, Fold 2 - Loss: 0.2299, Acc: 0.1705, Precision: 0.8106, Recall: 0.6920, F1: 0.7257\n"
     ]
    },
    {
     "name": "stderr",
     "output_type": "stream",
     "text": [
      "Training Epoch 22, Fold 2: 100%|██████████| 176/176 [00:20<00:00,  8.39it/s]\n",
      "Validating: 100%|██████████| 44/44 [00:02<00:00, 15.47it/s]\n"
     ]
    },
    {
     "name": "stdout",
     "output_type": "stream",
     "text": [
      "Epoch 22/30, Fold 2 - Loss: 0.2299, Acc: 0.1705, Precision: 0.8106, Recall: 0.6920, F1: 0.7257\n"
     ]
    },
    {
     "name": "stderr",
     "output_type": "stream",
     "text": [
      "Training Epoch 23, Fold 2: 100%|██████████| 176/176 [00:20<00:00,  8.39it/s]\n",
      "Validating: 100%|██████████| 44/44 [00:02<00:00, 15.47it/s]\n"
     ]
    },
    {
     "name": "stdout",
     "output_type": "stream",
     "text": [
      "Epoch 23/30, Fold 2 - Loss: 0.2294, Acc: 0.0568, Precision: 0.7017, Recall: 0.7837, F1: 0.7208\n"
     ]
    },
    {
     "name": "stderr",
     "output_type": "stream",
     "text": [
      "Training Epoch 24, Fold 2: 100%|██████████| 176/176 [00:20<00:00,  8.39it/s]\n",
      "Validating: 100%|██████████| 44/44 [00:02<00:00, 15.56it/s]\n"
     ]
    },
    {
     "name": "stdout",
     "output_type": "stream",
     "text": [
      "Epoch 24/30, Fold 2 - Loss: 0.2294, Acc: 0.1705, Precision: 0.8106, Recall: 0.6920, F1: 0.7257\n"
     ]
    },
    {
     "name": "stderr",
     "output_type": "stream",
     "text": [
      "Training Epoch 25, Fold 2: 100%|██████████| 176/176 [00:20<00:00,  8.38it/s]\n",
      "Validating: 100%|██████████| 44/44 [00:02<00:00, 15.47it/s]\n"
     ]
    },
    {
     "name": "stdout",
     "output_type": "stream",
     "text": [
      "Epoch 25/30, Fold 2 - Loss: 0.2296, Acc: 0.1705, Precision: 0.8106, Recall: 0.6920, F1: 0.7257\n"
     ]
    },
    {
     "name": "stderr",
     "output_type": "stream",
     "text": [
      "Training Epoch 26, Fold 2: 100%|██████████| 176/176 [00:20<00:00,  8.38it/s]\n",
      "Validating: 100%|██████████| 44/44 [00:02<00:00, 15.56it/s]\n"
     ]
    },
    {
     "name": "stdout",
     "output_type": "stream",
     "text": [
      "Epoch 26/30, Fold 2 - Loss: 0.2295, Acc: 0.1705, Precision: 0.8106, Recall: 0.6920, F1: 0.7257\n"
     ]
    },
    {
     "name": "stderr",
     "output_type": "stream",
     "text": [
      "Training Epoch 27, Fold 2: 100%|██████████| 176/176 [00:20<00:00,  8.38it/s]\n",
      "Validating: 100%|██████████| 44/44 [00:02<00:00, 15.47it/s]\n"
     ]
    },
    {
     "name": "stdout",
     "output_type": "stream",
     "text": [
      "Epoch 27/30, Fold 2 - Loss: 0.2300, Acc: 0.1705, Precision: 0.8106, Recall: 0.6920, F1: 0.7257\n"
     ]
    },
    {
     "name": "stderr",
     "output_type": "stream",
     "text": [
      "Training Epoch 28, Fold 2: 100%|██████████| 176/176 [00:20<00:00,  8.39it/s]\n",
      "Validating: 100%|██████████| 44/44 [00:02<00:00, 15.47it/s]\n"
     ]
    },
    {
     "name": "stdout",
     "output_type": "stream",
     "text": [
      "Epoch 28/30, Fold 2 - Loss: 0.2299, Acc: 0.1705, Precision: 0.8106, Recall: 0.6920, F1: 0.7257\n"
     ]
    },
    {
     "name": "stderr",
     "output_type": "stream",
     "text": [
      "Training Epoch 29, Fold 2: 100%|██████████| 176/176 [00:20<00:00,  8.38it/s]\n",
      "Validating: 100%|██████████| 44/44 [00:02<00:00, 15.47it/s]\n"
     ]
    },
    {
     "name": "stdout",
     "output_type": "stream",
     "text": [
      "Epoch 29/30, Fold 2 - Loss: 0.2298, Acc: 0.1705, Precision: 0.8106, Recall: 0.6920, F1: 0.7257\n"
     ]
    },
    {
     "name": "stderr",
     "output_type": "stream",
     "text": [
      "Training Epoch 30, Fold 2: 100%|██████████| 176/176 [00:20<00:00,  8.39it/s]\n",
      "Validating: 100%|██████████| 44/44 [00:02<00:00, 15.53it/s]\n"
     ]
    },
    {
     "name": "stdout",
     "output_type": "stream",
     "text": [
      "Epoch 30/30, Fold 2 - Loss: 0.2298, Acc: 0.1705, Precision: 0.8106, Recall: 0.6920, F1: 0.7257\n",
      "Training Fold 3/5\n"
     ]
    },
    {
     "name": "stderr",
     "output_type": "stream",
     "text": [
      "Training Epoch 1, Fold 3: 100%|██████████| 176/176 [00:20<00:00,  8.40it/s]\n",
      "Validating: 100%|██████████| 44/44 [00:02<00:00, 15.47it/s]\n"
     ]
    },
    {
     "name": "stdout",
     "output_type": "stream",
     "text": [
      "Epoch 1/30, Fold 3 - Loss: 0.2933, Acc: 0.1591, Precision: 0.8182, Recall: 0.7024, F1: 0.7360\n"
     ]
    },
    {
     "name": "stderr",
     "output_type": "stream",
     "text": [
      "Training Epoch 2, Fold 3: 100%|██████████| 176/176 [00:20<00:00,  8.39it/s]\n",
      "Validating: 100%|██████████| 44/44 [00:02<00:00, 15.47it/s]\n"
     ]
    },
    {
     "name": "stdout",
     "output_type": "stream",
     "text": [
      "Epoch 2/30, Fold 3 - Loss: 0.2414, Acc: 0.0568, Precision: 0.7159, Recall: 0.8005, F1: 0.7367\n"
     ]
    },
    {
     "name": "stderr",
     "output_type": "stream",
     "text": [
      "Training Epoch 3, Fold 3: 100%|██████████| 176/176 [00:20<00:00,  8.39it/s]\n",
      "Validating: 100%|██████████| 44/44 [00:02<00:00, 15.47it/s]\n"
     ]
    },
    {
     "name": "stdout",
     "output_type": "stream",
     "text": [
      "Epoch 3/30, Fold 3 - Loss: 0.2414, Acc: 0.1591, Precision: 0.8182, Recall: 0.7024, F1: 0.7360\n"
     ]
    },
    {
     "name": "stderr",
     "output_type": "stream",
     "text": [
      "Training Epoch 4, Fold 3: 100%|██████████| 176/176 [00:20<00:00,  8.39it/s]\n",
      "Validating: 100%|██████████| 44/44 [00:02<00:00, 15.39it/s]\n"
     ]
    },
    {
     "name": "stdout",
     "output_type": "stream",
     "text": [
      "Epoch 4/30, Fold 3 - Loss: 0.2411, Acc: 0.0568, Precision: 0.7159, Recall: 0.8005, F1: 0.7367\n"
     ]
    },
    {
     "name": "stderr",
     "output_type": "stream",
     "text": [
      "Training Epoch 5, Fold 3: 100%|██████████| 176/176 [00:20<00:00,  8.39it/s]\n",
      "Validating: 100%|██████████| 44/44 [00:02<00:00, 15.47it/s]\n"
     ]
    },
    {
     "name": "stdout",
     "output_type": "stream",
     "text": [
      "Epoch 5/30, Fold 3 - Loss: 0.2413, Acc: 0.1591, Precision: 0.8182, Recall: 0.7024, F1: 0.7360\n"
     ]
    },
    {
     "name": "stderr",
     "output_type": "stream",
     "text": [
      "Training Epoch 6, Fold 3: 100%|██████████| 176/176 [00:20<00:00,  8.39it/s]\n",
      "Validating: 100%|██████████| 44/44 [00:02<00:00, 15.39it/s]\n"
     ]
    },
    {
     "name": "stdout",
     "output_type": "stream",
     "text": [
      "Epoch 6/30, Fold 3 - Loss: 0.2408, Acc: 0.1591, Precision: 0.8182, Recall: 0.7024, F1: 0.7360\n"
     ]
    },
    {
     "name": "stderr",
     "output_type": "stream",
     "text": [
      "Training Epoch 7, Fold 3: 100%|██████████| 176/176 [00:20<00:00,  8.39it/s]\n",
      "Validating: 100%|██████████| 44/44 [00:02<00:00, 15.39it/s]\n"
     ]
    },
    {
     "name": "stdout",
     "output_type": "stream",
     "text": [
      "Epoch 7/30, Fold 3 - Loss: 0.2408, Acc: 0.1591, Precision: 0.8182, Recall: 0.7024, F1: 0.7360\n"
     ]
    },
    {
     "name": "stderr",
     "output_type": "stream",
     "text": [
      "Training Epoch 8, Fold 3: 100%|██████████| 176/176 [00:20<00:00,  8.39it/s]\n",
      "Validating: 100%|██████████| 44/44 [00:02<00:00, 15.47it/s]\n"
     ]
    },
    {
     "name": "stdout",
     "output_type": "stream",
     "text": [
      "Epoch 8/30, Fold 3 - Loss: 0.2412, Acc: 0.1591, Precision: 0.8182, Recall: 0.7024, F1: 0.7360\n"
     ]
    },
    {
     "name": "stderr",
     "output_type": "stream",
     "text": [
      "Training Epoch 9, Fold 3: 100%|██████████| 176/176 [00:20<00:00,  8.38it/s]\n",
      "Validating: 100%|██████████| 44/44 [00:02<00:00, 15.39it/s]\n"
     ]
    },
    {
     "name": "stdout",
     "output_type": "stream",
     "text": [
      "Epoch 9/30, Fold 3 - Loss: 0.2405, Acc: 0.1591, Precision: 0.8182, Recall: 0.7024, F1: 0.7360\n"
     ]
    },
    {
     "name": "stderr",
     "output_type": "stream",
     "text": [
      "Training Epoch 10, Fold 3: 100%|██████████| 176/176 [00:20<00:00,  8.40it/s]\n",
      "Validating: 100%|██████████| 44/44 [00:02<00:00, 15.48it/s]\n"
     ]
    },
    {
     "name": "stdout",
     "output_type": "stream",
     "text": [
      "Epoch 10/30, Fold 3 - Loss: 0.2407, Acc: 0.1591, Precision: 0.8182, Recall: 0.7024, F1: 0.7360\n"
     ]
    },
    {
     "name": "stderr",
     "output_type": "stream",
     "text": [
      "Training Epoch 11, Fold 3: 100%|██████████| 176/176 [00:20<00:00,  8.39it/s]\n",
      "Validating: 100%|██████████| 44/44 [00:02<00:00, 15.40it/s]\n"
     ]
    },
    {
     "name": "stdout",
     "output_type": "stream",
     "text": [
      "Epoch 11/30, Fold 3 - Loss: 0.2403, Acc: 0.1591, Precision: 0.8182, Recall: 0.7024, F1: 0.7360\n"
     ]
    },
    {
     "name": "stderr",
     "output_type": "stream",
     "text": [
      "Training Epoch 12, Fold 3: 100%|██████████| 176/176 [00:20<00:00,  8.39it/s]\n",
      "Validating: 100%|██████████| 44/44 [00:02<00:00, 15.47it/s]\n"
     ]
    },
    {
     "name": "stdout",
     "output_type": "stream",
     "text": [
      "Epoch 12/30, Fold 3 - Loss: 0.2401, Acc: 0.1591, Precision: 0.8182, Recall: 0.7024, F1: 0.7360\n"
     ]
    },
    {
     "name": "stderr",
     "output_type": "stream",
     "text": [
      "Training Epoch 13, Fold 3: 100%|██████████| 176/176 [00:20<00:00,  8.39it/s]\n",
      "Validating: 100%|██████████| 44/44 [00:02<00:00, 15.47it/s]\n"
     ]
    },
    {
     "name": "stdout",
     "output_type": "stream",
     "text": [
      "Epoch 13/30, Fold 3 - Loss: 0.2404, Acc: 0.1591, Precision: 0.8182, Recall: 0.7024, F1: 0.7360\n"
     ]
    },
    {
     "name": "stderr",
     "output_type": "stream",
     "text": [
      "Training Epoch 14, Fold 3: 100%|██████████| 176/176 [00:20<00:00,  8.39it/s]\n",
      "Validating: 100%|██████████| 44/44 [00:02<00:00, 15.39it/s]\n"
     ]
    },
    {
     "name": "stdout",
     "output_type": "stream",
     "text": [
      "Epoch 14/30, Fold 3 - Loss: 0.2404, Acc: 0.1591, Precision: 0.8182, Recall: 0.7024, F1: 0.7360\n"
     ]
    },
    {
     "name": "stderr",
     "output_type": "stream",
     "text": [
      "Training Epoch 15, Fold 3: 100%|██████████| 176/176 [00:20<00:00,  8.38it/s]\n",
      "Validating: 100%|██████████| 44/44 [00:02<00:00, 15.39it/s]\n"
     ]
    },
    {
     "name": "stdout",
     "output_type": "stream",
     "text": [
      "Epoch 15/30, Fold 3 - Loss: 0.2408, Acc: 0.1591, Precision: 0.8182, Recall: 0.7024, F1: 0.7360\n"
     ]
    },
    {
     "name": "stderr",
     "output_type": "stream",
     "text": [
      "Training Epoch 16, Fold 3: 100%|██████████| 176/176 [00:21<00:00,  8.38it/s]\n",
      "Validating: 100%|██████████| 44/44 [00:02<00:00, 15.47it/s]\n"
     ]
    },
    {
     "name": "stdout",
     "output_type": "stream",
     "text": [
      "Epoch 16/30, Fold 3 - Loss: 0.2405, Acc: 0.1591, Precision: 0.8182, Recall: 0.7024, F1: 0.7360\n"
     ]
    },
    {
     "name": "stderr",
     "output_type": "stream",
     "text": [
      "Training Epoch 17, Fold 3: 100%|██████████| 176/176 [00:20<00:00,  8.39it/s]\n",
      "Validating: 100%|██████████| 44/44 [00:02<00:00, 15.47it/s]\n"
     ]
    },
    {
     "name": "stdout",
     "output_type": "stream",
     "text": [
      "Epoch 17/30, Fold 3 - Loss: 0.2402, Acc: 0.1591, Precision: 0.8182, Recall: 0.7024, F1: 0.7360\n"
     ]
    },
    {
     "name": "stderr",
     "output_type": "stream",
     "text": [
      "Training Epoch 18, Fold 3: 100%|██████████| 176/176 [00:20<00:00,  8.38it/s]\n",
      "Validating: 100%|██████████| 44/44 [00:02<00:00, 15.39it/s]\n"
     ]
    },
    {
     "name": "stdout",
     "output_type": "stream",
     "text": [
      "Epoch 18/30, Fold 3 - Loss: 0.2403, Acc: 0.1591, Precision: 0.8182, Recall: 0.7024, F1: 0.7360\n"
     ]
    },
    {
     "name": "stderr",
     "output_type": "stream",
     "text": [
      "Training Epoch 19, Fold 3: 100%|██████████| 176/176 [00:20<00:00,  8.39it/s]\n",
      "Validating: 100%|██████████| 44/44 [00:02<00:00, 15.39it/s]\n"
     ]
    },
    {
     "name": "stdout",
     "output_type": "stream",
     "text": [
      "Epoch 19/30, Fold 3 - Loss: 0.2406, Acc: 0.1591, Precision: 0.8182, Recall: 0.7024, F1: 0.7360\n"
     ]
    },
    {
     "name": "stderr",
     "output_type": "stream",
     "text": [
      "Training Epoch 20, Fold 3: 100%|██████████| 176/176 [00:20<00:00,  8.39it/s]\n",
      "Validating: 100%|██████████| 44/44 [00:02<00:00, 15.39it/s]\n"
     ]
    },
    {
     "name": "stdout",
     "output_type": "stream",
     "text": [
      "Epoch 20/30, Fold 3 - Loss: 0.2395, Acc: 0.1591, Precision: 0.8182, Recall: 0.7024, F1: 0.7360\n"
     ]
    },
    {
     "name": "stderr",
     "output_type": "stream",
     "text": [
      "Training Epoch 21, Fold 3: 100%|██████████| 176/176 [00:20<00:00,  8.39it/s]\n",
      "Validating: 100%|██████████| 44/44 [00:02<00:00, 15.47it/s]\n"
     ]
    },
    {
     "name": "stdout",
     "output_type": "stream",
     "text": [
      "Epoch 21/30, Fold 3 - Loss: 0.2395, Acc: 0.1591, Precision: 0.8182, Recall: 0.7024, F1: 0.7360\n"
     ]
    },
    {
     "name": "stderr",
     "output_type": "stream",
     "text": [
      "Training Epoch 22, Fold 3: 100%|██████████| 176/176 [00:20<00:00,  8.39it/s]\n",
      "Validating: 100%|██████████| 44/44 [00:02<00:00, 15.47it/s]\n"
     ]
    },
    {
     "name": "stdout",
     "output_type": "stream",
     "text": [
      "Epoch 22/30, Fold 3 - Loss: 0.2401, Acc: 0.1591, Precision: 0.8182, Recall: 0.7024, F1: 0.7360\n"
     ]
    },
    {
     "name": "stderr",
     "output_type": "stream",
     "text": [
      "Training Epoch 23, Fold 3: 100%|██████████| 176/176 [00:21<00:00,  8.36it/s]\n",
      "Validating: 100%|██████████| 44/44 [00:02<00:00, 15.39it/s]\n"
     ]
    },
    {
     "name": "stdout",
     "output_type": "stream",
     "text": [
      "Epoch 23/30, Fold 3 - Loss: 0.2396, Acc: 0.1591, Precision: 0.8182, Recall: 0.7024, F1: 0.7360\n"
     ]
    },
    {
     "name": "stderr",
     "output_type": "stream",
     "text": [
      "Training Epoch 24, Fold 3: 100%|██████████| 176/176 [00:20<00:00,  8.38it/s]\n",
      "Validating: 100%|██████████| 44/44 [00:02<00:00, 15.39it/s]\n"
     ]
    },
    {
     "name": "stdout",
     "output_type": "stream",
     "text": [
      "Epoch 24/30, Fold 3 - Loss: 0.2397, Acc: 0.1591, Precision: 0.8182, Recall: 0.7024, F1: 0.7360\n"
     ]
    },
    {
     "name": "stderr",
     "output_type": "stream",
     "text": [
      "Training Epoch 25, Fold 3: 100%|██████████| 176/176 [00:21<00:00,  8.38it/s]\n",
      "Validating: 100%|██████████| 44/44 [00:02<00:00, 15.44it/s]\n"
     ]
    },
    {
     "name": "stdout",
     "output_type": "stream",
     "text": [
      "Epoch 25/30, Fold 3 - Loss: 0.2392, Acc: 0.1591, Precision: 0.8182, Recall: 0.7024, F1: 0.7360\n"
     ]
    },
    {
     "name": "stderr",
     "output_type": "stream",
     "text": [
      "Training Epoch 26, Fold 3: 100%|██████████| 176/176 [00:21<00:00,  8.38it/s]\n",
      "Validating: 100%|██████████| 44/44 [00:02<00:00, 15.47it/s]\n"
     ]
    },
    {
     "name": "stdout",
     "output_type": "stream",
     "text": [
      "Epoch 26/30, Fold 3 - Loss: 0.2396, Acc: 0.1591, Precision: 0.8182, Recall: 0.7024, F1: 0.7360\n"
     ]
    },
    {
     "name": "stderr",
     "output_type": "stream",
     "text": [
      "Training Epoch 27, Fold 3: 100%|██████████| 176/176 [00:20<00:00,  8.38it/s]\n",
      "Validating: 100%|██████████| 44/44 [00:02<00:00, 15.47it/s]\n"
     ]
    },
    {
     "name": "stdout",
     "output_type": "stream",
     "text": [
      "Epoch 27/30, Fold 3 - Loss: 0.2394, Acc: 0.1591, Precision: 0.8182, Recall: 0.7024, F1: 0.7360\n"
     ]
    },
    {
     "name": "stderr",
     "output_type": "stream",
     "text": [
      "Training Epoch 28, Fold 3: 100%|██████████| 176/176 [00:20<00:00,  8.39it/s]\n",
      "Validating: 100%|██████████| 44/44 [00:02<00:00, 15.39it/s]\n"
     ]
    },
    {
     "name": "stdout",
     "output_type": "stream",
     "text": [
      "Epoch 28/30, Fold 3 - Loss: 0.2402, Acc: 0.1591, Precision: 0.8182, Recall: 0.7024, F1: 0.7360\n"
     ]
    },
    {
     "name": "stderr",
     "output_type": "stream",
     "text": [
      "Training Epoch 29, Fold 3: 100%|██████████| 176/176 [00:20<00:00,  8.39it/s]\n",
      "Validating: 100%|██████████| 44/44 [00:02<00:00, 15.46it/s]\n"
     ]
    },
    {
     "name": "stdout",
     "output_type": "stream",
     "text": [
      "Epoch 29/30, Fold 3 - Loss: 0.2395, Acc: 0.1591, Precision: 0.8182, Recall: 0.7024, F1: 0.7360\n"
     ]
    },
    {
     "name": "stderr",
     "output_type": "stream",
     "text": [
      "Training Epoch 30, Fold 3: 100%|██████████| 176/176 [00:20<00:00,  8.38it/s]\n",
      "Validating: 100%|██████████| 44/44 [00:02<00:00, 15.47it/s]\n"
     ]
    },
    {
     "name": "stdout",
     "output_type": "stream",
     "text": [
      "Epoch 30/30, Fold 3 - Loss: 0.2394, Acc: 0.1591, Precision: 0.8182, Recall: 0.7024, F1: 0.7360\n",
      "Training Fold 4/5\n"
     ]
    },
    {
     "name": "stderr",
     "output_type": "stream",
     "text": [
      "Training Epoch 1, Fold 4: 100%|██████████| 176/176 [00:20<00:00,  8.41it/s]\n",
      "Validating: 100%|██████████| 44/44 [00:02<00:00, 15.47it/s]\n"
     ]
    },
    {
     "name": "stdout",
     "output_type": "stream",
     "text": [
      "Epoch 1/30, Fold 4 - Loss: 0.2865, Acc: 0.0455, Precision: 0.7074, Recall: 0.7754, F1: 0.7184\n"
     ]
    },
    {
     "name": "stderr",
     "output_type": "stream",
     "text": [
      "Training Epoch 2, Fold 4: 100%|██████████| 176/176 [00:20<00:00,  8.38it/s]\n",
      "Validating: 100%|██████████| 44/44 [00:02<00:00, 15.47it/s]\n"
     ]
    },
    {
     "name": "stdout",
     "output_type": "stream",
     "text": [
      "Epoch 2/30, Fold 4 - Loss: 0.2320, Acc: 0.1591, Precision: 0.8068, Recall: 0.6748, F1: 0.7129\n"
     ]
    },
    {
     "name": "stderr",
     "output_type": "stream",
     "text": [
      "Training Epoch 3, Fold 4: 100%|██████████| 176/176 [00:20<00:00,  8.39it/s]\n",
      "Validating: 100%|██████████| 44/44 [00:02<00:00, 15.47it/s]\n"
     ]
    },
    {
     "name": "stdout",
     "output_type": "stream",
     "text": [
      "Epoch 3/30, Fold 4 - Loss: 0.2316, Acc: 0.1591, Precision: 0.8068, Recall: 0.6748, F1: 0.7129\n"
     ]
    },
    {
     "name": "stderr",
     "output_type": "stream",
     "text": [
      "Training Epoch 4, Fold 4: 100%|██████████| 176/176 [00:20<00:00,  8.39it/s]\n",
      "Validating: 100%|██████████| 44/44 [00:02<00:00, 15.46it/s]\n"
     ]
    },
    {
     "name": "stdout",
     "output_type": "stream",
     "text": [
      "Epoch 4/30, Fold 4 - Loss: 0.2316, Acc: 0.1591, Precision: 0.8068, Recall: 0.6748, F1: 0.7129\n"
     ]
    },
    {
     "name": "stderr",
     "output_type": "stream",
     "text": [
      "Training Epoch 5, Fold 4: 100%|██████████| 176/176 [00:20<00:00,  8.39it/s]\n",
      "Validating: 100%|██████████| 44/44 [00:02<00:00, 15.47it/s]\n"
     ]
    },
    {
     "name": "stdout",
     "output_type": "stream",
     "text": [
      "Epoch 5/30, Fold 4 - Loss: 0.2310, Acc: 0.1591, Precision: 0.8068, Recall: 0.6748, F1: 0.7129\n"
     ]
    },
    {
     "name": "stderr",
     "output_type": "stream",
     "text": [
      "Training Epoch 6, Fold 4: 100%|██████████| 176/176 [00:20<00:00,  8.39it/s]\n",
      "Validating: 100%|██████████| 44/44 [00:02<00:00, 15.47it/s]\n"
     ]
    },
    {
     "name": "stdout",
     "output_type": "stream",
     "text": [
      "Epoch 6/30, Fold 4 - Loss: 0.2317, Acc: 0.1591, Precision: 0.8068, Recall: 0.6748, F1: 0.7129\n"
     ]
    },
    {
     "name": "stderr",
     "output_type": "stream",
     "text": [
      "Training Epoch 7, Fold 4: 100%|██████████| 176/176 [00:20<00:00,  8.38it/s]\n",
      "Validating: 100%|██████████| 44/44 [00:02<00:00, 15.47it/s]\n"
     ]
    },
    {
     "name": "stdout",
     "output_type": "stream",
     "text": [
      "Epoch 7/30, Fold 4 - Loss: 0.2317, Acc: 0.1591, Precision: 0.8068, Recall: 0.6748, F1: 0.7129\n"
     ]
    },
    {
     "name": "stderr",
     "output_type": "stream",
     "text": [
      "Training Epoch 8, Fold 4: 100%|██████████| 176/176 [00:20<00:00,  8.39it/s]\n",
      "Validating: 100%|██████████| 44/44 [00:02<00:00, 15.56it/s]\n"
     ]
    },
    {
     "name": "stdout",
     "output_type": "stream",
     "text": [
      "Epoch 8/30, Fold 4 - Loss: 0.2308, Acc: 0.1591, Precision: 0.8068, Recall: 0.6748, F1: 0.7129\n"
     ]
    },
    {
     "name": "stderr",
     "output_type": "stream",
     "text": [
      "Training Epoch 9, Fold 4: 100%|██████████| 176/176 [00:20<00:00,  8.39it/s]\n",
      "Validating: 100%|██████████| 44/44 [00:02<00:00, 15.56it/s]\n"
     ]
    },
    {
     "name": "stdout",
     "output_type": "stream",
     "text": [
      "Epoch 9/30, Fold 4 - Loss: 0.2310, Acc: 0.0114, Precision: 0.6523, Recall: 0.8737, F1: 0.7265\n"
     ]
    },
    {
     "name": "stderr",
     "output_type": "stream",
     "text": [
      "Training Epoch 10, Fold 4: 100%|██████████| 176/176 [00:20<00:00,  8.39it/s]\n",
      "Validating: 100%|██████████| 44/44 [00:02<00:00, 15.56it/s]\n"
     ]
    },
    {
     "name": "stdout",
     "output_type": "stream",
     "text": [
      "Epoch 10/30, Fold 4 - Loss: 0.2306, Acc: 0.0455, Precision: 0.7074, Recall: 0.7754, F1: 0.7184\n"
     ]
    },
    {
     "name": "stderr",
     "output_type": "stream",
     "text": [
      "Training Epoch 11, Fold 4: 100%|██████████| 176/176 [00:20<00:00,  8.39it/s]\n",
      "Validating: 100%|██████████| 44/44 [00:02<00:00, 15.47it/s]\n"
     ]
    },
    {
     "name": "stdout",
     "output_type": "stream",
     "text": [
      "Epoch 11/30, Fold 4 - Loss: 0.2309, Acc: 0.1591, Precision: 0.8068, Recall: 0.6748, F1: 0.7129\n"
     ]
    },
    {
     "name": "stderr",
     "output_type": "stream",
     "text": [
      "Training Epoch 12, Fold 4: 100%|██████████| 176/176 [00:20<00:00,  8.39it/s]\n",
      "Validating: 100%|██████████| 44/44 [00:02<00:00, 15.56it/s]\n"
     ]
    },
    {
     "name": "stdout",
     "output_type": "stream",
     "text": [
      "Epoch 12/30, Fold 4 - Loss: 0.2311, Acc: 0.1591, Precision: 0.8068, Recall: 0.6748, F1: 0.7129\n"
     ]
    },
    {
     "name": "stderr",
     "output_type": "stream",
     "text": [
      "Training Epoch 13, Fold 4: 100%|██████████| 176/176 [00:20<00:00,  8.39it/s]\n",
      "Validating: 100%|██████████| 44/44 [00:02<00:00, 15.47it/s]\n"
     ]
    },
    {
     "name": "stdout",
     "output_type": "stream",
     "text": [
      "Epoch 13/30, Fold 4 - Loss: 0.2309, Acc: 0.1591, Precision: 0.8068, Recall: 0.6748, F1: 0.7129\n"
     ]
    },
    {
     "name": "stderr",
     "output_type": "stream",
     "text": [
      "Training Epoch 14, Fold 4: 100%|██████████| 176/176 [00:20<00:00,  8.39it/s]\n",
      "Validating: 100%|██████████| 44/44 [00:02<00:00, 15.56it/s]\n"
     ]
    },
    {
     "name": "stdout",
     "output_type": "stream",
     "text": [
      "Epoch 14/30, Fold 4 - Loss: 0.2307, Acc: 0.1591, Precision: 0.8068, Recall: 0.6748, F1: 0.7129\n"
     ]
    },
    {
     "name": "stderr",
     "output_type": "stream",
     "text": [
      "Training Epoch 15, Fold 4: 100%|██████████| 176/176 [00:21<00:00,  8.38it/s]\n",
      "Validating: 100%|██████████| 44/44 [00:02<00:00, 15.47it/s]\n"
     ]
    },
    {
     "name": "stdout",
     "output_type": "stream",
     "text": [
      "Epoch 15/30, Fold 4 - Loss: 0.2305, Acc: 0.1591, Precision: 0.8068, Recall: 0.6748, F1: 0.7129\n"
     ]
    },
    {
     "name": "stderr",
     "output_type": "stream",
     "text": [
      "Training Epoch 16, Fold 4: 100%|██████████| 176/176 [00:20<00:00,  8.39it/s]\n",
      "Validating: 100%|██████████| 44/44 [00:02<00:00, 15.47it/s]\n"
     ]
    },
    {
     "name": "stdout",
     "output_type": "stream",
     "text": [
      "Epoch 16/30, Fold 4 - Loss: 0.2297, Acc: 0.1591, Precision: 0.8068, Recall: 0.6748, F1: 0.7129\n"
     ]
    },
    {
     "name": "stderr",
     "output_type": "stream",
     "text": [
      "Training Epoch 17, Fold 4: 100%|██████████| 176/176 [00:20<00:00,  8.39it/s]\n",
      "Validating: 100%|██████████| 44/44 [00:02<00:00, 15.50it/s]\n"
     ]
    },
    {
     "name": "stdout",
     "output_type": "stream",
     "text": [
      "Epoch 17/30, Fold 4 - Loss: 0.2309, Acc: 0.1591, Precision: 0.8068, Recall: 0.6748, F1: 0.7129\n"
     ]
    },
    {
     "name": "stderr",
     "output_type": "stream",
     "text": [
      "Training Epoch 18, Fold 4: 100%|██████████| 176/176 [00:20<00:00,  8.39it/s]\n",
      "Validating: 100%|██████████| 44/44 [00:02<00:00, 15.65it/s]\n"
     ]
    },
    {
     "name": "stdout",
     "output_type": "stream",
     "text": [
      "Epoch 18/30, Fold 4 - Loss: 0.2303, Acc: 0.1591, Precision: 0.8068, Recall: 0.6748, F1: 0.7129\n"
     ]
    },
    {
     "name": "stderr",
     "output_type": "stream",
     "text": [
      "Training Epoch 19, Fold 4: 100%|██████████| 176/176 [00:20<00:00,  8.42it/s]\n",
      "Validating: 100%|██████████| 44/44 [00:02<00:00, 15.58it/s]\n"
     ]
    },
    {
     "name": "stdout",
     "output_type": "stream",
     "text": [
      "Epoch 19/30, Fold 4 - Loss: 0.2307, Acc: 0.1591, Precision: 0.8068, Recall: 0.6748, F1: 0.7129\n"
     ]
    },
    {
     "name": "stderr",
     "output_type": "stream",
     "text": [
      "Training Epoch 20, Fold 4: 100%|██████████| 176/176 [00:20<00:00,  8.42it/s]\n",
      "Validating: 100%|██████████| 44/44 [00:02<00:00, 15.56it/s]\n"
     ]
    },
    {
     "name": "stdout",
     "output_type": "stream",
     "text": [
      "Epoch 20/30, Fold 4 - Loss: 0.2307, Acc: 0.1591, Precision: 0.8068, Recall: 0.6748, F1: 0.7129\n"
     ]
    },
    {
     "name": "stderr",
     "output_type": "stream",
     "text": [
      "Training Epoch 21, Fold 4: 100%|██████████| 176/176 [00:20<00:00,  8.42it/s]\n",
      "Validating: 100%|██████████| 44/44 [00:02<00:00, 15.64it/s]\n"
     ]
    },
    {
     "name": "stdout",
     "output_type": "stream",
     "text": [
      "Epoch 21/30, Fold 4 - Loss: 0.2309, Acc: 0.1591, Precision: 0.8068, Recall: 0.6748, F1: 0.7129\n"
     ]
    },
    {
     "name": "stderr",
     "output_type": "stream",
     "text": [
      "Training Epoch 22, Fold 4: 100%|██████████| 176/176 [00:20<00:00,  8.41it/s]\n",
      "Validating: 100%|██████████| 44/44 [00:02<00:00, 15.56it/s]\n"
     ]
    },
    {
     "name": "stdout",
     "output_type": "stream",
     "text": [
      "Epoch 22/30, Fold 4 - Loss: 0.2297, Acc: 0.0455, Precision: 0.7074, Recall: 0.7754, F1: 0.7184\n"
     ]
    },
    {
     "name": "stderr",
     "output_type": "stream",
     "text": [
      "Training Epoch 23, Fold 4: 100%|██████████| 176/176 [00:20<00:00,  8.41it/s]\n",
      "Validating: 100%|██████████| 44/44 [00:02<00:00, 15.56it/s]\n"
     ]
    },
    {
     "name": "stdout",
     "output_type": "stream",
     "text": [
      "Epoch 23/30, Fold 4 - Loss: 0.2301, Acc: 0.1591, Precision: 0.8068, Recall: 0.6748, F1: 0.7129\n"
     ]
    },
    {
     "name": "stderr",
     "output_type": "stream",
     "text": [
      "Training Epoch 24, Fold 4: 100%|██████████| 176/176 [00:20<00:00,  8.41it/s]\n",
      "Validating: 100%|██████████| 44/44 [00:02<00:00, 15.64it/s]\n"
     ]
    },
    {
     "name": "stdout",
     "output_type": "stream",
     "text": [
      "Epoch 24/30, Fold 4 - Loss: 0.2297, Acc: 0.1591, Precision: 0.8068, Recall: 0.6748, F1: 0.7129\n"
     ]
    },
    {
     "name": "stderr",
     "output_type": "stream",
     "text": [
      "Training Epoch 25, Fold 4: 100%|██████████| 176/176 [00:20<00:00,  8.41it/s]\n",
      "Validating: 100%|██████████| 44/44 [00:02<00:00, 15.64it/s]\n"
     ]
    },
    {
     "name": "stdout",
     "output_type": "stream",
     "text": [
      "Epoch 25/30, Fold 4 - Loss: 0.2305, Acc: 0.1591, Precision: 0.8068, Recall: 0.6748, F1: 0.7129\n"
     ]
    },
    {
     "name": "stderr",
     "output_type": "stream",
     "text": [
      "Training Epoch 26, Fold 4: 100%|██████████| 176/176 [00:20<00:00,  8.42it/s]\n",
      "Validating: 100%|██████████| 44/44 [00:02<00:00, 15.56it/s]\n"
     ]
    },
    {
     "name": "stdout",
     "output_type": "stream",
     "text": [
      "Epoch 26/30, Fold 4 - Loss: 0.2301, Acc: 0.1591, Precision: 0.8068, Recall: 0.6748, F1: 0.7129\n"
     ]
    },
    {
     "name": "stderr",
     "output_type": "stream",
     "text": [
      "Training Epoch 27, Fold 4: 100%|██████████| 176/176 [00:20<00:00,  8.42it/s]\n",
      "Validating: 100%|██████████| 44/44 [00:02<00:00, 15.67it/s]\n"
     ]
    },
    {
     "name": "stdout",
     "output_type": "stream",
     "text": [
      "Epoch 27/30, Fold 4 - Loss: 0.2302, Acc: 0.1591, Precision: 0.8068, Recall: 0.6748, F1: 0.7129\n"
     ]
    },
    {
     "name": "stderr",
     "output_type": "stream",
     "text": [
      "Training Epoch 28, Fold 4: 100%|██████████| 176/176 [00:20<00:00,  8.41it/s]\n",
      "Validating: 100%|██████████| 44/44 [00:02<00:00, 15.64it/s]\n"
     ]
    },
    {
     "name": "stdout",
     "output_type": "stream",
     "text": [
      "Epoch 28/30, Fold 4 - Loss: 0.2300, Acc: 0.1591, Precision: 0.8068, Recall: 0.6748, F1: 0.7129\n"
     ]
    },
    {
     "name": "stderr",
     "output_type": "stream",
     "text": [
      "Training Epoch 29, Fold 4: 100%|██████████| 176/176 [00:20<00:00,  8.41it/s]\n",
      "Validating: 100%|██████████| 44/44 [00:02<00:00, 15.56it/s]\n"
     ]
    },
    {
     "name": "stdout",
     "output_type": "stream",
     "text": [
      "Epoch 29/30, Fold 4 - Loss: 0.2301, Acc: 0.1591, Precision: 0.8068, Recall: 0.6748, F1: 0.7129\n"
     ]
    },
    {
     "name": "stderr",
     "output_type": "stream",
     "text": [
      "Training Epoch 30, Fold 4: 100%|██████████| 176/176 [00:20<00:00,  8.41it/s]\n",
      "Validating: 100%|██████████| 44/44 [00:02<00:00, 15.56it/s]\n"
     ]
    },
    {
     "name": "stdout",
     "output_type": "stream",
     "text": [
      "Epoch 30/30, Fold 4 - Loss: 0.2299, Acc: 0.1591, Precision: 0.8068, Recall: 0.6748, F1: 0.7129\n",
      "Training Fold 5/5\n"
     ]
    },
    {
     "name": "stderr",
     "output_type": "stream",
     "text": [
      "Training Epoch 1, Fold 5: 100%|██████████| 176/176 [00:21<00:00,  8.34it/s]\n",
      "Validating: 100%|██████████| 44/44 [00:02<00:00, 15.47it/s]\n"
     ]
    },
    {
     "name": "stdout",
     "output_type": "stream",
     "text": [
      "Epoch 1/30, Fold 5 - Loss: 0.2856, Acc: 0.1477, Precision: 0.8295, Recall: 0.7085, F1: 0.7451\n"
     ]
    },
    {
     "name": "stderr",
     "output_type": "stream",
     "text": [
      "Training Epoch 2, Fold 5: 100%|██████████| 176/176 [00:21<00:00,  8.32it/s]\n",
      "Validating: 100%|██████████| 44/44 [00:02<00:00, 15.47it/s]\n"
     ]
    },
    {
     "name": "stdout",
     "output_type": "stream",
     "text": [
      "Epoch 2/30, Fold 5 - Loss: 0.2409, Acc: 0.1477, Precision: 0.8295, Recall: 0.7085, F1: 0.7451\n"
     ]
    },
    {
     "name": "stderr",
     "output_type": "stream",
     "text": [
      "Training Epoch 3, Fold 5: 100%|██████████| 176/176 [00:21<00:00,  8.31it/s]\n",
      "Validating: 100%|██████████| 44/44 [00:02<00:00, 15.48it/s]\n"
     ]
    },
    {
     "name": "stdout",
     "output_type": "stream",
     "text": [
      "Epoch 3/30, Fold 5 - Loss: 0.2406, Acc: 0.1477, Precision: 0.8295, Recall: 0.7085, F1: 0.7451\n"
     ]
    },
    {
     "name": "stderr",
     "output_type": "stream",
     "text": [
      "Training Epoch 4, Fold 5: 100%|██████████| 176/176 [00:21<00:00,  8.31it/s]\n",
      "Validating: 100%|██████████| 44/44 [00:02<00:00, 15.47it/s]\n"
     ]
    },
    {
     "name": "stdout",
     "output_type": "stream",
     "text": [
      "Epoch 4/30, Fold 5 - Loss: 0.2408, Acc: 0.1250, Precision: 0.7500, Recall: 0.8291, F1: 0.7685\n"
     ]
    },
    {
     "name": "stderr",
     "output_type": "stream",
     "text": [
      "Training Epoch 5, Fold 5: 100%|██████████| 176/176 [00:21<00:00,  8.31it/s]\n",
      "Validating: 100%|██████████| 44/44 [00:02<00:00, 15.39it/s]\n"
     ]
    },
    {
     "name": "stdout",
     "output_type": "stream",
     "text": [
      "Epoch 5/30, Fold 5 - Loss: 0.2401, Acc: 0.1477, Precision: 0.8295, Recall: 0.7085, F1: 0.7451\n"
     ]
    },
    {
     "name": "stderr",
     "output_type": "stream",
     "text": [
      "Training Epoch 6, Fold 5: 100%|██████████| 176/176 [00:21<00:00,  8.32it/s]\n",
      "Validating: 100%|██████████| 44/44 [00:02<00:00, 15.47it/s]\n"
     ]
    },
    {
     "name": "stdout",
     "output_type": "stream",
     "text": [
      "Epoch 6/30, Fold 5 - Loss: 0.2410, Acc: 0.1477, Precision: 0.8295, Recall: 0.7085, F1: 0.7451\n"
     ]
    },
    {
     "name": "stderr",
     "output_type": "stream",
     "text": [
      "Training Epoch 7, Fold 5: 100%|██████████| 176/176 [00:21<00:00,  8.31it/s]\n",
      "Validating: 100%|██████████| 44/44 [00:02<00:00, 15.56it/s]\n"
     ]
    },
    {
     "name": "stdout",
     "output_type": "stream",
     "text": [
      "Epoch 7/30, Fold 5 - Loss: 0.2402, Acc: 0.1477, Precision: 0.8295, Recall: 0.7085, F1: 0.7451\n"
     ]
    },
    {
     "name": "stderr",
     "output_type": "stream",
     "text": [
      "Training Epoch 8, Fold 5: 100%|██████████| 176/176 [00:21<00:00,  8.32it/s]\n",
      "Validating: 100%|██████████| 44/44 [00:02<00:00, 15.30it/s]\n"
     ]
    },
    {
     "name": "stdout",
     "output_type": "stream",
     "text": [
      "Epoch 8/30, Fold 5 - Loss: 0.2412, Acc: 0.1477, Precision: 0.8295, Recall: 0.7085, F1: 0.7451\n"
     ]
    },
    {
     "name": "stderr",
     "output_type": "stream",
     "text": [
      "Training Epoch 9, Fold 5: 100%|██████████| 176/176 [00:21<00:00,  8.31it/s]\n",
      "Validating: 100%|██████████| 44/44 [00:02<00:00, 15.30it/s]\n"
     ]
    },
    {
     "name": "stdout",
     "output_type": "stream",
     "text": [
      "Epoch 9/30, Fold 5 - Loss: 0.2408, Acc: 0.1477, Precision: 0.8295, Recall: 0.7085, F1: 0.7451\n"
     ]
    },
    {
     "name": "stderr",
     "output_type": "stream",
     "text": [
      "Training Epoch 10, Fold 5: 100%|██████████| 176/176 [00:21<00:00,  8.32it/s]\n",
      "Validating: 100%|██████████| 44/44 [00:02<00:00, 15.47it/s]\n"
     ]
    },
    {
     "name": "stdout",
     "output_type": "stream",
     "text": [
      "Epoch 10/30, Fold 5 - Loss: 0.2403, Acc: 0.1477, Precision: 0.8295, Recall: 0.7085, F1: 0.7451\n"
     ]
    },
    {
     "name": "stderr",
     "output_type": "stream",
     "text": [
      "Training Epoch 11, Fold 5: 100%|██████████| 176/176 [00:21<00:00,  8.31it/s]\n",
      "Validating: 100%|██████████| 44/44 [00:02<00:00, 15.56it/s]\n"
     ]
    },
    {
     "name": "stdout",
     "output_type": "stream",
     "text": [
      "Epoch 11/30, Fold 5 - Loss: 0.2405, Acc: 0.1477, Precision: 0.8295, Recall: 0.7085, F1: 0.7451\n"
     ]
    },
    {
     "name": "stderr",
     "output_type": "stream",
     "text": [
      "Training Epoch 12, Fold 5: 100%|██████████| 176/176 [00:21<00:00,  8.32it/s]\n",
      "Validating: 100%|██████████| 44/44 [00:02<00:00, 15.47it/s]\n"
     ]
    },
    {
     "name": "stdout",
     "output_type": "stream",
     "text": [
      "Epoch 12/30, Fold 5 - Loss: 0.2405, Acc: 0.1477, Precision: 0.8295, Recall: 0.7085, F1: 0.7451\n"
     ]
    },
    {
     "name": "stderr",
     "output_type": "stream",
     "text": [
      "Training Epoch 13, Fold 5: 100%|██████████| 176/176 [00:21<00:00,  8.31it/s]\n",
      "Validating: 100%|██████████| 44/44 [00:02<00:00, 15.36it/s]\n"
     ]
    },
    {
     "name": "stdout",
     "output_type": "stream",
     "text": [
      "Epoch 13/30, Fold 5 - Loss: 0.2403, Acc: 0.1477, Precision: 0.8295, Recall: 0.7085, F1: 0.7451\n"
     ]
    },
    {
     "name": "stderr",
     "output_type": "stream",
     "text": [
      "Training Epoch 14, Fold 5: 100%|██████████| 176/176 [00:21<00:00,  8.31it/s]\n",
      "Validating: 100%|██████████| 44/44 [00:02<00:00, 15.47it/s]\n"
     ]
    },
    {
     "name": "stdout",
     "output_type": "stream",
     "text": [
      "Epoch 14/30, Fold 5 - Loss: 0.2400, Acc: 0.1477, Precision: 0.8295, Recall: 0.7085, F1: 0.7451\n"
     ]
    },
    {
     "name": "stderr",
     "output_type": "stream",
     "text": [
      "Training Epoch 15, Fold 5: 100%|██████████| 176/176 [00:21<00:00,  8.32it/s]\n",
      "Validating: 100%|██████████| 44/44 [00:02<00:00, 15.47it/s]\n"
     ]
    },
    {
     "name": "stdout",
     "output_type": "stream",
     "text": [
      "Epoch 15/30, Fold 5 - Loss: 0.2400, Acc: 0.1477, Precision: 0.8295, Recall: 0.7085, F1: 0.7451\n"
     ]
    },
    {
     "name": "stderr",
     "output_type": "stream",
     "text": [
      "Training Epoch 16, Fold 5: 100%|██████████| 176/176 [00:21<00:00,  8.31it/s]\n",
      "Validating: 100%|██████████| 44/44 [00:02<00:00, 15.38it/s]\n"
     ]
    },
    {
     "name": "stdout",
     "output_type": "stream",
     "text": [
      "Epoch 16/30, Fold 5 - Loss: 0.2403, Acc: 0.1477, Precision: 0.8295, Recall: 0.7085, F1: 0.7451\n"
     ]
    },
    {
     "name": "stderr",
     "output_type": "stream",
     "text": [
      "Training Epoch 17, Fold 5: 100%|██████████| 176/176 [00:21<00:00,  8.31it/s]\n",
      "Validating: 100%|██████████| 44/44 [00:02<00:00, 15.44it/s]\n"
     ]
    },
    {
     "name": "stdout",
     "output_type": "stream",
     "text": [
      "Epoch 17/30, Fold 5 - Loss: 0.2395, Acc: 0.1477, Precision: 0.8295, Recall: 0.7085, F1: 0.7451\n"
     ]
    },
    {
     "name": "stderr",
     "output_type": "stream",
     "text": [
      "Training Epoch 18, Fold 5: 100%|██████████| 176/176 [00:21<00:00,  8.31it/s]\n",
      "Validating: 100%|██████████| 44/44 [00:02<00:00, 15.52it/s]\n"
     ]
    },
    {
     "name": "stdout",
     "output_type": "stream",
     "text": [
      "Epoch 18/30, Fold 5 - Loss: 0.2403, Acc: 0.1477, Precision: 0.8295, Recall: 0.7085, F1: 0.7451\n"
     ]
    },
    {
     "name": "stderr",
     "output_type": "stream",
     "text": [
      "Training Epoch 19, Fold 5: 100%|██████████| 176/176 [00:21<00:00,  8.33it/s]\n",
      "Validating: 100%|██████████| 44/44 [00:02<00:00, 15.36it/s]\n"
     ]
    },
    {
     "name": "stdout",
     "output_type": "stream",
     "text": [
      "Epoch 19/30, Fold 5 - Loss: 0.2394, Acc: 0.1477, Precision: 0.8295, Recall: 0.7085, F1: 0.7451\n"
     ]
    },
    {
     "name": "stderr",
     "output_type": "stream",
     "text": [
      "Training Epoch 20, Fold 5: 100%|██████████| 176/176 [00:21<00:00,  8.33it/s]\n",
      "Validating: 100%|██████████| 44/44 [00:02<00:00, 15.44it/s]\n"
     ]
    },
    {
     "name": "stdout",
     "output_type": "stream",
     "text": [
      "Epoch 20/30, Fold 5 - Loss: 0.2397, Acc: 0.1477, Precision: 0.8295, Recall: 0.7085, F1: 0.7451\n"
     ]
    },
    {
     "name": "stderr",
     "output_type": "stream",
     "text": [
      "Training Epoch 21, Fold 5: 100%|██████████| 176/176 [00:21<00:00,  8.31it/s]\n",
      "Validating: 100%|██████████| 44/44 [00:02<00:00, 15.47it/s]\n"
     ]
    },
    {
     "name": "stdout",
     "output_type": "stream",
     "text": [
      "Epoch 21/30, Fold 5 - Loss: 0.2401, Acc: 0.1477, Precision: 0.8295, Recall: 0.7085, F1: 0.7451\n"
     ]
    },
    {
     "name": "stderr",
     "output_type": "stream",
     "text": [
      "Training Epoch 22, Fold 5: 100%|██████████| 176/176 [00:21<00:00,  8.32it/s]\n",
      "Validating: 100%|██████████| 44/44 [00:02<00:00, 15.39it/s]\n"
     ]
    },
    {
     "name": "stdout",
     "output_type": "stream",
     "text": [
      "Epoch 22/30, Fold 5 - Loss: 0.2396, Acc: 0.1250, Precision: 0.7500, Recall: 0.8291, F1: 0.7685\n"
     ]
    },
    {
     "name": "stderr",
     "output_type": "stream",
     "text": [
      "Training Epoch 23, Fold 5: 100%|██████████| 176/176 [00:21<00:00,  8.31it/s]\n",
      "Validating: 100%|██████████| 44/44 [00:02<00:00, 15.38it/s]\n"
     ]
    },
    {
     "name": "stdout",
     "output_type": "stream",
     "text": [
      "Epoch 23/30, Fold 5 - Loss: 0.2398, Acc: 0.1477, Precision: 0.8295, Recall: 0.7085, F1: 0.7451\n"
     ]
    },
    {
     "name": "stderr",
     "output_type": "stream",
     "text": [
      "Training Epoch 24, Fold 5: 100%|██████████| 176/176 [00:21<00:00,  8.31it/s]\n",
      "Validating: 100%|██████████| 44/44 [00:02<00:00, 15.47it/s]\n"
     ]
    },
    {
     "name": "stdout",
     "output_type": "stream",
     "text": [
      "Epoch 24/30, Fold 5 - Loss: 0.2398, Acc: 0.1477, Precision: 0.8295, Recall: 0.7085, F1: 0.7451\n"
     ]
    },
    {
     "name": "stderr",
     "output_type": "stream",
     "text": [
      "Training Epoch 25, Fold 5: 100%|██████████| 176/176 [00:21<00:00,  8.31it/s]\n",
      "Validating: 100%|██████████| 44/44 [00:02<00:00, 15.39it/s]\n"
     ]
    },
    {
     "name": "stdout",
     "output_type": "stream",
     "text": [
      "Epoch 25/30, Fold 5 - Loss: 0.2398, Acc: 0.1477, Precision: 0.8295, Recall: 0.7085, F1: 0.7451\n"
     ]
    },
    {
     "name": "stderr",
     "output_type": "stream",
     "text": [
      "Training Epoch 26, Fold 5: 100%|██████████| 176/176 [00:21<00:00,  8.31it/s]\n",
      "Validating: 100%|██████████| 44/44 [00:02<00:00, 15.47it/s]\n"
     ]
    },
    {
     "name": "stdout",
     "output_type": "stream",
     "text": [
      "Epoch 26/30, Fold 5 - Loss: 0.2398, Acc: 0.1477, Precision: 0.8295, Recall: 0.7085, F1: 0.7451\n"
     ]
    },
    {
     "name": "stderr",
     "output_type": "stream",
     "text": [
      "Training Epoch 27, Fold 5: 100%|██████████| 176/176 [00:21<00:00,  8.32it/s]\n",
      "Validating: 100%|██████████| 44/44 [00:02<00:00, 15.47it/s]\n"
     ]
    },
    {
     "name": "stdout",
     "output_type": "stream",
     "text": [
      "Epoch 27/30, Fold 5 - Loss: 0.2397, Acc: 0.1477, Precision: 0.8295, Recall: 0.7085, F1: 0.7451\n"
     ]
    },
    {
     "name": "stderr",
     "output_type": "stream",
     "text": [
      "Training Epoch 28, Fold 5: 100%|██████████| 176/176 [00:21<00:00,  8.32it/s]\n",
      "Validating: 100%|██████████| 44/44 [00:02<00:00, 15.46it/s]\n"
     ]
    },
    {
     "name": "stdout",
     "output_type": "stream",
     "text": [
      "Epoch 28/30, Fold 5 - Loss: 0.2396, Acc: 0.1477, Precision: 0.8295, Recall: 0.7085, F1: 0.7451\n"
     ]
    },
    {
     "name": "stderr",
     "output_type": "stream",
     "text": [
      "Training Epoch 29, Fold 5: 100%|██████████| 176/176 [00:21<00:00,  8.32it/s]\n",
      "Validating: 100%|██████████| 44/44 [00:02<00:00, 15.47it/s]\n"
     ]
    },
    {
     "name": "stdout",
     "output_type": "stream",
     "text": [
      "Epoch 29/30, Fold 5 - Loss: 0.2398, Acc: 0.1477, Precision: 0.8295, Recall: 0.7085, F1: 0.7451\n"
     ]
    },
    {
     "name": "stderr",
     "output_type": "stream",
     "text": [
      "Training Epoch 30, Fold 5: 100%|██████████| 176/176 [00:21<00:00,  8.32it/s]\n",
      "Validating: 100%|██████████| 44/44 [00:02<00:00, 15.39it/s]\n"
     ]
    },
    {
     "name": "stdout",
     "output_type": "stream",
     "text": [
      "Epoch 30/30, Fold 5 - Loss: 0.2393, Acc: 0.1477, Precision: 0.8295, Recall: 0.7085, F1: 0.7451\n"
     ]
    },
    {
     "name": "stderr",
     "output_type": "stream",
     "text": [
      "Evaluating on Test Set: 100%|██████████| 56/56 [00:03<00:00, 15.25it/s]"
     ]
    },
    {
     "name": "stdout",
     "output_type": "stream",
     "text": [
      "Test Set Evaluation - Acc: 0.1171, Precision: 0.8138, Recall: 0.6619, F1: 0.7058\n"
     ]
    },
    {
     "name": "stderr",
     "output_type": "stream",
     "text": [
      "\n"
     ]
    }
   ],
   "execution_count": 21
  }
 ],
 "metadata": {
  "kernelspec": {
   "display_name": "Python 3",
   "language": "python",
   "name": "python3"
  },
  "language_info": {
   "codemirror_mode": {
    "name": "ipython",
    "version": 2
   },
   "file_extension": ".py",
   "mimetype": "text/x-python",
   "name": "python",
   "nbconvert_exporter": "python",
   "pygments_lexer": "ipython2",
   "version": "2.7.6"
  }
 },
 "nbformat": 4,
 "nbformat_minor": 5
}
