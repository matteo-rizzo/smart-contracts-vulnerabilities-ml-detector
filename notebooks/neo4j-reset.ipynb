{
 "cells": [
  {
   "cell_type": "code",
   "id": "initial_id",
   "metadata": {
    "collapsed": true,
    "ExecuteTime": {
     "end_time": "2024-12-22T10:23:38.098247Z",
     "start_time": "2024-12-22T10:23:38.092542Z"
    }
   },
   "source": [
    "import warnings\n",
    "\n",
    "warnings.filterwarnings('ignore')\n",
    "\n",
    "import logging\n",
    "\n",
    "neo4j_log = logging.getLogger(\"neo4j\")\n",
    "neo4j_log.setLevel(logging.CRITICAL)"
   ],
   "outputs": [],
   "execution_count": 1
  },
  {
   "metadata": {
    "ExecuteTime": {
     "end_time": "2024-12-22T10:23:39.907399Z",
     "start_time": "2024-12-22T10:23:38.119840Z"
    }
   },
   "cell_type": "code",
   "source": [
    "from src.classes.utils.DebugLogger import DebugLogger\n",
    "from src.classes.utils.EnvLoader import EnvLoader\n",
    "import os\n",
    "from llama_index.graph_stores.neo4j import Neo4jPropertyGraphStore\n",
    "from llama_index.vector_stores.neo4jvector import Neo4jVectorStore\n",
    "from neo4j import GraphDatabase\n",
    "\n",
    "EnvLoader(env_dir=\"../src/config\").load_env_files()\n",
    "\n",
    "logger = DebugLogger(use_panel_for_errors=True)"
   ],
   "id": "8e45c3cfade6c034",
   "outputs": [
    {
     "data": {
      "text/plain": [
       "\u001B[36m[INFO] Loading ../src/config/azure.env...\u001B[0m\n"
      ],
      "text/html": [
       "<pre style=\"white-space:pre;overflow-x:auto;line-height:normal;font-family:Menlo,'DejaVu Sans Mono',consolas,'Courier New',monospace\"><span style=\"color: #008080; text-decoration-color: #008080\">[INFO] Loading ../src/config/azure.env...</span>\n",
       "</pre>\n"
      ]
     },
     "metadata": {},
     "output_type": "display_data"
    },
    {
     "data": {
      "text/plain": [
       "\u001B[36m[INFO] Loading ../src/config/hf.env...\u001B[0m\n"
      ],
      "text/html": [
       "<pre style=\"white-space:pre;overflow-x:auto;line-height:normal;font-family:Menlo,'DejaVu Sans Mono',consolas,'Courier New',monospace\"><span style=\"color: #008080; text-decoration-color: #008080\">[INFO] Loading ../src/config/hf.env...</span>\n",
       "</pre>\n"
      ]
     },
     "metadata": {},
     "output_type": "display_data"
    },
    {
     "data": {
      "text/plain": [
       "\u001B[36m[INFO] Loading ../src/config/neo4j.env...\u001B[0m\n"
      ],
      "text/html": [
       "<pre style=\"white-space:pre;overflow-x:auto;line-height:normal;font-family:Menlo,'DejaVu Sans Mono',consolas,'Courier New',monospace\"><span style=\"color: #008080; text-decoration-color: #008080\">[INFO] Loading ../src/config/neo4j.env...</span>\n",
       "</pre>\n"
      ]
     },
     "metadata": {},
     "output_type": "display_data"
    },
    {
     "data": {
      "text/plain": [
       "\u001B[36m[INFO] Loading ../src/config/openai.env...\u001B[0m\n"
      ],
      "text/html": [
       "<pre style=\"white-space:pre;overflow-x:auto;line-height:normal;font-family:Menlo,'DejaVu Sans Mono',consolas,'Courier New',monospace\"><span style=\"color: #008080; text-decoration-color: #008080\">[INFO] Loading ../src/config/openai.env...</span>\n",
       "</pre>\n"
      ]
     },
     "metadata": {},
     "output_type": "display_data"
    }
   ],
   "execution_count": 2
  },
  {
   "metadata": {
    "ExecuteTime": {
     "end_time": "2024-12-22T10:23:40.044386Z",
     "start_time": "2024-12-22T10:23:40.037361Z"
    }
   },
   "cell_type": "code",
   "source": [
    "class Neo4jDBManager:\n",
    "    \"\"\"\n",
    "    Manages the configuration and creation of Neo4j graph and vector stores.\n",
    "    \"\"\"\n",
    "\n",
    "    def __init__(self, url: str = None, username: str = None, password: str = None, database: str = None):\n",
    "        \"\"\"\n",
    "        Initialize Neo4j connection parameters.\n",
    "\n",
    "        :param url: The URL for the Neo4j instance, defaults to \"bolt://localhost:7687\".\n",
    "        :param username: Username for Neo4j authentication, defaults to \"neo4j\".\n",
    "        :param password: Password for Neo4j authentication, retrieved from environment if not provided.\n",
    "        :param database: Name of the Neo4j database, defaults to \"neo4j\".\n",
    "        \"\"\"\n",
    "        self.logger = DebugLogger(use_panel_for_errors=True)\n",
    "        self.url = url or os.getenv(\"NEO4J_URL\", \"bolt://localhost:7687\")\n",
    "        self.username = username or os.getenv(\"NEO4J_USERNAME\", \"neo4j\")\n",
    "        self.password = password or os.getenv(\"NEO4J_PASSWORD\")\n",
    "        self.database = database or os.getenv(\"NEO4J_DATABASE\", \"neo4j\")\n",
    "\n",
    "        self._validate_password()\n",
    "        self.logger.success(f\"Neo4jDBManager initialized with URL: '{self.url}', Database: '{self.database}'.\")\n",
    "\n",
    "    def _validate_password(self):\n",
    "        \"\"\"\n",
    "        Validate that a Neo4j password is set.\n",
    "\n",
    "        :raises ValueError: If the password is not provided.\n",
    "        \"\"\"\n",
    "        if not self.password:\n",
    "            error_message = (\n",
    "                \"Neo4j password is required. Set it in the environment or pass it directly.\"\n",
    "            )\n",
    "            self.logger.error(error_message)\n",
    "            raise ValueError(error_message)\n",
    "\n",
    "    def create_graph_store(self) -> Neo4jPropertyGraphStore:\n",
    "        \"\"\"\n",
    "        Create and return a Neo4jPropertyGraphStore instance.\n",
    "\n",
    "        :return: Configured Neo4jPropertyGraphStore instance.\n",
    "        \"\"\"\n",
    "        return self._create_store(Neo4jPropertyGraphStore, \"Neo4jPropertyGraphStore\")\n",
    "\n",
    "    def create_vector_store(self, embedding_dimension: int = 384, hybrid_search: bool = True) -> Neo4jVectorStore:\n",
    "        \"\"\"\n",
    "        Create and return a Neo4jVectorStore instance.\n",
    "\n",
    "        :param embedding_dimension: Dimension of embeddings, defaults to 1536.\n",
    "        :param hybrid_search: Enables hybrid search, defaults to True.\n",
    "        :return: Configured Neo4jVectorStore instance.\n",
    "        \"\"\"\n",
    "        return self._create_store(\n",
    "            Neo4jVectorStore,\n",
    "            \"Neo4jVectorStore\",\n",
    "            embedding_dimension=embedding_dimension,\n",
    "            hybrid_search=hybrid_search,\n",
    "        )\n",
    "\n",
    "    def _create_store(self, store_class: type, store_name: str, **kwargs):\n",
    "        \"\"\"\n",
    "        Helper method to create a store instance with the provided configuration.\n",
    "\n",
    "        :param store_class: The class of the store to be created.\n",
    "        :param store_name: The name of the store, used for logging purposes.\n",
    "        :param kwargs: Additional configuration parameters for the store.\n",
    "        :return: Configured store instance.\n",
    "        :raises RuntimeError: If store creation fails.\n",
    "        \"\"\"\n",
    "        try:\n",
    "            store_instance = store_class(\n",
    "                username=self.username,\n",
    "                password=self.password,\n",
    "                url=self.url,\n",
    "                database=self.database,\n",
    "                **kwargs,\n",
    "            )\n",
    "            self.logger.success(f\"{store_name} instance created successfully.\")\n",
    "            return store_instance\n",
    "        except Exception as e:\n",
    "            error_message = f\"Failed to create {store_name}: {e}\"\n",
    "            self.logger.error(error_message)\n",
    "            raise RuntimeError(error_message) from e"
   ],
   "id": "49f03d8511a59172",
   "outputs": [],
   "execution_count": 3
  },
  {
   "metadata": {
    "ExecuteTime": {
     "end_time": "2024-12-22T10:23:40.064201Z",
     "start_time": "2024-12-22T10:23:40.058337Z"
    }
   },
   "cell_type": "code",
   "source": [
    "# Define your database configuration\n",
    "db_config = Neo4jDBManager()\n",
    "\n",
    "# Connect to the Neo4j database\n",
    "driver = GraphDatabase.driver(db_config.url, auth=(db_config.username, db_config.password))"
   ],
   "id": "d2bed699631f326",
   "outputs": [
    {
     "data": {
      "text/plain": [
       "\u001B[32m[SUCCESS] Neo4jDBManager initialized with URL: 'bolt://localhost:7687', Database: 'neo4j'.\u001B[0m\n"
      ],
      "text/html": [
       "<pre style=\"white-space:pre;overflow-x:auto;line-height:normal;font-family:Menlo,'DejaVu Sans Mono',consolas,'Courier New',monospace\"><span style=\"color: #008000; text-decoration-color: #008000\">[SUCCESS] Neo4jDBManager initialized with URL: 'bolt://localhost:7687', Database: 'neo4j'.</span>\n",
       "</pre>\n"
      ]
     },
     "metadata": {},
     "output_type": "display_data"
    }
   ],
   "execution_count": 4
  },
  {
   "metadata": {
    "ExecuteTime": {
     "end_time": "2024-12-22T10:23:40.718524Z",
     "start_time": "2024-12-22T10:23:40.158560Z"
    }
   },
   "cell_type": "code",
   "source": [
    "# Function to reset the database completely\n",
    "def reset_database(driver):\n",
    "    with driver.session() as session:\n",
    "        # Clear all nodes and relationships\n",
    "        session.run(\"MATCH (n) DETACH DELETE n\")\n",
    "        print(\"Data cleared.\")\n",
    "\n",
    "        # Drop all constraints\n",
    "        constraints = session.run(\"SHOW CONSTRAINTS\")\n",
    "        for record in constraints:\n",
    "            constraint_name = record[\"name\"]\n",
    "            session.run(f\"DROP CONSTRAINT {constraint_name}\")\n",
    "        print(\"All constraints dropped.\")\n",
    "\n",
    "        # Drop all indexes\n",
    "        indexes = session.run(\"SHOW INDEXES\")\n",
    "        for record in indexes:\n",
    "            index_name = record[\"name\"]\n",
    "            session.run(f\"DROP INDEX {index_name}\")\n",
    "        print(\"All indexes dropped.\")\n",
    "\n",
    "\n",
    "# Execute the reset function\n",
    "reset_database(driver)\n",
    "\n",
    "# Close the driver connection\n",
    "driver.close()"
   ],
   "id": "bf847a4f9dc48d58",
   "outputs": [
    {
     "name": "stdout",
     "output_type": "stream",
     "text": [
      "Data cleared.\n",
      "All constraints dropped.\n",
      "All indexes dropped.\n"
     ]
    }
   ],
   "execution_count": 5
  },
  {
   "metadata": {},
   "cell_type": "code",
   "outputs": [],
   "execution_count": null,
   "source": "",
   "id": "44093476c4d9ce79"
  }
 ],
 "metadata": {
  "kernelspec": {
   "display_name": "Python 3",
   "language": "python",
   "name": "python3"
  },
  "language_info": {
   "codemirror_mode": {
    "name": "ipython",
    "version": 2
   },
   "file_extension": ".py",
   "mimetype": "text/x-python",
   "name": "python",
   "nbconvert_exporter": "python",
   "pygments_lexer": "ipython2",
   "version": "2.7.6"
  }
 },
 "nbformat": 4,
 "nbformat_minor": 5
}
