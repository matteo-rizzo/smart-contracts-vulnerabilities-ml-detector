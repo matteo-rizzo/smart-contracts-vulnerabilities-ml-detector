{
 "cells": [
  {
   "metadata": {
    "ExecuteTime": {
     "end_time": "2025-02-25T10:08:15.661377Z",
     "start_time": "2025-02-25T10:08:15.589436Z"
    }
   },
   "cell_type": "code",
   "source": [
    "import json\n",
    "import os\n",
    "\n",
    "from sklearn.metrics import accuracy_score, precision_score, recall_score, f1_score\n",
    "from tqdm import tqdm\n",
    "\n",
    "from src.classes.utils.DebugLogger import DebugLogger\n",
    "\n",
    "logger = DebugLogger(use_panel_for_errors=True)"
   ],
   "id": "13611561371d75dd",
   "outputs": [],
   "execution_count": 10
  },
  {
   "cell_type": "code",
   "id": "initial_id",
   "metadata": {
    "collapsed": true,
    "ExecuteTime": {
     "end_time": "2025-02-25T10:08:15.689992Z",
     "start_time": "2025-02-25T10:08:15.685767Z"
    }
   },
   "source": [
    "def accuracy(path_to_log, gt_category):\n",
    "    files = os.listdir(path_to_log)\n",
    "    correct = 0\n",
    "    total = len(files)\n",
    "\n",
    "    for filename in files:\n",
    "        path_to_file = os.path.join(path_to_log, filename)\n",
    "        content = json.load(open(path_to_file, 'r', encoding='utf-8'))\n",
    "        classification = content[\"classification\"]\n",
    "        print(classification)\n",
    "        if classification.lower() == gt_category:\n",
    "            correct += 1\n",
    "\n",
    "    accuracy = correct / total\n",
    "    logger.info(f\"Classification Accuracy: {accuracy:.2%}\")"
   ],
   "outputs": [],
   "execution_count": 11
  },
  {
   "metadata": {
    "ExecuteTime": {
     "end_time": "2025-02-25T10:08:15.735429Z",
     "start_time": "2025-02-25T10:08:15.700536Z"
    }
   },
   "cell_type": "code",
   "source": [
    "path_to_log = \"../log/test_reentrant\"\n",
    "accuracy(path_to_log, gt_category=\"reentrant\")"
   ],
   "id": "a7112673a3f47e9a",
   "outputs": [
    {
     "name": "stdout",
     "output_type": "stream",
     "text": [
      "Reentrant\n",
      "Reentrant\n",
      "Reentrant\n",
      "Reentrant\n",
      "Reentrant\n",
      "Reentrant\n",
      "Safe\n",
      "Reentrant\n",
      "Reentrant\n",
      "Reentrant\n",
      "Reentrant\n",
      "Reentrant\n",
      "Reentrant\n",
      "Reentrant\n",
      "Reentrant\n",
      "Reentrant\n",
      "Reentrant\n",
      "Reentrant\n",
      "Reentrant\n",
      "Reentrant\n",
      "Reentrant\n",
      "Reentrant\n",
      "Reentrant\n",
      "Reentrant\n",
      "Reentrant\n",
      "Reentrant\n",
      "Reentrant\n",
      "Reentrant\n",
      "Reentrant\n",
      "Reentrant\n",
      "Reentrant\n",
      "Safe\n",
      "Reentrant\n",
      "Reentrant\n",
      "Reentrant\n",
      "Reentrant\n",
      "Reentrant\n",
      "Reentrant\n",
      "Reentrant\n",
      "Reentrant\n",
      "Reentrant\n",
      "Reentrant\n",
      "Reentrant\n",
      "Reentrant\n",
      "Reentrant\n",
      "Reentrant\n",
      "Reentrant\n",
      "Reentrant\n",
      "Reentrant\n",
      "Reentrant\n",
      "Reentrant\n",
      "Reentrant\n",
      "Reentrant\n",
      "Reentrant\n",
      "Reentrant\n",
      "Reentrant\n",
      "Reentrant\n",
      "Reentrant\n",
      "Reentrant\n",
      "Reentrant\n",
      "Reentrant\n",
      "Reentrant\n",
      "Reentrant\n",
      "Reentrant\n",
      "Reentrant\n",
      "Reentrant\n",
      "Reentrant\n",
      "Reentrant\n",
      "Reentrant\n",
      "Reentrant\n",
      "Reentrant\n",
      "Reentrant\n",
      "Reentrant\n",
      "Reentrant\n"
     ]
    },
    {
     "data": {
      "text/plain": [
       "\u001B[36m[INFO] Classification Accuracy: 97.30%\u001B[0m\n"
      ],
      "text/html": [
       "<pre style=\"white-space:pre;overflow-x:auto;line-height:normal;font-family:Menlo,'DejaVu Sans Mono',consolas,'Courier New',monospace\"><span style=\"color: #008080; text-decoration-color: #008080\">[INFO] Classification Accuracy: 97.30%</span>\n",
       "</pre>\n"
      ]
     },
     "metadata": {},
     "output_type": "display_data"
    }
   ],
   "execution_count": 12
  },
  {
   "metadata": {
    "ExecuteTime": {
     "end_time": "2025-02-25T10:08:15.870979Z",
     "start_time": "2025-02-25T10:08:15.846155Z"
    }
   },
   "cell_type": "code",
   "source": [
    "path_to_log = \"../log/test_safe\"\n",
    "accuracy(path_to_log, gt_category=\"safe\")"
   ],
   "id": "2d11aa233c342ed5",
   "outputs": [
    {
     "name": "stdout",
     "output_type": "stream",
     "text": [
      "Safe\n",
      "Safe\n",
      "Safe\n",
      "Safe\n",
      "Safe\n",
      "Safe\n",
      "Reentrant\n",
      "Reentrant\n",
      "Safe\n",
      "Safe\n",
      "Safe\n",
      "Safe\n",
      "Safe\n",
      "Safe\n",
      "Reentrant\n",
      "Reentrant\n",
      "Reentrant\n",
      "Safe\n",
      "Safe\n",
      "Safe\n",
      "Safe\n",
      "Reentrant\n",
      "Safe\n",
      "Reentrant\n",
      "Safe\n",
      "Safe\n",
      "Safe\n",
      "Reentrant\n",
      "Reentrant\n",
      "Safe\n",
      "Reentrant\n",
      "Safe\n",
      "Safe\n",
      "Reentrant\n",
      "Reentrant\n",
      "Safe\n",
      "Reentrant\n",
      "Safe\n",
      "Safe\n",
      "Reentrant\n",
      "Reentrant\n",
      "Reentrant\n",
      "Reentrant\n",
      "Reentrant\n",
      "Safe\n",
      "Safe\n",
      "Reentrant\n",
      "Reentrant\n",
      "Reentrant\n",
      "Safe\n",
      "Safe\n",
      "Safe\n",
      "Reentrant\n",
      "Reentrant\n",
      "Reentrant\n",
      "Safe\n",
      "Safe\n",
      "Safe\n",
      "Reentrant\n",
      "Reentrant\n",
      "Reentrant\n",
      "Safe\n",
      "Reentrant\n",
      "Safe\n",
      "Reentrant\n",
      "Reentrant\n",
      "Reentrant\n",
      "Reentrant\n",
      "Safe\n",
      "Safe\n",
      "Safe\n",
      "Safe\n",
      "Reentrant\n",
      "Safe\n"
     ]
    },
    {
     "data": {
      "text/plain": [
       "\u001B[36m[INFO] Classification Accuracy: 55.41%\u001B[0m\n"
      ],
      "text/html": [
       "<pre style=\"white-space:pre;overflow-x:auto;line-height:normal;font-family:Menlo,'DejaVu Sans Mono',consolas,'Courier New',monospace\"><span style=\"color: #008080; text-decoration-color: #008080\">[INFO] Classification Accuracy: 55.41%</span>\n",
       "</pre>\n"
      ]
     },
     "metadata": {},
     "output_type": "display_data"
    }
   ],
   "execution_count": 13
  },
  {
   "metadata": {
    "ExecuteTime": {
     "end_time": "2025-02-25T10:08:16.040293Z",
     "start_time": "2025-02-25T10:08:16.023165Z"
    }
   },
   "cell_type": "code",
   "source": [
    "def load_json(file_path):\n",
    "    \"\"\"Load a JSON file and return its contents.\"\"\"\n",
    "    logger.debug(f\"Loading JSON file: {file_path}\")\n",
    "    with open(file_path, 'r') as f:\n",
    "        return json.load(f)\n",
    "\n",
    "\n",
    "def get_ground_truth_from_path(contract_path):\n",
    "    \"\"\"Determine the ground truth label based on the parent folder name.\"\"\"\n",
    "    label = None\n",
    "    if \"reentrant\" in contract_path:\n",
    "        label = \"reentrant\"\n",
    "    elif \"safe\" in contract_path:\n",
    "        label = \"safe\"\n",
    "    logger.debug(f\"Determined ground truth for {contract_path}: {label}\")\n",
    "    return label\n",
    "\n",
    "\n",
    "def collect_predictions(contract_dir):\n",
    "    \"\"\"Collect labels from the 3 JSON files (excluding classification.json).\"\"\"\n",
    "    logger.debug(f\"Collecting predictions from directory: {contract_dir}\")\n",
    "    predictions = []\n",
    "    for file_name in os.listdir(contract_dir):\n",
    "        file_path = os.path.join(contract_dir, file_name)\n",
    "        if file_name.endswith(\".json\") and file_name != \"classification.json\":\n",
    "            data = load_json(file_path)\n",
    "            if \"label\" in data:\n",
    "                predictions.append(data[\"label\"])\n",
    "    logger.debug(f\"Collected predictions: {predictions}\")\n",
    "    return predictions\n",
    "\n",
    "\n",
    "def evaluate(base_dir):\n",
    "    \"\"\"Compute accuracy, precision, recall, and F1-score for contract classification.\"\"\"\n",
    "    logger.info(f\"Starting evaluation on base directory: {base_dir}\")\n",
    "    y_true_analysis = []\n",
    "    y_pred_analysis = []\n",
    "    y_true_classification = []\n",
    "    y_pred_classification = []\n",
    "\n",
    "    contract_paths = [os.path.join(root) for root, _, _ in os.walk(base_dir) if\n",
    "                      any(sub in root for sub in [\"reentrant\", \"safe\"])]\n",
    "\n",
    "    for root in tqdm(contract_paths, desc=\"Processing contracts\"):\n",
    "        ground_truth = get_ground_truth_from_path(root)\n",
    "        classification_file = os.path.join(root, \"classification.json\")\n",
    "\n",
    "        if os.path.exists(classification_file):\n",
    "            logger.debug(f\"Processing classification file: {classification_file}\")\n",
    "            classification_data = load_json(classification_file)\n",
    "            contract_label = classification_data.get(\"classification\").lower()\n",
    "\n",
    "            if contract_label:\n",
    "                y_true_classification.append(ground_truth)\n",
    "                y_pred_classification.append(contract_label)\n",
    "                logger.debug(f\"Classification result: {contract_label}, Ground truth: {ground_truth}\")\n",
    "\n",
    "            predictions = collect_predictions(root)\n",
    "            y_true_analysis.extend([ground_truth] * len(predictions))\n",
    "            y_pred_analysis.extend(predictions)\n",
    "\n",
    "    # Compute metrics for analysis files\n",
    "    accuracy_analysis = accuracy_score(y_true_analysis, y_pred_analysis)\n",
    "    precision_analysis = precision_score(y_true_analysis, y_pred_analysis, pos_label=\"reentrant\", average='binary')\n",
    "    recall_analysis = recall_score(y_true_analysis, y_pred_analysis, pos_label=\"reentrant\", average='binary')\n",
    "    f1_analysis = f1_score(y_true_analysis, y_pred_analysis, pos_label=\"reentrant\", average='binary')\n",
    "\n",
    "    # Compute metrics for classification file\n",
    "    accuracy_classification = accuracy_score(y_true_classification, y_pred_classification)\n",
    "    precision_classification = precision_score(y_true_classification, y_pred_classification, pos_label=\"reentrant\",\n",
    "                                               average='binary')\n",
    "    recall_classification = recall_score(y_true_classification, y_pred_classification, pos_label=\"reentrant\",\n",
    "                                         average='binary')\n",
    "    f1_classification = f1_score(y_true_classification, y_pred_classification, pos_label=\"reentrant\", average='binary')\n",
    "\n",
    "    # Log results\n",
    "    logger.info(\"Analysis Files Metrics:\")\n",
    "    logger.info(f\"Accuracy: {accuracy_analysis:.4f}\")\n",
    "    logger.info(f\"Precision: {precision_analysis:.4f}\")\n",
    "    logger.info(f\"Recall: {recall_analysis:.4f}\")\n",
    "    logger.info(f\"F1 Score: {f1_analysis:.4f}\")\n",
    "\n",
    "    logger.info(\"\\nClassification File Metrics:\")\n",
    "    logger.info(f\"Accuracy: {accuracy_classification:.4f}\")\n",
    "    logger.info(f\"Precision: {precision_classification:.4f}\")\n",
    "    logger.info(f\"Recall: {recall_classification:.4f}\")\n",
    "    logger.info(f\"F1 Score: {f1_classification:.4f}\")\n",
    "\n",
    "    return {\n",
    "        \"analysis\": (accuracy_analysis, precision_analysis, recall_analysis, f1_analysis),\n",
    "        \"classification\": (accuracy_classification, precision_classification, recall_classification, f1_classification)\n",
    "    }"
   ],
   "id": "95daa7978bbea1f2",
   "outputs": [],
   "execution_count": 14
  },
  {
   "metadata": {
    "ExecuteTime": {
     "end_time": "2025-02-25T10:08:17.983593Z",
     "start_time": "2025-02-25T10:08:16.130872Z"
    }
   },
   "cell_type": "code",
   "source": [
    "base_directory = \"../log/contracts_analysis_both_20250225_104133\"  # Change this to your actual base directory\n",
    "evaluate(base_directory)"
   ],
   "id": "39cfe2bbf3418a3",
   "outputs": [
    {
     "data": {
      "text/plain": [
       "\u001B[36m[INFO] Starting evaluation on base directory: ../log/contracts_analysis_both_20250225_104133\u001B[0m\n"
      ],
      "text/html": [
       "<pre style=\"white-space:pre;overflow-x:auto;line-height:normal;font-family:Menlo,'DejaVu Sans Mono',consolas,'Courier New',monospace\"><span style=\"color: #008080; text-decoration-color: #008080\">[INFO] Starting evaluation on base directory: ../log/contracts_analysis_both_20250225_104133</span>\n",
       "</pre>\n"
      ]
     },
     "metadata": {},
     "output_type": "display_data"
    },
    {
     "name": "stderr",
     "output_type": "stream",
     "text": [
      "Processing contracts:   0%|          | 0/96 [00:00<?, ?it/s]"
     ]
    },
    {
     "data": {
      "text/plain": [
       "\u001B[2m[DEBUG] Determined ground truth for ../log/contracts_analysis_both_20250225_104133/safe: safe\u001B[0m\n"
      ],
      "text/html": [
       "<pre style=\"white-space:pre;overflow-x:auto;line-height:normal;font-family:Menlo,'DejaVu Sans Mono',consolas,'Courier New',monospace\"><span style=\"color: #7f7f7f; text-decoration-color: #7f7f7f\">[DEBUG] Determined ground truth for ../log/contracts_analysis_both_20250225_104133/safe: safe</span>\n",
       "</pre>\n"
      ]
     },
     "metadata": {},
     "output_type": "display_data"
    },
    {
     "data": {
      "text/plain": [
       "\u001B[2m[DEBUG] Determined ground truth for \u001B[0m\n",
       "\u001B[2m../log/contracts_analysis_both_20250225_104133/safe/0x0a4e9f69f5b2e1e661da9ed98956f928200ea4ba: safe\u001B[0m\n"
      ],
      "text/html": [
       "<pre style=\"white-space:pre;overflow-x:auto;line-height:normal;font-family:Menlo,'DejaVu Sans Mono',consolas,'Courier New',monospace\"><span style=\"color: #7f7f7f; text-decoration-color: #7f7f7f\">[DEBUG] Determined ground truth for </span>\n",
       "<span style=\"color: #7f7f7f; text-decoration-color: #7f7f7f\">../log/contracts_analysis_both_20250225_104133/safe/0x0a4e9f69f5b2e1e661da9ed98956f928200ea4ba: safe</span>\n",
       "</pre>\n"
      ]
     },
     "metadata": {},
     "output_type": "display_data"
    },
    {
     "data": {
      "text/plain": [
       "\u001B[2m[DEBUG] Processing classification file: \u001B[0m\n",
       "\u001B[2m../log/contracts_analysis_both_20250225_104133/safe/0x0a4e9f69f5b2e1e661da9ed98956f928200ea4ba/classification.json\u001B[0m\n"
      ],
      "text/html": [
       "<pre style=\"white-space:pre;overflow-x:auto;line-height:normal;font-family:Menlo,'DejaVu Sans Mono',consolas,'Courier New',monospace\"><span style=\"color: #7f7f7f; text-decoration-color: #7f7f7f\">[DEBUG] Processing classification file: </span>\n",
       "<span style=\"color: #7f7f7f; text-decoration-color: #7f7f7f\">../log/contracts_analysis_both_20250225_104133/safe/0x0a4e9f69f5b2e1e661da9ed98956f928200ea4ba/classification.json</span>\n",
       "</pre>\n"
      ]
     },
     "metadata": {},
     "output_type": "display_data"
    },
    {
     "data": {
      "text/plain": [
       "\u001B[2m[DEBUG] Loading JSON file: \u001B[0m\n",
       "\u001B[2m../log/contracts_analysis_both_20250225_104133/safe/0x0a4e9f69f5b2e1e661da9ed98956f928200ea4ba/classification.json\u001B[0m\n"
      ],
      "text/html": [
       "<pre style=\"white-space:pre;overflow-x:auto;line-height:normal;font-family:Menlo,'DejaVu Sans Mono',consolas,'Courier New',monospace\"><span style=\"color: #7f7f7f; text-decoration-color: #7f7f7f\">[DEBUG] Loading JSON file: </span>\n",
       "<span style=\"color: #7f7f7f; text-decoration-color: #7f7f7f\">../log/contracts_analysis_both_20250225_104133/safe/0x0a4e9f69f5b2e1e661da9ed98956f928200ea4ba/classification.json</span>\n",
       "</pre>\n"
      ]
     },
     "metadata": {},
     "output_type": "display_data"
    },
    {
     "data": {
      "text/plain": [
       "\u001B[2m[DEBUG] Classification result: reentrant, Ground truth: safe\u001B[0m\n"
      ],
      "text/html": [
       "<pre style=\"white-space:pre;overflow-x:auto;line-height:normal;font-family:Menlo,'DejaVu Sans Mono',consolas,'Courier New',monospace\"><span style=\"color: #7f7f7f; text-decoration-color: #7f7f7f\">[DEBUG] Classification result: reentrant, Ground truth: safe</span>\n",
       "</pre>\n"
      ]
     },
     "metadata": {},
     "output_type": "display_data"
    },
    {
     "data": {
      "text/plain": [
       "\u001B[2m[DEBUG] Collecting predictions from directory: \u001B[0m\n",
       "\u001B[2m../log/contracts_analysis_both_20250225_104133/safe/0x0a4e9f69f5b2e1e661da9ed98956f928200ea4ba\u001B[0m\n"
      ],
      "text/html": [
       "<pre style=\"white-space:pre;overflow-x:auto;line-height:normal;font-family:Menlo,'DejaVu Sans Mono',consolas,'Courier New',monospace\"><span style=\"color: #7f7f7f; text-decoration-color: #7f7f7f\">[DEBUG] Collecting predictions from directory: </span>\n",
       "<span style=\"color: #7f7f7f; text-decoration-color: #7f7f7f\">../log/contracts_analysis_both_20250225_104133/safe/0x0a4e9f69f5b2e1e661da9ed98956f928200ea4ba</span>\n",
       "</pre>\n"
      ]
     },
     "metadata": {},
     "output_type": "display_data"
    },
    {
     "data": {
      "text/plain": [
       "\u001B[2m[DEBUG] Loading JSON file: \u001B[0m\n",
       "\u001B[2m../log/contracts_analysis_both_20250225_104133/safe/0x0a4e9f69f5b2e1e661da9ed98956f928200ea4ba/analysis_0x0aa19b3e5\u001B[0m\n",
       "\u001B[2m1dd77e482690263c8af26bec2c6542e.json\u001B[0m\n"
      ],
      "text/html": [
       "<pre style=\"white-space:pre;overflow-x:auto;line-height:normal;font-family:Menlo,'DejaVu Sans Mono',consolas,'Courier New',monospace\"><span style=\"color: #7f7f7f; text-decoration-color: #7f7f7f\">[DEBUG] Loading JSON file: </span>\n",
       "<span style=\"color: #7f7f7f; text-decoration-color: #7f7f7f\">../log/contracts_analysis_both_20250225_104133/safe/0x0a4e9f69f5b2e1e661da9ed98956f928200ea4ba/analysis_0x0aa19b3e5</span>\n",
       "<span style=\"color: #7f7f7f; text-decoration-color: #7f7f7f\">1dd77e482690263c8af26bec2c6542e.json</span>\n",
       "</pre>\n"
      ]
     },
     "metadata": {},
     "output_type": "display_data"
    },
    {
     "data": {
      "text/plain": [
       "\u001B[2m[DEBUG] Loading JSON file: \u001B[0m\n",
       "\u001B[2m../log/contracts_analysis_both_20250225_104133/safe/0x0a4e9f69f5b2e1e661da9ed98956f928200ea4ba/analysis_0x0aab3ac44\u001B[0m\n",
       "\u001B[2m7ea90739bdbe4e0e00af0a54038904a.json\u001B[0m\n"
      ],
      "text/html": [
       "<pre style=\"white-space:pre;overflow-x:auto;line-height:normal;font-family:Menlo,'DejaVu Sans Mono',consolas,'Courier New',monospace\"><span style=\"color: #7f7f7f; text-decoration-color: #7f7f7f\">[DEBUG] Loading JSON file: </span>\n",
       "<span style=\"color: #7f7f7f; text-decoration-color: #7f7f7f\">../log/contracts_analysis_both_20250225_104133/safe/0x0a4e9f69f5b2e1e661da9ed98956f928200ea4ba/analysis_0x0aab3ac44</span>\n",
       "<span style=\"color: #7f7f7f; text-decoration-color: #7f7f7f\">7ea90739bdbe4e0e00af0a54038904a.json</span>\n",
       "</pre>\n"
      ]
     },
     "metadata": {},
     "output_type": "display_data"
    },
    {
     "data": {
      "text/plain": [
       "\u001B[2m[DEBUG] Loading JSON file: \u001B[0m\n",
       "\u001B[2m../log/contracts_analysis_both_20250225_104133/safe/0x0a4e9f69f5b2e1e661da9ed98956f928200ea4ba/analysis_0x0a8c3b7e1\u001B[0m\n",
       "\u001B[2m49891ff594e3ad580f8e1769151a07b.json\u001B[0m\n"
      ],
      "text/html": [
       "<pre style=\"white-space:pre;overflow-x:auto;line-height:normal;font-family:Menlo,'DejaVu Sans Mono',consolas,'Courier New',monospace\"><span style=\"color: #7f7f7f; text-decoration-color: #7f7f7f\">[DEBUG] Loading JSON file: </span>\n",
       "<span style=\"color: #7f7f7f; text-decoration-color: #7f7f7f\">../log/contracts_analysis_both_20250225_104133/safe/0x0a4e9f69f5b2e1e661da9ed98956f928200ea4ba/analysis_0x0a8c3b7e1</span>\n",
       "<span style=\"color: #7f7f7f; text-decoration-color: #7f7f7f\">49891ff594e3ad580f8e1769151a07b.json</span>\n",
       "</pre>\n"
      ]
     },
     "metadata": {},
     "output_type": "display_data"
    },
    {
     "data": {
      "text/plain": [
       "\u001B[2m[DEBUG] Collected predictions: ['safe', 'safe', 'safe']\u001B[0m\n"
      ],
      "text/html": [
       "<pre style=\"white-space:pre;overflow-x:auto;line-height:normal;font-family:Menlo,'DejaVu Sans Mono',consolas,'Courier New',monospace\"><span style=\"color: #7f7f7f; text-decoration-color: #7f7f7f\">[DEBUG] Collected predictions: ['safe', 'safe', 'safe']</span>\n",
       "</pre>\n"
      ]
     },
     "metadata": {},
     "output_type": "display_data"
    },
    {
     "data": {
      "text/plain": [
       "\u001B[2m[DEBUG] Determined ground truth for \u001B[0m\n",
       "\u001B[2m../log/contracts_analysis_both_20250225_104133/safe/0x0a1bad122f1dc2ec8735192ceaa70693414b0317: safe\u001B[0m\n"
      ],
      "text/html": [
       "<pre style=\"white-space:pre;overflow-x:auto;line-height:normal;font-family:Menlo,'DejaVu Sans Mono',consolas,'Courier New',monospace\"><span style=\"color: #7f7f7f; text-decoration-color: #7f7f7f\">[DEBUG] Determined ground truth for </span>\n",
       "<span style=\"color: #7f7f7f; text-decoration-color: #7f7f7f\">../log/contracts_analysis_both_20250225_104133/safe/0x0a1bad122f1dc2ec8735192ceaa70693414b0317: safe</span>\n",
       "</pre>\n"
      ]
     },
     "metadata": {},
     "output_type": "display_data"
    },
    {
     "data": {
      "text/plain": [
       "\u001B[2m[DEBUG] Processing classification file: \u001B[0m\n",
       "\u001B[2m../log/contracts_analysis_both_20250225_104133/safe/0x0a1bad122f1dc2ec8735192ceaa70693414b0317/classification.json\u001B[0m\n"
      ],
      "text/html": [
       "<pre style=\"white-space:pre;overflow-x:auto;line-height:normal;font-family:Menlo,'DejaVu Sans Mono',consolas,'Courier New',monospace\"><span style=\"color: #7f7f7f; text-decoration-color: #7f7f7f\">[DEBUG] Processing classification file: </span>\n",
       "<span style=\"color: #7f7f7f; text-decoration-color: #7f7f7f\">../log/contracts_analysis_both_20250225_104133/safe/0x0a1bad122f1dc2ec8735192ceaa70693414b0317/classification.json</span>\n",
       "</pre>\n"
      ]
     },
     "metadata": {},
     "output_type": "display_data"
    },
    {
     "data": {
      "text/plain": [
       "\u001B[2m[DEBUG] Loading JSON file: \u001B[0m\n",
       "\u001B[2m../log/contracts_analysis_both_20250225_104133/safe/0x0a1bad122f1dc2ec8735192ceaa70693414b0317/classification.json\u001B[0m\n"
      ],
      "text/html": [
       "<pre style=\"white-space:pre;overflow-x:auto;line-height:normal;font-family:Menlo,'DejaVu Sans Mono',consolas,'Courier New',monospace\"><span style=\"color: #7f7f7f; text-decoration-color: #7f7f7f\">[DEBUG] Loading JSON file: </span>\n",
       "<span style=\"color: #7f7f7f; text-decoration-color: #7f7f7f\">../log/contracts_analysis_both_20250225_104133/safe/0x0a1bad122f1dc2ec8735192ceaa70693414b0317/classification.json</span>\n",
       "</pre>\n"
      ]
     },
     "metadata": {},
     "output_type": "display_data"
    },
    {
     "data": {
      "text/plain": [
       "\u001B[2m[DEBUG] Classification result: safe, Ground truth: safe\u001B[0m\n"
      ],
      "text/html": [
       "<pre style=\"white-space:pre;overflow-x:auto;line-height:normal;font-family:Menlo,'DejaVu Sans Mono',consolas,'Courier New',monospace\"><span style=\"color: #7f7f7f; text-decoration-color: #7f7f7f\">[DEBUG] Classification result: safe, Ground truth: safe</span>\n",
       "</pre>\n"
      ]
     },
     "metadata": {},
     "output_type": "display_data"
    },
    {
     "data": {
      "text/plain": [
       "\u001B[2m[DEBUG] Collecting predictions from directory: \u001B[0m\n",
       "\u001B[2m../log/contracts_analysis_both_20250225_104133/safe/0x0a1bad122f1dc2ec8735192ceaa70693414b0317\u001B[0m\n"
      ],
      "text/html": [
       "<pre style=\"white-space:pre;overflow-x:auto;line-height:normal;font-family:Menlo,'DejaVu Sans Mono',consolas,'Courier New',monospace\"><span style=\"color: #7f7f7f; text-decoration-color: #7f7f7f\">[DEBUG] Collecting predictions from directory: </span>\n",
       "<span style=\"color: #7f7f7f; text-decoration-color: #7f7f7f\">../log/contracts_analysis_both_20250225_104133/safe/0x0a1bad122f1dc2ec8735192ceaa70693414b0317</span>\n",
       "</pre>\n"
      ]
     },
     "metadata": {},
     "output_type": "display_data"
    },
    {
     "data": {
      "text/plain": [
       "\u001B[2m[DEBUG] Loading JSON file: \u001B[0m\n",
       "\u001B[2m../log/contracts_analysis_both_20250225_104133/safe/0x0a1bad122f1dc2ec8735192ceaa70693414b0317/analysis_0x0aa19b3e5\u001B[0m\n",
       "\u001B[2m1dd77e482690263c8af26bec2c6542e.json\u001B[0m\n"
      ],
      "text/html": [
       "<pre style=\"white-space:pre;overflow-x:auto;line-height:normal;font-family:Menlo,'DejaVu Sans Mono',consolas,'Courier New',monospace\"><span style=\"color: #7f7f7f; text-decoration-color: #7f7f7f\">[DEBUG] Loading JSON file: </span>\n",
       "<span style=\"color: #7f7f7f; text-decoration-color: #7f7f7f\">../log/contracts_analysis_both_20250225_104133/safe/0x0a1bad122f1dc2ec8735192ceaa70693414b0317/analysis_0x0aa19b3e5</span>\n",
       "<span style=\"color: #7f7f7f; text-decoration-color: #7f7f7f\">1dd77e482690263c8af26bec2c6542e.json</span>\n",
       "</pre>\n"
      ]
     },
     "metadata": {},
     "output_type": "display_data"
    },
    {
     "data": {
      "text/plain": [
       "\u001B[2m[DEBUG] Loading JSON file: \u001B[0m\n",
       "\u001B[2m../log/contracts_analysis_both_20250225_104133/safe/0x0a1bad122f1dc2ec8735192ceaa70693414b0317/analysis_0x0aab3ac44\u001B[0m\n",
       "\u001B[2m7ea90739bdbe4e0e00af0a54038904a.json\u001B[0m\n"
      ],
      "text/html": [
       "<pre style=\"white-space:pre;overflow-x:auto;line-height:normal;font-family:Menlo,'DejaVu Sans Mono',consolas,'Courier New',monospace\"><span style=\"color: #7f7f7f; text-decoration-color: #7f7f7f\">[DEBUG] Loading JSON file: </span>\n",
       "<span style=\"color: #7f7f7f; text-decoration-color: #7f7f7f\">../log/contracts_analysis_both_20250225_104133/safe/0x0a1bad122f1dc2ec8735192ceaa70693414b0317/analysis_0x0aab3ac44</span>\n",
       "<span style=\"color: #7f7f7f; text-decoration-color: #7f7f7f\">7ea90739bdbe4e0e00af0a54038904a.json</span>\n",
       "</pre>\n"
      ]
     },
     "metadata": {},
     "output_type": "display_data"
    },
    {
     "data": {
      "text/plain": [
       "\u001B[2m[DEBUG] Loading JSON file: \u001B[0m\n",
       "\u001B[2m../log/contracts_analysis_both_20250225_104133/safe/0x0a1bad122f1dc2ec8735192ceaa70693414b0317/analysis_0x0a8c3b7e1\u001B[0m\n",
       "\u001B[2m49891ff594e3ad580f8e1769151a07b.json\u001B[0m\n"
      ],
      "text/html": [
       "<pre style=\"white-space:pre;overflow-x:auto;line-height:normal;font-family:Menlo,'DejaVu Sans Mono',consolas,'Courier New',monospace\"><span style=\"color: #7f7f7f; text-decoration-color: #7f7f7f\">[DEBUG] Loading JSON file: </span>\n",
       "<span style=\"color: #7f7f7f; text-decoration-color: #7f7f7f\">../log/contracts_analysis_both_20250225_104133/safe/0x0a1bad122f1dc2ec8735192ceaa70693414b0317/analysis_0x0a8c3b7e1</span>\n",
       "<span style=\"color: #7f7f7f; text-decoration-color: #7f7f7f\">49891ff594e3ad580f8e1769151a07b.json</span>\n",
       "</pre>\n"
      ]
     },
     "metadata": {},
     "output_type": "display_data"
    },
    {
     "data": {
      "text/plain": [
       "\u001B[2m[DEBUG] Collected predictions: ['safe', 'safe', 'safe']\u001B[0m\n"
      ],
      "text/html": [
       "<pre style=\"white-space:pre;overflow-x:auto;line-height:normal;font-family:Menlo,'DejaVu Sans Mono',consolas,'Courier New',monospace\"><span style=\"color: #7f7f7f; text-decoration-color: #7f7f7f\">[DEBUG] Collected predictions: ['safe', 'safe', 'safe']</span>\n",
       "</pre>\n"
      ]
     },
     "metadata": {},
     "output_type": "display_data"
    },
    {
     "data": {
      "text/plain": [
       "\u001B[2m[DEBUG] Determined ground truth for \u001B[0m\n",
       "\u001B[2m../log/contracts_analysis_both_20250225_104133/safe/0x0a3f6648fdf7df0f542c7ef3df86406cec5bfade: safe\u001B[0m\n"
      ],
      "text/html": [
       "<pre style=\"white-space:pre;overflow-x:auto;line-height:normal;font-family:Menlo,'DejaVu Sans Mono',consolas,'Courier New',monospace\"><span style=\"color: #7f7f7f; text-decoration-color: #7f7f7f\">[DEBUG] Determined ground truth for </span>\n",
       "<span style=\"color: #7f7f7f; text-decoration-color: #7f7f7f\">../log/contracts_analysis_both_20250225_104133/safe/0x0a3f6648fdf7df0f542c7ef3df86406cec5bfade: safe</span>\n",
       "</pre>\n"
      ]
     },
     "metadata": {},
     "output_type": "display_data"
    },
    {
     "data": {
      "text/plain": [
       "\u001B[2m[DEBUG] Processing classification file: \u001B[0m\n",
       "\u001B[2m../log/contracts_analysis_both_20250225_104133/safe/0x0a3f6648fdf7df0f542c7ef3df86406cec5bfade/classification.json\u001B[0m\n"
      ],
      "text/html": [
       "<pre style=\"white-space:pre;overflow-x:auto;line-height:normal;font-family:Menlo,'DejaVu Sans Mono',consolas,'Courier New',monospace\"><span style=\"color: #7f7f7f; text-decoration-color: #7f7f7f\">[DEBUG] Processing classification file: </span>\n",
       "<span style=\"color: #7f7f7f; text-decoration-color: #7f7f7f\">../log/contracts_analysis_both_20250225_104133/safe/0x0a3f6648fdf7df0f542c7ef3df86406cec5bfade/classification.json</span>\n",
       "</pre>\n"
      ]
     },
     "metadata": {},
     "output_type": "display_data"
    },
    {
     "data": {
      "text/plain": [
       "\u001B[2m[DEBUG] Loading JSON file: \u001B[0m\n",
       "\u001B[2m../log/contracts_analysis_both_20250225_104133/safe/0x0a3f6648fdf7df0f542c7ef3df86406cec5bfade/classification.json\u001B[0m\n"
      ],
      "text/html": [
       "<pre style=\"white-space:pre;overflow-x:auto;line-height:normal;font-family:Menlo,'DejaVu Sans Mono',consolas,'Courier New',monospace\"><span style=\"color: #7f7f7f; text-decoration-color: #7f7f7f\">[DEBUG] Loading JSON file: </span>\n",
       "<span style=\"color: #7f7f7f; text-decoration-color: #7f7f7f\">../log/contracts_analysis_both_20250225_104133/safe/0x0a3f6648fdf7df0f542c7ef3df86406cec5bfade/classification.json</span>\n",
       "</pre>\n"
      ]
     },
     "metadata": {},
     "output_type": "display_data"
    },
    {
     "data": {
      "text/plain": [
       "\u001B[2m[DEBUG] Classification result: safe, Ground truth: safe\u001B[0m\n"
      ],
      "text/html": [
       "<pre style=\"white-space:pre;overflow-x:auto;line-height:normal;font-family:Menlo,'DejaVu Sans Mono',consolas,'Courier New',monospace\"><span style=\"color: #7f7f7f; text-decoration-color: #7f7f7f\">[DEBUG] Classification result: safe, Ground truth: safe</span>\n",
       "</pre>\n"
      ]
     },
     "metadata": {},
     "output_type": "display_data"
    },
    {
     "data": {
      "text/plain": [
       "\u001B[2m[DEBUG] Collecting predictions from directory: \u001B[0m\n",
       "\u001B[2m../log/contracts_analysis_both_20250225_104133/safe/0x0a3f6648fdf7df0f542c7ef3df86406cec5bfade\u001B[0m\n"
      ],
      "text/html": [
       "<pre style=\"white-space:pre;overflow-x:auto;line-height:normal;font-family:Menlo,'DejaVu Sans Mono',consolas,'Courier New',monospace\"><span style=\"color: #7f7f7f; text-decoration-color: #7f7f7f\">[DEBUG] Collecting predictions from directory: </span>\n",
       "<span style=\"color: #7f7f7f; text-decoration-color: #7f7f7f\">../log/contracts_analysis_both_20250225_104133/safe/0x0a3f6648fdf7df0f542c7ef3df86406cec5bfade</span>\n",
       "</pre>\n"
      ]
     },
     "metadata": {},
     "output_type": "display_data"
    },
    {
     "data": {
      "text/plain": [
       "\u001B[2m[DEBUG] Loading JSON file: \u001B[0m\n",
       "\u001B[2m../log/contracts_analysis_both_20250225_104133/safe/0x0a3f6648fdf7df0f542c7ef3df86406cec5bfade/analysis_0x0aa19b3e5\u001B[0m\n",
       "\u001B[2m1dd77e482690263c8af26bec2c6542e.json\u001B[0m\n"
      ],
      "text/html": [
       "<pre style=\"white-space:pre;overflow-x:auto;line-height:normal;font-family:Menlo,'DejaVu Sans Mono',consolas,'Courier New',monospace\"><span style=\"color: #7f7f7f; text-decoration-color: #7f7f7f\">[DEBUG] Loading JSON file: </span>\n",
       "<span style=\"color: #7f7f7f; text-decoration-color: #7f7f7f\">../log/contracts_analysis_both_20250225_104133/safe/0x0a3f6648fdf7df0f542c7ef3df86406cec5bfade/analysis_0x0aa19b3e5</span>\n",
       "<span style=\"color: #7f7f7f; text-decoration-color: #7f7f7f\">1dd77e482690263c8af26bec2c6542e.json</span>\n",
       "</pre>\n"
      ]
     },
     "metadata": {},
     "output_type": "display_data"
    },
    {
     "data": {
      "text/plain": [
       "\u001B[2m[DEBUG] Loading JSON file: \u001B[0m\n",
       "\u001B[2m../log/contracts_analysis_both_20250225_104133/safe/0x0a3f6648fdf7df0f542c7ef3df86406cec5bfade/analysis_0x0aab3ac44\u001B[0m\n",
       "\u001B[2m7ea90739bdbe4e0e00af0a54038904a.json\u001B[0m\n"
      ],
      "text/html": [
       "<pre style=\"white-space:pre;overflow-x:auto;line-height:normal;font-family:Menlo,'DejaVu Sans Mono',consolas,'Courier New',monospace\"><span style=\"color: #7f7f7f; text-decoration-color: #7f7f7f\">[DEBUG] Loading JSON file: </span>\n",
       "<span style=\"color: #7f7f7f; text-decoration-color: #7f7f7f\">../log/contracts_analysis_both_20250225_104133/safe/0x0a3f6648fdf7df0f542c7ef3df86406cec5bfade/analysis_0x0aab3ac44</span>\n",
       "<span style=\"color: #7f7f7f; text-decoration-color: #7f7f7f\">7ea90739bdbe4e0e00af0a54038904a.json</span>\n",
       "</pre>\n"
      ]
     },
     "metadata": {},
     "output_type": "display_data"
    },
    {
     "data": {
      "text/plain": [
       "\u001B[2m[DEBUG] Loading JSON file: \u001B[0m\n",
       "\u001B[2m../log/contracts_analysis_both_20250225_104133/safe/0x0a3f6648fdf7df0f542c7ef3df86406cec5bfade/analysis_0x0a8c3b7e1\u001B[0m\n",
       "\u001B[2m49891ff594e3ad580f8e1769151a07b.json\u001B[0m\n"
      ],
      "text/html": [
       "<pre style=\"white-space:pre;overflow-x:auto;line-height:normal;font-family:Menlo,'DejaVu Sans Mono',consolas,'Courier New',monospace\"><span style=\"color: #7f7f7f; text-decoration-color: #7f7f7f\">[DEBUG] Loading JSON file: </span>\n",
       "<span style=\"color: #7f7f7f; text-decoration-color: #7f7f7f\">../log/contracts_analysis_both_20250225_104133/safe/0x0a3f6648fdf7df0f542c7ef3df86406cec5bfade/analysis_0x0a8c3b7e1</span>\n",
       "<span style=\"color: #7f7f7f; text-decoration-color: #7f7f7f\">49891ff594e3ad580f8e1769151a07b.json</span>\n",
       "</pre>\n"
      ]
     },
     "metadata": {},
     "output_type": "display_data"
    },
    {
     "data": {
      "text/plain": [
       "\u001B[2m[DEBUG] Collected predictions: ['safe', 'safe', 'safe']\u001B[0m\n"
      ],
      "text/html": [
       "<pre style=\"white-space:pre;overflow-x:auto;line-height:normal;font-family:Menlo,'DejaVu Sans Mono',consolas,'Courier New',monospace\"><span style=\"color: #7f7f7f; text-decoration-color: #7f7f7f\">[DEBUG] Collected predictions: ['safe', 'safe', 'safe']</span>\n",
       "</pre>\n"
      ]
     },
     "metadata": {},
     "output_type": "display_data"
    },
    {
     "name": "stderr",
     "output_type": "stream",
     "text": [
      "Processing contracts:   4%|▍         | 4/96 [00:00<00:03, 24.49it/s]"
     ]
    },
    {
     "data": {
      "text/plain": [
       "\u001B[2m[DEBUG] Determined ground truth for \u001B[0m\n",
       "\u001B[2m../log/contracts_analysis_both_20250225_104133/safe/0x0a1bdb38e14e9c4c1eaddce81be08779d5c200d2: safe\u001B[0m\n"
      ],
      "text/html": [
       "<pre style=\"white-space:pre;overflow-x:auto;line-height:normal;font-family:Menlo,'DejaVu Sans Mono',consolas,'Courier New',monospace\"><span style=\"color: #7f7f7f; text-decoration-color: #7f7f7f\">[DEBUG] Determined ground truth for </span>\n",
       "<span style=\"color: #7f7f7f; text-decoration-color: #7f7f7f\">../log/contracts_analysis_both_20250225_104133/safe/0x0a1bdb38e14e9c4c1eaddce81be08779d5c200d2: safe</span>\n",
       "</pre>\n"
      ]
     },
     "metadata": {},
     "output_type": "display_data"
    },
    {
     "data": {
      "text/plain": [
       "\u001B[2m[DEBUG] Processing classification file: \u001B[0m\n",
       "\u001B[2m../log/contracts_analysis_both_20250225_104133/safe/0x0a1bdb38e14e9c4c1eaddce81be08779d5c200d2/classification.json\u001B[0m\n"
      ],
      "text/html": [
       "<pre style=\"white-space:pre;overflow-x:auto;line-height:normal;font-family:Menlo,'DejaVu Sans Mono',consolas,'Courier New',monospace\"><span style=\"color: #7f7f7f; text-decoration-color: #7f7f7f\">[DEBUG] Processing classification file: </span>\n",
       "<span style=\"color: #7f7f7f; text-decoration-color: #7f7f7f\">../log/contracts_analysis_both_20250225_104133/safe/0x0a1bdb38e14e9c4c1eaddce81be08779d5c200d2/classification.json</span>\n",
       "</pre>\n"
      ]
     },
     "metadata": {},
     "output_type": "display_data"
    },
    {
     "data": {
      "text/plain": [
       "\u001B[2m[DEBUG] Loading JSON file: \u001B[0m\n",
       "\u001B[2m../log/contracts_analysis_both_20250225_104133/safe/0x0a1bdb38e14e9c4c1eaddce81be08779d5c200d2/classification.json\u001B[0m\n"
      ],
      "text/html": [
       "<pre style=\"white-space:pre;overflow-x:auto;line-height:normal;font-family:Menlo,'DejaVu Sans Mono',consolas,'Courier New',monospace\"><span style=\"color: #7f7f7f; text-decoration-color: #7f7f7f\">[DEBUG] Loading JSON file: </span>\n",
       "<span style=\"color: #7f7f7f; text-decoration-color: #7f7f7f\">../log/contracts_analysis_both_20250225_104133/safe/0x0a1bdb38e14e9c4c1eaddce81be08779d5c200d2/classification.json</span>\n",
       "</pre>\n"
      ]
     },
     "metadata": {},
     "output_type": "display_data"
    },
    {
     "data": {
      "text/plain": [
       "\u001B[2m[DEBUG] Classification result: safe, Ground truth: safe\u001B[0m\n"
      ],
      "text/html": [
       "<pre style=\"white-space:pre;overflow-x:auto;line-height:normal;font-family:Menlo,'DejaVu Sans Mono',consolas,'Courier New',monospace\"><span style=\"color: #7f7f7f; text-decoration-color: #7f7f7f\">[DEBUG] Classification result: safe, Ground truth: safe</span>\n",
       "</pre>\n"
      ]
     },
     "metadata": {},
     "output_type": "display_data"
    },
    {
     "data": {
      "text/plain": [
       "\u001B[2m[DEBUG] Collecting predictions from directory: \u001B[0m\n",
       "\u001B[2m../log/contracts_analysis_both_20250225_104133/safe/0x0a1bdb38e14e9c4c1eaddce81be08779d5c200d2\u001B[0m\n"
      ],
      "text/html": [
       "<pre style=\"white-space:pre;overflow-x:auto;line-height:normal;font-family:Menlo,'DejaVu Sans Mono',consolas,'Courier New',monospace\"><span style=\"color: #7f7f7f; text-decoration-color: #7f7f7f\">[DEBUG] Collecting predictions from directory: </span>\n",
       "<span style=\"color: #7f7f7f; text-decoration-color: #7f7f7f\">../log/contracts_analysis_both_20250225_104133/safe/0x0a1bdb38e14e9c4c1eaddce81be08779d5c200d2</span>\n",
       "</pre>\n"
      ]
     },
     "metadata": {},
     "output_type": "display_data"
    },
    {
     "data": {
      "text/plain": [
       "\u001B[2m[DEBUG] Loading JSON file: \u001B[0m\n",
       "\u001B[2m../log/contracts_analysis_both_20250225_104133/safe/0x0a1bdb38e14e9c4c1eaddce81be08779d5c200d2/analysis_0x0aa19b3e5\u001B[0m\n",
       "\u001B[2m1dd77e482690263c8af26bec2c6542e.json\u001B[0m\n"
      ],
      "text/html": [
       "<pre style=\"white-space:pre;overflow-x:auto;line-height:normal;font-family:Menlo,'DejaVu Sans Mono',consolas,'Courier New',monospace\"><span style=\"color: #7f7f7f; text-decoration-color: #7f7f7f\">[DEBUG] Loading JSON file: </span>\n",
       "<span style=\"color: #7f7f7f; text-decoration-color: #7f7f7f\">../log/contracts_analysis_both_20250225_104133/safe/0x0a1bdb38e14e9c4c1eaddce81be08779d5c200d2/analysis_0x0aa19b3e5</span>\n",
       "<span style=\"color: #7f7f7f; text-decoration-color: #7f7f7f\">1dd77e482690263c8af26bec2c6542e.json</span>\n",
       "</pre>\n"
      ]
     },
     "metadata": {},
     "output_type": "display_data"
    },
    {
     "data": {
      "text/plain": [
       "\u001B[2m[DEBUG] Loading JSON file: \u001B[0m\n",
       "\u001B[2m../log/contracts_analysis_both_20250225_104133/safe/0x0a1bdb38e14e9c4c1eaddce81be08779d5c200d2/analysis_0x0aab3ac44\u001B[0m\n",
       "\u001B[2m7ea90739bdbe4e0e00af0a54038904a.json\u001B[0m\n"
      ],
      "text/html": [
       "<pre style=\"white-space:pre;overflow-x:auto;line-height:normal;font-family:Menlo,'DejaVu Sans Mono',consolas,'Courier New',monospace\"><span style=\"color: #7f7f7f; text-decoration-color: #7f7f7f\">[DEBUG] Loading JSON file: </span>\n",
       "<span style=\"color: #7f7f7f; text-decoration-color: #7f7f7f\">../log/contracts_analysis_both_20250225_104133/safe/0x0a1bdb38e14e9c4c1eaddce81be08779d5c200d2/analysis_0x0aab3ac44</span>\n",
       "<span style=\"color: #7f7f7f; text-decoration-color: #7f7f7f\">7ea90739bdbe4e0e00af0a54038904a.json</span>\n",
       "</pre>\n"
      ]
     },
     "metadata": {},
     "output_type": "display_data"
    },
    {
     "data": {
      "text/plain": [
       "\u001B[2m[DEBUG] Loading JSON file: \u001B[0m\n",
       "\u001B[2m../log/contracts_analysis_both_20250225_104133/safe/0x0a1bdb38e14e9c4c1eaddce81be08779d5c200d2/analysis_0x0a8c3b7e1\u001B[0m\n",
       "\u001B[2m49891ff594e3ad580f8e1769151a07b.json\u001B[0m\n"
      ],
      "text/html": [
       "<pre style=\"white-space:pre;overflow-x:auto;line-height:normal;font-family:Menlo,'DejaVu Sans Mono',consolas,'Courier New',monospace\"><span style=\"color: #7f7f7f; text-decoration-color: #7f7f7f\">[DEBUG] Loading JSON file: </span>\n",
       "<span style=\"color: #7f7f7f; text-decoration-color: #7f7f7f\">../log/contracts_analysis_both_20250225_104133/safe/0x0a1bdb38e14e9c4c1eaddce81be08779d5c200d2/analysis_0x0a8c3b7e1</span>\n",
       "<span style=\"color: #7f7f7f; text-decoration-color: #7f7f7f\">49891ff594e3ad580f8e1769151a07b.json</span>\n",
       "</pre>\n"
      ]
     },
     "metadata": {},
     "output_type": "display_data"
    },
    {
     "data": {
      "text/plain": [
       "\u001B[2m[DEBUG] Collected predictions: ['safe', 'safe', 'safe']\u001B[0m\n"
      ],
      "text/html": [
       "<pre style=\"white-space:pre;overflow-x:auto;line-height:normal;font-family:Menlo,'DejaVu Sans Mono',consolas,'Courier New',monospace\"><span style=\"color: #7f7f7f; text-decoration-color: #7f7f7f\">[DEBUG] Collected predictions: ['safe', 'safe', 'safe']</span>\n",
       "</pre>\n"
      ]
     },
     "metadata": {},
     "output_type": "display_data"
    },
    {
     "data": {
      "text/plain": [
       "\u001B[2m[DEBUG] Determined ground truth for \u001B[0m\n",
       "\u001B[2m../log/contracts_analysis_both_20250225_104133/safe/0x0a00b643a01488cc24ed92cbff0fc7de15fe7707: safe\u001B[0m\n"
      ],
      "text/html": [
       "<pre style=\"white-space:pre;overflow-x:auto;line-height:normal;font-family:Menlo,'DejaVu Sans Mono',consolas,'Courier New',monospace\"><span style=\"color: #7f7f7f; text-decoration-color: #7f7f7f\">[DEBUG] Determined ground truth for </span>\n",
       "<span style=\"color: #7f7f7f; text-decoration-color: #7f7f7f\">../log/contracts_analysis_both_20250225_104133/safe/0x0a00b643a01488cc24ed92cbff0fc7de15fe7707: safe</span>\n",
       "</pre>\n"
      ]
     },
     "metadata": {},
     "output_type": "display_data"
    },
    {
     "data": {
      "text/plain": [
       "\u001B[2m[DEBUG] Processing classification file: \u001B[0m\n",
       "\u001B[2m../log/contracts_analysis_both_20250225_104133/safe/0x0a00b643a01488cc24ed92cbff0fc7de15fe7707/classification.json\u001B[0m\n"
      ],
      "text/html": [
       "<pre style=\"white-space:pre;overflow-x:auto;line-height:normal;font-family:Menlo,'DejaVu Sans Mono',consolas,'Courier New',monospace\"><span style=\"color: #7f7f7f; text-decoration-color: #7f7f7f\">[DEBUG] Processing classification file: </span>\n",
       "<span style=\"color: #7f7f7f; text-decoration-color: #7f7f7f\">../log/contracts_analysis_both_20250225_104133/safe/0x0a00b643a01488cc24ed92cbff0fc7de15fe7707/classification.json</span>\n",
       "</pre>\n"
      ]
     },
     "metadata": {},
     "output_type": "display_data"
    },
    {
     "data": {
      "text/plain": [
       "\u001B[2m[DEBUG] Loading JSON file: \u001B[0m\n",
       "\u001B[2m../log/contracts_analysis_both_20250225_104133/safe/0x0a00b643a01488cc24ed92cbff0fc7de15fe7707/classification.json\u001B[0m\n"
      ],
      "text/html": [
       "<pre style=\"white-space:pre;overflow-x:auto;line-height:normal;font-family:Menlo,'DejaVu Sans Mono',consolas,'Courier New',monospace\"><span style=\"color: #7f7f7f; text-decoration-color: #7f7f7f\">[DEBUG] Loading JSON file: </span>\n",
       "<span style=\"color: #7f7f7f; text-decoration-color: #7f7f7f\">../log/contracts_analysis_both_20250225_104133/safe/0x0a00b643a01488cc24ed92cbff0fc7de15fe7707/classification.json</span>\n",
       "</pre>\n"
      ]
     },
     "metadata": {},
     "output_type": "display_data"
    },
    {
     "data": {
      "text/plain": [
       "\u001B[2m[DEBUG] Classification result: safe, Ground truth: safe\u001B[0m\n"
      ],
      "text/html": [
       "<pre style=\"white-space:pre;overflow-x:auto;line-height:normal;font-family:Menlo,'DejaVu Sans Mono',consolas,'Courier New',monospace\"><span style=\"color: #7f7f7f; text-decoration-color: #7f7f7f\">[DEBUG] Classification result: safe, Ground truth: safe</span>\n",
       "</pre>\n"
      ]
     },
     "metadata": {},
     "output_type": "display_data"
    },
    {
     "data": {
      "text/plain": [
       "\u001B[2m[DEBUG] Collecting predictions from directory: \u001B[0m\n",
       "\u001B[2m../log/contracts_analysis_both_20250225_104133/safe/0x0a00b643a01488cc24ed92cbff0fc7de15fe7707\u001B[0m\n"
      ],
      "text/html": [
       "<pre style=\"white-space:pre;overflow-x:auto;line-height:normal;font-family:Menlo,'DejaVu Sans Mono',consolas,'Courier New',monospace\"><span style=\"color: #7f7f7f; text-decoration-color: #7f7f7f\">[DEBUG] Collecting predictions from directory: </span>\n",
       "<span style=\"color: #7f7f7f; text-decoration-color: #7f7f7f\">../log/contracts_analysis_both_20250225_104133/safe/0x0a00b643a01488cc24ed92cbff0fc7de15fe7707</span>\n",
       "</pre>\n"
      ]
     },
     "metadata": {},
     "output_type": "display_data"
    },
    {
     "data": {
      "text/plain": [
       "\u001B[2m[DEBUG] Loading JSON file: \u001B[0m\n",
       "\u001B[2m../log/contracts_analysis_both_20250225_104133/safe/0x0a00b643a01488cc24ed92cbff0fc7de15fe7707/analysis_0x0aa19b3e5\u001B[0m\n",
       "\u001B[2m1dd77e482690263c8af26bec2c6542e.json\u001B[0m\n"
      ],
      "text/html": [
       "<pre style=\"white-space:pre;overflow-x:auto;line-height:normal;font-family:Menlo,'DejaVu Sans Mono',consolas,'Courier New',monospace\"><span style=\"color: #7f7f7f; text-decoration-color: #7f7f7f\">[DEBUG] Loading JSON file: </span>\n",
       "<span style=\"color: #7f7f7f; text-decoration-color: #7f7f7f\">../log/contracts_analysis_both_20250225_104133/safe/0x0a00b643a01488cc24ed92cbff0fc7de15fe7707/analysis_0x0aa19b3e5</span>\n",
       "<span style=\"color: #7f7f7f; text-decoration-color: #7f7f7f\">1dd77e482690263c8af26bec2c6542e.json</span>\n",
       "</pre>\n"
      ]
     },
     "metadata": {},
     "output_type": "display_data"
    },
    {
     "data": {
      "text/plain": [
       "\u001B[2m[DEBUG] Loading JSON file: \u001B[0m\n",
       "\u001B[2m../log/contracts_analysis_both_20250225_104133/safe/0x0a00b643a01488cc24ed92cbff0fc7de15fe7707/analysis_0x0aab3ac44\u001B[0m\n",
       "\u001B[2m7ea90739bdbe4e0e00af0a54038904a.json\u001B[0m\n"
      ],
      "text/html": [
       "<pre style=\"white-space:pre;overflow-x:auto;line-height:normal;font-family:Menlo,'DejaVu Sans Mono',consolas,'Courier New',monospace\"><span style=\"color: #7f7f7f; text-decoration-color: #7f7f7f\">[DEBUG] Loading JSON file: </span>\n",
       "<span style=\"color: #7f7f7f; text-decoration-color: #7f7f7f\">../log/contracts_analysis_both_20250225_104133/safe/0x0a00b643a01488cc24ed92cbff0fc7de15fe7707/analysis_0x0aab3ac44</span>\n",
       "<span style=\"color: #7f7f7f; text-decoration-color: #7f7f7f\">7ea90739bdbe4e0e00af0a54038904a.json</span>\n",
       "</pre>\n"
      ]
     },
     "metadata": {},
     "output_type": "display_data"
    },
    {
     "data": {
      "text/plain": [
       "\u001B[2m[DEBUG] Loading JSON file: \u001B[0m\n",
       "\u001B[2m../log/contracts_analysis_both_20250225_104133/safe/0x0a00b643a01488cc24ed92cbff0fc7de15fe7707/analysis_0x0a8c3b7e1\u001B[0m\n",
       "\u001B[2m49891ff594e3ad580f8e1769151a07b.json\u001B[0m\n"
      ],
      "text/html": [
       "<pre style=\"white-space:pre;overflow-x:auto;line-height:normal;font-family:Menlo,'DejaVu Sans Mono',consolas,'Courier New',monospace\"><span style=\"color: #7f7f7f; text-decoration-color: #7f7f7f\">[DEBUG] Loading JSON file: </span>\n",
       "<span style=\"color: #7f7f7f; text-decoration-color: #7f7f7f\">../log/contracts_analysis_both_20250225_104133/safe/0x0a00b643a01488cc24ed92cbff0fc7de15fe7707/analysis_0x0a8c3b7e1</span>\n",
       "<span style=\"color: #7f7f7f; text-decoration-color: #7f7f7f\">49891ff594e3ad580f8e1769151a07b.json</span>\n",
       "</pre>\n"
      ]
     },
     "metadata": {},
     "output_type": "display_data"
    },
    {
     "data": {
      "text/plain": [
       "\u001B[2m[DEBUG] Collected predictions: ['safe', 'safe', 'safe']\u001B[0m\n"
      ],
      "text/html": [
       "<pre style=\"white-space:pre;overflow-x:auto;line-height:normal;font-family:Menlo,'DejaVu Sans Mono',consolas,'Courier New',monospace\"><span style=\"color: #7f7f7f; text-decoration-color: #7f7f7f\">[DEBUG] Collected predictions: ['safe', 'safe', 'safe']</span>\n",
       "</pre>\n"
      ]
     },
     "metadata": {},
     "output_type": "display_data"
    },
    {
     "data": {
      "text/plain": [
       "\u001B[2m[DEBUG] Determined ground truth for \u001B[0m\n",
       "\u001B[2m../log/contracts_analysis_both_20250225_104133/safe/0x0a3fb06b7524910e38d76c16b2d68e97503b0c06: safe\u001B[0m\n"
      ],
      "text/html": [
       "<pre style=\"white-space:pre;overflow-x:auto;line-height:normal;font-family:Menlo,'DejaVu Sans Mono',consolas,'Courier New',monospace\"><span style=\"color: #7f7f7f; text-decoration-color: #7f7f7f\">[DEBUG] Determined ground truth for </span>\n",
       "<span style=\"color: #7f7f7f; text-decoration-color: #7f7f7f\">../log/contracts_analysis_both_20250225_104133/safe/0x0a3fb06b7524910e38d76c16b2d68e97503b0c06: safe</span>\n",
       "</pre>\n"
      ]
     },
     "metadata": {},
     "output_type": "display_data"
    },
    {
     "data": {
      "text/plain": [
       "\u001B[2m[DEBUG] Processing classification file: \u001B[0m\n",
       "\u001B[2m../log/contracts_analysis_both_20250225_104133/safe/0x0a3fb06b7524910e38d76c16b2d68e97503b0c06/classification.json\u001B[0m\n"
      ],
      "text/html": [
       "<pre style=\"white-space:pre;overflow-x:auto;line-height:normal;font-family:Menlo,'DejaVu Sans Mono',consolas,'Courier New',monospace\"><span style=\"color: #7f7f7f; text-decoration-color: #7f7f7f\">[DEBUG] Processing classification file: </span>\n",
       "<span style=\"color: #7f7f7f; text-decoration-color: #7f7f7f\">../log/contracts_analysis_both_20250225_104133/safe/0x0a3fb06b7524910e38d76c16b2d68e97503b0c06/classification.json</span>\n",
       "</pre>\n"
      ]
     },
     "metadata": {},
     "output_type": "display_data"
    },
    {
     "data": {
      "text/plain": [
       "\u001B[2m[DEBUG] Loading JSON file: \u001B[0m\n",
       "\u001B[2m../log/contracts_analysis_both_20250225_104133/safe/0x0a3fb06b7524910e38d76c16b2d68e97503b0c06/classification.json\u001B[0m\n"
      ],
      "text/html": [
       "<pre style=\"white-space:pre;overflow-x:auto;line-height:normal;font-family:Menlo,'DejaVu Sans Mono',consolas,'Courier New',monospace\"><span style=\"color: #7f7f7f; text-decoration-color: #7f7f7f\">[DEBUG] Loading JSON file: </span>\n",
       "<span style=\"color: #7f7f7f; text-decoration-color: #7f7f7f\">../log/contracts_analysis_both_20250225_104133/safe/0x0a3fb06b7524910e38d76c16b2d68e97503b0c06/classification.json</span>\n",
       "</pre>\n"
      ]
     },
     "metadata": {},
     "output_type": "display_data"
    },
    {
     "data": {
      "text/plain": [
       "\u001B[2m[DEBUG] Classification result: reentrant, Ground truth: safe\u001B[0m\n"
      ],
      "text/html": [
       "<pre style=\"white-space:pre;overflow-x:auto;line-height:normal;font-family:Menlo,'DejaVu Sans Mono',consolas,'Courier New',monospace\"><span style=\"color: #7f7f7f; text-decoration-color: #7f7f7f\">[DEBUG] Classification result: reentrant, Ground truth: safe</span>\n",
       "</pre>\n"
      ]
     },
     "metadata": {},
     "output_type": "display_data"
    },
    {
     "data": {
      "text/plain": [
       "\u001B[2m[DEBUG] Collecting predictions from directory: \u001B[0m\n",
       "\u001B[2m../log/contracts_analysis_both_20250225_104133/safe/0x0a3fb06b7524910e38d76c16b2d68e97503b0c06\u001B[0m\n"
      ],
      "text/html": [
       "<pre style=\"white-space:pre;overflow-x:auto;line-height:normal;font-family:Menlo,'DejaVu Sans Mono',consolas,'Courier New',monospace\"><span style=\"color: #7f7f7f; text-decoration-color: #7f7f7f\">[DEBUG] Collecting predictions from directory: </span>\n",
       "<span style=\"color: #7f7f7f; text-decoration-color: #7f7f7f\">../log/contracts_analysis_both_20250225_104133/safe/0x0a3fb06b7524910e38d76c16b2d68e97503b0c06</span>\n",
       "</pre>\n"
      ]
     },
     "metadata": {},
     "output_type": "display_data"
    },
    {
     "data": {
      "text/plain": [
       "\u001B[2m[DEBUG] Loading JSON file: \u001B[0m\n",
       "\u001B[2m../log/contracts_analysis_both_20250225_104133/safe/0x0a3fb06b7524910e38d76c16b2d68e97503b0c06/analysis_0x0aa19b3e5\u001B[0m\n",
       "\u001B[2m1dd77e482690263c8af26bec2c6542e.json\u001B[0m\n"
      ],
      "text/html": [
       "<pre style=\"white-space:pre;overflow-x:auto;line-height:normal;font-family:Menlo,'DejaVu Sans Mono',consolas,'Courier New',monospace\"><span style=\"color: #7f7f7f; text-decoration-color: #7f7f7f\">[DEBUG] Loading JSON file: </span>\n",
       "<span style=\"color: #7f7f7f; text-decoration-color: #7f7f7f\">../log/contracts_analysis_both_20250225_104133/safe/0x0a3fb06b7524910e38d76c16b2d68e97503b0c06/analysis_0x0aa19b3e5</span>\n",
       "<span style=\"color: #7f7f7f; text-decoration-color: #7f7f7f\">1dd77e482690263c8af26bec2c6542e.json</span>\n",
       "</pre>\n"
      ]
     },
     "metadata": {},
     "output_type": "display_data"
    },
    {
     "data": {
      "text/plain": [
       "\u001B[2m[DEBUG] Loading JSON file: \u001B[0m\n",
       "\u001B[2m../log/contracts_analysis_both_20250225_104133/safe/0x0a3fb06b7524910e38d76c16b2d68e97503b0c06/analysis_0x0aab3ac44\u001B[0m\n",
       "\u001B[2m7ea90739bdbe4e0e00af0a54038904a.json\u001B[0m\n"
      ],
      "text/html": [
       "<pre style=\"white-space:pre;overflow-x:auto;line-height:normal;font-family:Menlo,'DejaVu Sans Mono',consolas,'Courier New',monospace\"><span style=\"color: #7f7f7f; text-decoration-color: #7f7f7f\">[DEBUG] Loading JSON file: </span>\n",
       "<span style=\"color: #7f7f7f; text-decoration-color: #7f7f7f\">../log/contracts_analysis_both_20250225_104133/safe/0x0a3fb06b7524910e38d76c16b2d68e97503b0c06/analysis_0x0aab3ac44</span>\n",
       "<span style=\"color: #7f7f7f; text-decoration-color: #7f7f7f\">7ea90739bdbe4e0e00af0a54038904a.json</span>\n",
       "</pre>\n"
      ]
     },
     "metadata": {},
     "output_type": "display_data"
    },
    {
     "data": {
      "text/plain": [
       "\u001B[2m[DEBUG] Loading JSON file: \u001B[0m\n",
       "\u001B[2m../log/contracts_analysis_both_20250225_104133/safe/0x0a3fb06b7524910e38d76c16b2d68e97503b0c06/analysis_0x0a8c3b7e1\u001B[0m\n",
       "\u001B[2m49891ff594e3ad580f8e1769151a07b.json\u001B[0m\n"
      ],
      "text/html": [
       "<pre style=\"white-space:pre;overflow-x:auto;line-height:normal;font-family:Menlo,'DejaVu Sans Mono',consolas,'Courier New',monospace\"><span style=\"color: #7f7f7f; text-decoration-color: #7f7f7f\">[DEBUG] Loading JSON file: </span>\n",
       "<span style=\"color: #7f7f7f; text-decoration-color: #7f7f7f\">../log/contracts_analysis_both_20250225_104133/safe/0x0a3fb06b7524910e38d76c16b2d68e97503b0c06/analysis_0x0a8c3b7e1</span>\n",
       "<span style=\"color: #7f7f7f; text-decoration-color: #7f7f7f\">49891ff594e3ad580f8e1769151a07b.json</span>\n",
       "</pre>\n"
      ]
     },
     "metadata": {},
     "output_type": "display_data"
    },
    {
     "data": {
      "text/plain": [
       "\u001B[2m[DEBUG] Collected predictions: ['safe', 'safe', 'safe']\u001B[0m\n"
      ],
      "text/html": [
       "<pre style=\"white-space:pre;overflow-x:auto;line-height:normal;font-family:Menlo,'DejaVu Sans Mono',consolas,'Courier New',monospace\"><span style=\"color: #7f7f7f; text-decoration-color: #7f7f7f\">[DEBUG] Collected predictions: ['safe', 'safe', 'safe']</span>\n",
       "</pre>\n"
      ]
     },
     "metadata": {},
     "output_type": "display_data"
    },
    {
     "name": "stderr",
     "output_type": "stream",
     "text": [
      "Processing contracts:   7%|▋         | 7/96 [00:00<00:03, 24.50it/s]"
     ]
    },
    {
     "data": {
      "text/plain": [
       "\u001B[2m[DEBUG] Determined ground truth for \u001B[0m\n",
       "\u001B[2m../log/contracts_analysis_both_20250225_104133/safe/0x0a1aa8fde57c0680efc7d2491cfb77ec53d8a192: safe\u001B[0m\n"
      ],
      "text/html": [
       "<pre style=\"white-space:pre;overflow-x:auto;line-height:normal;font-family:Menlo,'DejaVu Sans Mono',consolas,'Courier New',monospace\"><span style=\"color: #7f7f7f; text-decoration-color: #7f7f7f\">[DEBUG] Determined ground truth for </span>\n",
       "<span style=\"color: #7f7f7f; text-decoration-color: #7f7f7f\">../log/contracts_analysis_both_20250225_104133/safe/0x0a1aa8fde57c0680efc7d2491cfb77ec53d8a192: safe</span>\n",
       "</pre>\n"
      ]
     },
     "metadata": {},
     "output_type": "display_data"
    },
    {
     "data": {
      "text/plain": [
       "\u001B[2m[DEBUG] Processing classification file: \u001B[0m\n",
       "\u001B[2m../log/contracts_analysis_both_20250225_104133/safe/0x0a1aa8fde57c0680efc7d2491cfb77ec53d8a192/classification.json\u001B[0m\n"
      ],
      "text/html": [
       "<pre style=\"white-space:pre;overflow-x:auto;line-height:normal;font-family:Menlo,'DejaVu Sans Mono',consolas,'Courier New',monospace\"><span style=\"color: #7f7f7f; text-decoration-color: #7f7f7f\">[DEBUG] Processing classification file: </span>\n",
       "<span style=\"color: #7f7f7f; text-decoration-color: #7f7f7f\">../log/contracts_analysis_both_20250225_104133/safe/0x0a1aa8fde57c0680efc7d2491cfb77ec53d8a192/classification.json</span>\n",
       "</pre>\n"
      ]
     },
     "metadata": {},
     "output_type": "display_data"
    },
    {
     "data": {
      "text/plain": [
       "\u001B[2m[DEBUG] Loading JSON file: \u001B[0m\n",
       "\u001B[2m../log/contracts_analysis_both_20250225_104133/safe/0x0a1aa8fde57c0680efc7d2491cfb77ec53d8a192/classification.json\u001B[0m\n"
      ],
      "text/html": [
       "<pre style=\"white-space:pre;overflow-x:auto;line-height:normal;font-family:Menlo,'DejaVu Sans Mono',consolas,'Courier New',monospace\"><span style=\"color: #7f7f7f; text-decoration-color: #7f7f7f\">[DEBUG] Loading JSON file: </span>\n",
       "<span style=\"color: #7f7f7f; text-decoration-color: #7f7f7f\">../log/contracts_analysis_both_20250225_104133/safe/0x0a1aa8fde57c0680efc7d2491cfb77ec53d8a192/classification.json</span>\n",
       "</pre>\n"
      ]
     },
     "metadata": {},
     "output_type": "display_data"
    },
    {
     "data": {
      "text/plain": [
       "\u001B[2m[DEBUG] Classification result: safe, Ground truth: safe\u001B[0m\n"
      ],
      "text/html": [
       "<pre style=\"white-space:pre;overflow-x:auto;line-height:normal;font-family:Menlo,'DejaVu Sans Mono',consolas,'Courier New',monospace\"><span style=\"color: #7f7f7f; text-decoration-color: #7f7f7f\">[DEBUG] Classification result: safe, Ground truth: safe</span>\n",
       "</pre>\n"
      ]
     },
     "metadata": {},
     "output_type": "display_data"
    },
    {
     "data": {
      "text/plain": [
       "\u001B[2m[DEBUG] Collecting predictions from directory: \u001B[0m\n",
       "\u001B[2m../log/contracts_analysis_both_20250225_104133/safe/0x0a1aa8fde57c0680efc7d2491cfb77ec53d8a192\u001B[0m\n"
      ],
      "text/html": [
       "<pre style=\"white-space:pre;overflow-x:auto;line-height:normal;font-family:Menlo,'DejaVu Sans Mono',consolas,'Courier New',monospace\"><span style=\"color: #7f7f7f; text-decoration-color: #7f7f7f\">[DEBUG] Collecting predictions from directory: </span>\n",
       "<span style=\"color: #7f7f7f; text-decoration-color: #7f7f7f\">../log/contracts_analysis_both_20250225_104133/safe/0x0a1aa8fde57c0680efc7d2491cfb77ec53d8a192</span>\n",
       "</pre>\n"
      ]
     },
     "metadata": {},
     "output_type": "display_data"
    },
    {
     "data": {
      "text/plain": [
       "\u001B[2m[DEBUG] Loading JSON file: \u001B[0m\n",
       "\u001B[2m../log/contracts_analysis_both_20250225_104133/safe/0x0a1aa8fde57c0680efc7d2491cfb77ec53d8a192/analysis_0x0aa19b3e5\u001B[0m\n",
       "\u001B[2m1dd77e482690263c8af26bec2c6542e.json\u001B[0m\n"
      ],
      "text/html": [
       "<pre style=\"white-space:pre;overflow-x:auto;line-height:normal;font-family:Menlo,'DejaVu Sans Mono',consolas,'Courier New',monospace\"><span style=\"color: #7f7f7f; text-decoration-color: #7f7f7f\">[DEBUG] Loading JSON file: </span>\n",
       "<span style=\"color: #7f7f7f; text-decoration-color: #7f7f7f\">../log/contracts_analysis_both_20250225_104133/safe/0x0a1aa8fde57c0680efc7d2491cfb77ec53d8a192/analysis_0x0aa19b3e5</span>\n",
       "<span style=\"color: #7f7f7f; text-decoration-color: #7f7f7f\">1dd77e482690263c8af26bec2c6542e.json</span>\n",
       "</pre>\n"
      ]
     },
     "metadata": {},
     "output_type": "display_data"
    },
    {
     "data": {
      "text/plain": [
       "\u001B[2m[DEBUG] Loading JSON file: \u001B[0m\n",
       "\u001B[2m../log/contracts_analysis_both_20250225_104133/safe/0x0a1aa8fde57c0680efc7d2491cfb77ec53d8a192/analysis_0x0aab3ac44\u001B[0m\n",
       "\u001B[2m7ea90739bdbe4e0e00af0a54038904a.json\u001B[0m\n"
      ],
      "text/html": [
       "<pre style=\"white-space:pre;overflow-x:auto;line-height:normal;font-family:Menlo,'DejaVu Sans Mono',consolas,'Courier New',monospace\"><span style=\"color: #7f7f7f; text-decoration-color: #7f7f7f\">[DEBUG] Loading JSON file: </span>\n",
       "<span style=\"color: #7f7f7f; text-decoration-color: #7f7f7f\">../log/contracts_analysis_both_20250225_104133/safe/0x0a1aa8fde57c0680efc7d2491cfb77ec53d8a192/analysis_0x0aab3ac44</span>\n",
       "<span style=\"color: #7f7f7f; text-decoration-color: #7f7f7f\">7ea90739bdbe4e0e00af0a54038904a.json</span>\n",
       "</pre>\n"
      ]
     },
     "metadata": {},
     "output_type": "display_data"
    },
    {
     "data": {
      "text/plain": [
       "\u001B[2m[DEBUG] Loading JSON file: \u001B[0m\n",
       "\u001B[2m../log/contracts_analysis_both_20250225_104133/safe/0x0a1aa8fde57c0680efc7d2491cfb77ec53d8a192/analysis_0x0a8c3b7e1\u001B[0m\n",
       "\u001B[2m49891ff594e3ad580f8e1769151a07b.json\u001B[0m\n"
      ],
      "text/html": [
       "<pre style=\"white-space:pre;overflow-x:auto;line-height:normal;font-family:Menlo,'DejaVu Sans Mono',consolas,'Courier New',monospace\"><span style=\"color: #7f7f7f; text-decoration-color: #7f7f7f\">[DEBUG] Loading JSON file: </span>\n",
       "<span style=\"color: #7f7f7f; text-decoration-color: #7f7f7f\">../log/contracts_analysis_both_20250225_104133/safe/0x0a1aa8fde57c0680efc7d2491cfb77ec53d8a192/analysis_0x0a8c3b7e1</span>\n",
       "<span style=\"color: #7f7f7f; text-decoration-color: #7f7f7f\">49891ff594e3ad580f8e1769151a07b.json</span>\n",
       "</pre>\n"
      ]
     },
     "metadata": {},
     "output_type": "display_data"
    },
    {
     "data": {
      "text/plain": [
       "\u001B[2m[DEBUG] Collected predictions: ['safe', 'safe', 'safe']\u001B[0m\n"
      ],
      "text/html": [
       "<pre style=\"white-space:pre;overflow-x:auto;line-height:normal;font-family:Menlo,'DejaVu Sans Mono',consolas,'Courier New',monospace\"><span style=\"color: #7f7f7f; text-decoration-color: #7f7f7f\">[DEBUG] Collected predictions: ['safe', 'safe', 'safe']</span>\n",
       "</pre>\n"
      ]
     },
     "metadata": {},
     "output_type": "display_data"
    },
    {
     "data": {
      "text/plain": [
       "\u001B[2m[DEBUG] Determined ground truth for \u001B[0m\n",
       "\u001B[2m../log/contracts_analysis_both_20250225_104133/safe/0x0a3dd621397ae9dacd0e8431186e04e2eb536dde: safe\u001B[0m\n"
      ],
      "text/html": [
       "<pre style=\"white-space:pre;overflow-x:auto;line-height:normal;font-family:Menlo,'DejaVu Sans Mono',consolas,'Courier New',monospace\"><span style=\"color: #7f7f7f; text-decoration-color: #7f7f7f\">[DEBUG] Determined ground truth for </span>\n",
       "<span style=\"color: #7f7f7f; text-decoration-color: #7f7f7f\">../log/contracts_analysis_both_20250225_104133/safe/0x0a3dd621397ae9dacd0e8431186e04e2eb536dde: safe</span>\n",
       "</pre>\n"
      ]
     },
     "metadata": {},
     "output_type": "display_data"
    },
    {
     "data": {
      "text/plain": [
       "\u001B[2m[DEBUG] Processing classification file: \u001B[0m\n",
       "\u001B[2m../log/contracts_analysis_both_20250225_104133/safe/0x0a3dd621397ae9dacd0e8431186e04e2eb536dde/classification.json\u001B[0m\n"
      ],
      "text/html": [
       "<pre style=\"white-space:pre;overflow-x:auto;line-height:normal;font-family:Menlo,'DejaVu Sans Mono',consolas,'Courier New',monospace\"><span style=\"color: #7f7f7f; text-decoration-color: #7f7f7f\">[DEBUG] Processing classification file: </span>\n",
       "<span style=\"color: #7f7f7f; text-decoration-color: #7f7f7f\">../log/contracts_analysis_both_20250225_104133/safe/0x0a3dd621397ae9dacd0e8431186e04e2eb536dde/classification.json</span>\n",
       "</pre>\n"
      ]
     },
     "metadata": {},
     "output_type": "display_data"
    },
    {
     "data": {
      "text/plain": [
       "\u001B[2m[DEBUG] Loading JSON file: \u001B[0m\n",
       "\u001B[2m../log/contracts_analysis_both_20250225_104133/safe/0x0a3dd621397ae9dacd0e8431186e04e2eb536dde/classification.json\u001B[0m\n"
      ],
      "text/html": [
       "<pre style=\"white-space:pre;overflow-x:auto;line-height:normal;font-family:Menlo,'DejaVu Sans Mono',consolas,'Courier New',monospace\"><span style=\"color: #7f7f7f; text-decoration-color: #7f7f7f\">[DEBUG] Loading JSON file: </span>\n",
       "<span style=\"color: #7f7f7f; text-decoration-color: #7f7f7f\">../log/contracts_analysis_both_20250225_104133/safe/0x0a3dd621397ae9dacd0e8431186e04e2eb536dde/classification.json</span>\n",
       "</pre>\n"
      ]
     },
     "metadata": {},
     "output_type": "display_data"
    },
    {
     "data": {
      "text/plain": [
       "\u001B[2m[DEBUG] Classification result: safe, Ground truth: safe\u001B[0m\n"
      ],
      "text/html": [
       "<pre style=\"white-space:pre;overflow-x:auto;line-height:normal;font-family:Menlo,'DejaVu Sans Mono',consolas,'Courier New',monospace\"><span style=\"color: #7f7f7f; text-decoration-color: #7f7f7f\">[DEBUG] Classification result: safe, Ground truth: safe</span>\n",
       "</pre>\n"
      ]
     },
     "metadata": {},
     "output_type": "display_data"
    },
    {
     "data": {
      "text/plain": [
       "\u001B[2m[DEBUG] Collecting predictions from directory: \u001B[0m\n",
       "\u001B[2m../log/contracts_analysis_both_20250225_104133/safe/0x0a3dd621397ae9dacd0e8431186e04e2eb536dde\u001B[0m\n"
      ],
      "text/html": [
       "<pre style=\"white-space:pre;overflow-x:auto;line-height:normal;font-family:Menlo,'DejaVu Sans Mono',consolas,'Courier New',monospace\"><span style=\"color: #7f7f7f; text-decoration-color: #7f7f7f\">[DEBUG] Collecting predictions from directory: </span>\n",
       "<span style=\"color: #7f7f7f; text-decoration-color: #7f7f7f\">../log/contracts_analysis_both_20250225_104133/safe/0x0a3dd621397ae9dacd0e8431186e04e2eb536dde</span>\n",
       "</pre>\n"
      ]
     },
     "metadata": {},
     "output_type": "display_data"
    },
    {
     "data": {
      "text/plain": [
       "\u001B[2m[DEBUG] Loading JSON file: \u001B[0m\n",
       "\u001B[2m../log/contracts_analysis_both_20250225_104133/safe/0x0a3dd621397ae9dacd0e8431186e04e2eb536dde/analysis_0x0aa19b3e5\u001B[0m\n",
       "\u001B[2m1dd77e482690263c8af26bec2c6542e.json\u001B[0m\n"
      ],
      "text/html": [
       "<pre style=\"white-space:pre;overflow-x:auto;line-height:normal;font-family:Menlo,'DejaVu Sans Mono',consolas,'Courier New',monospace\"><span style=\"color: #7f7f7f; text-decoration-color: #7f7f7f\">[DEBUG] Loading JSON file: </span>\n",
       "<span style=\"color: #7f7f7f; text-decoration-color: #7f7f7f\">../log/contracts_analysis_both_20250225_104133/safe/0x0a3dd621397ae9dacd0e8431186e04e2eb536dde/analysis_0x0aa19b3e5</span>\n",
       "<span style=\"color: #7f7f7f; text-decoration-color: #7f7f7f\">1dd77e482690263c8af26bec2c6542e.json</span>\n",
       "</pre>\n"
      ]
     },
     "metadata": {},
     "output_type": "display_data"
    },
    {
     "data": {
      "text/plain": [
       "\u001B[2m[DEBUG] Loading JSON file: \u001B[0m\n",
       "\u001B[2m../log/contracts_analysis_both_20250225_104133/safe/0x0a3dd621397ae9dacd0e8431186e04e2eb536dde/analysis_0x0aab3ac44\u001B[0m\n",
       "\u001B[2m7ea90739bdbe4e0e00af0a54038904a.json\u001B[0m\n"
      ],
      "text/html": [
       "<pre style=\"white-space:pre;overflow-x:auto;line-height:normal;font-family:Menlo,'DejaVu Sans Mono',consolas,'Courier New',monospace\"><span style=\"color: #7f7f7f; text-decoration-color: #7f7f7f\">[DEBUG] Loading JSON file: </span>\n",
       "<span style=\"color: #7f7f7f; text-decoration-color: #7f7f7f\">../log/contracts_analysis_both_20250225_104133/safe/0x0a3dd621397ae9dacd0e8431186e04e2eb536dde/analysis_0x0aab3ac44</span>\n",
       "<span style=\"color: #7f7f7f; text-decoration-color: #7f7f7f\">7ea90739bdbe4e0e00af0a54038904a.json</span>\n",
       "</pre>\n"
      ]
     },
     "metadata": {},
     "output_type": "display_data"
    },
    {
     "data": {
      "text/plain": [
       "\u001B[2m[DEBUG] Loading JSON file: \u001B[0m\n",
       "\u001B[2m../log/contracts_analysis_both_20250225_104133/safe/0x0a3dd621397ae9dacd0e8431186e04e2eb536dde/analysis_0x0a8c3b7e1\u001B[0m\n",
       "\u001B[2m49891ff594e3ad580f8e1769151a07b.json\u001B[0m\n"
      ],
      "text/html": [
       "<pre style=\"white-space:pre;overflow-x:auto;line-height:normal;font-family:Menlo,'DejaVu Sans Mono',consolas,'Courier New',monospace\"><span style=\"color: #7f7f7f; text-decoration-color: #7f7f7f\">[DEBUG] Loading JSON file: </span>\n",
       "<span style=\"color: #7f7f7f; text-decoration-color: #7f7f7f\">../log/contracts_analysis_both_20250225_104133/safe/0x0a3dd621397ae9dacd0e8431186e04e2eb536dde/analysis_0x0a8c3b7e1</span>\n",
       "<span style=\"color: #7f7f7f; text-decoration-color: #7f7f7f\">49891ff594e3ad580f8e1769151a07b.json</span>\n",
       "</pre>\n"
      ]
     },
     "metadata": {},
     "output_type": "display_data"
    },
    {
     "data": {
      "text/plain": [
       "\u001B[2m[DEBUG] Collected predictions: ['safe', 'safe', 'safe']\u001B[0m\n"
      ],
      "text/html": [
       "<pre style=\"white-space:pre;overflow-x:auto;line-height:normal;font-family:Menlo,'DejaVu Sans Mono',consolas,'Courier New',monospace\"><span style=\"color: #7f7f7f; text-decoration-color: #7f7f7f\">[DEBUG] Collected predictions: ['safe', 'safe', 'safe']</span>\n",
       "</pre>\n"
      ]
     },
     "metadata": {},
     "output_type": "display_data"
    },
    {
     "data": {
      "text/plain": [
       "\u001B[2m[DEBUG] Determined ground truth for \u001B[0m\n",
       "\u001B[2m../log/contracts_analysis_both_20250225_104133/safe/0x0a5a7ac1d0286812a697b12bcfd8927308cf1b73: safe\u001B[0m\n"
      ],
      "text/html": [
       "<pre style=\"white-space:pre;overflow-x:auto;line-height:normal;font-family:Menlo,'DejaVu Sans Mono',consolas,'Courier New',monospace\"><span style=\"color: #7f7f7f; text-decoration-color: #7f7f7f\">[DEBUG] Determined ground truth for </span>\n",
       "<span style=\"color: #7f7f7f; text-decoration-color: #7f7f7f\">../log/contracts_analysis_both_20250225_104133/safe/0x0a5a7ac1d0286812a697b12bcfd8927308cf1b73: safe</span>\n",
       "</pre>\n"
      ]
     },
     "metadata": {},
     "output_type": "display_data"
    },
    {
     "data": {
      "text/plain": [
       "\u001B[2m[DEBUG] Processing classification file: \u001B[0m\n",
       "\u001B[2m../log/contracts_analysis_both_20250225_104133/safe/0x0a5a7ac1d0286812a697b12bcfd8927308cf1b73/classification.json\u001B[0m\n"
      ],
      "text/html": [
       "<pre style=\"white-space:pre;overflow-x:auto;line-height:normal;font-family:Menlo,'DejaVu Sans Mono',consolas,'Courier New',monospace\"><span style=\"color: #7f7f7f; text-decoration-color: #7f7f7f\">[DEBUG] Processing classification file: </span>\n",
       "<span style=\"color: #7f7f7f; text-decoration-color: #7f7f7f\">../log/contracts_analysis_both_20250225_104133/safe/0x0a5a7ac1d0286812a697b12bcfd8927308cf1b73/classification.json</span>\n",
       "</pre>\n"
      ]
     },
     "metadata": {},
     "output_type": "display_data"
    },
    {
     "data": {
      "text/plain": [
       "\u001B[2m[DEBUG] Loading JSON file: \u001B[0m\n",
       "\u001B[2m../log/contracts_analysis_both_20250225_104133/safe/0x0a5a7ac1d0286812a697b12bcfd8927308cf1b73/classification.json\u001B[0m\n"
      ],
      "text/html": [
       "<pre style=\"white-space:pre;overflow-x:auto;line-height:normal;font-family:Menlo,'DejaVu Sans Mono',consolas,'Courier New',monospace\"><span style=\"color: #7f7f7f; text-decoration-color: #7f7f7f\">[DEBUG] Loading JSON file: </span>\n",
       "<span style=\"color: #7f7f7f; text-decoration-color: #7f7f7f\">../log/contracts_analysis_both_20250225_104133/safe/0x0a5a7ac1d0286812a697b12bcfd8927308cf1b73/classification.json</span>\n",
       "</pre>\n"
      ]
     },
     "metadata": {},
     "output_type": "display_data"
    },
    {
     "data": {
      "text/plain": [
       "\u001B[2m[DEBUG] Classification result: safe, Ground truth: safe\u001B[0m\n"
      ],
      "text/html": [
       "<pre style=\"white-space:pre;overflow-x:auto;line-height:normal;font-family:Menlo,'DejaVu Sans Mono',consolas,'Courier New',monospace\"><span style=\"color: #7f7f7f; text-decoration-color: #7f7f7f\">[DEBUG] Classification result: safe, Ground truth: safe</span>\n",
       "</pre>\n"
      ]
     },
     "metadata": {},
     "output_type": "display_data"
    },
    {
     "data": {
      "text/plain": [
       "\u001B[2m[DEBUG] Collecting predictions from directory: \u001B[0m\n",
       "\u001B[2m../log/contracts_analysis_both_20250225_104133/safe/0x0a5a7ac1d0286812a697b12bcfd8927308cf1b73\u001B[0m\n"
      ],
      "text/html": [
       "<pre style=\"white-space:pre;overflow-x:auto;line-height:normal;font-family:Menlo,'DejaVu Sans Mono',consolas,'Courier New',monospace\"><span style=\"color: #7f7f7f; text-decoration-color: #7f7f7f\">[DEBUG] Collecting predictions from directory: </span>\n",
       "<span style=\"color: #7f7f7f; text-decoration-color: #7f7f7f\">../log/contracts_analysis_both_20250225_104133/safe/0x0a5a7ac1d0286812a697b12bcfd8927308cf1b73</span>\n",
       "</pre>\n"
      ]
     },
     "metadata": {},
     "output_type": "display_data"
    },
    {
     "data": {
      "text/plain": [
       "\u001B[2m[DEBUG] Loading JSON file: \u001B[0m\n",
       "\u001B[2m../log/contracts_analysis_both_20250225_104133/safe/0x0a5a7ac1d0286812a697b12bcfd8927308cf1b73/analysis_0x0aa19b3e5\u001B[0m\n",
       "\u001B[2m1dd77e482690263c8af26bec2c6542e.json\u001B[0m\n"
      ],
      "text/html": [
       "<pre style=\"white-space:pre;overflow-x:auto;line-height:normal;font-family:Menlo,'DejaVu Sans Mono',consolas,'Courier New',monospace\"><span style=\"color: #7f7f7f; text-decoration-color: #7f7f7f\">[DEBUG] Loading JSON file: </span>\n",
       "<span style=\"color: #7f7f7f; text-decoration-color: #7f7f7f\">../log/contracts_analysis_both_20250225_104133/safe/0x0a5a7ac1d0286812a697b12bcfd8927308cf1b73/analysis_0x0aa19b3e5</span>\n",
       "<span style=\"color: #7f7f7f; text-decoration-color: #7f7f7f\">1dd77e482690263c8af26bec2c6542e.json</span>\n",
       "</pre>\n"
      ]
     },
     "metadata": {},
     "output_type": "display_data"
    },
    {
     "data": {
      "text/plain": [
       "\u001B[2m[DEBUG] Loading JSON file: \u001B[0m\n",
       "\u001B[2m../log/contracts_analysis_both_20250225_104133/safe/0x0a5a7ac1d0286812a697b12bcfd8927308cf1b73/analysis_0x0aab3ac44\u001B[0m\n",
       "\u001B[2m7ea90739bdbe4e0e00af0a54038904a.json\u001B[0m\n"
      ],
      "text/html": [
       "<pre style=\"white-space:pre;overflow-x:auto;line-height:normal;font-family:Menlo,'DejaVu Sans Mono',consolas,'Courier New',monospace\"><span style=\"color: #7f7f7f; text-decoration-color: #7f7f7f\">[DEBUG] Loading JSON file: </span>\n",
       "<span style=\"color: #7f7f7f; text-decoration-color: #7f7f7f\">../log/contracts_analysis_both_20250225_104133/safe/0x0a5a7ac1d0286812a697b12bcfd8927308cf1b73/analysis_0x0aab3ac44</span>\n",
       "<span style=\"color: #7f7f7f; text-decoration-color: #7f7f7f\">7ea90739bdbe4e0e00af0a54038904a.json</span>\n",
       "</pre>\n"
      ]
     },
     "metadata": {},
     "output_type": "display_data"
    },
    {
     "data": {
      "text/plain": [
       "\u001B[2m[DEBUG] Loading JSON file: \u001B[0m\n",
       "\u001B[2m../log/contracts_analysis_both_20250225_104133/safe/0x0a5a7ac1d0286812a697b12bcfd8927308cf1b73/analysis_0x0a8c3b7e1\u001B[0m\n",
       "\u001B[2m49891ff594e3ad580f8e1769151a07b.json\u001B[0m\n"
      ],
      "text/html": [
       "<pre style=\"white-space:pre;overflow-x:auto;line-height:normal;font-family:Menlo,'DejaVu Sans Mono',consolas,'Courier New',monospace\"><span style=\"color: #7f7f7f; text-decoration-color: #7f7f7f\">[DEBUG] Loading JSON file: </span>\n",
       "<span style=\"color: #7f7f7f; text-decoration-color: #7f7f7f\">../log/contracts_analysis_both_20250225_104133/safe/0x0a5a7ac1d0286812a697b12bcfd8927308cf1b73/analysis_0x0a8c3b7e1</span>\n",
       "<span style=\"color: #7f7f7f; text-decoration-color: #7f7f7f\">49891ff594e3ad580f8e1769151a07b.json</span>\n",
       "</pre>\n"
      ]
     },
     "metadata": {},
     "output_type": "display_data"
    },
    {
     "data": {
      "text/plain": [
       "\u001B[2m[DEBUG] Collected predictions: ['safe', 'safe', 'safe']\u001B[0m\n"
      ],
      "text/html": [
       "<pre style=\"white-space:pre;overflow-x:auto;line-height:normal;font-family:Menlo,'DejaVu Sans Mono',consolas,'Courier New',monospace\"><span style=\"color: #7f7f7f; text-decoration-color: #7f7f7f\">[DEBUG] Collected predictions: ['safe', 'safe', 'safe']</span>\n",
       "</pre>\n"
      ]
     },
     "metadata": {},
     "output_type": "display_data"
    },
    {
     "data": {
      "text/plain": [
       "\u001B[2m[DEBUG] Determined ground truth for \u001B[0m\n",
       "\u001B[2m../log/contracts_analysis_both_20250225_104133/safe/0x0a0e6981e6d704263d2743c398466667bdde1419: safe\u001B[0m\n"
      ],
      "text/html": [
       "<pre style=\"white-space:pre;overflow-x:auto;line-height:normal;font-family:Menlo,'DejaVu Sans Mono',consolas,'Courier New',monospace\"><span style=\"color: #7f7f7f; text-decoration-color: #7f7f7f\">[DEBUG] Determined ground truth for </span>\n",
       "<span style=\"color: #7f7f7f; text-decoration-color: #7f7f7f\">../log/contracts_analysis_both_20250225_104133/safe/0x0a0e6981e6d704263d2743c398466667bdde1419: safe</span>\n",
       "</pre>\n"
      ]
     },
     "metadata": {},
     "output_type": "display_data"
    },
    {
     "data": {
      "text/plain": [
       "\u001B[2m[DEBUG] Processing classification file: \u001B[0m\n",
       "\u001B[2m../log/contracts_analysis_both_20250225_104133/safe/0x0a0e6981e6d704263d2743c398466667bdde1419/classification.json\u001B[0m\n"
      ],
      "text/html": [
       "<pre style=\"white-space:pre;overflow-x:auto;line-height:normal;font-family:Menlo,'DejaVu Sans Mono',consolas,'Courier New',monospace\"><span style=\"color: #7f7f7f; text-decoration-color: #7f7f7f\">[DEBUG] Processing classification file: </span>\n",
       "<span style=\"color: #7f7f7f; text-decoration-color: #7f7f7f\">../log/contracts_analysis_both_20250225_104133/safe/0x0a0e6981e6d704263d2743c398466667bdde1419/classification.json</span>\n",
       "</pre>\n"
      ]
     },
     "metadata": {},
     "output_type": "display_data"
    },
    {
     "data": {
      "text/plain": [
       "\u001B[2m[DEBUG] Loading JSON file: \u001B[0m\n",
       "\u001B[2m../log/contracts_analysis_both_20250225_104133/safe/0x0a0e6981e6d704263d2743c398466667bdde1419/classification.json\u001B[0m\n"
      ],
      "text/html": [
       "<pre style=\"white-space:pre;overflow-x:auto;line-height:normal;font-family:Menlo,'DejaVu Sans Mono',consolas,'Courier New',monospace\"><span style=\"color: #7f7f7f; text-decoration-color: #7f7f7f\">[DEBUG] Loading JSON file: </span>\n",
       "<span style=\"color: #7f7f7f; text-decoration-color: #7f7f7f\">../log/contracts_analysis_both_20250225_104133/safe/0x0a0e6981e6d704263d2743c398466667bdde1419/classification.json</span>\n",
       "</pre>\n"
      ]
     },
     "metadata": {},
     "output_type": "display_data"
    },
    {
     "data": {
      "text/plain": [
       "\u001B[2m[DEBUG] Classification result: safe, Ground truth: safe\u001B[0m\n"
      ],
      "text/html": [
       "<pre style=\"white-space:pre;overflow-x:auto;line-height:normal;font-family:Menlo,'DejaVu Sans Mono',consolas,'Courier New',monospace\"><span style=\"color: #7f7f7f; text-decoration-color: #7f7f7f\">[DEBUG] Classification result: safe, Ground truth: safe</span>\n",
       "</pre>\n"
      ]
     },
     "metadata": {},
     "output_type": "display_data"
    },
    {
     "data": {
      "text/plain": [
       "\u001B[2m[DEBUG] Collecting predictions from directory: \u001B[0m\n",
       "\u001B[2m../log/contracts_analysis_both_20250225_104133/safe/0x0a0e6981e6d704263d2743c398466667bdde1419\u001B[0m\n"
      ],
      "text/html": [
       "<pre style=\"white-space:pre;overflow-x:auto;line-height:normal;font-family:Menlo,'DejaVu Sans Mono',consolas,'Courier New',monospace\"><span style=\"color: #7f7f7f; text-decoration-color: #7f7f7f\">[DEBUG] Collecting predictions from directory: </span>\n",
       "<span style=\"color: #7f7f7f; text-decoration-color: #7f7f7f\">../log/contracts_analysis_both_20250225_104133/safe/0x0a0e6981e6d704263d2743c398466667bdde1419</span>\n",
       "</pre>\n"
      ]
     },
     "metadata": {},
     "output_type": "display_data"
    },
    {
     "data": {
      "text/plain": [
       "\u001B[2m[DEBUG] Loading JSON file: \u001B[0m\n",
       "\u001B[2m../log/contracts_analysis_both_20250225_104133/safe/0x0a0e6981e6d704263d2743c398466667bdde1419/analysis_0x0aa19b3e5\u001B[0m\n",
       "\u001B[2m1dd77e482690263c8af26bec2c6542e.json\u001B[0m\n"
      ],
      "text/html": [
       "<pre style=\"white-space:pre;overflow-x:auto;line-height:normal;font-family:Menlo,'DejaVu Sans Mono',consolas,'Courier New',monospace\"><span style=\"color: #7f7f7f; text-decoration-color: #7f7f7f\">[DEBUG] Loading JSON file: </span>\n",
       "<span style=\"color: #7f7f7f; text-decoration-color: #7f7f7f\">../log/contracts_analysis_both_20250225_104133/safe/0x0a0e6981e6d704263d2743c398466667bdde1419/analysis_0x0aa19b3e5</span>\n",
       "<span style=\"color: #7f7f7f; text-decoration-color: #7f7f7f\">1dd77e482690263c8af26bec2c6542e.json</span>\n",
       "</pre>\n"
      ]
     },
     "metadata": {},
     "output_type": "display_data"
    },
    {
     "data": {
      "text/plain": [
       "\u001B[2m[DEBUG] Loading JSON file: \u001B[0m\n",
       "\u001B[2m../log/contracts_analysis_both_20250225_104133/safe/0x0a0e6981e6d704263d2743c398466667bdde1419/analysis_0x0aab3ac44\u001B[0m\n",
       "\u001B[2m7ea90739bdbe4e0e00af0a54038904a.json\u001B[0m\n"
      ],
      "text/html": [
       "<pre style=\"white-space:pre;overflow-x:auto;line-height:normal;font-family:Menlo,'DejaVu Sans Mono',consolas,'Courier New',monospace\"><span style=\"color: #7f7f7f; text-decoration-color: #7f7f7f\">[DEBUG] Loading JSON file: </span>\n",
       "<span style=\"color: #7f7f7f; text-decoration-color: #7f7f7f\">../log/contracts_analysis_both_20250225_104133/safe/0x0a0e6981e6d704263d2743c398466667bdde1419/analysis_0x0aab3ac44</span>\n",
       "<span style=\"color: #7f7f7f; text-decoration-color: #7f7f7f\">7ea90739bdbe4e0e00af0a54038904a.json</span>\n",
       "</pre>\n"
      ]
     },
     "metadata": {},
     "output_type": "display_data"
    },
    {
     "data": {
      "text/plain": [
       "\u001B[2m[DEBUG] Loading JSON file: \u001B[0m\n",
       "\u001B[2m../log/contracts_analysis_both_20250225_104133/safe/0x0a0e6981e6d704263d2743c398466667bdde1419/analysis_0x0a8c3b7e1\u001B[0m\n",
       "\u001B[2m49891ff594e3ad580f8e1769151a07b.json\u001B[0m\n"
      ],
      "text/html": [
       "<pre style=\"white-space:pre;overflow-x:auto;line-height:normal;font-family:Menlo,'DejaVu Sans Mono',consolas,'Courier New',monospace\"><span style=\"color: #7f7f7f; text-decoration-color: #7f7f7f\">[DEBUG] Loading JSON file: </span>\n",
       "<span style=\"color: #7f7f7f; text-decoration-color: #7f7f7f\">../log/contracts_analysis_both_20250225_104133/safe/0x0a0e6981e6d704263d2743c398466667bdde1419/analysis_0x0a8c3b7e1</span>\n",
       "<span style=\"color: #7f7f7f; text-decoration-color: #7f7f7f\">49891ff594e3ad580f8e1769151a07b.json</span>\n",
       "</pre>\n"
      ]
     },
     "metadata": {},
     "output_type": "display_data"
    },
    {
     "data": {
      "text/plain": [
       "\u001B[2m[DEBUG] Collected predictions: ['safe', 'safe', 'safe']\u001B[0m\n"
      ],
      "text/html": [
       "<pre style=\"white-space:pre;overflow-x:auto;line-height:normal;font-family:Menlo,'DejaVu Sans Mono',consolas,'Courier New',monospace\"><span style=\"color: #7f7f7f; text-decoration-color: #7f7f7f\">[DEBUG] Collected predictions: ['safe', 'safe', 'safe']</span>\n",
       "</pre>\n"
      ]
     },
     "metadata": {},
     "output_type": "display_data"
    },
    {
     "data": {
      "text/plain": [
       "\u001B[2m[DEBUG] Determined ground truth for \u001B[0m\n",
       "\u001B[2m../log/contracts_analysis_both_20250225_104133/safe/0x0a1b50f27c47dd847523012f98e129fb6a3410b0: safe\u001B[0m\n"
      ],
      "text/html": [
       "<pre style=\"white-space:pre;overflow-x:auto;line-height:normal;font-family:Menlo,'DejaVu Sans Mono',consolas,'Courier New',monospace\"><span style=\"color: #7f7f7f; text-decoration-color: #7f7f7f\">[DEBUG] Determined ground truth for </span>\n",
       "<span style=\"color: #7f7f7f; text-decoration-color: #7f7f7f\">../log/contracts_analysis_both_20250225_104133/safe/0x0a1b50f27c47dd847523012f98e129fb6a3410b0: safe</span>\n",
       "</pre>\n"
      ]
     },
     "metadata": {},
     "output_type": "display_data"
    },
    {
     "data": {
      "text/plain": [
       "\u001B[2m[DEBUG] Processing classification file: \u001B[0m\n",
       "\u001B[2m../log/contracts_analysis_both_20250225_104133/safe/0x0a1b50f27c47dd847523012f98e129fb6a3410b0/classification.json\u001B[0m\n"
      ],
      "text/html": [
       "<pre style=\"white-space:pre;overflow-x:auto;line-height:normal;font-family:Menlo,'DejaVu Sans Mono',consolas,'Courier New',monospace\"><span style=\"color: #7f7f7f; text-decoration-color: #7f7f7f\">[DEBUG] Processing classification file: </span>\n",
       "<span style=\"color: #7f7f7f; text-decoration-color: #7f7f7f\">../log/contracts_analysis_both_20250225_104133/safe/0x0a1b50f27c47dd847523012f98e129fb6a3410b0/classification.json</span>\n",
       "</pre>\n"
      ]
     },
     "metadata": {},
     "output_type": "display_data"
    },
    {
     "data": {
      "text/plain": [
       "\u001B[2m[DEBUG] Loading JSON file: \u001B[0m\n",
       "\u001B[2m../log/contracts_analysis_both_20250225_104133/safe/0x0a1b50f27c47dd847523012f98e129fb6a3410b0/classification.json\u001B[0m\n"
      ],
      "text/html": [
       "<pre style=\"white-space:pre;overflow-x:auto;line-height:normal;font-family:Menlo,'DejaVu Sans Mono',consolas,'Courier New',monospace\"><span style=\"color: #7f7f7f; text-decoration-color: #7f7f7f\">[DEBUG] Loading JSON file: </span>\n",
       "<span style=\"color: #7f7f7f; text-decoration-color: #7f7f7f\">../log/contracts_analysis_both_20250225_104133/safe/0x0a1b50f27c47dd847523012f98e129fb6a3410b0/classification.json</span>\n",
       "</pre>\n"
      ]
     },
     "metadata": {},
     "output_type": "display_data"
    },
    {
     "data": {
      "text/plain": [
       "\u001B[2m[DEBUG] Classification result: safe, Ground truth: safe\u001B[0m\n"
      ],
      "text/html": [
       "<pre style=\"white-space:pre;overflow-x:auto;line-height:normal;font-family:Menlo,'DejaVu Sans Mono',consolas,'Courier New',monospace\"><span style=\"color: #7f7f7f; text-decoration-color: #7f7f7f\">[DEBUG] Classification result: safe, Ground truth: safe</span>\n",
       "</pre>\n"
      ]
     },
     "metadata": {},
     "output_type": "display_data"
    },
    {
     "data": {
      "text/plain": [
       "\u001B[2m[DEBUG] Collecting predictions from directory: \u001B[0m\n",
       "\u001B[2m../log/contracts_analysis_both_20250225_104133/safe/0x0a1b50f27c47dd847523012f98e129fb6a3410b0\u001B[0m\n"
      ],
      "text/html": [
       "<pre style=\"white-space:pre;overflow-x:auto;line-height:normal;font-family:Menlo,'DejaVu Sans Mono',consolas,'Courier New',monospace\"><span style=\"color: #7f7f7f; text-decoration-color: #7f7f7f\">[DEBUG] Collecting predictions from directory: </span>\n",
       "<span style=\"color: #7f7f7f; text-decoration-color: #7f7f7f\">../log/contracts_analysis_both_20250225_104133/safe/0x0a1b50f27c47dd847523012f98e129fb6a3410b0</span>\n",
       "</pre>\n"
      ]
     },
     "metadata": {},
     "output_type": "display_data"
    },
    {
     "data": {
      "text/plain": [
       "\u001B[2m[DEBUG] Loading JSON file: \u001B[0m\n",
       "\u001B[2m../log/contracts_analysis_both_20250225_104133/safe/0x0a1b50f27c47dd847523012f98e129fb6a3410b0/analysis_0x0aa19b3e5\u001B[0m\n",
       "\u001B[2m1dd77e482690263c8af26bec2c6542e.json\u001B[0m\n"
      ],
      "text/html": [
       "<pre style=\"white-space:pre;overflow-x:auto;line-height:normal;font-family:Menlo,'DejaVu Sans Mono',consolas,'Courier New',monospace\"><span style=\"color: #7f7f7f; text-decoration-color: #7f7f7f\">[DEBUG] Loading JSON file: </span>\n",
       "<span style=\"color: #7f7f7f; text-decoration-color: #7f7f7f\">../log/contracts_analysis_both_20250225_104133/safe/0x0a1b50f27c47dd847523012f98e129fb6a3410b0/analysis_0x0aa19b3e5</span>\n",
       "<span style=\"color: #7f7f7f; text-decoration-color: #7f7f7f\">1dd77e482690263c8af26bec2c6542e.json</span>\n",
       "</pre>\n"
      ]
     },
     "metadata": {},
     "output_type": "display_data"
    },
    {
     "data": {
      "text/plain": [
       "\u001B[2m[DEBUG] Loading JSON file: \u001B[0m\n",
       "\u001B[2m../log/contracts_analysis_both_20250225_104133/safe/0x0a1b50f27c47dd847523012f98e129fb6a3410b0/analysis_0x0aab3ac44\u001B[0m\n",
       "\u001B[2m7ea90739bdbe4e0e00af0a54038904a.json\u001B[0m\n"
      ],
      "text/html": [
       "<pre style=\"white-space:pre;overflow-x:auto;line-height:normal;font-family:Menlo,'DejaVu Sans Mono',consolas,'Courier New',monospace\"><span style=\"color: #7f7f7f; text-decoration-color: #7f7f7f\">[DEBUG] Loading JSON file: </span>\n",
       "<span style=\"color: #7f7f7f; text-decoration-color: #7f7f7f\">../log/contracts_analysis_both_20250225_104133/safe/0x0a1b50f27c47dd847523012f98e129fb6a3410b0/analysis_0x0aab3ac44</span>\n",
       "<span style=\"color: #7f7f7f; text-decoration-color: #7f7f7f\">7ea90739bdbe4e0e00af0a54038904a.json</span>\n",
       "</pre>\n"
      ]
     },
     "metadata": {},
     "output_type": "display_data"
    },
    {
     "data": {
      "text/plain": [
       "\u001B[2m[DEBUG] Loading JSON file: \u001B[0m\n",
       "\u001B[2m../log/contracts_analysis_both_20250225_104133/safe/0x0a1b50f27c47dd847523012f98e129fb6a3410b0/analysis_0x0a8c3b7e1\u001B[0m\n",
       "\u001B[2m49891ff594e3ad580f8e1769151a07b.json\u001B[0m\n"
      ],
      "text/html": [
       "<pre style=\"white-space:pre;overflow-x:auto;line-height:normal;font-family:Menlo,'DejaVu Sans Mono',consolas,'Courier New',monospace\"><span style=\"color: #7f7f7f; text-decoration-color: #7f7f7f\">[DEBUG] Loading JSON file: </span>\n",
       "<span style=\"color: #7f7f7f; text-decoration-color: #7f7f7f\">../log/contracts_analysis_both_20250225_104133/safe/0x0a1b50f27c47dd847523012f98e129fb6a3410b0/analysis_0x0a8c3b7e1</span>\n",
       "<span style=\"color: #7f7f7f; text-decoration-color: #7f7f7f\">49891ff594e3ad580f8e1769151a07b.json</span>\n",
       "</pre>\n"
      ]
     },
     "metadata": {},
     "output_type": "display_data"
    },
    {
     "data": {
      "text/plain": [
       "\u001B[2m[DEBUG] Collected predictions: ['safe', 'safe', 'safe']\u001B[0m\n"
      ],
      "text/html": [
       "<pre style=\"white-space:pre;overflow-x:auto;line-height:normal;font-family:Menlo,'DejaVu Sans Mono',consolas,'Courier New',monospace\"><span style=\"color: #7f7f7f; text-decoration-color: #7f7f7f\">[DEBUG] Collected predictions: ['safe', 'safe', 'safe']</span>\n",
       "</pre>\n"
      ]
     },
     "metadata": {},
     "output_type": "display_data"
    },
    {
     "data": {
      "text/plain": [
       "\u001B[2m[DEBUG] Determined ground truth for \u001B[0m\n",
       "\u001B[2m../log/contracts_analysis_both_20250225_104133/safe/0x0a3e0cd84b6f1b36f234fc3ca85b552379438393: safe\u001B[0m\n"
      ],
      "text/html": [
       "<pre style=\"white-space:pre;overflow-x:auto;line-height:normal;font-family:Menlo,'DejaVu Sans Mono',consolas,'Courier New',monospace\"><span style=\"color: #7f7f7f; text-decoration-color: #7f7f7f\">[DEBUG] Determined ground truth for </span>\n",
       "<span style=\"color: #7f7f7f; text-decoration-color: #7f7f7f\">../log/contracts_analysis_both_20250225_104133/safe/0x0a3e0cd84b6f1b36f234fc3ca85b552379438393: safe</span>\n",
       "</pre>\n"
      ]
     },
     "metadata": {},
     "output_type": "display_data"
    },
    {
     "data": {
      "text/plain": [
       "\u001B[2m[DEBUG] Processing classification file: \u001B[0m\n",
       "\u001B[2m../log/contracts_analysis_both_20250225_104133/safe/0x0a3e0cd84b6f1b36f234fc3ca85b552379438393/classification.json\u001B[0m\n"
      ],
      "text/html": [
       "<pre style=\"white-space:pre;overflow-x:auto;line-height:normal;font-family:Menlo,'DejaVu Sans Mono',consolas,'Courier New',monospace\"><span style=\"color: #7f7f7f; text-decoration-color: #7f7f7f\">[DEBUG] Processing classification file: </span>\n",
       "<span style=\"color: #7f7f7f; text-decoration-color: #7f7f7f\">../log/contracts_analysis_both_20250225_104133/safe/0x0a3e0cd84b6f1b36f234fc3ca85b552379438393/classification.json</span>\n",
       "</pre>\n"
      ]
     },
     "metadata": {},
     "output_type": "display_data"
    },
    {
     "data": {
      "text/plain": [
       "\u001B[2m[DEBUG] Loading JSON file: \u001B[0m\n",
       "\u001B[2m../log/contracts_analysis_both_20250225_104133/safe/0x0a3e0cd84b6f1b36f234fc3ca85b552379438393/classification.json\u001B[0m\n"
      ],
      "text/html": [
       "<pre style=\"white-space:pre;overflow-x:auto;line-height:normal;font-family:Menlo,'DejaVu Sans Mono',consolas,'Courier New',monospace\"><span style=\"color: #7f7f7f; text-decoration-color: #7f7f7f\">[DEBUG] Loading JSON file: </span>\n",
       "<span style=\"color: #7f7f7f; text-decoration-color: #7f7f7f\">../log/contracts_analysis_both_20250225_104133/safe/0x0a3e0cd84b6f1b36f234fc3ca85b552379438393/classification.json</span>\n",
       "</pre>\n"
      ]
     },
     "metadata": {},
     "output_type": "display_data"
    },
    {
     "data": {
      "text/plain": [
       "\u001B[2m[DEBUG] Classification result: safe, Ground truth: safe\u001B[0m\n"
      ],
      "text/html": [
       "<pre style=\"white-space:pre;overflow-x:auto;line-height:normal;font-family:Menlo,'DejaVu Sans Mono',consolas,'Courier New',monospace\"><span style=\"color: #7f7f7f; text-decoration-color: #7f7f7f\">[DEBUG] Classification result: safe, Ground truth: safe</span>\n",
       "</pre>\n"
      ]
     },
     "metadata": {},
     "output_type": "display_data"
    },
    {
     "data": {
      "text/plain": [
       "\u001B[2m[DEBUG] Collecting predictions from directory: \u001B[0m\n",
       "\u001B[2m../log/contracts_analysis_both_20250225_104133/safe/0x0a3e0cd84b6f1b36f234fc3ca85b552379438393\u001B[0m\n"
      ],
      "text/html": [
       "<pre style=\"white-space:pre;overflow-x:auto;line-height:normal;font-family:Menlo,'DejaVu Sans Mono',consolas,'Courier New',monospace\"><span style=\"color: #7f7f7f; text-decoration-color: #7f7f7f\">[DEBUG] Collecting predictions from directory: </span>\n",
       "<span style=\"color: #7f7f7f; text-decoration-color: #7f7f7f\">../log/contracts_analysis_both_20250225_104133/safe/0x0a3e0cd84b6f1b36f234fc3ca85b552379438393</span>\n",
       "</pre>\n"
      ]
     },
     "metadata": {},
     "output_type": "display_data"
    },
    {
     "data": {
      "text/plain": [
       "\u001B[2m[DEBUG] Loading JSON file: \u001B[0m\n",
       "\u001B[2m../log/contracts_analysis_both_20250225_104133/safe/0x0a3e0cd84b6f1b36f234fc3ca85b552379438393/analysis_0x0aa19b3e5\u001B[0m\n",
       "\u001B[2m1dd77e482690263c8af26bec2c6542e.json\u001B[0m\n"
      ],
      "text/html": [
       "<pre style=\"white-space:pre;overflow-x:auto;line-height:normal;font-family:Menlo,'DejaVu Sans Mono',consolas,'Courier New',monospace\"><span style=\"color: #7f7f7f; text-decoration-color: #7f7f7f\">[DEBUG] Loading JSON file: </span>\n",
       "<span style=\"color: #7f7f7f; text-decoration-color: #7f7f7f\">../log/contracts_analysis_both_20250225_104133/safe/0x0a3e0cd84b6f1b36f234fc3ca85b552379438393/analysis_0x0aa19b3e5</span>\n",
       "<span style=\"color: #7f7f7f; text-decoration-color: #7f7f7f\">1dd77e482690263c8af26bec2c6542e.json</span>\n",
       "</pre>\n"
      ]
     },
     "metadata": {},
     "output_type": "display_data"
    },
    {
     "data": {
      "text/plain": [
       "\u001B[2m[DEBUG] Loading JSON file: \u001B[0m\n",
       "\u001B[2m../log/contracts_analysis_both_20250225_104133/safe/0x0a3e0cd84b6f1b36f234fc3ca85b552379438393/analysis_0x0aab3ac44\u001B[0m\n",
       "\u001B[2m7ea90739bdbe4e0e00af0a54038904a.json\u001B[0m\n"
      ],
      "text/html": [
       "<pre style=\"white-space:pre;overflow-x:auto;line-height:normal;font-family:Menlo,'DejaVu Sans Mono',consolas,'Courier New',monospace\"><span style=\"color: #7f7f7f; text-decoration-color: #7f7f7f\">[DEBUG] Loading JSON file: </span>\n",
       "<span style=\"color: #7f7f7f; text-decoration-color: #7f7f7f\">../log/contracts_analysis_both_20250225_104133/safe/0x0a3e0cd84b6f1b36f234fc3ca85b552379438393/analysis_0x0aab3ac44</span>\n",
       "<span style=\"color: #7f7f7f; text-decoration-color: #7f7f7f\">7ea90739bdbe4e0e00af0a54038904a.json</span>\n",
       "</pre>\n"
      ]
     },
     "metadata": {},
     "output_type": "display_data"
    },
    {
     "data": {
      "text/plain": [
       "\u001B[2m[DEBUG] Loading JSON file: \u001B[0m\n",
       "\u001B[2m../log/contracts_analysis_both_20250225_104133/safe/0x0a3e0cd84b6f1b36f234fc3ca85b552379438393/analysis_0x0a8c3b7e1\u001B[0m\n",
       "\u001B[2m49891ff594e3ad580f8e1769151a07b.json\u001B[0m\n"
      ],
      "text/html": [
       "<pre style=\"white-space:pre;overflow-x:auto;line-height:normal;font-family:Menlo,'DejaVu Sans Mono',consolas,'Courier New',monospace\"><span style=\"color: #7f7f7f; text-decoration-color: #7f7f7f\">[DEBUG] Loading JSON file: </span>\n",
       "<span style=\"color: #7f7f7f; text-decoration-color: #7f7f7f\">../log/contracts_analysis_both_20250225_104133/safe/0x0a3e0cd84b6f1b36f234fc3ca85b552379438393/analysis_0x0a8c3b7e1</span>\n",
       "<span style=\"color: #7f7f7f; text-decoration-color: #7f7f7f\">49891ff594e3ad580f8e1769151a07b.json</span>\n",
       "</pre>\n"
      ]
     },
     "metadata": {},
     "output_type": "display_data"
    },
    {
     "data": {
      "text/plain": [
       "\u001B[2m[DEBUG] Collected predictions: ['safe', 'safe', 'safe']\u001B[0m\n"
      ],
      "text/html": [
       "<pre style=\"white-space:pre;overflow-x:auto;line-height:normal;font-family:Menlo,'DejaVu Sans Mono',consolas,'Courier New',monospace\"><span style=\"color: #7f7f7f; text-decoration-color: #7f7f7f\">[DEBUG] Collected predictions: ['safe', 'safe', 'safe']</span>\n",
       "</pre>\n"
      ]
     },
     "metadata": {},
     "output_type": "display_data"
    },
    {
     "name": "stderr",
     "output_type": "stream",
     "text": [
      "Processing contracts:  14%|█▎        | 13/96 [00:00<00:02, 37.72it/s]"
     ]
    },
    {
     "data": {
      "text/plain": [
       "\u001B[2m[DEBUG] Determined ground truth for \u001B[0m\n",
       "\u001B[2m../log/contracts_analysis_both_20250225_104133/safe/0x0a2e310409f7589c9e8640abf98ca2b7b35f938c: safe\u001B[0m\n"
      ],
      "text/html": [
       "<pre style=\"white-space:pre;overflow-x:auto;line-height:normal;font-family:Menlo,'DejaVu Sans Mono',consolas,'Courier New',monospace\"><span style=\"color: #7f7f7f; text-decoration-color: #7f7f7f\">[DEBUG] Determined ground truth for </span>\n",
       "<span style=\"color: #7f7f7f; text-decoration-color: #7f7f7f\">../log/contracts_analysis_both_20250225_104133/safe/0x0a2e310409f7589c9e8640abf98ca2b7b35f938c: safe</span>\n",
       "</pre>\n"
      ]
     },
     "metadata": {},
     "output_type": "display_data"
    },
    {
     "data": {
      "text/plain": [
       "\u001B[2m[DEBUG] Processing classification file: \u001B[0m\n",
       "\u001B[2m../log/contracts_analysis_both_20250225_104133/safe/0x0a2e310409f7589c9e8640abf98ca2b7b35f938c/classification.json\u001B[0m\n"
      ],
      "text/html": [
       "<pre style=\"white-space:pre;overflow-x:auto;line-height:normal;font-family:Menlo,'DejaVu Sans Mono',consolas,'Courier New',monospace\"><span style=\"color: #7f7f7f; text-decoration-color: #7f7f7f\">[DEBUG] Processing classification file: </span>\n",
       "<span style=\"color: #7f7f7f; text-decoration-color: #7f7f7f\">../log/contracts_analysis_both_20250225_104133/safe/0x0a2e310409f7589c9e8640abf98ca2b7b35f938c/classification.json</span>\n",
       "</pre>\n"
      ]
     },
     "metadata": {},
     "output_type": "display_data"
    },
    {
     "data": {
      "text/plain": [
       "\u001B[2m[DEBUG] Loading JSON file: \u001B[0m\n",
       "\u001B[2m../log/contracts_analysis_both_20250225_104133/safe/0x0a2e310409f7589c9e8640abf98ca2b7b35f938c/classification.json\u001B[0m\n"
      ],
      "text/html": [
       "<pre style=\"white-space:pre;overflow-x:auto;line-height:normal;font-family:Menlo,'DejaVu Sans Mono',consolas,'Courier New',monospace\"><span style=\"color: #7f7f7f; text-decoration-color: #7f7f7f\">[DEBUG] Loading JSON file: </span>\n",
       "<span style=\"color: #7f7f7f; text-decoration-color: #7f7f7f\">../log/contracts_analysis_both_20250225_104133/safe/0x0a2e310409f7589c9e8640abf98ca2b7b35f938c/classification.json</span>\n",
       "</pre>\n"
      ]
     },
     "metadata": {},
     "output_type": "display_data"
    },
    {
     "data": {
      "text/plain": [
       "\u001B[2m[DEBUG] Classification result: safe, Ground truth: safe\u001B[0m\n"
      ],
      "text/html": [
       "<pre style=\"white-space:pre;overflow-x:auto;line-height:normal;font-family:Menlo,'DejaVu Sans Mono',consolas,'Courier New',monospace\"><span style=\"color: #7f7f7f; text-decoration-color: #7f7f7f\">[DEBUG] Classification result: safe, Ground truth: safe</span>\n",
       "</pre>\n"
      ]
     },
     "metadata": {},
     "output_type": "display_data"
    },
    {
     "data": {
      "text/plain": [
       "\u001B[2m[DEBUG] Collecting predictions from directory: \u001B[0m\n",
       "\u001B[2m../log/contracts_analysis_both_20250225_104133/safe/0x0a2e310409f7589c9e8640abf98ca2b7b35f938c\u001B[0m\n"
      ],
      "text/html": [
       "<pre style=\"white-space:pre;overflow-x:auto;line-height:normal;font-family:Menlo,'DejaVu Sans Mono',consolas,'Courier New',monospace\"><span style=\"color: #7f7f7f; text-decoration-color: #7f7f7f\">[DEBUG] Collecting predictions from directory: </span>\n",
       "<span style=\"color: #7f7f7f; text-decoration-color: #7f7f7f\">../log/contracts_analysis_both_20250225_104133/safe/0x0a2e310409f7589c9e8640abf98ca2b7b35f938c</span>\n",
       "</pre>\n"
      ]
     },
     "metadata": {},
     "output_type": "display_data"
    },
    {
     "data": {
      "text/plain": [
       "\u001B[2m[DEBUG] Loading JSON file: \u001B[0m\n",
       "\u001B[2m../log/contracts_analysis_both_20250225_104133/safe/0x0a2e310409f7589c9e8640abf98ca2b7b35f938c/analysis_0x0aa19b3e5\u001B[0m\n",
       "\u001B[2m1dd77e482690263c8af26bec2c6542e.json\u001B[0m\n"
      ],
      "text/html": [
       "<pre style=\"white-space:pre;overflow-x:auto;line-height:normal;font-family:Menlo,'DejaVu Sans Mono',consolas,'Courier New',monospace\"><span style=\"color: #7f7f7f; text-decoration-color: #7f7f7f\">[DEBUG] Loading JSON file: </span>\n",
       "<span style=\"color: #7f7f7f; text-decoration-color: #7f7f7f\">../log/contracts_analysis_both_20250225_104133/safe/0x0a2e310409f7589c9e8640abf98ca2b7b35f938c/analysis_0x0aa19b3e5</span>\n",
       "<span style=\"color: #7f7f7f; text-decoration-color: #7f7f7f\">1dd77e482690263c8af26bec2c6542e.json</span>\n",
       "</pre>\n"
      ]
     },
     "metadata": {},
     "output_type": "display_data"
    },
    {
     "data": {
      "text/plain": [
       "\u001B[2m[DEBUG] Loading JSON file: \u001B[0m\n",
       "\u001B[2m../log/contracts_analysis_both_20250225_104133/safe/0x0a2e310409f7589c9e8640abf98ca2b7b35f938c/analysis_0x0aab3ac44\u001B[0m\n",
       "\u001B[2m7ea90739bdbe4e0e00af0a54038904a.json\u001B[0m\n"
      ],
      "text/html": [
       "<pre style=\"white-space:pre;overflow-x:auto;line-height:normal;font-family:Menlo,'DejaVu Sans Mono',consolas,'Courier New',monospace\"><span style=\"color: #7f7f7f; text-decoration-color: #7f7f7f\">[DEBUG] Loading JSON file: </span>\n",
       "<span style=\"color: #7f7f7f; text-decoration-color: #7f7f7f\">../log/contracts_analysis_both_20250225_104133/safe/0x0a2e310409f7589c9e8640abf98ca2b7b35f938c/analysis_0x0aab3ac44</span>\n",
       "<span style=\"color: #7f7f7f; text-decoration-color: #7f7f7f\">7ea90739bdbe4e0e00af0a54038904a.json</span>\n",
       "</pre>\n"
      ]
     },
     "metadata": {},
     "output_type": "display_data"
    },
    {
     "data": {
      "text/plain": [
       "\u001B[2m[DEBUG] Loading JSON file: \u001B[0m\n",
       "\u001B[2m../log/contracts_analysis_both_20250225_104133/safe/0x0a2e310409f7589c9e8640abf98ca2b7b35f938c/analysis_0x0a8c3b7e1\u001B[0m\n",
       "\u001B[2m49891ff594e3ad580f8e1769151a07b.json\u001B[0m\n"
      ],
      "text/html": [
       "<pre style=\"white-space:pre;overflow-x:auto;line-height:normal;font-family:Menlo,'DejaVu Sans Mono',consolas,'Courier New',monospace\"><span style=\"color: #7f7f7f; text-decoration-color: #7f7f7f\">[DEBUG] Loading JSON file: </span>\n",
       "<span style=\"color: #7f7f7f; text-decoration-color: #7f7f7f\">../log/contracts_analysis_both_20250225_104133/safe/0x0a2e310409f7589c9e8640abf98ca2b7b35f938c/analysis_0x0a8c3b7e1</span>\n",
       "<span style=\"color: #7f7f7f; text-decoration-color: #7f7f7f\">49891ff594e3ad580f8e1769151a07b.json</span>\n",
       "</pre>\n"
      ]
     },
     "metadata": {},
     "output_type": "display_data"
    },
    {
     "data": {
      "text/plain": [
       "\u001B[2m[DEBUG] Collected predictions: ['safe', 'safe', 'safe']\u001B[0m\n"
      ],
      "text/html": [
       "<pre style=\"white-space:pre;overflow-x:auto;line-height:normal;font-family:Menlo,'DejaVu Sans Mono',consolas,'Courier New',monospace\"><span style=\"color: #7f7f7f; text-decoration-color: #7f7f7f\">[DEBUG] Collected predictions: ['safe', 'safe', 'safe']</span>\n",
       "</pre>\n"
      ]
     },
     "metadata": {},
     "output_type": "display_data"
    },
    {
     "data": {
      "text/plain": [
       "\u001B[2m[DEBUG] Determined ground truth for \u001B[0m\n",
       "\u001B[2m../log/contracts_analysis_both_20250225_104133/safe/0x0a4d60ba4ba53ab7f358ab06976e6b6c4ea132ba: safe\u001B[0m\n"
      ],
      "text/html": [
       "<pre style=\"white-space:pre;overflow-x:auto;line-height:normal;font-family:Menlo,'DejaVu Sans Mono',consolas,'Courier New',monospace\"><span style=\"color: #7f7f7f; text-decoration-color: #7f7f7f\">[DEBUG] Determined ground truth for </span>\n",
       "<span style=\"color: #7f7f7f; text-decoration-color: #7f7f7f\">../log/contracts_analysis_both_20250225_104133/safe/0x0a4d60ba4ba53ab7f358ab06976e6b6c4ea132ba: safe</span>\n",
       "</pre>\n"
      ]
     },
     "metadata": {},
     "output_type": "display_data"
    },
    {
     "data": {
      "text/plain": [
       "\u001B[2m[DEBUG] Processing classification file: \u001B[0m\n",
       "\u001B[2m../log/contracts_analysis_both_20250225_104133/safe/0x0a4d60ba4ba53ab7f358ab06976e6b6c4ea132ba/classification.json\u001B[0m\n"
      ],
      "text/html": [
       "<pre style=\"white-space:pre;overflow-x:auto;line-height:normal;font-family:Menlo,'DejaVu Sans Mono',consolas,'Courier New',monospace\"><span style=\"color: #7f7f7f; text-decoration-color: #7f7f7f\">[DEBUG] Processing classification file: </span>\n",
       "<span style=\"color: #7f7f7f; text-decoration-color: #7f7f7f\">../log/contracts_analysis_both_20250225_104133/safe/0x0a4d60ba4ba53ab7f358ab06976e6b6c4ea132ba/classification.json</span>\n",
       "</pre>\n"
      ]
     },
     "metadata": {},
     "output_type": "display_data"
    },
    {
     "data": {
      "text/plain": [
       "\u001B[2m[DEBUG] Loading JSON file: \u001B[0m\n",
       "\u001B[2m../log/contracts_analysis_both_20250225_104133/safe/0x0a4d60ba4ba53ab7f358ab06976e6b6c4ea132ba/classification.json\u001B[0m\n"
      ],
      "text/html": [
       "<pre style=\"white-space:pre;overflow-x:auto;line-height:normal;font-family:Menlo,'DejaVu Sans Mono',consolas,'Courier New',monospace\"><span style=\"color: #7f7f7f; text-decoration-color: #7f7f7f\">[DEBUG] Loading JSON file: </span>\n",
       "<span style=\"color: #7f7f7f; text-decoration-color: #7f7f7f\">../log/contracts_analysis_both_20250225_104133/safe/0x0a4d60ba4ba53ab7f358ab06976e6b6c4ea132ba/classification.json</span>\n",
       "</pre>\n"
      ]
     },
     "metadata": {},
     "output_type": "display_data"
    },
    {
     "data": {
      "text/plain": [
       "\u001B[2m[DEBUG] Classification result: safe, Ground truth: safe\u001B[0m\n"
      ],
      "text/html": [
       "<pre style=\"white-space:pre;overflow-x:auto;line-height:normal;font-family:Menlo,'DejaVu Sans Mono',consolas,'Courier New',monospace\"><span style=\"color: #7f7f7f; text-decoration-color: #7f7f7f\">[DEBUG] Classification result: safe, Ground truth: safe</span>\n",
       "</pre>\n"
      ]
     },
     "metadata": {},
     "output_type": "display_data"
    },
    {
     "data": {
      "text/plain": [
       "\u001B[2m[DEBUG] Collecting predictions from directory: \u001B[0m\n",
       "\u001B[2m../log/contracts_analysis_both_20250225_104133/safe/0x0a4d60ba4ba53ab7f358ab06976e6b6c4ea132ba\u001B[0m\n"
      ],
      "text/html": [
       "<pre style=\"white-space:pre;overflow-x:auto;line-height:normal;font-family:Menlo,'DejaVu Sans Mono',consolas,'Courier New',monospace\"><span style=\"color: #7f7f7f; text-decoration-color: #7f7f7f\">[DEBUG] Collecting predictions from directory: </span>\n",
       "<span style=\"color: #7f7f7f; text-decoration-color: #7f7f7f\">../log/contracts_analysis_both_20250225_104133/safe/0x0a4d60ba4ba53ab7f358ab06976e6b6c4ea132ba</span>\n",
       "</pre>\n"
      ]
     },
     "metadata": {},
     "output_type": "display_data"
    },
    {
     "data": {
      "text/plain": [
       "\u001B[2m[DEBUG] Loading JSON file: \u001B[0m\n",
       "\u001B[2m../log/contracts_analysis_both_20250225_104133/safe/0x0a4d60ba4ba53ab7f358ab06976e6b6c4ea132ba/analysis_0x0aa19b3e5\u001B[0m\n",
       "\u001B[2m1dd77e482690263c8af26bec2c6542e.json\u001B[0m\n"
      ],
      "text/html": [
       "<pre style=\"white-space:pre;overflow-x:auto;line-height:normal;font-family:Menlo,'DejaVu Sans Mono',consolas,'Courier New',monospace\"><span style=\"color: #7f7f7f; text-decoration-color: #7f7f7f\">[DEBUG] Loading JSON file: </span>\n",
       "<span style=\"color: #7f7f7f; text-decoration-color: #7f7f7f\">../log/contracts_analysis_both_20250225_104133/safe/0x0a4d60ba4ba53ab7f358ab06976e6b6c4ea132ba/analysis_0x0aa19b3e5</span>\n",
       "<span style=\"color: #7f7f7f; text-decoration-color: #7f7f7f\">1dd77e482690263c8af26bec2c6542e.json</span>\n",
       "</pre>\n"
      ]
     },
     "metadata": {},
     "output_type": "display_data"
    },
    {
     "data": {
      "text/plain": [
       "\u001B[2m[DEBUG] Loading JSON file: \u001B[0m\n",
       "\u001B[2m../log/contracts_analysis_both_20250225_104133/safe/0x0a4d60ba4ba53ab7f358ab06976e6b6c4ea132ba/analysis_0x0aab3ac44\u001B[0m\n",
       "\u001B[2m7ea90739bdbe4e0e00af0a54038904a.json\u001B[0m\n"
      ],
      "text/html": [
       "<pre style=\"white-space:pre;overflow-x:auto;line-height:normal;font-family:Menlo,'DejaVu Sans Mono',consolas,'Courier New',monospace\"><span style=\"color: #7f7f7f; text-decoration-color: #7f7f7f\">[DEBUG] Loading JSON file: </span>\n",
       "<span style=\"color: #7f7f7f; text-decoration-color: #7f7f7f\">../log/contracts_analysis_both_20250225_104133/safe/0x0a4d60ba4ba53ab7f358ab06976e6b6c4ea132ba/analysis_0x0aab3ac44</span>\n",
       "<span style=\"color: #7f7f7f; text-decoration-color: #7f7f7f\">7ea90739bdbe4e0e00af0a54038904a.json</span>\n",
       "</pre>\n"
      ]
     },
     "metadata": {},
     "output_type": "display_data"
    },
    {
     "data": {
      "text/plain": [
       "\u001B[2m[DEBUG] Loading JSON file: \u001B[0m\n",
       "\u001B[2m../log/contracts_analysis_both_20250225_104133/safe/0x0a4d60ba4ba53ab7f358ab06976e6b6c4ea132ba/analysis_0x0a8c3b7e1\u001B[0m\n",
       "\u001B[2m49891ff594e3ad580f8e1769151a07b.json\u001B[0m\n"
      ],
      "text/html": [
       "<pre style=\"white-space:pre;overflow-x:auto;line-height:normal;font-family:Menlo,'DejaVu Sans Mono',consolas,'Courier New',monospace\"><span style=\"color: #7f7f7f; text-decoration-color: #7f7f7f\">[DEBUG] Loading JSON file: </span>\n",
       "<span style=\"color: #7f7f7f; text-decoration-color: #7f7f7f\">../log/contracts_analysis_both_20250225_104133/safe/0x0a4d60ba4ba53ab7f358ab06976e6b6c4ea132ba/analysis_0x0a8c3b7e1</span>\n",
       "<span style=\"color: #7f7f7f; text-decoration-color: #7f7f7f\">49891ff594e3ad580f8e1769151a07b.json</span>\n",
       "</pre>\n"
      ]
     },
     "metadata": {},
     "output_type": "display_data"
    },
    {
     "data": {
      "text/plain": [
       "\u001B[2m[DEBUG] Collected predictions: ['safe', 'safe', 'safe']\u001B[0m\n"
      ],
      "text/html": [
       "<pre style=\"white-space:pre;overflow-x:auto;line-height:normal;font-family:Menlo,'DejaVu Sans Mono',consolas,'Courier New',monospace\"><span style=\"color: #7f7f7f; text-decoration-color: #7f7f7f\">[DEBUG] Collected predictions: ['safe', 'safe', 'safe']</span>\n",
       "</pre>\n"
      ]
     },
     "metadata": {},
     "output_type": "display_data"
    },
    {
     "data": {
      "text/plain": [
       "\u001B[2m[DEBUG] Determined ground truth for \u001B[0m\n",
       "\u001B[2m../log/contracts_analysis_both_20250225_104133/safe/0x0a4a882b2a93bb4ca2a45bdf585819162c6f8c33: safe\u001B[0m\n"
      ],
      "text/html": [
       "<pre style=\"white-space:pre;overflow-x:auto;line-height:normal;font-family:Menlo,'DejaVu Sans Mono',consolas,'Courier New',monospace\"><span style=\"color: #7f7f7f; text-decoration-color: #7f7f7f\">[DEBUG] Determined ground truth for </span>\n",
       "<span style=\"color: #7f7f7f; text-decoration-color: #7f7f7f\">../log/contracts_analysis_both_20250225_104133/safe/0x0a4a882b2a93bb4ca2a45bdf585819162c6f8c33: safe</span>\n",
       "</pre>\n"
      ]
     },
     "metadata": {},
     "output_type": "display_data"
    },
    {
     "data": {
      "text/plain": [
       "\u001B[2m[DEBUG] Processing classification file: \u001B[0m\n",
       "\u001B[2m../log/contracts_analysis_both_20250225_104133/safe/0x0a4a882b2a93bb4ca2a45bdf585819162c6f8c33/classification.json\u001B[0m\n"
      ],
      "text/html": [
       "<pre style=\"white-space:pre;overflow-x:auto;line-height:normal;font-family:Menlo,'DejaVu Sans Mono',consolas,'Courier New',monospace\"><span style=\"color: #7f7f7f; text-decoration-color: #7f7f7f\">[DEBUG] Processing classification file: </span>\n",
       "<span style=\"color: #7f7f7f; text-decoration-color: #7f7f7f\">../log/contracts_analysis_both_20250225_104133/safe/0x0a4a882b2a93bb4ca2a45bdf585819162c6f8c33/classification.json</span>\n",
       "</pre>\n"
      ]
     },
     "metadata": {},
     "output_type": "display_data"
    },
    {
     "data": {
      "text/plain": [
       "\u001B[2m[DEBUG] Loading JSON file: \u001B[0m\n",
       "\u001B[2m../log/contracts_analysis_both_20250225_104133/safe/0x0a4a882b2a93bb4ca2a45bdf585819162c6f8c33/classification.json\u001B[0m\n"
      ],
      "text/html": [
       "<pre style=\"white-space:pre;overflow-x:auto;line-height:normal;font-family:Menlo,'DejaVu Sans Mono',consolas,'Courier New',monospace\"><span style=\"color: #7f7f7f; text-decoration-color: #7f7f7f\">[DEBUG] Loading JSON file: </span>\n",
       "<span style=\"color: #7f7f7f; text-decoration-color: #7f7f7f\">../log/contracts_analysis_both_20250225_104133/safe/0x0a4a882b2a93bb4ca2a45bdf585819162c6f8c33/classification.json</span>\n",
       "</pre>\n"
      ]
     },
     "metadata": {},
     "output_type": "display_data"
    },
    {
     "data": {
      "text/plain": [
       "\u001B[2m[DEBUG] Classification result: safe, Ground truth: safe\u001B[0m\n"
      ],
      "text/html": [
       "<pre style=\"white-space:pre;overflow-x:auto;line-height:normal;font-family:Menlo,'DejaVu Sans Mono',consolas,'Courier New',monospace\"><span style=\"color: #7f7f7f; text-decoration-color: #7f7f7f\">[DEBUG] Classification result: safe, Ground truth: safe</span>\n",
       "</pre>\n"
      ]
     },
     "metadata": {},
     "output_type": "display_data"
    },
    {
     "data": {
      "text/plain": [
       "\u001B[2m[DEBUG] Collecting predictions from directory: \u001B[0m\n",
       "\u001B[2m../log/contracts_analysis_both_20250225_104133/safe/0x0a4a882b2a93bb4ca2a45bdf585819162c6f8c33\u001B[0m\n"
      ],
      "text/html": [
       "<pre style=\"white-space:pre;overflow-x:auto;line-height:normal;font-family:Menlo,'DejaVu Sans Mono',consolas,'Courier New',monospace\"><span style=\"color: #7f7f7f; text-decoration-color: #7f7f7f\">[DEBUG] Collecting predictions from directory: </span>\n",
       "<span style=\"color: #7f7f7f; text-decoration-color: #7f7f7f\">../log/contracts_analysis_both_20250225_104133/safe/0x0a4a882b2a93bb4ca2a45bdf585819162c6f8c33</span>\n",
       "</pre>\n"
      ]
     },
     "metadata": {},
     "output_type": "display_data"
    },
    {
     "data": {
      "text/plain": [
       "\u001B[2m[DEBUG] Loading JSON file: \u001B[0m\n",
       "\u001B[2m../log/contracts_analysis_both_20250225_104133/safe/0x0a4a882b2a93bb4ca2a45bdf585819162c6f8c33/analysis_0x0aa19b3e5\u001B[0m\n",
       "\u001B[2m1dd77e482690263c8af26bec2c6542e.json\u001B[0m\n"
      ],
      "text/html": [
       "<pre style=\"white-space:pre;overflow-x:auto;line-height:normal;font-family:Menlo,'DejaVu Sans Mono',consolas,'Courier New',monospace\"><span style=\"color: #7f7f7f; text-decoration-color: #7f7f7f\">[DEBUG] Loading JSON file: </span>\n",
       "<span style=\"color: #7f7f7f; text-decoration-color: #7f7f7f\">../log/contracts_analysis_both_20250225_104133/safe/0x0a4a882b2a93bb4ca2a45bdf585819162c6f8c33/analysis_0x0aa19b3e5</span>\n",
       "<span style=\"color: #7f7f7f; text-decoration-color: #7f7f7f\">1dd77e482690263c8af26bec2c6542e.json</span>\n",
       "</pre>\n"
      ]
     },
     "metadata": {},
     "output_type": "display_data"
    },
    {
     "data": {
      "text/plain": [
       "\u001B[2m[DEBUG] Loading JSON file: \u001B[0m\n",
       "\u001B[2m../log/contracts_analysis_both_20250225_104133/safe/0x0a4a882b2a93bb4ca2a45bdf585819162c6f8c33/analysis_0x0aab3ac44\u001B[0m\n",
       "\u001B[2m7ea90739bdbe4e0e00af0a54038904a.json\u001B[0m\n"
      ],
      "text/html": [
       "<pre style=\"white-space:pre;overflow-x:auto;line-height:normal;font-family:Menlo,'DejaVu Sans Mono',consolas,'Courier New',monospace\"><span style=\"color: #7f7f7f; text-decoration-color: #7f7f7f\">[DEBUG] Loading JSON file: </span>\n",
       "<span style=\"color: #7f7f7f; text-decoration-color: #7f7f7f\">../log/contracts_analysis_both_20250225_104133/safe/0x0a4a882b2a93bb4ca2a45bdf585819162c6f8c33/analysis_0x0aab3ac44</span>\n",
       "<span style=\"color: #7f7f7f; text-decoration-color: #7f7f7f\">7ea90739bdbe4e0e00af0a54038904a.json</span>\n",
       "</pre>\n"
      ]
     },
     "metadata": {},
     "output_type": "display_data"
    },
    {
     "data": {
      "text/plain": [
       "\u001B[2m[DEBUG] Loading JSON file: \u001B[0m\n",
       "\u001B[2m../log/contracts_analysis_both_20250225_104133/safe/0x0a4a882b2a93bb4ca2a45bdf585819162c6f8c33/analysis_0x0a8c3b7e1\u001B[0m\n",
       "\u001B[2m49891ff594e3ad580f8e1769151a07b.json\u001B[0m\n"
      ],
      "text/html": [
       "<pre style=\"white-space:pre;overflow-x:auto;line-height:normal;font-family:Menlo,'DejaVu Sans Mono',consolas,'Courier New',monospace\"><span style=\"color: #7f7f7f; text-decoration-color: #7f7f7f\">[DEBUG] Loading JSON file: </span>\n",
       "<span style=\"color: #7f7f7f; text-decoration-color: #7f7f7f\">../log/contracts_analysis_both_20250225_104133/safe/0x0a4a882b2a93bb4ca2a45bdf585819162c6f8c33/analysis_0x0a8c3b7e1</span>\n",
       "<span style=\"color: #7f7f7f; text-decoration-color: #7f7f7f\">49891ff594e3ad580f8e1769151a07b.json</span>\n",
       "</pre>\n"
      ]
     },
     "metadata": {},
     "output_type": "display_data"
    },
    {
     "data": {
      "text/plain": [
       "\u001B[2m[DEBUG] Collected predictions: ['safe', 'safe', 'safe']\u001B[0m\n"
      ],
      "text/html": [
       "<pre style=\"white-space:pre;overflow-x:auto;line-height:normal;font-family:Menlo,'DejaVu Sans Mono',consolas,'Courier New',monospace\"><span style=\"color: #7f7f7f; text-decoration-color: #7f7f7f\">[DEBUG] Collected predictions: ['safe', 'safe', 'safe']</span>\n",
       "</pre>\n"
      ]
     },
     "metadata": {},
     "output_type": "display_data"
    },
    {
     "data": {
      "text/plain": [
       "\u001B[2m[DEBUG] Determined ground truth for \u001B[0m\n",
       "\u001B[2m../log/contracts_analysis_both_20250225_104133/safe/0x0a2fc2c126a20486f292082e7364e97040eaa9b6: safe\u001B[0m\n"
      ],
      "text/html": [
       "<pre style=\"white-space:pre;overflow-x:auto;line-height:normal;font-family:Menlo,'DejaVu Sans Mono',consolas,'Courier New',monospace\"><span style=\"color: #7f7f7f; text-decoration-color: #7f7f7f\">[DEBUG] Determined ground truth for </span>\n",
       "<span style=\"color: #7f7f7f; text-decoration-color: #7f7f7f\">../log/contracts_analysis_both_20250225_104133/safe/0x0a2fc2c126a20486f292082e7364e97040eaa9b6: safe</span>\n",
       "</pre>\n"
      ]
     },
     "metadata": {},
     "output_type": "display_data"
    },
    {
     "data": {
      "text/plain": [
       "\u001B[2m[DEBUG] Processing classification file: \u001B[0m\n",
       "\u001B[2m../log/contracts_analysis_both_20250225_104133/safe/0x0a2fc2c126a20486f292082e7364e97040eaa9b6/classification.json\u001B[0m\n"
      ],
      "text/html": [
       "<pre style=\"white-space:pre;overflow-x:auto;line-height:normal;font-family:Menlo,'DejaVu Sans Mono',consolas,'Courier New',monospace\"><span style=\"color: #7f7f7f; text-decoration-color: #7f7f7f\">[DEBUG] Processing classification file: </span>\n",
       "<span style=\"color: #7f7f7f; text-decoration-color: #7f7f7f\">../log/contracts_analysis_both_20250225_104133/safe/0x0a2fc2c126a20486f292082e7364e97040eaa9b6/classification.json</span>\n",
       "</pre>\n"
      ]
     },
     "metadata": {},
     "output_type": "display_data"
    },
    {
     "data": {
      "text/plain": [
       "\u001B[2m[DEBUG] Loading JSON file: \u001B[0m\n",
       "\u001B[2m../log/contracts_analysis_both_20250225_104133/safe/0x0a2fc2c126a20486f292082e7364e97040eaa9b6/classification.json\u001B[0m\n"
      ],
      "text/html": [
       "<pre style=\"white-space:pre;overflow-x:auto;line-height:normal;font-family:Menlo,'DejaVu Sans Mono',consolas,'Courier New',monospace\"><span style=\"color: #7f7f7f; text-decoration-color: #7f7f7f\">[DEBUG] Loading JSON file: </span>\n",
       "<span style=\"color: #7f7f7f; text-decoration-color: #7f7f7f\">../log/contracts_analysis_both_20250225_104133/safe/0x0a2fc2c126a20486f292082e7364e97040eaa9b6/classification.json</span>\n",
       "</pre>\n"
      ]
     },
     "metadata": {},
     "output_type": "display_data"
    },
    {
     "data": {
      "text/plain": [
       "\u001B[2m[DEBUG] Classification result: reentrant, Ground truth: safe\u001B[0m\n"
      ],
      "text/html": [
       "<pre style=\"white-space:pre;overflow-x:auto;line-height:normal;font-family:Menlo,'DejaVu Sans Mono',consolas,'Courier New',monospace\"><span style=\"color: #7f7f7f; text-decoration-color: #7f7f7f\">[DEBUG] Classification result: reentrant, Ground truth: safe</span>\n",
       "</pre>\n"
      ]
     },
     "metadata": {},
     "output_type": "display_data"
    },
    {
     "data": {
      "text/plain": [
       "\u001B[2m[DEBUG] Collecting predictions from directory: \u001B[0m\n",
       "\u001B[2m../log/contracts_analysis_both_20250225_104133/safe/0x0a2fc2c126a20486f292082e7364e97040eaa9b6\u001B[0m\n"
      ],
      "text/html": [
       "<pre style=\"white-space:pre;overflow-x:auto;line-height:normal;font-family:Menlo,'DejaVu Sans Mono',consolas,'Courier New',monospace\"><span style=\"color: #7f7f7f; text-decoration-color: #7f7f7f\">[DEBUG] Collecting predictions from directory: </span>\n",
       "<span style=\"color: #7f7f7f; text-decoration-color: #7f7f7f\">../log/contracts_analysis_both_20250225_104133/safe/0x0a2fc2c126a20486f292082e7364e97040eaa9b6</span>\n",
       "</pre>\n"
      ]
     },
     "metadata": {},
     "output_type": "display_data"
    },
    {
     "data": {
      "text/plain": [
       "\u001B[2m[DEBUG] Loading JSON file: \u001B[0m\n",
       "\u001B[2m../log/contracts_analysis_both_20250225_104133/safe/0x0a2fc2c126a20486f292082e7364e97040eaa9b6/analysis_0x0aa19b3e5\u001B[0m\n",
       "\u001B[2m1dd77e482690263c8af26bec2c6542e.json\u001B[0m\n"
      ],
      "text/html": [
       "<pre style=\"white-space:pre;overflow-x:auto;line-height:normal;font-family:Menlo,'DejaVu Sans Mono',consolas,'Courier New',monospace\"><span style=\"color: #7f7f7f; text-decoration-color: #7f7f7f\">[DEBUG] Loading JSON file: </span>\n",
       "<span style=\"color: #7f7f7f; text-decoration-color: #7f7f7f\">../log/contracts_analysis_both_20250225_104133/safe/0x0a2fc2c126a20486f292082e7364e97040eaa9b6/analysis_0x0aa19b3e5</span>\n",
       "<span style=\"color: #7f7f7f; text-decoration-color: #7f7f7f\">1dd77e482690263c8af26bec2c6542e.json</span>\n",
       "</pre>\n"
      ]
     },
     "metadata": {},
     "output_type": "display_data"
    },
    {
     "data": {
      "text/plain": [
       "\u001B[2m[DEBUG] Loading JSON file: \u001B[0m\n",
       "\u001B[2m../log/contracts_analysis_both_20250225_104133/safe/0x0a2fc2c126a20486f292082e7364e97040eaa9b6/analysis_0x0aab3ac44\u001B[0m\n",
       "\u001B[2m7ea90739bdbe4e0e00af0a54038904a.json\u001B[0m\n"
      ],
      "text/html": [
       "<pre style=\"white-space:pre;overflow-x:auto;line-height:normal;font-family:Menlo,'DejaVu Sans Mono',consolas,'Courier New',monospace\"><span style=\"color: #7f7f7f; text-decoration-color: #7f7f7f\">[DEBUG] Loading JSON file: </span>\n",
       "<span style=\"color: #7f7f7f; text-decoration-color: #7f7f7f\">../log/contracts_analysis_both_20250225_104133/safe/0x0a2fc2c126a20486f292082e7364e97040eaa9b6/analysis_0x0aab3ac44</span>\n",
       "<span style=\"color: #7f7f7f; text-decoration-color: #7f7f7f\">7ea90739bdbe4e0e00af0a54038904a.json</span>\n",
       "</pre>\n"
      ]
     },
     "metadata": {},
     "output_type": "display_data"
    },
    {
     "data": {
      "text/plain": [
       "\u001B[2m[DEBUG] Loading JSON file: \u001B[0m\n",
       "\u001B[2m../log/contracts_analysis_both_20250225_104133/safe/0x0a2fc2c126a20486f292082e7364e97040eaa9b6/analysis_0x0a8c3b7e1\u001B[0m\n",
       "\u001B[2m49891ff594e3ad580f8e1769151a07b.json\u001B[0m\n"
      ],
      "text/html": [
       "<pre style=\"white-space:pre;overflow-x:auto;line-height:normal;font-family:Menlo,'DejaVu Sans Mono',consolas,'Courier New',monospace\"><span style=\"color: #7f7f7f; text-decoration-color: #7f7f7f\">[DEBUG] Loading JSON file: </span>\n",
       "<span style=\"color: #7f7f7f; text-decoration-color: #7f7f7f\">../log/contracts_analysis_both_20250225_104133/safe/0x0a2fc2c126a20486f292082e7364e97040eaa9b6/analysis_0x0a8c3b7e1</span>\n",
       "<span style=\"color: #7f7f7f; text-decoration-color: #7f7f7f\">49891ff594e3ad580f8e1769151a07b.json</span>\n",
       "</pre>\n"
      ]
     },
     "metadata": {},
     "output_type": "display_data"
    },
    {
     "data": {
      "text/plain": [
       "\u001B[2m[DEBUG] Collected predictions: ['safe', 'safe', 'safe']\u001B[0m\n"
      ],
      "text/html": [
       "<pre style=\"white-space:pre;overflow-x:auto;line-height:normal;font-family:Menlo,'DejaVu Sans Mono',consolas,'Courier New',monospace\"><span style=\"color: #7f7f7f; text-decoration-color: #7f7f7f\">[DEBUG] Collected predictions: ['safe', 'safe', 'safe']</span>\n",
       "</pre>\n"
      ]
     },
     "metadata": {},
     "output_type": "display_data"
    },
    {
     "data": {
      "text/plain": [
       "\u001B[2m[DEBUG] Determined ground truth for \u001B[0m\n",
       "\u001B[2m../log/contracts_analysis_both_20250225_104133/safe/0x0a4ec9b2b444dc575082656ee55d22f67de4f904: safe\u001B[0m\n"
      ],
      "text/html": [
       "<pre style=\"white-space:pre;overflow-x:auto;line-height:normal;font-family:Menlo,'DejaVu Sans Mono',consolas,'Courier New',monospace\"><span style=\"color: #7f7f7f; text-decoration-color: #7f7f7f\">[DEBUG] Determined ground truth for </span>\n",
       "<span style=\"color: #7f7f7f; text-decoration-color: #7f7f7f\">../log/contracts_analysis_both_20250225_104133/safe/0x0a4ec9b2b444dc575082656ee55d22f67de4f904: safe</span>\n",
       "</pre>\n"
      ]
     },
     "metadata": {},
     "output_type": "display_data"
    },
    {
     "data": {
      "text/plain": [
       "\u001B[2m[DEBUG] Processing classification file: \u001B[0m\n",
       "\u001B[2m../log/contracts_analysis_both_20250225_104133/safe/0x0a4ec9b2b444dc575082656ee55d22f67de4f904/classification.json\u001B[0m\n"
      ],
      "text/html": [
       "<pre style=\"white-space:pre;overflow-x:auto;line-height:normal;font-family:Menlo,'DejaVu Sans Mono',consolas,'Courier New',monospace\"><span style=\"color: #7f7f7f; text-decoration-color: #7f7f7f\">[DEBUG] Processing classification file: </span>\n",
       "<span style=\"color: #7f7f7f; text-decoration-color: #7f7f7f\">../log/contracts_analysis_both_20250225_104133/safe/0x0a4ec9b2b444dc575082656ee55d22f67de4f904/classification.json</span>\n",
       "</pre>\n"
      ]
     },
     "metadata": {},
     "output_type": "display_data"
    },
    {
     "data": {
      "text/plain": [
       "\u001B[2m[DEBUG] Loading JSON file: \u001B[0m\n",
       "\u001B[2m../log/contracts_analysis_both_20250225_104133/safe/0x0a4ec9b2b444dc575082656ee55d22f67de4f904/classification.json\u001B[0m\n"
      ],
      "text/html": [
       "<pre style=\"white-space:pre;overflow-x:auto;line-height:normal;font-family:Menlo,'DejaVu Sans Mono',consolas,'Courier New',monospace\"><span style=\"color: #7f7f7f; text-decoration-color: #7f7f7f\">[DEBUG] Loading JSON file: </span>\n",
       "<span style=\"color: #7f7f7f; text-decoration-color: #7f7f7f\">../log/contracts_analysis_both_20250225_104133/safe/0x0a4ec9b2b444dc575082656ee55d22f67de4f904/classification.json</span>\n",
       "</pre>\n"
      ]
     },
     "metadata": {},
     "output_type": "display_data"
    },
    {
     "data": {
      "text/plain": [
       "\u001B[2m[DEBUG] Classification result: safe, Ground truth: safe\u001B[0m\n"
      ],
      "text/html": [
       "<pre style=\"white-space:pre;overflow-x:auto;line-height:normal;font-family:Menlo,'DejaVu Sans Mono',consolas,'Courier New',monospace\"><span style=\"color: #7f7f7f; text-decoration-color: #7f7f7f\">[DEBUG] Classification result: safe, Ground truth: safe</span>\n",
       "</pre>\n"
      ]
     },
     "metadata": {},
     "output_type": "display_data"
    },
    {
     "data": {
      "text/plain": [
       "\u001B[2m[DEBUG] Collecting predictions from directory: \u001B[0m\n",
       "\u001B[2m../log/contracts_analysis_both_20250225_104133/safe/0x0a4ec9b2b444dc575082656ee55d22f67de4f904\u001B[0m\n"
      ],
      "text/html": [
       "<pre style=\"white-space:pre;overflow-x:auto;line-height:normal;font-family:Menlo,'DejaVu Sans Mono',consolas,'Courier New',monospace\"><span style=\"color: #7f7f7f; text-decoration-color: #7f7f7f\">[DEBUG] Collecting predictions from directory: </span>\n",
       "<span style=\"color: #7f7f7f; text-decoration-color: #7f7f7f\">../log/contracts_analysis_both_20250225_104133/safe/0x0a4ec9b2b444dc575082656ee55d22f67de4f904</span>\n",
       "</pre>\n"
      ]
     },
     "metadata": {},
     "output_type": "display_data"
    },
    {
     "data": {
      "text/plain": [
       "\u001B[2m[DEBUG] Loading JSON file: \u001B[0m\n",
       "\u001B[2m../log/contracts_analysis_both_20250225_104133/safe/0x0a4ec9b2b444dc575082656ee55d22f67de4f904/analysis_0x0aa19b3e5\u001B[0m\n",
       "\u001B[2m1dd77e482690263c8af26bec2c6542e.json\u001B[0m\n"
      ],
      "text/html": [
       "<pre style=\"white-space:pre;overflow-x:auto;line-height:normal;font-family:Menlo,'DejaVu Sans Mono',consolas,'Courier New',monospace\"><span style=\"color: #7f7f7f; text-decoration-color: #7f7f7f\">[DEBUG] Loading JSON file: </span>\n",
       "<span style=\"color: #7f7f7f; text-decoration-color: #7f7f7f\">../log/contracts_analysis_both_20250225_104133/safe/0x0a4ec9b2b444dc575082656ee55d22f67de4f904/analysis_0x0aa19b3e5</span>\n",
       "<span style=\"color: #7f7f7f; text-decoration-color: #7f7f7f\">1dd77e482690263c8af26bec2c6542e.json</span>\n",
       "</pre>\n"
      ]
     },
     "metadata": {},
     "output_type": "display_data"
    },
    {
     "data": {
      "text/plain": [
       "\u001B[2m[DEBUG] Loading JSON file: \u001B[0m\n",
       "\u001B[2m../log/contracts_analysis_both_20250225_104133/safe/0x0a4ec9b2b444dc575082656ee55d22f67de4f904/analysis_0x0aab3ac44\u001B[0m\n",
       "\u001B[2m7ea90739bdbe4e0e00af0a54038904a.json\u001B[0m\n"
      ],
      "text/html": [
       "<pre style=\"white-space:pre;overflow-x:auto;line-height:normal;font-family:Menlo,'DejaVu Sans Mono',consolas,'Courier New',monospace\"><span style=\"color: #7f7f7f; text-decoration-color: #7f7f7f\">[DEBUG] Loading JSON file: </span>\n",
       "<span style=\"color: #7f7f7f; text-decoration-color: #7f7f7f\">../log/contracts_analysis_both_20250225_104133/safe/0x0a4ec9b2b444dc575082656ee55d22f67de4f904/analysis_0x0aab3ac44</span>\n",
       "<span style=\"color: #7f7f7f; text-decoration-color: #7f7f7f\">7ea90739bdbe4e0e00af0a54038904a.json</span>\n",
       "</pre>\n"
      ]
     },
     "metadata": {},
     "output_type": "display_data"
    },
    {
     "data": {
      "text/plain": [
       "\u001B[2m[DEBUG] Loading JSON file: \u001B[0m\n",
       "\u001B[2m../log/contracts_analysis_both_20250225_104133/safe/0x0a4ec9b2b444dc575082656ee55d22f67de4f904/analysis_0x0a8c3b7e1\u001B[0m\n",
       "\u001B[2m49891ff594e3ad580f8e1769151a07b.json\u001B[0m\n"
      ],
      "text/html": [
       "<pre style=\"white-space:pre;overflow-x:auto;line-height:normal;font-family:Menlo,'DejaVu Sans Mono',consolas,'Courier New',monospace\"><span style=\"color: #7f7f7f; text-decoration-color: #7f7f7f\">[DEBUG] Loading JSON file: </span>\n",
       "<span style=\"color: #7f7f7f; text-decoration-color: #7f7f7f\">../log/contracts_analysis_both_20250225_104133/safe/0x0a4ec9b2b444dc575082656ee55d22f67de4f904/analysis_0x0a8c3b7e1</span>\n",
       "<span style=\"color: #7f7f7f; text-decoration-color: #7f7f7f\">49891ff594e3ad580f8e1769151a07b.json</span>\n",
       "</pre>\n"
      ]
     },
     "metadata": {},
     "output_type": "display_data"
    },
    {
     "data": {
      "text/plain": [
       "\u001B[2m[DEBUG] Collected predictions: ['safe', 'safe', 'safe']\u001B[0m\n"
      ],
      "text/html": [
       "<pre style=\"white-space:pre;overflow-x:auto;line-height:normal;font-family:Menlo,'DejaVu Sans Mono',consolas,'Courier New',monospace\"><span style=\"color: #7f7f7f; text-decoration-color: #7f7f7f\">[DEBUG] Collected predictions: ['safe', 'safe', 'safe']</span>\n",
       "</pre>\n"
      ]
     },
     "metadata": {},
     "output_type": "display_data"
    },
    {
     "name": "stderr",
     "output_type": "stream",
     "text": [
      "Processing contracts:  19%|█▉        | 18/96 [00:00<00:02, 38.90it/s]"
     ]
    },
    {
     "data": {
      "text/plain": [
       "\u001B[2m[DEBUG] Determined ground truth for \u001B[0m\n",
       "\u001B[2m../log/contracts_analysis_both_20250225_104133/safe/0x0a4b89f0bef2db16a39ecbc7e302907ccd8aff90: safe\u001B[0m\n"
      ],
      "text/html": [
       "<pre style=\"white-space:pre;overflow-x:auto;line-height:normal;font-family:Menlo,'DejaVu Sans Mono',consolas,'Courier New',monospace\"><span style=\"color: #7f7f7f; text-decoration-color: #7f7f7f\">[DEBUG] Determined ground truth for </span>\n",
       "<span style=\"color: #7f7f7f; text-decoration-color: #7f7f7f\">../log/contracts_analysis_both_20250225_104133/safe/0x0a4b89f0bef2db16a39ecbc7e302907ccd8aff90: safe</span>\n",
       "</pre>\n"
      ]
     },
     "metadata": {},
     "output_type": "display_data"
    },
    {
     "data": {
      "text/plain": [
       "\u001B[2m[DEBUG] Processing classification file: \u001B[0m\n",
       "\u001B[2m../log/contracts_analysis_both_20250225_104133/safe/0x0a4b89f0bef2db16a39ecbc7e302907ccd8aff90/classification.json\u001B[0m\n"
      ],
      "text/html": [
       "<pre style=\"white-space:pre;overflow-x:auto;line-height:normal;font-family:Menlo,'DejaVu Sans Mono',consolas,'Courier New',monospace\"><span style=\"color: #7f7f7f; text-decoration-color: #7f7f7f\">[DEBUG] Processing classification file: </span>\n",
       "<span style=\"color: #7f7f7f; text-decoration-color: #7f7f7f\">../log/contracts_analysis_both_20250225_104133/safe/0x0a4b89f0bef2db16a39ecbc7e302907ccd8aff90/classification.json</span>\n",
       "</pre>\n"
      ]
     },
     "metadata": {},
     "output_type": "display_data"
    },
    {
     "data": {
      "text/plain": [
       "\u001B[2m[DEBUG] Loading JSON file: \u001B[0m\n",
       "\u001B[2m../log/contracts_analysis_both_20250225_104133/safe/0x0a4b89f0bef2db16a39ecbc7e302907ccd8aff90/classification.json\u001B[0m\n"
      ],
      "text/html": [
       "<pre style=\"white-space:pre;overflow-x:auto;line-height:normal;font-family:Menlo,'DejaVu Sans Mono',consolas,'Courier New',monospace\"><span style=\"color: #7f7f7f; text-decoration-color: #7f7f7f\">[DEBUG] Loading JSON file: </span>\n",
       "<span style=\"color: #7f7f7f; text-decoration-color: #7f7f7f\">../log/contracts_analysis_both_20250225_104133/safe/0x0a4b89f0bef2db16a39ecbc7e302907ccd8aff90/classification.json</span>\n",
       "</pre>\n"
      ]
     },
     "metadata": {},
     "output_type": "display_data"
    },
    {
     "data": {
      "text/plain": [
       "\u001B[2m[DEBUG] Classification result: safe, Ground truth: safe\u001B[0m\n"
      ],
      "text/html": [
       "<pre style=\"white-space:pre;overflow-x:auto;line-height:normal;font-family:Menlo,'DejaVu Sans Mono',consolas,'Courier New',monospace\"><span style=\"color: #7f7f7f; text-decoration-color: #7f7f7f\">[DEBUG] Classification result: safe, Ground truth: safe</span>\n",
       "</pre>\n"
      ]
     },
     "metadata": {},
     "output_type": "display_data"
    },
    {
     "data": {
      "text/plain": [
       "\u001B[2m[DEBUG] Collecting predictions from directory: \u001B[0m\n",
       "\u001B[2m../log/contracts_analysis_both_20250225_104133/safe/0x0a4b89f0bef2db16a39ecbc7e302907ccd8aff90\u001B[0m\n"
      ],
      "text/html": [
       "<pre style=\"white-space:pre;overflow-x:auto;line-height:normal;font-family:Menlo,'DejaVu Sans Mono',consolas,'Courier New',monospace\"><span style=\"color: #7f7f7f; text-decoration-color: #7f7f7f\">[DEBUG] Collecting predictions from directory: </span>\n",
       "<span style=\"color: #7f7f7f; text-decoration-color: #7f7f7f\">../log/contracts_analysis_both_20250225_104133/safe/0x0a4b89f0bef2db16a39ecbc7e302907ccd8aff90</span>\n",
       "</pre>\n"
      ]
     },
     "metadata": {},
     "output_type": "display_data"
    },
    {
     "data": {
      "text/plain": [
       "\u001B[2m[DEBUG] Loading JSON file: \u001B[0m\n",
       "\u001B[2m../log/contracts_analysis_both_20250225_104133/safe/0x0a4b89f0bef2db16a39ecbc7e302907ccd8aff90/analysis_0x0aa19b3e5\u001B[0m\n",
       "\u001B[2m1dd77e482690263c8af26bec2c6542e.json\u001B[0m\n"
      ],
      "text/html": [
       "<pre style=\"white-space:pre;overflow-x:auto;line-height:normal;font-family:Menlo,'DejaVu Sans Mono',consolas,'Courier New',monospace\"><span style=\"color: #7f7f7f; text-decoration-color: #7f7f7f\">[DEBUG] Loading JSON file: </span>\n",
       "<span style=\"color: #7f7f7f; text-decoration-color: #7f7f7f\">../log/contracts_analysis_both_20250225_104133/safe/0x0a4b89f0bef2db16a39ecbc7e302907ccd8aff90/analysis_0x0aa19b3e5</span>\n",
       "<span style=\"color: #7f7f7f; text-decoration-color: #7f7f7f\">1dd77e482690263c8af26bec2c6542e.json</span>\n",
       "</pre>\n"
      ]
     },
     "metadata": {},
     "output_type": "display_data"
    },
    {
     "data": {
      "text/plain": [
       "\u001B[2m[DEBUG] Loading JSON file: \u001B[0m\n",
       "\u001B[2m../log/contracts_analysis_both_20250225_104133/safe/0x0a4b89f0bef2db16a39ecbc7e302907ccd8aff90/analysis_0x0aab3ac44\u001B[0m\n",
       "\u001B[2m7ea90739bdbe4e0e00af0a54038904a.json\u001B[0m\n"
      ],
      "text/html": [
       "<pre style=\"white-space:pre;overflow-x:auto;line-height:normal;font-family:Menlo,'DejaVu Sans Mono',consolas,'Courier New',monospace\"><span style=\"color: #7f7f7f; text-decoration-color: #7f7f7f\">[DEBUG] Loading JSON file: </span>\n",
       "<span style=\"color: #7f7f7f; text-decoration-color: #7f7f7f\">../log/contracts_analysis_both_20250225_104133/safe/0x0a4b89f0bef2db16a39ecbc7e302907ccd8aff90/analysis_0x0aab3ac44</span>\n",
       "<span style=\"color: #7f7f7f; text-decoration-color: #7f7f7f\">7ea90739bdbe4e0e00af0a54038904a.json</span>\n",
       "</pre>\n"
      ]
     },
     "metadata": {},
     "output_type": "display_data"
    },
    {
     "data": {
      "text/plain": [
       "\u001B[2m[DEBUG] Loading JSON file: \u001B[0m\n",
       "\u001B[2m../log/contracts_analysis_both_20250225_104133/safe/0x0a4b89f0bef2db16a39ecbc7e302907ccd8aff90/analysis_0x0a8c3b7e1\u001B[0m\n",
       "\u001B[2m49891ff594e3ad580f8e1769151a07b.json\u001B[0m\n"
      ],
      "text/html": [
       "<pre style=\"white-space:pre;overflow-x:auto;line-height:normal;font-family:Menlo,'DejaVu Sans Mono',consolas,'Courier New',monospace\"><span style=\"color: #7f7f7f; text-decoration-color: #7f7f7f\">[DEBUG] Loading JSON file: </span>\n",
       "<span style=\"color: #7f7f7f; text-decoration-color: #7f7f7f\">../log/contracts_analysis_both_20250225_104133/safe/0x0a4b89f0bef2db16a39ecbc7e302907ccd8aff90/analysis_0x0a8c3b7e1</span>\n",
       "<span style=\"color: #7f7f7f; text-decoration-color: #7f7f7f\">49891ff594e3ad580f8e1769151a07b.json</span>\n",
       "</pre>\n"
      ]
     },
     "metadata": {},
     "output_type": "display_data"
    },
    {
     "data": {
      "text/plain": [
       "\u001B[2m[DEBUG] Collected predictions: ['safe', 'safe', 'safe']\u001B[0m\n"
      ],
      "text/html": [
       "<pre style=\"white-space:pre;overflow-x:auto;line-height:normal;font-family:Menlo,'DejaVu Sans Mono',consolas,'Courier New',monospace\"><span style=\"color: #7f7f7f; text-decoration-color: #7f7f7f\">[DEBUG] Collected predictions: ['safe', 'safe', 'safe']</span>\n",
       "</pre>\n"
      ]
     },
     "metadata": {},
     "output_type": "display_data"
    },
    {
     "data": {
      "text/plain": [
       "\u001B[2m[DEBUG] Determined ground truth for \u001B[0m\n",
       "\u001B[2m../log/contracts_analysis_both_20250225_104133/safe/0x0a2e4752f5e348cd262662450402e4bc1f1b76fc: safe\u001B[0m\n"
      ],
      "text/html": [
       "<pre style=\"white-space:pre;overflow-x:auto;line-height:normal;font-family:Menlo,'DejaVu Sans Mono',consolas,'Courier New',monospace\"><span style=\"color: #7f7f7f; text-decoration-color: #7f7f7f\">[DEBUG] Determined ground truth for </span>\n",
       "<span style=\"color: #7f7f7f; text-decoration-color: #7f7f7f\">../log/contracts_analysis_both_20250225_104133/safe/0x0a2e4752f5e348cd262662450402e4bc1f1b76fc: safe</span>\n",
       "</pre>\n"
      ]
     },
     "metadata": {},
     "output_type": "display_data"
    },
    {
     "data": {
      "text/plain": [
       "\u001B[2m[DEBUG] Processing classification file: \u001B[0m\n",
       "\u001B[2m../log/contracts_analysis_both_20250225_104133/safe/0x0a2e4752f5e348cd262662450402e4bc1f1b76fc/classification.json\u001B[0m\n"
      ],
      "text/html": [
       "<pre style=\"white-space:pre;overflow-x:auto;line-height:normal;font-family:Menlo,'DejaVu Sans Mono',consolas,'Courier New',monospace\"><span style=\"color: #7f7f7f; text-decoration-color: #7f7f7f\">[DEBUG] Processing classification file: </span>\n",
       "<span style=\"color: #7f7f7f; text-decoration-color: #7f7f7f\">../log/contracts_analysis_both_20250225_104133/safe/0x0a2e4752f5e348cd262662450402e4bc1f1b76fc/classification.json</span>\n",
       "</pre>\n"
      ]
     },
     "metadata": {},
     "output_type": "display_data"
    },
    {
     "data": {
      "text/plain": [
       "\u001B[2m[DEBUG] Loading JSON file: \u001B[0m\n",
       "\u001B[2m../log/contracts_analysis_both_20250225_104133/safe/0x0a2e4752f5e348cd262662450402e4bc1f1b76fc/classification.json\u001B[0m\n"
      ],
      "text/html": [
       "<pre style=\"white-space:pre;overflow-x:auto;line-height:normal;font-family:Menlo,'DejaVu Sans Mono',consolas,'Courier New',monospace\"><span style=\"color: #7f7f7f; text-decoration-color: #7f7f7f\">[DEBUG] Loading JSON file: </span>\n",
       "<span style=\"color: #7f7f7f; text-decoration-color: #7f7f7f\">../log/contracts_analysis_both_20250225_104133/safe/0x0a2e4752f5e348cd262662450402e4bc1f1b76fc/classification.json</span>\n",
       "</pre>\n"
      ]
     },
     "metadata": {},
     "output_type": "display_data"
    },
    {
     "data": {
      "text/plain": [
       "\u001B[2m[DEBUG] Classification result: safe, Ground truth: safe\u001B[0m\n"
      ],
      "text/html": [
       "<pre style=\"white-space:pre;overflow-x:auto;line-height:normal;font-family:Menlo,'DejaVu Sans Mono',consolas,'Courier New',monospace\"><span style=\"color: #7f7f7f; text-decoration-color: #7f7f7f\">[DEBUG] Classification result: safe, Ground truth: safe</span>\n",
       "</pre>\n"
      ]
     },
     "metadata": {},
     "output_type": "display_data"
    },
    {
     "data": {
      "text/plain": [
       "\u001B[2m[DEBUG] Collecting predictions from directory: \u001B[0m\n",
       "\u001B[2m../log/contracts_analysis_both_20250225_104133/safe/0x0a2e4752f5e348cd262662450402e4bc1f1b76fc\u001B[0m\n"
      ],
      "text/html": [
       "<pre style=\"white-space:pre;overflow-x:auto;line-height:normal;font-family:Menlo,'DejaVu Sans Mono',consolas,'Courier New',monospace\"><span style=\"color: #7f7f7f; text-decoration-color: #7f7f7f\">[DEBUG] Collecting predictions from directory: </span>\n",
       "<span style=\"color: #7f7f7f; text-decoration-color: #7f7f7f\">../log/contracts_analysis_both_20250225_104133/safe/0x0a2e4752f5e348cd262662450402e4bc1f1b76fc</span>\n",
       "</pre>\n"
      ]
     },
     "metadata": {},
     "output_type": "display_data"
    },
    {
     "data": {
      "text/plain": [
       "\u001B[2m[DEBUG] Loading JSON file: \u001B[0m\n",
       "\u001B[2m../log/contracts_analysis_both_20250225_104133/safe/0x0a2e4752f5e348cd262662450402e4bc1f1b76fc/analysis_0x0aa19b3e5\u001B[0m\n",
       "\u001B[2m1dd77e482690263c8af26bec2c6542e.json\u001B[0m\n"
      ],
      "text/html": [
       "<pre style=\"white-space:pre;overflow-x:auto;line-height:normal;font-family:Menlo,'DejaVu Sans Mono',consolas,'Courier New',monospace\"><span style=\"color: #7f7f7f; text-decoration-color: #7f7f7f\">[DEBUG] Loading JSON file: </span>\n",
       "<span style=\"color: #7f7f7f; text-decoration-color: #7f7f7f\">../log/contracts_analysis_both_20250225_104133/safe/0x0a2e4752f5e348cd262662450402e4bc1f1b76fc/analysis_0x0aa19b3e5</span>\n",
       "<span style=\"color: #7f7f7f; text-decoration-color: #7f7f7f\">1dd77e482690263c8af26bec2c6542e.json</span>\n",
       "</pre>\n"
      ]
     },
     "metadata": {},
     "output_type": "display_data"
    },
    {
     "data": {
      "text/plain": [
       "\u001B[2m[DEBUG] Loading JSON file: \u001B[0m\n",
       "\u001B[2m../log/contracts_analysis_both_20250225_104133/safe/0x0a2e4752f5e348cd262662450402e4bc1f1b76fc/analysis_0x0aab3ac44\u001B[0m\n",
       "\u001B[2m7ea90739bdbe4e0e00af0a54038904a.json\u001B[0m\n"
      ],
      "text/html": [
       "<pre style=\"white-space:pre;overflow-x:auto;line-height:normal;font-family:Menlo,'DejaVu Sans Mono',consolas,'Courier New',monospace\"><span style=\"color: #7f7f7f; text-decoration-color: #7f7f7f\">[DEBUG] Loading JSON file: </span>\n",
       "<span style=\"color: #7f7f7f; text-decoration-color: #7f7f7f\">../log/contracts_analysis_both_20250225_104133/safe/0x0a2e4752f5e348cd262662450402e4bc1f1b76fc/analysis_0x0aab3ac44</span>\n",
       "<span style=\"color: #7f7f7f; text-decoration-color: #7f7f7f\">7ea90739bdbe4e0e00af0a54038904a.json</span>\n",
       "</pre>\n"
      ]
     },
     "metadata": {},
     "output_type": "display_data"
    },
    {
     "data": {
      "text/plain": [
       "\u001B[2m[DEBUG] Loading JSON file: \u001B[0m\n",
       "\u001B[2m../log/contracts_analysis_both_20250225_104133/safe/0x0a2e4752f5e348cd262662450402e4bc1f1b76fc/analysis_0x0a8c3b7e1\u001B[0m\n",
       "\u001B[2m49891ff594e3ad580f8e1769151a07b.json\u001B[0m\n"
      ],
      "text/html": [
       "<pre style=\"white-space:pre;overflow-x:auto;line-height:normal;font-family:Menlo,'DejaVu Sans Mono',consolas,'Courier New',monospace\"><span style=\"color: #7f7f7f; text-decoration-color: #7f7f7f\">[DEBUG] Loading JSON file: </span>\n",
       "<span style=\"color: #7f7f7f; text-decoration-color: #7f7f7f\">../log/contracts_analysis_both_20250225_104133/safe/0x0a2e4752f5e348cd262662450402e4bc1f1b76fc/analysis_0x0a8c3b7e1</span>\n",
       "<span style=\"color: #7f7f7f; text-decoration-color: #7f7f7f\">49891ff594e3ad580f8e1769151a07b.json</span>\n",
       "</pre>\n"
      ]
     },
     "metadata": {},
     "output_type": "display_data"
    },
    {
     "data": {
      "text/plain": [
       "\u001B[2m[DEBUG] Collected predictions: ['safe', 'safe', 'safe']\u001B[0m\n"
      ],
      "text/html": [
       "<pre style=\"white-space:pre;overflow-x:auto;line-height:normal;font-family:Menlo,'DejaVu Sans Mono',consolas,'Courier New',monospace\"><span style=\"color: #7f7f7f; text-decoration-color: #7f7f7f\">[DEBUG] Collected predictions: ['safe', 'safe', 'safe']</span>\n",
       "</pre>\n"
      ]
     },
     "metadata": {},
     "output_type": "display_data"
    },
    {
     "data": {
      "text/plain": [
       "\u001B[2m[DEBUG] Determined ground truth for \u001B[0m\n",
       "\u001B[2m../log/contracts_analysis_both_20250225_104133/safe/0x0a1d5206aa237216726254bbd15a599e7bd878e4: safe\u001B[0m\n"
      ],
      "text/html": [
       "<pre style=\"white-space:pre;overflow-x:auto;line-height:normal;font-family:Menlo,'DejaVu Sans Mono',consolas,'Courier New',monospace\"><span style=\"color: #7f7f7f; text-decoration-color: #7f7f7f\">[DEBUG] Determined ground truth for </span>\n",
       "<span style=\"color: #7f7f7f; text-decoration-color: #7f7f7f\">../log/contracts_analysis_both_20250225_104133/safe/0x0a1d5206aa237216726254bbd15a599e7bd878e4: safe</span>\n",
       "</pre>\n"
      ]
     },
     "metadata": {},
     "output_type": "display_data"
    },
    {
     "data": {
      "text/plain": [
       "\u001B[2m[DEBUG] Processing classification file: \u001B[0m\n",
       "\u001B[2m../log/contracts_analysis_both_20250225_104133/safe/0x0a1d5206aa237216726254bbd15a599e7bd878e4/classification.json\u001B[0m\n"
      ],
      "text/html": [
       "<pre style=\"white-space:pre;overflow-x:auto;line-height:normal;font-family:Menlo,'DejaVu Sans Mono',consolas,'Courier New',monospace\"><span style=\"color: #7f7f7f; text-decoration-color: #7f7f7f\">[DEBUG] Processing classification file: </span>\n",
       "<span style=\"color: #7f7f7f; text-decoration-color: #7f7f7f\">../log/contracts_analysis_both_20250225_104133/safe/0x0a1d5206aa237216726254bbd15a599e7bd878e4/classification.json</span>\n",
       "</pre>\n"
      ]
     },
     "metadata": {},
     "output_type": "display_data"
    },
    {
     "data": {
      "text/plain": [
       "\u001B[2m[DEBUG] Loading JSON file: \u001B[0m\n",
       "\u001B[2m../log/contracts_analysis_both_20250225_104133/safe/0x0a1d5206aa237216726254bbd15a599e7bd878e4/classification.json\u001B[0m\n"
      ],
      "text/html": [
       "<pre style=\"white-space:pre;overflow-x:auto;line-height:normal;font-family:Menlo,'DejaVu Sans Mono',consolas,'Courier New',monospace\"><span style=\"color: #7f7f7f; text-decoration-color: #7f7f7f\">[DEBUG] Loading JSON file: </span>\n",
       "<span style=\"color: #7f7f7f; text-decoration-color: #7f7f7f\">../log/contracts_analysis_both_20250225_104133/safe/0x0a1d5206aa237216726254bbd15a599e7bd878e4/classification.json</span>\n",
       "</pre>\n"
      ]
     },
     "metadata": {},
     "output_type": "display_data"
    },
    {
     "data": {
      "text/plain": [
       "\u001B[2m[DEBUG] Classification result: safe, Ground truth: safe\u001B[0m\n"
      ],
      "text/html": [
       "<pre style=\"white-space:pre;overflow-x:auto;line-height:normal;font-family:Menlo,'DejaVu Sans Mono',consolas,'Courier New',monospace\"><span style=\"color: #7f7f7f; text-decoration-color: #7f7f7f\">[DEBUG] Classification result: safe, Ground truth: safe</span>\n",
       "</pre>\n"
      ]
     },
     "metadata": {},
     "output_type": "display_data"
    },
    {
     "data": {
      "text/plain": [
       "\u001B[2m[DEBUG] Collecting predictions from directory: \u001B[0m\n",
       "\u001B[2m../log/contracts_analysis_both_20250225_104133/safe/0x0a1d5206aa237216726254bbd15a599e7bd878e4\u001B[0m\n"
      ],
      "text/html": [
       "<pre style=\"white-space:pre;overflow-x:auto;line-height:normal;font-family:Menlo,'DejaVu Sans Mono',consolas,'Courier New',monospace\"><span style=\"color: #7f7f7f; text-decoration-color: #7f7f7f\">[DEBUG] Collecting predictions from directory: </span>\n",
       "<span style=\"color: #7f7f7f; text-decoration-color: #7f7f7f\">../log/contracts_analysis_both_20250225_104133/safe/0x0a1d5206aa237216726254bbd15a599e7bd878e4</span>\n",
       "</pre>\n"
      ]
     },
     "metadata": {},
     "output_type": "display_data"
    },
    {
     "data": {
      "text/plain": [
       "\u001B[2m[DEBUG] Loading JSON file: \u001B[0m\n",
       "\u001B[2m../log/contracts_analysis_both_20250225_104133/safe/0x0a1d5206aa237216726254bbd15a599e7bd878e4/analysis_0x0aa19b3e5\u001B[0m\n",
       "\u001B[2m1dd77e482690263c8af26bec2c6542e.json\u001B[0m\n"
      ],
      "text/html": [
       "<pre style=\"white-space:pre;overflow-x:auto;line-height:normal;font-family:Menlo,'DejaVu Sans Mono',consolas,'Courier New',monospace\"><span style=\"color: #7f7f7f; text-decoration-color: #7f7f7f\">[DEBUG] Loading JSON file: </span>\n",
       "<span style=\"color: #7f7f7f; text-decoration-color: #7f7f7f\">../log/contracts_analysis_both_20250225_104133/safe/0x0a1d5206aa237216726254bbd15a599e7bd878e4/analysis_0x0aa19b3e5</span>\n",
       "<span style=\"color: #7f7f7f; text-decoration-color: #7f7f7f\">1dd77e482690263c8af26bec2c6542e.json</span>\n",
       "</pre>\n"
      ]
     },
     "metadata": {},
     "output_type": "display_data"
    },
    {
     "data": {
      "text/plain": [
       "\u001B[2m[DEBUG] Loading JSON file: \u001B[0m\n",
       "\u001B[2m../log/contracts_analysis_both_20250225_104133/safe/0x0a1d5206aa237216726254bbd15a599e7bd878e4/analysis_0x0aab3ac44\u001B[0m\n",
       "\u001B[2m7ea90739bdbe4e0e00af0a54038904a.json\u001B[0m\n"
      ],
      "text/html": [
       "<pre style=\"white-space:pre;overflow-x:auto;line-height:normal;font-family:Menlo,'DejaVu Sans Mono',consolas,'Courier New',monospace\"><span style=\"color: #7f7f7f; text-decoration-color: #7f7f7f\">[DEBUG] Loading JSON file: </span>\n",
       "<span style=\"color: #7f7f7f; text-decoration-color: #7f7f7f\">../log/contracts_analysis_both_20250225_104133/safe/0x0a1d5206aa237216726254bbd15a599e7bd878e4/analysis_0x0aab3ac44</span>\n",
       "<span style=\"color: #7f7f7f; text-decoration-color: #7f7f7f\">7ea90739bdbe4e0e00af0a54038904a.json</span>\n",
       "</pre>\n"
      ]
     },
     "metadata": {},
     "output_type": "display_data"
    },
    {
     "data": {
      "text/plain": [
       "\u001B[2m[DEBUG] Loading JSON file: \u001B[0m\n",
       "\u001B[2m../log/contracts_analysis_both_20250225_104133/safe/0x0a1d5206aa237216726254bbd15a599e7bd878e4/analysis_0x0a8c3b7e1\u001B[0m\n",
       "\u001B[2m49891ff594e3ad580f8e1769151a07b.json\u001B[0m\n"
      ],
      "text/html": [
       "<pre style=\"white-space:pre;overflow-x:auto;line-height:normal;font-family:Menlo,'DejaVu Sans Mono',consolas,'Courier New',monospace\"><span style=\"color: #7f7f7f; text-decoration-color: #7f7f7f\">[DEBUG] Loading JSON file: </span>\n",
       "<span style=\"color: #7f7f7f; text-decoration-color: #7f7f7f\">../log/contracts_analysis_both_20250225_104133/safe/0x0a1d5206aa237216726254bbd15a599e7bd878e4/analysis_0x0a8c3b7e1</span>\n",
       "<span style=\"color: #7f7f7f; text-decoration-color: #7f7f7f\">49891ff594e3ad580f8e1769151a07b.json</span>\n",
       "</pre>\n"
      ]
     },
     "metadata": {},
     "output_type": "display_data"
    },
    {
     "data": {
      "text/plain": [
       "\u001B[2m[DEBUG] Collected predictions: ['safe', 'safe', 'safe']\u001B[0m\n"
      ],
      "text/html": [
       "<pre style=\"white-space:pre;overflow-x:auto;line-height:normal;font-family:Menlo,'DejaVu Sans Mono',consolas,'Courier New',monospace\"><span style=\"color: #7f7f7f; text-decoration-color: #7f7f7f\">[DEBUG] Collected predictions: ['safe', 'safe', 'safe']</span>\n",
       "</pre>\n"
      ]
     },
     "metadata": {},
     "output_type": "display_data"
    },
    {
     "data": {
      "text/plain": [
       "\u001B[2m[DEBUG] Determined ground truth for \u001B[0m\n",
       "\u001B[2m../log/contracts_analysis_both_20250225_104133/safe/0x0a2e78c86747406fdae371178ae25ae21c36cf77: safe\u001B[0m\n"
      ],
      "text/html": [
       "<pre style=\"white-space:pre;overflow-x:auto;line-height:normal;font-family:Menlo,'DejaVu Sans Mono',consolas,'Courier New',monospace\"><span style=\"color: #7f7f7f; text-decoration-color: #7f7f7f\">[DEBUG] Determined ground truth for </span>\n",
       "<span style=\"color: #7f7f7f; text-decoration-color: #7f7f7f\">../log/contracts_analysis_both_20250225_104133/safe/0x0a2e78c86747406fdae371178ae25ae21c36cf77: safe</span>\n",
       "</pre>\n"
      ]
     },
     "metadata": {},
     "output_type": "display_data"
    },
    {
     "data": {
      "text/plain": [
       "\u001B[2m[DEBUG] Processing classification file: \u001B[0m\n",
       "\u001B[2m../log/contracts_analysis_both_20250225_104133/safe/0x0a2e78c86747406fdae371178ae25ae21c36cf77/classification.json\u001B[0m\n"
      ],
      "text/html": [
       "<pre style=\"white-space:pre;overflow-x:auto;line-height:normal;font-family:Menlo,'DejaVu Sans Mono',consolas,'Courier New',monospace\"><span style=\"color: #7f7f7f; text-decoration-color: #7f7f7f\">[DEBUG] Processing classification file: </span>\n",
       "<span style=\"color: #7f7f7f; text-decoration-color: #7f7f7f\">../log/contracts_analysis_both_20250225_104133/safe/0x0a2e78c86747406fdae371178ae25ae21c36cf77/classification.json</span>\n",
       "</pre>\n"
      ]
     },
     "metadata": {},
     "output_type": "display_data"
    },
    {
     "data": {
      "text/plain": [
       "\u001B[2m[DEBUG] Loading JSON file: \u001B[0m\n",
       "\u001B[2m../log/contracts_analysis_both_20250225_104133/safe/0x0a2e78c86747406fdae371178ae25ae21c36cf77/classification.json\u001B[0m\n"
      ],
      "text/html": [
       "<pre style=\"white-space:pre;overflow-x:auto;line-height:normal;font-family:Menlo,'DejaVu Sans Mono',consolas,'Courier New',monospace\"><span style=\"color: #7f7f7f; text-decoration-color: #7f7f7f\">[DEBUG] Loading JSON file: </span>\n",
       "<span style=\"color: #7f7f7f; text-decoration-color: #7f7f7f\">../log/contracts_analysis_both_20250225_104133/safe/0x0a2e78c86747406fdae371178ae25ae21c36cf77/classification.json</span>\n",
       "</pre>\n"
      ]
     },
     "metadata": {},
     "output_type": "display_data"
    },
    {
     "data": {
      "text/plain": [
       "\u001B[2m[DEBUG] Classification result: safe, Ground truth: safe\u001B[0m\n"
      ],
      "text/html": [
       "<pre style=\"white-space:pre;overflow-x:auto;line-height:normal;font-family:Menlo,'DejaVu Sans Mono',consolas,'Courier New',monospace\"><span style=\"color: #7f7f7f; text-decoration-color: #7f7f7f\">[DEBUG] Classification result: safe, Ground truth: safe</span>\n",
       "</pre>\n"
      ]
     },
     "metadata": {},
     "output_type": "display_data"
    },
    {
     "data": {
      "text/plain": [
       "\u001B[2m[DEBUG] Collecting predictions from directory: \u001B[0m\n",
       "\u001B[2m../log/contracts_analysis_both_20250225_104133/safe/0x0a2e78c86747406fdae371178ae25ae21c36cf77\u001B[0m\n"
      ],
      "text/html": [
       "<pre style=\"white-space:pre;overflow-x:auto;line-height:normal;font-family:Menlo,'DejaVu Sans Mono',consolas,'Courier New',monospace\"><span style=\"color: #7f7f7f; text-decoration-color: #7f7f7f\">[DEBUG] Collecting predictions from directory: </span>\n",
       "<span style=\"color: #7f7f7f; text-decoration-color: #7f7f7f\">../log/contracts_analysis_both_20250225_104133/safe/0x0a2e78c86747406fdae371178ae25ae21c36cf77</span>\n",
       "</pre>\n"
      ]
     },
     "metadata": {},
     "output_type": "display_data"
    },
    {
     "data": {
      "text/plain": [
       "\u001B[2m[DEBUG] Loading JSON file: \u001B[0m\n",
       "\u001B[2m../log/contracts_analysis_both_20250225_104133/safe/0x0a2e78c86747406fdae371178ae25ae21c36cf77/analysis_0x0aa19b3e5\u001B[0m\n",
       "\u001B[2m1dd77e482690263c8af26bec2c6542e.json\u001B[0m\n"
      ],
      "text/html": [
       "<pre style=\"white-space:pre;overflow-x:auto;line-height:normal;font-family:Menlo,'DejaVu Sans Mono',consolas,'Courier New',monospace\"><span style=\"color: #7f7f7f; text-decoration-color: #7f7f7f\">[DEBUG] Loading JSON file: </span>\n",
       "<span style=\"color: #7f7f7f; text-decoration-color: #7f7f7f\">../log/contracts_analysis_both_20250225_104133/safe/0x0a2e78c86747406fdae371178ae25ae21c36cf77/analysis_0x0aa19b3e5</span>\n",
       "<span style=\"color: #7f7f7f; text-decoration-color: #7f7f7f\">1dd77e482690263c8af26bec2c6542e.json</span>\n",
       "</pre>\n"
      ]
     },
     "metadata": {},
     "output_type": "display_data"
    },
    {
     "data": {
      "text/plain": [
       "\u001B[2m[DEBUG] Loading JSON file: \u001B[0m\n",
       "\u001B[2m../log/contracts_analysis_both_20250225_104133/safe/0x0a2e78c86747406fdae371178ae25ae21c36cf77/analysis_0x0aab3ac44\u001B[0m\n",
       "\u001B[2m7ea90739bdbe4e0e00af0a54038904a.json\u001B[0m\n"
      ],
      "text/html": [
       "<pre style=\"white-space:pre;overflow-x:auto;line-height:normal;font-family:Menlo,'DejaVu Sans Mono',consolas,'Courier New',monospace\"><span style=\"color: #7f7f7f; text-decoration-color: #7f7f7f\">[DEBUG] Loading JSON file: </span>\n",
       "<span style=\"color: #7f7f7f; text-decoration-color: #7f7f7f\">../log/contracts_analysis_both_20250225_104133/safe/0x0a2e78c86747406fdae371178ae25ae21c36cf77/analysis_0x0aab3ac44</span>\n",
       "<span style=\"color: #7f7f7f; text-decoration-color: #7f7f7f\">7ea90739bdbe4e0e00af0a54038904a.json</span>\n",
       "</pre>\n"
      ]
     },
     "metadata": {},
     "output_type": "display_data"
    },
    {
     "data": {
      "text/plain": [
       "\u001B[2m[DEBUG] Loading JSON file: \u001B[0m\n",
       "\u001B[2m../log/contracts_analysis_both_20250225_104133/safe/0x0a2e78c86747406fdae371178ae25ae21c36cf77/analysis_0x0a8c3b7e1\u001B[0m\n",
       "\u001B[2m49891ff594e3ad580f8e1769151a07b.json\u001B[0m\n"
      ],
      "text/html": [
       "<pre style=\"white-space:pre;overflow-x:auto;line-height:normal;font-family:Menlo,'DejaVu Sans Mono',consolas,'Courier New',monospace\"><span style=\"color: #7f7f7f; text-decoration-color: #7f7f7f\">[DEBUG] Loading JSON file: </span>\n",
       "<span style=\"color: #7f7f7f; text-decoration-color: #7f7f7f\">../log/contracts_analysis_both_20250225_104133/safe/0x0a2e78c86747406fdae371178ae25ae21c36cf77/analysis_0x0a8c3b7e1</span>\n",
       "<span style=\"color: #7f7f7f; text-decoration-color: #7f7f7f\">49891ff594e3ad580f8e1769151a07b.json</span>\n",
       "</pre>\n"
      ]
     },
     "metadata": {},
     "output_type": "display_data"
    },
    {
     "data": {
      "text/plain": [
       "\u001B[2m[DEBUG] Collected predictions: ['safe', 'safe', 'safe']\u001B[0m\n"
      ],
      "text/html": [
       "<pre style=\"white-space:pre;overflow-x:auto;line-height:normal;font-family:Menlo,'DejaVu Sans Mono',consolas,'Courier New',monospace\"><span style=\"color: #7f7f7f; text-decoration-color: #7f7f7f\">[DEBUG] Collected predictions: ['safe', 'safe', 'safe']</span>\n",
       "</pre>\n"
      ]
     },
     "metadata": {},
     "output_type": "display_data"
    },
    {
     "data": {
      "text/plain": [
       "\u001B[2m[DEBUG] Determined ground truth for \u001B[0m\n",
       "\u001B[2m../log/contracts_analysis_both_20250225_104133/safe/0x0a3ed956f14d3c725f2a04117e2f25b12dd3dec3: safe\u001B[0m\n"
      ],
      "text/html": [
       "<pre style=\"white-space:pre;overflow-x:auto;line-height:normal;font-family:Menlo,'DejaVu Sans Mono',consolas,'Courier New',monospace\"><span style=\"color: #7f7f7f; text-decoration-color: #7f7f7f\">[DEBUG] Determined ground truth for </span>\n",
       "<span style=\"color: #7f7f7f; text-decoration-color: #7f7f7f\">../log/contracts_analysis_both_20250225_104133/safe/0x0a3ed956f14d3c725f2a04117e2f25b12dd3dec3: safe</span>\n",
       "</pre>\n"
      ]
     },
     "metadata": {},
     "output_type": "display_data"
    },
    {
     "data": {
      "text/plain": [
       "\u001B[2m[DEBUG] Processing classification file: \u001B[0m\n",
       "\u001B[2m../log/contracts_analysis_both_20250225_104133/safe/0x0a3ed956f14d3c725f2a04117e2f25b12dd3dec3/classification.json\u001B[0m\n"
      ],
      "text/html": [
       "<pre style=\"white-space:pre;overflow-x:auto;line-height:normal;font-family:Menlo,'DejaVu Sans Mono',consolas,'Courier New',monospace\"><span style=\"color: #7f7f7f; text-decoration-color: #7f7f7f\">[DEBUG] Processing classification file: </span>\n",
       "<span style=\"color: #7f7f7f; text-decoration-color: #7f7f7f\">../log/contracts_analysis_both_20250225_104133/safe/0x0a3ed956f14d3c725f2a04117e2f25b12dd3dec3/classification.json</span>\n",
       "</pre>\n"
      ]
     },
     "metadata": {},
     "output_type": "display_data"
    },
    {
     "data": {
      "text/plain": [
       "\u001B[2m[DEBUG] Loading JSON file: \u001B[0m\n",
       "\u001B[2m../log/contracts_analysis_both_20250225_104133/safe/0x0a3ed956f14d3c725f2a04117e2f25b12dd3dec3/classification.json\u001B[0m\n"
      ],
      "text/html": [
       "<pre style=\"white-space:pre;overflow-x:auto;line-height:normal;font-family:Menlo,'DejaVu Sans Mono',consolas,'Courier New',monospace\"><span style=\"color: #7f7f7f; text-decoration-color: #7f7f7f\">[DEBUG] Loading JSON file: </span>\n",
       "<span style=\"color: #7f7f7f; text-decoration-color: #7f7f7f\">../log/contracts_analysis_both_20250225_104133/safe/0x0a3ed956f14d3c725f2a04117e2f25b12dd3dec3/classification.json</span>\n",
       "</pre>\n"
      ]
     },
     "metadata": {},
     "output_type": "display_data"
    },
    {
     "data": {
      "text/plain": [
       "\u001B[2m[DEBUG] Classification result: safe, Ground truth: safe\u001B[0m\n"
      ],
      "text/html": [
       "<pre style=\"white-space:pre;overflow-x:auto;line-height:normal;font-family:Menlo,'DejaVu Sans Mono',consolas,'Courier New',monospace\"><span style=\"color: #7f7f7f; text-decoration-color: #7f7f7f\">[DEBUG] Classification result: safe, Ground truth: safe</span>\n",
       "</pre>\n"
      ]
     },
     "metadata": {},
     "output_type": "display_data"
    },
    {
     "data": {
      "text/plain": [
       "\u001B[2m[DEBUG] Collecting predictions from directory: \u001B[0m\n",
       "\u001B[2m../log/contracts_analysis_both_20250225_104133/safe/0x0a3ed956f14d3c725f2a04117e2f25b12dd3dec3\u001B[0m\n"
      ],
      "text/html": [
       "<pre style=\"white-space:pre;overflow-x:auto;line-height:normal;font-family:Menlo,'DejaVu Sans Mono',consolas,'Courier New',monospace\"><span style=\"color: #7f7f7f; text-decoration-color: #7f7f7f\">[DEBUG] Collecting predictions from directory: </span>\n",
       "<span style=\"color: #7f7f7f; text-decoration-color: #7f7f7f\">../log/contracts_analysis_both_20250225_104133/safe/0x0a3ed956f14d3c725f2a04117e2f25b12dd3dec3</span>\n",
       "</pre>\n"
      ]
     },
     "metadata": {},
     "output_type": "display_data"
    },
    {
     "data": {
      "text/plain": [
       "\u001B[2m[DEBUG] Loading JSON file: \u001B[0m\n",
       "\u001B[2m../log/contracts_analysis_both_20250225_104133/safe/0x0a3ed956f14d3c725f2a04117e2f25b12dd3dec3/analysis_0x0aa19b3e5\u001B[0m\n",
       "\u001B[2m1dd77e482690263c8af26bec2c6542e.json\u001B[0m\n"
      ],
      "text/html": [
       "<pre style=\"white-space:pre;overflow-x:auto;line-height:normal;font-family:Menlo,'DejaVu Sans Mono',consolas,'Courier New',monospace\"><span style=\"color: #7f7f7f; text-decoration-color: #7f7f7f\">[DEBUG] Loading JSON file: </span>\n",
       "<span style=\"color: #7f7f7f; text-decoration-color: #7f7f7f\">../log/contracts_analysis_both_20250225_104133/safe/0x0a3ed956f14d3c725f2a04117e2f25b12dd3dec3/analysis_0x0aa19b3e5</span>\n",
       "<span style=\"color: #7f7f7f; text-decoration-color: #7f7f7f\">1dd77e482690263c8af26bec2c6542e.json</span>\n",
       "</pre>\n"
      ]
     },
     "metadata": {},
     "output_type": "display_data"
    },
    {
     "data": {
      "text/plain": [
       "\u001B[2m[DEBUG] Loading JSON file: \u001B[0m\n",
       "\u001B[2m../log/contracts_analysis_both_20250225_104133/safe/0x0a3ed956f14d3c725f2a04117e2f25b12dd3dec3/analysis_0x0aab3ac44\u001B[0m\n",
       "\u001B[2m7ea90739bdbe4e0e00af0a54038904a.json\u001B[0m\n"
      ],
      "text/html": [
       "<pre style=\"white-space:pre;overflow-x:auto;line-height:normal;font-family:Menlo,'DejaVu Sans Mono',consolas,'Courier New',monospace\"><span style=\"color: #7f7f7f; text-decoration-color: #7f7f7f\">[DEBUG] Loading JSON file: </span>\n",
       "<span style=\"color: #7f7f7f; text-decoration-color: #7f7f7f\">../log/contracts_analysis_both_20250225_104133/safe/0x0a3ed956f14d3c725f2a04117e2f25b12dd3dec3/analysis_0x0aab3ac44</span>\n",
       "<span style=\"color: #7f7f7f; text-decoration-color: #7f7f7f\">7ea90739bdbe4e0e00af0a54038904a.json</span>\n",
       "</pre>\n"
      ]
     },
     "metadata": {},
     "output_type": "display_data"
    },
    {
     "data": {
      "text/plain": [
       "\u001B[2m[DEBUG] Loading JSON file: \u001B[0m\n",
       "\u001B[2m../log/contracts_analysis_both_20250225_104133/safe/0x0a3ed956f14d3c725f2a04117e2f25b12dd3dec3/analysis_0x0a8c3b7e1\u001B[0m\n",
       "\u001B[2m49891ff594e3ad580f8e1769151a07b.json\u001B[0m\n"
      ],
      "text/html": [
       "<pre style=\"white-space:pre;overflow-x:auto;line-height:normal;font-family:Menlo,'DejaVu Sans Mono',consolas,'Courier New',monospace\"><span style=\"color: #7f7f7f; text-decoration-color: #7f7f7f\">[DEBUG] Loading JSON file: </span>\n",
       "<span style=\"color: #7f7f7f; text-decoration-color: #7f7f7f\">../log/contracts_analysis_both_20250225_104133/safe/0x0a3ed956f14d3c725f2a04117e2f25b12dd3dec3/analysis_0x0a8c3b7e1</span>\n",
       "<span style=\"color: #7f7f7f; text-decoration-color: #7f7f7f\">49891ff594e3ad580f8e1769151a07b.json</span>\n",
       "</pre>\n"
      ]
     },
     "metadata": {},
     "output_type": "display_data"
    },
    {
     "data": {
      "text/plain": [
       "\u001B[2m[DEBUG] Collected predictions: ['safe', 'safe', 'safe']\u001B[0m\n"
      ],
      "text/html": [
       "<pre style=\"white-space:pre;overflow-x:auto;line-height:normal;font-family:Menlo,'DejaVu Sans Mono',consolas,'Courier New',monospace\"><span style=\"color: #7f7f7f; text-decoration-color: #7f7f7f\">[DEBUG] Collected predictions: ['safe', 'safe', 'safe']</span>\n",
       "</pre>\n"
      ]
     },
     "metadata": {},
     "output_type": "display_data"
    },
    {
     "name": "stderr",
     "output_type": "stream",
     "text": [
      "Processing contracts:  24%|██▍       | 23/96 [00:00<00:02, 28.33it/s]"
     ]
    },
    {
     "data": {
      "text/plain": [
       "\u001B[2m[DEBUG] Determined ground truth for \u001B[0m\n",
       "\u001B[2m../log/contracts_analysis_both_20250225_104133/safe/0x0a02dde8c2be1d189022a50927dfca42dc1079f2: safe\u001B[0m\n"
      ],
      "text/html": [
       "<pre style=\"white-space:pre;overflow-x:auto;line-height:normal;font-family:Menlo,'DejaVu Sans Mono',consolas,'Courier New',monospace\"><span style=\"color: #7f7f7f; text-decoration-color: #7f7f7f\">[DEBUG] Determined ground truth for </span>\n",
       "<span style=\"color: #7f7f7f; text-decoration-color: #7f7f7f\">../log/contracts_analysis_both_20250225_104133/safe/0x0a02dde8c2be1d189022a50927dfca42dc1079f2: safe</span>\n",
       "</pre>\n"
      ]
     },
     "metadata": {},
     "output_type": "display_data"
    },
    {
     "data": {
      "text/plain": [
       "\u001B[2m[DEBUG] Processing classification file: \u001B[0m\n",
       "\u001B[2m../log/contracts_analysis_both_20250225_104133/safe/0x0a02dde8c2be1d189022a50927dfca42dc1079f2/classification.json\u001B[0m\n"
      ],
      "text/html": [
       "<pre style=\"white-space:pre;overflow-x:auto;line-height:normal;font-family:Menlo,'DejaVu Sans Mono',consolas,'Courier New',monospace\"><span style=\"color: #7f7f7f; text-decoration-color: #7f7f7f\">[DEBUG] Processing classification file: </span>\n",
       "<span style=\"color: #7f7f7f; text-decoration-color: #7f7f7f\">../log/contracts_analysis_both_20250225_104133/safe/0x0a02dde8c2be1d189022a50927dfca42dc1079f2/classification.json</span>\n",
       "</pre>\n"
      ]
     },
     "metadata": {},
     "output_type": "display_data"
    },
    {
     "data": {
      "text/plain": [
       "\u001B[2m[DEBUG] Loading JSON file: \u001B[0m\n",
       "\u001B[2m../log/contracts_analysis_both_20250225_104133/safe/0x0a02dde8c2be1d189022a50927dfca42dc1079f2/classification.json\u001B[0m\n"
      ],
      "text/html": [
       "<pre style=\"white-space:pre;overflow-x:auto;line-height:normal;font-family:Menlo,'DejaVu Sans Mono',consolas,'Courier New',monospace\"><span style=\"color: #7f7f7f; text-decoration-color: #7f7f7f\">[DEBUG] Loading JSON file: </span>\n",
       "<span style=\"color: #7f7f7f; text-decoration-color: #7f7f7f\">../log/contracts_analysis_both_20250225_104133/safe/0x0a02dde8c2be1d189022a50927dfca42dc1079f2/classification.json</span>\n",
       "</pre>\n"
      ]
     },
     "metadata": {},
     "output_type": "display_data"
    },
    {
     "data": {
      "text/plain": [
       "\u001B[2m[DEBUG] Classification result: safe, Ground truth: safe\u001B[0m\n"
      ],
      "text/html": [
       "<pre style=\"white-space:pre;overflow-x:auto;line-height:normal;font-family:Menlo,'DejaVu Sans Mono',consolas,'Courier New',monospace\"><span style=\"color: #7f7f7f; text-decoration-color: #7f7f7f\">[DEBUG] Classification result: safe, Ground truth: safe</span>\n",
       "</pre>\n"
      ]
     },
     "metadata": {},
     "output_type": "display_data"
    },
    {
     "data": {
      "text/plain": [
       "\u001B[2m[DEBUG] Collecting predictions from directory: \u001B[0m\n",
       "\u001B[2m../log/contracts_analysis_both_20250225_104133/safe/0x0a02dde8c2be1d189022a50927dfca42dc1079f2\u001B[0m\n"
      ],
      "text/html": [
       "<pre style=\"white-space:pre;overflow-x:auto;line-height:normal;font-family:Menlo,'DejaVu Sans Mono',consolas,'Courier New',monospace\"><span style=\"color: #7f7f7f; text-decoration-color: #7f7f7f\">[DEBUG] Collecting predictions from directory: </span>\n",
       "<span style=\"color: #7f7f7f; text-decoration-color: #7f7f7f\">../log/contracts_analysis_both_20250225_104133/safe/0x0a02dde8c2be1d189022a50927dfca42dc1079f2</span>\n",
       "</pre>\n"
      ]
     },
     "metadata": {},
     "output_type": "display_data"
    },
    {
     "data": {
      "text/plain": [
       "\u001B[2m[DEBUG] Loading JSON file: \u001B[0m\n",
       "\u001B[2m../log/contracts_analysis_both_20250225_104133/safe/0x0a02dde8c2be1d189022a50927dfca42dc1079f2/analysis_0x0aa19b3e5\u001B[0m\n",
       "\u001B[2m1dd77e482690263c8af26bec2c6542e.json\u001B[0m\n"
      ],
      "text/html": [
       "<pre style=\"white-space:pre;overflow-x:auto;line-height:normal;font-family:Menlo,'DejaVu Sans Mono',consolas,'Courier New',monospace\"><span style=\"color: #7f7f7f; text-decoration-color: #7f7f7f\">[DEBUG] Loading JSON file: </span>\n",
       "<span style=\"color: #7f7f7f; text-decoration-color: #7f7f7f\">../log/contracts_analysis_both_20250225_104133/safe/0x0a02dde8c2be1d189022a50927dfca42dc1079f2/analysis_0x0aa19b3e5</span>\n",
       "<span style=\"color: #7f7f7f; text-decoration-color: #7f7f7f\">1dd77e482690263c8af26bec2c6542e.json</span>\n",
       "</pre>\n"
      ]
     },
     "metadata": {},
     "output_type": "display_data"
    },
    {
     "data": {
      "text/plain": [
       "\u001B[2m[DEBUG] Loading JSON file: \u001B[0m\n",
       "\u001B[2m../log/contracts_analysis_both_20250225_104133/safe/0x0a02dde8c2be1d189022a50927dfca42dc1079f2/analysis_0x0aab3ac44\u001B[0m\n",
       "\u001B[2m7ea90739bdbe4e0e00af0a54038904a.json\u001B[0m\n"
      ],
      "text/html": [
       "<pre style=\"white-space:pre;overflow-x:auto;line-height:normal;font-family:Menlo,'DejaVu Sans Mono',consolas,'Courier New',monospace\"><span style=\"color: #7f7f7f; text-decoration-color: #7f7f7f\">[DEBUG] Loading JSON file: </span>\n",
       "<span style=\"color: #7f7f7f; text-decoration-color: #7f7f7f\">../log/contracts_analysis_both_20250225_104133/safe/0x0a02dde8c2be1d189022a50927dfca42dc1079f2/analysis_0x0aab3ac44</span>\n",
       "<span style=\"color: #7f7f7f; text-decoration-color: #7f7f7f\">7ea90739bdbe4e0e00af0a54038904a.json</span>\n",
       "</pre>\n"
      ]
     },
     "metadata": {},
     "output_type": "display_data"
    },
    {
     "data": {
      "text/plain": [
       "\u001B[2m[DEBUG] Loading JSON file: \u001B[0m\n",
       "\u001B[2m../log/contracts_analysis_both_20250225_104133/safe/0x0a02dde8c2be1d189022a50927dfca42dc1079f2/analysis_0x0a8c3b7e1\u001B[0m\n",
       "\u001B[2m49891ff594e3ad580f8e1769151a07b.json\u001B[0m\n"
      ],
      "text/html": [
       "<pre style=\"white-space:pre;overflow-x:auto;line-height:normal;font-family:Menlo,'DejaVu Sans Mono',consolas,'Courier New',monospace\"><span style=\"color: #7f7f7f; text-decoration-color: #7f7f7f\">[DEBUG] Loading JSON file: </span>\n",
       "<span style=\"color: #7f7f7f; text-decoration-color: #7f7f7f\">../log/contracts_analysis_both_20250225_104133/safe/0x0a02dde8c2be1d189022a50927dfca42dc1079f2/analysis_0x0a8c3b7e1</span>\n",
       "<span style=\"color: #7f7f7f; text-decoration-color: #7f7f7f\">49891ff594e3ad580f8e1769151a07b.json</span>\n",
       "</pre>\n"
      ]
     },
     "metadata": {},
     "output_type": "display_data"
    },
    {
     "data": {
      "text/plain": [
       "\u001B[2m[DEBUG] Collected predictions: ['safe', 'safe', 'safe']\u001B[0m\n"
      ],
      "text/html": [
       "<pre style=\"white-space:pre;overflow-x:auto;line-height:normal;font-family:Menlo,'DejaVu Sans Mono',consolas,'Courier New',monospace\"><span style=\"color: #7f7f7f; text-decoration-color: #7f7f7f\">[DEBUG] Collected predictions: ['safe', 'safe', 'safe']</span>\n",
       "</pre>\n"
      ]
     },
     "metadata": {},
     "output_type": "display_data"
    },
    {
     "data": {
      "text/plain": [
       "\u001B[2m[DEBUG] Determined ground truth for \u001B[0m\n",
       "\u001B[2m../log/contracts_analysis_both_20250225_104133/safe/0x0a3ab1d51acc4d8fd8494b211949f707794ca3b6: safe\u001B[0m\n"
      ],
      "text/html": [
       "<pre style=\"white-space:pre;overflow-x:auto;line-height:normal;font-family:Menlo,'DejaVu Sans Mono',consolas,'Courier New',monospace\"><span style=\"color: #7f7f7f; text-decoration-color: #7f7f7f\">[DEBUG] Determined ground truth for </span>\n",
       "<span style=\"color: #7f7f7f; text-decoration-color: #7f7f7f\">../log/contracts_analysis_both_20250225_104133/safe/0x0a3ab1d51acc4d8fd8494b211949f707794ca3b6: safe</span>\n",
       "</pre>\n"
      ]
     },
     "metadata": {},
     "output_type": "display_data"
    },
    {
     "data": {
      "text/plain": [
       "\u001B[2m[DEBUG] Processing classification file: \u001B[0m\n",
       "\u001B[2m../log/contracts_analysis_both_20250225_104133/safe/0x0a3ab1d51acc4d8fd8494b211949f707794ca3b6/classification.json\u001B[0m\n"
      ],
      "text/html": [
       "<pre style=\"white-space:pre;overflow-x:auto;line-height:normal;font-family:Menlo,'DejaVu Sans Mono',consolas,'Courier New',monospace\"><span style=\"color: #7f7f7f; text-decoration-color: #7f7f7f\">[DEBUG] Processing classification file: </span>\n",
       "<span style=\"color: #7f7f7f; text-decoration-color: #7f7f7f\">../log/contracts_analysis_both_20250225_104133/safe/0x0a3ab1d51acc4d8fd8494b211949f707794ca3b6/classification.json</span>\n",
       "</pre>\n"
      ]
     },
     "metadata": {},
     "output_type": "display_data"
    },
    {
     "data": {
      "text/plain": [
       "\u001B[2m[DEBUG] Loading JSON file: \u001B[0m\n",
       "\u001B[2m../log/contracts_analysis_both_20250225_104133/safe/0x0a3ab1d51acc4d8fd8494b211949f707794ca3b6/classification.json\u001B[0m\n"
      ],
      "text/html": [
       "<pre style=\"white-space:pre;overflow-x:auto;line-height:normal;font-family:Menlo,'DejaVu Sans Mono',consolas,'Courier New',monospace\"><span style=\"color: #7f7f7f; text-decoration-color: #7f7f7f\">[DEBUG] Loading JSON file: </span>\n",
       "<span style=\"color: #7f7f7f; text-decoration-color: #7f7f7f\">../log/contracts_analysis_both_20250225_104133/safe/0x0a3ab1d51acc4d8fd8494b211949f707794ca3b6/classification.json</span>\n",
       "</pre>\n"
      ]
     },
     "metadata": {},
     "output_type": "display_data"
    },
    {
     "data": {
      "text/plain": [
       "\u001B[2m[DEBUG] Classification result: safe, Ground truth: safe\u001B[0m\n"
      ],
      "text/html": [
       "<pre style=\"white-space:pre;overflow-x:auto;line-height:normal;font-family:Menlo,'DejaVu Sans Mono',consolas,'Courier New',monospace\"><span style=\"color: #7f7f7f; text-decoration-color: #7f7f7f\">[DEBUG] Classification result: safe, Ground truth: safe</span>\n",
       "</pre>\n"
      ]
     },
     "metadata": {},
     "output_type": "display_data"
    },
    {
     "data": {
      "text/plain": [
       "\u001B[2m[DEBUG] Collecting predictions from directory: \u001B[0m\n",
       "\u001B[2m../log/contracts_analysis_both_20250225_104133/safe/0x0a3ab1d51acc4d8fd8494b211949f707794ca3b6\u001B[0m\n"
      ],
      "text/html": [
       "<pre style=\"white-space:pre;overflow-x:auto;line-height:normal;font-family:Menlo,'DejaVu Sans Mono',consolas,'Courier New',monospace\"><span style=\"color: #7f7f7f; text-decoration-color: #7f7f7f\">[DEBUG] Collecting predictions from directory: </span>\n",
       "<span style=\"color: #7f7f7f; text-decoration-color: #7f7f7f\">../log/contracts_analysis_both_20250225_104133/safe/0x0a3ab1d51acc4d8fd8494b211949f707794ca3b6</span>\n",
       "</pre>\n"
      ]
     },
     "metadata": {},
     "output_type": "display_data"
    },
    {
     "data": {
      "text/plain": [
       "\u001B[2m[DEBUG] Loading JSON file: \u001B[0m\n",
       "\u001B[2m../log/contracts_analysis_both_20250225_104133/safe/0x0a3ab1d51acc4d8fd8494b211949f707794ca3b6/analysis_0x0aa19b3e5\u001B[0m\n",
       "\u001B[2m1dd77e482690263c8af26bec2c6542e.json\u001B[0m\n"
      ],
      "text/html": [
       "<pre style=\"white-space:pre;overflow-x:auto;line-height:normal;font-family:Menlo,'DejaVu Sans Mono',consolas,'Courier New',monospace\"><span style=\"color: #7f7f7f; text-decoration-color: #7f7f7f\">[DEBUG] Loading JSON file: </span>\n",
       "<span style=\"color: #7f7f7f; text-decoration-color: #7f7f7f\">../log/contracts_analysis_both_20250225_104133/safe/0x0a3ab1d51acc4d8fd8494b211949f707794ca3b6/analysis_0x0aa19b3e5</span>\n",
       "<span style=\"color: #7f7f7f; text-decoration-color: #7f7f7f\">1dd77e482690263c8af26bec2c6542e.json</span>\n",
       "</pre>\n"
      ]
     },
     "metadata": {},
     "output_type": "display_data"
    },
    {
     "data": {
      "text/plain": [
       "\u001B[2m[DEBUG] Loading JSON file: \u001B[0m\n",
       "\u001B[2m../log/contracts_analysis_both_20250225_104133/safe/0x0a3ab1d51acc4d8fd8494b211949f707794ca3b6/analysis_0x0aab3ac44\u001B[0m\n",
       "\u001B[2m7ea90739bdbe4e0e00af0a54038904a.json\u001B[0m\n"
      ],
      "text/html": [
       "<pre style=\"white-space:pre;overflow-x:auto;line-height:normal;font-family:Menlo,'DejaVu Sans Mono',consolas,'Courier New',monospace\"><span style=\"color: #7f7f7f; text-decoration-color: #7f7f7f\">[DEBUG] Loading JSON file: </span>\n",
       "<span style=\"color: #7f7f7f; text-decoration-color: #7f7f7f\">../log/contracts_analysis_both_20250225_104133/safe/0x0a3ab1d51acc4d8fd8494b211949f707794ca3b6/analysis_0x0aab3ac44</span>\n",
       "<span style=\"color: #7f7f7f; text-decoration-color: #7f7f7f\">7ea90739bdbe4e0e00af0a54038904a.json</span>\n",
       "</pre>\n"
      ]
     },
     "metadata": {},
     "output_type": "display_data"
    },
    {
     "data": {
      "text/plain": [
       "\u001B[2m[DEBUG] Loading JSON file: \u001B[0m\n",
       "\u001B[2m../log/contracts_analysis_both_20250225_104133/safe/0x0a3ab1d51acc4d8fd8494b211949f707794ca3b6/analysis_0x0a8c3b7e1\u001B[0m\n",
       "\u001B[2m49891ff594e3ad580f8e1769151a07b.json\u001B[0m\n"
      ],
      "text/html": [
       "<pre style=\"white-space:pre;overflow-x:auto;line-height:normal;font-family:Menlo,'DejaVu Sans Mono',consolas,'Courier New',monospace\"><span style=\"color: #7f7f7f; text-decoration-color: #7f7f7f\">[DEBUG] Loading JSON file: </span>\n",
       "<span style=\"color: #7f7f7f; text-decoration-color: #7f7f7f\">../log/contracts_analysis_both_20250225_104133/safe/0x0a3ab1d51acc4d8fd8494b211949f707794ca3b6/analysis_0x0a8c3b7e1</span>\n",
       "<span style=\"color: #7f7f7f; text-decoration-color: #7f7f7f\">49891ff594e3ad580f8e1769151a07b.json</span>\n",
       "</pre>\n"
      ]
     },
     "metadata": {},
     "output_type": "display_data"
    },
    {
     "data": {
      "text/plain": [
       "\u001B[2m[DEBUG] Collected predictions: ['safe', 'safe', 'safe']\u001B[0m\n"
      ],
      "text/html": [
       "<pre style=\"white-space:pre;overflow-x:auto;line-height:normal;font-family:Menlo,'DejaVu Sans Mono',consolas,'Courier New',monospace\"><span style=\"color: #7f7f7f; text-decoration-color: #7f7f7f\">[DEBUG] Collected predictions: ['safe', 'safe', 'safe']</span>\n",
       "</pre>\n"
      ]
     },
     "metadata": {},
     "output_type": "display_data"
    },
    {
     "data": {
      "text/plain": [
       "\u001B[2m[DEBUG] Determined ground truth for \u001B[0m\n",
       "\u001B[2m../log/contracts_analysis_both_20250225_104133/safe/0x0a0b052d93eaa7c67f498fb3f8d9f4f56456ba51: safe\u001B[0m\n"
      ],
      "text/html": [
       "<pre style=\"white-space:pre;overflow-x:auto;line-height:normal;font-family:Menlo,'DejaVu Sans Mono',consolas,'Courier New',monospace\"><span style=\"color: #7f7f7f; text-decoration-color: #7f7f7f\">[DEBUG] Determined ground truth for </span>\n",
       "<span style=\"color: #7f7f7f; text-decoration-color: #7f7f7f\">../log/contracts_analysis_both_20250225_104133/safe/0x0a0b052d93eaa7c67f498fb3f8d9f4f56456ba51: safe</span>\n",
       "</pre>\n"
      ]
     },
     "metadata": {},
     "output_type": "display_data"
    },
    {
     "data": {
      "text/plain": [
       "\u001B[2m[DEBUG] Processing classification file: \u001B[0m\n",
       "\u001B[2m../log/contracts_analysis_both_20250225_104133/safe/0x0a0b052d93eaa7c67f498fb3f8d9f4f56456ba51/classification.json\u001B[0m\n"
      ],
      "text/html": [
       "<pre style=\"white-space:pre;overflow-x:auto;line-height:normal;font-family:Menlo,'DejaVu Sans Mono',consolas,'Courier New',monospace\"><span style=\"color: #7f7f7f; text-decoration-color: #7f7f7f\">[DEBUG] Processing classification file: </span>\n",
       "<span style=\"color: #7f7f7f; text-decoration-color: #7f7f7f\">../log/contracts_analysis_both_20250225_104133/safe/0x0a0b052d93eaa7c67f498fb3f8d9f4f56456ba51/classification.json</span>\n",
       "</pre>\n"
      ]
     },
     "metadata": {},
     "output_type": "display_data"
    },
    {
     "data": {
      "text/plain": [
       "\u001B[2m[DEBUG] Loading JSON file: \u001B[0m\n",
       "\u001B[2m../log/contracts_analysis_both_20250225_104133/safe/0x0a0b052d93eaa7c67f498fb3f8d9f4f56456ba51/classification.json\u001B[0m\n"
      ],
      "text/html": [
       "<pre style=\"white-space:pre;overflow-x:auto;line-height:normal;font-family:Menlo,'DejaVu Sans Mono',consolas,'Courier New',monospace\"><span style=\"color: #7f7f7f; text-decoration-color: #7f7f7f\">[DEBUG] Loading JSON file: </span>\n",
       "<span style=\"color: #7f7f7f; text-decoration-color: #7f7f7f\">../log/contracts_analysis_both_20250225_104133/safe/0x0a0b052d93eaa7c67f498fb3f8d9f4f56456ba51/classification.json</span>\n",
       "</pre>\n"
      ]
     },
     "metadata": {},
     "output_type": "display_data"
    },
    {
     "data": {
      "text/plain": [
       "\u001B[2m[DEBUG] Classification result: reentrant, Ground truth: safe\u001B[0m\n"
      ],
      "text/html": [
       "<pre style=\"white-space:pre;overflow-x:auto;line-height:normal;font-family:Menlo,'DejaVu Sans Mono',consolas,'Courier New',monospace\"><span style=\"color: #7f7f7f; text-decoration-color: #7f7f7f\">[DEBUG] Classification result: reentrant, Ground truth: safe</span>\n",
       "</pre>\n"
      ]
     },
     "metadata": {},
     "output_type": "display_data"
    },
    {
     "data": {
      "text/plain": [
       "\u001B[2m[DEBUG] Collecting predictions from directory: \u001B[0m\n",
       "\u001B[2m../log/contracts_analysis_both_20250225_104133/safe/0x0a0b052d93eaa7c67f498fb3f8d9f4f56456ba51\u001B[0m\n"
      ],
      "text/html": [
       "<pre style=\"white-space:pre;overflow-x:auto;line-height:normal;font-family:Menlo,'DejaVu Sans Mono',consolas,'Courier New',monospace\"><span style=\"color: #7f7f7f; text-decoration-color: #7f7f7f\">[DEBUG] Collecting predictions from directory: </span>\n",
       "<span style=\"color: #7f7f7f; text-decoration-color: #7f7f7f\">../log/contracts_analysis_both_20250225_104133/safe/0x0a0b052d93eaa7c67f498fb3f8d9f4f56456ba51</span>\n",
       "</pre>\n"
      ]
     },
     "metadata": {},
     "output_type": "display_data"
    },
    {
     "data": {
      "text/plain": [
       "\u001B[2m[DEBUG] Loading JSON file: \u001B[0m\n",
       "\u001B[2m../log/contracts_analysis_both_20250225_104133/safe/0x0a0b052d93eaa7c67f498fb3f8d9f4f56456ba51/analysis_0x0aa19b3e5\u001B[0m\n",
       "\u001B[2m1dd77e482690263c8af26bec2c6542e.json\u001B[0m\n"
      ],
      "text/html": [
       "<pre style=\"white-space:pre;overflow-x:auto;line-height:normal;font-family:Menlo,'DejaVu Sans Mono',consolas,'Courier New',monospace\"><span style=\"color: #7f7f7f; text-decoration-color: #7f7f7f\">[DEBUG] Loading JSON file: </span>\n",
       "<span style=\"color: #7f7f7f; text-decoration-color: #7f7f7f\">../log/contracts_analysis_both_20250225_104133/safe/0x0a0b052d93eaa7c67f498fb3f8d9f4f56456ba51/analysis_0x0aa19b3e5</span>\n",
       "<span style=\"color: #7f7f7f; text-decoration-color: #7f7f7f\">1dd77e482690263c8af26bec2c6542e.json</span>\n",
       "</pre>\n"
      ]
     },
     "metadata": {},
     "output_type": "display_data"
    },
    {
     "data": {
      "text/plain": [
       "\u001B[2m[DEBUG] Loading JSON file: \u001B[0m\n",
       "\u001B[2m../log/contracts_analysis_both_20250225_104133/safe/0x0a0b052d93eaa7c67f498fb3f8d9f4f56456ba51/analysis_0x0aab3ac44\u001B[0m\n",
       "\u001B[2m7ea90739bdbe4e0e00af0a54038904a.json\u001B[0m\n"
      ],
      "text/html": [
       "<pre style=\"white-space:pre;overflow-x:auto;line-height:normal;font-family:Menlo,'DejaVu Sans Mono',consolas,'Courier New',monospace\"><span style=\"color: #7f7f7f; text-decoration-color: #7f7f7f\">[DEBUG] Loading JSON file: </span>\n",
       "<span style=\"color: #7f7f7f; text-decoration-color: #7f7f7f\">../log/contracts_analysis_both_20250225_104133/safe/0x0a0b052d93eaa7c67f498fb3f8d9f4f56456ba51/analysis_0x0aab3ac44</span>\n",
       "<span style=\"color: #7f7f7f; text-decoration-color: #7f7f7f\">7ea90739bdbe4e0e00af0a54038904a.json</span>\n",
       "</pre>\n"
      ]
     },
     "metadata": {},
     "output_type": "display_data"
    },
    {
     "data": {
      "text/plain": [
       "\u001B[2m[DEBUG] Loading JSON file: \u001B[0m\n",
       "\u001B[2m../log/contracts_analysis_both_20250225_104133/safe/0x0a0b052d93eaa7c67f498fb3f8d9f4f56456ba51/analysis_0x0a8c3b7e1\u001B[0m\n",
       "\u001B[2m49891ff594e3ad580f8e1769151a07b.json\u001B[0m\n"
      ],
      "text/html": [
       "<pre style=\"white-space:pre;overflow-x:auto;line-height:normal;font-family:Menlo,'DejaVu Sans Mono',consolas,'Courier New',monospace\"><span style=\"color: #7f7f7f; text-decoration-color: #7f7f7f\">[DEBUG] Loading JSON file: </span>\n",
       "<span style=\"color: #7f7f7f; text-decoration-color: #7f7f7f\">../log/contracts_analysis_both_20250225_104133/safe/0x0a0b052d93eaa7c67f498fb3f8d9f4f56456ba51/analysis_0x0a8c3b7e1</span>\n",
       "<span style=\"color: #7f7f7f; text-decoration-color: #7f7f7f\">49891ff594e3ad580f8e1769151a07b.json</span>\n",
       "</pre>\n"
      ]
     },
     "metadata": {},
     "output_type": "display_data"
    },
    {
     "data": {
      "text/plain": [
       "\u001B[2m[DEBUG] Collected predictions: ['safe', 'safe', 'safe']\u001B[0m\n"
      ],
      "text/html": [
       "<pre style=\"white-space:pre;overflow-x:auto;line-height:normal;font-family:Menlo,'DejaVu Sans Mono',consolas,'Courier New',monospace\"><span style=\"color: #7f7f7f; text-decoration-color: #7f7f7f\">[DEBUG] Collected predictions: ['safe', 'safe', 'safe']</span>\n",
       "</pre>\n"
      ]
     },
     "metadata": {},
     "output_type": "display_data"
    },
    {
     "data": {
      "text/plain": [
       "\u001B[2m[DEBUG] Determined ground truth for \u001B[0m\n",
       "\u001B[2m../log/contracts_analysis_both_20250225_104133/safe/0x0a1ce9aa18cbeab38f325e40098f8d0c93c59e26: safe\u001B[0m\n"
      ],
      "text/html": [
       "<pre style=\"white-space:pre;overflow-x:auto;line-height:normal;font-family:Menlo,'DejaVu Sans Mono',consolas,'Courier New',monospace\"><span style=\"color: #7f7f7f; text-decoration-color: #7f7f7f\">[DEBUG] Determined ground truth for </span>\n",
       "<span style=\"color: #7f7f7f; text-decoration-color: #7f7f7f\">../log/contracts_analysis_both_20250225_104133/safe/0x0a1ce9aa18cbeab38f325e40098f8d0c93c59e26: safe</span>\n",
       "</pre>\n"
      ]
     },
     "metadata": {},
     "output_type": "display_data"
    },
    {
     "data": {
      "text/plain": [
       "\u001B[2m[DEBUG] Processing classification file: \u001B[0m\n",
       "\u001B[2m../log/contracts_analysis_both_20250225_104133/safe/0x0a1ce9aa18cbeab38f325e40098f8d0c93c59e26/classification.json\u001B[0m\n"
      ],
      "text/html": [
       "<pre style=\"white-space:pre;overflow-x:auto;line-height:normal;font-family:Menlo,'DejaVu Sans Mono',consolas,'Courier New',monospace\"><span style=\"color: #7f7f7f; text-decoration-color: #7f7f7f\">[DEBUG] Processing classification file: </span>\n",
       "<span style=\"color: #7f7f7f; text-decoration-color: #7f7f7f\">../log/contracts_analysis_both_20250225_104133/safe/0x0a1ce9aa18cbeab38f325e40098f8d0c93c59e26/classification.json</span>\n",
       "</pre>\n"
      ]
     },
     "metadata": {},
     "output_type": "display_data"
    },
    {
     "data": {
      "text/plain": [
       "\u001B[2m[DEBUG] Loading JSON file: \u001B[0m\n",
       "\u001B[2m../log/contracts_analysis_both_20250225_104133/safe/0x0a1ce9aa18cbeab38f325e40098f8d0c93c59e26/classification.json\u001B[0m\n"
      ],
      "text/html": [
       "<pre style=\"white-space:pre;overflow-x:auto;line-height:normal;font-family:Menlo,'DejaVu Sans Mono',consolas,'Courier New',monospace\"><span style=\"color: #7f7f7f; text-decoration-color: #7f7f7f\">[DEBUG] Loading JSON file: </span>\n",
       "<span style=\"color: #7f7f7f; text-decoration-color: #7f7f7f\">../log/contracts_analysis_both_20250225_104133/safe/0x0a1ce9aa18cbeab38f325e40098f8d0c93c59e26/classification.json</span>\n",
       "</pre>\n"
      ]
     },
     "metadata": {},
     "output_type": "display_data"
    },
    {
     "data": {
      "text/plain": [
       "\u001B[2m[DEBUG] Classification result: reentrant, Ground truth: safe\u001B[0m\n"
      ],
      "text/html": [
       "<pre style=\"white-space:pre;overflow-x:auto;line-height:normal;font-family:Menlo,'DejaVu Sans Mono',consolas,'Courier New',monospace\"><span style=\"color: #7f7f7f; text-decoration-color: #7f7f7f\">[DEBUG] Classification result: reentrant, Ground truth: safe</span>\n",
       "</pre>\n"
      ]
     },
     "metadata": {},
     "output_type": "display_data"
    },
    {
     "data": {
      "text/plain": [
       "\u001B[2m[DEBUG] Collecting predictions from directory: \u001B[0m\n",
       "\u001B[2m../log/contracts_analysis_both_20250225_104133/safe/0x0a1ce9aa18cbeab38f325e40098f8d0c93c59e26\u001B[0m\n"
      ],
      "text/html": [
       "<pre style=\"white-space:pre;overflow-x:auto;line-height:normal;font-family:Menlo,'DejaVu Sans Mono',consolas,'Courier New',monospace\"><span style=\"color: #7f7f7f; text-decoration-color: #7f7f7f\">[DEBUG] Collecting predictions from directory: </span>\n",
       "<span style=\"color: #7f7f7f; text-decoration-color: #7f7f7f\">../log/contracts_analysis_both_20250225_104133/safe/0x0a1ce9aa18cbeab38f325e40098f8d0c93c59e26</span>\n",
       "</pre>\n"
      ]
     },
     "metadata": {},
     "output_type": "display_data"
    },
    {
     "data": {
      "text/plain": [
       "\u001B[2m[DEBUG] Loading JSON file: \u001B[0m\n",
       "\u001B[2m../log/contracts_analysis_both_20250225_104133/safe/0x0a1ce9aa18cbeab38f325e40098f8d0c93c59e26/analysis_0x0aa19b3e5\u001B[0m\n",
       "\u001B[2m1dd77e482690263c8af26bec2c6542e.json\u001B[0m\n"
      ],
      "text/html": [
       "<pre style=\"white-space:pre;overflow-x:auto;line-height:normal;font-family:Menlo,'DejaVu Sans Mono',consolas,'Courier New',monospace\"><span style=\"color: #7f7f7f; text-decoration-color: #7f7f7f\">[DEBUG] Loading JSON file: </span>\n",
       "<span style=\"color: #7f7f7f; text-decoration-color: #7f7f7f\">../log/contracts_analysis_both_20250225_104133/safe/0x0a1ce9aa18cbeab38f325e40098f8d0c93c59e26/analysis_0x0aa19b3e5</span>\n",
       "<span style=\"color: #7f7f7f; text-decoration-color: #7f7f7f\">1dd77e482690263c8af26bec2c6542e.json</span>\n",
       "</pre>\n"
      ]
     },
     "metadata": {},
     "output_type": "display_data"
    },
    {
     "data": {
      "text/plain": [
       "\u001B[2m[DEBUG] Loading JSON file: \u001B[0m\n",
       "\u001B[2m../log/contracts_analysis_both_20250225_104133/safe/0x0a1ce9aa18cbeab38f325e40098f8d0c93c59e26/analysis_0x0aab3ac44\u001B[0m\n",
       "\u001B[2m7ea90739bdbe4e0e00af0a54038904a.json\u001B[0m\n"
      ],
      "text/html": [
       "<pre style=\"white-space:pre;overflow-x:auto;line-height:normal;font-family:Menlo,'DejaVu Sans Mono',consolas,'Courier New',monospace\"><span style=\"color: #7f7f7f; text-decoration-color: #7f7f7f\">[DEBUG] Loading JSON file: </span>\n",
       "<span style=\"color: #7f7f7f; text-decoration-color: #7f7f7f\">../log/contracts_analysis_both_20250225_104133/safe/0x0a1ce9aa18cbeab38f325e40098f8d0c93c59e26/analysis_0x0aab3ac44</span>\n",
       "<span style=\"color: #7f7f7f; text-decoration-color: #7f7f7f\">7ea90739bdbe4e0e00af0a54038904a.json</span>\n",
       "</pre>\n"
      ]
     },
     "metadata": {},
     "output_type": "display_data"
    },
    {
     "data": {
      "text/plain": [
       "\u001B[2m[DEBUG] Loading JSON file: \u001B[0m\n",
       "\u001B[2m../log/contracts_analysis_both_20250225_104133/safe/0x0a1ce9aa18cbeab38f325e40098f8d0c93c59e26/analysis_0x0a8c3b7e1\u001B[0m\n",
       "\u001B[2m49891ff594e3ad580f8e1769151a07b.json\u001B[0m\n"
      ],
      "text/html": [
       "<pre style=\"white-space:pre;overflow-x:auto;line-height:normal;font-family:Menlo,'DejaVu Sans Mono',consolas,'Courier New',monospace\"><span style=\"color: #7f7f7f; text-decoration-color: #7f7f7f\">[DEBUG] Loading JSON file: </span>\n",
       "<span style=\"color: #7f7f7f; text-decoration-color: #7f7f7f\">../log/contracts_analysis_both_20250225_104133/safe/0x0a1ce9aa18cbeab38f325e40098f8d0c93c59e26/analysis_0x0a8c3b7e1</span>\n",
       "<span style=\"color: #7f7f7f; text-decoration-color: #7f7f7f\">49891ff594e3ad580f8e1769151a07b.json</span>\n",
       "</pre>\n"
      ]
     },
     "metadata": {},
     "output_type": "display_data"
    },
    {
     "data": {
      "text/plain": [
       "\u001B[2m[DEBUG] Collected predictions: ['safe', 'safe', 'safe']\u001B[0m\n"
      ],
      "text/html": [
       "<pre style=\"white-space:pre;overflow-x:auto;line-height:normal;font-family:Menlo,'DejaVu Sans Mono',consolas,'Courier New',monospace\"><span style=\"color: #7f7f7f; text-decoration-color: #7f7f7f\">[DEBUG] Collected predictions: ['safe', 'safe', 'safe']</span>\n",
       "</pre>\n"
      ]
     },
     "metadata": {},
     "output_type": "display_data"
    },
    {
     "data": {
      "text/plain": [
       "\u001B[2m[DEBUG] Determined ground truth for \u001B[0m\n",
       "\u001B[2m../log/contracts_analysis_both_20250225_104133/safe/0x0a0ba2b6d7955029653b9f7ce42f7b6760d705ac: safe\u001B[0m\n"
      ],
      "text/html": [
       "<pre style=\"white-space:pre;overflow-x:auto;line-height:normal;font-family:Menlo,'DejaVu Sans Mono',consolas,'Courier New',monospace\"><span style=\"color: #7f7f7f; text-decoration-color: #7f7f7f\">[DEBUG] Determined ground truth for </span>\n",
       "<span style=\"color: #7f7f7f; text-decoration-color: #7f7f7f\">../log/contracts_analysis_both_20250225_104133/safe/0x0a0ba2b6d7955029653b9f7ce42f7b6760d705ac: safe</span>\n",
       "</pre>\n"
      ]
     },
     "metadata": {},
     "output_type": "display_data"
    },
    {
     "data": {
      "text/plain": [
       "\u001B[2m[DEBUG] Processing classification file: \u001B[0m\n",
       "\u001B[2m../log/contracts_analysis_both_20250225_104133/safe/0x0a0ba2b6d7955029653b9f7ce42f7b6760d705ac/classification.json\u001B[0m\n"
      ],
      "text/html": [
       "<pre style=\"white-space:pre;overflow-x:auto;line-height:normal;font-family:Menlo,'DejaVu Sans Mono',consolas,'Courier New',monospace\"><span style=\"color: #7f7f7f; text-decoration-color: #7f7f7f\">[DEBUG] Processing classification file: </span>\n",
       "<span style=\"color: #7f7f7f; text-decoration-color: #7f7f7f\">../log/contracts_analysis_both_20250225_104133/safe/0x0a0ba2b6d7955029653b9f7ce42f7b6760d705ac/classification.json</span>\n",
       "</pre>\n"
      ]
     },
     "metadata": {},
     "output_type": "display_data"
    },
    {
     "data": {
      "text/plain": [
       "\u001B[2m[DEBUG] Loading JSON file: \u001B[0m\n",
       "\u001B[2m../log/contracts_analysis_both_20250225_104133/safe/0x0a0ba2b6d7955029653b9f7ce42f7b6760d705ac/classification.json\u001B[0m\n"
      ],
      "text/html": [
       "<pre style=\"white-space:pre;overflow-x:auto;line-height:normal;font-family:Menlo,'DejaVu Sans Mono',consolas,'Courier New',monospace\"><span style=\"color: #7f7f7f; text-decoration-color: #7f7f7f\">[DEBUG] Loading JSON file: </span>\n",
       "<span style=\"color: #7f7f7f; text-decoration-color: #7f7f7f\">../log/contracts_analysis_both_20250225_104133/safe/0x0a0ba2b6d7955029653b9f7ce42f7b6760d705ac/classification.json</span>\n",
       "</pre>\n"
      ]
     },
     "metadata": {},
     "output_type": "display_data"
    },
    {
     "data": {
      "text/plain": [
       "\u001B[2m[DEBUG] Classification result: safe, Ground truth: safe\u001B[0m\n"
      ],
      "text/html": [
       "<pre style=\"white-space:pre;overflow-x:auto;line-height:normal;font-family:Menlo,'DejaVu Sans Mono',consolas,'Courier New',monospace\"><span style=\"color: #7f7f7f; text-decoration-color: #7f7f7f\">[DEBUG] Classification result: safe, Ground truth: safe</span>\n",
       "</pre>\n"
      ]
     },
     "metadata": {},
     "output_type": "display_data"
    },
    {
     "data": {
      "text/plain": [
       "\u001B[2m[DEBUG] Collecting predictions from directory: \u001B[0m\n",
       "\u001B[2m../log/contracts_analysis_both_20250225_104133/safe/0x0a0ba2b6d7955029653b9f7ce42f7b6760d705ac\u001B[0m\n"
      ],
      "text/html": [
       "<pre style=\"white-space:pre;overflow-x:auto;line-height:normal;font-family:Menlo,'DejaVu Sans Mono',consolas,'Courier New',monospace\"><span style=\"color: #7f7f7f; text-decoration-color: #7f7f7f\">[DEBUG] Collecting predictions from directory: </span>\n",
       "<span style=\"color: #7f7f7f; text-decoration-color: #7f7f7f\">../log/contracts_analysis_both_20250225_104133/safe/0x0a0ba2b6d7955029653b9f7ce42f7b6760d705ac</span>\n",
       "</pre>\n"
      ]
     },
     "metadata": {},
     "output_type": "display_data"
    },
    {
     "data": {
      "text/plain": [
       "\u001B[2m[DEBUG] Loading JSON file: \u001B[0m\n",
       "\u001B[2m../log/contracts_analysis_both_20250225_104133/safe/0x0a0ba2b6d7955029653b9f7ce42f7b6760d705ac/analysis_0x0aa19b3e5\u001B[0m\n",
       "\u001B[2m1dd77e482690263c8af26bec2c6542e.json\u001B[0m\n"
      ],
      "text/html": [
       "<pre style=\"white-space:pre;overflow-x:auto;line-height:normal;font-family:Menlo,'DejaVu Sans Mono',consolas,'Courier New',monospace\"><span style=\"color: #7f7f7f; text-decoration-color: #7f7f7f\">[DEBUG] Loading JSON file: </span>\n",
       "<span style=\"color: #7f7f7f; text-decoration-color: #7f7f7f\">../log/contracts_analysis_both_20250225_104133/safe/0x0a0ba2b6d7955029653b9f7ce42f7b6760d705ac/analysis_0x0aa19b3e5</span>\n",
       "<span style=\"color: #7f7f7f; text-decoration-color: #7f7f7f\">1dd77e482690263c8af26bec2c6542e.json</span>\n",
       "</pre>\n"
      ]
     },
     "metadata": {},
     "output_type": "display_data"
    },
    {
     "data": {
      "text/plain": [
       "\u001B[2m[DEBUG] Loading JSON file: \u001B[0m\n",
       "\u001B[2m../log/contracts_analysis_both_20250225_104133/safe/0x0a0ba2b6d7955029653b9f7ce42f7b6760d705ac/analysis_0x0aab3ac44\u001B[0m\n",
       "\u001B[2m7ea90739bdbe4e0e00af0a54038904a.json\u001B[0m\n"
      ],
      "text/html": [
       "<pre style=\"white-space:pre;overflow-x:auto;line-height:normal;font-family:Menlo,'DejaVu Sans Mono',consolas,'Courier New',monospace\"><span style=\"color: #7f7f7f; text-decoration-color: #7f7f7f\">[DEBUG] Loading JSON file: </span>\n",
       "<span style=\"color: #7f7f7f; text-decoration-color: #7f7f7f\">../log/contracts_analysis_both_20250225_104133/safe/0x0a0ba2b6d7955029653b9f7ce42f7b6760d705ac/analysis_0x0aab3ac44</span>\n",
       "<span style=\"color: #7f7f7f; text-decoration-color: #7f7f7f\">7ea90739bdbe4e0e00af0a54038904a.json</span>\n",
       "</pre>\n"
      ]
     },
     "metadata": {},
     "output_type": "display_data"
    },
    {
     "data": {
      "text/plain": [
       "\u001B[2m[DEBUG] Loading JSON file: \u001B[0m\n",
       "\u001B[2m../log/contracts_analysis_both_20250225_104133/safe/0x0a0ba2b6d7955029653b9f7ce42f7b6760d705ac/analysis_0x0a8c3b7e1\u001B[0m\n",
       "\u001B[2m49891ff594e3ad580f8e1769151a07b.json\u001B[0m\n"
      ],
      "text/html": [
       "<pre style=\"white-space:pre;overflow-x:auto;line-height:normal;font-family:Menlo,'DejaVu Sans Mono',consolas,'Courier New',monospace\"><span style=\"color: #7f7f7f; text-decoration-color: #7f7f7f\">[DEBUG] Loading JSON file: </span>\n",
       "<span style=\"color: #7f7f7f; text-decoration-color: #7f7f7f\">../log/contracts_analysis_both_20250225_104133/safe/0x0a0ba2b6d7955029653b9f7ce42f7b6760d705ac/analysis_0x0a8c3b7e1</span>\n",
       "<span style=\"color: #7f7f7f; text-decoration-color: #7f7f7f\">49891ff594e3ad580f8e1769151a07b.json</span>\n",
       "</pre>\n"
      ]
     },
     "metadata": {},
     "output_type": "display_data"
    },
    {
     "data": {
      "text/plain": [
       "\u001B[2m[DEBUG] Collected predictions: ['safe', 'safe', 'safe']\u001B[0m\n"
      ],
      "text/html": [
       "<pre style=\"white-space:pre;overflow-x:auto;line-height:normal;font-family:Menlo,'DejaVu Sans Mono',consolas,'Courier New',monospace\"><span style=\"color: #7f7f7f; text-decoration-color: #7f7f7f\">[DEBUG] Collected predictions: ['safe', 'safe', 'safe']</span>\n",
       "</pre>\n"
      ]
     },
     "metadata": {},
     "output_type": "display_data"
    },
    {
     "name": "stderr",
     "output_type": "stream",
     "text": [
      "Processing contracts:  29%|██▉       | 28/96 [00:00<00:02, 32.70it/s]"
     ]
    },
    {
     "data": {
      "text/plain": [
       "\u001B[2m[DEBUG] Determined ground truth for \u001B[0m\n",
       "\u001B[2m../log/contracts_analysis_both_20250225_104133/safe/0x0a04dee16983ac783115c797dbcca0744c76577f: safe\u001B[0m\n"
      ],
      "text/html": [
       "<pre style=\"white-space:pre;overflow-x:auto;line-height:normal;font-family:Menlo,'DejaVu Sans Mono',consolas,'Courier New',monospace\"><span style=\"color: #7f7f7f; text-decoration-color: #7f7f7f\">[DEBUG] Determined ground truth for </span>\n",
       "<span style=\"color: #7f7f7f; text-decoration-color: #7f7f7f\">../log/contracts_analysis_both_20250225_104133/safe/0x0a04dee16983ac783115c797dbcca0744c76577f: safe</span>\n",
       "</pre>\n"
      ]
     },
     "metadata": {},
     "output_type": "display_data"
    },
    {
     "data": {
      "text/plain": [
       "\u001B[2m[DEBUG] Processing classification file: \u001B[0m\n",
       "\u001B[2m../log/contracts_analysis_both_20250225_104133/safe/0x0a04dee16983ac783115c797dbcca0744c76577f/classification.json\u001B[0m\n"
      ],
      "text/html": [
       "<pre style=\"white-space:pre;overflow-x:auto;line-height:normal;font-family:Menlo,'DejaVu Sans Mono',consolas,'Courier New',monospace\"><span style=\"color: #7f7f7f; text-decoration-color: #7f7f7f\">[DEBUG] Processing classification file: </span>\n",
       "<span style=\"color: #7f7f7f; text-decoration-color: #7f7f7f\">../log/contracts_analysis_both_20250225_104133/safe/0x0a04dee16983ac783115c797dbcca0744c76577f/classification.json</span>\n",
       "</pre>\n"
      ]
     },
     "metadata": {},
     "output_type": "display_data"
    },
    {
     "data": {
      "text/plain": [
       "\u001B[2m[DEBUG] Loading JSON file: \u001B[0m\n",
       "\u001B[2m../log/contracts_analysis_both_20250225_104133/safe/0x0a04dee16983ac783115c797dbcca0744c76577f/classification.json\u001B[0m\n"
      ],
      "text/html": [
       "<pre style=\"white-space:pre;overflow-x:auto;line-height:normal;font-family:Menlo,'DejaVu Sans Mono',consolas,'Courier New',monospace\"><span style=\"color: #7f7f7f; text-decoration-color: #7f7f7f\">[DEBUG] Loading JSON file: </span>\n",
       "<span style=\"color: #7f7f7f; text-decoration-color: #7f7f7f\">../log/contracts_analysis_both_20250225_104133/safe/0x0a04dee16983ac783115c797dbcca0744c76577f/classification.json</span>\n",
       "</pre>\n"
      ]
     },
     "metadata": {},
     "output_type": "display_data"
    },
    {
     "data": {
      "text/plain": [
       "\u001B[2m[DEBUG] Classification result: safe, Ground truth: safe\u001B[0m\n"
      ],
      "text/html": [
       "<pre style=\"white-space:pre;overflow-x:auto;line-height:normal;font-family:Menlo,'DejaVu Sans Mono',consolas,'Courier New',monospace\"><span style=\"color: #7f7f7f; text-decoration-color: #7f7f7f\">[DEBUG] Classification result: safe, Ground truth: safe</span>\n",
       "</pre>\n"
      ]
     },
     "metadata": {},
     "output_type": "display_data"
    },
    {
     "data": {
      "text/plain": [
       "\u001B[2m[DEBUG] Collecting predictions from directory: \u001B[0m\n",
       "\u001B[2m../log/contracts_analysis_both_20250225_104133/safe/0x0a04dee16983ac783115c797dbcca0744c76577f\u001B[0m\n"
      ],
      "text/html": [
       "<pre style=\"white-space:pre;overflow-x:auto;line-height:normal;font-family:Menlo,'DejaVu Sans Mono',consolas,'Courier New',monospace\"><span style=\"color: #7f7f7f; text-decoration-color: #7f7f7f\">[DEBUG] Collecting predictions from directory: </span>\n",
       "<span style=\"color: #7f7f7f; text-decoration-color: #7f7f7f\">../log/contracts_analysis_both_20250225_104133/safe/0x0a04dee16983ac783115c797dbcca0744c76577f</span>\n",
       "</pre>\n"
      ]
     },
     "metadata": {},
     "output_type": "display_data"
    },
    {
     "data": {
      "text/plain": [
       "\u001B[2m[DEBUG] Loading JSON file: \u001B[0m\n",
       "\u001B[2m../log/contracts_analysis_both_20250225_104133/safe/0x0a04dee16983ac783115c797dbcca0744c76577f/analysis_0x0aa19b3e5\u001B[0m\n",
       "\u001B[2m1dd77e482690263c8af26bec2c6542e.json\u001B[0m\n"
      ],
      "text/html": [
       "<pre style=\"white-space:pre;overflow-x:auto;line-height:normal;font-family:Menlo,'DejaVu Sans Mono',consolas,'Courier New',monospace\"><span style=\"color: #7f7f7f; text-decoration-color: #7f7f7f\">[DEBUG] Loading JSON file: </span>\n",
       "<span style=\"color: #7f7f7f; text-decoration-color: #7f7f7f\">../log/contracts_analysis_both_20250225_104133/safe/0x0a04dee16983ac783115c797dbcca0744c76577f/analysis_0x0aa19b3e5</span>\n",
       "<span style=\"color: #7f7f7f; text-decoration-color: #7f7f7f\">1dd77e482690263c8af26bec2c6542e.json</span>\n",
       "</pre>\n"
      ]
     },
     "metadata": {},
     "output_type": "display_data"
    },
    {
     "data": {
      "text/plain": [
       "\u001B[2m[DEBUG] Loading JSON file: \u001B[0m\n",
       "\u001B[2m../log/contracts_analysis_both_20250225_104133/safe/0x0a04dee16983ac783115c797dbcca0744c76577f/analysis_0x0aab3ac44\u001B[0m\n",
       "\u001B[2m7ea90739bdbe4e0e00af0a54038904a.json\u001B[0m\n"
      ],
      "text/html": [
       "<pre style=\"white-space:pre;overflow-x:auto;line-height:normal;font-family:Menlo,'DejaVu Sans Mono',consolas,'Courier New',monospace\"><span style=\"color: #7f7f7f; text-decoration-color: #7f7f7f\">[DEBUG] Loading JSON file: </span>\n",
       "<span style=\"color: #7f7f7f; text-decoration-color: #7f7f7f\">../log/contracts_analysis_both_20250225_104133/safe/0x0a04dee16983ac783115c797dbcca0744c76577f/analysis_0x0aab3ac44</span>\n",
       "<span style=\"color: #7f7f7f; text-decoration-color: #7f7f7f\">7ea90739bdbe4e0e00af0a54038904a.json</span>\n",
       "</pre>\n"
      ]
     },
     "metadata": {},
     "output_type": "display_data"
    },
    {
     "data": {
      "text/plain": [
       "\u001B[2m[DEBUG] Loading JSON file: \u001B[0m\n",
       "\u001B[2m../log/contracts_analysis_both_20250225_104133/safe/0x0a04dee16983ac783115c797dbcca0744c76577f/analysis_0x0a8c3b7e1\u001B[0m\n",
       "\u001B[2m49891ff594e3ad580f8e1769151a07b.json\u001B[0m\n"
      ],
      "text/html": [
       "<pre style=\"white-space:pre;overflow-x:auto;line-height:normal;font-family:Menlo,'DejaVu Sans Mono',consolas,'Courier New',monospace\"><span style=\"color: #7f7f7f; text-decoration-color: #7f7f7f\">[DEBUG] Loading JSON file: </span>\n",
       "<span style=\"color: #7f7f7f; text-decoration-color: #7f7f7f\">../log/contracts_analysis_both_20250225_104133/safe/0x0a04dee16983ac783115c797dbcca0744c76577f/analysis_0x0a8c3b7e1</span>\n",
       "<span style=\"color: #7f7f7f; text-decoration-color: #7f7f7f\">49891ff594e3ad580f8e1769151a07b.json</span>\n",
       "</pre>\n"
      ]
     },
     "metadata": {},
     "output_type": "display_data"
    },
    {
     "data": {
      "text/plain": [
       "\u001B[2m[DEBUG] Collected predictions: ['safe', 'safe', 'safe']\u001B[0m\n"
      ],
      "text/html": [
       "<pre style=\"white-space:pre;overflow-x:auto;line-height:normal;font-family:Menlo,'DejaVu Sans Mono',consolas,'Courier New',monospace\"><span style=\"color: #7f7f7f; text-decoration-color: #7f7f7f\">[DEBUG] Collected predictions: ['safe', 'safe', 'safe']</span>\n",
       "</pre>\n"
      ]
     },
     "metadata": {},
     "output_type": "display_data"
    },
    {
     "data": {
      "text/plain": [
       "\u001B[2m[DEBUG] Determined ground truth for \u001B[0m\n",
       "\u001B[2m../log/contracts_analysis_both_20250225_104133/safe/0x0a2b7fd09f82b221f4704dc2501eb4c12cce346d: safe\u001B[0m\n"
      ],
      "text/html": [
       "<pre style=\"white-space:pre;overflow-x:auto;line-height:normal;font-family:Menlo,'DejaVu Sans Mono',consolas,'Courier New',monospace\"><span style=\"color: #7f7f7f; text-decoration-color: #7f7f7f\">[DEBUG] Determined ground truth for </span>\n",
       "<span style=\"color: #7f7f7f; text-decoration-color: #7f7f7f\">../log/contracts_analysis_both_20250225_104133/safe/0x0a2b7fd09f82b221f4704dc2501eb4c12cce346d: safe</span>\n",
       "</pre>\n"
      ]
     },
     "metadata": {},
     "output_type": "display_data"
    },
    {
     "data": {
      "text/plain": [
       "\u001B[2m[DEBUG] Processing classification file: \u001B[0m\n",
       "\u001B[2m../log/contracts_analysis_both_20250225_104133/safe/0x0a2b7fd09f82b221f4704dc2501eb4c12cce346d/classification.json\u001B[0m\n"
      ],
      "text/html": [
       "<pre style=\"white-space:pre;overflow-x:auto;line-height:normal;font-family:Menlo,'DejaVu Sans Mono',consolas,'Courier New',monospace\"><span style=\"color: #7f7f7f; text-decoration-color: #7f7f7f\">[DEBUG] Processing classification file: </span>\n",
       "<span style=\"color: #7f7f7f; text-decoration-color: #7f7f7f\">../log/contracts_analysis_both_20250225_104133/safe/0x0a2b7fd09f82b221f4704dc2501eb4c12cce346d/classification.json</span>\n",
       "</pre>\n"
      ]
     },
     "metadata": {},
     "output_type": "display_data"
    },
    {
     "data": {
      "text/plain": [
       "\u001B[2m[DEBUG] Loading JSON file: \u001B[0m\n",
       "\u001B[2m../log/contracts_analysis_both_20250225_104133/safe/0x0a2b7fd09f82b221f4704dc2501eb4c12cce346d/classification.json\u001B[0m\n"
      ],
      "text/html": [
       "<pre style=\"white-space:pre;overflow-x:auto;line-height:normal;font-family:Menlo,'DejaVu Sans Mono',consolas,'Courier New',monospace\"><span style=\"color: #7f7f7f; text-decoration-color: #7f7f7f\">[DEBUG] Loading JSON file: </span>\n",
       "<span style=\"color: #7f7f7f; text-decoration-color: #7f7f7f\">../log/contracts_analysis_both_20250225_104133/safe/0x0a2b7fd09f82b221f4704dc2501eb4c12cce346d/classification.json</span>\n",
       "</pre>\n"
      ]
     },
     "metadata": {},
     "output_type": "display_data"
    },
    {
     "data": {
      "text/plain": [
       "\u001B[2m[DEBUG] Classification result: safe, Ground truth: safe\u001B[0m\n"
      ],
      "text/html": [
       "<pre style=\"white-space:pre;overflow-x:auto;line-height:normal;font-family:Menlo,'DejaVu Sans Mono',consolas,'Courier New',monospace\"><span style=\"color: #7f7f7f; text-decoration-color: #7f7f7f\">[DEBUG] Classification result: safe, Ground truth: safe</span>\n",
       "</pre>\n"
      ]
     },
     "metadata": {},
     "output_type": "display_data"
    },
    {
     "data": {
      "text/plain": [
       "\u001B[2m[DEBUG] Collecting predictions from directory: \u001B[0m\n",
       "\u001B[2m../log/contracts_analysis_both_20250225_104133/safe/0x0a2b7fd09f82b221f4704dc2501eb4c12cce346d\u001B[0m\n"
      ],
      "text/html": [
       "<pre style=\"white-space:pre;overflow-x:auto;line-height:normal;font-family:Menlo,'DejaVu Sans Mono',consolas,'Courier New',monospace\"><span style=\"color: #7f7f7f; text-decoration-color: #7f7f7f\">[DEBUG] Collecting predictions from directory: </span>\n",
       "<span style=\"color: #7f7f7f; text-decoration-color: #7f7f7f\">../log/contracts_analysis_both_20250225_104133/safe/0x0a2b7fd09f82b221f4704dc2501eb4c12cce346d</span>\n",
       "</pre>\n"
      ]
     },
     "metadata": {},
     "output_type": "display_data"
    },
    {
     "data": {
      "text/plain": [
       "\u001B[2m[DEBUG] Loading JSON file: \u001B[0m\n",
       "\u001B[2m../log/contracts_analysis_both_20250225_104133/safe/0x0a2b7fd09f82b221f4704dc2501eb4c12cce346d/analysis_0x0aa19b3e5\u001B[0m\n",
       "\u001B[2m1dd77e482690263c8af26bec2c6542e.json\u001B[0m\n"
      ],
      "text/html": [
       "<pre style=\"white-space:pre;overflow-x:auto;line-height:normal;font-family:Menlo,'DejaVu Sans Mono',consolas,'Courier New',monospace\"><span style=\"color: #7f7f7f; text-decoration-color: #7f7f7f\">[DEBUG] Loading JSON file: </span>\n",
       "<span style=\"color: #7f7f7f; text-decoration-color: #7f7f7f\">../log/contracts_analysis_both_20250225_104133/safe/0x0a2b7fd09f82b221f4704dc2501eb4c12cce346d/analysis_0x0aa19b3e5</span>\n",
       "<span style=\"color: #7f7f7f; text-decoration-color: #7f7f7f\">1dd77e482690263c8af26bec2c6542e.json</span>\n",
       "</pre>\n"
      ]
     },
     "metadata": {},
     "output_type": "display_data"
    },
    {
     "data": {
      "text/plain": [
       "\u001B[2m[DEBUG] Loading JSON file: \u001B[0m\n",
       "\u001B[2m../log/contracts_analysis_both_20250225_104133/safe/0x0a2b7fd09f82b221f4704dc2501eb4c12cce346d/analysis_0x0aab3ac44\u001B[0m\n",
       "\u001B[2m7ea90739bdbe4e0e00af0a54038904a.json\u001B[0m\n"
      ],
      "text/html": [
       "<pre style=\"white-space:pre;overflow-x:auto;line-height:normal;font-family:Menlo,'DejaVu Sans Mono',consolas,'Courier New',monospace\"><span style=\"color: #7f7f7f; text-decoration-color: #7f7f7f\">[DEBUG] Loading JSON file: </span>\n",
       "<span style=\"color: #7f7f7f; text-decoration-color: #7f7f7f\">../log/contracts_analysis_both_20250225_104133/safe/0x0a2b7fd09f82b221f4704dc2501eb4c12cce346d/analysis_0x0aab3ac44</span>\n",
       "<span style=\"color: #7f7f7f; text-decoration-color: #7f7f7f\">7ea90739bdbe4e0e00af0a54038904a.json</span>\n",
       "</pre>\n"
      ]
     },
     "metadata": {},
     "output_type": "display_data"
    },
    {
     "data": {
      "text/plain": [
       "\u001B[2m[DEBUG] Loading JSON file: \u001B[0m\n",
       "\u001B[2m../log/contracts_analysis_both_20250225_104133/safe/0x0a2b7fd09f82b221f4704dc2501eb4c12cce346d/analysis_0x0a8c3b7e1\u001B[0m\n",
       "\u001B[2m49891ff594e3ad580f8e1769151a07b.json\u001B[0m\n"
      ],
      "text/html": [
       "<pre style=\"white-space:pre;overflow-x:auto;line-height:normal;font-family:Menlo,'DejaVu Sans Mono',consolas,'Courier New',monospace\"><span style=\"color: #7f7f7f; text-decoration-color: #7f7f7f\">[DEBUG] Loading JSON file: </span>\n",
       "<span style=\"color: #7f7f7f; text-decoration-color: #7f7f7f\">../log/contracts_analysis_both_20250225_104133/safe/0x0a2b7fd09f82b221f4704dc2501eb4c12cce346d/analysis_0x0a8c3b7e1</span>\n",
       "<span style=\"color: #7f7f7f; text-decoration-color: #7f7f7f\">49891ff594e3ad580f8e1769151a07b.json</span>\n",
       "</pre>\n"
      ]
     },
     "metadata": {},
     "output_type": "display_data"
    },
    {
     "data": {
      "text/plain": [
       "\u001B[2m[DEBUG] Collected predictions: ['safe', 'safe', 'safe']\u001B[0m\n"
      ],
      "text/html": [
       "<pre style=\"white-space:pre;overflow-x:auto;line-height:normal;font-family:Menlo,'DejaVu Sans Mono',consolas,'Courier New',monospace\"><span style=\"color: #7f7f7f; text-decoration-color: #7f7f7f\">[DEBUG] Collected predictions: ['safe', 'safe', 'safe']</span>\n",
       "</pre>\n"
      ]
     },
     "metadata": {},
     "output_type": "display_data"
    },
    {
     "data": {
      "text/plain": [
       "\u001B[2m[DEBUG] Determined ground truth for \u001B[0m\n",
       "\u001B[2m../log/contracts_analysis_both_20250225_104133/safe/0x0a2a94ded0b8c9cb3bd4ec2ef86eeee637a4db7c: safe\u001B[0m\n"
      ],
      "text/html": [
       "<pre style=\"white-space:pre;overflow-x:auto;line-height:normal;font-family:Menlo,'DejaVu Sans Mono',consolas,'Courier New',monospace\"><span style=\"color: #7f7f7f; text-decoration-color: #7f7f7f\">[DEBUG] Determined ground truth for </span>\n",
       "<span style=\"color: #7f7f7f; text-decoration-color: #7f7f7f\">../log/contracts_analysis_both_20250225_104133/safe/0x0a2a94ded0b8c9cb3bd4ec2ef86eeee637a4db7c: safe</span>\n",
       "</pre>\n"
      ]
     },
     "metadata": {},
     "output_type": "display_data"
    },
    {
     "data": {
      "text/plain": [
       "\u001B[2m[DEBUG] Processing classification file: \u001B[0m\n",
       "\u001B[2m../log/contracts_analysis_both_20250225_104133/safe/0x0a2a94ded0b8c9cb3bd4ec2ef86eeee637a4db7c/classification.json\u001B[0m\n"
      ],
      "text/html": [
       "<pre style=\"white-space:pre;overflow-x:auto;line-height:normal;font-family:Menlo,'DejaVu Sans Mono',consolas,'Courier New',monospace\"><span style=\"color: #7f7f7f; text-decoration-color: #7f7f7f\">[DEBUG] Processing classification file: </span>\n",
       "<span style=\"color: #7f7f7f; text-decoration-color: #7f7f7f\">../log/contracts_analysis_both_20250225_104133/safe/0x0a2a94ded0b8c9cb3bd4ec2ef86eeee637a4db7c/classification.json</span>\n",
       "</pre>\n"
      ]
     },
     "metadata": {},
     "output_type": "display_data"
    },
    {
     "data": {
      "text/plain": [
       "\u001B[2m[DEBUG] Loading JSON file: \u001B[0m\n",
       "\u001B[2m../log/contracts_analysis_both_20250225_104133/safe/0x0a2a94ded0b8c9cb3bd4ec2ef86eeee637a4db7c/classification.json\u001B[0m\n"
      ],
      "text/html": [
       "<pre style=\"white-space:pre;overflow-x:auto;line-height:normal;font-family:Menlo,'DejaVu Sans Mono',consolas,'Courier New',monospace\"><span style=\"color: #7f7f7f; text-decoration-color: #7f7f7f\">[DEBUG] Loading JSON file: </span>\n",
       "<span style=\"color: #7f7f7f; text-decoration-color: #7f7f7f\">../log/contracts_analysis_both_20250225_104133/safe/0x0a2a94ded0b8c9cb3bd4ec2ef86eeee637a4db7c/classification.json</span>\n",
       "</pre>\n"
      ]
     },
     "metadata": {},
     "output_type": "display_data"
    },
    {
     "data": {
      "text/plain": [
       "\u001B[2m[DEBUG] Classification result: safe, Ground truth: safe\u001B[0m\n"
      ],
      "text/html": [
       "<pre style=\"white-space:pre;overflow-x:auto;line-height:normal;font-family:Menlo,'DejaVu Sans Mono',consolas,'Courier New',monospace\"><span style=\"color: #7f7f7f; text-decoration-color: #7f7f7f\">[DEBUG] Classification result: safe, Ground truth: safe</span>\n",
       "</pre>\n"
      ]
     },
     "metadata": {},
     "output_type": "display_data"
    },
    {
     "data": {
      "text/plain": [
       "\u001B[2m[DEBUG] Collecting predictions from directory: \u001B[0m\n",
       "\u001B[2m../log/contracts_analysis_both_20250225_104133/safe/0x0a2a94ded0b8c9cb3bd4ec2ef86eeee637a4db7c\u001B[0m\n"
      ],
      "text/html": [
       "<pre style=\"white-space:pre;overflow-x:auto;line-height:normal;font-family:Menlo,'DejaVu Sans Mono',consolas,'Courier New',monospace\"><span style=\"color: #7f7f7f; text-decoration-color: #7f7f7f\">[DEBUG] Collecting predictions from directory: </span>\n",
       "<span style=\"color: #7f7f7f; text-decoration-color: #7f7f7f\">../log/contracts_analysis_both_20250225_104133/safe/0x0a2a94ded0b8c9cb3bd4ec2ef86eeee637a4db7c</span>\n",
       "</pre>\n"
      ]
     },
     "metadata": {},
     "output_type": "display_data"
    },
    {
     "data": {
      "text/plain": [
       "\u001B[2m[DEBUG] Loading JSON file: \u001B[0m\n",
       "\u001B[2m../log/contracts_analysis_both_20250225_104133/safe/0x0a2a94ded0b8c9cb3bd4ec2ef86eeee637a4db7c/analysis_0x0aa19b3e5\u001B[0m\n",
       "\u001B[2m1dd77e482690263c8af26bec2c6542e.json\u001B[0m\n"
      ],
      "text/html": [
       "<pre style=\"white-space:pre;overflow-x:auto;line-height:normal;font-family:Menlo,'DejaVu Sans Mono',consolas,'Courier New',monospace\"><span style=\"color: #7f7f7f; text-decoration-color: #7f7f7f\">[DEBUG] Loading JSON file: </span>\n",
       "<span style=\"color: #7f7f7f; text-decoration-color: #7f7f7f\">../log/contracts_analysis_both_20250225_104133/safe/0x0a2a94ded0b8c9cb3bd4ec2ef86eeee637a4db7c/analysis_0x0aa19b3e5</span>\n",
       "<span style=\"color: #7f7f7f; text-decoration-color: #7f7f7f\">1dd77e482690263c8af26bec2c6542e.json</span>\n",
       "</pre>\n"
      ]
     },
     "metadata": {},
     "output_type": "display_data"
    },
    {
     "data": {
      "text/plain": [
       "\u001B[2m[DEBUG] Loading JSON file: \u001B[0m\n",
       "\u001B[2m../log/contracts_analysis_both_20250225_104133/safe/0x0a2a94ded0b8c9cb3bd4ec2ef86eeee637a4db7c/analysis_0x0aab3ac44\u001B[0m\n",
       "\u001B[2m7ea90739bdbe4e0e00af0a54038904a.json\u001B[0m\n"
      ],
      "text/html": [
       "<pre style=\"white-space:pre;overflow-x:auto;line-height:normal;font-family:Menlo,'DejaVu Sans Mono',consolas,'Courier New',monospace\"><span style=\"color: #7f7f7f; text-decoration-color: #7f7f7f\">[DEBUG] Loading JSON file: </span>\n",
       "<span style=\"color: #7f7f7f; text-decoration-color: #7f7f7f\">../log/contracts_analysis_both_20250225_104133/safe/0x0a2a94ded0b8c9cb3bd4ec2ef86eeee637a4db7c/analysis_0x0aab3ac44</span>\n",
       "<span style=\"color: #7f7f7f; text-decoration-color: #7f7f7f\">7ea90739bdbe4e0e00af0a54038904a.json</span>\n",
       "</pre>\n"
      ]
     },
     "metadata": {},
     "output_type": "display_data"
    },
    {
     "data": {
      "text/plain": [
       "\u001B[2m[DEBUG] Loading JSON file: \u001B[0m\n",
       "\u001B[2m../log/contracts_analysis_both_20250225_104133/safe/0x0a2a94ded0b8c9cb3bd4ec2ef86eeee637a4db7c/analysis_0x0a8c3b7e1\u001B[0m\n",
       "\u001B[2m49891ff594e3ad580f8e1769151a07b.json\u001B[0m\n"
      ],
      "text/html": [
       "<pre style=\"white-space:pre;overflow-x:auto;line-height:normal;font-family:Menlo,'DejaVu Sans Mono',consolas,'Courier New',monospace\"><span style=\"color: #7f7f7f; text-decoration-color: #7f7f7f\">[DEBUG] Loading JSON file: </span>\n",
       "<span style=\"color: #7f7f7f; text-decoration-color: #7f7f7f\">../log/contracts_analysis_both_20250225_104133/safe/0x0a2a94ded0b8c9cb3bd4ec2ef86eeee637a4db7c/analysis_0x0a8c3b7e1</span>\n",
       "<span style=\"color: #7f7f7f; text-decoration-color: #7f7f7f\">49891ff594e3ad580f8e1769151a07b.json</span>\n",
       "</pre>\n"
      ]
     },
     "metadata": {},
     "output_type": "display_data"
    },
    {
     "data": {
      "text/plain": [
       "\u001B[2m[DEBUG] Collected predictions: ['safe', 'safe', 'safe']\u001B[0m\n"
      ],
      "text/html": [
       "<pre style=\"white-space:pre;overflow-x:auto;line-height:normal;font-family:Menlo,'DejaVu Sans Mono',consolas,'Courier New',monospace\"><span style=\"color: #7f7f7f; text-decoration-color: #7f7f7f\">[DEBUG] Collected predictions: ['safe', 'safe', 'safe']</span>\n",
       "</pre>\n"
      ]
     },
     "metadata": {},
     "output_type": "display_data"
    },
    {
     "data": {
      "text/plain": [
       "\u001B[2m[DEBUG] Determined ground truth for \u001B[0m\n",
       "\u001B[2m../log/contracts_analysis_both_20250225_104133/safe/0x0a1d2bd73357e06a7c326b2c603e226518d15d60: safe\u001B[0m\n"
      ],
      "text/html": [
       "<pre style=\"white-space:pre;overflow-x:auto;line-height:normal;font-family:Menlo,'DejaVu Sans Mono',consolas,'Courier New',monospace\"><span style=\"color: #7f7f7f; text-decoration-color: #7f7f7f\">[DEBUG] Determined ground truth for </span>\n",
       "<span style=\"color: #7f7f7f; text-decoration-color: #7f7f7f\">../log/contracts_analysis_both_20250225_104133/safe/0x0a1d2bd73357e06a7c326b2c603e226518d15d60: safe</span>\n",
       "</pre>\n"
      ]
     },
     "metadata": {},
     "output_type": "display_data"
    },
    {
     "data": {
      "text/plain": [
       "\u001B[2m[DEBUG] Processing classification file: \u001B[0m\n",
       "\u001B[2m../log/contracts_analysis_both_20250225_104133/safe/0x0a1d2bd73357e06a7c326b2c603e226518d15d60/classification.json\u001B[0m\n"
      ],
      "text/html": [
       "<pre style=\"white-space:pre;overflow-x:auto;line-height:normal;font-family:Menlo,'DejaVu Sans Mono',consolas,'Courier New',monospace\"><span style=\"color: #7f7f7f; text-decoration-color: #7f7f7f\">[DEBUG] Processing classification file: </span>\n",
       "<span style=\"color: #7f7f7f; text-decoration-color: #7f7f7f\">../log/contracts_analysis_both_20250225_104133/safe/0x0a1d2bd73357e06a7c326b2c603e226518d15d60/classification.json</span>\n",
       "</pre>\n"
      ]
     },
     "metadata": {},
     "output_type": "display_data"
    },
    {
     "data": {
      "text/plain": [
       "\u001B[2m[DEBUG] Loading JSON file: \u001B[0m\n",
       "\u001B[2m../log/contracts_analysis_both_20250225_104133/safe/0x0a1d2bd73357e06a7c326b2c603e226518d15d60/classification.json\u001B[0m\n"
      ],
      "text/html": [
       "<pre style=\"white-space:pre;overflow-x:auto;line-height:normal;font-family:Menlo,'DejaVu Sans Mono',consolas,'Courier New',monospace\"><span style=\"color: #7f7f7f; text-decoration-color: #7f7f7f\">[DEBUG] Loading JSON file: </span>\n",
       "<span style=\"color: #7f7f7f; text-decoration-color: #7f7f7f\">../log/contracts_analysis_both_20250225_104133/safe/0x0a1d2bd73357e06a7c326b2c603e226518d15d60/classification.json</span>\n",
       "</pre>\n"
      ]
     },
     "metadata": {},
     "output_type": "display_data"
    },
    {
     "data": {
      "text/plain": [
       "\u001B[2m[DEBUG] Classification result: safe, Ground truth: safe\u001B[0m\n"
      ],
      "text/html": [
       "<pre style=\"white-space:pre;overflow-x:auto;line-height:normal;font-family:Menlo,'DejaVu Sans Mono',consolas,'Courier New',monospace\"><span style=\"color: #7f7f7f; text-decoration-color: #7f7f7f\">[DEBUG] Classification result: safe, Ground truth: safe</span>\n",
       "</pre>\n"
      ]
     },
     "metadata": {},
     "output_type": "display_data"
    },
    {
     "data": {
      "text/plain": [
       "\u001B[2m[DEBUG] Collecting predictions from directory: \u001B[0m\n",
       "\u001B[2m../log/contracts_analysis_both_20250225_104133/safe/0x0a1d2bd73357e06a7c326b2c603e226518d15d60\u001B[0m\n"
      ],
      "text/html": [
       "<pre style=\"white-space:pre;overflow-x:auto;line-height:normal;font-family:Menlo,'DejaVu Sans Mono',consolas,'Courier New',monospace\"><span style=\"color: #7f7f7f; text-decoration-color: #7f7f7f\">[DEBUG] Collecting predictions from directory: </span>\n",
       "<span style=\"color: #7f7f7f; text-decoration-color: #7f7f7f\">../log/contracts_analysis_both_20250225_104133/safe/0x0a1d2bd73357e06a7c326b2c603e226518d15d60</span>\n",
       "</pre>\n"
      ]
     },
     "metadata": {},
     "output_type": "display_data"
    },
    {
     "data": {
      "text/plain": [
       "\u001B[2m[DEBUG] Loading JSON file: \u001B[0m\n",
       "\u001B[2m../log/contracts_analysis_both_20250225_104133/safe/0x0a1d2bd73357e06a7c326b2c603e226518d15d60/analysis_0x0aa19b3e5\u001B[0m\n",
       "\u001B[2m1dd77e482690263c8af26bec2c6542e.json\u001B[0m\n"
      ],
      "text/html": [
       "<pre style=\"white-space:pre;overflow-x:auto;line-height:normal;font-family:Menlo,'DejaVu Sans Mono',consolas,'Courier New',monospace\"><span style=\"color: #7f7f7f; text-decoration-color: #7f7f7f\">[DEBUG] Loading JSON file: </span>\n",
       "<span style=\"color: #7f7f7f; text-decoration-color: #7f7f7f\">../log/contracts_analysis_both_20250225_104133/safe/0x0a1d2bd73357e06a7c326b2c603e226518d15d60/analysis_0x0aa19b3e5</span>\n",
       "<span style=\"color: #7f7f7f; text-decoration-color: #7f7f7f\">1dd77e482690263c8af26bec2c6542e.json</span>\n",
       "</pre>\n"
      ]
     },
     "metadata": {},
     "output_type": "display_data"
    },
    {
     "data": {
      "text/plain": [
       "\u001B[2m[DEBUG] Loading JSON file: \u001B[0m\n",
       "\u001B[2m../log/contracts_analysis_both_20250225_104133/safe/0x0a1d2bd73357e06a7c326b2c603e226518d15d60/analysis_0x0aab3ac44\u001B[0m\n",
       "\u001B[2m7ea90739bdbe4e0e00af0a54038904a.json\u001B[0m\n"
      ],
      "text/html": [
       "<pre style=\"white-space:pre;overflow-x:auto;line-height:normal;font-family:Menlo,'DejaVu Sans Mono',consolas,'Courier New',monospace\"><span style=\"color: #7f7f7f; text-decoration-color: #7f7f7f\">[DEBUG] Loading JSON file: </span>\n",
       "<span style=\"color: #7f7f7f; text-decoration-color: #7f7f7f\">../log/contracts_analysis_both_20250225_104133/safe/0x0a1d2bd73357e06a7c326b2c603e226518d15d60/analysis_0x0aab3ac44</span>\n",
       "<span style=\"color: #7f7f7f; text-decoration-color: #7f7f7f\">7ea90739bdbe4e0e00af0a54038904a.json</span>\n",
       "</pre>\n"
      ]
     },
     "metadata": {},
     "output_type": "display_data"
    },
    {
     "data": {
      "text/plain": [
       "\u001B[2m[DEBUG] Loading JSON file: \u001B[0m\n",
       "\u001B[2m../log/contracts_analysis_both_20250225_104133/safe/0x0a1d2bd73357e06a7c326b2c603e226518d15d60/analysis_0x0a8c3b7e1\u001B[0m\n",
       "\u001B[2m49891ff594e3ad580f8e1769151a07b.json\u001B[0m\n"
      ],
      "text/html": [
       "<pre style=\"white-space:pre;overflow-x:auto;line-height:normal;font-family:Menlo,'DejaVu Sans Mono',consolas,'Courier New',monospace\"><span style=\"color: #7f7f7f; text-decoration-color: #7f7f7f\">[DEBUG] Loading JSON file: </span>\n",
       "<span style=\"color: #7f7f7f; text-decoration-color: #7f7f7f\">../log/contracts_analysis_both_20250225_104133/safe/0x0a1d2bd73357e06a7c326b2c603e226518d15d60/analysis_0x0a8c3b7e1</span>\n",
       "<span style=\"color: #7f7f7f; text-decoration-color: #7f7f7f\">49891ff594e3ad580f8e1769151a07b.json</span>\n",
       "</pre>\n"
      ]
     },
     "metadata": {},
     "output_type": "display_data"
    },
    {
     "data": {
      "text/plain": [
       "\u001B[2m[DEBUG] Collected predictions: ['safe', 'safe', 'safe']\u001B[0m\n"
      ],
      "text/html": [
       "<pre style=\"white-space:pre;overflow-x:auto;line-height:normal;font-family:Menlo,'DejaVu Sans Mono',consolas,'Courier New',monospace\"><span style=\"color: #7f7f7f; text-decoration-color: #7f7f7f\">[DEBUG] Collected predictions: ['safe', 'safe', 'safe']</span>\n",
       "</pre>\n"
      ]
     },
     "metadata": {},
     "output_type": "display_data"
    },
    {
     "data": {
      "text/plain": [
       "\u001B[2m[DEBUG] Determined ground truth for \u001B[0m\n",
       "\u001B[2m../log/contracts_analysis_both_20250225_104133/safe/0x0a1ae172aac6d995ab4cfe50244a08b223926c97: safe\u001B[0m\n"
      ],
      "text/html": [
       "<pre style=\"white-space:pre;overflow-x:auto;line-height:normal;font-family:Menlo,'DejaVu Sans Mono',consolas,'Courier New',monospace\"><span style=\"color: #7f7f7f; text-decoration-color: #7f7f7f\">[DEBUG] Determined ground truth for </span>\n",
       "<span style=\"color: #7f7f7f; text-decoration-color: #7f7f7f\">../log/contracts_analysis_both_20250225_104133/safe/0x0a1ae172aac6d995ab4cfe50244a08b223926c97: safe</span>\n",
       "</pre>\n"
      ]
     },
     "metadata": {},
     "output_type": "display_data"
    },
    {
     "data": {
      "text/plain": [
       "\u001B[2m[DEBUG] Processing classification file: \u001B[0m\n",
       "\u001B[2m../log/contracts_analysis_both_20250225_104133/safe/0x0a1ae172aac6d995ab4cfe50244a08b223926c97/classification.json\u001B[0m\n"
      ],
      "text/html": [
       "<pre style=\"white-space:pre;overflow-x:auto;line-height:normal;font-family:Menlo,'DejaVu Sans Mono',consolas,'Courier New',monospace\"><span style=\"color: #7f7f7f; text-decoration-color: #7f7f7f\">[DEBUG] Processing classification file: </span>\n",
       "<span style=\"color: #7f7f7f; text-decoration-color: #7f7f7f\">../log/contracts_analysis_both_20250225_104133/safe/0x0a1ae172aac6d995ab4cfe50244a08b223926c97/classification.json</span>\n",
       "</pre>\n"
      ]
     },
     "metadata": {},
     "output_type": "display_data"
    },
    {
     "data": {
      "text/plain": [
       "\u001B[2m[DEBUG] Loading JSON file: \u001B[0m\n",
       "\u001B[2m../log/contracts_analysis_both_20250225_104133/safe/0x0a1ae172aac6d995ab4cfe50244a08b223926c97/classification.json\u001B[0m\n"
      ],
      "text/html": [
       "<pre style=\"white-space:pre;overflow-x:auto;line-height:normal;font-family:Menlo,'DejaVu Sans Mono',consolas,'Courier New',monospace\"><span style=\"color: #7f7f7f; text-decoration-color: #7f7f7f\">[DEBUG] Loading JSON file: </span>\n",
       "<span style=\"color: #7f7f7f; text-decoration-color: #7f7f7f\">../log/contracts_analysis_both_20250225_104133/safe/0x0a1ae172aac6d995ab4cfe50244a08b223926c97/classification.json</span>\n",
       "</pre>\n"
      ]
     },
     "metadata": {},
     "output_type": "display_data"
    },
    {
     "data": {
      "text/plain": [
       "\u001B[2m[DEBUG] Classification result: safe, Ground truth: safe\u001B[0m\n"
      ],
      "text/html": [
       "<pre style=\"white-space:pre;overflow-x:auto;line-height:normal;font-family:Menlo,'DejaVu Sans Mono',consolas,'Courier New',monospace\"><span style=\"color: #7f7f7f; text-decoration-color: #7f7f7f\">[DEBUG] Classification result: safe, Ground truth: safe</span>\n",
       "</pre>\n"
      ]
     },
     "metadata": {},
     "output_type": "display_data"
    },
    {
     "data": {
      "text/plain": [
       "\u001B[2m[DEBUG] Collecting predictions from directory: \u001B[0m\n",
       "\u001B[2m../log/contracts_analysis_both_20250225_104133/safe/0x0a1ae172aac6d995ab4cfe50244a08b223926c97\u001B[0m\n"
      ],
      "text/html": [
       "<pre style=\"white-space:pre;overflow-x:auto;line-height:normal;font-family:Menlo,'DejaVu Sans Mono',consolas,'Courier New',monospace\"><span style=\"color: #7f7f7f; text-decoration-color: #7f7f7f\">[DEBUG] Collecting predictions from directory: </span>\n",
       "<span style=\"color: #7f7f7f; text-decoration-color: #7f7f7f\">../log/contracts_analysis_both_20250225_104133/safe/0x0a1ae172aac6d995ab4cfe50244a08b223926c97</span>\n",
       "</pre>\n"
      ]
     },
     "metadata": {},
     "output_type": "display_data"
    },
    {
     "data": {
      "text/plain": [
       "\u001B[2m[DEBUG] Loading JSON file: \u001B[0m\n",
       "\u001B[2m../log/contracts_analysis_both_20250225_104133/safe/0x0a1ae172aac6d995ab4cfe50244a08b223926c97/analysis_0x0aa19b3e5\u001B[0m\n",
       "\u001B[2m1dd77e482690263c8af26bec2c6542e.json\u001B[0m\n"
      ],
      "text/html": [
       "<pre style=\"white-space:pre;overflow-x:auto;line-height:normal;font-family:Menlo,'DejaVu Sans Mono',consolas,'Courier New',monospace\"><span style=\"color: #7f7f7f; text-decoration-color: #7f7f7f\">[DEBUG] Loading JSON file: </span>\n",
       "<span style=\"color: #7f7f7f; text-decoration-color: #7f7f7f\">../log/contracts_analysis_both_20250225_104133/safe/0x0a1ae172aac6d995ab4cfe50244a08b223926c97/analysis_0x0aa19b3e5</span>\n",
       "<span style=\"color: #7f7f7f; text-decoration-color: #7f7f7f\">1dd77e482690263c8af26bec2c6542e.json</span>\n",
       "</pre>\n"
      ]
     },
     "metadata": {},
     "output_type": "display_data"
    },
    {
     "data": {
      "text/plain": [
       "\u001B[2m[DEBUG] Loading JSON file: \u001B[0m\n",
       "\u001B[2m../log/contracts_analysis_both_20250225_104133/safe/0x0a1ae172aac6d995ab4cfe50244a08b223926c97/analysis_0x0aab3ac44\u001B[0m\n",
       "\u001B[2m7ea90739bdbe4e0e00af0a54038904a.json\u001B[0m\n"
      ],
      "text/html": [
       "<pre style=\"white-space:pre;overflow-x:auto;line-height:normal;font-family:Menlo,'DejaVu Sans Mono',consolas,'Courier New',monospace\"><span style=\"color: #7f7f7f; text-decoration-color: #7f7f7f\">[DEBUG] Loading JSON file: </span>\n",
       "<span style=\"color: #7f7f7f; text-decoration-color: #7f7f7f\">../log/contracts_analysis_both_20250225_104133/safe/0x0a1ae172aac6d995ab4cfe50244a08b223926c97/analysis_0x0aab3ac44</span>\n",
       "<span style=\"color: #7f7f7f; text-decoration-color: #7f7f7f\">7ea90739bdbe4e0e00af0a54038904a.json</span>\n",
       "</pre>\n"
      ]
     },
     "metadata": {},
     "output_type": "display_data"
    },
    {
     "data": {
      "text/plain": [
       "\u001B[2m[DEBUG] Loading JSON file: \u001B[0m\n",
       "\u001B[2m../log/contracts_analysis_both_20250225_104133/safe/0x0a1ae172aac6d995ab4cfe50244a08b223926c97/analysis_0x0a8c3b7e1\u001B[0m\n",
       "\u001B[2m49891ff594e3ad580f8e1769151a07b.json\u001B[0m\n"
      ],
      "text/html": [
       "<pre style=\"white-space:pre;overflow-x:auto;line-height:normal;font-family:Menlo,'DejaVu Sans Mono',consolas,'Courier New',monospace\"><span style=\"color: #7f7f7f; text-decoration-color: #7f7f7f\">[DEBUG] Loading JSON file: </span>\n",
       "<span style=\"color: #7f7f7f; text-decoration-color: #7f7f7f\">../log/contracts_analysis_both_20250225_104133/safe/0x0a1ae172aac6d995ab4cfe50244a08b223926c97/analysis_0x0a8c3b7e1</span>\n",
       "<span style=\"color: #7f7f7f; text-decoration-color: #7f7f7f\">49891ff594e3ad580f8e1769151a07b.json</span>\n",
       "</pre>\n"
      ]
     },
     "metadata": {},
     "output_type": "display_data"
    },
    {
     "data": {
      "text/plain": [
       "\u001B[2m[DEBUG] Collected predictions: ['safe', 'safe', 'safe']\u001B[0m\n"
      ],
      "text/html": [
       "<pre style=\"white-space:pre;overflow-x:auto;line-height:normal;font-family:Menlo,'DejaVu Sans Mono',consolas,'Courier New',monospace\"><span style=\"color: #7f7f7f; text-decoration-color: #7f7f7f\">[DEBUG] Collected predictions: ['safe', 'safe', 'safe']</span>\n",
       "</pre>\n"
      ]
     },
     "metadata": {},
     "output_type": "display_data"
    },
    {
     "name": "stderr",
     "output_type": "stream",
     "text": [
      "Processing contracts:  34%|███▍      | 33/96 [00:00<00:01, 35.87it/s]"
     ]
    },
    {
     "data": {
      "text/plain": [
       "\u001B[2m[DEBUG] Determined ground truth for \u001B[0m\n",
       "\u001B[2m../log/contracts_analysis_both_20250225_104133/safe/0x0a2eaa1101bfec3844d9f79dd4e5b2f2d5b1fd4d: safe\u001B[0m\n"
      ],
      "text/html": [
       "<pre style=\"white-space:pre;overflow-x:auto;line-height:normal;font-family:Menlo,'DejaVu Sans Mono',consolas,'Courier New',monospace\"><span style=\"color: #7f7f7f; text-decoration-color: #7f7f7f\">[DEBUG] Determined ground truth for </span>\n",
       "<span style=\"color: #7f7f7f; text-decoration-color: #7f7f7f\">../log/contracts_analysis_both_20250225_104133/safe/0x0a2eaa1101bfec3844d9f79dd4e5b2f2d5b1fd4d: safe</span>\n",
       "</pre>\n"
      ]
     },
     "metadata": {},
     "output_type": "display_data"
    },
    {
     "data": {
      "text/plain": [
       "\u001B[2m[DEBUG] Processing classification file: \u001B[0m\n",
       "\u001B[2m../log/contracts_analysis_both_20250225_104133/safe/0x0a2eaa1101bfec3844d9f79dd4e5b2f2d5b1fd4d/classification.json\u001B[0m\n"
      ],
      "text/html": [
       "<pre style=\"white-space:pre;overflow-x:auto;line-height:normal;font-family:Menlo,'DejaVu Sans Mono',consolas,'Courier New',monospace\"><span style=\"color: #7f7f7f; text-decoration-color: #7f7f7f\">[DEBUG] Processing classification file: </span>\n",
       "<span style=\"color: #7f7f7f; text-decoration-color: #7f7f7f\">../log/contracts_analysis_both_20250225_104133/safe/0x0a2eaa1101bfec3844d9f79dd4e5b2f2d5b1fd4d/classification.json</span>\n",
       "</pre>\n"
      ]
     },
     "metadata": {},
     "output_type": "display_data"
    },
    {
     "data": {
      "text/plain": [
       "\u001B[2m[DEBUG] Loading JSON file: \u001B[0m\n",
       "\u001B[2m../log/contracts_analysis_both_20250225_104133/safe/0x0a2eaa1101bfec3844d9f79dd4e5b2f2d5b1fd4d/classification.json\u001B[0m\n"
      ],
      "text/html": [
       "<pre style=\"white-space:pre;overflow-x:auto;line-height:normal;font-family:Menlo,'DejaVu Sans Mono',consolas,'Courier New',monospace\"><span style=\"color: #7f7f7f; text-decoration-color: #7f7f7f\">[DEBUG] Loading JSON file: </span>\n",
       "<span style=\"color: #7f7f7f; text-decoration-color: #7f7f7f\">../log/contracts_analysis_both_20250225_104133/safe/0x0a2eaa1101bfec3844d9f79dd4e5b2f2d5b1fd4d/classification.json</span>\n",
       "</pre>\n"
      ]
     },
     "metadata": {},
     "output_type": "display_data"
    },
    {
     "data": {
      "text/plain": [
       "\u001B[2m[DEBUG] Classification result: safe, Ground truth: safe\u001B[0m\n"
      ],
      "text/html": [
       "<pre style=\"white-space:pre;overflow-x:auto;line-height:normal;font-family:Menlo,'DejaVu Sans Mono',consolas,'Courier New',monospace\"><span style=\"color: #7f7f7f; text-decoration-color: #7f7f7f\">[DEBUG] Classification result: safe, Ground truth: safe</span>\n",
       "</pre>\n"
      ]
     },
     "metadata": {},
     "output_type": "display_data"
    },
    {
     "data": {
      "text/plain": [
       "\u001B[2m[DEBUG] Collecting predictions from directory: \u001B[0m\n",
       "\u001B[2m../log/contracts_analysis_both_20250225_104133/safe/0x0a2eaa1101bfec3844d9f79dd4e5b2f2d5b1fd4d\u001B[0m\n"
      ],
      "text/html": [
       "<pre style=\"white-space:pre;overflow-x:auto;line-height:normal;font-family:Menlo,'DejaVu Sans Mono',consolas,'Courier New',monospace\"><span style=\"color: #7f7f7f; text-decoration-color: #7f7f7f\">[DEBUG] Collecting predictions from directory: </span>\n",
       "<span style=\"color: #7f7f7f; text-decoration-color: #7f7f7f\">../log/contracts_analysis_both_20250225_104133/safe/0x0a2eaa1101bfec3844d9f79dd4e5b2f2d5b1fd4d</span>\n",
       "</pre>\n"
      ]
     },
     "metadata": {},
     "output_type": "display_data"
    },
    {
     "data": {
      "text/plain": [
       "\u001B[2m[DEBUG] Loading JSON file: \u001B[0m\n",
       "\u001B[2m../log/contracts_analysis_both_20250225_104133/safe/0x0a2eaa1101bfec3844d9f79dd4e5b2f2d5b1fd4d/analysis_0x0aa19b3e5\u001B[0m\n",
       "\u001B[2m1dd77e482690263c8af26bec2c6542e.json\u001B[0m\n"
      ],
      "text/html": [
       "<pre style=\"white-space:pre;overflow-x:auto;line-height:normal;font-family:Menlo,'DejaVu Sans Mono',consolas,'Courier New',monospace\"><span style=\"color: #7f7f7f; text-decoration-color: #7f7f7f\">[DEBUG] Loading JSON file: </span>\n",
       "<span style=\"color: #7f7f7f; text-decoration-color: #7f7f7f\">../log/contracts_analysis_both_20250225_104133/safe/0x0a2eaa1101bfec3844d9f79dd4e5b2f2d5b1fd4d/analysis_0x0aa19b3e5</span>\n",
       "<span style=\"color: #7f7f7f; text-decoration-color: #7f7f7f\">1dd77e482690263c8af26bec2c6542e.json</span>\n",
       "</pre>\n"
      ]
     },
     "metadata": {},
     "output_type": "display_data"
    },
    {
     "data": {
      "text/plain": [
       "\u001B[2m[DEBUG] Loading JSON file: \u001B[0m\n",
       "\u001B[2m../log/contracts_analysis_both_20250225_104133/safe/0x0a2eaa1101bfec3844d9f79dd4e5b2f2d5b1fd4d/analysis_0x0aab3ac44\u001B[0m\n",
       "\u001B[2m7ea90739bdbe4e0e00af0a54038904a.json\u001B[0m\n"
      ],
      "text/html": [
       "<pre style=\"white-space:pre;overflow-x:auto;line-height:normal;font-family:Menlo,'DejaVu Sans Mono',consolas,'Courier New',monospace\"><span style=\"color: #7f7f7f; text-decoration-color: #7f7f7f\">[DEBUG] Loading JSON file: </span>\n",
       "<span style=\"color: #7f7f7f; text-decoration-color: #7f7f7f\">../log/contracts_analysis_both_20250225_104133/safe/0x0a2eaa1101bfec3844d9f79dd4e5b2f2d5b1fd4d/analysis_0x0aab3ac44</span>\n",
       "<span style=\"color: #7f7f7f; text-decoration-color: #7f7f7f\">7ea90739bdbe4e0e00af0a54038904a.json</span>\n",
       "</pre>\n"
      ]
     },
     "metadata": {},
     "output_type": "display_data"
    },
    {
     "data": {
      "text/plain": [
       "\u001B[2m[DEBUG] Loading JSON file: \u001B[0m\n",
       "\u001B[2m../log/contracts_analysis_both_20250225_104133/safe/0x0a2eaa1101bfec3844d9f79dd4e5b2f2d5b1fd4d/analysis_0x0a8c3b7e1\u001B[0m\n",
       "\u001B[2m49891ff594e3ad580f8e1769151a07b.json\u001B[0m\n"
      ],
      "text/html": [
       "<pre style=\"white-space:pre;overflow-x:auto;line-height:normal;font-family:Menlo,'DejaVu Sans Mono',consolas,'Courier New',monospace\"><span style=\"color: #7f7f7f; text-decoration-color: #7f7f7f\">[DEBUG] Loading JSON file: </span>\n",
       "<span style=\"color: #7f7f7f; text-decoration-color: #7f7f7f\">../log/contracts_analysis_both_20250225_104133/safe/0x0a2eaa1101bfec3844d9f79dd4e5b2f2d5b1fd4d/analysis_0x0a8c3b7e1</span>\n",
       "<span style=\"color: #7f7f7f; text-decoration-color: #7f7f7f\">49891ff594e3ad580f8e1769151a07b.json</span>\n",
       "</pre>\n"
      ]
     },
     "metadata": {},
     "output_type": "display_data"
    },
    {
     "data": {
      "text/plain": [
       "\u001B[2m[DEBUG] Collected predictions: ['safe', 'safe', 'safe']\u001B[0m\n"
      ],
      "text/html": [
       "<pre style=\"white-space:pre;overflow-x:auto;line-height:normal;font-family:Menlo,'DejaVu Sans Mono',consolas,'Courier New',monospace\"><span style=\"color: #7f7f7f; text-decoration-color: #7f7f7f\">[DEBUG] Collected predictions: ['safe', 'safe', 'safe']</span>\n",
       "</pre>\n"
      ]
     },
     "metadata": {},
     "output_type": "display_data"
    },
    {
     "data": {
      "text/plain": [
       "\u001B[2m[DEBUG] Determined ground truth for \u001B[0m\n",
       "\u001B[2m../log/contracts_analysis_both_20250225_104133/safe/0x00a03e1dc6ccb4de2ac005c93ce20ac009baba96: safe\u001B[0m\n"
      ],
      "text/html": [
       "<pre style=\"white-space:pre;overflow-x:auto;line-height:normal;font-family:Menlo,'DejaVu Sans Mono',consolas,'Courier New',monospace\"><span style=\"color: #7f7f7f; text-decoration-color: #7f7f7f\">[DEBUG] Determined ground truth for </span>\n",
       "<span style=\"color: #7f7f7f; text-decoration-color: #7f7f7f\">../log/contracts_analysis_both_20250225_104133/safe/0x00a03e1dc6ccb4de2ac005c93ce20ac009baba96: safe</span>\n",
       "</pre>\n"
      ]
     },
     "metadata": {},
     "output_type": "display_data"
    },
    {
     "data": {
      "text/plain": [
       "\u001B[2m[DEBUG] Processing classification file: \u001B[0m\n",
       "\u001B[2m../log/contracts_analysis_both_20250225_104133/safe/0x00a03e1dc6ccb4de2ac005c93ce20ac009baba96/classification.json\u001B[0m\n"
      ],
      "text/html": [
       "<pre style=\"white-space:pre;overflow-x:auto;line-height:normal;font-family:Menlo,'DejaVu Sans Mono',consolas,'Courier New',monospace\"><span style=\"color: #7f7f7f; text-decoration-color: #7f7f7f\">[DEBUG] Processing classification file: </span>\n",
       "<span style=\"color: #7f7f7f; text-decoration-color: #7f7f7f\">../log/contracts_analysis_both_20250225_104133/safe/0x00a03e1dc6ccb4de2ac005c93ce20ac009baba96/classification.json</span>\n",
       "</pre>\n"
      ]
     },
     "metadata": {},
     "output_type": "display_data"
    },
    {
     "data": {
      "text/plain": [
       "\u001B[2m[DEBUG] Loading JSON file: \u001B[0m\n",
       "\u001B[2m../log/contracts_analysis_both_20250225_104133/safe/0x00a03e1dc6ccb4de2ac005c93ce20ac009baba96/classification.json\u001B[0m\n"
      ],
      "text/html": [
       "<pre style=\"white-space:pre;overflow-x:auto;line-height:normal;font-family:Menlo,'DejaVu Sans Mono',consolas,'Courier New',monospace\"><span style=\"color: #7f7f7f; text-decoration-color: #7f7f7f\">[DEBUG] Loading JSON file: </span>\n",
       "<span style=\"color: #7f7f7f; text-decoration-color: #7f7f7f\">../log/contracts_analysis_both_20250225_104133/safe/0x00a03e1dc6ccb4de2ac005c93ce20ac009baba96/classification.json</span>\n",
       "</pre>\n"
      ]
     },
     "metadata": {},
     "output_type": "display_data"
    },
    {
     "data": {
      "text/plain": [
       "\u001B[2m[DEBUG] Classification result: reentrant, Ground truth: safe\u001B[0m\n"
      ],
      "text/html": [
       "<pre style=\"white-space:pre;overflow-x:auto;line-height:normal;font-family:Menlo,'DejaVu Sans Mono',consolas,'Courier New',monospace\"><span style=\"color: #7f7f7f; text-decoration-color: #7f7f7f\">[DEBUG] Classification result: reentrant, Ground truth: safe</span>\n",
       "</pre>\n"
      ]
     },
     "metadata": {},
     "output_type": "display_data"
    },
    {
     "data": {
      "text/plain": [
       "\u001B[2m[DEBUG] Collecting predictions from directory: \u001B[0m\n",
       "\u001B[2m../log/contracts_analysis_both_20250225_104133/safe/0x00a03e1dc6ccb4de2ac005c93ce20ac009baba96\u001B[0m\n"
      ],
      "text/html": [
       "<pre style=\"white-space:pre;overflow-x:auto;line-height:normal;font-family:Menlo,'DejaVu Sans Mono',consolas,'Courier New',monospace\"><span style=\"color: #7f7f7f; text-decoration-color: #7f7f7f\">[DEBUG] Collecting predictions from directory: </span>\n",
       "<span style=\"color: #7f7f7f; text-decoration-color: #7f7f7f\">../log/contracts_analysis_both_20250225_104133/safe/0x00a03e1dc6ccb4de2ac005c93ce20ac009baba96</span>\n",
       "</pre>\n"
      ]
     },
     "metadata": {},
     "output_type": "display_data"
    },
    {
     "data": {
      "text/plain": [
       "\u001B[2m[DEBUG] Loading JSON file: \u001B[0m\n",
       "\u001B[2m../log/contracts_analysis_both_20250225_104133/safe/0x00a03e1dc6ccb4de2ac005c93ce20ac009baba96/analysis_0x0aa19b3e5\u001B[0m\n",
       "\u001B[2m1dd77e482690263c8af26bec2c6542e.json\u001B[0m\n"
      ],
      "text/html": [
       "<pre style=\"white-space:pre;overflow-x:auto;line-height:normal;font-family:Menlo,'DejaVu Sans Mono',consolas,'Courier New',monospace\"><span style=\"color: #7f7f7f; text-decoration-color: #7f7f7f\">[DEBUG] Loading JSON file: </span>\n",
       "<span style=\"color: #7f7f7f; text-decoration-color: #7f7f7f\">../log/contracts_analysis_both_20250225_104133/safe/0x00a03e1dc6ccb4de2ac005c93ce20ac009baba96/analysis_0x0aa19b3e5</span>\n",
       "<span style=\"color: #7f7f7f; text-decoration-color: #7f7f7f\">1dd77e482690263c8af26bec2c6542e.json</span>\n",
       "</pre>\n"
      ]
     },
     "metadata": {},
     "output_type": "display_data"
    },
    {
     "data": {
      "text/plain": [
       "\u001B[2m[DEBUG] Loading JSON file: \u001B[0m\n",
       "\u001B[2m../log/contracts_analysis_both_20250225_104133/safe/0x00a03e1dc6ccb4de2ac005c93ce20ac009baba96/analysis_0x0aab3ac44\u001B[0m\n",
       "\u001B[2m7ea90739bdbe4e0e00af0a54038904a.json\u001B[0m\n"
      ],
      "text/html": [
       "<pre style=\"white-space:pre;overflow-x:auto;line-height:normal;font-family:Menlo,'DejaVu Sans Mono',consolas,'Courier New',monospace\"><span style=\"color: #7f7f7f; text-decoration-color: #7f7f7f\">[DEBUG] Loading JSON file: </span>\n",
       "<span style=\"color: #7f7f7f; text-decoration-color: #7f7f7f\">../log/contracts_analysis_both_20250225_104133/safe/0x00a03e1dc6ccb4de2ac005c93ce20ac009baba96/analysis_0x0aab3ac44</span>\n",
       "<span style=\"color: #7f7f7f; text-decoration-color: #7f7f7f\">7ea90739bdbe4e0e00af0a54038904a.json</span>\n",
       "</pre>\n"
      ]
     },
     "metadata": {},
     "output_type": "display_data"
    },
    {
     "data": {
      "text/plain": [
       "\u001B[2m[DEBUG] Loading JSON file: \u001B[0m\n",
       "\u001B[2m../log/contracts_analysis_both_20250225_104133/safe/0x00a03e1dc6ccb4de2ac005c93ce20ac009baba96/analysis_0x0a8c3b7e1\u001B[0m\n",
       "\u001B[2m49891ff594e3ad580f8e1769151a07b.json\u001B[0m\n"
      ],
      "text/html": [
       "<pre style=\"white-space:pre;overflow-x:auto;line-height:normal;font-family:Menlo,'DejaVu Sans Mono',consolas,'Courier New',monospace\"><span style=\"color: #7f7f7f; text-decoration-color: #7f7f7f\">[DEBUG] Loading JSON file: </span>\n",
       "<span style=\"color: #7f7f7f; text-decoration-color: #7f7f7f\">../log/contracts_analysis_both_20250225_104133/safe/0x00a03e1dc6ccb4de2ac005c93ce20ac009baba96/analysis_0x0a8c3b7e1</span>\n",
       "<span style=\"color: #7f7f7f; text-decoration-color: #7f7f7f\">49891ff594e3ad580f8e1769151a07b.json</span>\n",
       "</pre>\n"
      ]
     },
     "metadata": {},
     "output_type": "display_data"
    },
    {
     "data": {
      "text/plain": [
       "\u001B[2m[DEBUG] Collected predictions: ['safe', 'safe', 'safe']\u001B[0m\n"
      ],
      "text/html": [
       "<pre style=\"white-space:pre;overflow-x:auto;line-height:normal;font-family:Menlo,'DejaVu Sans Mono',consolas,'Courier New',monospace\"><span style=\"color: #7f7f7f; text-decoration-color: #7f7f7f\">[DEBUG] Collected predictions: ['safe', 'safe', 'safe']</span>\n",
       "</pre>\n"
      ]
     },
     "metadata": {},
     "output_type": "display_data"
    },
    {
     "data": {
      "text/plain": [
       "\u001B[2m[DEBUG] Determined ground truth for \u001B[0m\n",
       "\u001B[2m../log/contracts_analysis_both_20250225_104133/safe/0x0a2d9370cf74da3fd3df5d764e394ca8205c50b6: safe\u001B[0m\n"
      ],
      "text/html": [
       "<pre style=\"white-space:pre;overflow-x:auto;line-height:normal;font-family:Menlo,'DejaVu Sans Mono',consolas,'Courier New',monospace\"><span style=\"color: #7f7f7f; text-decoration-color: #7f7f7f\">[DEBUG] Determined ground truth for </span>\n",
       "<span style=\"color: #7f7f7f; text-decoration-color: #7f7f7f\">../log/contracts_analysis_both_20250225_104133/safe/0x0a2d9370cf74da3fd3df5d764e394ca8205c50b6: safe</span>\n",
       "</pre>\n"
      ]
     },
     "metadata": {},
     "output_type": "display_data"
    },
    {
     "data": {
      "text/plain": [
       "\u001B[2m[DEBUG] Processing classification file: \u001B[0m\n",
       "\u001B[2m../log/contracts_analysis_both_20250225_104133/safe/0x0a2d9370cf74da3fd3df5d764e394ca8205c50b6/classification.json\u001B[0m\n"
      ],
      "text/html": [
       "<pre style=\"white-space:pre;overflow-x:auto;line-height:normal;font-family:Menlo,'DejaVu Sans Mono',consolas,'Courier New',monospace\"><span style=\"color: #7f7f7f; text-decoration-color: #7f7f7f\">[DEBUG] Processing classification file: </span>\n",
       "<span style=\"color: #7f7f7f; text-decoration-color: #7f7f7f\">../log/contracts_analysis_both_20250225_104133/safe/0x0a2d9370cf74da3fd3df5d764e394ca8205c50b6/classification.json</span>\n",
       "</pre>\n"
      ]
     },
     "metadata": {},
     "output_type": "display_data"
    },
    {
     "data": {
      "text/plain": [
       "\u001B[2m[DEBUG] Loading JSON file: \u001B[0m\n",
       "\u001B[2m../log/contracts_analysis_both_20250225_104133/safe/0x0a2d9370cf74da3fd3df5d764e394ca8205c50b6/classification.json\u001B[0m\n"
      ],
      "text/html": [
       "<pre style=\"white-space:pre;overflow-x:auto;line-height:normal;font-family:Menlo,'DejaVu Sans Mono',consolas,'Courier New',monospace\"><span style=\"color: #7f7f7f; text-decoration-color: #7f7f7f\">[DEBUG] Loading JSON file: </span>\n",
       "<span style=\"color: #7f7f7f; text-decoration-color: #7f7f7f\">../log/contracts_analysis_both_20250225_104133/safe/0x0a2d9370cf74da3fd3df5d764e394ca8205c50b6/classification.json</span>\n",
       "</pre>\n"
      ]
     },
     "metadata": {},
     "output_type": "display_data"
    },
    {
     "data": {
      "text/plain": [
       "\u001B[2m[DEBUG] Classification result: safe, Ground truth: safe\u001B[0m\n"
      ],
      "text/html": [
       "<pre style=\"white-space:pre;overflow-x:auto;line-height:normal;font-family:Menlo,'DejaVu Sans Mono',consolas,'Courier New',monospace\"><span style=\"color: #7f7f7f; text-decoration-color: #7f7f7f\">[DEBUG] Classification result: safe, Ground truth: safe</span>\n",
       "</pre>\n"
      ]
     },
     "metadata": {},
     "output_type": "display_data"
    },
    {
     "data": {
      "text/plain": [
       "\u001B[2m[DEBUG] Collecting predictions from directory: \u001B[0m\n",
       "\u001B[2m../log/contracts_analysis_both_20250225_104133/safe/0x0a2d9370cf74da3fd3df5d764e394ca8205c50b6\u001B[0m\n"
      ],
      "text/html": [
       "<pre style=\"white-space:pre;overflow-x:auto;line-height:normal;font-family:Menlo,'DejaVu Sans Mono',consolas,'Courier New',monospace\"><span style=\"color: #7f7f7f; text-decoration-color: #7f7f7f\">[DEBUG] Collecting predictions from directory: </span>\n",
       "<span style=\"color: #7f7f7f; text-decoration-color: #7f7f7f\">../log/contracts_analysis_both_20250225_104133/safe/0x0a2d9370cf74da3fd3df5d764e394ca8205c50b6</span>\n",
       "</pre>\n"
      ]
     },
     "metadata": {},
     "output_type": "display_data"
    },
    {
     "data": {
      "text/plain": [
       "\u001B[2m[DEBUG] Loading JSON file: \u001B[0m\n",
       "\u001B[2m../log/contracts_analysis_both_20250225_104133/safe/0x0a2d9370cf74da3fd3df5d764e394ca8205c50b6/analysis_0x0aa19b3e5\u001B[0m\n",
       "\u001B[2m1dd77e482690263c8af26bec2c6542e.json\u001B[0m\n"
      ],
      "text/html": [
       "<pre style=\"white-space:pre;overflow-x:auto;line-height:normal;font-family:Menlo,'DejaVu Sans Mono',consolas,'Courier New',monospace\"><span style=\"color: #7f7f7f; text-decoration-color: #7f7f7f\">[DEBUG] Loading JSON file: </span>\n",
       "<span style=\"color: #7f7f7f; text-decoration-color: #7f7f7f\">../log/contracts_analysis_both_20250225_104133/safe/0x0a2d9370cf74da3fd3df5d764e394ca8205c50b6/analysis_0x0aa19b3e5</span>\n",
       "<span style=\"color: #7f7f7f; text-decoration-color: #7f7f7f\">1dd77e482690263c8af26bec2c6542e.json</span>\n",
       "</pre>\n"
      ]
     },
     "metadata": {},
     "output_type": "display_data"
    },
    {
     "data": {
      "text/plain": [
       "\u001B[2m[DEBUG] Loading JSON file: \u001B[0m\n",
       "\u001B[2m../log/contracts_analysis_both_20250225_104133/safe/0x0a2d9370cf74da3fd3df5d764e394ca8205c50b6/analysis_0x0aab3ac44\u001B[0m\n",
       "\u001B[2m7ea90739bdbe4e0e00af0a54038904a.json\u001B[0m\n"
      ],
      "text/html": [
       "<pre style=\"white-space:pre;overflow-x:auto;line-height:normal;font-family:Menlo,'DejaVu Sans Mono',consolas,'Courier New',monospace\"><span style=\"color: #7f7f7f; text-decoration-color: #7f7f7f\">[DEBUG] Loading JSON file: </span>\n",
       "<span style=\"color: #7f7f7f; text-decoration-color: #7f7f7f\">../log/contracts_analysis_both_20250225_104133/safe/0x0a2d9370cf74da3fd3df5d764e394ca8205c50b6/analysis_0x0aab3ac44</span>\n",
       "<span style=\"color: #7f7f7f; text-decoration-color: #7f7f7f\">7ea90739bdbe4e0e00af0a54038904a.json</span>\n",
       "</pre>\n"
      ]
     },
     "metadata": {},
     "output_type": "display_data"
    },
    {
     "data": {
      "text/plain": [
       "\u001B[2m[DEBUG] Loading JSON file: \u001B[0m\n",
       "\u001B[2m../log/contracts_analysis_both_20250225_104133/safe/0x0a2d9370cf74da3fd3df5d764e394ca8205c50b6/analysis_0x0a8c3b7e1\u001B[0m\n",
       "\u001B[2m49891ff594e3ad580f8e1769151a07b.json\u001B[0m\n"
      ],
      "text/html": [
       "<pre style=\"white-space:pre;overflow-x:auto;line-height:normal;font-family:Menlo,'DejaVu Sans Mono',consolas,'Courier New',monospace\"><span style=\"color: #7f7f7f; text-decoration-color: #7f7f7f\">[DEBUG] Loading JSON file: </span>\n",
       "<span style=\"color: #7f7f7f; text-decoration-color: #7f7f7f\">../log/contracts_analysis_both_20250225_104133/safe/0x0a2d9370cf74da3fd3df5d764e394ca8205c50b6/analysis_0x0a8c3b7e1</span>\n",
       "<span style=\"color: #7f7f7f; text-decoration-color: #7f7f7f\">49891ff594e3ad580f8e1769151a07b.json</span>\n",
       "</pre>\n"
      ]
     },
     "metadata": {},
     "output_type": "display_data"
    },
    {
     "data": {
      "text/plain": [
       "\u001B[2m[DEBUG] Collected predictions: ['safe', 'safe', 'safe']\u001B[0m\n"
      ],
      "text/html": [
       "<pre style=\"white-space:pre;overflow-x:auto;line-height:normal;font-family:Menlo,'DejaVu Sans Mono',consolas,'Courier New',monospace\"><span style=\"color: #7f7f7f; text-decoration-color: #7f7f7f\">[DEBUG] Collected predictions: ['safe', 'safe', 'safe']</span>\n",
       "</pre>\n"
      ]
     },
     "metadata": {},
     "output_type": "display_data"
    },
    {
     "data": {
      "text/plain": [
       "\u001B[2m[DEBUG] Determined ground truth for \u001B[0m\n",
       "\u001B[2m../log/contracts_analysis_both_20250225_104133/safe/0x0a4fa9eb44e296485a51d468fd98f6b01c735f4c: safe\u001B[0m\n"
      ],
      "text/html": [
       "<pre style=\"white-space:pre;overflow-x:auto;line-height:normal;font-family:Menlo,'DejaVu Sans Mono',consolas,'Courier New',monospace\"><span style=\"color: #7f7f7f; text-decoration-color: #7f7f7f\">[DEBUG] Determined ground truth for </span>\n",
       "<span style=\"color: #7f7f7f; text-decoration-color: #7f7f7f\">../log/contracts_analysis_both_20250225_104133/safe/0x0a4fa9eb44e296485a51d468fd98f6b01c735f4c: safe</span>\n",
       "</pre>\n"
      ]
     },
     "metadata": {},
     "output_type": "display_data"
    },
    {
     "data": {
      "text/plain": [
       "\u001B[2m[DEBUG] Processing classification file: \u001B[0m\n",
       "\u001B[2m../log/contracts_analysis_both_20250225_104133/safe/0x0a4fa9eb44e296485a51d468fd98f6b01c735f4c/classification.json\u001B[0m\n"
      ],
      "text/html": [
       "<pre style=\"white-space:pre;overflow-x:auto;line-height:normal;font-family:Menlo,'DejaVu Sans Mono',consolas,'Courier New',monospace\"><span style=\"color: #7f7f7f; text-decoration-color: #7f7f7f\">[DEBUG] Processing classification file: </span>\n",
       "<span style=\"color: #7f7f7f; text-decoration-color: #7f7f7f\">../log/contracts_analysis_both_20250225_104133/safe/0x0a4fa9eb44e296485a51d468fd98f6b01c735f4c/classification.json</span>\n",
       "</pre>\n"
      ]
     },
     "metadata": {},
     "output_type": "display_data"
    },
    {
     "data": {
      "text/plain": [
       "\u001B[2m[DEBUG] Loading JSON file: \u001B[0m\n",
       "\u001B[2m../log/contracts_analysis_both_20250225_104133/safe/0x0a4fa9eb44e296485a51d468fd98f6b01c735f4c/classification.json\u001B[0m\n"
      ],
      "text/html": [
       "<pre style=\"white-space:pre;overflow-x:auto;line-height:normal;font-family:Menlo,'DejaVu Sans Mono',consolas,'Courier New',monospace\"><span style=\"color: #7f7f7f; text-decoration-color: #7f7f7f\">[DEBUG] Loading JSON file: </span>\n",
       "<span style=\"color: #7f7f7f; text-decoration-color: #7f7f7f\">../log/contracts_analysis_both_20250225_104133/safe/0x0a4fa9eb44e296485a51d468fd98f6b01c735f4c/classification.json</span>\n",
       "</pre>\n"
      ]
     },
     "metadata": {},
     "output_type": "display_data"
    },
    {
     "data": {
      "text/plain": [
       "\u001B[2m[DEBUG] Classification result: reentrant, Ground truth: safe\u001B[0m\n"
      ],
      "text/html": [
       "<pre style=\"white-space:pre;overflow-x:auto;line-height:normal;font-family:Menlo,'DejaVu Sans Mono',consolas,'Courier New',monospace\"><span style=\"color: #7f7f7f; text-decoration-color: #7f7f7f\">[DEBUG] Classification result: reentrant, Ground truth: safe</span>\n",
       "</pre>\n"
      ]
     },
     "metadata": {},
     "output_type": "display_data"
    },
    {
     "data": {
      "text/plain": [
       "\u001B[2m[DEBUG] Collecting predictions from directory: \u001B[0m\n",
       "\u001B[2m../log/contracts_analysis_both_20250225_104133/safe/0x0a4fa9eb44e296485a51d468fd98f6b01c735f4c\u001B[0m\n"
      ],
      "text/html": [
       "<pre style=\"white-space:pre;overflow-x:auto;line-height:normal;font-family:Menlo,'DejaVu Sans Mono',consolas,'Courier New',monospace\"><span style=\"color: #7f7f7f; text-decoration-color: #7f7f7f\">[DEBUG] Collecting predictions from directory: </span>\n",
       "<span style=\"color: #7f7f7f; text-decoration-color: #7f7f7f\">../log/contracts_analysis_both_20250225_104133/safe/0x0a4fa9eb44e296485a51d468fd98f6b01c735f4c</span>\n",
       "</pre>\n"
      ]
     },
     "metadata": {},
     "output_type": "display_data"
    },
    {
     "data": {
      "text/plain": [
       "\u001B[2m[DEBUG] Loading JSON file: \u001B[0m\n",
       "\u001B[2m../log/contracts_analysis_both_20250225_104133/safe/0x0a4fa9eb44e296485a51d468fd98f6b01c735f4c/analysis_0x0aa19b3e5\u001B[0m\n",
       "\u001B[2m1dd77e482690263c8af26bec2c6542e.json\u001B[0m\n"
      ],
      "text/html": [
       "<pre style=\"white-space:pre;overflow-x:auto;line-height:normal;font-family:Menlo,'DejaVu Sans Mono',consolas,'Courier New',monospace\"><span style=\"color: #7f7f7f; text-decoration-color: #7f7f7f\">[DEBUG] Loading JSON file: </span>\n",
       "<span style=\"color: #7f7f7f; text-decoration-color: #7f7f7f\">../log/contracts_analysis_both_20250225_104133/safe/0x0a4fa9eb44e296485a51d468fd98f6b01c735f4c/analysis_0x0aa19b3e5</span>\n",
       "<span style=\"color: #7f7f7f; text-decoration-color: #7f7f7f\">1dd77e482690263c8af26bec2c6542e.json</span>\n",
       "</pre>\n"
      ]
     },
     "metadata": {},
     "output_type": "display_data"
    },
    {
     "data": {
      "text/plain": [
       "\u001B[2m[DEBUG] Loading JSON file: \u001B[0m\n",
       "\u001B[2m../log/contracts_analysis_both_20250225_104133/safe/0x0a4fa9eb44e296485a51d468fd98f6b01c735f4c/analysis_0x0aab3ac44\u001B[0m\n",
       "\u001B[2m7ea90739bdbe4e0e00af0a54038904a.json\u001B[0m\n"
      ],
      "text/html": [
       "<pre style=\"white-space:pre;overflow-x:auto;line-height:normal;font-family:Menlo,'DejaVu Sans Mono',consolas,'Courier New',monospace\"><span style=\"color: #7f7f7f; text-decoration-color: #7f7f7f\">[DEBUG] Loading JSON file: </span>\n",
       "<span style=\"color: #7f7f7f; text-decoration-color: #7f7f7f\">../log/contracts_analysis_both_20250225_104133/safe/0x0a4fa9eb44e296485a51d468fd98f6b01c735f4c/analysis_0x0aab3ac44</span>\n",
       "<span style=\"color: #7f7f7f; text-decoration-color: #7f7f7f\">7ea90739bdbe4e0e00af0a54038904a.json</span>\n",
       "</pre>\n"
      ]
     },
     "metadata": {},
     "output_type": "display_data"
    },
    {
     "data": {
      "text/plain": [
       "\u001B[2m[DEBUG] Loading JSON file: \u001B[0m\n",
       "\u001B[2m../log/contracts_analysis_both_20250225_104133/safe/0x0a4fa9eb44e296485a51d468fd98f6b01c735f4c/analysis_0x0a8c3b7e1\u001B[0m\n",
       "\u001B[2m49891ff594e3ad580f8e1769151a07b.json\u001B[0m\n"
      ],
      "text/html": [
       "<pre style=\"white-space:pre;overflow-x:auto;line-height:normal;font-family:Menlo,'DejaVu Sans Mono',consolas,'Courier New',monospace\"><span style=\"color: #7f7f7f; text-decoration-color: #7f7f7f\">[DEBUG] Loading JSON file: </span>\n",
       "<span style=\"color: #7f7f7f; text-decoration-color: #7f7f7f\">../log/contracts_analysis_both_20250225_104133/safe/0x0a4fa9eb44e296485a51d468fd98f6b01c735f4c/analysis_0x0a8c3b7e1</span>\n",
       "<span style=\"color: #7f7f7f; text-decoration-color: #7f7f7f\">49891ff594e3ad580f8e1769151a07b.json</span>\n",
       "</pre>\n"
      ]
     },
     "metadata": {},
     "output_type": "display_data"
    },
    {
     "data": {
      "text/plain": [
       "\u001B[2m[DEBUG] Collected predictions: ['safe', 'safe', 'safe']\u001B[0m\n"
      ],
      "text/html": [
       "<pre style=\"white-space:pre;overflow-x:auto;line-height:normal;font-family:Menlo,'DejaVu Sans Mono',consolas,'Courier New',monospace\"><span style=\"color: #7f7f7f; text-decoration-color: #7f7f7f\">[DEBUG] Collected predictions: ['safe', 'safe', 'safe']</span>\n",
       "</pre>\n"
      ]
     },
     "metadata": {},
     "output_type": "display_data"
    },
    {
     "data": {
      "text/plain": [
       "\u001B[2m[DEBUG] Determined ground truth for \u001B[0m\n",
       "\u001B[2m../log/contracts_analysis_both_20250225_104133/safe/0x0a3d6e21b5a5ad5661f8db593e6da95b71e959d2: safe\u001B[0m\n"
      ],
      "text/html": [
       "<pre style=\"white-space:pre;overflow-x:auto;line-height:normal;font-family:Menlo,'DejaVu Sans Mono',consolas,'Courier New',monospace\"><span style=\"color: #7f7f7f; text-decoration-color: #7f7f7f\">[DEBUG] Determined ground truth for </span>\n",
       "<span style=\"color: #7f7f7f; text-decoration-color: #7f7f7f\">../log/contracts_analysis_both_20250225_104133/safe/0x0a3d6e21b5a5ad5661f8db593e6da95b71e959d2: safe</span>\n",
       "</pre>\n"
      ]
     },
     "metadata": {},
     "output_type": "display_data"
    },
    {
     "data": {
      "text/plain": [
       "\u001B[2m[DEBUG] Processing classification file: \u001B[0m\n",
       "\u001B[2m../log/contracts_analysis_both_20250225_104133/safe/0x0a3d6e21b5a5ad5661f8db593e6da95b71e959d2/classification.json\u001B[0m\n"
      ],
      "text/html": [
       "<pre style=\"white-space:pre;overflow-x:auto;line-height:normal;font-family:Menlo,'DejaVu Sans Mono',consolas,'Courier New',monospace\"><span style=\"color: #7f7f7f; text-decoration-color: #7f7f7f\">[DEBUG] Processing classification file: </span>\n",
       "<span style=\"color: #7f7f7f; text-decoration-color: #7f7f7f\">../log/contracts_analysis_both_20250225_104133/safe/0x0a3d6e21b5a5ad5661f8db593e6da95b71e959d2/classification.json</span>\n",
       "</pre>\n"
      ]
     },
     "metadata": {},
     "output_type": "display_data"
    },
    {
     "data": {
      "text/plain": [
       "\u001B[2m[DEBUG] Loading JSON file: \u001B[0m\n",
       "\u001B[2m../log/contracts_analysis_both_20250225_104133/safe/0x0a3d6e21b5a5ad5661f8db593e6da95b71e959d2/classification.json\u001B[0m\n"
      ],
      "text/html": [
       "<pre style=\"white-space:pre;overflow-x:auto;line-height:normal;font-family:Menlo,'DejaVu Sans Mono',consolas,'Courier New',monospace\"><span style=\"color: #7f7f7f; text-decoration-color: #7f7f7f\">[DEBUG] Loading JSON file: </span>\n",
       "<span style=\"color: #7f7f7f; text-decoration-color: #7f7f7f\">../log/contracts_analysis_both_20250225_104133/safe/0x0a3d6e21b5a5ad5661f8db593e6da95b71e959d2/classification.json</span>\n",
       "</pre>\n"
      ]
     },
     "metadata": {},
     "output_type": "display_data"
    },
    {
     "data": {
      "text/plain": [
       "\u001B[2m[DEBUG] Classification result: safe, Ground truth: safe\u001B[0m\n"
      ],
      "text/html": [
       "<pre style=\"white-space:pre;overflow-x:auto;line-height:normal;font-family:Menlo,'DejaVu Sans Mono',consolas,'Courier New',monospace\"><span style=\"color: #7f7f7f; text-decoration-color: #7f7f7f\">[DEBUG] Classification result: safe, Ground truth: safe</span>\n",
       "</pre>\n"
      ]
     },
     "metadata": {},
     "output_type": "display_data"
    },
    {
     "data": {
      "text/plain": [
       "\u001B[2m[DEBUG] Collecting predictions from directory: \u001B[0m\n",
       "\u001B[2m../log/contracts_analysis_both_20250225_104133/safe/0x0a3d6e21b5a5ad5661f8db593e6da95b71e959d2\u001B[0m\n"
      ],
      "text/html": [
       "<pre style=\"white-space:pre;overflow-x:auto;line-height:normal;font-family:Menlo,'DejaVu Sans Mono',consolas,'Courier New',monospace\"><span style=\"color: #7f7f7f; text-decoration-color: #7f7f7f\">[DEBUG] Collecting predictions from directory: </span>\n",
       "<span style=\"color: #7f7f7f; text-decoration-color: #7f7f7f\">../log/contracts_analysis_both_20250225_104133/safe/0x0a3d6e21b5a5ad5661f8db593e6da95b71e959d2</span>\n",
       "</pre>\n"
      ]
     },
     "metadata": {},
     "output_type": "display_data"
    },
    {
     "data": {
      "text/plain": [
       "\u001B[2m[DEBUG] Loading JSON file: \u001B[0m\n",
       "\u001B[2m../log/contracts_analysis_both_20250225_104133/safe/0x0a3d6e21b5a5ad5661f8db593e6da95b71e959d2/analysis_0x0aa19b3e5\u001B[0m\n",
       "\u001B[2m1dd77e482690263c8af26bec2c6542e.json\u001B[0m\n"
      ],
      "text/html": [
       "<pre style=\"white-space:pre;overflow-x:auto;line-height:normal;font-family:Menlo,'DejaVu Sans Mono',consolas,'Courier New',monospace\"><span style=\"color: #7f7f7f; text-decoration-color: #7f7f7f\">[DEBUG] Loading JSON file: </span>\n",
       "<span style=\"color: #7f7f7f; text-decoration-color: #7f7f7f\">../log/contracts_analysis_both_20250225_104133/safe/0x0a3d6e21b5a5ad5661f8db593e6da95b71e959d2/analysis_0x0aa19b3e5</span>\n",
       "<span style=\"color: #7f7f7f; text-decoration-color: #7f7f7f\">1dd77e482690263c8af26bec2c6542e.json</span>\n",
       "</pre>\n"
      ]
     },
     "metadata": {},
     "output_type": "display_data"
    },
    {
     "data": {
      "text/plain": [
       "\u001B[2m[DEBUG] Loading JSON file: \u001B[0m\n",
       "\u001B[2m../log/contracts_analysis_both_20250225_104133/safe/0x0a3d6e21b5a5ad5661f8db593e6da95b71e959d2/analysis_0x0aab3ac44\u001B[0m\n",
       "\u001B[2m7ea90739bdbe4e0e00af0a54038904a.json\u001B[0m\n"
      ],
      "text/html": [
       "<pre style=\"white-space:pre;overflow-x:auto;line-height:normal;font-family:Menlo,'DejaVu Sans Mono',consolas,'Courier New',monospace\"><span style=\"color: #7f7f7f; text-decoration-color: #7f7f7f\">[DEBUG] Loading JSON file: </span>\n",
       "<span style=\"color: #7f7f7f; text-decoration-color: #7f7f7f\">../log/contracts_analysis_both_20250225_104133/safe/0x0a3d6e21b5a5ad5661f8db593e6da95b71e959d2/analysis_0x0aab3ac44</span>\n",
       "<span style=\"color: #7f7f7f; text-decoration-color: #7f7f7f\">7ea90739bdbe4e0e00af0a54038904a.json</span>\n",
       "</pre>\n"
      ]
     },
     "metadata": {},
     "output_type": "display_data"
    },
    {
     "data": {
      "text/plain": [
       "\u001B[2m[DEBUG] Loading JSON file: \u001B[0m\n",
       "\u001B[2m../log/contracts_analysis_both_20250225_104133/safe/0x0a3d6e21b5a5ad5661f8db593e6da95b71e959d2/analysis_0x0a8c3b7e1\u001B[0m\n",
       "\u001B[2m49891ff594e3ad580f8e1769151a07b.json\u001B[0m\n"
      ],
      "text/html": [
       "<pre style=\"white-space:pre;overflow-x:auto;line-height:normal;font-family:Menlo,'DejaVu Sans Mono',consolas,'Courier New',monospace\"><span style=\"color: #7f7f7f; text-decoration-color: #7f7f7f\">[DEBUG] Loading JSON file: </span>\n",
       "<span style=\"color: #7f7f7f; text-decoration-color: #7f7f7f\">../log/contracts_analysis_both_20250225_104133/safe/0x0a3d6e21b5a5ad5661f8db593e6da95b71e959d2/analysis_0x0a8c3b7e1</span>\n",
       "<span style=\"color: #7f7f7f; text-decoration-color: #7f7f7f\">49891ff594e3ad580f8e1769151a07b.json</span>\n",
       "</pre>\n"
      ]
     },
     "metadata": {},
     "output_type": "display_data"
    },
    {
     "data": {
      "text/plain": [
       "\u001B[2m[DEBUG] Collected predictions: ['safe', 'safe', 'safe']\u001B[0m\n"
      ],
      "text/html": [
       "<pre style=\"white-space:pre;overflow-x:auto;line-height:normal;font-family:Menlo,'DejaVu Sans Mono',consolas,'Courier New',monospace\"><span style=\"color: #7f7f7f; text-decoration-color: #7f7f7f\">[DEBUG] Collected predictions: ['safe', 'safe', 'safe']</span>\n",
       "</pre>\n"
      ]
     },
     "metadata": {},
     "output_type": "display_data"
    },
    {
     "data": {
      "text/plain": [
       "\u001B[2m[DEBUG] Determined ground truth for \u001B[0m\n",
       "\u001B[2m../log/contracts_analysis_both_20250225_104133/safe/0x000a3f282f082aa9cf95271a97a0515b652daa6b: safe\u001B[0m\n"
      ],
      "text/html": [
       "<pre style=\"white-space:pre;overflow-x:auto;line-height:normal;font-family:Menlo,'DejaVu Sans Mono',consolas,'Courier New',monospace\"><span style=\"color: #7f7f7f; text-decoration-color: #7f7f7f\">[DEBUG] Determined ground truth for </span>\n",
       "<span style=\"color: #7f7f7f; text-decoration-color: #7f7f7f\">../log/contracts_analysis_both_20250225_104133/safe/0x000a3f282f082aa9cf95271a97a0515b652daa6b: safe</span>\n",
       "</pre>\n"
      ]
     },
     "metadata": {},
     "output_type": "display_data"
    },
    {
     "data": {
      "text/plain": [
       "\u001B[2m[DEBUG] Processing classification file: \u001B[0m\n",
       "\u001B[2m../log/contracts_analysis_both_20250225_104133/safe/0x000a3f282f082aa9cf95271a97a0515b652daa6b/classification.json\u001B[0m\n"
      ],
      "text/html": [
       "<pre style=\"white-space:pre;overflow-x:auto;line-height:normal;font-family:Menlo,'DejaVu Sans Mono',consolas,'Courier New',monospace\"><span style=\"color: #7f7f7f; text-decoration-color: #7f7f7f\">[DEBUG] Processing classification file: </span>\n",
       "<span style=\"color: #7f7f7f; text-decoration-color: #7f7f7f\">../log/contracts_analysis_both_20250225_104133/safe/0x000a3f282f082aa9cf95271a97a0515b652daa6b/classification.json</span>\n",
       "</pre>\n"
      ]
     },
     "metadata": {},
     "output_type": "display_data"
    },
    {
     "data": {
      "text/plain": [
       "\u001B[2m[DEBUG] Loading JSON file: \u001B[0m\n",
       "\u001B[2m../log/contracts_analysis_both_20250225_104133/safe/0x000a3f282f082aa9cf95271a97a0515b652daa6b/classification.json\u001B[0m\n"
      ],
      "text/html": [
       "<pre style=\"white-space:pre;overflow-x:auto;line-height:normal;font-family:Menlo,'DejaVu Sans Mono',consolas,'Courier New',monospace\"><span style=\"color: #7f7f7f; text-decoration-color: #7f7f7f\">[DEBUG] Loading JSON file: </span>\n",
       "<span style=\"color: #7f7f7f; text-decoration-color: #7f7f7f\">../log/contracts_analysis_both_20250225_104133/safe/0x000a3f282f082aa9cf95271a97a0515b652daa6b/classification.json</span>\n",
       "</pre>\n"
      ]
     },
     "metadata": {},
     "output_type": "display_data"
    },
    {
     "data": {
      "text/plain": [
       "\u001B[2m[DEBUG] Classification result: safe, Ground truth: safe\u001B[0m\n"
      ],
      "text/html": [
       "<pre style=\"white-space:pre;overflow-x:auto;line-height:normal;font-family:Menlo,'DejaVu Sans Mono',consolas,'Courier New',monospace\"><span style=\"color: #7f7f7f; text-decoration-color: #7f7f7f\">[DEBUG] Classification result: safe, Ground truth: safe</span>\n",
       "</pre>\n"
      ]
     },
     "metadata": {},
     "output_type": "display_data"
    },
    {
     "data": {
      "text/plain": [
       "\u001B[2m[DEBUG] Collecting predictions from directory: \u001B[0m\n",
       "\u001B[2m../log/contracts_analysis_both_20250225_104133/safe/0x000a3f282f082aa9cf95271a97a0515b652daa6b\u001B[0m\n"
      ],
      "text/html": [
       "<pre style=\"white-space:pre;overflow-x:auto;line-height:normal;font-family:Menlo,'DejaVu Sans Mono',consolas,'Courier New',monospace\"><span style=\"color: #7f7f7f; text-decoration-color: #7f7f7f\">[DEBUG] Collecting predictions from directory: </span>\n",
       "<span style=\"color: #7f7f7f; text-decoration-color: #7f7f7f\">../log/contracts_analysis_both_20250225_104133/safe/0x000a3f282f082aa9cf95271a97a0515b652daa6b</span>\n",
       "</pre>\n"
      ]
     },
     "metadata": {},
     "output_type": "display_data"
    },
    {
     "data": {
      "text/plain": [
       "\u001B[2m[DEBUG] Loading JSON file: \u001B[0m\n",
       "\u001B[2m../log/contracts_analysis_both_20250225_104133/safe/0x000a3f282f082aa9cf95271a97a0515b652daa6b/analysis_0x0aa19b3e5\u001B[0m\n",
       "\u001B[2m1dd77e482690263c8af26bec2c6542e.json\u001B[0m\n"
      ],
      "text/html": [
       "<pre style=\"white-space:pre;overflow-x:auto;line-height:normal;font-family:Menlo,'DejaVu Sans Mono',consolas,'Courier New',monospace\"><span style=\"color: #7f7f7f; text-decoration-color: #7f7f7f\">[DEBUG] Loading JSON file: </span>\n",
       "<span style=\"color: #7f7f7f; text-decoration-color: #7f7f7f\">../log/contracts_analysis_both_20250225_104133/safe/0x000a3f282f082aa9cf95271a97a0515b652daa6b/analysis_0x0aa19b3e5</span>\n",
       "<span style=\"color: #7f7f7f; text-decoration-color: #7f7f7f\">1dd77e482690263c8af26bec2c6542e.json</span>\n",
       "</pre>\n"
      ]
     },
     "metadata": {},
     "output_type": "display_data"
    },
    {
     "data": {
      "text/plain": [
       "\u001B[2m[DEBUG] Loading JSON file: \u001B[0m\n",
       "\u001B[2m../log/contracts_analysis_both_20250225_104133/safe/0x000a3f282f082aa9cf95271a97a0515b652daa6b/analysis_0x0aab3ac44\u001B[0m\n",
       "\u001B[2m7ea90739bdbe4e0e00af0a54038904a.json\u001B[0m\n"
      ],
      "text/html": [
       "<pre style=\"white-space:pre;overflow-x:auto;line-height:normal;font-family:Menlo,'DejaVu Sans Mono',consolas,'Courier New',monospace\"><span style=\"color: #7f7f7f; text-decoration-color: #7f7f7f\">[DEBUG] Loading JSON file: </span>\n",
       "<span style=\"color: #7f7f7f; text-decoration-color: #7f7f7f\">../log/contracts_analysis_both_20250225_104133/safe/0x000a3f282f082aa9cf95271a97a0515b652daa6b/analysis_0x0aab3ac44</span>\n",
       "<span style=\"color: #7f7f7f; text-decoration-color: #7f7f7f\">7ea90739bdbe4e0e00af0a54038904a.json</span>\n",
       "</pre>\n"
      ]
     },
     "metadata": {},
     "output_type": "display_data"
    },
    {
     "data": {
      "text/plain": [
       "\u001B[2m[DEBUG] Loading JSON file: \u001B[0m\n",
       "\u001B[2m../log/contracts_analysis_both_20250225_104133/safe/0x000a3f282f082aa9cf95271a97a0515b652daa6b/analysis_0x0a8c3b7e1\u001B[0m\n",
       "\u001B[2m49891ff594e3ad580f8e1769151a07b.json\u001B[0m\n"
      ],
      "text/html": [
       "<pre style=\"white-space:pre;overflow-x:auto;line-height:normal;font-family:Menlo,'DejaVu Sans Mono',consolas,'Courier New',monospace\"><span style=\"color: #7f7f7f; text-decoration-color: #7f7f7f\">[DEBUG] Loading JSON file: </span>\n",
       "<span style=\"color: #7f7f7f; text-decoration-color: #7f7f7f\">../log/contracts_analysis_both_20250225_104133/safe/0x000a3f282f082aa9cf95271a97a0515b652daa6b/analysis_0x0a8c3b7e1</span>\n",
       "<span style=\"color: #7f7f7f; text-decoration-color: #7f7f7f\">49891ff594e3ad580f8e1769151a07b.json</span>\n",
       "</pre>\n"
      ]
     },
     "metadata": {},
     "output_type": "display_data"
    },
    {
     "data": {
      "text/plain": [
       "\u001B[2m[DEBUG] Collected predictions: ['safe', 'safe', 'safe']\u001B[0m\n"
      ],
      "text/html": [
       "<pre style=\"white-space:pre;overflow-x:auto;line-height:normal;font-family:Menlo,'DejaVu Sans Mono',consolas,'Courier New',monospace\"><span style=\"color: #7f7f7f; text-decoration-color: #7f7f7f\">[DEBUG] Collected predictions: ['safe', 'safe', 'safe']</span>\n",
       "</pre>\n"
      ]
     },
     "metadata": {},
     "output_type": "display_data"
    },
    {
     "data": {
      "text/plain": [
       "\u001B[2m[DEBUG] Determined ground truth for \u001B[0m\n",
       "\u001B[2m../log/contracts_analysis_both_20250225_104133/safe/0x0a3b99aa2571299d56019e5f90c916e85aad6bf1: safe\u001B[0m\n"
      ],
      "text/html": [
       "<pre style=\"white-space:pre;overflow-x:auto;line-height:normal;font-family:Menlo,'DejaVu Sans Mono',consolas,'Courier New',monospace\"><span style=\"color: #7f7f7f; text-decoration-color: #7f7f7f\">[DEBUG] Determined ground truth for </span>\n",
       "<span style=\"color: #7f7f7f; text-decoration-color: #7f7f7f\">../log/contracts_analysis_both_20250225_104133/safe/0x0a3b99aa2571299d56019e5f90c916e85aad6bf1: safe</span>\n",
       "</pre>\n"
      ]
     },
     "metadata": {},
     "output_type": "display_data"
    },
    {
     "data": {
      "text/plain": [
       "\u001B[2m[DEBUG] Processing classification file: \u001B[0m\n",
       "\u001B[2m../log/contracts_analysis_both_20250225_104133/safe/0x0a3b99aa2571299d56019e5f90c916e85aad6bf1/classification.json\u001B[0m\n"
      ],
      "text/html": [
       "<pre style=\"white-space:pre;overflow-x:auto;line-height:normal;font-family:Menlo,'DejaVu Sans Mono',consolas,'Courier New',monospace\"><span style=\"color: #7f7f7f; text-decoration-color: #7f7f7f\">[DEBUG] Processing classification file: </span>\n",
       "<span style=\"color: #7f7f7f; text-decoration-color: #7f7f7f\">../log/contracts_analysis_both_20250225_104133/safe/0x0a3b99aa2571299d56019e5f90c916e85aad6bf1/classification.json</span>\n",
       "</pre>\n"
      ]
     },
     "metadata": {},
     "output_type": "display_data"
    },
    {
     "data": {
      "text/plain": [
       "\u001B[2m[DEBUG] Loading JSON file: \u001B[0m\n",
       "\u001B[2m../log/contracts_analysis_both_20250225_104133/safe/0x0a3b99aa2571299d56019e5f90c916e85aad6bf1/classification.json\u001B[0m\n"
      ],
      "text/html": [
       "<pre style=\"white-space:pre;overflow-x:auto;line-height:normal;font-family:Menlo,'DejaVu Sans Mono',consolas,'Courier New',monospace\"><span style=\"color: #7f7f7f; text-decoration-color: #7f7f7f\">[DEBUG] Loading JSON file: </span>\n",
       "<span style=\"color: #7f7f7f; text-decoration-color: #7f7f7f\">../log/contracts_analysis_both_20250225_104133/safe/0x0a3b99aa2571299d56019e5f90c916e85aad6bf1/classification.json</span>\n",
       "</pre>\n"
      ]
     },
     "metadata": {},
     "output_type": "display_data"
    },
    {
     "data": {
      "text/plain": [
       "\u001B[2m[DEBUG] Classification result: safe, Ground truth: safe\u001B[0m\n"
      ],
      "text/html": [
       "<pre style=\"white-space:pre;overflow-x:auto;line-height:normal;font-family:Menlo,'DejaVu Sans Mono',consolas,'Courier New',monospace\"><span style=\"color: #7f7f7f; text-decoration-color: #7f7f7f\">[DEBUG] Classification result: safe, Ground truth: safe</span>\n",
       "</pre>\n"
      ]
     },
     "metadata": {},
     "output_type": "display_data"
    },
    {
     "data": {
      "text/plain": [
       "\u001B[2m[DEBUG] Collecting predictions from directory: \u001B[0m\n",
       "\u001B[2m../log/contracts_analysis_both_20250225_104133/safe/0x0a3b99aa2571299d56019e5f90c916e85aad6bf1\u001B[0m\n"
      ],
      "text/html": [
       "<pre style=\"white-space:pre;overflow-x:auto;line-height:normal;font-family:Menlo,'DejaVu Sans Mono',consolas,'Courier New',monospace\"><span style=\"color: #7f7f7f; text-decoration-color: #7f7f7f\">[DEBUG] Collecting predictions from directory: </span>\n",
       "<span style=\"color: #7f7f7f; text-decoration-color: #7f7f7f\">../log/contracts_analysis_both_20250225_104133/safe/0x0a3b99aa2571299d56019e5f90c916e85aad6bf1</span>\n",
       "</pre>\n"
      ]
     },
     "metadata": {},
     "output_type": "display_data"
    },
    {
     "data": {
      "text/plain": [
       "\u001B[2m[DEBUG] Loading JSON file: \u001B[0m\n",
       "\u001B[2m../log/contracts_analysis_both_20250225_104133/safe/0x0a3b99aa2571299d56019e5f90c916e85aad6bf1/analysis_0x0aa19b3e5\u001B[0m\n",
       "\u001B[2m1dd77e482690263c8af26bec2c6542e.json\u001B[0m\n"
      ],
      "text/html": [
       "<pre style=\"white-space:pre;overflow-x:auto;line-height:normal;font-family:Menlo,'DejaVu Sans Mono',consolas,'Courier New',monospace\"><span style=\"color: #7f7f7f; text-decoration-color: #7f7f7f\">[DEBUG] Loading JSON file: </span>\n",
       "<span style=\"color: #7f7f7f; text-decoration-color: #7f7f7f\">../log/contracts_analysis_both_20250225_104133/safe/0x0a3b99aa2571299d56019e5f90c916e85aad6bf1/analysis_0x0aa19b3e5</span>\n",
       "<span style=\"color: #7f7f7f; text-decoration-color: #7f7f7f\">1dd77e482690263c8af26bec2c6542e.json</span>\n",
       "</pre>\n"
      ]
     },
     "metadata": {},
     "output_type": "display_data"
    },
    {
     "data": {
      "text/plain": [
       "\u001B[2m[DEBUG] Loading JSON file: \u001B[0m\n",
       "\u001B[2m../log/contracts_analysis_both_20250225_104133/safe/0x0a3b99aa2571299d56019e5f90c916e85aad6bf1/analysis_0x0aab3ac44\u001B[0m\n",
       "\u001B[2m7ea90739bdbe4e0e00af0a54038904a.json\u001B[0m\n"
      ],
      "text/html": [
       "<pre style=\"white-space:pre;overflow-x:auto;line-height:normal;font-family:Menlo,'DejaVu Sans Mono',consolas,'Courier New',monospace\"><span style=\"color: #7f7f7f; text-decoration-color: #7f7f7f\">[DEBUG] Loading JSON file: </span>\n",
       "<span style=\"color: #7f7f7f; text-decoration-color: #7f7f7f\">../log/contracts_analysis_both_20250225_104133/safe/0x0a3b99aa2571299d56019e5f90c916e85aad6bf1/analysis_0x0aab3ac44</span>\n",
       "<span style=\"color: #7f7f7f; text-decoration-color: #7f7f7f\">7ea90739bdbe4e0e00af0a54038904a.json</span>\n",
       "</pre>\n"
      ]
     },
     "metadata": {},
     "output_type": "display_data"
    },
    {
     "data": {
      "text/plain": [
       "\u001B[2m[DEBUG] Loading JSON file: \u001B[0m\n",
       "\u001B[2m../log/contracts_analysis_both_20250225_104133/safe/0x0a3b99aa2571299d56019e5f90c916e85aad6bf1/analysis_0x0a8c3b7e1\u001B[0m\n",
       "\u001B[2m49891ff594e3ad580f8e1769151a07b.json\u001B[0m\n"
      ],
      "text/html": [
       "<pre style=\"white-space:pre;overflow-x:auto;line-height:normal;font-family:Menlo,'DejaVu Sans Mono',consolas,'Courier New',monospace\"><span style=\"color: #7f7f7f; text-decoration-color: #7f7f7f\">[DEBUG] Loading JSON file: </span>\n",
       "<span style=\"color: #7f7f7f; text-decoration-color: #7f7f7f\">../log/contracts_analysis_both_20250225_104133/safe/0x0a3b99aa2571299d56019e5f90c916e85aad6bf1/analysis_0x0a8c3b7e1</span>\n",
       "<span style=\"color: #7f7f7f; text-decoration-color: #7f7f7f\">49891ff594e3ad580f8e1769151a07b.json</span>\n",
       "</pre>\n"
      ]
     },
     "metadata": {},
     "output_type": "display_data"
    },
    {
     "data": {
      "text/plain": [
       "\u001B[2m[DEBUG] Collected predictions: ['safe', 'safe', 'safe']\u001B[0m\n"
      ],
      "text/html": [
       "<pre style=\"white-space:pre;overflow-x:auto;line-height:normal;font-family:Menlo,'DejaVu Sans Mono',consolas,'Courier New',monospace\"><span style=\"color: #7f7f7f; text-decoration-color: #7f7f7f\">[DEBUG] Collected predictions: ['safe', 'safe', 'safe']</span>\n",
       "</pre>\n"
      ]
     },
     "metadata": {},
     "output_type": "display_data"
    },
    {
     "data": {
      "text/plain": [
       "\u001B[2m[DEBUG] Determined ground truth for \u001B[0m\n",
       "\u001B[2m../log/contracts_analysis_both_20250225_104133/safe/0x0a3f9678d6b631386c2dd3de8809b48b0d1bbd56: safe\u001B[0m\n"
      ],
      "text/html": [
       "<pre style=\"white-space:pre;overflow-x:auto;line-height:normal;font-family:Menlo,'DejaVu Sans Mono',consolas,'Courier New',monospace\"><span style=\"color: #7f7f7f; text-decoration-color: #7f7f7f\">[DEBUG] Determined ground truth for </span>\n",
       "<span style=\"color: #7f7f7f; text-decoration-color: #7f7f7f\">../log/contracts_analysis_both_20250225_104133/safe/0x0a3f9678d6b631386c2dd3de8809b48b0d1bbd56: safe</span>\n",
       "</pre>\n"
      ]
     },
     "metadata": {},
     "output_type": "display_data"
    },
    {
     "data": {
      "text/plain": [
       "\u001B[2m[DEBUG] Processing classification file: \u001B[0m\n",
       "\u001B[2m../log/contracts_analysis_both_20250225_104133/safe/0x0a3f9678d6b631386c2dd3de8809b48b0d1bbd56/classification.json\u001B[0m\n"
      ],
      "text/html": [
       "<pre style=\"white-space:pre;overflow-x:auto;line-height:normal;font-family:Menlo,'DejaVu Sans Mono',consolas,'Courier New',monospace\"><span style=\"color: #7f7f7f; text-decoration-color: #7f7f7f\">[DEBUG] Processing classification file: </span>\n",
       "<span style=\"color: #7f7f7f; text-decoration-color: #7f7f7f\">../log/contracts_analysis_both_20250225_104133/safe/0x0a3f9678d6b631386c2dd3de8809b48b0d1bbd56/classification.json</span>\n",
       "</pre>\n"
      ]
     },
     "metadata": {},
     "output_type": "display_data"
    },
    {
     "data": {
      "text/plain": [
       "\u001B[2m[DEBUG] Loading JSON file: \u001B[0m\n",
       "\u001B[2m../log/contracts_analysis_both_20250225_104133/safe/0x0a3f9678d6b631386c2dd3de8809b48b0d1bbd56/classification.json\u001B[0m\n"
      ],
      "text/html": [
       "<pre style=\"white-space:pre;overflow-x:auto;line-height:normal;font-family:Menlo,'DejaVu Sans Mono',consolas,'Courier New',monospace\"><span style=\"color: #7f7f7f; text-decoration-color: #7f7f7f\">[DEBUG] Loading JSON file: </span>\n",
       "<span style=\"color: #7f7f7f; text-decoration-color: #7f7f7f\">../log/contracts_analysis_both_20250225_104133/safe/0x0a3f9678d6b631386c2dd3de8809b48b0d1bbd56/classification.json</span>\n",
       "</pre>\n"
      ]
     },
     "metadata": {},
     "output_type": "display_data"
    },
    {
     "data": {
      "text/plain": [
       "\u001B[2m[DEBUG] Classification result: safe, Ground truth: safe\u001B[0m\n"
      ],
      "text/html": [
       "<pre style=\"white-space:pre;overflow-x:auto;line-height:normal;font-family:Menlo,'DejaVu Sans Mono',consolas,'Courier New',monospace\"><span style=\"color: #7f7f7f; text-decoration-color: #7f7f7f\">[DEBUG] Classification result: safe, Ground truth: safe</span>\n",
       "</pre>\n"
      ]
     },
     "metadata": {},
     "output_type": "display_data"
    },
    {
     "data": {
      "text/plain": [
       "\u001B[2m[DEBUG] Collecting predictions from directory: \u001B[0m\n",
       "\u001B[2m../log/contracts_analysis_both_20250225_104133/safe/0x0a3f9678d6b631386c2dd3de8809b48b0d1bbd56\u001B[0m\n"
      ],
      "text/html": [
       "<pre style=\"white-space:pre;overflow-x:auto;line-height:normal;font-family:Menlo,'DejaVu Sans Mono',consolas,'Courier New',monospace\"><span style=\"color: #7f7f7f; text-decoration-color: #7f7f7f\">[DEBUG] Collecting predictions from directory: </span>\n",
       "<span style=\"color: #7f7f7f; text-decoration-color: #7f7f7f\">../log/contracts_analysis_both_20250225_104133/safe/0x0a3f9678d6b631386c2dd3de8809b48b0d1bbd56</span>\n",
       "</pre>\n"
      ]
     },
     "metadata": {},
     "output_type": "display_data"
    },
    {
     "data": {
      "text/plain": [
       "\u001B[2m[DEBUG] Loading JSON file: \u001B[0m\n",
       "\u001B[2m../log/contracts_analysis_both_20250225_104133/safe/0x0a3f9678d6b631386c2dd3de8809b48b0d1bbd56/analysis_0x0aa19b3e5\u001B[0m\n",
       "\u001B[2m1dd77e482690263c8af26bec2c6542e.json\u001B[0m\n"
      ],
      "text/html": [
       "<pre style=\"white-space:pre;overflow-x:auto;line-height:normal;font-family:Menlo,'DejaVu Sans Mono',consolas,'Courier New',monospace\"><span style=\"color: #7f7f7f; text-decoration-color: #7f7f7f\">[DEBUG] Loading JSON file: </span>\n",
       "<span style=\"color: #7f7f7f; text-decoration-color: #7f7f7f\">../log/contracts_analysis_both_20250225_104133/safe/0x0a3f9678d6b631386c2dd3de8809b48b0d1bbd56/analysis_0x0aa19b3e5</span>\n",
       "<span style=\"color: #7f7f7f; text-decoration-color: #7f7f7f\">1dd77e482690263c8af26bec2c6542e.json</span>\n",
       "</pre>\n"
      ]
     },
     "metadata": {},
     "output_type": "display_data"
    },
    {
     "data": {
      "text/plain": [
       "\u001B[2m[DEBUG] Loading JSON file: \u001B[0m\n",
       "\u001B[2m../log/contracts_analysis_both_20250225_104133/safe/0x0a3f9678d6b631386c2dd3de8809b48b0d1bbd56/analysis_0x0aab3ac44\u001B[0m\n",
       "\u001B[2m7ea90739bdbe4e0e00af0a54038904a.json\u001B[0m\n"
      ],
      "text/html": [
       "<pre style=\"white-space:pre;overflow-x:auto;line-height:normal;font-family:Menlo,'DejaVu Sans Mono',consolas,'Courier New',monospace\"><span style=\"color: #7f7f7f; text-decoration-color: #7f7f7f\">[DEBUG] Loading JSON file: </span>\n",
       "<span style=\"color: #7f7f7f; text-decoration-color: #7f7f7f\">../log/contracts_analysis_both_20250225_104133/safe/0x0a3f9678d6b631386c2dd3de8809b48b0d1bbd56/analysis_0x0aab3ac44</span>\n",
       "<span style=\"color: #7f7f7f; text-decoration-color: #7f7f7f\">7ea90739bdbe4e0e00af0a54038904a.json</span>\n",
       "</pre>\n"
      ]
     },
     "metadata": {},
     "output_type": "display_data"
    },
    {
     "data": {
      "text/plain": [
       "\u001B[2m[DEBUG] Loading JSON file: \u001B[0m\n",
       "\u001B[2m../log/contracts_analysis_both_20250225_104133/safe/0x0a3f9678d6b631386c2dd3de8809b48b0d1bbd56/analysis_0x0a8c3b7e1\u001B[0m\n",
       "\u001B[2m49891ff594e3ad580f8e1769151a07b.json\u001B[0m\n"
      ],
      "text/html": [
       "<pre style=\"white-space:pre;overflow-x:auto;line-height:normal;font-family:Menlo,'DejaVu Sans Mono',consolas,'Courier New',monospace\"><span style=\"color: #7f7f7f; text-decoration-color: #7f7f7f\">[DEBUG] Loading JSON file: </span>\n",
       "<span style=\"color: #7f7f7f; text-decoration-color: #7f7f7f\">../log/contracts_analysis_both_20250225_104133/safe/0x0a3f9678d6b631386c2dd3de8809b48b0d1bbd56/analysis_0x0a8c3b7e1</span>\n",
       "<span style=\"color: #7f7f7f; text-decoration-color: #7f7f7f\">49891ff594e3ad580f8e1769151a07b.json</span>\n",
       "</pre>\n"
      ]
     },
     "metadata": {},
     "output_type": "display_data"
    },
    {
     "data": {
      "text/plain": [
       "\u001B[2m[DEBUG] Collected predictions: ['safe', 'safe', 'safe']\u001B[0m\n"
      ],
      "text/html": [
       "<pre style=\"white-space:pre;overflow-x:auto;line-height:normal;font-family:Menlo,'DejaVu Sans Mono',consolas,'Courier New',monospace\"><span style=\"color: #7f7f7f; text-decoration-color: #7f7f7f\">[DEBUG] Collected predictions: ['safe', 'safe', 'safe']</span>\n",
       "</pre>\n"
      ]
     },
     "metadata": {},
     "output_type": "display_data"
    },
    {
     "name": "stderr",
     "output_type": "stream",
     "text": [
      "Processing contracts:  43%|████▎     | 41/96 [00:01<00:01, 45.81it/s]"
     ]
    },
    {
     "data": {
      "text/plain": [
       "\u001B[2m[DEBUG] Determined ground truth for \u001B[0m\n",
       "\u001B[2m../log/contracts_analysis_both_20250225_104133/safe/0x0a3fba29c8941fb09f6c712c06d2eade82df225b: safe\u001B[0m\n"
      ],
      "text/html": [
       "<pre style=\"white-space:pre;overflow-x:auto;line-height:normal;font-family:Menlo,'DejaVu Sans Mono',consolas,'Courier New',monospace\"><span style=\"color: #7f7f7f; text-decoration-color: #7f7f7f\">[DEBUG] Determined ground truth for </span>\n",
       "<span style=\"color: #7f7f7f; text-decoration-color: #7f7f7f\">../log/contracts_analysis_both_20250225_104133/safe/0x0a3fba29c8941fb09f6c712c06d2eade82df225b: safe</span>\n",
       "</pre>\n"
      ]
     },
     "metadata": {},
     "output_type": "display_data"
    },
    {
     "data": {
      "text/plain": [
       "\u001B[2m[DEBUG] Processing classification file: \u001B[0m\n",
       "\u001B[2m../log/contracts_analysis_both_20250225_104133/safe/0x0a3fba29c8941fb09f6c712c06d2eade82df225b/classification.json\u001B[0m\n"
      ],
      "text/html": [
       "<pre style=\"white-space:pre;overflow-x:auto;line-height:normal;font-family:Menlo,'DejaVu Sans Mono',consolas,'Courier New',monospace\"><span style=\"color: #7f7f7f; text-decoration-color: #7f7f7f\">[DEBUG] Processing classification file: </span>\n",
       "<span style=\"color: #7f7f7f; text-decoration-color: #7f7f7f\">../log/contracts_analysis_both_20250225_104133/safe/0x0a3fba29c8941fb09f6c712c06d2eade82df225b/classification.json</span>\n",
       "</pre>\n"
      ]
     },
     "metadata": {},
     "output_type": "display_data"
    },
    {
     "data": {
      "text/plain": [
       "\u001B[2m[DEBUG] Loading JSON file: \u001B[0m\n",
       "\u001B[2m../log/contracts_analysis_both_20250225_104133/safe/0x0a3fba29c8941fb09f6c712c06d2eade82df225b/classification.json\u001B[0m\n"
      ],
      "text/html": [
       "<pre style=\"white-space:pre;overflow-x:auto;line-height:normal;font-family:Menlo,'DejaVu Sans Mono',consolas,'Courier New',monospace\"><span style=\"color: #7f7f7f; text-decoration-color: #7f7f7f\">[DEBUG] Loading JSON file: </span>\n",
       "<span style=\"color: #7f7f7f; text-decoration-color: #7f7f7f\">../log/contracts_analysis_both_20250225_104133/safe/0x0a3fba29c8941fb09f6c712c06d2eade82df225b/classification.json</span>\n",
       "</pre>\n"
      ]
     },
     "metadata": {},
     "output_type": "display_data"
    },
    {
     "data": {
      "text/plain": [
       "\u001B[2m[DEBUG] Classification result: safe, Ground truth: safe\u001B[0m\n"
      ],
      "text/html": [
       "<pre style=\"white-space:pre;overflow-x:auto;line-height:normal;font-family:Menlo,'DejaVu Sans Mono',consolas,'Courier New',monospace\"><span style=\"color: #7f7f7f; text-decoration-color: #7f7f7f\">[DEBUG] Classification result: safe, Ground truth: safe</span>\n",
       "</pre>\n"
      ]
     },
     "metadata": {},
     "output_type": "display_data"
    },
    {
     "data": {
      "text/plain": [
       "\u001B[2m[DEBUG] Collecting predictions from directory: \u001B[0m\n",
       "\u001B[2m../log/contracts_analysis_both_20250225_104133/safe/0x0a3fba29c8941fb09f6c712c06d2eade82df225b\u001B[0m\n"
      ],
      "text/html": [
       "<pre style=\"white-space:pre;overflow-x:auto;line-height:normal;font-family:Menlo,'DejaVu Sans Mono',consolas,'Courier New',monospace\"><span style=\"color: #7f7f7f; text-decoration-color: #7f7f7f\">[DEBUG] Collecting predictions from directory: </span>\n",
       "<span style=\"color: #7f7f7f; text-decoration-color: #7f7f7f\">../log/contracts_analysis_both_20250225_104133/safe/0x0a3fba29c8941fb09f6c712c06d2eade82df225b</span>\n",
       "</pre>\n"
      ]
     },
     "metadata": {},
     "output_type": "display_data"
    },
    {
     "data": {
      "text/plain": [
       "\u001B[2m[DEBUG] Loading JSON file: \u001B[0m\n",
       "\u001B[2m../log/contracts_analysis_both_20250225_104133/safe/0x0a3fba29c8941fb09f6c712c06d2eade82df225b/analysis_0x0aa19b3e5\u001B[0m\n",
       "\u001B[2m1dd77e482690263c8af26bec2c6542e.json\u001B[0m\n"
      ],
      "text/html": [
       "<pre style=\"white-space:pre;overflow-x:auto;line-height:normal;font-family:Menlo,'DejaVu Sans Mono',consolas,'Courier New',monospace\"><span style=\"color: #7f7f7f; text-decoration-color: #7f7f7f\">[DEBUG] Loading JSON file: </span>\n",
       "<span style=\"color: #7f7f7f; text-decoration-color: #7f7f7f\">../log/contracts_analysis_both_20250225_104133/safe/0x0a3fba29c8941fb09f6c712c06d2eade82df225b/analysis_0x0aa19b3e5</span>\n",
       "<span style=\"color: #7f7f7f; text-decoration-color: #7f7f7f\">1dd77e482690263c8af26bec2c6542e.json</span>\n",
       "</pre>\n"
      ]
     },
     "metadata": {},
     "output_type": "display_data"
    },
    {
     "data": {
      "text/plain": [
       "\u001B[2m[DEBUG] Loading JSON file: \u001B[0m\n",
       "\u001B[2m../log/contracts_analysis_both_20250225_104133/safe/0x0a3fba29c8941fb09f6c712c06d2eade82df225b/analysis_0x0aab3ac44\u001B[0m\n",
       "\u001B[2m7ea90739bdbe4e0e00af0a54038904a.json\u001B[0m\n"
      ],
      "text/html": [
       "<pre style=\"white-space:pre;overflow-x:auto;line-height:normal;font-family:Menlo,'DejaVu Sans Mono',consolas,'Courier New',monospace\"><span style=\"color: #7f7f7f; text-decoration-color: #7f7f7f\">[DEBUG] Loading JSON file: </span>\n",
       "<span style=\"color: #7f7f7f; text-decoration-color: #7f7f7f\">../log/contracts_analysis_both_20250225_104133/safe/0x0a3fba29c8941fb09f6c712c06d2eade82df225b/analysis_0x0aab3ac44</span>\n",
       "<span style=\"color: #7f7f7f; text-decoration-color: #7f7f7f\">7ea90739bdbe4e0e00af0a54038904a.json</span>\n",
       "</pre>\n"
      ]
     },
     "metadata": {},
     "output_type": "display_data"
    },
    {
     "data": {
      "text/plain": [
       "\u001B[2m[DEBUG] Loading JSON file: \u001B[0m\n",
       "\u001B[2m../log/contracts_analysis_both_20250225_104133/safe/0x0a3fba29c8941fb09f6c712c06d2eade82df225b/analysis_0x0a8c3b7e1\u001B[0m\n",
       "\u001B[2m49891ff594e3ad580f8e1769151a07b.json\u001B[0m\n"
      ],
      "text/html": [
       "<pre style=\"white-space:pre;overflow-x:auto;line-height:normal;font-family:Menlo,'DejaVu Sans Mono',consolas,'Courier New',monospace\"><span style=\"color: #7f7f7f; text-decoration-color: #7f7f7f\">[DEBUG] Loading JSON file: </span>\n",
       "<span style=\"color: #7f7f7f; text-decoration-color: #7f7f7f\">../log/contracts_analysis_both_20250225_104133/safe/0x0a3fba29c8941fb09f6c712c06d2eade82df225b/analysis_0x0a8c3b7e1</span>\n",
       "<span style=\"color: #7f7f7f; text-decoration-color: #7f7f7f\">49891ff594e3ad580f8e1769151a07b.json</span>\n",
       "</pre>\n"
      ]
     },
     "metadata": {},
     "output_type": "display_data"
    },
    {
     "data": {
      "text/plain": [
       "\u001B[2m[DEBUG] Collected predictions: ['safe', 'safe', 'safe']\u001B[0m\n"
      ],
      "text/html": [
       "<pre style=\"white-space:pre;overflow-x:auto;line-height:normal;font-family:Menlo,'DejaVu Sans Mono',consolas,'Courier New',monospace\"><span style=\"color: #7f7f7f; text-decoration-color: #7f7f7f\">[DEBUG] Collected predictions: ['safe', 'safe', 'safe']</span>\n",
       "</pre>\n"
      ]
     },
     "metadata": {},
     "output_type": "display_data"
    },
    {
     "data": {
      "text/plain": [
       "\u001B[2m[DEBUG] Determined ground truth for \u001B[0m\n",
       "\u001B[2m../log/contracts_analysis_both_20250225_104133/safe/0x0a1ddf1ab6e51eff39a8dfa0a43090646e692828: safe\u001B[0m\n"
      ],
      "text/html": [
       "<pre style=\"white-space:pre;overflow-x:auto;line-height:normal;font-family:Menlo,'DejaVu Sans Mono',consolas,'Courier New',monospace\"><span style=\"color: #7f7f7f; text-decoration-color: #7f7f7f\">[DEBUG] Determined ground truth for </span>\n",
       "<span style=\"color: #7f7f7f; text-decoration-color: #7f7f7f\">../log/contracts_analysis_both_20250225_104133/safe/0x0a1ddf1ab6e51eff39a8dfa0a43090646e692828: safe</span>\n",
       "</pre>\n"
      ]
     },
     "metadata": {},
     "output_type": "display_data"
    },
    {
     "data": {
      "text/plain": [
       "\u001B[2m[DEBUG] Processing classification file: \u001B[0m\n",
       "\u001B[2m../log/contracts_analysis_both_20250225_104133/safe/0x0a1ddf1ab6e51eff39a8dfa0a43090646e692828/classification.json\u001B[0m\n"
      ],
      "text/html": [
       "<pre style=\"white-space:pre;overflow-x:auto;line-height:normal;font-family:Menlo,'DejaVu Sans Mono',consolas,'Courier New',monospace\"><span style=\"color: #7f7f7f; text-decoration-color: #7f7f7f\">[DEBUG] Processing classification file: </span>\n",
       "<span style=\"color: #7f7f7f; text-decoration-color: #7f7f7f\">../log/contracts_analysis_both_20250225_104133/safe/0x0a1ddf1ab6e51eff39a8dfa0a43090646e692828/classification.json</span>\n",
       "</pre>\n"
      ]
     },
     "metadata": {},
     "output_type": "display_data"
    },
    {
     "data": {
      "text/plain": [
       "\u001B[2m[DEBUG] Loading JSON file: \u001B[0m\n",
       "\u001B[2m../log/contracts_analysis_both_20250225_104133/safe/0x0a1ddf1ab6e51eff39a8dfa0a43090646e692828/classification.json\u001B[0m\n"
      ],
      "text/html": [
       "<pre style=\"white-space:pre;overflow-x:auto;line-height:normal;font-family:Menlo,'DejaVu Sans Mono',consolas,'Courier New',monospace\"><span style=\"color: #7f7f7f; text-decoration-color: #7f7f7f\">[DEBUG] Loading JSON file: </span>\n",
       "<span style=\"color: #7f7f7f; text-decoration-color: #7f7f7f\">../log/contracts_analysis_both_20250225_104133/safe/0x0a1ddf1ab6e51eff39a8dfa0a43090646e692828/classification.json</span>\n",
       "</pre>\n"
      ]
     },
     "metadata": {},
     "output_type": "display_data"
    },
    {
     "data": {
      "text/plain": [
       "\u001B[2m[DEBUG] Classification result: safe, Ground truth: safe\u001B[0m\n"
      ],
      "text/html": [
       "<pre style=\"white-space:pre;overflow-x:auto;line-height:normal;font-family:Menlo,'DejaVu Sans Mono',consolas,'Courier New',monospace\"><span style=\"color: #7f7f7f; text-decoration-color: #7f7f7f\">[DEBUG] Classification result: safe, Ground truth: safe</span>\n",
       "</pre>\n"
      ]
     },
     "metadata": {},
     "output_type": "display_data"
    },
    {
     "data": {
      "text/plain": [
       "\u001B[2m[DEBUG] Collecting predictions from directory: \u001B[0m\n",
       "\u001B[2m../log/contracts_analysis_both_20250225_104133/safe/0x0a1ddf1ab6e51eff39a8dfa0a43090646e692828\u001B[0m\n"
      ],
      "text/html": [
       "<pre style=\"white-space:pre;overflow-x:auto;line-height:normal;font-family:Menlo,'DejaVu Sans Mono',consolas,'Courier New',monospace\"><span style=\"color: #7f7f7f; text-decoration-color: #7f7f7f\">[DEBUG] Collecting predictions from directory: </span>\n",
       "<span style=\"color: #7f7f7f; text-decoration-color: #7f7f7f\">../log/contracts_analysis_both_20250225_104133/safe/0x0a1ddf1ab6e51eff39a8dfa0a43090646e692828</span>\n",
       "</pre>\n"
      ]
     },
     "metadata": {},
     "output_type": "display_data"
    },
    {
     "data": {
      "text/plain": [
       "\u001B[2m[DEBUG] Loading JSON file: \u001B[0m\n",
       "\u001B[2m../log/contracts_analysis_both_20250225_104133/safe/0x0a1ddf1ab6e51eff39a8dfa0a43090646e692828/analysis_0x0aa19b3e5\u001B[0m\n",
       "\u001B[2m1dd77e482690263c8af26bec2c6542e.json\u001B[0m\n"
      ],
      "text/html": [
       "<pre style=\"white-space:pre;overflow-x:auto;line-height:normal;font-family:Menlo,'DejaVu Sans Mono',consolas,'Courier New',monospace\"><span style=\"color: #7f7f7f; text-decoration-color: #7f7f7f\">[DEBUG] Loading JSON file: </span>\n",
       "<span style=\"color: #7f7f7f; text-decoration-color: #7f7f7f\">../log/contracts_analysis_both_20250225_104133/safe/0x0a1ddf1ab6e51eff39a8dfa0a43090646e692828/analysis_0x0aa19b3e5</span>\n",
       "<span style=\"color: #7f7f7f; text-decoration-color: #7f7f7f\">1dd77e482690263c8af26bec2c6542e.json</span>\n",
       "</pre>\n"
      ]
     },
     "metadata": {},
     "output_type": "display_data"
    },
    {
     "data": {
      "text/plain": [
       "\u001B[2m[DEBUG] Loading JSON file: \u001B[0m\n",
       "\u001B[2m../log/contracts_analysis_both_20250225_104133/safe/0x0a1ddf1ab6e51eff39a8dfa0a43090646e692828/analysis_0x0aab3ac44\u001B[0m\n",
       "\u001B[2m7ea90739bdbe4e0e00af0a54038904a.json\u001B[0m\n"
      ],
      "text/html": [
       "<pre style=\"white-space:pre;overflow-x:auto;line-height:normal;font-family:Menlo,'DejaVu Sans Mono',consolas,'Courier New',monospace\"><span style=\"color: #7f7f7f; text-decoration-color: #7f7f7f\">[DEBUG] Loading JSON file: </span>\n",
       "<span style=\"color: #7f7f7f; text-decoration-color: #7f7f7f\">../log/contracts_analysis_both_20250225_104133/safe/0x0a1ddf1ab6e51eff39a8dfa0a43090646e692828/analysis_0x0aab3ac44</span>\n",
       "<span style=\"color: #7f7f7f; text-decoration-color: #7f7f7f\">7ea90739bdbe4e0e00af0a54038904a.json</span>\n",
       "</pre>\n"
      ]
     },
     "metadata": {},
     "output_type": "display_data"
    },
    {
     "data": {
      "text/plain": [
       "\u001B[2m[DEBUG] Loading JSON file: \u001B[0m\n",
       "\u001B[2m../log/contracts_analysis_both_20250225_104133/safe/0x0a1ddf1ab6e51eff39a8dfa0a43090646e692828/analysis_0x0a8c3b7e1\u001B[0m\n",
       "\u001B[2m49891ff594e3ad580f8e1769151a07b.json\u001B[0m\n"
      ],
      "text/html": [
       "<pre style=\"white-space:pre;overflow-x:auto;line-height:normal;font-family:Menlo,'DejaVu Sans Mono',consolas,'Courier New',monospace\"><span style=\"color: #7f7f7f; text-decoration-color: #7f7f7f\">[DEBUG] Loading JSON file: </span>\n",
       "<span style=\"color: #7f7f7f; text-decoration-color: #7f7f7f\">../log/contracts_analysis_both_20250225_104133/safe/0x0a1ddf1ab6e51eff39a8dfa0a43090646e692828/analysis_0x0a8c3b7e1</span>\n",
       "<span style=\"color: #7f7f7f; text-decoration-color: #7f7f7f\">49891ff594e3ad580f8e1769151a07b.json</span>\n",
       "</pre>\n"
      ]
     },
     "metadata": {},
     "output_type": "display_data"
    },
    {
     "data": {
      "text/plain": [
       "\u001B[2m[DEBUG] Collected predictions: ['safe', 'safe', 'safe']\u001B[0m\n"
      ],
      "text/html": [
       "<pre style=\"white-space:pre;overflow-x:auto;line-height:normal;font-family:Menlo,'DejaVu Sans Mono',consolas,'Courier New',monospace\"><span style=\"color: #7f7f7f; text-decoration-color: #7f7f7f\">[DEBUG] Collected predictions: ['safe', 'safe', 'safe']</span>\n",
       "</pre>\n"
      ]
     },
     "metadata": {},
     "output_type": "display_data"
    },
    {
     "data": {
      "text/plain": [
       "\u001B[2m[DEBUG] Determined ground truth for \u001B[0m\n",
       "\u001B[2m../log/contracts_analysis_both_20250225_104133/safe/0x00a4a3e9279678ca1b564bca66396bb5801192da: safe\u001B[0m\n"
      ],
      "text/html": [
       "<pre style=\"white-space:pre;overflow-x:auto;line-height:normal;font-family:Menlo,'DejaVu Sans Mono',consolas,'Courier New',monospace\"><span style=\"color: #7f7f7f; text-decoration-color: #7f7f7f\">[DEBUG] Determined ground truth for </span>\n",
       "<span style=\"color: #7f7f7f; text-decoration-color: #7f7f7f\">../log/contracts_analysis_both_20250225_104133/safe/0x00a4a3e9279678ca1b564bca66396bb5801192da: safe</span>\n",
       "</pre>\n"
      ]
     },
     "metadata": {},
     "output_type": "display_data"
    },
    {
     "data": {
      "text/plain": [
       "\u001B[2m[DEBUG] Processing classification file: \u001B[0m\n",
       "\u001B[2m../log/contracts_analysis_both_20250225_104133/safe/0x00a4a3e9279678ca1b564bca66396bb5801192da/classification.json\u001B[0m\n"
      ],
      "text/html": [
       "<pre style=\"white-space:pre;overflow-x:auto;line-height:normal;font-family:Menlo,'DejaVu Sans Mono',consolas,'Courier New',monospace\"><span style=\"color: #7f7f7f; text-decoration-color: #7f7f7f\">[DEBUG] Processing classification file: </span>\n",
       "<span style=\"color: #7f7f7f; text-decoration-color: #7f7f7f\">../log/contracts_analysis_both_20250225_104133/safe/0x00a4a3e9279678ca1b564bca66396bb5801192da/classification.json</span>\n",
       "</pre>\n"
      ]
     },
     "metadata": {},
     "output_type": "display_data"
    },
    {
     "data": {
      "text/plain": [
       "\u001B[2m[DEBUG] Loading JSON file: \u001B[0m\n",
       "\u001B[2m../log/contracts_analysis_both_20250225_104133/safe/0x00a4a3e9279678ca1b564bca66396bb5801192da/classification.json\u001B[0m\n"
      ],
      "text/html": [
       "<pre style=\"white-space:pre;overflow-x:auto;line-height:normal;font-family:Menlo,'DejaVu Sans Mono',consolas,'Courier New',monospace\"><span style=\"color: #7f7f7f; text-decoration-color: #7f7f7f\">[DEBUG] Loading JSON file: </span>\n",
       "<span style=\"color: #7f7f7f; text-decoration-color: #7f7f7f\">../log/contracts_analysis_both_20250225_104133/safe/0x00a4a3e9279678ca1b564bca66396bb5801192da/classification.json</span>\n",
       "</pre>\n"
      ]
     },
     "metadata": {},
     "output_type": "display_data"
    },
    {
     "data": {
      "text/plain": [
       "\u001B[2m[DEBUG] Classification result: safe, Ground truth: safe\u001B[0m\n"
      ],
      "text/html": [
       "<pre style=\"white-space:pre;overflow-x:auto;line-height:normal;font-family:Menlo,'DejaVu Sans Mono',consolas,'Courier New',monospace\"><span style=\"color: #7f7f7f; text-decoration-color: #7f7f7f\">[DEBUG] Classification result: safe, Ground truth: safe</span>\n",
       "</pre>\n"
      ]
     },
     "metadata": {},
     "output_type": "display_data"
    },
    {
     "data": {
      "text/plain": [
       "\u001B[2m[DEBUG] Collecting predictions from directory: \u001B[0m\n",
       "\u001B[2m../log/contracts_analysis_both_20250225_104133/safe/0x00a4a3e9279678ca1b564bca66396bb5801192da\u001B[0m\n"
      ],
      "text/html": [
       "<pre style=\"white-space:pre;overflow-x:auto;line-height:normal;font-family:Menlo,'DejaVu Sans Mono',consolas,'Courier New',monospace\"><span style=\"color: #7f7f7f; text-decoration-color: #7f7f7f\">[DEBUG] Collecting predictions from directory: </span>\n",
       "<span style=\"color: #7f7f7f; text-decoration-color: #7f7f7f\">../log/contracts_analysis_both_20250225_104133/safe/0x00a4a3e9279678ca1b564bca66396bb5801192da</span>\n",
       "</pre>\n"
      ]
     },
     "metadata": {},
     "output_type": "display_data"
    },
    {
     "data": {
      "text/plain": [
       "\u001B[2m[DEBUG] Loading JSON file: \u001B[0m\n",
       "\u001B[2m../log/contracts_analysis_both_20250225_104133/safe/0x00a4a3e9279678ca1b564bca66396bb5801192da/analysis_0x0aa19b3e5\u001B[0m\n",
       "\u001B[2m1dd77e482690263c8af26bec2c6542e.json\u001B[0m\n"
      ],
      "text/html": [
       "<pre style=\"white-space:pre;overflow-x:auto;line-height:normal;font-family:Menlo,'DejaVu Sans Mono',consolas,'Courier New',monospace\"><span style=\"color: #7f7f7f; text-decoration-color: #7f7f7f\">[DEBUG] Loading JSON file: </span>\n",
       "<span style=\"color: #7f7f7f; text-decoration-color: #7f7f7f\">../log/contracts_analysis_both_20250225_104133/safe/0x00a4a3e9279678ca1b564bca66396bb5801192da/analysis_0x0aa19b3e5</span>\n",
       "<span style=\"color: #7f7f7f; text-decoration-color: #7f7f7f\">1dd77e482690263c8af26bec2c6542e.json</span>\n",
       "</pre>\n"
      ]
     },
     "metadata": {},
     "output_type": "display_data"
    },
    {
     "data": {
      "text/plain": [
       "\u001B[2m[DEBUG] Loading JSON file: \u001B[0m\n",
       "\u001B[2m../log/contracts_analysis_both_20250225_104133/safe/0x00a4a3e9279678ca1b564bca66396bb5801192da/analysis_0x0aab3ac44\u001B[0m\n",
       "\u001B[2m7ea90739bdbe4e0e00af0a54038904a.json\u001B[0m\n"
      ],
      "text/html": [
       "<pre style=\"white-space:pre;overflow-x:auto;line-height:normal;font-family:Menlo,'DejaVu Sans Mono',consolas,'Courier New',monospace\"><span style=\"color: #7f7f7f; text-decoration-color: #7f7f7f\">[DEBUG] Loading JSON file: </span>\n",
       "<span style=\"color: #7f7f7f; text-decoration-color: #7f7f7f\">../log/contracts_analysis_both_20250225_104133/safe/0x00a4a3e9279678ca1b564bca66396bb5801192da/analysis_0x0aab3ac44</span>\n",
       "<span style=\"color: #7f7f7f; text-decoration-color: #7f7f7f\">7ea90739bdbe4e0e00af0a54038904a.json</span>\n",
       "</pre>\n"
      ]
     },
     "metadata": {},
     "output_type": "display_data"
    },
    {
     "data": {
      "text/plain": [
       "\u001B[2m[DEBUG] Loading JSON file: \u001B[0m\n",
       "\u001B[2m../log/contracts_analysis_both_20250225_104133/safe/0x00a4a3e9279678ca1b564bca66396bb5801192da/analysis_0x0a8c3b7e1\u001B[0m\n",
       "\u001B[2m49891ff594e3ad580f8e1769151a07b.json\u001B[0m\n"
      ],
      "text/html": [
       "<pre style=\"white-space:pre;overflow-x:auto;line-height:normal;font-family:Menlo,'DejaVu Sans Mono',consolas,'Courier New',monospace\"><span style=\"color: #7f7f7f; text-decoration-color: #7f7f7f\">[DEBUG] Loading JSON file: </span>\n",
       "<span style=\"color: #7f7f7f; text-decoration-color: #7f7f7f\">../log/contracts_analysis_both_20250225_104133/safe/0x00a4a3e9279678ca1b564bca66396bb5801192da/analysis_0x0a8c3b7e1</span>\n",
       "<span style=\"color: #7f7f7f; text-decoration-color: #7f7f7f\">49891ff594e3ad580f8e1769151a07b.json</span>\n",
       "</pre>\n"
      ]
     },
     "metadata": {},
     "output_type": "display_data"
    },
    {
     "data": {
      "text/plain": [
       "\u001B[2m[DEBUG] Collected predictions: ['safe', 'safe', 'safe']\u001B[0m\n"
      ],
      "text/html": [
       "<pre style=\"white-space:pre;overflow-x:auto;line-height:normal;font-family:Menlo,'DejaVu Sans Mono',consolas,'Courier New',monospace\"><span style=\"color: #7f7f7f; text-decoration-color: #7f7f7f\">[DEBUG] Collected predictions: ['safe', 'safe', 'safe']</span>\n",
       "</pre>\n"
      ]
     },
     "metadata": {},
     "output_type": "display_data"
    },
    {
     "data": {
      "text/plain": [
       "\u001B[2m[DEBUG] Determined ground truth for \u001B[0m\n",
       "\u001B[2m../log/contracts_analysis_both_20250225_104133/safe/0x0a3aa27c785d424aa979a04df0d4b1546b0337b6: safe\u001B[0m\n"
      ],
      "text/html": [
       "<pre style=\"white-space:pre;overflow-x:auto;line-height:normal;font-family:Menlo,'DejaVu Sans Mono',consolas,'Courier New',monospace\"><span style=\"color: #7f7f7f; text-decoration-color: #7f7f7f\">[DEBUG] Determined ground truth for </span>\n",
       "<span style=\"color: #7f7f7f; text-decoration-color: #7f7f7f\">../log/contracts_analysis_both_20250225_104133/safe/0x0a3aa27c785d424aa979a04df0d4b1546b0337b6: safe</span>\n",
       "</pre>\n"
      ]
     },
     "metadata": {},
     "output_type": "display_data"
    },
    {
     "data": {
      "text/plain": [
       "\u001B[2m[DEBUG] Processing classification file: \u001B[0m\n",
       "\u001B[2m../log/contracts_analysis_both_20250225_104133/safe/0x0a3aa27c785d424aa979a04df0d4b1546b0337b6/classification.json\u001B[0m\n"
      ],
      "text/html": [
       "<pre style=\"white-space:pre;overflow-x:auto;line-height:normal;font-family:Menlo,'DejaVu Sans Mono',consolas,'Courier New',monospace\"><span style=\"color: #7f7f7f; text-decoration-color: #7f7f7f\">[DEBUG] Processing classification file: </span>\n",
       "<span style=\"color: #7f7f7f; text-decoration-color: #7f7f7f\">../log/contracts_analysis_both_20250225_104133/safe/0x0a3aa27c785d424aa979a04df0d4b1546b0337b6/classification.json</span>\n",
       "</pre>\n"
      ]
     },
     "metadata": {},
     "output_type": "display_data"
    },
    {
     "data": {
      "text/plain": [
       "\u001B[2m[DEBUG] Loading JSON file: \u001B[0m\n",
       "\u001B[2m../log/contracts_analysis_both_20250225_104133/safe/0x0a3aa27c785d424aa979a04df0d4b1546b0337b6/classification.json\u001B[0m\n"
      ],
      "text/html": [
       "<pre style=\"white-space:pre;overflow-x:auto;line-height:normal;font-family:Menlo,'DejaVu Sans Mono',consolas,'Courier New',monospace\"><span style=\"color: #7f7f7f; text-decoration-color: #7f7f7f\">[DEBUG] Loading JSON file: </span>\n",
       "<span style=\"color: #7f7f7f; text-decoration-color: #7f7f7f\">../log/contracts_analysis_both_20250225_104133/safe/0x0a3aa27c785d424aa979a04df0d4b1546b0337b6/classification.json</span>\n",
       "</pre>\n"
      ]
     },
     "metadata": {},
     "output_type": "display_data"
    },
    {
     "data": {
      "text/plain": [
       "\u001B[2m[DEBUG] Classification result: safe, Ground truth: safe\u001B[0m\n"
      ],
      "text/html": [
       "<pre style=\"white-space:pre;overflow-x:auto;line-height:normal;font-family:Menlo,'DejaVu Sans Mono',consolas,'Courier New',monospace\"><span style=\"color: #7f7f7f; text-decoration-color: #7f7f7f\">[DEBUG] Classification result: safe, Ground truth: safe</span>\n",
       "</pre>\n"
      ]
     },
     "metadata": {},
     "output_type": "display_data"
    },
    {
     "data": {
      "text/plain": [
       "\u001B[2m[DEBUG] Collecting predictions from directory: \u001B[0m\n",
       "\u001B[2m../log/contracts_analysis_both_20250225_104133/safe/0x0a3aa27c785d424aa979a04df0d4b1546b0337b6\u001B[0m\n"
      ],
      "text/html": [
       "<pre style=\"white-space:pre;overflow-x:auto;line-height:normal;font-family:Menlo,'DejaVu Sans Mono',consolas,'Courier New',monospace\"><span style=\"color: #7f7f7f; text-decoration-color: #7f7f7f\">[DEBUG] Collecting predictions from directory: </span>\n",
       "<span style=\"color: #7f7f7f; text-decoration-color: #7f7f7f\">../log/contracts_analysis_both_20250225_104133/safe/0x0a3aa27c785d424aa979a04df0d4b1546b0337b6</span>\n",
       "</pre>\n"
      ]
     },
     "metadata": {},
     "output_type": "display_data"
    },
    {
     "data": {
      "text/plain": [
       "\u001B[2m[DEBUG] Loading JSON file: \u001B[0m\n",
       "\u001B[2m../log/contracts_analysis_both_20250225_104133/safe/0x0a3aa27c785d424aa979a04df0d4b1546b0337b6/analysis_0x0aa19b3e5\u001B[0m\n",
       "\u001B[2m1dd77e482690263c8af26bec2c6542e.json\u001B[0m\n"
      ],
      "text/html": [
       "<pre style=\"white-space:pre;overflow-x:auto;line-height:normal;font-family:Menlo,'DejaVu Sans Mono',consolas,'Courier New',monospace\"><span style=\"color: #7f7f7f; text-decoration-color: #7f7f7f\">[DEBUG] Loading JSON file: </span>\n",
       "<span style=\"color: #7f7f7f; text-decoration-color: #7f7f7f\">../log/contracts_analysis_both_20250225_104133/safe/0x0a3aa27c785d424aa979a04df0d4b1546b0337b6/analysis_0x0aa19b3e5</span>\n",
       "<span style=\"color: #7f7f7f; text-decoration-color: #7f7f7f\">1dd77e482690263c8af26bec2c6542e.json</span>\n",
       "</pre>\n"
      ]
     },
     "metadata": {},
     "output_type": "display_data"
    },
    {
     "data": {
      "text/plain": [
       "\u001B[2m[DEBUG] Loading JSON file: \u001B[0m\n",
       "\u001B[2m../log/contracts_analysis_both_20250225_104133/safe/0x0a3aa27c785d424aa979a04df0d4b1546b0337b6/analysis_0x0aab3ac44\u001B[0m\n",
       "\u001B[2m7ea90739bdbe4e0e00af0a54038904a.json\u001B[0m\n"
      ],
      "text/html": [
       "<pre style=\"white-space:pre;overflow-x:auto;line-height:normal;font-family:Menlo,'DejaVu Sans Mono',consolas,'Courier New',monospace\"><span style=\"color: #7f7f7f; text-decoration-color: #7f7f7f\">[DEBUG] Loading JSON file: </span>\n",
       "<span style=\"color: #7f7f7f; text-decoration-color: #7f7f7f\">../log/contracts_analysis_both_20250225_104133/safe/0x0a3aa27c785d424aa979a04df0d4b1546b0337b6/analysis_0x0aab3ac44</span>\n",
       "<span style=\"color: #7f7f7f; text-decoration-color: #7f7f7f\">7ea90739bdbe4e0e00af0a54038904a.json</span>\n",
       "</pre>\n"
      ]
     },
     "metadata": {},
     "output_type": "display_data"
    },
    {
     "data": {
      "text/plain": [
       "\u001B[2m[DEBUG] Loading JSON file: \u001B[0m\n",
       "\u001B[2m../log/contracts_analysis_both_20250225_104133/safe/0x0a3aa27c785d424aa979a04df0d4b1546b0337b6/analysis_0x0a8c3b7e1\u001B[0m\n",
       "\u001B[2m49891ff594e3ad580f8e1769151a07b.json\u001B[0m\n"
      ],
      "text/html": [
       "<pre style=\"white-space:pre;overflow-x:auto;line-height:normal;font-family:Menlo,'DejaVu Sans Mono',consolas,'Courier New',monospace\"><span style=\"color: #7f7f7f; text-decoration-color: #7f7f7f\">[DEBUG] Loading JSON file: </span>\n",
       "<span style=\"color: #7f7f7f; text-decoration-color: #7f7f7f\">../log/contracts_analysis_both_20250225_104133/safe/0x0a3aa27c785d424aa979a04df0d4b1546b0337b6/analysis_0x0a8c3b7e1</span>\n",
       "<span style=\"color: #7f7f7f; text-decoration-color: #7f7f7f\">49891ff594e3ad580f8e1769151a07b.json</span>\n",
       "</pre>\n"
      ]
     },
     "metadata": {},
     "output_type": "display_data"
    },
    {
     "data": {
      "text/plain": [
       "\u001B[2m[DEBUG] Collected predictions: ['safe', 'safe', 'safe']\u001B[0m\n"
      ],
      "text/html": [
       "<pre style=\"white-space:pre;overflow-x:auto;line-height:normal;font-family:Menlo,'DejaVu Sans Mono',consolas,'Courier New',monospace\"><span style=\"color: #7f7f7f; text-decoration-color: #7f7f7f\">[DEBUG] Collected predictions: ['safe', 'safe', 'safe']</span>\n",
       "</pre>\n"
      ]
     },
     "metadata": {},
     "output_type": "display_data"
    },
    {
     "data": {
      "text/plain": [
       "\u001B[2m[DEBUG] Determined ground truth for \u001B[0m\n",
       "\u001B[2m../log/contracts_analysis_both_20250225_104133/safe/0x0a2aa00cdb1bcf9943e9c947defdedbee627cd84: safe\u001B[0m\n"
      ],
      "text/html": [
       "<pre style=\"white-space:pre;overflow-x:auto;line-height:normal;font-family:Menlo,'DejaVu Sans Mono',consolas,'Courier New',monospace\"><span style=\"color: #7f7f7f; text-decoration-color: #7f7f7f\">[DEBUG] Determined ground truth for </span>\n",
       "<span style=\"color: #7f7f7f; text-decoration-color: #7f7f7f\">../log/contracts_analysis_both_20250225_104133/safe/0x0a2aa00cdb1bcf9943e9c947defdedbee627cd84: safe</span>\n",
       "</pre>\n"
      ]
     },
     "metadata": {},
     "output_type": "display_data"
    },
    {
     "data": {
      "text/plain": [
       "\u001B[2m[DEBUG] Processing classification file: \u001B[0m\n",
       "\u001B[2m../log/contracts_analysis_both_20250225_104133/safe/0x0a2aa00cdb1bcf9943e9c947defdedbee627cd84/classification.json\u001B[0m\n"
      ],
      "text/html": [
       "<pre style=\"white-space:pre;overflow-x:auto;line-height:normal;font-family:Menlo,'DejaVu Sans Mono',consolas,'Courier New',monospace\"><span style=\"color: #7f7f7f; text-decoration-color: #7f7f7f\">[DEBUG] Processing classification file: </span>\n",
       "<span style=\"color: #7f7f7f; text-decoration-color: #7f7f7f\">../log/contracts_analysis_both_20250225_104133/safe/0x0a2aa00cdb1bcf9943e9c947defdedbee627cd84/classification.json</span>\n",
       "</pre>\n"
      ]
     },
     "metadata": {},
     "output_type": "display_data"
    },
    {
     "data": {
      "text/plain": [
       "\u001B[2m[DEBUG] Loading JSON file: \u001B[0m\n",
       "\u001B[2m../log/contracts_analysis_both_20250225_104133/safe/0x0a2aa00cdb1bcf9943e9c947defdedbee627cd84/classification.json\u001B[0m\n"
      ],
      "text/html": [
       "<pre style=\"white-space:pre;overflow-x:auto;line-height:normal;font-family:Menlo,'DejaVu Sans Mono',consolas,'Courier New',monospace\"><span style=\"color: #7f7f7f; text-decoration-color: #7f7f7f\">[DEBUG] Loading JSON file: </span>\n",
       "<span style=\"color: #7f7f7f; text-decoration-color: #7f7f7f\">../log/contracts_analysis_both_20250225_104133/safe/0x0a2aa00cdb1bcf9943e9c947defdedbee627cd84/classification.json</span>\n",
       "</pre>\n"
      ]
     },
     "metadata": {},
     "output_type": "display_data"
    },
    {
     "data": {
      "text/plain": [
       "\u001B[2m[DEBUG] Classification result: safe, Ground truth: safe\u001B[0m\n"
      ],
      "text/html": [
       "<pre style=\"white-space:pre;overflow-x:auto;line-height:normal;font-family:Menlo,'DejaVu Sans Mono',consolas,'Courier New',monospace\"><span style=\"color: #7f7f7f; text-decoration-color: #7f7f7f\">[DEBUG] Classification result: safe, Ground truth: safe</span>\n",
       "</pre>\n"
      ]
     },
     "metadata": {},
     "output_type": "display_data"
    },
    {
     "data": {
      "text/plain": [
       "\u001B[2m[DEBUG] Collecting predictions from directory: \u001B[0m\n",
       "\u001B[2m../log/contracts_analysis_both_20250225_104133/safe/0x0a2aa00cdb1bcf9943e9c947defdedbee627cd84\u001B[0m\n"
      ],
      "text/html": [
       "<pre style=\"white-space:pre;overflow-x:auto;line-height:normal;font-family:Menlo,'DejaVu Sans Mono',consolas,'Courier New',monospace\"><span style=\"color: #7f7f7f; text-decoration-color: #7f7f7f\">[DEBUG] Collecting predictions from directory: </span>\n",
       "<span style=\"color: #7f7f7f; text-decoration-color: #7f7f7f\">../log/contracts_analysis_both_20250225_104133/safe/0x0a2aa00cdb1bcf9943e9c947defdedbee627cd84</span>\n",
       "</pre>\n"
      ]
     },
     "metadata": {},
     "output_type": "display_data"
    },
    {
     "data": {
      "text/plain": [
       "\u001B[2m[DEBUG] Loading JSON file: \u001B[0m\n",
       "\u001B[2m../log/contracts_analysis_both_20250225_104133/safe/0x0a2aa00cdb1bcf9943e9c947defdedbee627cd84/analysis_0x0aa19b3e5\u001B[0m\n",
       "\u001B[2m1dd77e482690263c8af26bec2c6542e.json\u001B[0m\n"
      ],
      "text/html": [
       "<pre style=\"white-space:pre;overflow-x:auto;line-height:normal;font-family:Menlo,'DejaVu Sans Mono',consolas,'Courier New',monospace\"><span style=\"color: #7f7f7f; text-decoration-color: #7f7f7f\">[DEBUG] Loading JSON file: </span>\n",
       "<span style=\"color: #7f7f7f; text-decoration-color: #7f7f7f\">../log/contracts_analysis_both_20250225_104133/safe/0x0a2aa00cdb1bcf9943e9c947defdedbee627cd84/analysis_0x0aa19b3e5</span>\n",
       "<span style=\"color: #7f7f7f; text-decoration-color: #7f7f7f\">1dd77e482690263c8af26bec2c6542e.json</span>\n",
       "</pre>\n"
      ]
     },
     "metadata": {},
     "output_type": "display_data"
    },
    {
     "data": {
      "text/plain": [
       "\u001B[2m[DEBUG] Loading JSON file: \u001B[0m\n",
       "\u001B[2m../log/contracts_analysis_both_20250225_104133/safe/0x0a2aa00cdb1bcf9943e9c947defdedbee627cd84/analysis_0x0aab3ac44\u001B[0m\n",
       "\u001B[2m7ea90739bdbe4e0e00af0a54038904a.json\u001B[0m\n"
      ],
      "text/html": [
       "<pre style=\"white-space:pre;overflow-x:auto;line-height:normal;font-family:Menlo,'DejaVu Sans Mono',consolas,'Courier New',monospace\"><span style=\"color: #7f7f7f; text-decoration-color: #7f7f7f\">[DEBUG] Loading JSON file: </span>\n",
       "<span style=\"color: #7f7f7f; text-decoration-color: #7f7f7f\">../log/contracts_analysis_both_20250225_104133/safe/0x0a2aa00cdb1bcf9943e9c947defdedbee627cd84/analysis_0x0aab3ac44</span>\n",
       "<span style=\"color: #7f7f7f; text-decoration-color: #7f7f7f\">7ea90739bdbe4e0e00af0a54038904a.json</span>\n",
       "</pre>\n"
      ]
     },
     "metadata": {},
     "output_type": "display_data"
    },
    {
     "data": {
      "text/plain": [
       "\u001B[2m[DEBUG] Loading JSON file: \u001B[0m\n",
       "\u001B[2m../log/contracts_analysis_both_20250225_104133/safe/0x0a2aa00cdb1bcf9943e9c947defdedbee627cd84/analysis_0x0a8c3b7e1\u001B[0m\n",
       "\u001B[2m49891ff594e3ad580f8e1769151a07b.json\u001B[0m\n"
      ],
      "text/html": [
       "<pre style=\"white-space:pre;overflow-x:auto;line-height:normal;font-family:Menlo,'DejaVu Sans Mono',consolas,'Courier New',monospace\"><span style=\"color: #7f7f7f; text-decoration-color: #7f7f7f\">[DEBUG] Loading JSON file: </span>\n",
       "<span style=\"color: #7f7f7f; text-decoration-color: #7f7f7f\">../log/contracts_analysis_both_20250225_104133/safe/0x0a2aa00cdb1bcf9943e9c947defdedbee627cd84/analysis_0x0a8c3b7e1</span>\n",
       "<span style=\"color: #7f7f7f; text-decoration-color: #7f7f7f\">49891ff594e3ad580f8e1769151a07b.json</span>\n",
       "</pre>\n"
      ]
     },
     "metadata": {},
     "output_type": "display_data"
    },
    {
     "data": {
      "text/plain": [
       "\u001B[2m[DEBUG] Collected predictions: ['safe', 'safe', 'safe']\u001B[0m\n"
      ],
      "text/html": [
       "<pre style=\"white-space:pre;overflow-x:auto;line-height:normal;font-family:Menlo,'DejaVu Sans Mono',consolas,'Courier New',monospace\"><span style=\"color: #7f7f7f; text-decoration-color: #7f7f7f\">[DEBUG] Collected predictions: ['safe', 'safe', 'safe']</span>\n",
       "</pre>\n"
      ]
     },
     "metadata": {},
     "output_type": "display_data"
    },
    {
     "data": {
      "text/plain": [
       "\u001B[2m[DEBUG] Determined ground truth for \u001B[0m\n",
       "\u001B[2m../log/contracts_analysis_both_20250225_104133/safe/0x0a2d553217e92c6553334723f0669cc3f61fd569: safe\u001B[0m\n"
      ],
      "text/html": [
       "<pre style=\"white-space:pre;overflow-x:auto;line-height:normal;font-family:Menlo,'DejaVu Sans Mono',consolas,'Courier New',monospace\"><span style=\"color: #7f7f7f; text-decoration-color: #7f7f7f\">[DEBUG] Determined ground truth for </span>\n",
       "<span style=\"color: #7f7f7f; text-decoration-color: #7f7f7f\">../log/contracts_analysis_both_20250225_104133/safe/0x0a2d553217e92c6553334723f0669cc3f61fd569: safe</span>\n",
       "</pre>\n"
      ]
     },
     "metadata": {},
     "output_type": "display_data"
    },
    {
     "data": {
      "text/plain": [
       "\u001B[2m[DEBUG] Processing classification file: \u001B[0m\n",
       "\u001B[2m../log/contracts_analysis_both_20250225_104133/safe/0x0a2d553217e92c6553334723f0669cc3f61fd569/classification.json\u001B[0m\n"
      ],
      "text/html": [
       "<pre style=\"white-space:pre;overflow-x:auto;line-height:normal;font-family:Menlo,'DejaVu Sans Mono',consolas,'Courier New',monospace\"><span style=\"color: #7f7f7f; text-decoration-color: #7f7f7f\">[DEBUG] Processing classification file: </span>\n",
       "<span style=\"color: #7f7f7f; text-decoration-color: #7f7f7f\">../log/contracts_analysis_both_20250225_104133/safe/0x0a2d553217e92c6553334723f0669cc3f61fd569/classification.json</span>\n",
       "</pre>\n"
      ]
     },
     "metadata": {},
     "output_type": "display_data"
    },
    {
     "data": {
      "text/plain": [
       "\u001B[2m[DEBUG] Loading JSON file: \u001B[0m\n",
       "\u001B[2m../log/contracts_analysis_both_20250225_104133/safe/0x0a2d553217e92c6553334723f0669cc3f61fd569/classification.json\u001B[0m\n"
      ],
      "text/html": [
       "<pre style=\"white-space:pre;overflow-x:auto;line-height:normal;font-family:Menlo,'DejaVu Sans Mono',consolas,'Courier New',monospace\"><span style=\"color: #7f7f7f; text-decoration-color: #7f7f7f\">[DEBUG] Loading JSON file: </span>\n",
       "<span style=\"color: #7f7f7f; text-decoration-color: #7f7f7f\">../log/contracts_analysis_both_20250225_104133/safe/0x0a2d553217e92c6553334723f0669cc3f61fd569/classification.json</span>\n",
       "</pre>\n"
      ]
     },
     "metadata": {},
     "output_type": "display_data"
    },
    {
     "data": {
      "text/plain": [
       "\u001B[2m[DEBUG] Classification result: safe, Ground truth: safe\u001B[0m\n"
      ],
      "text/html": [
       "<pre style=\"white-space:pre;overflow-x:auto;line-height:normal;font-family:Menlo,'DejaVu Sans Mono',consolas,'Courier New',monospace\"><span style=\"color: #7f7f7f; text-decoration-color: #7f7f7f\">[DEBUG] Classification result: safe, Ground truth: safe</span>\n",
       "</pre>\n"
      ]
     },
     "metadata": {},
     "output_type": "display_data"
    },
    {
     "data": {
      "text/plain": [
       "\u001B[2m[DEBUG] Collecting predictions from directory: \u001B[0m\n",
       "\u001B[2m../log/contracts_analysis_both_20250225_104133/safe/0x0a2d553217e92c6553334723f0669cc3f61fd569\u001B[0m\n"
      ],
      "text/html": [
       "<pre style=\"white-space:pre;overflow-x:auto;line-height:normal;font-family:Menlo,'DejaVu Sans Mono',consolas,'Courier New',monospace\"><span style=\"color: #7f7f7f; text-decoration-color: #7f7f7f\">[DEBUG] Collecting predictions from directory: </span>\n",
       "<span style=\"color: #7f7f7f; text-decoration-color: #7f7f7f\">../log/contracts_analysis_both_20250225_104133/safe/0x0a2d553217e92c6553334723f0669cc3f61fd569</span>\n",
       "</pre>\n"
      ]
     },
     "metadata": {},
     "output_type": "display_data"
    },
    {
     "data": {
      "text/plain": [
       "\u001B[2m[DEBUG] Loading JSON file: \u001B[0m\n",
       "\u001B[2m../log/contracts_analysis_both_20250225_104133/safe/0x0a2d553217e92c6553334723f0669cc3f61fd569/analysis_0x0aa19b3e5\u001B[0m\n",
       "\u001B[2m1dd77e482690263c8af26bec2c6542e.json\u001B[0m\n"
      ],
      "text/html": [
       "<pre style=\"white-space:pre;overflow-x:auto;line-height:normal;font-family:Menlo,'DejaVu Sans Mono',consolas,'Courier New',monospace\"><span style=\"color: #7f7f7f; text-decoration-color: #7f7f7f\">[DEBUG] Loading JSON file: </span>\n",
       "<span style=\"color: #7f7f7f; text-decoration-color: #7f7f7f\">../log/contracts_analysis_both_20250225_104133/safe/0x0a2d553217e92c6553334723f0669cc3f61fd569/analysis_0x0aa19b3e5</span>\n",
       "<span style=\"color: #7f7f7f; text-decoration-color: #7f7f7f\">1dd77e482690263c8af26bec2c6542e.json</span>\n",
       "</pre>\n"
      ]
     },
     "metadata": {},
     "output_type": "display_data"
    },
    {
     "data": {
      "text/plain": [
       "\u001B[2m[DEBUG] Loading JSON file: \u001B[0m\n",
       "\u001B[2m../log/contracts_analysis_both_20250225_104133/safe/0x0a2d553217e92c6553334723f0669cc3f61fd569/analysis_0x0aab3ac44\u001B[0m\n",
       "\u001B[2m7ea90739bdbe4e0e00af0a54038904a.json\u001B[0m\n"
      ],
      "text/html": [
       "<pre style=\"white-space:pre;overflow-x:auto;line-height:normal;font-family:Menlo,'DejaVu Sans Mono',consolas,'Courier New',monospace\"><span style=\"color: #7f7f7f; text-decoration-color: #7f7f7f\">[DEBUG] Loading JSON file: </span>\n",
       "<span style=\"color: #7f7f7f; text-decoration-color: #7f7f7f\">../log/contracts_analysis_both_20250225_104133/safe/0x0a2d553217e92c6553334723f0669cc3f61fd569/analysis_0x0aab3ac44</span>\n",
       "<span style=\"color: #7f7f7f; text-decoration-color: #7f7f7f\">7ea90739bdbe4e0e00af0a54038904a.json</span>\n",
       "</pre>\n"
      ]
     },
     "metadata": {},
     "output_type": "display_data"
    },
    {
     "data": {
      "text/plain": [
       "\u001B[2m[DEBUG] Loading JSON file: \u001B[0m\n",
       "\u001B[2m../log/contracts_analysis_both_20250225_104133/safe/0x0a2d553217e92c6553334723f0669cc3f61fd569/analysis_0x0a8c3b7e1\u001B[0m\n",
       "\u001B[2m49891ff594e3ad580f8e1769151a07b.json\u001B[0m\n"
      ],
      "text/html": [
       "<pre style=\"white-space:pre;overflow-x:auto;line-height:normal;font-family:Menlo,'DejaVu Sans Mono',consolas,'Courier New',monospace\"><span style=\"color: #7f7f7f; text-decoration-color: #7f7f7f\">[DEBUG] Loading JSON file: </span>\n",
       "<span style=\"color: #7f7f7f; text-decoration-color: #7f7f7f\">../log/contracts_analysis_both_20250225_104133/safe/0x0a2d553217e92c6553334723f0669cc3f61fd569/analysis_0x0a8c3b7e1</span>\n",
       "<span style=\"color: #7f7f7f; text-decoration-color: #7f7f7f\">49891ff594e3ad580f8e1769151a07b.json</span>\n",
       "</pre>\n"
      ]
     },
     "metadata": {},
     "output_type": "display_data"
    },
    {
     "data": {
      "text/plain": [
       "\u001B[2m[DEBUG] Collected predictions: ['safe', 'safe', 'safe']\u001B[0m\n"
      ],
      "text/html": [
       "<pre style=\"white-space:pre;overflow-x:auto;line-height:normal;font-family:Menlo,'DejaVu Sans Mono',consolas,'Courier New',monospace\"><span style=\"color: #7f7f7f; text-decoration-color: #7f7f7f\">[DEBUG] Collected predictions: ['safe', 'safe', 'safe']</span>\n",
       "</pre>\n"
      ]
     },
     "metadata": {},
     "output_type": "display_data"
    },
    {
     "data": {
      "text/plain": [
       "\u001B[2m[DEBUG] Determined ground truth for \u001B[0m\n",
       "\u001B[2m../log/contracts_analysis_both_20250225_104133/safe/0x0a2dcbda9a78f0b02192478b1a5758e4b6dff5b4: safe\u001B[0m\n"
      ],
      "text/html": [
       "<pre style=\"white-space:pre;overflow-x:auto;line-height:normal;font-family:Menlo,'DejaVu Sans Mono',consolas,'Courier New',monospace\"><span style=\"color: #7f7f7f; text-decoration-color: #7f7f7f\">[DEBUG] Determined ground truth for </span>\n",
       "<span style=\"color: #7f7f7f; text-decoration-color: #7f7f7f\">../log/contracts_analysis_both_20250225_104133/safe/0x0a2dcbda9a78f0b02192478b1a5758e4b6dff5b4: safe</span>\n",
       "</pre>\n"
      ]
     },
     "metadata": {},
     "output_type": "display_data"
    },
    {
     "data": {
      "text/plain": [
       "\u001B[2m[DEBUG] Processing classification file: \u001B[0m\n",
       "\u001B[2m../log/contracts_analysis_both_20250225_104133/safe/0x0a2dcbda9a78f0b02192478b1a5758e4b6dff5b4/classification.json\u001B[0m\n"
      ],
      "text/html": [
       "<pre style=\"white-space:pre;overflow-x:auto;line-height:normal;font-family:Menlo,'DejaVu Sans Mono',consolas,'Courier New',monospace\"><span style=\"color: #7f7f7f; text-decoration-color: #7f7f7f\">[DEBUG] Processing classification file: </span>\n",
       "<span style=\"color: #7f7f7f; text-decoration-color: #7f7f7f\">../log/contracts_analysis_both_20250225_104133/safe/0x0a2dcbda9a78f0b02192478b1a5758e4b6dff5b4/classification.json</span>\n",
       "</pre>\n"
      ]
     },
     "metadata": {},
     "output_type": "display_data"
    },
    {
     "data": {
      "text/plain": [
       "\u001B[2m[DEBUG] Loading JSON file: \u001B[0m\n",
       "\u001B[2m../log/contracts_analysis_both_20250225_104133/safe/0x0a2dcbda9a78f0b02192478b1a5758e4b6dff5b4/classification.json\u001B[0m\n"
      ],
      "text/html": [
       "<pre style=\"white-space:pre;overflow-x:auto;line-height:normal;font-family:Menlo,'DejaVu Sans Mono',consolas,'Courier New',monospace\"><span style=\"color: #7f7f7f; text-decoration-color: #7f7f7f\">[DEBUG] Loading JSON file: </span>\n",
       "<span style=\"color: #7f7f7f; text-decoration-color: #7f7f7f\">../log/contracts_analysis_both_20250225_104133/safe/0x0a2dcbda9a78f0b02192478b1a5758e4b6dff5b4/classification.json</span>\n",
       "</pre>\n"
      ]
     },
     "metadata": {},
     "output_type": "display_data"
    },
    {
     "data": {
      "text/plain": [
       "\u001B[2m[DEBUG] Classification result: safe, Ground truth: safe\u001B[0m\n"
      ],
      "text/html": [
       "<pre style=\"white-space:pre;overflow-x:auto;line-height:normal;font-family:Menlo,'DejaVu Sans Mono',consolas,'Courier New',monospace\"><span style=\"color: #7f7f7f; text-decoration-color: #7f7f7f\">[DEBUG] Classification result: safe, Ground truth: safe</span>\n",
       "</pre>\n"
      ]
     },
     "metadata": {},
     "output_type": "display_data"
    },
    {
     "data": {
      "text/plain": [
       "\u001B[2m[DEBUG] Collecting predictions from directory: \u001B[0m\n",
       "\u001B[2m../log/contracts_analysis_both_20250225_104133/safe/0x0a2dcbda9a78f0b02192478b1a5758e4b6dff5b4\u001B[0m\n"
      ],
      "text/html": [
       "<pre style=\"white-space:pre;overflow-x:auto;line-height:normal;font-family:Menlo,'DejaVu Sans Mono',consolas,'Courier New',monospace\"><span style=\"color: #7f7f7f; text-decoration-color: #7f7f7f\">[DEBUG] Collecting predictions from directory: </span>\n",
       "<span style=\"color: #7f7f7f; text-decoration-color: #7f7f7f\">../log/contracts_analysis_both_20250225_104133/safe/0x0a2dcbda9a78f0b02192478b1a5758e4b6dff5b4</span>\n",
       "</pre>\n"
      ]
     },
     "metadata": {},
     "output_type": "display_data"
    },
    {
     "data": {
      "text/plain": [
       "\u001B[2m[DEBUG] Loading JSON file: \u001B[0m\n",
       "\u001B[2m../log/contracts_analysis_both_20250225_104133/safe/0x0a2dcbda9a78f0b02192478b1a5758e4b6dff5b4/analysis_0x0aa19b3e5\u001B[0m\n",
       "\u001B[2m1dd77e482690263c8af26bec2c6542e.json\u001B[0m\n"
      ],
      "text/html": [
       "<pre style=\"white-space:pre;overflow-x:auto;line-height:normal;font-family:Menlo,'DejaVu Sans Mono',consolas,'Courier New',monospace\"><span style=\"color: #7f7f7f; text-decoration-color: #7f7f7f\">[DEBUG] Loading JSON file: </span>\n",
       "<span style=\"color: #7f7f7f; text-decoration-color: #7f7f7f\">../log/contracts_analysis_both_20250225_104133/safe/0x0a2dcbda9a78f0b02192478b1a5758e4b6dff5b4/analysis_0x0aa19b3e5</span>\n",
       "<span style=\"color: #7f7f7f; text-decoration-color: #7f7f7f\">1dd77e482690263c8af26bec2c6542e.json</span>\n",
       "</pre>\n"
      ]
     },
     "metadata": {},
     "output_type": "display_data"
    },
    {
     "data": {
      "text/plain": [
       "\u001B[2m[DEBUG] Loading JSON file: \u001B[0m\n",
       "\u001B[2m../log/contracts_analysis_both_20250225_104133/safe/0x0a2dcbda9a78f0b02192478b1a5758e4b6dff5b4/analysis_0x0aab3ac44\u001B[0m\n",
       "\u001B[2m7ea90739bdbe4e0e00af0a54038904a.json\u001B[0m\n"
      ],
      "text/html": [
       "<pre style=\"white-space:pre;overflow-x:auto;line-height:normal;font-family:Menlo,'DejaVu Sans Mono',consolas,'Courier New',monospace\"><span style=\"color: #7f7f7f; text-decoration-color: #7f7f7f\">[DEBUG] Loading JSON file: </span>\n",
       "<span style=\"color: #7f7f7f; text-decoration-color: #7f7f7f\">../log/contracts_analysis_both_20250225_104133/safe/0x0a2dcbda9a78f0b02192478b1a5758e4b6dff5b4/analysis_0x0aab3ac44</span>\n",
       "<span style=\"color: #7f7f7f; text-decoration-color: #7f7f7f\">7ea90739bdbe4e0e00af0a54038904a.json</span>\n",
       "</pre>\n"
      ]
     },
     "metadata": {},
     "output_type": "display_data"
    },
    {
     "data": {
      "text/plain": [
       "\u001B[2m[DEBUG] Loading JSON file: \u001B[0m\n",
       "\u001B[2m../log/contracts_analysis_both_20250225_104133/safe/0x0a2dcbda9a78f0b02192478b1a5758e4b6dff5b4/analysis_0x0a8c3b7e1\u001B[0m\n",
       "\u001B[2m49891ff594e3ad580f8e1769151a07b.json\u001B[0m\n"
      ],
      "text/html": [
       "<pre style=\"white-space:pre;overflow-x:auto;line-height:normal;font-family:Menlo,'DejaVu Sans Mono',consolas,'Courier New',monospace\"><span style=\"color: #7f7f7f; text-decoration-color: #7f7f7f\">[DEBUG] Loading JSON file: </span>\n",
       "<span style=\"color: #7f7f7f; text-decoration-color: #7f7f7f\">../log/contracts_analysis_both_20250225_104133/safe/0x0a2dcbda9a78f0b02192478b1a5758e4b6dff5b4/analysis_0x0a8c3b7e1</span>\n",
       "<span style=\"color: #7f7f7f; text-decoration-color: #7f7f7f\">49891ff594e3ad580f8e1769151a07b.json</span>\n",
       "</pre>\n"
      ]
     },
     "metadata": {},
     "output_type": "display_data"
    },
    {
     "data": {
      "text/plain": [
       "\u001B[2m[DEBUG] Collected predictions: ['safe', 'safe', 'safe']\u001B[0m\n"
      ],
      "text/html": [
       "<pre style=\"white-space:pre;overflow-x:auto;line-height:normal;font-family:Menlo,'DejaVu Sans Mono',consolas,'Courier New',monospace\"><span style=\"color: #7f7f7f; text-decoration-color: #7f7f7f\">[DEBUG] Collected predictions: ['safe', 'safe', 'safe']</span>\n",
       "</pre>\n"
      ]
     },
     "metadata": {},
     "output_type": "display_data"
    },
    {
     "data": {
      "text/plain": [
       "\u001B[2m[DEBUG] Determined ground truth for \u001B[0m\n",
       "\u001B[2m../log/contracts_analysis_both_20250225_104133/safe/0x0a4d2fb8189bb7dbcc2e566e8e1fbbff637cb390: safe\u001B[0m\n"
      ],
      "text/html": [
       "<pre style=\"white-space:pre;overflow-x:auto;line-height:normal;font-family:Menlo,'DejaVu Sans Mono',consolas,'Courier New',monospace\"><span style=\"color: #7f7f7f; text-decoration-color: #7f7f7f\">[DEBUG] Determined ground truth for </span>\n",
       "<span style=\"color: #7f7f7f; text-decoration-color: #7f7f7f\">../log/contracts_analysis_both_20250225_104133/safe/0x0a4d2fb8189bb7dbcc2e566e8e1fbbff637cb390: safe</span>\n",
       "</pre>\n"
      ]
     },
     "metadata": {},
     "output_type": "display_data"
    },
    {
     "data": {
      "text/plain": [
       "\u001B[2m[DEBUG] Processing classification file: \u001B[0m\n",
       "\u001B[2m../log/contracts_analysis_both_20250225_104133/safe/0x0a4d2fb8189bb7dbcc2e566e8e1fbbff637cb390/classification.json\u001B[0m\n"
      ],
      "text/html": [
       "<pre style=\"white-space:pre;overflow-x:auto;line-height:normal;font-family:Menlo,'DejaVu Sans Mono',consolas,'Courier New',monospace\"><span style=\"color: #7f7f7f; text-decoration-color: #7f7f7f\">[DEBUG] Processing classification file: </span>\n",
       "<span style=\"color: #7f7f7f; text-decoration-color: #7f7f7f\">../log/contracts_analysis_both_20250225_104133/safe/0x0a4d2fb8189bb7dbcc2e566e8e1fbbff637cb390/classification.json</span>\n",
       "</pre>\n"
      ]
     },
     "metadata": {},
     "output_type": "display_data"
    },
    {
     "data": {
      "text/plain": [
       "\u001B[2m[DEBUG] Loading JSON file: \u001B[0m\n",
       "\u001B[2m../log/contracts_analysis_both_20250225_104133/safe/0x0a4d2fb8189bb7dbcc2e566e8e1fbbff637cb390/classification.json\u001B[0m\n"
      ],
      "text/html": [
       "<pre style=\"white-space:pre;overflow-x:auto;line-height:normal;font-family:Menlo,'DejaVu Sans Mono',consolas,'Courier New',monospace\"><span style=\"color: #7f7f7f; text-decoration-color: #7f7f7f\">[DEBUG] Loading JSON file: </span>\n",
       "<span style=\"color: #7f7f7f; text-decoration-color: #7f7f7f\">../log/contracts_analysis_both_20250225_104133/safe/0x0a4d2fb8189bb7dbcc2e566e8e1fbbff637cb390/classification.json</span>\n",
       "</pre>\n"
      ]
     },
     "metadata": {},
     "output_type": "display_data"
    },
    {
     "data": {
      "text/plain": [
       "\u001B[2m[DEBUG] Classification result: safe, Ground truth: safe\u001B[0m\n"
      ],
      "text/html": [
       "<pre style=\"white-space:pre;overflow-x:auto;line-height:normal;font-family:Menlo,'DejaVu Sans Mono',consolas,'Courier New',monospace\"><span style=\"color: #7f7f7f; text-decoration-color: #7f7f7f\">[DEBUG] Classification result: safe, Ground truth: safe</span>\n",
       "</pre>\n"
      ]
     },
     "metadata": {},
     "output_type": "display_data"
    },
    {
     "data": {
      "text/plain": [
       "\u001B[2m[DEBUG] Collecting predictions from directory: \u001B[0m\n",
       "\u001B[2m../log/contracts_analysis_both_20250225_104133/safe/0x0a4d2fb8189bb7dbcc2e566e8e1fbbff637cb390\u001B[0m\n"
      ],
      "text/html": [
       "<pre style=\"white-space:pre;overflow-x:auto;line-height:normal;font-family:Menlo,'DejaVu Sans Mono',consolas,'Courier New',monospace\"><span style=\"color: #7f7f7f; text-decoration-color: #7f7f7f\">[DEBUG] Collecting predictions from directory: </span>\n",
       "<span style=\"color: #7f7f7f; text-decoration-color: #7f7f7f\">../log/contracts_analysis_both_20250225_104133/safe/0x0a4d2fb8189bb7dbcc2e566e8e1fbbff637cb390</span>\n",
       "</pre>\n"
      ]
     },
     "metadata": {},
     "output_type": "display_data"
    },
    {
     "data": {
      "text/plain": [
       "\u001B[2m[DEBUG] Loading JSON file: \u001B[0m\n",
       "\u001B[2m../log/contracts_analysis_both_20250225_104133/safe/0x0a4d2fb8189bb7dbcc2e566e8e1fbbff637cb390/analysis_0x0aa19b3e5\u001B[0m\n",
       "\u001B[2m1dd77e482690263c8af26bec2c6542e.json\u001B[0m\n"
      ],
      "text/html": [
       "<pre style=\"white-space:pre;overflow-x:auto;line-height:normal;font-family:Menlo,'DejaVu Sans Mono',consolas,'Courier New',monospace\"><span style=\"color: #7f7f7f; text-decoration-color: #7f7f7f\">[DEBUG] Loading JSON file: </span>\n",
       "<span style=\"color: #7f7f7f; text-decoration-color: #7f7f7f\">../log/contracts_analysis_both_20250225_104133/safe/0x0a4d2fb8189bb7dbcc2e566e8e1fbbff637cb390/analysis_0x0aa19b3e5</span>\n",
       "<span style=\"color: #7f7f7f; text-decoration-color: #7f7f7f\">1dd77e482690263c8af26bec2c6542e.json</span>\n",
       "</pre>\n"
      ]
     },
     "metadata": {},
     "output_type": "display_data"
    },
    {
     "data": {
      "text/plain": [
       "\u001B[2m[DEBUG] Loading JSON file: \u001B[0m\n",
       "\u001B[2m../log/contracts_analysis_both_20250225_104133/safe/0x0a4d2fb8189bb7dbcc2e566e8e1fbbff637cb390/analysis_0x0aab3ac44\u001B[0m\n",
       "\u001B[2m7ea90739bdbe4e0e00af0a54038904a.json\u001B[0m\n"
      ],
      "text/html": [
       "<pre style=\"white-space:pre;overflow-x:auto;line-height:normal;font-family:Menlo,'DejaVu Sans Mono',consolas,'Courier New',monospace\"><span style=\"color: #7f7f7f; text-decoration-color: #7f7f7f\">[DEBUG] Loading JSON file: </span>\n",
       "<span style=\"color: #7f7f7f; text-decoration-color: #7f7f7f\">../log/contracts_analysis_both_20250225_104133/safe/0x0a4d2fb8189bb7dbcc2e566e8e1fbbff637cb390/analysis_0x0aab3ac44</span>\n",
       "<span style=\"color: #7f7f7f; text-decoration-color: #7f7f7f\">7ea90739bdbe4e0e00af0a54038904a.json</span>\n",
       "</pre>\n"
      ]
     },
     "metadata": {},
     "output_type": "display_data"
    },
    {
     "data": {
      "text/plain": [
       "\u001B[2m[DEBUG] Loading JSON file: \u001B[0m\n",
       "\u001B[2m../log/contracts_analysis_both_20250225_104133/safe/0x0a4d2fb8189bb7dbcc2e566e8e1fbbff637cb390/analysis_0x0a8c3b7e1\u001B[0m\n",
       "\u001B[2m49891ff594e3ad580f8e1769151a07b.json\u001B[0m\n"
      ],
      "text/html": [
       "<pre style=\"white-space:pre;overflow-x:auto;line-height:normal;font-family:Menlo,'DejaVu Sans Mono',consolas,'Courier New',monospace\"><span style=\"color: #7f7f7f; text-decoration-color: #7f7f7f\">[DEBUG] Loading JSON file: </span>\n",
       "<span style=\"color: #7f7f7f; text-decoration-color: #7f7f7f\">../log/contracts_analysis_both_20250225_104133/safe/0x0a4d2fb8189bb7dbcc2e566e8e1fbbff637cb390/analysis_0x0a8c3b7e1</span>\n",
       "<span style=\"color: #7f7f7f; text-decoration-color: #7f7f7f\">49891ff594e3ad580f8e1769151a07b.json</span>\n",
       "</pre>\n"
      ]
     },
     "metadata": {},
     "output_type": "display_data"
    },
    {
     "data": {
      "text/plain": [
       "\u001B[2m[DEBUG] Collected predictions: ['safe', 'safe', 'safe']\u001B[0m\n"
      ],
      "text/html": [
       "<pre style=\"white-space:pre;overflow-x:auto;line-height:normal;font-family:Menlo,'DejaVu Sans Mono',consolas,'Courier New',monospace\"><span style=\"color: #7f7f7f; text-decoration-color: #7f7f7f\">[DEBUG] Collected predictions: ['safe', 'safe', 'safe']</span>\n",
       "</pre>\n"
      ]
     },
     "metadata": {},
     "output_type": "display_data"
    },
    {
     "data": {
      "text/plain": [
       "\u001B[2m[DEBUG] Determined ground truth for \u001B[0m\n",
       "\u001B[2m../log/contracts_analysis_both_20250225_104133/safe/0x0a3ec7050884f00b5d9b11131de59dced0fafedb: safe\u001B[0m\n"
      ],
      "text/html": [
       "<pre style=\"white-space:pre;overflow-x:auto;line-height:normal;font-family:Menlo,'DejaVu Sans Mono',consolas,'Courier New',monospace\"><span style=\"color: #7f7f7f; text-decoration-color: #7f7f7f\">[DEBUG] Determined ground truth for </span>\n",
       "<span style=\"color: #7f7f7f; text-decoration-color: #7f7f7f\">../log/contracts_analysis_both_20250225_104133/safe/0x0a3ec7050884f00b5d9b11131de59dced0fafedb: safe</span>\n",
       "</pre>\n"
      ]
     },
     "metadata": {},
     "output_type": "display_data"
    },
    {
     "data": {
      "text/plain": [
       "\u001B[2m[DEBUG] Processing classification file: \u001B[0m\n",
       "\u001B[2m../log/contracts_analysis_both_20250225_104133/safe/0x0a3ec7050884f00b5d9b11131de59dced0fafedb/classification.json\u001B[0m\n"
      ],
      "text/html": [
       "<pre style=\"white-space:pre;overflow-x:auto;line-height:normal;font-family:Menlo,'DejaVu Sans Mono',consolas,'Courier New',monospace\"><span style=\"color: #7f7f7f; text-decoration-color: #7f7f7f\">[DEBUG] Processing classification file: </span>\n",
       "<span style=\"color: #7f7f7f; text-decoration-color: #7f7f7f\">../log/contracts_analysis_both_20250225_104133/safe/0x0a3ec7050884f00b5d9b11131de59dced0fafedb/classification.json</span>\n",
       "</pre>\n"
      ]
     },
     "metadata": {},
     "output_type": "display_data"
    },
    {
     "data": {
      "text/plain": [
       "\u001B[2m[DEBUG] Loading JSON file: \u001B[0m\n",
       "\u001B[2m../log/contracts_analysis_both_20250225_104133/safe/0x0a3ec7050884f00b5d9b11131de59dced0fafedb/classification.json\u001B[0m\n"
      ],
      "text/html": [
       "<pre style=\"white-space:pre;overflow-x:auto;line-height:normal;font-family:Menlo,'DejaVu Sans Mono',consolas,'Courier New',monospace\"><span style=\"color: #7f7f7f; text-decoration-color: #7f7f7f\">[DEBUG] Loading JSON file: </span>\n",
       "<span style=\"color: #7f7f7f; text-decoration-color: #7f7f7f\">../log/contracts_analysis_both_20250225_104133/safe/0x0a3ec7050884f00b5d9b11131de59dced0fafedb/classification.json</span>\n",
       "</pre>\n"
      ]
     },
     "metadata": {},
     "output_type": "display_data"
    },
    {
     "data": {
      "text/plain": [
       "\u001B[2m[DEBUG] Classification result: safe, Ground truth: safe\u001B[0m\n"
      ],
      "text/html": [
       "<pre style=\"white-space:pre;overflow-x:auto;line-height:normal;font-family:Menlo,'DejaVu Sans Mono',consolas,'Courier New',monospace\"><span style=\"color: #7f7f7f; text-decoration-color: #7f7f7f\">[DEBUG] Classification result: safe, Ground truth: safe</span>\n",
       "</pre>\n"
      ]
     },
     "metadata": {},
     "output_type": "display_data"
    },
    {
     "data": {
      "text/plain": [
       "\u001B[2m[DEBUG] Collecting predictions from directory: \u001B[0m\n",
       "\u001B[2m../log/contracts_analysis_both_20250225_104133/safe/0x0a3ec7050884f00b5d9b11131de59dced0fafedb\u001B[0m\n"
      ],
      "text/html": [
       "<pre style=\"white-space:pre;overflow-x:auto;line-height:normal;font-family:Menlo,'DejaVu Sans Mono',consolas,'Courier New',monospace\"><span style=\"color: #7f7f7f; text-decoration-color: #7f7f7f\">[DEBUG] Collecting predictions from directory: </span>\n",
       "<span style=\"color: #7f7f7f; text-decoration-color: #7f7f7f\">../log/contracts_analysis_both_20250225_104133/safe/0x0a3ec7050884f00b5d9b11131de59dced0fafedb</span>\n",
       "</pre>\n"
      ]
     },
     "metadata": {},
     "output_type": "display_data"
    },
    {
     "data": {
      "text/plain": [
       "\u001B[2m[DEBUG] Loading JSON file: \u001B[0m\n",
       "\u001B[2m../log/contracts_analysis_both_20250225_104133/safe/0x0a3ec7050884f00b5d9b11131de59dced0fafedb/analysis_0x0aa19b3e5\u001B[0m\n",
       "\u001B[2m1dd77e482690263c8af26bec2c6542e.json\u001B[0m\n"
      ],
      "text/html": [
       "<pre style=\"white-space:pre;overflow-x:auto;line-height:normal;font-family:Menlo,'DejaVu Sans Mono',consolas,'Courier New',monospace\"><span style=\"color: #7f7f7f; text-decoration-color: #7f7f7f\">[DEBUG] Loading JSON file: </span>\n",
       "<span style=\"color: #7f7f7f; text-decoration-color: #7f7f7f\">../log/contracts_analysis_both_20250225_104133/safe/0x0a3ec7050884f00b5d9b11131de59dced0fafedb/analysis_0x0aa19b3e5</span>\n",
       "<span style=\"color: #7f7f7f; text-decoration-color: #7f7f7f\">1dd77e482690263c8af26bec2c6542e.json</span>\n",
       "</pre>\n"
      ]
     },
     "metadata": {},
     "output_type": "display_data"
    },
    {
     "data": {
      "text/plain": [
       "\u001B[2m[DEBUG] Loading JSON file: \u001B[0m\n",
       "\u001B[2m../log/contracts_analysis_both_20250225_104133/safe/0x0a3ec7050884f00b5d9b11131de59dced0fafedb/analysis_0x0aab3ac44\u001B[0m\n",
       "\u001B[2m7ea90739bdbe4e0e00af0a54038904a.json\u001B[0m\n"
      ],
      "text/html": [
       "<pre style=\"white-space:pre;overflow-x:auto;line-height:normal;font-family:Menlo,'DejaVu Sans Mono',consolas,'Courier New',monospace\"><span style=\"color: #7f7f7f; text-decoration-color: #7f7f7f\">[DEBUG] Loading JSON file: </span>\n",
       "<span style=\"color: #7f7f7f; text-decoration-color: #7f7f7f\">../log/contracts_analysis_both_20250225_104133/safe/0x0a3ec7050884f00b5d9b11131de59dced0fafedb/analysis_0x0aab3ac44</span>\n",
       "<span style=\"color: #7f7f7f; text-decoration-color: #7f7f7f\">7ea90739bdbe4e0e00af0a54038904a.json</span>\n",
       "</pre>\n"
      ]
     },
     "metadata": {},
     "output_type": "display_data"
    },
    {
     "data": {
      "text/plain": [
       "\u001B[2m[DEBUG] Loading JSON file: \u001B[0m\n",
       "\u001B[2m../log/contracts_analysis_both_20250225_104133/safe/0x0a3ec7050884f00b5d9b11131de59dced0fafedb/analysis_0x0a8c3b7e1\u001B[0m\n",
       "\u001B[2m49891ff594e3ad580f8e1769151a07b.json\u001B[0m\n"
      ],
      "text/html": [
       "<pre style=\"white-space:pre;overflow-x:auto;line-height:normal;font-family:Menlo,'DejaVu Sans Mono',consolas,'Courier New',monospace\"><span style=\"color: #7f7f7f; text-decoration-color: #7f7f7f\">[DEBUG] Loading JSON file: </span>\n",
       "<span style=\"color: #7f7f7f; text-decoration-color: #7f7f7f\">../log/contracts_analysis_both_20250225_104133/safe/0x0a3ec7050884f00b5d9b11131de59dced0fafedb/analysis_0x0a8c3b7e1</span>\n",
       "<span style=\"color: #7f7f7f; text-decoration-color: #7f7f7f\">49891ff594e3ad580f8e1769151a07b.json</span>\n",
       "</pre>\n"
      ]
     },
     "metadata": {},
     "output_type": "display_data"
    },
    {
     "data": {
      "text/plain": [
       "\u001B[2m[DEBUG] Collected predictions: ['safe', 'safe', 'safe']\u001B[0m\n"
      ],
      "text/html": [
       "<pre style=\"white-space:pre;overflow-x:auto;line-height:normal;font-family:Menlo,'DejaVu Sans Mono',consolas,'Courier New',monospace\"><span style=\"color: #7f7f7f; text-decoration-color: #7f7f7f\">[DEBUG] Collected predictions: ['safe', 'safe', 'safe']</span>\n",
       "</pre>\n"
      ]
     },
     "metadata": {},
     "output_type": "display_data"
    },
    {
     "name": "stderr",
     "output_type": "stream",
     "text": [
      "Processing contracts:  52%|█████▏    | 50/96 [00:01<00:00, 56.91it/s]"
     ]
    },
    {
     "data": {
      "text/plain": [
       "\u001B[2m[DEBUG] Determined ground truth for \u001B[0m\n",
       "\u001B[2m../log/contracts_analysis_both_20250225_104133/safe/0x0a1d2ff7156a48131553cf381f220bbedb4efa37: safe\u001B[0m\n"
      ],
      "text/html": [
       "<pre style=\"white-space:pre;overflow-x:auto;line-height:normal;font-family:Menlo,'DejaVu Sans Mono',consolas,'Courier New',monospace\"><span style=\"color: #7f7f7f; text-decoration-color: #7f7f7f\">[DEBUG] Determined ground truth for </span>\n",
       "<span style=\"color: #7f7f7f; text-decoration-color: #7f7f7f\">../log/contracts_analysis_both_20250225_104133/safe/0x0a1d2ff7156a48131553cf381f220bbedb4efa37: safe</span>\n",
       "</pre>\n"
      ]
     },
     "metadata": {},
     "output_type": "display_data"
    },
    {
     "data": {
      "text/plain": [
       "\u001B[2m[DEBUG] Processing classification file: \u001B[0m\n",
       "\u001B[2m../log/contracts_analysis_both_20250225_104133/safe/0x0a1d2ff7156a48131553cf381f220bbedb4efa37/classification.json\u001B[0m\n"
      ],
      "text/html": [
       "<pre style=\"white-space:pre;overflow-x:auto;line-height:normal;font-family:Menlo,'DejaVu Sans Mono',consolas,'Courier New',monospace\"><span style=\"color: #7f7f7f; text-decoration-color: #7f7f7f\">[DEBUG] Processing classification file: </span>\n",
       "<span style=\"color: #7f7f7f; text-decoration-color: #7f7f7f\">../log/contracts_analysis_both_20250225_104133/safe/0x0a1d2ff7156a48131553cf381f220bbedb4efa37/classification.json</span>\n",
       "</pre>\n"
      ]
     },
     "metadata": {},
     "output_type": "display_data"
    },
    {
     "data": {
      "text/plain": [
       "\u001B[2m[DEBUG] Loading JSON file: \u001B[0m\n",
       "\u001B[2m../log/contracts_analysis_both_20250225_104133/safe/0x0a1d2ff7156a48131553cf381f220bbedb4efa37/classification.json\u001B[0m\n"
      ],
      "text/html": [
       "<pre style=\"white-space:pre;overflow-x:auto;line-height:normal;font-family:Menlo,'DejaVu Sans Mono',consolas,'Courier New',monospace\"><span style=\"color: #7f7f7f; text-decoration-color: #7f7f7f\">[DEBUG] Loading JSON file: </span>\n",
       "<span style=\"color: #7f7f7f; text-decoration-color: #7f7f7f\">../log/contracts_analysis_both_20250225_104133/safe/0x0a1d2ff7156a48131553cf381f220bbedb4efa37/classification.json</span>\n",
       "</pre>\n"
      ]
     },
     "metadata": {},
     "output_type": "display_data"
    },
    {
     "data": {
      "text/plain": [
       "\u001B[2m[DEBUG] Classification result: safe, Ground truth: safe\u001B[0m\n"
      ],
      "text/html": [
       "<pre style=\"white-space:pre;overflow-x:auto;line-height:normal;font-family:Menlo,'DejaVu Sans Mono',consolas,'Courier New',monospace\"><span style=\"color: #7f7f7f; text-decoration-color: #7f7f7f\">[DEBUG] Classification result: safe, Ground truth: safe</span>\n",
       "</pre>\n"
      ]
     },
     "metadata": {},
     "output_type": "display_data"
    },
    {
     "data": {
      "text/plain": [
       "\u001B[2m[DEBUG] Collecting predictions from directory: \u001B[0m\n",
       "\u001B[2m../log/contracts_analysis_both_20250225_104133/safe/0x0a1d2ff7156a48131553cf381f220bbedb4efa37\u001B[0m\n"
      ],
      "text/html": [
       "<pre style=\"white-space:pre;overflow-x:auto;line-height:normal;font-family:Menlo,'DejaVu Sans Mono',consolas,'Courier New',monospace\"><span style=\"color: #7f7f7f; text-decoration-color: #7f7f7f\">[DEBUG] Collecting predictions from directory: </span>\n",
       "<span style=\"color: #7f7f7f; text-decoration-color: #7f7f7f\">../log/contracts_analysis_both_20250225_104133/safe/0x0a1d2ff7156a48131553cf381f220bbedb4efa37</span>\n",
       "</pre>\n"
      ]
     },
     "metadata": {},
     "output_type": "display_data"
    },
    {
     "data": {
      "text/plain": [
       "\u001B[2m[DEBUG] Loading JSON file: \u001B[0m\n",
       "\u001B[2m../log/contracts_analysis_both_20250225_104133/safe/0x0a1d2ff7156a48131553cf381f220bbedb4efa37/analysis_0x0aa19b3e5\u001B[0m\n",
       "\u001B[2m1dd77e482690263c8af26bec2c6542e.json\u001B[0m\n"
      ],
      "text/html": [
       "<pre style=\"white-space:pre;overflow-x:auto;line-height:normal;font-family:Menlo,'DejaVu Sans Mono',consolas,'Courier New',monospace\"><span style=\"color: #7f7f7f; text-decoration-color: #7f7f7f\">[DEBUG] Loading JSON file: </span>\n",
       "<span style=\"color: #7f7f7f; text-decoration-color: #7f7f7f\">../log/contracts_analysis_both_20250225_104133/safe/0x0a1d2ff7156a48131553cf381f220bbedb4efa37/analysis_0x0aa19b3e5</span>\n",
       "<span style=\"color: #7f7f7f; text-decoration-color: #7f7f7f\">1dd77e482690263c8af26bec2c6542e.json</span>\n",
       "</pre>\n"
      ]
     },
     "metadata": {},
     "output_type": "display_data"
    },
    {
     "data": {
      "text/plain": [
       "\u001B[2m[DEBUG] Loading JSON file: \u001B[0m\n",
       "\u001B[2m../log/contracts_analysis_both_20250225_104133/safe/0x0a1d2ff7156a48131553cf381f220bbedb4efa37/analysis_0x0aab3ac44\u001B[0m\n",
       "\u001B[2m7ea90739bdbe4e0e00af0a54038904a.json\u001B[0m\n"
      ],
      "text/html": [
       "<pre style=\"white-space:pre;overflow-x:auto;line-height:normal;font-family:Menlo,'DejaVu Sans Mono',consolas,'Courier New',monospace\"><span style=\"color: #7f7f7f; text-decoration-color: #7f7f7f\">[DEBUG] Loading JSON file: </span>\n",
       "<span style=\"color: #7f7f7f; text-decoration-color: #7f7f7f\">../log/contracts_analysis_both_20250225_104133/safe/0x0a1d2ff7156a48131553cf381f220bbedb4efa37/analysis_0x0aab3ac44</span>\n",
       "<span style=\"color: #7f7f7f; text-decoration-color: #7f7f7f\">7ea90739bdbe4e0e00af0a54038904a.json</span>\n",
       "</pre>\n"
      ]
     },
     "metadata": {},
     "output_type": "display_data"
    },
    {
     "data": {
      "text/plain": [
       "\u001B[2m[DEBUG] Loading JSON file: \u001B[0m\n",
       "\u001B[2m../log/contracts_analysis_both_20250225_104133/safe/0x0a1d2ff7156a48131553cf381f220bbedb4efa37/analysis_0x0a8c3b7e1\u001B[0m\n",
       "\u001B[2m49891ff594e3ad580f8e1769151a07b.json\u001B[0m\n"
      ],
      "text/html": [
       "<pre style=\"white-space:pre;overflow-x:auto;line-height:normal;font-family:Menlo,'DejaVu Sans Mono',consolas,'Courier New',monospace\"><span style=\"color: #7f7f7f; text-decoration-color: #7f7f7f\">[DEBUG] Loading JSON file: </span>\n",
       "<span style=\"color: #7f7f7f; text-decoration-color: #7f7f7f\">../log/contracts_analysis_both_20250225_104133/safe/0x0a1d2ff7156a48131553cf381f220bbedb4efa37/analysis_0x0a8c3b7e1</span>\n",
       "<span style=\"color: #7f7f7f; text-decoration-color: #7f7f7f\">49891ff594e3ad580f8e1769151a07b.json</span>\n",
       "</pre>\n"
      ]
     },
     "metadata": {},
     "output_type": "display_data"
    },
    {
     "data": {
      "text/plain": [
       "\u001B[2m[DEBUG] Collected predictions: ['safe', 'safe', 'safe']\u001B[0m\n"
      ],
      "text/html": [
       "<pre style=\"white-space:pre;overflow-x:auto;line-height:normal;font-family:Menlo,'DejaVu Sans Mono',consolas,'Courier New',monospace\"><span style=\"color: #7f7f7f; text-decoration-color: #7f7f7f\">[DEBUG] Collected predictions: ['safe', 'safe', 'safe']</span>\n",
       "</pre>\n"
      ]
     },
     "metadata": {},
     "output_type": "display_data"
    },
    {
     "data": {
      "text/plain": [
       "\u001B[2m[DEBUG] Determined ground truth for ../log/contracts_analysis_both_20250225_104133/reentrant: reentrant\u001B[0m\n"
      ],
      "text/html": [
       "<pre style=\"white-space:pre;overflow-x:auto;line-height:normal;font-family:Menlo,'DejaVu Sans Mono',consolas,'Courier New',monospace\"><span style=\"color: #7f7f7f; text-decoration-color: #7f7f7f\">[DEBUG] Determined ground truth for ../log/contracts_analysis_both_20250225_104133/reentrant: reentrant</span>\n",
       "</pre>\n"
      ]
     },
     "metadata": {},
     "output_type": "display_data"
    },
    {
     "data": {
      "text/plain": [
       "\u001B[2m[DEBUG] Determined ground truth for \u001B[0m\n",
       "\u001B[2m../log/contracts_analysis_both_20250225_104133/reentrant/0x0eb68f34efa0086e4136bca51fc4d0696580643e: reentrant\u001B[0m\n"
      ],
      "text/html": [
       "<pre style=\"white-space:pre;overflow-x:auto;line-height:normal;font-family:Menlo,'DejaVu Sans Mono',consolas,'Courier New',monospace\"><span style=\"color: #7f7f7f; text-decoration-color: #7f7f7f\">[DEBUG] Determined ground truth for </span>\n",
       "<span style=\"color: #7f7f7f; text-decoration-color: #7f7f7f\">../log/contracts_analysis_both_20250225_104133/reentrant/0x0eb68f34efa0086e4136bca51fc4d0696580643e: reentrant</span>\n",
       "</pre>\n"
      ]
     },
     "metadata": {},
     "output_type": "display_data"
    },
    {
     "data": {
      "text/plain": [
       "\u001B[2m[DEBUG] Processing classification file: \u001B[0m\n",
       "\u001B[2m../log/contracts_analysis_both_20250225_104133/reentrant/0x0eb68f34efa0086e4136bca51fc4d0696580643e/classification.\u001B[0m\n",
       "\u001B[2mjson\u001B[0m\n"
      ],
      "text/html": [
       "<pre style=\"white-space:pre;overflow-x:auto;line-height:normal;font-family:Menlo,'DejaVu Sans Mono',consolas,'Courier New',monospace\"><span style=\"color: #7f7f7f; text-decoration-color: #7f7f7f\">[DEBUG] Processing classification file: </span>\n",
       "<span style=\"color: #7f7f7f; text-decoration-color: #7f7f7f\">../log/contracts_analysis_both_20250225_104133/reentrant/0x0eb68f34efa0086e4136bca51fc4d0696580643e/classification.</span>\n",
       "<span style=\"color: #7f7f7f; text-decoration-color: #7f7f7f\">json</span>\n",
       "</pre>\n"
      ]
     },
     "metadata": {},
     "output_type": "display_data"
    },
    {
     "data": {
      "text/plain": [
       "\u001B[2m[DEBUG] Loading JSON file: \u001B[0m\n",
       "\u001B[2m../log/contracts_analysis_both_20250225_104133/reentrant/0x0eb68f34efa0086e4136bca51fc4d0696580643e/classification.\u001B[0m\n",
       "\u001B[2mjson\u001B[0m\n"
      ],
      "text/html": [
       "<pre style=\"white-space:pre;overflow-x:auto;line-height:normal;font-family:Menlo,'DejaVu Sans Mono',consolas,'Courier New',monospace\"><span style=\"color: #7f7f7f; text-decoration-color: #7f7f7f\">[DEBUG] Loading JSON file: </span>\n",
       "<span style=\"color: #7f7f7f; text-decoration-color: #7f7f7f\">../log/contracts_analysis_both_20250225_104133/reentrant/0x0eb68f34efa0086e4136bca51fc4d0696580643e/classification.</span>\n",
       "<span style=\"color: #7f7f7f; text-decoration-color: #7f7f7f\">json</span>\n",
       "</pre>\n"
      ]
     },
     "metadata": {},
     "output_type": "display_data"
    },
    {
     "data": {
      "text/plain": [
       "\u001B[2m[DEBUG] Classification result: safe, Ground truth: reentrant\u001B[0m\n"
      ],
      "text/html": [
       "<pre style=\"white-space:pre;overflow-x:auto;line-height:normal;font-family:Menlo,'DejaVu Sans Mono',consolas,'Courier New',monospace\"><span style=\"color: #7f7f7f; text-decoration-color: #7f7f7f\">[DEBUG] Classification result: safe, Ground truth: reentrant</span>\n",
       "</pre>\n"
      ]
     },
     "metadata": {},
     "output_type": "display_data"
    },
    {
     "data": {
      "text/plain": [
       "\u001B[2m[DEBUG] Collecting predictions from directory: \u001B[0m\n",
       "\u001B[2m../log/contracts_analysis_both_20250225_104133/reentrant/0x0eb68f34efa0086e4136bca51fc4d0696580643e\u001B[0m\n"
      ],
      "text/html": [
       "<pre style=\"white-space:pre;overflow-x:auto;line-height:normal;font-family:Menlo,'DejaVu Sans Mono',consolas,'Courier New',monospace\"><span style=\"color: #7f7f7f; text-decoration-color: #7f7f7f\">[DEBUG] Collecting predictions from directory: </span>\n",
       "<span style=\"color: #7f7f7f; text-decoration-color: #7f7f7f\">../log/contracts_analysis_both_20250225_104133/reentrant/0x0eb68f34efa0086e4136bca51fc4d0696580643e</span>\n",
       "</pre>\n"
      ]
     },
     "metadata": {},
     "output_type": "display_data"
    },
    {
     "data": {
      "text/plain": [
       "\u001B[2m[DEBUG] Loading JSON file: \u001B[0m\n",
       "\u001B[2m../log/contracts_analysis_both_20250225_104133/reentrant/0x0eb68f34efa0086e4136bca51fc4d0696580643e/analysis_0x0aa1\u001B[0m\n",
       "\u001B[2m9b3e51dd77e482690263c8af26bec2c6542e.json\u001B[0m\n"
      ],
      "text/html": [
       "<pre style=\"white-space:pre;overflow-x:auto;line-height:normal;font-family:Menlo,'DejaVu Sans Mono',consolas,'Courier New',monospace\"><span style=\"color: #7f7f7f; text-decoration-color: #7f7f7f\">[DEBUG] Loading JSON file: </span>\n",
       "<span style=\"color: #7f7f7f; text-decoration-color: #7f7f7f\">../log/contracts_analysis_both_20250225_104133/reentrant/0x0eb68f34efa0086e4136bca51fc4d0696580643e/analysis_0x0aa1</span>\n",
       "<span style=\"color: #7f7f7f; text-decoration-color: #7f7f7f\">9b3e51dd77e482690263c8af26bec2c6542e.json</span>\n",
       "</pre>\n"
      ]
     },
     "metadata": {},
     "output_type": "display_data"
    },
    {
     "data": {
      "text/plain": [
       "\u001B[2m[DEBUG] Loading JSON file: \u001B[0m\n",
       "\u001B[2m../log/contracts_analysis_both_20250225_104133/reentrant/0x0eb68f34efa0086e4136bca51fc4d0696580643e/analysis_0x0aab\u001B[0m\n",
       "\u001B[2m3ac447ea90739bdbe4e0e00af0a54038904a.json\u001B[0m\n"
      ],
      "text/html": [
       "<pre style=\"white-space:pre;overflow-x:auto;line-height:normal;font-family:Menlo,'DejaVu Sans Mono',consolas,'Courier New',monospace\"><span style=\"color: #7f7f7f; text-decoration-color: #7f7f7f\">[DEBUG] Loading JSON file: </span>\n",
       "<span style=\"color: #7f7f7f; text-decoration-color: #7f7f7f\">../log/contracts_analysis_both_20250225_104133/reentrant/0x0eb68f34efa0086e4136bca51fc4d0696580643e/analysis_0x0aab</span>\n",
       "<span style=\"color: #7f7f7f; text-decoration-color: #7f7f7f\">3ac447ea90739bdbe4e0e00af0a54038904a.json</span>\n",
       "</pre>\n"
      ]
     },
     "metadata": {},
     "output_type": "display_data"
    },
    {
     "data": {
      "text/plain": [
       "\u001B[2m[DEBUG] Loading JSON file: \u001B[0m\n",
       "\u001B[2m../log/contracts_analysis_both_20250225_104133/reentrant/0x0eb68f34efa0086e4136bca51fc4d0696580643e/analysis_0x0a8c\u001B[0m\n",
       "\u001B[2m3b7e149891ff594e3ad580f8e1769151a07b.json\u001B[0m\n"
      ],
      "text/html": [
       "<pre style=\"white-space:pre;overflow-x:auto;line-height:normal;font-family:Menlo,'DejaVu Sans Mono',consolas,'Courier New',monospace\"><span style=\"color: #7f7f7f; text-decoration-color: #7f7f7f\">[DEBUG] Loading JSON file: </span>\n",
       "<span style=\"color: #7f7f7f; text-decoration-color: #7f7f7f\">../log/contracts_analysis_both_20250225_104133/reentrant/0x0eb68f34efa0086e4136bca51fc4d0696580643e/analysis_0x0a8c</span>\n",
       "<span style=\"color: #7f7f7f; text-decoration-color: #7f7f7f\">3b7e149891ff594e3ad580f8e1769151a07b.json</span>\n",
       "</pre>\n"
      ]
     },
     "metadata": {},
     "output_type": "display_data"
    },
    {
     "data": {
      "text/plain": [
       "\u001B[2m[DEBUG] Collected predictions: ['reentrant', 'reentrant', 'reentrant']\u001B[0m\n"
      ],
      "text/html": [
       "<pre style=\"white-space:pre;overflow-x:auto;line-height:normal;font-family:Menlo,'DejaVu Sans Mono',consolas,'Courier New',monospace\"><span style=\"color: #7f7f7f; text-decoration-color: #7f7f7f\">[DEBUG] Collected predictions: ['reentrant', 'reentrant', 'reentrant']</span>\n",
       "</pre>\n"
      ]
     },
     "metadata": {},
     "output_type": "display_data"
    },
    {
     "data": {
      "text/plain": [
       "\u001B[2m[DEBUG] Determined ground truth for \u001B[0m\n",
       "\u001B[2m../log/contracts_analysis_both_20250225_104133/reentrant/0x93c32845fae42c83a70e5f06214c8433665c2ab5: reentrant\u001B[0m\n"
      ],
      "text/html": [
       "<pre style=\"white-space:pre;overflow-x:auto;line-height:normal;font-family:Menlo,'DejaVu Sans Mono',consolas,'Courier New',monospace\"><span style=\"color: #7f7f7f; text-decoration-color: #7f7f7f\">[DEBUG] Determined ground truth for </span>\n",
       "<span style=\"color: #7f7f7f; text-decoration-color: #7f7f7f\">../log/contracts_analysis_both_20250225_104133/reentrant/0x93c32845fae42c83a70e5f06214c8433665c2ab5: reentrant</span>\n",
       "</pre>\n"
      ]
     },
     "metadata": {},
     "output_type": "display_data"
    },
    {
     "data": {
      "text/plain": [
       "\u001B[2m[DEBUG] Processing classification file: \u001B[0m\n",
       "\u001B[2m../log/contracts_analysis_both_20250225_104133/reentrant/0x93c32845fae42c83a70e5f06214c8433665c2ab5/classification.\u001B[0m\n",
       "\u001B[2mjson\u001B[0m\n"
      ],
      "text/html": [
       "<pre style=\"white-space:pre;overflow-x:auto;line-height:normal;font-family:Menlo,'DejaVu Sans Mono',consolas,'Courier New',monospace\"><span style=\"color: #7f7f7f; text-decoration-color: #7f7f7f\">[DEBUG] Processing classification file: </span>\n",
       "<span style=\"color: #7f7f7f; text-decoration-color: #7f7f7f\">../log/contracts_analysis_both_20250225_104133/reentrant/0x93c32845fae42c83a70e5f06214c8433665c2ab5/classification.</span>\n",
       "<span style=\"color: #7f7f7f; text-decoration-color: #7f7f7f\">json</span>\n",
       "</pre>\n"
      ]
     },
     "metadata": {},
     "output_type": "display_data"
    },
    {
     "data": {
      "text/plain": [
       "\u001B[2m[DEBUG] Loading JSON file: \u001B[0m\n",
       "\u001B[2m../log/contracts_analysis_both_20250225_104133/reentrant/0x93c32845fae42c83a70e5f06214c8433665c2ab5/classification.\u001B[0m\n",
       "\u001B[2mjson\u001B[0m\n"
      ],
      "text/html": [
       "<pre style=\"white-space:pre;overflow-x:auto;line-height:normal;font-family:Menlo,'DejaVu Sans Mono',consolas,'Courier New',monospace\"><span style=\"color: #7f7f7f; text-decoration-color: #7f7f7f\">[DEBUG] Loading JSON file: </span>\n",
       "<span style=\"color: #7f7f7f; text-decoration-color: #7f7f7f\">../log/contracts_analysis_both_20250225_104133/reentrant/0x93c32845fae42c83a70e5f06214c8433665c2ab5/classification.</span>\n",
       "<span style=\"color: #7f7f7f; text-decoration-color: #7f7f7f\">json</span>\n",
       "</pre>\n"
      ]
     },
     "metadata": {},
     "output_type": "display_data"
    },
    {
     "data": {
      "text/plain": [
       "\u001B[2m[DEBUG] Classification result: reentrant, Ground truth: reentrant\u001B[0m\n"
      ],
      "text/html": [
       "<pre style=\"white-space:pre;overflow-x:auto;line-height:normal;font-family:Menlo,'DejaVu Sans Mono',consolas,'Courier New',monospace\"><span style=\"color: #7f7f7f; text-decoration-color: #7f7f7f\">[DEBUG] Classification result: reentrant, Ground truth: reentrant</span>\n",
       "</pre>\n"
      ]
     },
     "metadata": {},
     "output_type": "display_data"
    },
    {
     "data": {
      "text/plain": [
       "\u001B[2m[DEBUG] Collecting predictions from directory: \u001B[0m\n",
       "\u001B[2m../log/contracts_analysis_both_20250225_104133/reentrant/0x93c32845fae42c83a70e5f06214c8433665c2ab5\u001B[0m\n"
      ],
      "text/html": [
       "<pre style=\"white-space:pre;overflow-x:auto;line-height:normal;font-family:Menlo,'DejaVu Sans Mono',consolas,'Courier New',monospace\"><span style=\"color: #7f7f7f; text-decoration-color: #7f7f7f\">[DEBUG] Collecting predictions from directory: </span>\n",
       "<span style=\"color: #7f7f7f; text-decoration-color: #7f7f7f\">../log/contracts_analysis_both_20250225_104133/reentrant/0x93c32845fae42c83a70e5f06214c8433665c2ab5</span>\n",
       "</pre>\n"
      ]
     },
     "metadata": {},
     "output_type": "display_data"
    },
    {
     "data": {
      "text/plain": [
       "\u001B[2m[DEBUG] Loading JSON file: \u001B[0m\n",
       "\u001B[2m../log/contracts_analysis_both_20250225_104133/reentrant/0x93c32845fae42c83a70e5f06214c8433665c2ab5/analysis_0x0aa1\u001B[0m\n",
       "\u001B[2m9b3e51dd77e482690263c8af26bec2c6542e.json\u001B[0m\n"
      ],
      "text/html": [
       "<pre style=\"white-space:pre;overflow-x:auto;line-height:normal;font-family:Menlo,'DejaVu Sans Mono',consolas,'Courier New',monospace\"><span style=\"color: #7f7f7f; text-decoration-color: #7f7f7f\">[DEBUG] Loading JSON file: </span>\n",
       "<span style=\"color: #7f7f7f; text-decoration-color: #7f7f7f\">../log/contracts_analysis_both_20250225_104133/reentrant/0x93c32845fae42c83a70e5f06214c8433665c2ab5/analysis_0x0aa1</span>\n",
       "<span style=\"color: #7f7f7f; text-decoration-color: #7f7f7f\">9b3e51dd77e482690263c8af26bec2c6542e.json</span>\n",
       "</pre>\n"
      ]
     },
     "metadata": {},
     "output_type": "display_data"
    },
    {
     "data": {
      "text/plain": [
       "\u001B[2m[DEBUG] Loading JSON file: \u001B[0m\n",
       "\u001B[2m../log/contracts_analysis_both_20250225_104133/reentrant/0x93c32845fae42c83a70e5f06214c8433665c2ab5/analysis_0x0aab\u001B[0m\n",
       "\u001B[2m3ac447ea90739bdbe4e0e00af0a54038904a.json\u001B[0m\n"
      ],
      "text/html": [
       "<pre style=\"white-space:pre;overflow-x:auto;line-height:normal;font-family:Menlo,'DejaVu Sans Mono',consolas,'Courier New',monospace\"><span style=\"color: #7f7f7f; text-decoration-color: #7f7f7f\">[DEBUG] Loading JSON file: </span>\n",
       "<span style=\"color: #7f7f7f; text-decoration-color: #7f7f7f\">../log/contracts_analysis_both_20250225_104133/reentrant/0x93c32845fae42c83a70e5f06214c8433665c2ab5/analysis_0x0aab</span>\n",
       "<span style=\"color: #7f7f7f; text-decoration-color: #7f7f7f\">3ac447ea90739bdbe4e0e00af0a54038904a.json</span>\n",
       "</pre>\n"
      ]
     },
     "metadata": {},
     "output_type": "display_data"
    },
    {
     "data": {
      "text/plain": [
       "\u001B[2m[DEBUG] Loading JSON file: \u001B[0m\n",
       "\u001B[2m../log/contracts_analysis_both_20250225_104133/reentrant/0x93c32845fae42c83a70e5f06214c8433665c2ab5/analysis_0x0a8c\u001B[0m\n",
       "\u001B[2m3b7e149891ff594e3ad580f8e1769151a07b.json\u001B[0m\n"
      ],
      "text/html": [
       "<pre style=\"white-space:pre;overflow-x:auto;line-height:normal;font-family:Menlo,'DejaVu Sans Mono',consolas,'Courier New',monospace\"><span style=\"color: #7f7f7f; text-decoration-color: #7f7f7f\">[DEBUG] Loading JSON file: </span>\n",
       "<span style=\"color: #7f7f7f; text-decoration-color: #7f7f7f\">../log/contracts_analysis_both_20250225_104133/reentrant/0x93c32845fae42c83a70e5f06214c8433665c2ab5/analysis_0x0a8c</span>\n",
       "<span style=\"color: #7f7f7f; text-decoration-color: #7f7f7f\">3b7e149891ff594e3ad580f8e1769151a07b.json</span>\n",
       "</pre>\n"
      ]
     },
     "metadata": {},
     "output_type": "display_data"
    },
    {
     "data": {
      "text/plain": [
       "\u001B[2m[DEBUG] Collected predictions: ['reentrant', 'reentrant', 'reentrant']\u001B[0m\n"
      ],
      "text/html": [
       "<pre style=\"white-space:pre;overflow-x:auto;line-height:normal;font-family:Menlo,'DejaVu Sans Mono',consolas,'Courier New',monospace\"><span style=\"color: #7f7f7f; text-decoration-color: #7f7f7f\">[DEBUG] Collected predictions: ['reentrant', 'reentrant', 'reentrant']</span>\n",
       "</pre>\n"
      ]
     },
     "metadata": {},
     "output_type": "display_data"
    },
    {
     "data": {
      "text/plain": [
       "\u001B[2m[DEBUG] Determined ground truth for \u001B[0m\n",
       "\u001B[2m../log/contracts_analysis_both_20250225_104133/reentrant/0x7cb24a53b623c0bd5e70a73377ad78330bbe17ea_reentrancy: \u001B[0m\n",
       "\u001B[2mreentrant\u001B[0m\n"
      ],
      "text/html": [
       "<pre style=\"white-space:pre;overflow-x:auto;line-height:normal;font-family:Menlo,'DejaVu Sans Mono',consolas,'Courier New',monospace\"><span style=\"color: #7f7f7f; text-decoration-color: #7f7f7f\">[DEBUG] Determined ground truth for </span>\n",
       "<span style=\"color: #7f7f7f; text-decoration-color: #7f7f7f\">../log/contracts_analysis_both_20250225_104133/reentrant/0x7cb24a53b623c0bd5e70a73377ad78330bbe17ea_reentrancy: </span>\n",
       "<span style=\"color: #7f7f7f; text-decoration-color: #7f7f7f\">reentrant</span>\n",
       "</pre>\n"
      ]
     },
     "metadata": {},
     "output_type": "display_data"
    },
    {
     "data": {
      "text/plain": [
       "\u001B[2m[DEBUG] Processing classification file: \u001B[0m\n",
       "\u001B[2m../log/contracts_analysis_both_20250225_104133/reentrant/0x7cb24a53b623c0bd5e70a73377ad78330bbe17ea_reentrancy/clas\u001B[0m\n",
       "\u001B[2msification.json\u001B[0m\n"
      ],
      "text/html": [
       "<pre style=\"white-space:pre;overflow-x:auto;line-height:normal;font-family:Menlo,'DejaVu Sans Mono',consolas,'Courier New',monospace\"><span style=\"color: #7f7f7f; text-decoration-color: #7f7f7f\">[DEBUG] Processing classification file: </span>\n",
       "<span style=\"color: #7f7f7f; text-decoration-color: #7f7f7f\">../log/contracts_analysis_both_20250225_104133/reentrant/0x7cb24a53b623c0bd5e70a73377ad78330bbe17ea_reentrancy/clas</span>\n",
       "<span style=\"color: #7f7f7f; text-decoration-color: #7f7f7f\">sification.json</span>\n",
       "</pre>\n"
      ]
     },
     "metadata": {},
     "output_type": "display_data"
    },
    {
     "data": {
      "text/plain": [
       "\u001B[2m[DEBUG] Loading JSON file: \u001B[0m\n",
       "\u001B[2m../log/contracts_analysis_both_20250225_104133/reentrant/0x7cb24a53b623c0bd5e70a73377ad78330bbe17ea_reentrancy/clas\u001B[0m\n",
       "\u001B[2msification.json\u001B[0m\n"
      ],
      "text/html": [
       "<pre style=\"white-space:pre;overflow-x:auto;line-height:normal;font-family:Menlo,'DejaVu Sans Mono',consolas,'Courier New',monospace\"><span style=\"color: #7f7f7f; text-decoration-color: #7f7f7f\">[DEBUG] Loading JSON file: </span>\n",
       "<span style=\"color: #7f7f7f; text-decoration-color: #7f7f7f\">../log/contracts_analysis_both_20250225_104133/reentrant/0x7cb24a53b623c0bd5e70a73377ad78330bbe17ea_reentrancy/clas</span>\n",
       "<span style=\"color: #7f7f7f; text-decoration-color: #7f7f7f\">sification.json</span>\n",
       "</pre>\n"
      ]
     },
     "metadata": {},
     "output_type": "display_data"
    },
    {
     "data": {
      "text/plain": [
       "\u001B[2m[DEBUG] Classification result: safe, Ground truth: reentrant\u001B[0m\n"
      ],
      "text/html": [
       "<pre style=\"white-space:pre;overflow-x:auto;line-height:normal;font-family:Menlo,'DejaVu Sans Mono',consolas,'Courier New',monospace\"><span style=\"color: #7f7f7f; text-decoration-color: #7f7f7f\">[DEBUG] Classification result: safe, Ground truth: reentrant</span>\n",
       "</pre>\n"
      ]
     },
     "metadata": {},
     "output_type": "display_data"
    },
    {
     "data": {
      "text/plain": [
       "\u001B[2m[DEBUG] Collecting predictions from directory: \u001B[0m\n",
       "\u001B[2m../log/contracts_analysis_both_20250225_104133/reentrant/0x7cb24a53b623c0bd5e70a73377ad78330bbe17ea_reentrancy\u001B[0m\n"
      ],
      "text/html": [
       "<pre style=\"white-space:pre;overflow-x:auto;line-height:normal;font-family:Menlo,'DejaVu Sans Mono',consolas,'Courier New',monospace\"><span style=\"color: #7f7f7f; text-decoration-color: #7f7f7f\">[DEBUG] Collecting predictions from directory: </span>\n",
       "<span style=\"color: #7f7f7f; text-decoration-color: #7f7f7f\">../log/contracts_analysis_both_20250225_104133/reentrant/0x7cb24a53b623c0bd5e70a73377ad78330bbe17ea_reentrancy</span>\n",
       "</pre>\n"
      ]
     },
     "metadata": {},
     "output_type": "display_data"
    },
    {
     "data": {
      "text/plain": [
       "\u001B[2m[DEBUG] Loading JSON file: \u001B[0m\n",
       "\u001B[2m../log/contracts_analysis_both_20250225_104133/reentrant/0x7cb24a53b623c0bd5e70a73377ad78330bbe17ea_reentrancy/anal\u001B[0m\n",
       "\u001B[2mysis_0x0aa19b3e51dd77e482690263c8af26bec2c6542e.json\u001B[0m\n"
      ],
      "text/html": [
       "<pre style=\"white-space:pre;overflow-x:auto;line-height:normal;font-family:Menlo,'DejaVu Sans Mono',consolas,'Courier New',monospace\"><span style=\"color: #7f7f7f; text-decoration-color: #7f7f7f\">[DEBUG] Loading JSON file: </span>\n",
       "<span style=\"color: #7f7f7f; text-decoration-color: #7f7f7f\">../log/contracts_analysis_both_20250225_104133/reentrant/0x7cb24a53b623c0bd5e70a73377ad78330bbe17ea_reentrancy/anal</span>\n",
       "<span style=\"color: #7f7f7f; text-decoration-color: #7f7f7f\">ysis_0x0aa19b3e51dd77e482690263c8af26bec2c6542e.json</span>\n",
       "</pre>\n"
      ]
     },
     "metadata": {},
     "output_type": "display_data"
    },
    {
     "data": {
      "text/plain": [
       "\u001B[2m[DEBUG] Loading JSON file: \u001B[0m\n",
       "\u001B[2m../log/contracts_analysis_both_20250225_104133/reentrant/0x7cb24a53b623c0bd5e70a73377ad78330bbe17ea_reentrancy/anal\u001B[0m\n",
       "\u001B[2mysis_0x0aab3ac447ea90739bdbe4e0e00af0a54038904a.json\u001B[0m\n"
      ],
      "text/html": [
       "<pre style=\"white-space:pre;overflow-x:auto;line-height:normal;font-family:Menlo,'DejaVu Sans Mono',consolas,'Courier New',monospace\"><span style=\"color: #7f7f7f; text-decoration-color: #7f7f7f\">[DEBUG] Loading JSON file: </span>\n",
       "<span style=\"color: #7f7f7f; text-decoration-color: #7f7f7f\">../log/contracts_analysis_both_20250225_104133/reentrant/0x7cb24a53b623c0bd5e70a73377ad78330bbe17ea_reentrancy/anal</span>\n",
       "<span style=\"color: #7f7f7f; text-decoration-color: #7f7f7f\">ysis_0x0aab3ac447ea90739bdbe4e0e00af0a54038904a.json</span>\n",
       "</pre>\n"
      ]
     },
     "metadata": {},
     "output_type": "display_data"
    },
    {
     "data": {
      "text/plain": [
       "\u001B[2m[DEBUG] Loading JSON file: \u001B[0m\n",
       "\u001B[2m../log/contracts_analysis_both_20250225_104133/reentrant/0x7cb24a53b623c0bd5e70a73377ad78330bbe17ea_reentrancy/anal\u001B[0m\n",
       "\u001B[2mysis_0x0a8c3b7e149891ff594e3ad580f8e1769151a07b.json\u001B[0m\n"
      ],
      "text/html": [
       "<pre style=\"white-space:pre;overflow-x:auto;line-height:normal;font-family:Menlo,'DejaVu Sans Mono',consolas,'Courier New',monospace\"><span style=\"color: #7f7f7f; text-decoration-color: #7f7f7f\">[DEBUG] Loading JSON file: </span>\n",
       "<span style=\"color: #7f7f7f; text-decoration-color: #7f7f7f\">../log/contracts_analysis_both_20250225_104133/reentrant/0x7cb24a53b623c0bd5e70a73377ad78330bbe17ea_reentrancy/anal</span>\n",
       "<span style=\"color: #7f7f7f; text-decoration-color: #7f7f7f\">ysis_0x0a8c3b7e149891ff594e3ad580f8e1769151a07b.json</span>\n",
       "</pre>\n"
      ]
     },
     "metadata": {},
     "output_type": "display_data"
    },
    {
     "data": {
      "text/plain": [
       "\u001B[2m[DEBUG] Collected predictions: ['reentrant', 'reentrant', 'reentrant']\u001B[0m\n"
      ],
      "text/html": [
       "<pre style=\"white-space:pre;overflow-x:auto;line-height:normal;font-family:Menlo,'DejaVu Sans Mono',consolas,'Courier New',monospace\"><span style=\"color: #7f7f7f; text-decoration-color: #7f7f7f\">[DEBUG] Collected predictions: ['reentrant', 'reentrant', 'reentrant']</span>\n",
       "</pre>\n"
      ]
     },
     "metadata": {},
     "output_type": "display_data"
    },
    {
     "data": {
      "text/plain": [
       "\u001B[2m[DEBUG] Determined ground truth for \u001B[0m\n",
       "\u001B[2m../log/contracts_analysis_both_20250225_104133/reentrant/0xE56AD7dAaC1C4D809C42a047113177E7B43502A7_reentrancy: \u001B[0m\n",
       "\u001B[2mreentrant\u001B[0m\n"
      ],
      "text/html": [
       "<pre style=\"white-space:pre;overflow-x:auto;line-height:normal;font-family:Menlo,'DejaVu Sans Mono',consolas,'Courier New',monospace\"><span style=\"color: #7f7f7f; text-decoration-color: #7f7f7f\">[DEBUG] Determined ground truth for </span>\n",
       "<span style=\"color: #7f7f7f; text-decoration-color: #7f7f7f\">../log/contracts_analysis_both_20250225_104133/reentrant/0xE56AD7dAaC1C4D809C42a047113177E7B43502A7_reentrancy: </span>\n",
       "<span style=\"color: #7f7f7f; text-decoration-color: #7f7f7f\">reentrant</span>\n",
       "</pre>\n"
      ]
     },
     "metadata": {},
     "output_type": "display_data"
    },
    {
     "data": {
      "text/plain": [
       "\u001B[2m[DEBUG] Processing classification file: \u001B[0m\n",
       "\u001B[2m../log/contracts_analysis_both_20250225_104133/reentrant/0xE56AD7dAaC1C4D809C42a047113177E7B43502A7_reentrancy/clas\u001B[0m\n",
       "\u001B[2msification.json\u001B[0m\n"
      ],
      "text/html": [
       "<pre style=\"white-space:pre;overflow-x:auto;line-height:normal;font-family:Menlo,'DejaVu Sans Mono',consolas,'Courier New',monospace\"><span style=\"color: #7f7f7f; text-decoration-color: #7f7f7f\">[DEBUG] Processing classification file: </span>\n",
       "<span style=\"color: #7f7f7f; text-decoration-color: #7f7f7f\">../log/contracts_analysis_both_20250225_104133/reentrant/0xE56AD7dAaC1C4D809C42a047113177E7B43502A7_reentrancy/clas</span>\n",
       "<span style=\"color: #7f7f7f; text-decoration-color: #7f7f7f\">sification.json</span>\n",
       "</pre>\n"
      ]
     },
     "metadata": {},
     "output_type": "display_data"
    },
    {
     "data": {
      "text/plain": [
       "\u001B[2m[DEBUG] Loading JSON file: \u001B[0m\n",
       "\u001B[2m../log/contracts_analysis_both_20250225_104133/reentrant/0xE56AD7dAaC1C4D809C42a047113177E7B43502A7_reentrancy/clas\u001B[0m\n",
       "\u001B[2msification.json\u001B[0m\n"
      ],
      "text/html": [
       "<pre style=\"white-space:pre;overflow-x:auto;line-height:normal;font-family:Menlo,'DejaVu Sans Mono',consolas,'Courier New',monospace\"><span style=\"color: #7f7f7f; text-decoration-color: #7f7f7f\">[DEBUG] Loading JSON file: </span>\n",
       "<span style=\"color: #7f7f7f; text-decoration-color: #7f7f7f\">../log/contracts_analysis_both_20250225_104133/reentrant/0xE56AD7dAaC1C4D809C42a047113177E7B43502A7_reentrancy/clas</span>\n",
       "<span style=\"color: #7f7f7f; text-decoration-color: #7f7f7f\">sification.json</span>\n",
       "</pre>\n"
      ]
     },
     "metadata": {},
     "output_type": "display_data"
    },
    {
     "data": {
      "text/plain": [
       "\u001B[2m[DEBUG] Classification result: safe, Ground truth: reentrant\u001B[0m\n"
      ],
      "text/html": [
       "<pre style=\"white-space:pre;overflow-x:auto;line-height:normal;font-family:Menlo,'DejaVu Sans Mono',consolas,'Courier New',monospace\"><span style=\"color: #7f7f7f; text-decoration-color: #7f7f7f\">[DEBUG] Classification result: safe, Ground truth: reentrant</span>\n",
       "</pre>\n"
      ]
     },
     "metadata": {},
     "output_type": "display_data"
    },
    {
     "data": {
      "text/plain": [
       "\u001B[2m[DEBUG] Collecting predictions from directory: \u001B[0m\n",
       "\u001B[2m../log/contracts_analysis_both_20250225_104133/reentrant/0xE56AD7dAaC1C4D809C42a047113177E7B43502A7_reentrancy\u001B[0m\n"
      ],
      "text/html": [
       "<pre style=\"white-space:pre;overflow-x:auto;line-height:normal;font-family:Menlo,'DejaVu Sans Mono',consolas,'Courier New',monospace\"><span style=\"color: #7f7f7f; text-decoration-color: #7f7f7f\">[DEBUG] Collecting predictions from directory: </span>\n",
       "<span style=\"color: #7f7f7f; text-decoration-color: #7f7f7f\">../log/contracts_analysis_both_20250225_104133/reentrant/0xE56AD7dAaC1C4D809C42a047113177E7B43502A7_reentrancy</span>\n",
       "</pre>\n"
      ]
     },
     "metadata": {},
     "output_type": "display_data"
    },
    {
     "data": {
      "text/plain": [
       "\u001B[2m[DEBUG] Loading JSON file: \u001B[0m\n",
       "\u001B[2m../log/contracts_analysis_both_20250225_104133/reentrant/0xE56AD7dAaC1C4D809C42a047113177E7B43502A7_reentrancy/anal\u001B[0m\n",
       "\u001B[2mysis_0x0aa19b3e51dd77e482690263c8af26bec2c6542e.json\u001B[0m\n"
      ],
      "text/html": [
       "<pre style=\"white-space:pre;overflow-x:auto;line-height:normal;font-family:Menlo,'DejaVu Sans Mono',consolas,'Courier New',monospace\"><span style=\"color: #7f7f7f; text-decoration-color: #7f7f7f\">[DEBUG] Loading JSON file: </span>\n",
       "<span style=\"color: #7f7f7f; text-decoration-color: #7f7f7f\">../log/contracts_analysis_both_20250225_104133/reentrant/0xE56AD7dAaC1C4D809C42a047113177E7B43502A7_reentrancy/anal</span>\n",
       "<span style=\"color: #7f7f7f; text-decoration-color: #7f7f7f\">ysis_0x0aa19b3e51dd77e482690263c8af26bec2c6542e.json</span>\n",
       "</pre>\n"
      ]
     },
     "metadata": {},
     "output_type": "display_data"
    },
    {
     "data": {
      "text/plain": [
       "\u001B[2m[DEBUG] Loading JSON file: \u001B[0m\n",
       "\u001B[2m../log/contracts_analysis_both_20250225_104133/reentrant/0xE56AD7dAaC1C4D809C42a047113177E7B43502A7_reentrancy/anal\u001B[0m\n",
       "\u001B[2mysis_0x0aab3ac447ea90739bdbe4e0e00af0a54038904a.json\u001B[0m\n"
      ],
      "text/html": [
       "<pre style=\"white-space:pre;overflow-x:auto;line-height:normal;font-family:Menlo,'DejaVu Sans Mono',consolas,'Courier New',monospace\"><span style=\"color: #7f7f7f; text-decoration-color: #7f7f7f\">[DEBUG] Loading JSON file: </span>\n",
       "<span style=\"color: #7f7f7f; text-decoration-color: #7f7f7f\">../log/contracts_analysis_both_20250225_104133/reentrant/0xE56AD7dAaC1C4D809C42a047113177E7B43502A7_reentrancy/anal</span>\n",
       "<span style=\"color: #7f7f7f; text-decoration-color: #7f7f7f\">ysis_0x0aab3ac447ea90739bdbe4e0e00af0a54038904a.json</span>\n",
       "</pre>\n"
      ]
     },
     "metadata": {},
     "output_type": "display_data"
    },
    {
     "data": {
      "text/plain": [
       "\u001B[2m[DEBUG] Loading JSON file: \u001B[0m\n",
       "\u001B[2m../log/contracts_analysis_both_20250225_104133/reentrant/0xE56AD7dAaC1C4D809C42a047113177E7B43502A7_reentrancy/anal\u001B[0m\n",
       "\u001B[2mysis_0x0a8c3b7e149891ff594e3ad580f8e1769151a07b.json\u001B[0m\n"
      ],
      "text/html": [
       "<pre style=\"white-space:pre;overflow-x:auto;line-height:normal;font-family:Menlo,'DejaVu Sans Mono',consolas,'Courier New',monospace\"><span style=\"color: #7f7f7f; text-decoration-color: #7f7f7f\">[DEBUG] Loading JSON file: </span>\n",
       "<span style=\"color: #7f7f7f; text-decoration-color: #7f7f7f\">../log/contracts_analysis_both_20250225_104133/reentrant/0xE56AD7dAaC1C4D809C42a047113177E7B43502A7_reentrancy/anal</span>\n",
       "<span style=\"color: #7f7f7f; text-decoration-color: #7f7f7f\">ysis_0x0a8c3b7e149891ff594e3ad580f8e1769151a07b.json</span>\n",
       "</pre>\n"
      ]
     },
     "metadata": {},
     "output_type": "display_data"
    },
    {
     "data": {
      "text/plain": [
       "\u001B[2m[DEBUG] Collected predictions: ['reentrant', 'reentrant', 'reentrant']\u001B[0m\n"
      ],
      "text/html": [
       "<pre style=\"white-space:pre;overflow-x:auto;line-height:normal;font-family:Menlo,'DejaVu Sans Mono',consolas,'Courier New',monospace\"><span style=\"color: #7f7f7f; text-decoration-color: #7f7f7f\">[DEBUG] Collected predictions: ['reentrant', 'reentrant', 'reentrant']</span>\n",
       "</pre>\n"
      ]
     },
     "metadata": {},
     "output_type": "display_data"
    },
    {
     "data": {
      "text/plain": [
       "\u001B[2m[DEBUG] Determined ground truth for \u001B[0m\n",
       "\u001B[2m../log/contracts_analysis_both_20250225_104133/reentrant/0x33813c2f2aab62ac88c234858a1f08448424828f: reentrant\u001B[0m\n"
      ],
      "text/html": [
       "<pre style=\"white-space:pre;overflow-x:auto;line-height:normal;font-family:Menlo,'DejaVu Sans Mono',consolas,'Courier New',monospace\"><span style=\"color: #7f7f7f; text-decoration-color: #7f7f7f\">[DEBUG] Determined ground truth for </span>\n",
       "<span style=\"color: #7f7f7f; text-decoration-color: #7f7f7f\">../log/contracts_analysis_both_20250225_104133/reentrant/0x33813c2f2aab62ac88c234858a1f08448424828f: reentrant</span>\n",
       "</pre>\n"
      ]
     },
     "metadata": {},
     "output_type": "display_data"
    },
    {
     "data": {
      "text/plain": [
       "\u001B[2m[DEBUG] Processing classification file: \u001B[0m\n",
       "\u001B[2m../log/contracts_analysis_both_20250225_104133/reentrant/0x33813c2f2aab62ac88c234858a1f08448424828f/classification.\u001B[0m\n",
       "\u001B[2mjson\u001B[0m\n"
      ],
      "text/html": [
       "<pre style=\"white-space:pre;overflow-x:auto;line-height:normal;font-family:Menlo,'DejaVu Sans Mono',consolas,'Courier New',monospace\"><span style=\"color: #7f7f7f; text-decoration-color: #7f7f7f\">[DEBUG] Processing classification file: </span>\n",
       "<span style=\"color: #7f7f7f; text-decoration-color: #7f7f7f\">../log/contracts_analysis_both_20250225_104133/reentrant/0x33813c2f2aab62ac88c234858a1f08448424828f/classification.</span>\n",
       "<span style=\"color: #7f7f7f; text-decoration-color: #7f7f7f\">json</span>\n",
       "</pre>\n"
      ]
     },
     "metadata": {},
     "output_type": "display_data"
    },
    {
     "data": {
      "text/plain": [
       "\u001B[2m[DEBUG] Loading JSON file: \u001B[0m\n",
       "\u001B[2m../log/contracts_analysis_both_20250225_104133/reentrant/0x33813c2f2aab62ac88c234858a1f08448424828f/classification.\u001B[0m\n",
       "\u001B[2mjson\u001B[0m\n"
      ],
      "text/html": [
       "<pre style=\"white-space:pre;overflow-x:auto;line-height:normal;font-family:Menlo,'DejaVu Sans Mono',consolas,'Courier New',monospace\"><span style=\"color: #7f7f7f; text-decoration-color: #7f7f7f\">[DEBUG] Loading JSON file: </span>\n",
       "<span style=\"color: #7f7f7f; text-decoration-color: #7f7f7f\">../log/contracts_analysis_both_20250225_104133/reentrant/0x33813c2f2aab62ac88c234858a1f08448424828f/classification.</span>\n",
       "<span style=\"color: #7f7f7f; text-decoration-color: #7f7f7f\">json</span>\n",
       "</pre>\n"
      ]
     },
     "metadata": {},
     "output_type": "display_data"
    },
    {
     "data": {
      "text/plain": [
       "\u001B[2m[DEBUG] Classification result: reentrant, Ground truth: reentrant\u001B[0m\n"
      ],
      "text/html": [
       "<pre style=\"white-space:pre;overflow-x:auto;line-height:normal;font-family:Menlo,'DejaVu Sans Mono',consolas,'Courier New',monospace\"><span style=\"color: #7f7f7f; text-decoration-color: #7f7f7f\">[DEBUG] Classification result: reentrant, Ground truth: reentrant</span>\n",
       "</pre>\n"
      ]
     },
     "metadata": {},
     "output_type": "display_data"
    },
    {
     "data": {
      "text/plain": [
       "\u001B[2m[DEBUG] Collecting predictions from directory: \u001B[0m\n",
       "\u001B[2m../log/contracts_analysis_both_20250225_104133/reentrant/0x33813c2f2aab62ac88c234858a1f08448424828f\u001B[0m\n"
      ],
      "text/html": [
       "<pre style=\"white-space:pre;overflow-x:auto;line-height:normal;font-family:Menlo,'DejaVu Sans Mono',consolas,'Courier New',monospace\"><span style=\"color: #7f7f7f; text-decoration-color: #7f7f7f\">[DEBUG] Collecting predictions from directory: </span>\n",
       "<span style=\"color: #7f7f7f; text-decoration-color: #7f7f7f\">../log/contracts_analysis_both_20250225_104133/reentrant/0x33813c2f2aab62ac88c234858a1f08448424828f</span>\n",
       "</pre>\n"
      ]
     },
     "metadata": {},
     "output_type": "display_data"
    },
    {
     "data": {
      "text/plain": [
       "\u001B[2m[DEBUG] Loading JSON file: \u001B[0m\n",
       "\u001B[2m../log/contracts_analysis_both_20250225_104133/reentrant/0x33813c2f2aab62ac88c234858a1f08448424828f/analysis_0x0aa1\u001B[0m\n",
       "\u001B[2m9b3e51dd77e482690263c8af26bec2c6542e.json\u001B[0m\n"
      ],
      "text/html": [
       "<pre style=\"white-space:pre;overflow-x:auto;line-height:normal;font-family:Menlo,'DejaVu Sans Mono',consolas,'Courier New',monospace\"><span style=\"color: #7f7f7f; text-decoration-color: #7f7f7f\">[DEBUG] Loading JSON file: </span>\n",
       "<span style=\"color: #7f7f7f; text-decoration-color: #7f7f7f\">../log/contracts_analysis_both_20250225_104133/reentrant/0x33813c2f2aab62ac88c234858a1f08448424828f/analysis_0x0aa1</span>\n",
       "<span style=\"color: #7f7f7f; text-decoration-color: #7f7f7f\">9b3e51dd77e482690263c8af26bec2c6542e.json</span>\n",
       "</pre>\n"
      ]
     },
     "metadata": {},
     "output_type": "display_data"
    },
    {
     "data": {
      "text/plain": [
       "\u001B[2m[DEBUG] Loading JSON file: \u001B[0m\n",
       "\u001B[2m../log/contracts_analysis_both_20250225_104133/reentrant/0x33813c2f2aab62ac88c234858a1f08448424828f/analysis_0x0aab\u001B[0m\n",
       "\u001B[2m3ac447ea90739bdbe4e0e00af0a54038904a.json\u001B[0m\n"
      ],
      "text/html": [
       "<pre style=\"white-space:pre;overflow-x:auto;line-height:normal;font-family:Menlo,'DejaVu Sans Mono',consolas,'Courier New',monospace\"><span style=\"color: #7f7f7f; text-decoration-color: #7f7f7f\">[DEBUG] Loading JSON file: </span>\n",
       "<span style=\"color: #7f7f7f; text-decoration-color: #7f7f7f\">../log/contracts_analysis_both_20250225_104133/reentrant/0x33813c2f2aab62ac88c234858a1f08448424828f/analysis_0x0aab</span>\n",
       "<span style=\"color: #7f7f7f; text-decoration-color: #7f7f7f\">3ac447ea90739bdbe4e0e00af0a54038904a.json</span>\n",
       "</pre>\n"
      ]
     },
     "metadata": {},
     "output_type": "display_data"
    },
    {
     "data": {
      "text/plain": [
       "\u001B[2m[DEBUG] Loading JSON file: \u001B[0m\n",
       "\u001B[2m../log/contracts_analysis_both_20250225_104133/reentrant/0x33813c2f2aab62ac88c234858a1f08448424828f/analysis_0x0a8c\u001B[0m\n",
       "\u001B[2m3b7e149891ff594e3ad580f8e1769151a07b.json\u001B[0m\n"
      ],
      "text/html": [
       "<pre style=\"white-space:pre;overflow-x:auto;line-height:normal;font-family:Menlo,'DejaVu Sans Mono',consolas,'Courier New',monospace\"><span style=\"color: #7f7f7f; text-decoration-color: #7f7f7f\">[DEBUG] Loading JSON file: </span>\n",
       "<span style=\"color: #7f7f7f; text-decoration-color: #7f7f7f\">../log/contracts_analysis_both_20250225_104133/reentrant/0x33813c2f2aab62ac88c234858a1f08448424828f/analysis_0x0a8c</span>\n",
       "<span style=\"color: #7f7f7f; text-decoration-color: #7f7f7f\">3b7e149891ff594e3ad580f8e1769151a07b.json</span>\n",
       "</pre>\n"
      ]
     },
     "metadata": {},
     "output_type": "display_data"
    },
    {
     "data": {
      "text/plain": [
       "\u001B[2m[DEBUG] Collected predictions: ['reentrant', 'reentrant', 'reentrant']\u001B[0m\n"
      ],
      "text/html": [
       "<pre style=\"white-space:pre;overflow-x:auto;line-height:normal;font-family:Menlo,'DejaVu Sans Mono',consolas,'Courier New',monospace\"><span style=\"color: #7f7f7f; text-decoration-color: #7f7f7f\">[DEBUG] Collected predictions: ['reentrant', 'reentrant', 'reentrant']</span>\n",
       "</pre>\n"
      ]
     },
     "metadata": {},
     "output_type": "display_data"
    },
    {
     "data": {
      "text/plain": [
       "\u001B[2m[DEBUG] Determined ground truth for \u001B[0m\n",
       "\u001B[2m../log/contracts_analysis_both_20250225_104133/reentrant/0x939aa1eca62ddd3f782a61c1b346b53687252ef6_reentrancy: \u001B[0m\n",
       "\u001B[2mreentrant\u001B[0m\n"
      ],
      "text/html": [
       "<pre style=\"white-space:pre;overflow-x:auto;line-height:normal;font-family:Menlo,'DejaVu Sans Mono',consolas,'Courier New',monospace\"><span style=\"color: #7f7f7f; text-decoration-color: #7f7f7f\">[DEBUG] Determined ground truth for </span>\n",
       "<span style=\"color: #7f7f7f; text-decoration-color: #7f7f7f\">../log/contracts_analysis_both_20250225_104133/reentrant/0x939aa1eca62ddd3f782a61c1b346b53687252ef6_reentrancy: </span>\n",
       "<span style=\"color: #7f7f7f; text-decoration-color: #7f7f7f\">reentrant</span>\n",
       "</pre>\n"
      ]
     },
     "metadata": {},
     "output_type": "display_data"
    },
    {
     "data": {
      "text/plain": [
       "\u001B[2m[DEBUG] Processing classification file: \u001B[0m\n",
       "\u001B[2m../log/contracts_analysis_both_20250225_104133/reentrant/0x939aa1eca62ddd3f782a61c1b346b53687252ef6_reentrancy/clas\u001B[0m\n",
       "\u001B[2msification.json\u001B[0m\n"
      ],
      "text/html": [
       "<pre style=\"white-space:pre;overflow-x:auto;line-height:normal;font-family:Menlo,'DejaVu Sans Mono',consolas,'Courier New',monospace\"><span style=\"color: #7f7f7f; text-decoration-color: #7f7f7f\">[DEBUG] Processing classification file: </span>\n",
       "<span style=\"color: #7f7f7f; text-decoration-color: #7f7f7f\">../log/contracts_analysis_both_20250225_104133/reentrant/0x939aa1eca62ddd3f782a61c1b346b53687252ef6_reentrancy/clas</span>\n",
       "<span style=\"color: #7f7f7f; text-decoration-color: #7f7f7f\">sification.json</span>\n",
       "</pre>\n"
      ]
     },
     "metadata": {},
     "output_type": "display_data"
    },
    {
     "data": {
      "text/plain": [
       "\u001B[2m[DEBUG] Loading JSON file: \u001B[0m\n",
       "\u001B[2m../log/contracts_analysis_both_20250225_104133/reentrant/0x939aa1eca62ddd3f782a61c1b346b53687252ef6_reentrancy/clas\u001B[0m\n",
       "\u001B[2msification.json\u001B[0m\n"
      ],
      "text/html": [
       "<pre style=\"white-space:pre;overflow-x:auto;line-height:normal;font-family:Menlo,'DejaVu Sans Mono',consolas,'Courier New',monospace\"><span style=\"color: #7f7f7f; text-decoration-color: #7f7f7f\">[DEBUG] Loading JSON file: </span>\n",
       "<span style=\"color: #7f7f7f; text-decoration-color: #7f7f7f\">../log/contracts_analysis_both_20250225_104133/reentrant/0x939aa1eca62ddd3f782a61c1b346b53687252ef6_reentrancy/clas</span>\n",
       "<span style=\"color: #7f7f7f; text-decoration-color: #7f7f7f\">sification.json</span>\n",
       "</pre>\n"
      ]
     },
     "metadata": {},
     "output_type": "display_data"
    },
    {
     "data": {
      "text/plain": [
       "\u001B[2m[DEBUG] Classification result: reentrant, Ground truth: reentrant\u001B[0m\n"
      ],
      "text/html": [
       "<pre style=\"white-space:pre;overflow-x:auto;line-height:normal;font-family:Menlo,'DejaVu Sans Mono',consolas,'Courier New',monospace\"><span style=\"color: #7f7f7f; text-decoration-color: #7f7f7f\">[DEBUG] Classification result: reentrant, Ground truth: reentrant</span>\n",
       "</pre>\n"
      ]
     },
     "metadata": {},
     "output_type": "display_data"
    },
    {
     "data": {
      "text/plain": [
       "\u001B[2m[DEBUG] Collecting predictions from directory: \u001B[0m\n",
       "\u001B[2m../log/contracts_analysis_both_20250225_104133/reentrant/0x939aa1eca62ddd3f782a61c1b346b53687252ef6_reentrancy\u001B[0m\n"
      ],
      "text/html": [
       "<pre style=\"white-space:pre;overflow-x:auto;line-height:normal;font-family:Menlo,'DejaVu Sans Mono',consolas,'Courier New',monospace\"><span style=\"color: #7f7f7f; text-decoration-color: #7f7f7f\">[DEBUG] Collecting predictions from directory: </span>\n",
       "<span style=\"color: #7f7f7f; text-decoration-color: #7f7f7f\">../log/contracts_analysis_both_20250225_104133/reentrant/0x939aa1eca62ddd3f782a61c1b346b53687252ef6_reentrancy</span>\n",
       "</pre>\n"
      ]
     },
     "metadata": {},
     "output_type": "display_data"
    },
    {
     "data": {
      "text/plain": [
       "\u001B[2m[DEBUG] Loading JSON file: \u001B[0m\n",
       "\u001B[2m../log/contracts_analysis_both_20250225_104133/reentrant/0x939aa1eca62ddd3f782a61c1b346b53687252ef6_reentrancy/anal\u001B[0m\n",
       "\u001B[2mysis_0x0aa19b3e51dd77e482690263c8af26bec2c6542e.json\u001B[0m\n"
      ],
      "text/html": [
       "<pre style=\"white-space:pre;overflow-x:auto;line-height:normal;font-family:Menlo,'DejaVu Sans Mono',consolas,'Courier New',monospace\"><span style=\"color: #7f7f7f; text-decoration-color: #7f7f7f\">[DEBUG] Loading JSON file: </span>\n",
       "<span style=\"color: #7f7f7f; text-decoration-color: #7f7f7f\">../log/contracts_analysis_both_20250225_104133/reentrant/0x939aa1eca62ddd3f782a61c1b346b53687252ef6_reentrancy/anal</span>\n",
       "<span style=\"color: #7f7f7f; text-decoration-color: #7f7f7f\">ysis_0x0aa19b3e51dd77e482690263c8af26bec2c6542e.json</span>\n",
       "</pre>\n"
      ]
     },
     "metadata": {},
     "output_type": "display_data"
    },
    {
     "data": {
      "text/plain": [
       "\u001B[2m[DEBUG] Loading JSON file: \u001B[0m\n",
       "\u001B[2m../log/contracts_analysis_both_20250225_104133/reentrant/0x939aa1eca62ddd3f782a61c1b346b53687252ef6_reentrancy/anal\u001B[0m\n",
       "\u001B[2mysis_0x0aab3ac447ea90739bdbe4e0e00af0a54038904a.json\u001B[0m\n"
      ],
      "text/html": [
       "<pre style=\"white-space:pre;overflow-x:auto;line-height:normal;font-family:Menlo,'DejaVu Sans Mono',consolas,'Courier New',monospace\"><span style=\"color: #7f7f7f; text-decoration-color: #7f7f7f\">[DEBUG] Loading JSON file: </span>\n",
       "<span style=\"color: #7f7f7f; text-decoration-color: #7f7f7f\">../log/contracts_analysis_both_20250225_104133/reentrant/0x939aa1eca62ddd3f782a61c1b346b53687252ef6_reentrancy/anal</span>\n",
       "<span style=\"color: #7f7f7f; text-decoration-color: #7f7f7f\">ysis_0x0aab3ac447ea90739bdbe4e0e00af0a54038904a.json</span>\n",
       "</pre>\n"
      ]
     },
     "metadata": {},
     "output_type": "display_data"
    },
    {
     "data": {
      "text/plain": [
       "\u001B[2m[DEBUG] Loading JSON file: \u001B[0m\n",
       "\u001B[2m../log/contracts_analysis_both_20250225_104133/reentrant/0x939aa1eca62ddd3f782a61c1b346b53687252ef6_reentrancy/anal\u001B[0m\n",
       "\u001B[2mysis_0x0a8c3b7e149891ff594e3ad580f8e1769151a07b.json\u001B[0m\n"
      ],
      "text/html": [
       "<pre style=\"white-space:pre;overflow-x:auto;line-height:normal;font-family:Menlo,'DejaVu Sans Mono',consolas,'Courier New',monospace\"><span style=\"color: #7f7f7f; text-decoration-color: #7f7f7f\">[DEBUG] Loading JSON file: </span>\n",
       "<span style=\"color: #7f7f7f; text-decoration-color: #7f7f7f\">../log/contracts_analysis_both_20250225_104133/reentrant/0x939aa1eca62ddd3f782a61c1b346b53687252ef6_reentrancy/anal</span>\n",
       "<span style=\"color: #7f7f7f; text-decoration-color: #7f7f7f\">ysis_0x0a8c3b7e149891ff594e3ad580f8e1769151a07b.json</span>\n",
       "</pre>\n"
      ]
     },
     "metadata": {},
     "output_type": "display_data"
    },
    {
     "data": {
      "text/plain": [
       "\u001B[2m[DEBUG] Collected predictions: ['reentrant', 'reentrant', 'reentrant']\u001B[0m\n"
      ],
      "text/html": [
       "<pre style=\"white-space:pre;overflow-x:auto;line-height:normal;font-family:Menlo,'DejaVu Sans Mono',consolas,'Courier New',monospace\"><span style=\"color: #7f7f7f; text-decoration-color: #7f7f7f\">[DEBUG] Collected predictions: ['reentrant', 'reentrant', 'reentrant']</span>\n",
       "</pre>\n"
      ]
     },
     "metadata": {},
     "output_type": "display_data"
    },
    {
     "data": {
      "text/plain": [
       "\u001B[2m[DEBUG] Determined ground truth for \u001B[0m\n",
       "\u001B[2m../log/contracts_analysis_both_20250225_104133/reentrant/0x3023868433f6086cd8ce0c4083fe2e11b37ce0b7: reentrant\u001B[0m\n"
      ],
      "text/html": [
       "<pre style=\"white-space:pre;overflow-x:auto;line-height:normal;font-family:Menlo,'DejaVu Sans Mono',consolas,'Courier New',monospace\"><span style=\"color: #7f7f7f; text-decoration-color: #7f7f7f\">[DEBUG] Determined ground truth for </span>\n",
       "<span style=\"color: #7f7f7f; text-decoration-color: #7f7f7f\">../log/contracts_analysis_both_20250225_104133/reentrant/0x3023868433f6086cd8ce0c4083fe2e11b37ce0b7: reentrant</span>\n",
       "</pre>\n"
      ]
     },
     "metadata": {},
     "output_type": "display_data"
    },
    {
     "data": {
      "text/plain": [
       "\u001B[2m[DEBUG] Processing classification file: \u001B[0m\n",
       "\u001B[2m../log/contracts_analysis_both_20250225_104133/reentrant/0x3023868433f6086cd8ce0c4083fe2e11b37ce0b7/classification.\u001B[0m\n",
       "\u001B[2mjson\u001B[0m\n"
      ],
      "text/html": [
       "<pre style=\"white-space:pre;overflow-x:auto;line-height:normal;font-family:Menlo,'DejaVu Sans Mono',consolas,'Courier New',monospace\"><span style=\"color: #7f7f7f; text-decoration-color: #7f7f7f\">[DEBUG] Processing classification file: </span>\n",
       "<span style=\"color: #7f7f7f; text-decoration-color: #7f7f7f\">../log/contracts_analysis_both_20250225_104133/reentrant/0x3023868433f6086cd8ce0c4083fe2e11b37ce0b7/classification.</span>\n",
       "<span style=\"color: #7f7f7f; text-decoration-color: #7f7f7f\">json</span>\n",
       "</pre>\n"
      ]
     },
     "metadata": {},
     "output_type": "display_data"
    },
    {
     "data": {
      "text/plain": [
       "\u001B[2m[DEBUG] Loading JSON file: \u001B[0m\n",
       "\u001B[2m../log/contracts_analysis_both_20250225_104133/reentrant/0x3023868433f6086cd8ce0c4083fe2e11b37ce0b7/classification.\u001B[0m\n",
       "\u001B[2mjson\u001B[0m\n"
      ],
      "text/html": [
       "<pre style=\"white-space:pre;overflow-x:auto;line-height:normal;font-family:Menlo,'DejaVu Sans Mono',consolas,'Courier New',monospace\"><span style=\"color: #7f7f7f; text-decoration-color: #7f7f7f\">[DEBUG] Loading JSON file: </span>\n",
       "<span style=\"color: #7f7f7f; text-decoration-color: #7f7f7f\">../log/contracts_analysis_both_20250225_104133/reentrant/0x3023868433f6086cd8ce0c4083fe2e11b37ce0b7/classification.</span>\n",
       "<span style=\"color: #7f7f7f; text-decoration-color: #7f7f7f\">json</span>\n",
       "</pre>\n"
      ]
     },
     "metadata": {},
     "output_type": "display_data"
    },
    {
     "data": {
      "text/plain": [
       "\u001B[2m[DEBUG] Classification result: reentrant, Ground truth: reentrant\u001B[0m\n"
      ],
      "text/html": [
       "<pre style=\"white-space:pre;overflow-x:auto;line-height:normal;font-family:Menlo,'DejaVu Sans Mono',consolas,'Courier New',monospace\"><span style=\"color: #7f7f7f; text-decoration-color: #7f7f7f\">[DEBUG] Classification result: reentrant, Ground truth: reentrant</span>\n",
       "</pre>\n"
      ]
     },
     "metadata": {},
     "output_type": "display_data"
    },
    {
     "data": {
      "text/plain": [
       "\u001B[2m[DEBUG] Collecting predictions from directory: \u001B[0m\n",
       "\u001B[2m../log/contracts_analysis_both_20250225_104133/reentrant/0x3023868433f6086cd8ce0c4083fe2e11b37ce0b7\u001B[0m\n"
      ],
      "text/html": [
       "<pre style=\"white-space:pre;overflow-x:auto;line-height:normal;font-family:Menlo,'DejaVu Sans Mono',consolas,'Courier New',monospace\"><span style=\"color: #7f7f7f; text-decoration-color: #7f7f7f\">[DEBUG] Collecting predictions from directory: </span>\n",
       "<span style=\"color: #7f7f7f; text-decoration-color: #7f7f7f\">../log/contracts_analysis_both_20250225_104133/reentrant/0x3023868433f6086cd8ce0c4083fe2e11b37ce0b7</span>\n",
       "</pre>\n"
      ]
     },
     "metadata": {},
     "output_type": "display_data"
    },
    {
     "data": {
      "text/plain": [
       "\u001B[2m[DEBUG] Loading JSON file: \u001B[0m\n",
       "\u001B[2m../log/contracts_analysis_both_20250225_104133/reentrant/0x3023868433f6086cd8ce0c4083fe2e11b37ce0b7/analysis_0x0aa1\u001B[0m\n",
       "\u001B[2m9b3e51dd77e482690263c8af26bec2c6542e.json\u001B[0m\n"
      ],
      "text/html": [
       "<pre style=\"white-space:pre;overflow-x:auto;line-height:normal;font-family:Menlo,'DejaVu Sans Mono',consolas,'Courier New',monospace\"><span style=\"color: #7f7f7f; text-decoration-color: #7f7f7f\">[DEBUG] Loading JSON file: </span>\n",
       "<span style=\"color: #7f7f7f; text-decoration-color: #7f7f7f\">../log/contracts_analysis_both_20250225_104133/reentrant/0x3023868433f6086cd8ce0c4083fe2e11b37ce0b7/analysis_0x0aa1</span>\n",
       "<span style=\"color: #7f7f7f; text-decoration-color: #7f7f7f\">9b3e51dd77e482690263c8af26bec2c6542e.json</span>\n",
       "</pre>\n"
      ]
     },
     "metadata": {},
     "output_type": "display_data"
    },
    {
     "data": {
      "text/plain": [
       "\u001B[2m[DEBUG] Loading JSON file: \u001B[0m\n",
       "\u001B[2m../log/contracts_analysis_both_20250225_104133/reentrant/0x3023868433f6086cd8ce0c4083fe2e11b37ce0b7/analysis_0x0aab\u001B[0m\n",
       "\u001B[2m3ac447ea90739bdbe4e0e00af0a54038904a.json\u001B[0m\n"
      ],
      "text/html": [
       "<pre style=\"white-space:pre;overflow-x:auto;line-height:normal;font-family:Menlo,'DejaVu Sans Mono',consolas,'Courier New',monospace\"><span style=\"color: #7f7f7f; text-decoration-color: #7f7f7f\">[DEBUG] Loading JSON file: </span>\n",
       "<span style=\"color: #7f7f7f; text-decoration-color: #7f7f7f\">../log/contracts_analysis_both_20250225_104133/reentrant/0x3023868433f6086cd8ce0c4083fe2e11b37ce0b7/analysis_0x0aab</span>\n",
       "<span style=\"color: #7f7f7f; text-decoration-color: #7f7f7f\">3ac447ea90739bdbe4e0e00af0a54038904a.json</span>\n",
       "</pre>\n"
      ]
     },
     "metadata": {},
     "output_type": "display_data"
    },
    {
     "data": {
      "text/plain": [
       "\u001B[2m[DEBUG] Loading JSON file: \u001B[0m\n",
       "\u001B[2m../log/contracts_analysis_both_20250225_104133/reentrant/0x3023868433f6086cd8ce0c4083fe2e11b37ce0b7/analysis_0x0a8c\u001B[0m\n",
       "\u001B[2m3b7e149891ff594e3ad580f8e1769151a07b.json\u001B[0m\n"
      ],
      "text/html": [
       "<pre style=\"white-space:pre;overflow-x:auto;line-height:normal;font-family:Menlo,'DejaVu Sans Mono',consolas,'Courier New',monospace\"><span style=\"color: #7f7f7f; text-decoration-color: #7f7f7f\">[DEBUG] Loading JSON file: </span>\n",
       "<span style=\"color: #7f7f7f; text-decoration-color: #7f7f7f\">../log/contracts_analysis_both_20250225_104133/reentrant/0x3023868433f6086cd8ce0c4083fe2e11b37ce0b7/analysis_0x0a8c</span>\n",
       "<span style=\"color: #7f7f7f; text-decoration-color: #7f7f7f\">3b7e149891ff594e3ad580f8e1769151a07b.json</span>\n",
       "</pre>\n"
      ]
     },
     "metadata": {},
     "output_type": "display_data"
    },
    {
     "data": {
      "text/plain": [
       "\u001B[2m[DEBUG] Collected predictions: ['reentrant', 'reentrant', 'reentrant']\u001B[0m\n"
      ],
      "text/html": [
       "<pre style=\"white-space:pre;overflow-x:auto;line-height:normal;font-family:Menlo,'DejaVu Sans Mono',consolas,'Courier New',monospace\"><span style=\"color: #7f7f7f; text-decoration-color: #7f7f7f\">[DEBUG] Collected predictions: ['reentrant', 'reentrant', 'reentrant']</span>\n",
       "</pre>\n"
      ]
     },
     "metadata": {},
     "output_type": "display_data"
    },
    {
     "data": {
      "text/plain": [
       "\u001B[2m[DEBUG] Determined ground truth for \u001B[0m\n",
       "\u001B[2m../log/contracts_analysis_both_20250225_104133/reentrant/0x9a156f934c3542ef6a4443ce9a91d2d768fc01c1: reentrant\u001B[0m\n"
      ],
      "text/html": [
       "<pre style=\"white-space:pre;overflow-x:auto;line-height:normal;font-family:Menlo,'DejaVu Sans Mono',consolas,'Courier New',monospace\"><span style=\"color: #7f7f7f; text-decoration-color: #7f7f7f\">[DEBUG] Determined ground truth for </span>\n",
       "<span style=\"color: #7f7f7f; text-decoration-color: #7f7f7f\">../log/contracts_analysis_both_20250225_104133/reentrant/0x9a156f934c3542ef6a4443ce9a91d2d768fc01c1: reentrant</span>\n",
       "</pre>\n"
      ]
     },
     "metadata": {},
     "output_type": "display_data"
    },
    {
     "data": {
      "text/plain": [
       "\u001B[2m[DEBUG] Processing classification file: \u001B[0m\n",
       "\u001B[2m../log/contracts_analysis_both_20250225_104133/reentrant/0x9a156f934c3542ef6a4443ce9a91d2d768fc01c1/classification.\u001B[0m\n",
       "\u001B[2mjson\u001B[0m\n"
      ],
      "text/html": [
       "<pre style=\"white-space:pre;overflow-x:auto;line-height:normal;font-family:Menlo,'DejaVu Sans Mono',consolas,'Courier New',monospace\"><span style=\"color: #7f7f7f; text-decoration-color: #7f7f7f\">[DEBUG] Processing classification file: </span>\n",
       "<span style=\"color: #7f7f7f; text-decoration-color: #7f7f7f\">../log/contracts_analysis_both_20250225_104133/reentrant/0x9a156f934c3542ef6a4443ce9a91d2d768fc01c1/classification.</span>\n",
       "<span style=\"color: #7f7f7f; text-decoration-color: #7f7f7f\">json</span>\n",
       "</pre>\n"
      ]
     },
     "metadata": {},
     "output_type": "display_data"
    },
    {
     "data": {
      "text/plain": [
       "\u001B[2m[DEBUG] Loading JSON file: \u001B[0m\n",
       "\u001B[2m../log/contracts_analysis_both_20250225_104133/reentrant/0x9a156f934c3542ef6a4443ce9a91d2d768fc01c1/classification.\u001B[0m\n",
       "\u001B[2mjson\u001B[0m\n"
      ],
      "text/html": [
       "<pre style=\"white-space:pre;overflow-x:auto;line-height:normal;font-family:Menlo,'DejaVu Sans Mono',consolas,'Courier New',monospace\"><span style=\"color: #7f7f7f; text-decoration-color: #7f7f7f\">[DEBUG] Loading JSON file: </span>\n",
       "<span style=\"color: #7f7f7f; text-decoration-color: #7f7f7f\">../log/contracts_analysis_both_20250225_104133/reentrant/0x9a156f934c3542ef6a4443ce9a91d2d768fc01c1/classification.</span>\n",
       "<span style=\"color: #7f7f7f; text-decoration-color: #7f7f7f\">json</span>\n",
       "</pre>\n"
      ]
     },
     "metadata": {},
     "output_type": "display_data"
    },
    {
     "data": {
      "text/plain": [
       "\u001B[2m[DEBUG] Classification result: safe, Ground truth: reentrant\u001B[0m\n"
      ],
      "text/html": [
       "<pre style=\"white-space:pre;overflow-x:auto;line-height:normal;font-family:Menlo,'DejaVu Sans Mono',consolas,'Courier New',monospace\"><span style=\"color: #7f7f7f; text-decoration-color: #7f7f7f\">[DEBUG] Classification result: safe, Ground truth: reentrant</span>\n",
       "</pre>\n"
      ]
     },
     "metadata": {},
     "output_type": "display_data"
    },
    {
     "data": {
      "text/plain": [
       "\u001B[2m[DEBUG] Collecting predictions from directory: \u001B[0m\n",
       "\u001B[2m../log/contracts_analysis_both_20250225_104133/reentrant/0x9a156f934c3542ef6a4443ce9a91d2d768fc01c1\u001B[0m\n"
      ],
      "text/html": [
       "<pre style=\"white-space:pre;overflow-x:auto;line-height:normal;font-family:Menlo,'DejaVu Sans Mono',consolas,'Courier New',monospace\"><span style=\"color: #7f7f7f; text-decoration-color: #7f7f7f\">[DEBUG] Collecting predictions from directory: </span>\n",
       "<span style=\"color: #7f7f7f; text-decoration-color: #7f7f7f\">../log/contracts_analysis_both_20250225_104133/reentrant/0x9a156f934c3542ef6a4443ce9a91d2d768fc01c1</span>\n",
       "</pre>\n"
      ]
     },
     "metadata": {},
     "output_type": "display_data"
    },
    {
     "data": {
      "text/plain": [
       "\u001B[2m[DEBUG] Loading JSON file: \u001B[0m\n",
       "\u001B[2m../log/contracts_analysis_both_20250225_104133/reentrant/0x9a156f934c3542ef6a4443ce9a91d2d768fc01c1/analysis_0x0aa1\u001B[0m\n",
       "\u001B[2m9b3e51dd77e482690263c8af26bec2c6542e.json\u001B[0m\n"
      ],
      "text/html": [
       "<pre style=\"white-space:pre;overflow-x:auto;line-height:normal;font-family:Menlo,'DejaVu Sans Mono',consolas,'Courier New',monospace\"><span style=\"color: #7f7f7f; text-decoration-color: #7f7f7f\">[DEBUG] Loading JSON file: </span>\n",
       "<span style=\"color: #7f7f7f; text-decoration-color: #7f7f7f\">../log/contracts_analysis_both_20250225_104133/reentrant/0x9a156f934c3542ef6a4443ce9a91d2d768fc01c1/analysis_0x0aa1</span>\n",
       "<span style=\"color: #7f7f7f; text-decoration-color: #7f7f7f\">9b3e51dd77e482690263c8af26bec2c6542e.json</span>\n",
       "</pre>\n"
      ]
     },
     "metadata": {},
     "output_type": "display_data"
    },
    {
     "data": {
      "text/plain": [
       "\u001B[2m[DEBUG] Loading JSON file: \u001B[0m\n",
       "\u001B[2m../log/contracts_analysis_both_20250225_104133/reentrant/0x9a156f934c3542ef6a4443ce9a91d2d768fc01c1/analysis_0x0aab\u001B[0m\n",
       "\u001B[2m3ac447ea90739bdbe4e0e00af0a54038904a.json\u001B[0m\n"
      ],
      "text/html": [
       "<pre style=\"white-space:pre;overflow-x:auto;line-height:normal;font-family:Menlo,'DejaVu Sans Mono',consolas,'Courier New',monospace\"><span style=\"color: #7f7f7f; text-decoration-color: #7f7f7f\">[DEBUG] Loading JSON file: </span>\n",
       "<span style=\"color: #7f7f7f; text-decoration-color: #7f7f7f\">../log/contracts_analysis_both_20250225_104133/reentrant/0x9a156f934c3542ef6a4443ce9a91d2d768fc01c1/analysis_0x0aab</span>\n",
       "<span style=\"color: #7f7f7f; text-decoration-color: #7f7f7f\">3ac447ea90739bdbe4e0e00af0a54038904a.json</span>\n",
       "</pre>\n"
      ]
     },
     "metadata": {},
     "output_type": "display_data"
    },
    {
     "data": {
      "text/plain": [
       "\u001B[2m[DEBUG] Loading JSON file: \u001B[0m\n",
       "\u001B[2m../log/contracts_analysis_both_20250225_104133/reentrant/0x9a156f934c3542ef6a4443ce9a91d2d768fc01c1/analysis_0x0a8c\u001B[0m\n",
       "\u001B[2m3b7e149891ff594e3ad580f8e1769151a07b.json\u001B[0m\n"
      ],
      "text/html": [
       "<pre style=\"white-space:pre;overflow-x:auto;line-height:normal;font-family:Menlo,'DejaVu Sans Mono',consolas,'Courier New',monospace\"><span style=\"color: #7f7f7f; text-decoration-color: #7f7f7f\">[DEBUG] Loading JSON file: </span>\n",
       "<span style=\"color: #7f7f7f; text-decoration-color: #7f7f7f\">../log/contracts_analysis_both_20250225_104133/reentrant/0x9a156f934c3542ef6a4443ce9a91d2d768fc01c1/analysis_0x0a8c</span>\n",
       "<span style=\"color: #7f7f7f; text-decoration-color: #7f7f7f\">3b7e149891ff594e3ad580f8e1769151a07b.json</span>\n",
       "</pre>\n"
      ]
     },
     "metadata": {},
     "output_type": "display_data"
    },
    {
     "data": {
      "text/plain": [
       "\u001B[2m[DEBUG] Collected predictions: ['reentrant', 'reentrant', 'reentrant']\u001B[0m\n"
      ],
      "text/html": [
       "<pre style=\"white-space:pre;overflow-x:auto;line-height:normal;font-family:Menlo,'DejaVu Sans Mono',consolas,'Courier New',monospace\"><span style=\"color: #7f7f7f; text-decoration-color: #7f7f7f\">[DEBUG] Collected predictions: ['reentrant', 'reentrant', 'reentrant']</span>\n",
       "</pre>\n"
      ]
     },
     "metadata": {},
     "output_type": "display_data"
    },
    {
     "data": {
      "text/plain": [
       "\u001B[2m[DEBUG] Determined ground truth for \u001B[0m\n",
       "\u001B[2m../log/contracts_analysis_both_20250225_104133/reentrant/0xBE7D77A4be50EAF8E34Df74944bf06AB9D08773D_reentrancy: \u001B[0m\n",
       "\u001B[2mreentrant\u001B[0m\n"
      ],
      "text/html": [
       "<pre style=\"white-space:pre;overflow-x:auto;line-height:normal;font-family:Menlo,'DejaVu Sans Mono',consolas,'Courier New',monospace\"><span style=\"color: #7f7f7f; text-decoration-color: #7f7f7f\">[DEBUG] Determined ground truth for </span>\n",
       "<span style=\"color: #7f7f7f; text-decoration-color: #7f7f7f\">../log/contracts_analysis_both_20250225_104133/reentrant/0xBE7D77A4be50EAF8E34Df74944bf06AB9D08773D_reentrancy: </span>\n",
       "<span style=\"color: #7f7f7f; text-decoration-color: #7f7f7f\">reentrant</span>\n",
       "</pre>\n"
      ]
     },
     "metadata": {},
     "output_type": "display_data"
    },
    {
     "data": {
      "text/plain": [
       "\u001B[2m[DEBUG] Processing classification file: \u001B[0m\n",
       "\u001B[2m../log/contracts_analysis_both_20250225_104133/reentrant/0xBE7D77A4be50EAF8E34Df74944bf06AB9D08773D_reentrancy/clas\u001B[0m\n",
       "\u001B[2msification.json\u001B[0m\n"
      ],
      "text/html": [
       "<pre style=\"white-space:pre;overflow-x:auto;line-height:normal;font-family:Menlo,'DejaVu Sans Mono',consolas,'Courier New',monospace\"><span style=\"color: #7f7f7f; text-decoration-color: #7f7f7f\">[DEBUG] Processing classification file: </span>\n",
       "<span style=\"color: #7f7f7f; text-decoration-color: #7f7f7f\">../log/contracts_analysis_both_20250225_104133/reentrant/0xBE7D77A4be50EAF8E34Df74944bf06AB9D08773D_reentrancy/clas</span>\n",
       "<span style=\"color: #7f7f7f; text-decoration-color: #7f7f7f\">sification.json</span>\n",
       "</pre>\n"
      ]
     },
     "metadata": {},
     "output_type": "display_data"
    },
    {
     "data": {
      "text/plain": [
       "\u001B[2m[DEBUG] Loading JSON file: \u001B[0m\n",
       "\u001B[2m../log/contracts_analysis_both_20250225_104133/reentrant/0xBE7D77A4be50EAF8E34Df74944bf06AB9D08773D_reentrancy/clas\u001B[0m\n",
       "\u001B[2msification.json\u001B[0m\n"
      ],
      "text/html": [
       "<pre style=\"white-space:pre;overflow-x:auto;line-height:normal;font-family:Menlo,'DejaVu Sans Mono',consolas,'Courier New',monospace\"><span style=\"color: #7f7f7f; text-decoration-color: #7f7f7f\">[DEBUG] Loading JSON file: </span>\n",
       "<span style=\"color: #7f7f7f; text-decoration-color: #7f7f7f\">../log/contracts_analysis_both_20250225_104133/reentrant/0xBE7D77A4be50EAF8E34Df74944bf06AB9D08773D_reentrancy/clas</span>\n",
       "<span style=\"color: #7f7f7f; text-decoration-color: #7f7f7f\">sification.json</span>\n",
       "</pre>\n"
      ]
     },
     "metadata": {},
     "output_type": "display_data"
    },
    {
     "data": {
      "text/plain": [
       "\u001B[2m[DEBUG] Classification result: safe, Ground truth: reentrant\u001B[0m\n"
      ],
      "text/html": [
       "<pre style=\"white-space:pre;overflow-x:auto;line-height:normal;font-family:Menlo,'DejaVu Sans Mono',consolas,'Courier New',monospace\"><span style=\"color: #7f7f7f; text-decoration-color: #7f7f7f\">[DEBUG] Classification result: safe, Ground truth: reentrant</span>\n",
       "</pre>\n"
      ]
     },
     "metadata": {},
     "output_type": "display_data"
    },
    {
     "data": {
      "text/plain": [
       "\u001B[2m[DEBUG] Collecting predictions from directory: \u001B[0m\n",
       "\u001B[2m../log/contracts_analysis_both_20250225_104133/reentrant/0xBE7D77A4be50EAF8E34Df74944bf06AB9D08773D_reentrancy\u001B[0m\n"
      ],
      "text/html": [
       "<pre style=\"white-space:pre;overflow-x:auto;line-height:normal;font-family:Menlo,'DejaVu Sans Mono',consolas,'Courier New',monospace\"><span style=\"color: #7f7f7f; text-decoration-color: #7f7f7f\">[DEBUG] Collecting predictions from directory: </span>\n",
       "<span style=\"color: #7f7f7f; text-decoration-color: #7f7f7f\">../log/contracts_analysis_both_20250225_104133/reentrant/0xBE7D77A4be50EAF8E34Df74944bf06AB9D08773D_reentrancy</span>\n",
       "</pre>\n"
      ]
     },
     "metadata": {},
     "output_type": "display_data"
    },
    {
     "data": {
      "text/plain": [
       "\u001B[2m[DEBUG] Loading JSON file: \u001B[0m\n",
       "\u001B[2m../log/contracts_analysis_both_20250225_104133/reentrant/0xBE7D77A4be50EAF8E34Df74944bf06AB9D08773D_reentrancy/anal\u001B[0m\n",
       "\u001B[2mysis_0x0aa19b3e51dd77e482690263c8af26bec2c6542e.json\u001B[0m\n"
      ],
      "text/html": [
       "<pre style=\"white-space:pre;overflow-x:auto;line-height:normal;font-family:Menlo,'DejaVu Sans Mono',consolas,'Courier New',monospace\"><span style=\"color: #7f7f7f; text-decoration-color: #7f7f7f\">[DEBUG] Loading JSON file: </span>\n",
       "<span style=\"color: #7f7f7f; text-decoration-color: #7f7f7f\">../log/contracts_analysis_both_20250225_104133/reentrant/0xBE7D77A4be50EAF8E34Df74944bf06AB9D08773D_reentrancy/anal</span>\n",
       "<span style=\"color: #7f7f7f; text-decoration-color: #7f7f7f\">ysis_0x0aa19b3e51dd77e482690263c8af26bec2c6542e.json</span>\n",
       "</pre>\n"
      ]
     },
     "metadata": {},
     "output_type": "display_data"
    },
    {
     "data": {
      "text/plain": [
       "\u001B[2m[DEBUG] Loading JSON file: \u001B[0m\n",
       "\u001B[2m../log/contracts_analysis_both_20250225_104133/reentrant/0xBE7D77A4be50EAF8E34Df74944bf06AB9D08773D_reentrancy/anal\u001B[0m\n",
       "\u001B[2mysis_0x0aab3ac447ea90739bdbe4e0e00af0a54038904a.json\u001B[0m\n"
      ],
      "text/html": [
       "<pre style=\"white-space:pre;overflow-x:auto;line-height:normal;font-family:Menlo,'DejaVu Sans Mono',consolas,'Courier New',monospace\"><span style=\"color: #7f7f7f; text-decoration-color: #7f7f7f\">[DEBUG] Loading JSON file: </span>\n",
       "<span style=\"color: #7f7f7f; text-decoration-color: #7f7f7f\">../log/contracts_analysis_both_20250225_104133/reentrant/0xBE7D77A4be50EAF8E34Df74944bf06AB9D08773D_reentrancy/anal</span>\n",
       "<span style=\"color: #7f7f7f; text-decoration-color: #7f7f7f\">ysis_0x0aab3ac447ea90739bdbe4e0e00af0a54038904a.json</span>\n",
       "</pre>\n"
      ]
     },
     "metadata": {},
     "output_type": "display_data"
    },
    {
     "data": {
      "text/plain": [
       "\u001B[2m[DEBUG] Loading JSON file: \u001B[0m\n",
       "\u001B[2m../log/contracts_analysis_both_20250225_104133/reentrant/0xBE7D77A4be50EAF8E34Df74944bf06AB9D08773D_reentrancy/anal\u001B[0m\n",
       "\u001B[2mysis_0x0a8c3b7e149891ff594e3ad580f8e1769151a07b.json\u001B[0m\n"
      ],
      "text/html": [
       "<pre style=\"white-space:pre;overflow-x:auto;line-height:normal;font-family:Menlo,'DejaVu Sans Mono',consolas,'Courier New',monospace\"><span style=\"color: #7f7f7f; text-decoration-color: #7f7f7f\">[DEBUG] Loading JSON file: </span>\n",
       "<span style=\"color: #7f7f7f; text-decoration-color: #7f7f7f\">../log/contracts_analysis_both_20250225_104133/reentrant/0xBE7D77A4be50EAF8E34Df74944bf06AB9D08773D_reentrancy/anal</span>\n",
       "<span style=\"color: #7f7f7f; text-decoration-color: #7f7f7f\">ysis_0x0a8c3b7e149891ff594e3ad580f8e1769151a07b.json</span>\n",
       "</pre>\n"
      ]
     },
     "metadata": {},
     "output_type": "display_data"
    },
    {
     "data": {
      "text/plain": [
       "\u001B[2m[DEBUG] Collected predictions: ['reentrant', 'reentrant', 'reentrant']\u001B[0m\n"
      ],
      "text/html": [
       "<pre style=\"white-space:pre;overflow-x:auto;line-height:normal;font-family:Menlo,'DejaVu Sans Mono',consolas,'Courier New',monospace\"><span style=\"color: #7f7f7f; text-decoration-color: #7f7f7f\">[DEBUG] Collected predictions: ['reentrant', 'reentrant', 'reentrant']</span>\n",
       "</pre>\n"
      ]
     },
     "metadata": {},
     "output_type": "display_data"
    },
    {
     "data": {
      "text/plain": [
       "\u001B[2m[DEBUG] Determined ground truth for \u001B[0m\n",
       "\u001B[2m../log/contracts_analysis_both_20250225_104133/reentrant/0x9bdf81e6066d32764b7e75a1b5577237e06d9364_reentrancy: \u001B[0m\n",
       "\u001B[2mreentrant\u001B[0m\n"
      ],
      "text/html": [
       "<pre style=\"white-space:pre;overflow-x:auto;line-height:normal;font-family:Menlo,'DejaVu Sans Mono',consolas,'Courier New',monospace\"><span style=\"color: #7f7f7f; text-decoration-color: #7f7f7f\">[DEBUG] Determined ground truth for </span>\n",
       "<span style=\"color: #7f7f7f; text-decoration-color: #7f7f7f\">../log/contracts_analysis_both_20250225_104133/reentrant/0x9bdf81e6066d32764b7e75a1b5577237e06d9364_reentrancy: </span>\n",
       "<span style=\"color: #7f7f7f; text-decoration-color: #7f7f7f\">reentrant</span>\n",
       "</pre>\n"
      ]
     },
     "metadata": {},
     "output_type": "display_data"
    },
    {
     "data": {
      "text/plain": [
       "\u001B[2m[DEBUG] Processing classification file: \u001B[0m\n",
       "\u001B[2m../log/contracts_analysis_both_20250225_104133/reentrant/0x9bdf81e6066d32764b7e75a1b5577237e06d9364_reentrancy/clas\u001B[0m\n",
       "\u001B[2msification.json\u001B[0m\n"
      ],
      "text/html": [
       "<pre style=\"white-space:pre;overflow-x:auto;line-height:normal;font-family:Menlo,'DejaVu Sans Mono',consolas,'Courier New',monospace\"><span style=\"color: #7f7f7f; text-decoration-color: #7f7f7f\">[DEBUG] Processing classification file: </span>\n",
       "<span style=\"color: #7f7f7f; text-decoration-color: #7f7f7f\">../log/contracts_analysis_both_20250225_104133/reentrant/0x9bdf81e6066d32764b7e75a1b5577237e06d9364_reentrancy/clas</span>\n",
       "<span style=\"color: #7f7f7f; text-decoration-color: #7f7f7f\">sification.json</span>\n",
       "</pre>\n"
      ]
     },
     "metadata": {},
     "output_type": "display_data"
    },
    {
     "data": {
      "text/plain": [
       "\u001B[2m[DEBUG] Loading JSON file: \u001B[0m\n",
       "\u001B[2m../log/contracts_analysis_both_20250225_104133/reentrant/0x9bdf81e6066d32764b7e75a1b5577237e06d9364_reentrancy/clas\u001B[0m\n",
       "\u001B[2msification.json\u001B[0m\n"
      ],
      "text/html": [
       "<pre style=\"white-space:pre;overflow-x:auto;line-height:normal;font-family:Menlo,'DejaVu Sans Mono',consolas,'Courier New',monospace\"><span style=\"color: #7f7f7f; text-decoration-color: #7f7f7f\">[DEBUG] Loading JSON file: </span>\n",
       "<span style=\"color: #7f7f7f; text-decoration-color: #7f7f7f\">../log/contracts_analysis_both_20250225_104133/reentrant/0x9bdf81e6066d32764b7e75a1b5577237e06d9364_reentrancy/clas</span>\n",
       "<span style=\"color: #7f7f7f; text-decoration-color: #7f7f7f\">sification.json</span>\n",
       "</pre>\n"
      ]
     },
     "metadata": {},
     "output_type": "display_data"
    },
    {
     "data": {
      "text/plain": [
       "\u001B[2m[DEBUG] Classification result: reentrant, Ground truth: reentrant\u001B[0m\n"
      ],
      "text/html": [
       "<pre style=\"white-space:pre;overflow-x:auto;line-height:normal;font-family:Menlo,'DejaVu Sans Mono',consolas,'Courier New',monospace\"><span style=\"color: #7f7f7f; text-decoration-color: #7f7f7f\">[DEBUG] Classification result: reentrant, Ground truth: reentrant</span>\n",
       "</pre>\n"
      ]
     },
     "metadata": {},
     "output_type": "display_data"
    },
    {
     "data": {
      "text/plain": [
       "\u001B[2m[DEBUG] Collecting predictions from directory: \u001B[0m\n",
       "\u001B[2m../log/contracts_analysis_both_20250225_104133/reentrant/0x9bdf81e6066d32764b7e75a1b5577237e06d9364_reentrancy\u001B[0m\n"
      ],
      "text/html": [
       "<pre style=\"white-space:pre;overflow-x:auto;line-height:normal;font-family:Menlo,'DejaVu Sans Mono',consolas,'Courier New',monospace\"><span style=\"color: #7f7f7f; text-decoration-color: #7f7f7f\">[DEBUG] Collecting predictions from directory: </span>\n",
       "<span style=\"color: #7f7f7f; text-decoration-color: #7f7f7f\">../log/contracts_analysis_both_20250225_104133/reentrant/0x9bdf81e6066d32764b7e75a1b5577237e06d9364_reentrancy</span>\n",
       "</pre>\n"
      ]
     },
     "metadata": {},
     "output_type": "display_data"
    },
    {
     "data": {
      "text/plain": [
       "\u001B[2m[DEBUG] Loading JSON file: \u001B[0m\n",
       "\u001B[2m../log/contracts_analysis_both_20250225_104133/reentrant/0x9bdf81e6066d32764b7e75a1b5577237e06d9364_reentrancy/anal\u001B[0m\n",
       "\u001B[2mysis_0x0aa19b3e51dd77e482690263c8af26bec2c6542e.json\u001B[0m\n"
      ],
      "text/html": [
       "<pre style=\"white-space:pre;overflow-x:auto;line-height:normal;font-family:Menlo,'DejaVu Sans Mono',consolas,'Courier New',monospace\"><span style=\"color: #7f7f7f; text-decoration-color: #7f7f7f\">[DEBUG] Loading JSON file: </span>\n",
       "<span style=\"color: #7f7f7f; text-decoration-color: #7f7f7f\">../log/contracts_analysis_both_20250225_104133/reentrant/0x9bdf81e6066d32764b7e75a1b5577237e06d9364_reentrancy/anal</span>\n",
       "<span style=\"color: #7f7f7f; text-decoration-color: #7f7f7f\">ysis_0x0aa19b3e51dd77e482690263c8af26bec2c6542e.json</span>\n",
       "</pre>\n"
      ]
     },
     "metadata": {},
     "output_type": "display_data"
    },
    {
     "data": {
      "text/plain": [
       "\u001B[2m[DEBUG] Loading JSON file: \u001B[0m\n",
       "\u001B[2m../log/contracts_analysis_both_20250225_104133/reentrant/0x9bdf81e6066d32764b7e75a1b5577237e06d9364_reentrancy/anal\u001B[0m\n",
       "\u001B[2mysis_0x0aab3ac447ea90739bdbe4e0e00af0a54038904a.json\u001B[0m\n"
      ],
      "text/html": [
       "<pre style=\"white-space:pre;overflow-x:auto;line-height:normal;font-family:Menlo,'DejaVu Sans Mono',consolas,'Courier New',monospace\"><span style=\"color: #7f7f7f; text-decoration-color: #7f7f7f\">[DEBUG] Loading JSON file: </span>\n",
       "<span style=\"color: #7f7f7f; text-decoration-color: #7f7f7f\">../log/contracts_analysis_both_20250225_104133/reentrant/0x9bdf81e6066d32764b7e75a1b5577237e06d9364_reentrancy/anal</span>\n",
       "<span style=\"color: #7f7f7f; text-decoration-color: #7f7f7f\">ysis_0x0aab3ac447ea90739bdbe4e0e00af0a54038904a.json</span>\n",
       "</pre>\n"
      ]
     },
     "metadata": {},
     "output_type": "display_data"
    },
    {
     "data": {
      "text/plain": [
       "\u001B[2m[DEBUG] Loading JSON file: \u001B[0m\n",
       "\u001B[2m../log/contracts_analysis_both_20250225_104133/reentrant/0x9bdf81e6066d32764b7e75a1b5577237e06d9364_reentrancy/anal\u001B[0m\n",
       "\u001B[2mysis_0x0a8c3b7e149891ff594e3ad580f8e1769151a07b.json\u001B[0m\n"
      ],
      "text/html": [
       "<pre style=\"white-space:pre;overflow-x:auto;line-height:normal;font-family:Menlo,'DejaVu Sans Mono',consolas,'Courier New',monospace\"><span style=\"color: #7f7f7f; text-decoration-color: #7f7f7f\">[DEBUG] Loading JSON file: </span>\n",
       "<span style=\"color: #7f7f7f; text-decoration-color: #7f7f7f\">../log/contracts_analysis_both_20250225_104133/reentrant/0x9bdf81e6066d32764b7e75a1b5577237e06d9364_reentrancy/anal</span>\n",
       "<span style=\"color: #7f7f7f; text-decoration-color: #7f7f7f\">ysis_0x0a8c3b7e149891ff594e3ad580f8e1769151a07b.json</span>\n",
       "</pre>\n"
      ]
     },
     "metadata": {},
     "output_type": "display_data"
    },
    {
     "data": {
      "text/plain": [
       "\u001B[2m[DEBUG] Collected predictions: ['reentrant', 'reentrant', 'reentrant']\u001B[0m\n"
      ],
      "text/html": [
       "<pre style=\"white-space:pre;overflow-x:auto;line-height:normal;font-family:Menlo,'DejaVu Sans Mono',consolas,'Courier New',monospace\"><span style=\"color: #7f7f7f; text-decoration-color: #7f7f7f\">[DEBUG] Collected predictions: ['reentrant', 'reentrant', 'reentrant']</span>\n",
       "</pre>\n"
      ]
     },
     "metadata": {},
     "output_type": "display_data"
    },
    {
     "name": "stderr",
     "output_type": "stream",
     "text": [
      "Processing contracts:  65%|██████▍   | 62/96 [00:01<00:00, 70.70it/s]"
     ]
    },
    {
     "data": {
      "text/plain": [
       "\u001B[2m[DEBUG] Determined ground truth for \u001B[0m\n",
       "\u001B[2m../log/contracts_analysis_both_20250225_104133/reentrant/0xba40f56b536a297139570e0a4c74546dd27fd0f0: reentrant\u001B[0m\n"
      ],
      "text/html": [
       "<pre style=\"white-space:pre;overflow-x:auto;line-height:normal;font-family:Menlo,'DejaVu Sans Mono',consolas,'Courier New',monospace\"><span style=\"color: #7f7f7f; text-decoration-color: #7f7f7f\">[DEBUG] Determined ground truth for </span>\n",
       "<span style=\"color: #7f7f7f; text-decoration-color: #7f7f7f\">../log/contracts_analysis_both_20250225_104133/reentrant/0xba40f56b536a297139570e0a4c74546dd27fd0f0: reentrant</span>\n",
       "</pre>\n"
      ]
     },
     "metadata": {},
     "output_type": "display_data"
    },
    {
     "data": {
      "text/plain": [
       "\u001B[2m[DEBUG] Processing classification file: \u001B[0m\n",
       "\u001B[2m../log/contracts_analysis_both_20250225_104133/reentrant/0xba40f56b536a297139570e0a4c74546dd27fd0f0/classification.\u001B[0m\n",
       "\u001B[2mjson\u001B[0m\n"
      ],
      "text/html": [
       "<pre style=\"white-space:pre;overflow-x:auto;line-height:normal;font-family:Menlo,'DejaVu Sans Mono',consolas,'Courier New',monospace\"><span style=\"color: #7f7f7f; text-decoration-color: #7f7f7f\">[DEBUG] Processing classification file: </span>\n",
       "<span style=\"color: #7f7f7f; text-decoration-color: #7f7f7f\">../log/contracts_analysis_both_20250225_104133/reentrant/0xba40f56b536a297139570e0a4c74546dd27fd0f0/classification.</span>\n",
       "<span style=\"color: #7f7f7f; text-decoration-color: #7f7f7f\">json</span>\n",
       "</pre>\n"
      ]
     },
     "metadata": {},
     "output_type": "display_data"
    },
    {
     "data": {
      "text/plain": [
       "\u001B[2m[DEBUG] Loading JSON file: \u001B[0m\n",
       "\u001B[2m../log/contracts_analysis_both_20250225_104133/reentrant/0xba40f56b536a297139570e0a4c74546dd27fd0f0/classification.\u001B[0m\n",
       "\u001B[2mjson\u001B[0m\n"
      ],
      "text/html": [
       "<pre style=\"white-space:pre;overflow-x:auto;line-height:normal;font-family:Menlo,'DejaVu Sans Mono',consolas,'Courier New',monospace\"><span style=\"color: #7f7f7f; text-decoration-color: #7f7f7f\">[DEBUG] Loading JSON file: </span>\n",
       "<span style=\"color: #7f7f7f; text-decoration-color: #7f7f7f\">../log/contracts_analysis_both_20250225_104133/reentrant/0xba40f56b536a297139570e0a4c74546dd27fd0f0/classification.</span>\n",
       "<span style=\"color: #7f7f7f; text-decoration-color: #7f7f7f\">json</span>\n",
       "</pre>\n"
      ]
     },
     "metadata": {},
     "output_type": "display_data"
    },
    {
     "data": {
      "text/plain": [
       "\u001B[2m[DEBUG] Classification result: safe, Ground truth: reentrant\u001B[0m\n"
      ],
      "text/html": [
       "<pre style=\"white-space:pre;overflow-x:auto;line-height:normal;font-family:Menlo,'DejaVu Sans Mono',consolas,'Courier New',monospace\"><span style=\"color: #7f7f7f; text-decoration-color: #7f7f7f\">[DEBUG] Classification result: safe, Ground truth: reentrant</span>\n",
       "</pre>\n"
      ]
     },
     "metadata": {},
     "output_type": "display_data"
    },
    {
     "data": {
      "text/plain": [
       "\u001B[2m[DEBUG] Collecting predictions from directory: \u001B[0m\n",
       "\u001B[2m../log/contracts_analysis_both_20250225_104133/reentrant/0xba40f56b536a297139570e0a4c74546dd27fd0f0\u001B[0m\n"
      ],
      "text/html": [
       "<pre style=\"white-space:pre;overflow-x:auto;line-height:normal;font-family:Menlo,'DejaVu Sans Mono',consolas,'Courier New',monospace\"><span style=\"color: #7f7f7f; text-decoration-color: #7f7f7f\">[DEBUG] Collecting predictions from directory: </span>\n",
       "<span style=\"color: #7f7f7f; text-decoration-color: #7f7f7f\">../log/contracts_analysis_both_20250225_104133/reentrant/0xba40f56b536a297139570e0a4c74546dd27fd0f0</span>\n",
       "</pre>\n"
      ]
     },
     "metadata": {},
     "output_type": "display_data"
    },
    {
     "data": {
      "text/plain": [
       "\u001B[2m[DEBUG] Loading JSON file: \u001B[0m\n",
       "\u001B[2m../log/contracts_analysis_both_20250225_104133/reentrant/0xba40f56b536a297139570e0a4c74546dd27fd0f0/analysis_0x0aa1\u001B[0m\n",
       "\u001B[2m9b3e51dd77e482690263c8af26bec2c6542e.json\u001B[0m\n"
      ],
      "text/html": [
       "<pre style=\"white-space:pre;overflow-x:auto;line-height:normal;font-family:Menlo,'DejaVu Sans Mono',consolas,'Courier New',monospace\"><span style=\"color: #7f7f7f; text-decoration-color: #7f7f7f\">[DEBUG] Loading JSON file: </span>\n",
       "<span style=\"color: #7f7f7f; text-decoration-color: #7f7f7f\">../log/contracts_analysis_both_20250225_104133/reentrant/0xba40f56b536a297139570e0a4c74546dd27fd0f0/analysis_0x0aa1</span>\n",
       "<span style=\"color: #7f7f7f; text-decoration-color: #7f7f7f\">9b3e51dd77e482690263c8af26bec2c6542e.json</span>\n",
       "</pre>\n"
      ]
     },
     "metadata": {},
     "output_type": "display_data"
    },
    {
     "data": {
      "text/plain": [
       "\u001B[2m[DEBUG] Loading JSON file: \u001B[0m\n",
       "\u001B[2m../log/contracts_analysis_both_20250225_104133/reentrant/0xba40f56b536a297139570e0a4c74546dd27fd0f0/analysis_0x0aab\u001B[0m\n",
       "\u001B[2m3ac447ea90739bdbe4e0e00af0a54038904a.json\u001B[0m\n"
      ],
      "text/html": [
       "<pre style=\"white-space:pre;overflow-x:auto;line-height:normal;font-family:Menlo,'DejaVu Sans Mono',consolas,'Courier New',monospace\"><span style=\"color: #7f7f7f; text-decoration-color: #7f7f7f\">[DEBUG] Loading JSON file: </span>\n",
       "<span style=\"color: #7f7f7f; text-decoration-color: #7f7f7f\">../log/contracts_analysis_both_20250225_104133/reentrant/0xba40f56b536a297139570e0a4c74546dd27fd0f0/analysis_0x0aab</span>\n",
       "<span style=\"color: #7f7f7f; text-decoration-color: #7f7f7f\">3ac447ea90739bdbe4e0e00af0a54038904a.json</span>\n",
       "</pre>\n"
      ]
     },
     "metadata": {},
     "output_type": "display_data"
    },
    {
     "data": {
      "text/plain": [
       "\u001B[2m[DEBUG] Loading JSON file: \u001B[0m\n",
       "\u001B[2m../log/contracts_analysis_both_20250225_104133/reentrant/0xba40f56b536a297139570e0a4c74546dd27fd0f0/analysis_0x0a8c\u001B[0m\n",
       "\u001B[2m3b7e149891ff594e3ad580f8e1769151a07b.json\u001B[0m\n"
      ],
      "text/html": [
       "<pre style=\"white-space:pre;overflow-x:auto;line-height:normal;font-family:Menlo,'DejaVu Sans Mono',consolas,'Courier New',monospace\"><span style=\"color: #7f7f7f; text-decoration-color: #7f7f7f\">[DEBUG] Loading JSON file: </span>\n",
       "<span style=\"color: #7f7f7f; text-decoration-color: #7f7f7f\">../log/contracts_analysis_both_20250225_104133/reentrant/0xba40f56b536a297139570e0a4c74546dd27fd0f0/analysis_0x0a8c</span>\n",
       "<span style=\"color: #7f7f7f; text-decoration-color: #7f7f7f\">3b7e149891ff594e3ad580f8e1769151a07b.json</span>\n",
       "</pre>\n"
      ]
     },
     "metadata": {},
     "output_type": "display_data"
    },
    {
     "data": {
      "text/plain": [
       "\u001B[2m[DEBUG] Collected predictions: ['reentrant', 'reentrant', 'reentrant']\u001B[0m\n"
      ],
      "text/html": [
       "<pre style=\"white-space:pre;overflow-x:auto;line-height:normal;font-family:Menlo,'DejaVu Sans Mono',consolas,'Courier New',monospace\"><span style=\"color: #7f7f7f; text-decoration-color: #7f7f7f\">[DEBUG] Collected predictions: ['reentrant', 'reentrant', 'reentrant']</span>\n",
       "</pre>\n"
      ]
     },
     "metadata": {},
     "output_type": "display_data"
    },
    {
     "data": {
      "text/plain": [
       "\u001B[2m[DEBUG] Determined ground truth for \u001B[0m\n",
       "\u001B[2m../log/contracts_analysis_both_20250225_104133/reentrant/0xdcaa27ebf3ae8452d2528b4a9526b65ebb10b2dc_reentrancy: \u001B[0m\n",
       "\u001B[2mreentrant\u001B[0m\n"
      ],
      "text/html": [
       "<pre style=\"white-space:pre;overflow-x:auto;line-height:normal;font-family:Menlo,'DejaVu Sans Mono',consolas,'Courier New',monospace\"><span style=\"color: #7f7f7f; text-decoration-color: #7f7f7f\">[DEBUG] Determined ground truth for </span>\n",
       "<span style=\"color: #7f7f7f; text-decoration-color: #7f7f7f\">../log/contracts_analysis_both_20250225_104133/reentrant/0xdcaa27ebf3ae8452d2528b4a9526b65ebb10b2dc_reentrancy: </span>\n",
       "<span style=\"color: #7f7f7f; text-decoration-color: #7f7f7f\">reentrant</span>\n",
       "</pre>\n"
      ]
     },
     "metadata": {},
     "output_type": "display_data"
    },
    {
     "data": {
      "text/plain": [
       "\u001B[2m[DEBUG] Processing classification file: \u001B[0m\n",
       "\u001B[2m../log/contracts_analysis_both_20250225_104133/reentrant/0xdcaa27ebf3ae8452d2528b4a9526b65ebb10b2dc_reentrancy/clas\u001B[0m\n",
       "\u001B[2msification.json\u001B[0m\n"
      ],
      "text/html": [
       "<pre style=\"white-space:pre;overflow-x:auto;line-height:normal;font-family:Menlo,'DejaVu Sans Mono',consolas,'Courier New',monospace\"><span style=\"color: #7f7f7f; text-decoration-color: #7f7f7f\">[DEBUG] Processing classification file: </span>\n",
       "<span style=\"color: #7f7f7f; text-decoration-color: #7f7f7f\">../log/contracts_analysis_both_20250225_104133/reentrant/0xdcaa27ebf3ae8452d2528b4a9526b65ebb10b2dc_reentrancy/clas</span>\n",
       "<span style=\"color: #7f7f7f; text-decoration-color: #7f7f7f\">sification.json</span>\n",
       "</pre>\n"
      ]
     },
     "metadata": {},
     "output_type": "display_data"
    },
    {
     "data": {
      "text/plain": [
       "\u001B[2m[DEBUG] Loading JSON file: \u001B[0m\n",
       "\u001B[2m../log/contracts_analysis_both_20250225_104133/reentrant/0xdcaa27ebf3ae8452d2528b4a9526b65ebb10b2dc_reentrancy/clas\u001B[0m\n",
       "\u001B[2msification.json\u001B[0m\n"
      ],
      "text/html": [
       "<pre style=\"white-space:pre;overflow-x:auto;line-height:normal;font-family:Menlo,'DejaVu Sans Mono',consolas,'Courier New',monospace\"><span style=\"color: #7f7f7f; text-decoration-color: #7f7f7f\">[DEBUG] Loading JSON file: </span>\n",
       "<span style=\"color: #7f7f7f; text-decoration-color: #7f7f7f\">../log/contracts_analysis_both_20250225_104133/reentrant/0xdcaa27ebf3ae8452d2528b4a9526b65ebb10b2dc_reentrancy/clas</span>\n",
       "<span style=\"color: #7f7f7f; text-decoration-color: #7f7f7f\">sification.json</span>\n",
       "</pre>\n"
      ]
     },
     "metadata": {},
     "output_type": "display_data"
    },
    {
     "data": {
      "text/plain": [
       "\u001B[2m[DEBUG] Classification result: reentrant, Ground truth: reentrant\u001B[0m\n"
      ],
      "text/html": [
       "<pre style=\"white-space:pre;overflow-x:auto;line-height:normal;font-family:Menlo,'DejaVu Sans Mono',consolas,'Courier New',monospace\"><span style=\"color: #7f7f7f; text-decoration-color: #7f7f7f\">[DEBUG] Classification result: reentrant, Ground truth: reentrant</span>\n",
       "</pre>\n"
      ]
     },
     "metadata": {},
     "output_type": "display_data"
    },
    {
     "data": {
      "text/plain": [
       "\u001B[2m[DEBUG] Collecting predictions from directory: \u001B[0m\n",
       "\u001B[2m../log/contracts_analysis_both_20250225_104133/reentrant/0xdcaa27ebf3ae8452d2528b4a9526b65ebb10b2dc_reentrancy\u001B[0m\n"
      ],
      "text/html": [
       "<pre style=\"white-space:pre;overflow-x:auto;line-height:normal;font-family:Menlo,'DejaVu Sans Mono',consolas,'Courier New',monospace\"><span style=\"color: #7f7f7f; text-decoration-color: #7f7f7f\">[DEBUG] Collecting predictions from directory: </span>\n",
       "<span style=\"color: #7f7f7f; text-decoration-color: #7f7f7f\">../log/contracts_analysis_both_20250225_104133/reentrant/0xdcaa27ebf3ae8452d2528b4a9526b65ebb10b2dc_reentrancy</span>\n",
       "</pre>\n"
      ]
     },
     "metadata": {},
     "output_type": "display_data"
    },
    {
     "data": {
      "text/plain": [
       "\u001B[2m[DEBUG] Loading JSON file: \u001B[0m\n",
       "\u001B[2m../log/contracts_analysis_both_20250225_104133/reentrant/0xdcaa27ebf3ae8452d2528b4a9526b65ebb10b2dc_reentrancy/anal\u001B[0m\n",
       "\u001B[2mysis_0x0aa19b3e51dd77e482690263c8af26bec2c6542e.json\u001B[0m\n"
      ],
      "text/html": [
       "<pre style=\"white-space:pre;overflow-x:auto;line-height:normal;font-family:Menlo,'DejaVu Sans Mono',consolas,'Courier New',monospace\"><span style=\"color: #7f7f7f; text-decoration-color: #7f7f7f\">[DEBUG] Loading JSON file: </span>\n",
       "<span style=\"color: #7f7f7f; text-decoration-color: #7f7f7f\">../log/contracts_analysis_both_20250225_104133/reentrant/0xdcaa27ebf3ae8452d2528b4a9526b65ebb10b2dc_reentrancy/anal</span>\n",
       "<span style=\"color: #7f7f7f; text-decoration-color: #7f7f7f\">ysis_0x0aa19b3e51dd77e482690263c8af26bec2c6542e.json</span>\n",
       "</pre>\n"
      ]
     },
     "metadata": {},
     "output_type": "display_data"
    },
    {
     "data": {
      "text/plain": [
       "\u001B[2m[DEBUG] Loading JSON file: \u001B[0m\n",
       "\u001B[2m../log/contracts_analysis_both_20250225_104133/reentrant/0xdcaa27ebf3ae8452d2528b4a9526b65ebb10b2dc_reentrancy/anal\u001B[0m\n",
       "\u001B[2mysis_0x0aab3ac447ea90739bdbe4e0e00af0a54038904a.json\u001B[0m\n"
      ],
      "text/html": [
       "<pre style=\"white-space:pre;overflow-x:auto;line-height:normal;font-family:Menlo,'DejaVu Sans Mono',consolas,'Courier New',monospace\"><span style=\"color: #7f7f7f; text-decoration-color: #7f7f7f\">[DEBUG] Loading JSON file: </span>\n",
       "<span style=\"color: #7f7f7f; text-decoration-color: #7f7f7f\">../log/contracts_analysis_both_20250225_104133/reentrant/0xdcaa27ebf3ae8452d2528b4a9526b65ebb10b2dc_reentrancy/anal</span>\n",
       "<span style=\"color: #7f7f7f; text-decoration-color: #7f7f7f\">ysis_0x0aab3ac447ea90739bdbe4e0e00af0a54038904a.json</span>\n",
       "</pre>\n"
      ]
     },
     "metadata": {},
     "output_type": "display_data"
    },
    {
     "data": {
      "text/plain": [
       "\u001B[2m[DEBUG] Loading JSON file: \u001B[0m\n",
       "\u001B[2m../log/contracts_analysis_both_20250225_104133/reentrant/0xdcaa27ebf3ae8452d2528b4a9526b65ebb10b2dc_reentrancy/anal\u001B[0m\n",
       "\u001B[2mysis_0x0a8c3b7e149891ff594e3ad580f8e1769151a07b.json\u001B[0m\n"
      ],
      "text/html": [
       "<pre style=\"white-space:pre;overflow-x:auto;line-height:normal;font-family:Menlo,'DejaVu Sans Mono',consolas,'Courier New',monospace\"><span style=\"color: #7f7f7f; text-decoration-color: #7f7f7f\">[DEBUG] Loading JSON file: </span>\n",
       "<span style=\"color: #7f7f7f; text-decoration-color: #7f7f7f\">../log/contracts_analysis_both_20250225_104133/reentrant/0xdcaa27ebf3ae8452d2528b4a9526b65ebb10b2dc_reentrancy/anal</span>\n",
       "<span style=\"color: #7f7f7f; text-decoration-color: #7f7f7f\">ysis_0x0a8c3b7e149891ff594e3ad580f8e1769151a07b.json</span>\n",
       "</pre>\n"
      ]
     },
     "metadata": {},
     "output_type": "display_data"
    },
    {
     "data": {
      "text/plain": [
       "\u001B[2m[DEBUG] Collected predictions: ['reentrant', 'reentrant', 'reentrant']\u001B[0m\n"
      ],
      "text/html": [
       "<pre style=\"white-space:pre;overflow-x:auto;line-height:normal;font-family:Menlo,'DejaVu Sans Mono',consolas,'Courier New',monospace\"><span style=\"color: #7f7f7f; text-decoration-color: #7f7f7f\">[DEBUG] Collected predictions: ['reentrant', 'reentrant', 'reentrant']</span>\n",
       "</pre>\n"
      ]
     },
     "metadata": {},
     "output_type": "display_data"
    },
    {
     "data": {
      "text/plain": [
       "\u001B[2m[DEBUG] Determined ground truth for \u001B[0m\n",
       "\u001B[2m../log/contracts_analysis_both_20250225_104133/reentrant/0ba1a56bedc9564da325d5d04b095dda: reentrant\u001B[0m\n"
      ],
      "text/html": [
       "<pre style=\"white-space:pre;overflow-x:auto;line-height:normal;font-family:Menlo,'DejaVu Sans Mono',consolas,'Courier New',monospace\"><span style=\"color: #7f7f7f; text-decoration-color: #7f7f7f\">[DEBUG] Determined ground truth for </span>\n",
       "<span style=\"color: #7f7f7f; text-decoration-color: #7f7f7f\">../log/contracts_analysis_both_20250225_104133/reentrant/0ba1a56bedc9564da325d5d04b095dda: reentrant</span>\n",
       "</pre>\n"
      ]
     },
     "metadata": {},
     "output_type": "display_data"
    },
    {
     "data": {
      "text/plain": [
       "\u001B[2m[DEBUG] Processing classification file: \u001B[0m\n",
       "\u001B[2m../log/contracts_analysis_both_20250225_104133/reentrant/0ba1a56bedc9564da325d5d04b095dda/classification.json\u001B[0m\n"
      ],
      "text/html": [
       "<pre style=\"white-space:pre;overflow-x:auto;line-height:normal;font-family:Menlo,'DejaVu Sans Mono',consolas,'Courier New',monospace\"><span style=\"color: #7f7f7f; text-decoration-color: #7f7f7f\">[DEBUG] Processing classification file: </span>\n",
       "<span style=\"color: #7f7f7f; text-decoration-color: #7f7f7f\">../log/contracts_analysis_both_20250225_104133/reentrant/0ba1a56bedc9564da325d5d04b095dda/classification.json</span>\n",
       "</pre>\n"
      ]
     },
     "metadata": {},
     "output_type": "display_data"
    },
    {
     "data": {
      "text/plain": [
       "\u001B[2m[DEBUG] Loading JSON file: \u001B[0m\n",
       "\u001B[2m../log/contracts_analysis_both_20250225_104133/reentrant/0ba1a56bedc9564da325d5d04b095dda/classification.json\u001B[0m\n"
      ],
      "text/html": [
       "<pre style=\"white-space:pre;overflow-x:auto;line-height:normal;font-family:Menlo,'DejaVu Sans Mono',consolas,'Courier New',monospace\"><span style=\"color: #7f7f7f; text-decoration-color: #7f7f7f\">[DEBUG] Loading JSON file: </span>\n",
       "<span style=\"color: #7f7f7f; text-decoration-color: #7f7f7f\">../log/contracts_analysis_both_20250225_104133/reentrant/0ba1a56bedc9564da325d5d04b095dda/classification.json</span>\n",
       "</pre>\n"
      ]
     },
     "metadata": {},
     "output_type": "display_data"
    },
    {
     "data": {
      "text/plain": [
       "\u001B[2m[DEBUG] Classification result: safe, Ground truth: reentrant\u001B[0m\n"
      ],
      "text/html": [
       "<pre style=\"white-space:pre;overflow-x:auto;line-height:normal;font-family:Menlo,'DejaVu Sans Mono',consolas,'Courier New',monospace\"><span style=\"color: #7f7f7f; text-decoration-color: #7f7f7f\">[DEBUG] Classification result: safe, Ground truth: reentrant</span>\n",
       "</pre>\n"
      ]
     },
     "metadata": {},
     "output_type": "display_data"
    },
    {
     "data": {
      "text/plain": [
       "\u001B[2m[DEBUG] Collecting predictions from directory: \u001B[0m\n",
       "\u001B[2m../log/contracts_analysis_both_20250225_104133/reentrant/0ba1a56bedc9564da325d5d04b095dda\u001B[0m\n"
      ],
      "text/html": [
       "<pre style=\"white-space:pre;overflow-x:auto;line-height:normal;font-family:Menlo,'DejaVu Sans Mono',consolas,'Courier New',monospace\"><span style=\"color: #7f7f7f; text-decoration-color: #7f7f7f\">[DEBUG] Collecting predictions from directory: </span>\n",
       "<span style=\"color: #7f7f7f; text-decoration-color: #7f7f7f\">../log/contracts_analysis_both_20250225_104133/reentrant/0ba1a56bedc9564da325d5d04b095dda</span>\n",
       "</pre>\n"
      ]
     },
     "metadata": {},
     "output_type": "display_data"
    },
    {
     "data": {
      "text/plain": [
       "\u001B[2m[DEBUG] Loading JSON file: \u001B[0m\n",
       "\u001B[2m../log/contracts_analysis_both_20250225_104133/reentrant/0ba1a56bedc9564da325d5d04b095dda/analysis_0x0aa19b3e51dd77\u001B[0m\n",
       "\u001B[2me482690263c8af26bec2c6542e.json\u001B[0m\n"
      ],
      "text/html": [
       "<pre style=\"white-space:pre;overflow-x:auto;line-height:normal;font-family:Menlo,'DejaVu Sans Mono',consolas,'Courier New',monospace\"><span style=\"color: #7f7f7f; text-decoration-color: #7f7f7f\">[DEBUG] Loading JSON file: </span>\n",
       "<span style=\"color: #7f7f7f; text-decoration-color: #7f7f7f\">../log/contracts_analysis_both_20250225_104133/reentrant/0ba1a56bedc9564da325d5d04b095dda/analysis_0x0aa19b3e51dd77</span>\n",
       "<span style=\"color: #7f7f7f; text-decoration-color: #7f7f7f\">e482690263c8af26bec2c6542e.json</span>\n",
       "</pre>\n"
      ]
     },
     "metadata": {},
     "output_type": "display_data"
    },
    {
     "data": {
      "text/plain": [
       "\u001B[2m[DEBUG] Loading JSON file: \u001B[0m\n",
       "\u001B[2m../log/contracts_analysis_both_20250225_104133/reentrant/0ba1a56bedc9564da325d5d04b095dda/analysis_0x0aab3ac447ea90\u001B[0m\n",
       "\u001B[2m739bdbe4e0e00af0a54038904a.json\u001B[0m\n"
      ],
      "text/html": [
       "<pre style=\"white-space:pre;overflow-x:auto;line-height:normal;font-family:Menlo,'DejaVu Sans Mono',consolas,'Courier New',monospace\"><span style=\"color: #7f7f7f; text-decoration-color: #7f7f7f\">[DEBUG] Loading JSON file: </span>\n",
       "<span style=\"color: #7f7f7f; text-decoration-color: #7f7f7f\">../log/contracts_analysis_both_20250225_104133/reentrant/0ba1a56bedc9564da325d5d04b095dda/analysis_0x0aab3ac447ea90</span>\n",
       "<span style=\"color: #7f7f7f; text-decoration-color: #7f7f7f\">739bdbe4e0e00af0a54038904a.json</span>\n",
       "</pre>\n"
      ]
     },
     "metadata": {},
     "output_type": "display_data"
    },
    {
     "data": {
      "text/plain": [
       "\u001B[2m[DEBUG] Loading JSON file: \u001B[0m\n",
       "\u001B[2m../log/contracts_analysis_both_20250225_104133/reentrant/0ba1a56bedc9564da325d5d04b095dda/analysis_0x0a8c3b7e149891\u001B[0m\n",
       "\u001B[2mff594e3ad580f8e1769151a07b.json\u001B[0m\n"
      ],
      "text/html": [
       "<pre style=\"white-space:pre;overflow-x:auto;line-height:normal;font-family:Menlo,'DejaVu Sans Mono',consolas,'Courier New',monospace\"><span style=\"color: #7f7f7f; text-decoration-color: #7f7f7f\">[DEBUG] Loading JSON file: </span>\n",
       "<span style=\"color: #7f7f7f; text-decoration-color: #7f7f7f\">../log/contracts_analysis_both_20250225_104133/reentrant/0ba1a56bedc9564da325d5d04b095dda/analysis_0x0a8c3b7e149891</span>\n",
       "<span style=\"color: #7f7f7f; text-decoration-color: #7f7f7f\">ff594e3ad580f8e1769151a07b.json</span>\n",
       "</pre>\n"
      ]
     },
     "metadata": {},
     "output_type": "display_data"
    },
    {
     "data": {
      "text/plain": [
       "\u001B[2m[DEBUG] Collected predictions: ['reentrant', 'reentrant', 'reentrant']\u001B[0m\n"
      ],
      "text/html": [
       "<pre style=\"white-space:pre;overflow-x:auto;line-height:normal;font-family:Menlo,'DejaVu Sans Mono',consolas,'Courier New',monospace\"><span style=\"color: #7f7f7f; text-decoration-color: #7f7f7f\">[DEBUG] Collected predictions: ['reentrant', 'reentrant', 'reentrant']</span>\n",
       "</pre>\n"
      ]
     },
     "metadata": {},
     "output_type": "display_data"
    },
    {
     "data": {
      "text/plain": [
       "\u001B[2m[DEBUG] Determined ground truth for \u001B[0m\n",
       "\u001B[2m../log/contracts_analysis_both_20250225_104133/reentrant/0x2e320fe846581f2ddc73ca391cbbe01d9968d5fb_reentrancy: \u001B[0m\n",
       "\u001B[2mreentrant\u001B[0m\n"
      ],
      "text/html": [
       "<pre style=\"white-space:pre;overflow-x:auto;line-height:normal;font-family:Menlo,'DejaVu Sans Mono',consolas,'Courier New',monospace\"><span style=\"color: #7f7f7f; text-decoration-color: #7f7f7f\">[DEBUG] Determined ground truth for </span>\n",
       "<span style=\"color: #7f7f7f; text-decoration-color: #7f7f7f\">../log/contracts_analysis_both_20250225_104133/reentrant/0x2e320fe846581f2ddc73ca391cbbe01d9968d5fb_reentrancy: </span>\n",
       "<span style=\"color: #7f7f7f; text-decoration-color: #7f7f7f\">reentrant</span>\n",
       "</pre>\n"
      ]
     },
     "metadata": {},
     "output_type": "display_data"
    },
    {
     "data": {
      "text/plain": [
       "\u001B[2m[DEBUG] Processing classification file: \u001B[0m\n",
       "\u001B[2m../log/contracts_analysis_both_20250225_104133/reentrant/0x2e320fe846581f2ddc73ca391cbbe01d9968d5fb_reentrancy/clas\u001B[0m\n",
       "\u001B[2msification.json\u001B[0m\n"
      ],
      "text/html": [
       "<pre style=\"white-space:pre;overflow-x:auto;line-height:normal;font-family:Menlo,'DejaVu Sans Mono',consolas,'Courier New',monospace\"><span style=\"color: #7f7f7f; text-decoration-color: #7f7f7f\">[DEBUG] Processing classification file: </span>\n",
       "<span style=\"color: #7f7f7f; text-decoration-color: #7f7f7f\">../log/contracts_analysis_both_20250225_104133/reentrant/0x2e320fe846581f2ddc73ca391cbbe01d9968d5fb_reentrancy/clas</span>\n",
       "<span style=\"color: #7f7f7f; text-decoration-color: #7f7f7f\">sification.json</span>\n",
       "</pre>\n"
      ]
     },
     "metadata": {},
     "output_type": "display_data"
    },
    {
     "data": {
      "text/plain": [
       "\u001B[2m[DEBUG] Loading JSON file: \u001B[0m\n",
       "\u001B[2m../log/contracts_analysis_both_20250225_104133/reentrant/0x2e320fe846581f2ddc73ca391cbbe01d9968d5fb_reentrancy/clas\u001B[0m\n",
       "\u001B[2msification.json\u001B[0m\n"
      ],
      "text/html": [
       "<pre style=\"white-space:pre;overflow-x:auto;line-height:normal;font-family:Menlo,'DejaVu Sans Mono',consolas,'Courier New',monospace\"><span style=\"color: #7f7f7f; text-decoration-color: #7f7f7f\">[DEBUG] Loading JSON file: </span>\n",
       "<span style=\"color: #7f7f7f; text-decoration-color: #7f7f7f\">../log/contracts_analysis_both_20250225_104133/reentrant/0x2e320fe846581f2ddc73ca391cbbe01d9968d5fb_reentrancy/clas</span>\n",
       "<span style=\"color: #7f7f7f; text-decoration-color: #7f7f7f\">sification.json</span>\n",
       "</pre>\n"
      ]
     },
     "metadata": {},
     "output_type": "display_data"
    },
    {
     "data": {
      "text/plain": [
       "\u001B[2m[DEBUG] Classification result: safe, Ground truth: reentrant\u001B[0m\n"
      ],
      "text/html": [
       "<pre style=\"white-space:pre;overflow-x:auto;line-height:normal;font-family:Menlo,'DejaVu Sans Mono',consolas,'Courier New',monospace\"><span style=\"color: #7f7f7f; text-decoration-color: #7f7f7f\">[DEBUG] Classification result: safe, Ground truth: reentrant</span>\n",
       "</pre>\n"
      ]
     },
     "metadata": {},
     "output_type": "display_data"
    },
    {
     "data": {
      "text/plain": [
       "\u001B[2m[DEBUG] Collecting predictions from directory: \u001B[0m\n",
       "\u001B[2m../log/contracts_analysis_both_20250225_104133/reentrant/0x2e320fe846581f2ddc73ca391cbbe01d9968d5fb_reentrancy\u001B[0m\n"
      ],
      "text/html": [
       "<pre style=\"white-space:pre;overflow-x:auto;line-height:normal;font-family:Menlo,'DejaVu Sans Mono',consolas,'Courier New',monospace\"><span style=\"color: #7f7f7f; text-decoration-color: #7f7f7f\">[DEBUG] Collecting predictions from directory: </span>\n",
       "<span style=\"color: #7f7f7f; text-decoration-color: #7f7f7f\">../log/contracts_analysis_both_20250225_104133/reentrant/0x2e320fe846581f2ddc73ca391cbbe01d9968d5fb_reentrancy</span>\n",
       "</pre>\n"
      ]
     },
     "metadata": {},
     "output_type": "display_data"
    },
    {
     "data": {
      "text/plain": [
       "\u001B[2m[DEBUG] Loading JSON file: \u001B[0m\n",
       "\u001B[2m../log/contracts_analysis_both_20250225_104133/reentrant/0x2e320fe846581f2ddc73ca391cbbe01d9968d5fb_reentrancy/anal\u001B[0m\n",
       "\u001B[2mysis_0x0aa19b3e51dd77e482690263c8af26bec2c6542e.json\u001B[0m\n"
      ],
      "text/html": [
       "<pre style=\"white-space:pre;overflow-x:auto;line-height:normal;font-family:Menlo,'DejaVu Sans Mono',consolas,'Courier New',monospace\"><span style=\"color: #7f7f7f; text-decoration-color: #7f7f7f\">[DEBUG] Loading JSON file: </span>\n",
       "<span style=\"color: #7f7f7f; text-decoration-color: #7f7f7f\">../log/contracts_analysis_both_20250225_104133/reentrant/0x2e320fe846581f2ddc73ca391cbbe01d9968d5fb_reentrancy/anal</span>\n",
       "<span style=\"color: #7f7f7f; text-decoration-color: #7f7f7f\">ysis_0x0aa19b3e51dd77e482690263c8af26bec2c6542e.json</span>\n",
       "</pre>\n"
      ]
     },
     "metadata": {},
     "output_type": "display_data"
    },
    {
     "data": {
      "text/plain": [
       "\u001B[2m[DEBUG] Loading JSON file: \u001B[0m\n",
       "\u001B[2m../log/contracts_analysis_both_20250225_104133/reentrant/0x2e320fe846581f2ddc73ca391cbbe01d9968d5fb_reentrancy/anal\u001B[0m\n",
       "\u001B[2mysis_0x0aab3ac447ea90739bdbe4e0e00af0a54038904a.json\u001B[0m\n"
      ],
      "text/html": [
       "<pre style=\"white-space:pre;overflow-x:auto;line-height:normal;font-family:Menlo,'DejaVu Sans Mono',consolas,'Courier New',monospace\"><span style=\"color: #7f7f7f; text-decoration-color: #7f7f7f\">[DEBUG] Loading JSON file: </span>\n",
       "<span style=\"color: #7f7f7f; text-decoration-color: #7f7f7f\">../log/contracts_analysis_both_20250225_104133/reentrant/0x2e320fe846581f2ddc73ca391cbbe01d9968d5fb_reentrancy/anal</span>\n",
       "<span style=\"color: #7f7f7f; text-decoration-color: #7f7f7f\">ysis_0x0aab3ac447ea90739bdbe4e0e00af0a54038904a.json</span>\n",
       "</pre>\n"
      ]
     },
     "metadata": {},
     "output_type": "display_data"
    },
    {
     "data": {
      "text/plain": [
       "\u001B[2m[DEBUG] Loading JSON file: \u001B[0m\n",
       "\u001B[2m../log/contracts_analysis_both_20250225_104133/reentrant/0x2e320fe846581f2ddc73ca391cbbe01d9968d5fb_reentrancy/anal\u001B[0m\n",
       "\u001B[2mysis_0x0a8c3b7e149891ff594e3ad580f8e1769151a07b.json\u001B[0m\n"
      ],
      "text/html": [
       "<pre style=\"white-space:pre;overflow-x:auto;line-height:normal;font-family:Menlo,'DejaVu Sans Mono',consolas,'Courier New',monospace\"><span style=\"color: #7f7f7f; text-decoration-color: #7f7f7f\">[DEBUG] Loading JSON file: </span>\n",
       "<span style=\"color: #7f7f7f; text-decoration-color: #7f7f7f\">../log/contracts_analysis_both_20250225_104133/reentrant/0x2e320fe846581f2ddc73ca391cbbe01d9968d5fb_reentrancy/anal</span>\n",
       "<span style=\"color: #7f7f7f; text-decoration-color: #7f7f7f\">ysis_0x0a8c3b7e149891ff594e3ad580f8e1769151a07b.json</span>\n",
       "</pre>\n"
      ]
     },
     "metadata": {},
     "output_type": "display_data"
    },
    {
     "data": {
      "text/plain": [
       "\u001B[2m[DEBUG] Collected predictions: ['reentrant', 'reentrant', 'reentrant']\u001B[0m\n"
      ],
      "text/html": [
       "<pre style=\"white-space:pre;overflow-x:auto;line-height:normal;font-family:Menlo,'DejaVu Sans Mono',consolas,'Courier New',monospace\"><span style=\"color: #7f7f7f; text-decoration-color: #7f7f7f\">[DEBUG] Collected predictions: ['reentrant', 'reentrant', 'reentrant']</span>\n",
       "</pre>\n"
      ]
     },
     "metadata": {},
     "output_type": "display_data"
    },
    {
     "data": {
      "text/plain": [
       "\u001B[2m[DEBUG] Determined ground truth for \u001B[0m\n",
       "\u001B[2m../log/contracts_analysis_both_20250225_104133/reentrant/0x2a98d8fc14b31b346ff6c56dc2a252c434f628f2: reentrant\u001B[0m\n"
      ],
      "text/html": [
       "<pre style=\"white-space:pre;overflow-x:auto;line-height:normal;font-family:Menlo,'DejaVu Sans Mono',consolas,'Courier New',monospace\"><span style=\"color: #7f7f7f; text-decoration-color: #7f7f7f\">[DEBUG] Determined ground truth for </span>\n",
       "<span style=\"color: #7f7f7f; text-decoration-color: #7f7f7f\">../log/contracts_analysis_both_20250225_104133/reentrant/0x2a98d8fc14b31b346ff6c56dc2a252c434f628f2: reentrant</span>\n",
       "</pre>\n"
      ]
     },
     "metadata": {},
     "output_type": "display_data"
    },
    {
     "data": {
      "text/plain": [
       "\u001B[2m[DEBUG] Processing classification file: \u001B[0m\n",
       "\u001B[2m../log/contracts_analysis_both_20250225_104133/reentrant/0x2a98d8fc14b31b346ff6c56dc2a252c434f628f2/classification.\u001B[0m\n",
       "\u001B[2mjson\u001B[0m\n"
      ],
      "text/html": [
       "<pre style=\"white-space:pre;overflow-x:auto;line-height:normal;font-family:Menlo,'DejaVu Sans Mono',consolas,'Courier New',monospace\"><span style=\"color: #7f7f7f; text-decoration-color: #7f7f7f\">[DEBUG] Processing classification file: </span>\n",
       "<span style=\"color: #7f7f7f; text-decoration-color: #7f7f7f\">../log/contracts_analysis_both_20250225_104133/reentrant/0x2a98d8fc14b31b346ff6c56dc2a252c434f628f2/classification.</span>\n",
       "<span style=\"color: #7f7f7f; text-decoration-color: #7f7f7f\">json</span>\n",
       "</pre>\n"
      ]
     },
     "metadata": {},
     "output_type": "display_data"
    },
    {
     "data": {
      "text/plain": [
       "\u001B[2m[DEBUG] Loading JSON file: \u001B[0m\n",
       "\u001B[2m../log/contracts_analysis_both_20250225_104133/reentrant/0x2a98d8fc14b31b346ff6c56dc2a252c434f628f2/classification.\u001B[0m\n",
       "\u001B[2mjson\u001B[0m\n"
      ],
      "text/html": [
       "<pre style=\"white-space:pre;overflow-x:auto;line-height:normal;font-family:Menlo,'DejaVu Sans Mono',consolas,'Courier New',monospace\"><span style=\"color: #7f7f7f; text-decoration-color: #7f7f7f\">[DEBUG] Loading JSON file: </span>\n",
       "<span style=\"color: #7f7f7f; text-decoration-color: #7f7f7f\">../log/contracts_analysis_both_20250225_104133/reentrant/0x2a98d8fc14b31b346ff6c56dc2a252c434f628f2/classification.</span>\n",
       "<span style=\"color: #7f7f7f; text-decoration-color: #7f7f7f\">json</span>\n",
       "</pre>\n"
      ]
     },
     "metadata": {},
     "output_type": "display_data"
    },
    {
     "data": {
      "text/plain": [
       "\u001B[2m[DEBUG] Classification result: reentrant, Ground truth: reentrant\u001B[0m\n"
      ],
      "text/html": [
       "<pre style=\"white-space:pre;overflow-x:auto;line-height:normal;font-family:Menlo,'DejaVu Sans Mono',consolas,'Courier New',monospace\"><span style=\"color: #7f7f7f; text-decoration-color: #7f7f7f\">[DEBUG] Classification result: reentrant, Ground truth: reentrant</span>\n",
       "</pre>\n"
      ]
     },
     "metadata": {},
     "output_type": "display_data"
    },
    {
     "data": {
      "text/plain": [
       "\u001B[2m[DEBUG] Collecting predictions from directory: \u001B[0m\n",
       "\u001B[2m../log/contracts_analysis_both_20250225_104133/reentrant/0x2a98d8fc14b31b346ff6c56dc2a252c434f628f2\u001B[0m\n"
      ],
      "text/html": [
       "<pre style=\"white-space:pre;overflow-x:auto;line-height:normal;font-family:Menlo,'DejaVu Sans Mono',consolas,'Courier New',monospace\"><span style=\"color: #7f7f7f; text-decoration-color: #7f7f7f\">[DEBUG] Collecting predictions from directory: </span>\n",
       "<span style=\"color: #7f7f7f; text-decoration-color: #7f7f7f\">../log/contracts_analysis_both_20250225_104133/reentrant/0x2a98d8fc14b31b346ff6c56dc2a252c434f628f2</span>\n",
       "</pre>\n"
      ]
     },
     "metadata": {},
     "output_type": "display_data"
    },
    {
     "data": {
      "text/plain": [
       "\u001B[2m[DEBUG] Loading JSON file: \u001B[0m\n",
       "\u001B[2m../log/contracts_analysis_both_20250225_104133/reentrant/0x2a98d8fc14b31b346ff6c56dc2a252c434f628f2/analysis_0x0aa1\u001B[0m\n",
       "\u001B[2m9b3e51dd77e482690263c8af26bec2c6542e.json\u001B[0m\n"
      ],
      "text/html": [
       "<pre style=\"white-space:pre;overflow-x:auto;line-height:normal;font-family:Menlo,'DejaVu Sans Mono',consolas,'Courier New',monospace\"><span style=\"color: #7f7f7f; text-decoration-color: #7f7f7f\">[DEBUG] Loading JSON file: </span>\n",
       "<span style=\"color: #7f7f7f; text-decoration-color: #7f7f7f\">../log/contracts_analysis_both_20250225_104133/reentrant/0x2a98d8fc14b31b346ff6c56dc2a252c434f628f2/analysis_0x0aa1</span>\n",
       "<span style=\"color: #7f7f7f; text-decoration-color: #7f7f7f\">9b3e51dd77e482690263c8af26bec2c6542e.json</span>\n",
       "</pre>\n"
      ]
     },
     "metadata": {},
     "output_type": "display_data"
    },
    {
     "data": {
      "text/plain": [
       "\u001B[2m[DEBUG] Loading JSON file: \u001B[0m\n",
       "\u001B[2m../log/contracts_analysis_both_20250225_104133/reentrant/0x2a98d8fc14b31b346ff6c56dc2a252c434f628f2/analysis_0x0aab\u001B[0m\n",
       "\u001B[2m3ac447ea90739bdbe4e0e00af0a54038904a.json\u001B[0m\n"
      ],
      "text/html": [
       "<pre style=\"white-space:pre;overflow-x:auto;line-height:normal;font-family:Menlo,'DejaVu Sans Mono',consolas,'Courier New',monospace\"><span style=\"color: #7f7f7f; text-decoration-color: #7f7f7f\">[DEBUG] Loading JSON file: </span>\n",
       "<span style=\"color: #7f7f7f; text-decoration-color: #7f7f7f\">../log/contracts_analysis_both_20250225_104133/reentrant/0x2a98d8fc14b31b346ff6c56dc2a252c434f628f2/analysis_0x0aab</span>\n",
       "<span style=\"color: #7f7f7f; text-decoration-color: #7f7f7f\">3ac447ea90739bdbe4e0e00af0a54038904a.json</span>\n",
       "</pre>\n"
      ]
     },
     "metadata": {},
     "output_type": "display_data"
    },
    {
     "data": {
      "text/plain": [
       "\u001B[2m[DEBUG] Loading JSON file: \u001B[0m\n",
       "\u001B[2m../log/contracts_analysis_both_20250225_104133/reentrant/0x2a98d8fc14b31b346ff6c56dc2a252c434f628f2/analysis_0x0a8c\u001B[0m\n",
       "\u001B[2m3b7e149891ff594e3ad580f8e1769151a07b.json\u001B[0m\n"
      ],
      "text/html": [
       "<pre style=\"white-space:pre;overflow-x:auto;line-height:normal;font-family:Menlo,'DejaVu Sans Mono',consolas,'Courier New',monospace\"><span style=\"color: #7f7f7f; text-decoration-color: #7f7f7f\">[DEBUG] Loading JSON file: </span>\n",
       "<span style=\"color: #7f7f7f; text-decoration-color: #7f7f7f\">../log/contracts_analysis_both_20250225_104133/reentrant/0x2a98d8fc14b31b346ff6c56dc2a252c434f628f2/analysis_0x0a8c</span>\n",
       "<span style=\"color: #7f7f7f; text-decoration-color: #7f7f7f\">3b7e149891ff594e3ad580f8e1769151a07b.json</span>\n",
       "</pre>\n"
      ]
     },
     "metadata": {},
     "output_type": "display_data"
    },
    {
     "data": {
      "text/plain": [
       "\u001B[2m[DEBUG] Collected predictions: ['reentrant', 'reentrant', 'reentrant']\u001B[0m\n"
      ],
      "text/html": [
       "<pre style=\"white-space:pre;overflow-x:auto;line-height:normal;font-family:Menlo,'DejaVu Sans Mono',consolas,'Courier New',monospace\"><span style=\"color: #7f7f7f; text-decoration-color: #7f7f7f\">[DEBUG] Collected predictions: ['reentrant', 'reentrant', 'reentrant']</span>\n",
       "</pre>\n"
      ]
     },
     "metadata": {},
     "output_type": "display_data"
    },
    {
     "data": {
      "text/plain": [
       "\u001B[2m[DEBUG] Determined ground truth for \u001B[0m\n",
       "\u001B[2m../log/contracts_analysis_both_20250225_104133/reentrant/0x5890f3bb950d0f8a2f7caa7bb5119d8b69495665_reentrancy: \u001B[0m\n",
       "\u001B[2mreentrant\u001B[0m\n"
      ],
      "text/html": [
       "<pre style=\"white-space:pre;overflow-x:auto;line-height:normal;font-family:Menlo,'DejaVu Sans Mono',consolas,'Courier New',monospace\"><span style=\"color: #7f7f7f; text-decoration-color: #7f7f7f\">[DEBUG] Determined ground truth for </span>\n",
       "<span style=\"color: #7f7f7f; text-decoration-color: #7f7f7f\">../log/contracts_analysis_both_20250225_104133/reentrant/0x5890f3bb950d0f8a2f7caa7bb5119d8b69495665_reentrancy: </span>\n",
       "<span style=\"color: #7f7f7f; text-decoration-color: #7f7f7f\">reentrant</span>\n",
       "</pre>\n"
      ]
     },
     "metadata": {},
     "output_type": "display_data"
    },
    {
     "data": {
      "text/plain": [
       "\u001B[2m[DEBUG] Processing classification file: \u001B[0m\n",
       "\u001B[2m../log/contracts_analysis_both_20250225_104133/reentrant/0x5890f3bb950d0f8a2f7caa7bb5119d8b69495665_reentrancy/clas\u001B[0m\n",
       "\u001B[2msification.json\u001B[0m\n"
      ],
      "text/html": [
       "<pre style=\"white-space:pre;overflow-x:auto;line-height:normal;font-family:Menlo,'DejaVu Sans Mono',consolas,'Courier New',monospace\"><span style=\"color: #7f7f7f; text-decoration-color: #7f7f7f\">[DEBUG] Processing classification file: </span>\n",
       "<span style=\"color: #7f7f7f; text-decoration-color: #7f7f7f\">../log/contracts_analysis_both_20250225_104133/reentrant/0x5890f3bb950d0f8a2f7caa7bb5119d8b69495665_reentrancy/clas</span>\n",
       "<span style=\"color: #7f7f7f; text-decoration-color: #7f7f7f\">sification.json</span>\n",
       "</pre>\n"
      ]
     },
     "metadata": {},
     "output_type": "display_data"
    },
    {
     "data": {
      "text/plain": [
       "\u001B[2m[DEBUG] Loading JSON file: \u001B[0m\n",
       "\u001B[2m../log/contracts_analysis_both_20250225_104133/reentrant/0x5890f3bb950d0f8a2f7caa7bb5119d8b69495665_reentrancy/clas\u001B[0m\n",
       "\u001B[2msification.json\u001B[0m\n"
      ],
      "text/html": [
       "<pre style=\"white-space:pre;overflow-x:auto;line-height:normal;font-family:Menlo,'DejaVu Sans Mono',consolas,'Courier New',monospace\"><span style=\"color: #7f7f7f; text-decoration-color: #7f7f7f\">[DEBUG] Loading JSON file: </span>\n",
       "<span style=\"color: #7f7f7f; text-decoration-color: #7f7f7f\">../log/contracts_analysis_both_20250225_104133/reentrant/0x5890f3bb950d0f8a2f7caa7bb5119d8b69495665_reentrancy/clas</span>\n",
       "<span style=\"color: #7f7f7f; text-decoration-color: #7f7f7f\">sification.json</span>\n",
       "</pre>\n"
      ]
     },
     "metadata": {},
     "output_type": "display_data"
    },
    {
     "data": {
      "text/plain": [
       "\u001B[2m[DEBUG] Classification result: safe, Ground truth: reentrant\u001B[0m\n"
      ],
      "text/html": [
       "<pre style=\"white-space:pre;overflow-x:auto;line-height:normal;font-family:Menlo,'DejaVu Sans Mono',consolas,'Courier New',monospace\"><span style=\"color: #7f7f7f; text-decoration-color: #7f7f7f\">[DEBUG] Classification result: safe, Ground truth: reentrant</span>\n",
       "</pre>\n"
      ]
     },
     "metadata": {},
     "output_type": "display_data"
    },
    {
     "data": {
      "text/plain": [
       "\u001B[2m[DEBUG] Collecting predictions from directory: \u001B[0m\n",
       "\u001B[2m../log/contracts_analysis_both_20250225_104133/reentrant/0x5890f3bb950d0f8a2f7caa7bb5119d8b69495665_reentrancy\u001B[0m\n"
      ],
      "text/html": [
       "<pre style=\"white-space:pre;overflow-x:auto;line-height:normal;font-family:Menlo,'DejaVu Sans Mono',consolas,'Courier New',monospace\"><span style=\"color: #7f7f7f; text-decoration-color: #7f7f7f\">[DEBUG] Collecting predictions from directory: </span>\n",
       "<span style=\"color: #7f7f7f; text-decoration-color: #7f7f7f\">../log/contracts_analysis_both_20250225_104133/reentrant/0x5890f3bb950d0f8a2f7caa7bb5119d8b69495665_reentrancy</span>\n",
       "</pre>\n"
      ]
     },
     "metadata": {},
     "output_type": "display_data"
    },
    {
     "data": {
      "text/plain": [
       "\u001B[2m[DEBUG] Loading JSON file: \u001B[0m\n",
       "\u001B[2m../log/contracts_analysis_both_20250225_104133/reentrant/0x5890f3bb950d0f8a2f7caa7bb5119d8b69495665_reentrancy/anal\u001B[0m\n",
       "\u001B[2mysis_0x0aa19b3e51dd77e482690263c8af26bec2c6542e.json\u001B[0m\n"
      ],
      "text/html": [
       "<pre style=\"white-space:pre;overflow-x:auto;line-height:normal;font-family:Menlo,'DejaVu Sans Mono',consolas,'Courier New',monospace\"><span style=\"color: #7f7f7f; text-decoration-color: #7f7f7f\">[DEBUG] Loading JSON file: </span>\n",
       "<span style=\"color: #7f7f7f; text-decoration-color: #7f7f7f\">../log/contracts_analysis_both_20250225_104133/reentrant/0x5890f3bb950d0f8a2f7caa7bb5119d8b69495665_reentrancy/anal</span>\n",
       "<span style=\"color: #7f7f7f; text-decoration-color: #7f7f7f\">ysis_0x0aa19b3e51dd77e482690263c8af26bec2c6542e.json</span>\n",
       "</pre>\n"
      ]
     },
     "metadata": {},
     "output_type": "display_data"
    },
    {
     "data": {
      "text/plain": [
       "\u001B[2m[DEBUG] Loading JSON file: \u001B[0m\n",
       "\u001B[2m../log/contracts_analysis_both_20250225_104133/reentrant/0x5890f3bb950d0f8a2f7caa7bb5119d8b69495665_reentrancy/anal\u001B[0m\n",
       "\u001B[2mysis_0x0aab3ac447ea90739bdbe4e0e00af0a54038904a.json\u001B[0m\n"
      ],
      "text/html": [
       "<pre style=\"white-space:pre;overflow-x:auto;line-height:normal;font-family:Menlo,'DejaVu Sans Mono',consolas,'Courier New',monospace\"><span style=\"color: #7f7f7f; text-decoration-color: #7f7f7f\">[DEBUG] Loading JSON file: </span>\n",
       "<span style=\"color: #7f7f7f; text-decoration-color: #7f7f7f\">../log/contracts_analysis_both_20250225_104133/reentrant/0x5890f3bb950d0f8a2f7caa7bb5119d8b69495665_reentrancy/anal</span>\n",
       "<span style=\"color: #7f7f7f; text-decoration-color: #7f7f7f\">ysis_0x0aab3ac447ea90739bdbe4e0e00af0a54038904a.json</span>\n",
       "</pre>\n"
      ]
     },
     "metadata": {},
     "output_type": "display_data"
    },
    {
     "data": {
      "text/plain": [
       "\u001B[2m[DEBUG] Loading JSON file: \u001B[0m\n",
       "\u001B[2m../log/contracts_analysis_both_20250225_104133/reentrant/0x5890f3bb950d0f8a2f7caa7bb5119d8b69495665_reentrancy/anal\u001B[0m\n",
       "\u001B[2mysis_0x0a8c3b7e149891ff594e3ad580f8e1769151a07b.json\u001B[0m\n"
      ],
      "text/html": [
       "<pre style=\"white-space:pre;overflow-x:auto;line-height:normal;font-family:Menlo,'DejaVu Sans Mono',consolas,'Courier New',monospace\"><span style=\"color: #7f7f7f; text-decoration-color: #7f7f7f\">[DEBUG] Loading JSON file: </span>\n",
       "<span style=\"color: #7f7f7f; text-decoration-color: #7f7f7f\">../log/contracts_analysis_both_20250225_104133/reentrant/0x5890f3bb950d0f8a2f7caa7bb5119d8b69495665_reentrancy/anal</span>\n",
       "<span style=\"color: #7f7f7f; text-decoration-color: #7f7f7f\">ysis_0x0a8c3b7e149891ff594e3ad580f8e1769151a07b.json</span>\n",
       "</pre>\n"
      ]
     },
     "metadata": {},
     "output_type": "display_data"
    },
    {
     "data": {
      "text/plain": [
       "\u001B[2m[DEBUG] Collected predictions: ['reentrant', 'reentrant', 'reentrant']\u001B[0m\n"
      ],
      "text/html": [
       "<pre style=\"white-space:pre;overflow-x:auto;line-height:normal;font-family:Menlo,'DejaVu Sans Mono',consolas,'Courier New',monospace\"><span style=\"color: #7f7f7f; text-decoration-color: #7f7f7f\">[DEBUG] Collected predictions: ['reentrant', 'reentrant', 'reentrant']</span>\n",
       "</pre>\n"
      ]
     },
     "metadata": {},
     "output_type": "display_data"
    },
    {
     "data": {
      "text/plain": [
       "\u001B[2m[DEBUG] Determined ground truth for \u001B[0m\n",
       "\u001B[2m../log/contracts_analysis_both_20250225_104133/reentrant/0x76a6b003c39c1eb38b96aaaa1f551e4c6ad3de5c_reentrancy: \u001B[0m\n",
       "\u001B[2mreentrant\u001B[0m\n"
      ],
      "text/html": [
       "<pre style=\"white-space:pre;overflow-x:auto;line-height:normal;font-family:Menlo,'DejaVu Sans Mono',consolas,'Courier New',monospace\"><span style=\"color: #7f7f7f; text-decoration-color: #7f7f7f\">[DEBUG] Determined ground truth for </span>\n",
       "<span style=\"color: #7f7f7f; text-decoration-color: #7f7f7f\">../log/contracts_analysis_both_20250225_104133/reentrant/0x76a6b003c39c1eb38b96aaaa1f551e4c6ad3de5c_reentrancy: </span>\n",
       "<span style=\"color: #7f7f7f; text-decoration-color: #7f7f7f\">reentrant</span>\n",
       "</pre>\n"
      ]
     },
     "metadata": {},
     "output_type": "display_data"
    },
    {
     "data": {
      "text/plain": [
       "\u001B[2m[DEBUG] Processing classification file: \u001B[0m\n",
       "\u001B[2m../log/contracts_analysis_both_20250225_104133/reentrant/0x76a6b003c39c1eb38b96aaaa1f551e4c6ad3de5c_reentrancy/clas\u001B[0m\n",
       "\u001B[2msification.json\u001B[0m\n"
      ],
      "text/html": [
       "<pre style=\"white-space:pre;overflow-x:auto;line-height:normal;font-family:Menlo,'DejaVu Sans Mono',consolas,'Courier New',monospace\"><span style=\"color: #7f7f7f; text-decoration-color: #7f7f7f\">[DEBUG] Processing classification file: </span>\n",
       "<span style=\"color: #7f7f7f; text-decoration-color: #7f7f7f\">../log/contracts_analysis_both_20250225_104133/reentrant/0x76a6b003c39c1eb38b96aaaa1f551e4c6ad3de5c_reentrancy/clas</span>\n",
       "<span style=\"color: #7f7f7f; text-decoration-color: #7f7f7f\">sification.json</span>\n",
       "</pre>\n"
      ]
     },
     "metadata": {},
     "output_type": "display_data"
    },
    {
     "data": {
      "text/plain": [
       "\u001B[2m[DEBUG] Loading JSON file: \u001B[0m\n",
       "\u001B[2m../log/contracts_analysis_both_20250225_104133/reentrant/0x76a6b003c39c1eb38b96aaaa1f551e4c6ad3de5c_reentrancy/clas\u001B[0m\n",
       "\u001B[2msification.json\u001B[0m\n"
      ],
      "text/html": [
       "<pre style=\"white-space:pre;overflow-x:auto;line-height:normal;font-family:Menlo,'DejaVu Sans Mono',consolas,'Courier New',monospace\"><span style=\"color: #7f7f7f; text-decoration-color: #7f7f7f\">[DEBUG] Loading JSON file: </span>\n",
       "<span style=\"color: #7f7f7f; text-decoration-color: #7f7f7f\">../log/contracts_analysis_both_20250225_104133/reentrant/0x76a6b003c39c1eb38b96aaaa1f551e4c6ad3de5c_reentrancy/clas</span>\n",
       "<span style=\"color: #7f7f7f; text-decoration-color: #7f7f7f\">sification.json</span>\n",
       "</pre>\n"
      ]
     },
     "metadata": {},
     "output_type": "display_data"
    },
    {
     "data": {
      "text/plain": [
       "\u001B[2m[DEBUG] Classification result: reentrant, Ground truth: reentrant\u001B[0m\n"
      ],
      "text/html": [
       "<pre style=\"white-space:pre;overflow-x:auto;line-height:normal;font-family:Menlo,'DejaVu Sans Mono',consolas,'Courier New',monospace\"><span style=\"color: #7f7f7f; text-decoration-color: #7f7f7f\">[DEBUG] Classification result: reentrant, Ground truth: reentrant</span>\n",
       "</pre>\n"
      ]
     },
     "metadata": {},
     "output_type": "display_data"
    },
    {
     "data": {
      "text/plain": [
       "\u001B[2m[DEBUG] Collecting predictions from directory: \u001B[0m\n",
       "\u001B[2m../log/contracts_analysis_both_20250225_104133/reentrant/0x76a6b003c39c1eb38b96aaaa1f551e4c6ad3de5c_reentrancy\u001B[0m\n"
      ],
      "text/html": [
       "<pre style=\"white-space:pre;overflow-x:auto;line-height:normal;font-family:Menlo,'DejaVu Sans Mono',consolas,'Courier New',monospace\"><span style=\"color: #7f7f7f; text-decoration-color: #7f7f7f\">[DEBUG] Collecting predictions from directory: </span>\n",
       "<span style=\"color: #7f7f7f; text-decoration-color: #7f7f7f\">../log/contracts_analysis_both_20250225_104133/reentrant/0x76a6b003c39c1eb38b96aaaa1f551e4c6ad3de5c_reentrancy</span>\n",
       "</pre>\n"
      ]
     },
     "metadata": {},
     "output_type": "display_data"
    },
    {
     "data": {
      "text/plain": [
       "\u001B[2m[DEBUG] Loading JSON file: \u001B[0m\n",
       "\u001B[2m../log/contracts_analysis_both_20250225_104133/reentrant/0x76a6b003c39c1eb38b96aaaa1f551e4c6ad3de5c_reentrancy/anal\u001B[0m\n",
       "\u001B[2mysis_0x0aa19b3e51dd77e482690263c8af26bec2c6542e.json\u001B[0m\n"
      ],
      "text/html": [
       "<pre style=\"white-space:pre;overflow-x:auto;line-height:normal;font-family:Menlo,'DejaVu Sans Mono',consolas,'Courier New',monospace\"><span style=\"color: #7f7f7f; text-decoration-color: #7f7f7f\">[DEBUG] Loading JSON file: </span>\n",
       "<span style=\"color: #7f7f7f; text-decoration-color: #7f7f7f\">../log/contracts_analysis_both_20250225_104133/reentrant/0x76a6b003c39c1eb38b96aaaa1f551e4c6ad3de5c_reentrancy/anal</span>\n",
       "<span style=\"color: #7f7f7f; text-decoration-color: #7f7f7f\">ysis_0x0aa19b3e51dd77e482690263c8af26bec2c6542e.json</span>\n",
       "</pre>\n"
      ]
     },
     "metadata": {},
     "output_type": "display_data"
    },
    {
     "data": {
      "text/plain": [
       "\u001B[2m[DEBUG] Loading JSON file: \u001B[0m\n",
       "\u001B[2m../log/contracts_analysis_both_20250225_104133/reentrant/0x76a6b003c39c1eb38b96aaaa1f551e4c6ad3de5c_reentrancy/anal\u001B[0m\n",
       "\u001B[2mysis_0x0aab3ac447ea90739bdbe4e0e00af0a54038904a.json\u001B[0m\n"
      ],
      "text/html": [
       "<pre style=\"white-space:pre;overflow-x:auto;line-height:normal;font-family:Menlo,'DejaVu Sans Mono',consolas,'Courier New',monospace\"><span style=\"color: #7f7f7f; text-decoration-color: #7f7f7f\">[DEBUG] Loading JSON file: </span>\n",
       "<span style=\"color: #7f7f7f; text-decoration-color: #7f7f7f\">../log/contracts_analysis_both_20250225_104133/reentrant/0x76a6b003c39c1eb38b96aaaa1f551e4c6ad3de5c_reentrancy/anal</span>\n",
       "<span style=\"color: #7f7f7f; text-decoration-color: #7f7f7f\">ysis_0x0aab3ac447ea90739bdbe4e0e00af0a54038904a.json</span>\n",
       "</pre>\n"
      ]
     },
     "metadata": {},
     "output_type": "display_data"
    },
    {
     "data": {
      "text/plain": [
       "\u001B[2m[DEBUG] Loading JSON file: \u001B[0m\n",
       "\u001B[2m../log/contracts_analysis_both_20250225_104133/reentrant/0x76a6b003c39c1eb38b96aaaa1f551e4c6ad3de5c_reentrancy/anal\u001B[0m\n",
       "\u001B[2mysis_0x0a8c3b7e149891ff594e3ad580f8e1769151a07b.json\u001B[0m\n"
      ],
      "text/html": [
       "<pre style=\"white-space:pre;overflow-x:auto;line-height:normal;font-family:Menlo,'DejaVu Sans Mono',consolas,'Courier New',monospace\"><span style=\"color: #7f7f7f; text-decoration-color: #7f7f7f\">[DEBUG] Loading JSON file: </span>\n",
       "<span style=\"color: #7f7f7f; text-decoration-color: #7f7f7f\">../log/contracts_analysis_both_20250225_104133/reentrant/0x76a6b003c39c1eb38b96aaaa1f551e4c6ad3de5c_reentrancy/anal</span>\n",
       "<span style=\"color: #7f7f7f; text-decoration-color: #7f7f7f\">ysis_0x0a8c3b7e149891ff594e3ad580f8e1769151a07b.json</span>\n",
       "</pre>\n"
      ]
     },
     "metadata": {},
     "output_type": "display_data"
    },
    {
     "data": {
      "text/plain": [
       "\u001B[2m[DEBUG] Collected predictions: ['reentrant', 'reentrant', 'reentrant']\u001B[0m\n"
      ],
      "text/html": [
       "<pre style=\"white-space:pre;overflow-x:auto;line-height:normal;font-family:Menlo,'DejaVu Sans Mono',consolas,'Courier New',monospace\"><span style=\"color: #7f7f7f; text-decoration-color: #7f7f7f\">[DEBUG] Collected predictions: ['reentrant', 'reentrant', 'reentrant']</span>\n",
       "</pre>\n"
      ]
     },
     "metadata": {},
     "output_type": "display_data"
    },
    {
     "data": {
      "text/plain": [
       "\u001B[2m[DEBUG] Determined ground truth for \u001B[0m\n",
       "\u001B[2m../log/contracts_analysis_both_20250225_104133/reentrant/0a7dcd7ad58d91e0373b21e4e4522cdf: reentrant\u001B[0m\n"
      ],
      "text/html": [
       "<pre style=\"white-space:pre;overflow-x:auto;line-height:normal;font-family:Menlo,'DejaVu Sans Mono',consolas,'Courier New',monospace\"><span style=\"color: #7f7f7f; text-decoration-color: #7f7f7f\">[DEBUG] Determined ground truth for </span>\n",
       "<span style=\"color: #7f7f7f; text-decoration-color: #7f7f7f\">../log/contracts_analysis_both_20250225_104133/reentrant/0a7dcd7ad58d91e0373b21e4e4522cdf: reentrant</span>\n",
       "</pre>\n"
      ]
     },
     "metadata": {},
     "output_type": "display_data"
    },
    {
     "data": {
      "text/plain": [
       "\u001B[2m[DEBUG] Processing classification file: \u001B[0m\n",
       "\u001B[2m../log/contracts_analysis_both_20250225_104133/reentrant/0a7dcd7ad58d91e0373b21e4e4522cdf/classification.json\u001B[0m\n"
      ],
      "text/html": [
       "<pre style=\"white-space:pre;overflow-x:auto;line-height:normal;font-family:Menlo,'DejaVu Sans Mono',consolas,'Courier New',monospace\"><span style=\"color: #7f7f7f; text-decoration-color: #7f7f7f\">[DEBUG] Processing classification file: </span>\n",
       "<span style=\"color: #7f7f7f; text-decoration-color: #7f7f7f\">../log/contracts_analysis_both_20250225_104133/reentrant/0a7dcd7ad58d91e0373b21e4e4522cdf/classification.json</span>\n",
       "</pre>\n"
      ]
     },
     "metadata": {},
     "output_type": "display_data"
    },
    {
     "data": {
      "text/plain": [
       "\u001B[2m[DEBUG] Loading JSON file: \u001B[0m\n",
       "\u001B[2m../log/contracts_analysis_both_20250225_104133/reentrant/0a7dcd7ad58d91e0373b21e4e4522cdf/classification.json\u001B[0m\n"
      ],
      "text/html": [
       "<pre style=\"white-space:pre;overflow-x:auto;line-height:normal;font-family:Menlo,'DejaVu Sans Mono',consolas,'Courier New',monospace\"><span style=\"color: #7f7f7f; text-decoration-color: #7f7f7f\">[DEBUG] Loading JSON file: </span>\n",
       "<span style=\"color: #7f7f7f; text-decoration-color: #7f7f7f\">../log/contracts_analysis_both_20250225_104133/reentrant/0a7dcd7ad58d91e0373b21e4e4522cdf/classification.json</span>\n",
       "</pre>\n"
      ]
     },
     "metadata": {},
     "output_type": "display_data"
    },
    {
     "data": {
      "text/plain": [
       "\u001B[2m[DEBUG] Classification result: safe, Ground truth: reentrant\u001B[0m\n"
      ],
      "text/html": [
       "<pre style=\"white-space:pre;overflow-x:auto;line-height:normal;font-family:Menlo,'DejaVu Sans Mono',consolas,'Courier New',monospace\"><span style=\"color: #7f7f7f; text-decoration-color: #7f7f7f\">[DEBUG] Classification result: safe, Ground truth: reentrant</span>\n",
       "</pre>\n"
      ]
     },
     "metadata": {},
     "output_type": "display_data"
    },
    {
     "data": {
      "text/plain": [
       "\u001B[2m[DEBUG] Collecting predictions from directory: \u001B[0m\n",
       "\u001B[2m../log/contracts_analysis_both_20250225_104133/reentrant/0a7dcd7ad58d91e0373b21e4e4522cdf\u001B[0m\n"
      ],
      "text/html": [
       "<pre style=\"white-space:pre;overflow-x:auto;line-height:normal;font-family:Menlo,'DejaVu Sans Mono',consolas,'Courier New',monospace\"><span style=\"color: #7f7f7f; text-decoration-color: #7f7f7f\">[DEBUG] Collecting predictions from directory: </span>\n",
       "<span style=\"color: #7f7f7f; text-decoration-color: #7f7f7f\">../log/contracts_analysis_both_20250225_104133/reentrant/0a7dcd7ad58d91e0373b21e4e4522cdf</span>\n",
       "</pre>\n"
      ]
     },
     "metadata": {},
     "output_type": "display_data"
    },
    {
     "data": {
      "text/plain": [
       "\u001B[2m[DEBUG] Loading JSON file: \u001B[0m\n",
       "\u001B[2m../log/contracts_analysis_both_20250225_104133/reentrant/0a7dcd7ad58d91e0373b21e4e4522cdf/analysis_0x0aa19b3e51dd77\u001B[0m\n",
       "\u001B[2me482690263c8af26bec2c6542e.json\u001B[0m\n"
      ],
      "text/html": [
       "<pre style=\"white-space:pre;overflow-x:auto;line-height:normal;font-family:Menlo,'DejaVu Sans Mono',consolas,'Courier New',monospace\"><span style=\"color: #7f7f7f; text-decoration-color: #7f7f7f\">[DEBUG] Loading JSON file: </span>\n",
       "<span style=\"color: #7f7f7f; text-decoration-color: #7f7f7f\">../log/contracts_analysis_both_20250225_104133/reentrant/0a7dcd7ad58d91e0373b21e4e4522cdf/analysis_0x0aa19b3e51dd77</span>\n",
       "<span style=\"color: #7f7f7f; text-decoration-color: #7f7f7f\">e482690263c8af26bec2c6542e.json</span>\n",
       "</pre>\n"
      ]
     },
     "metadata": {},
     "output_type": "display_data"
    },
    {
     "data": {
      "text/plain": [
       "\u001B[2m[DEBUG] Loading JSON file: \u001B[0m\n",
       "\u001B[2m../log/contracts_analysis_both_20250225_104133/reentrant/0a7dcd7ad58d91e0373b21e4e4522cdf/analysis_0x0aab3ac447ea90\u001B[0m\n",
       "\u001B[2m739bdbe4e0e00af0a54038904a.json\u001B[0m\n"
      ],
      "text/html": [
       "<pre style=\"white-space:pre;overflow-x:auto;line-height:normal;font-family:Menlo,'DejaVu Sans Mono',consolas,'Courier New',monospace\"><span style=\"color: #7f7f7f; text-decoration-color: #7f7f7f\">[DEBUG] Loading JSON file: </span>\n",
       "<span style=\"color: #7f7f7f; text-decoration-color: #7f7f7f\">../log/contracts_analysis_both_20250225_104133/reentrant/0a7dcd7ad58d91e0373b21e4e4522cdf/analysis_0x0aab3ac447ea90</span>\n",
       "<span style=\"color: #7f7f7f; text-decoration-color: #7f7f7f\">739bdbe4e0e00af0a54038904a.json</span>\n",
       "</pre>\n"
      ]
     },
     "metadata": {},
     "output_type": "display_data"
    },
    {
     "data": {
      "text/plain": [
       "\u001B[2m[DEBUG] Loading JSON file: \u001B[0m\n",
       "\u001B[2m../log/contracts_analysis_both_20250225_104133/reentrant/0a7dcd7ad58d91e0373b21e4e4522cdf/analysis_0x0a8c3b7e149891\u001B[0m\n",
       "\u001B[2mff594e3ad580f8e1769151a07b.json\u001B[0m\n"
      ],
      "text/html": [
       "<pre style=\"white-space:pre;overflow-x:auto;line-height:normal;font-family:Menlo,'DejaVu Sans Mono',consolas,'Courier New',monospace\"><span style=\"color: #7f7f7f; text-decoration-color: #7f7f7f\">[DEBUG] Loading JSON file: </span>\n",
       "<span style=\"color: #7f7f7f; text-decoration-color: #7f7f7f\">../log/contracts_analysis_both_20250225_104133/reentrant/0a7dcd7ad58d91e0373b21e4e4522cdf/analysis_0x0a8c3b7e149891</span>\n",
       "<span style=\"color: #7f7f7f; text-decoration-color: #7f7f7f\">ff594e3ad580f8e1769151a07b.json</span>\n",
       "</pre>\n"
      ]
     },
     "metadata": {},
     "output_type": "display_data"
    },
    {
     "data": {
      "text/plain": [
       "\u001B[2m[DEBUG] Collected predictions: ['reentrant', 'reentrant', 'reentrant']\u001B[0m\n"
      ],
      "text/html": [
       "<pre style=\"white-space:pre;overflow-x:auto;line-height:normal;font-family:Menlo,'DejaVu Sans Mono',consolas,'Courier New',monospace\"><span style=\"color: #7f7f7f; text-decoration-color: #7f7f7f\">[DEBUG] Collected predictions: ['reentrant', 'reentrant', 'reentrant']</span>\n",
       "</pre>\n"
      ]
     },
     "metadata": {},
     "output_type": "display_data"
    },
    {
     "data": {
      "text/plain": [
       "\u001B[2m[DEBUG] Determined ground truth for \u001B[0m\n",
       "\u001B[2m../log/contracts_analysis_both_20250225_104133/reentrant/0xb7c5c5aa4d42967efe906e1b66cb8df9cebf04f7: reentrant\u001B[0m\n"
      ],
      "text/html": [
       "<pre style=\"white-space:pre;overflow-x:auto;line-height:normal;font-family:Menlo,'DejaVu Sans Mono',consolas,'Courier New',monospace\"><span style=\"color: #7f7f7f; text-decoration-color: #7f7f7f\">[DEBUG] Determined ground truth for </span>\n",
       "<span style=\"color: #7f7f7f; text-decoration-color: #7f7f7f\">../log/contracts_analysis_both_20250225_104133/reentrant/0xb7c5c5aa4d42967efe906e1b66cb8df9cebf04f7: reentrant</span>\n",
       "</pre>\n"
      ]
     },
     "metadata": {},
     "output_type": "display_data"
    },
    {
     "data": {
      "text/plain": [
       "\u001B[2m[DEBUG] Processing classification file: \u001B[0m\n",
       "\u001B[2m../log/contracts_analysis_both_20250225_104133/reentrant/0xb7c5c5aa4d42967efe906e1b66cb8df9cebf04f7/classification.\u001B[0m\n",
       "\u001B[2mjson\u001B[0m\n"
      ],
      "text/html": [
       "<pre style=\"white-space:pre;overflow-x:auto;line-height:normal;font-family:Menlo,'DejaVu Sans Mono',consolas,'Courier New',monospace\"><span style=\"color: #7f7f7f; text-decoration-color: #7f7f7f\">[DEBUG] Processing classification file: </span>\n",
       "<span style=\"color: #7f7f7f; text-decoration-color: #7f7f7f\">../log/contracts_analysis_both_20250225_104133/reentrant/0xb7c5c5aa4d42967efe906e1b66cb8df9cebf04f7/classification.</span>\n",
       "<span style=\"color: #7f7f7f; text-decoration-color: #7f7f7f\">json</span>\n",
       "</pre>\n"
      ]
     },
     "metadata": {},
     "output_type": "display_data"
    },
    {
     "data": {
      "text/plain": [
       "\u001B[2m[DEBUG] Loading JSON file: \u001B[0m\n",
       "\u001B[2m../log/contracts_analysis_both_20250225_104133/reentrant/0xb7c5c5aa4d42967efe906e1b66cb8df9cebf04f7/classification.\u001B[0m\n",
       "\u001B[2mjson\u001B[0m\n"
      ],
      "text/html": [
       "<pre style=\"white-space:pre;overflow-x:auto;line-height:normal;font-family:Menlo,'DejaVu Sans Mono',consolas,'Courier New',monospace\"><span style=\"color: #7f7f7f; text-decoration-color: #7f7f7f\">[DEBUG] Loading JSON file: </span>\n",
       "<span style=\"color: #7f7f7f; text-decoration-color: #7f7f7f\">../log/contracts_analysis_both_20250225_104133/reentrant/0xb7c5c5aa4d42967efe906e1b66cb8df9cebf04f7/classification.</span>\n",
       "<span style=\"color: #7f7f7f; text-decoration-color: #7f7f7f\">json</span>\n",
       "</pre>\n"
      ]
     },
     "metadata": {},
     "output_type": "display_data"
    },
    {
     "data": {
      "text/plain": [
       "\u001B[2m[DEBUG] Classification result: safe, Ground truth: reentrant\u001B[0m\n"
      ],
      "text/html": [
       "<pre style=\"white-space:pre;overflow-x:auto;line-height:normal;font-family:Menlo,'DejaVu Sans Mono',consolas,'Courier New',monospace\"><span style=\"color: #7f7f7f; text-decoration-color: #7f7f7f\">[DEBUG] Classification result: safe, Ground truth: reentrant</span>\n",
       "</pre>\n"
      ]
     },
     "metadata": {},
     "output_type": "display_data"
    },
    {
     "data": {
      "text/plain": [
       "\u001B[2m[DEBUG] Collecting predictions from directory: \u001B[0m\n",
       "\u001B[2m../log/contracts_analysis_both_20250225_104133/reentrant/0xb7c5c5aa4d42967efe906e1b66cb8df9cebf04f7\u001B[0m\n"
      ],
      "text/html": [
       "<pre style=\"white-space:pre;overflow-x:auto;line-height:normal;font-family:Menlo,'DejaVu Sans Mono',consolas,'Courier New',monospace\"><span style=\"color: #7f7f7f; text-decoration-color: #7f7f7f\">[DEBUG] Collecting predictions from directory: </span>\n",
       "<span style=\"color: #7f7f7f; text-decoration-color: #7f7f7f\">../log/contracts_analysis_both_20250225_104133/reentrant/0xb7c5c5aa4d42967efe906e1b66cb8df9cebf04f7</span>\n",
       "</pre>\n"
      ]
     },
     "metadata": {},
     "output_type": "display_data"
    },
    {
     "data": {
      "text/plain": [
       "\u001B[2m[DEBUG] Loading JSON file: \u001B[0m\n",
       "\u001B[2m../log/contracts_analysis_both_20250225_104133/reentrant/0xb7c5c5aa4d42967efe906e1b66cb8df9cebf04f7/analysis_0x0aa1\u001B[0m\n",
       "\u001B[2m9b3e51dd77e482690263c8af26bec2c6542e.json\u001B[0m\n"
      ],
      "text/html": [
       "<pre style=\"white-space:pre;overflow-x:auto;line-height:normal;font-family:Menlo,'DejaVu Sans Mono',consolas,'Courier New',monospace\"><span style=\"color: #7f7f7f; text-decoration-color: #7f7f7f\">[DEBUG] Loading JSON file: </span>\n",
       "<span style=\"color: #7f7f7f; text-decoration-color: #7f7f7f\">../log/contracts_analysis_both_20250225_104133/reentrant/0xb7c5c5aa4d42967efe906e1b66cb8df9cebf04f7/analysis_0x0aa1</span>\n",
       "<span style=\"color: #7f7f7f; text-decoration-color: #7f7f7f\">9b3e51dd77e482690263c8af26bec2c6542e.json</span>\n",
       "</pre>\n"
      ]
     },
     "metadata": {},
     "output_type": "display_data"
    },
    {
     "data": {
      "text/plain": [
       "\u001B[2m[DEBUG] Loading JSON file: \u001B[0m\n",
       "\u001B[2m../log/contracts_analysis_both_20250225_104133/reentrant/0xb7c5c5aa4d42967efe906e1b66cb8df9cebf04f7/analysis_0x0aab\u001B[0m\n",
       "\u001B[2m3ac447ea90739bdbe4e0e00af0a54038904a.json\u001B[0m\n"
      ],
      "text/html": [
       "<pre style=\"white-space:pre;overflow-x:auto;line-height:normal;font-family:Menlo,'DejaVu Sans Mono',consolas,'Courier New',monospace\"><span style=\"color: #7f7f7f; text-decoration-color: #7f7f7f\">[DEBUG] Loading JSON file: </span>\n",
       "<span style=\"color: #7f7f7f; text-decoration-color: #7f7f7f\">../log/contracts_analysis_both_20250225_104133/reentrant/0xb7c5c5aa4d42967efe906e1b66cb8df9cebf04f7/analysis_0x0aab</span>\n",
       "<span style=\"color: #7f7f7f; text-decoration-color: #7f7f7f\">3ac447ea90739bdbe4e0e00af0a54038904a.json</span>\n",
       "</pre>\n"
      ]
     },
     "metadata": {},
     "output_type": "display_data"
    },
    {
     "data": {
      "text/plain": [
       "\u001B[2m[DEBUG] Loading JSON file: \u001B[0m\n",
       "\u001B[2m../log/contracts_analysis_both_20250225_104133/reentrant/0xb7c5c5aa4d42967efe906e1b66cb8df9cebf04f7/analysis_0x0a8c\u001B[0m\n",
       "\u001B[2m3b7e149891ff594e3ad580f8e1769151a07b.json\u001B[0m\n"
      ],
      "text/html": [
       "<pre style=\"white-space:pre;overflow-x:auto;line-height:normal;font-family:Menlo,'DejaVu Sans Mono',consolas,'Courier New',monospace\"><span style=\"color: #7f7f7f; text-decoration-color: #7f7f7f\">[DEBUG] Loading JSON file: </span>\n",
       "<span style=\"color: #7f7f7f; text-decoration-color: #7f7f7f\">../log/contracts_analysis_both_20250225_104133/reentrant/0xb7c5c5aa4d42967efe906e1b66cb8df9cebf04f7/analysis_0x0a8c</span>\n",
       "<span style=\"color: #7f7f7f; text-decoration-color: #7f7f7f\">3b7e149891ff594e3ad580f8e1769151a07b.json</span>\n",
       "</pre>\n"
      ]
     },
     "metadata": {},
     "output_type": "display_data"
    },
    {
     "data": {
      "text/plain": [
       "\u001B[2m[DEBUG] Collected predictions: ['reentrant', 'reentrant', 'reentrant']\u001B[0m\n"
      ],
      "text/html": [
       "<pre style=\"white-space:pre;overflow-x:auto;line-height:normal;font-family:Menlo,'DejaVu Sans Mono',consolas,'Courier New',monospace\"><span style=\"color: #7f7f7f; text-decoration-color: #7f7f7f\">[DEBUG] Collected predictions: ['reentrant', 'reentrant', 'reentrant']</span>\n",
       "</pre>\n"
      ]
     },
     "metadata": {},
     "output_type": "display_data"
    },
    {
     "data": {
      "text/plain": [
       "\u001B[2m[DEBUG] Determined ground truth for \u001B[0m\n",
       "\u001B[2m../log/contracts_analysis_both_20250225_104133/reentrant/0x8db0ee1483fbe9db734d8a5e885dc55adfee21a5: reentrant\u001B[0m\n"
      ],
      "text/html": [
       "<pre style=\"white-space:pre;overflow-x:auto;line-height:normal;font-family:Menlo,'DejaVu Sans Mono',consolas,'Courier New',monospace\"><span style=\"color: #7f7f7f; text-decoration-color: #7f7f7f\">[DEBUG] Determined ground truth for </span>\n",
       "<span style=\"color: #7f7f7f; text-decoration-color: #7f7f7f\">../log/contracts_analysis_both_20250225_104133/reentrant/0x8db0ee1483fbe9db734d8a5e885dc55adfee21a5: reentrant</span>\n",
       "</pre>\n"
      ]
     },
     "metadata": {},
     "output_type": "display_data"
    },
    {
     "data": {
      "text/plain": [
       "\u001B[2m[DEBUG] Processing classification file: \u001B[0m\n",
       "\u001B[2m../log/contracts_analysis_both_20250225_104133/reentrant/0x8db0ee1483fbe9db734d8a5e885dc55adfee21a5/classification.\u001B[0m\n",
       "\u001B[2mjson\u001B[0m\n"
      ],
      "text/html": [
       "<pre style=\"white-space:pre;overflow-x:auto;line-height:normal;font-family:Menlo,'DejaVu Sans Mono',consolas,'Courier New',monospace\"><span style=\"color: #7f7f7f; text-decoration-color: #7f7f7f\">[DEBUG] Processing classification file: </span>\n",
       "<span style=\"color: #7f7f7f; text-decoration-color: #7f7f7f\">../log/contracts_analysis_both_20250225_104133/reentrant/0x8db0ee1483fbe9db734d8a5e885dc55adfee21a5/classification.</span>\n",
       "<span style=\"color: #7f7f7f; text-decoration-color: #7f7f7f\">json</span>\n",
       "</pre>\n"
      ]
     },
     "metadata": {},
     "output_type": "display_data"
    },
    {
     "data": {
      "text/plain": [
       "\u001B[2m[DEBUG] Loading JSON file: \u001B[0m\n",
       "\u001B[2m../log/contracts_analysis_both_20250225_104133/reentrant/0x8db0ee1483fbe9db734d8a5e885dc55adfee21a5/classification.\u001B[0m\n",
       "\u001B[2mjson\u001B[0m\n"
      ],
      "text/html": [
       "<pre style=\"white-space:pre;overflow-x:auto;line-height:normal;font-family:Menlo,'DejaVu Sans Mono',consolas,'Courier New',monospace\"><span style=\"color: #7f7f7f; text-decoration-color: #7f7f7f\">[DEBUG] Loading JSON file: </span>\n",
       "<span style=\"color: #7f7f7f; text-decoration-color: #7f7f7f\">../log/contracts_analysis_both_20250225_104133/reentrant/0x8db0ee1483fbe9db734d8a5e885dc55adfee21a5/classification.</span>\n",
       "<span style=\"color: #7f7f7f; text-decoration-color: #7f7f7f\">json</span>\n",
       "</pre>\n"
      ]
     },
     "metadata": {},
     "output_type": "display_data"
    },
    {
     "data": {
      "text/plain": [
       "\u001B[2m[DEBUG] Classification result: safe, Ground truth: reentrant\u001B[0m\n"
      ],
      "text/html": [
       "<pre style=\"white-space:pre;overflow-x:auto;line-height:normal;font-family:Menlo,'DejaVu Sans Mono',consolas,'Courier New',monospace\"><span style=\"color: #7f7f7f; text-decoration-color: #7f7f7f\">[DEBUG] Classification result: safe, Ground truth: reentrant</span>\n",
       "</pre>\n"
      ]
     },
     "metadata": {},
     "output_type": "display_data"
    },
    {
     "data": {
      "text/plain": [
       "\u001B[2m[DEBUG] Collecting predictions from directory: \u001B[0m\n",
       "\u001B[2m../log/contracts_analysis_both_20250225_104133/reentrant/0x8db0ee1483fbe9db734d8a5e885dc55adfee21a5\u001B[0m\n"
      ],
      "text/html": [
       "<pre style=\"white-space:pre;overflow-x:auto;line-height:normal;font-family:Menlo,'DejaVu Sans Mono',consolas,'Courier New',monospace\"><span style=\"color: #7f7f7f; text-decoration-color: #7f7f7f\">[DEBUG] Collecting predictions from directory: </span>\n",
       "<span style=\"color: #7f7f7f; text-decoration-color: #7f7f7f\">../log/contracts_analysis_both_20250225_104133/reentrant/0x8db0ee1483fbe9db734d8a5e885dc55adfee21a5</span>\n",
       "</pre>\n"
      ]
     },
     "metadata": {},
     "output_type": "display_data"
    },
    {
     "data": {
      "text/plain": [
       "\u001B[2m[DEBUG] Loading JSON file: \u001B[0m\n",
       "\u001B[2m../log/contracts_analysis_both_20250225_104133/reentrant/0x8db0ee1483fbe9db734d8a5e885dc55adfee21a5/analysis_0x0aa1\u001B[0m\n",
       "\u001B[2m9b3e51dd77e482690263c8af26bec2c6542e.json\u001B[0m\n"
      ],
      "text/html": [
       "<pre style=\"white-space:pre;overflow-x:auto;line-height:normal;font-family:Menlo,'DejaVu Sans Mono',consolas,'Courier New',monospace\"><span style=\"color: #7f7f7f; text-decoration-color: #7f7f7f\">[DEBUG] Loading JSON file: </span>\n",
       "<span style=\"color: #7f7f7f; text-decoration-color: #7f7f7f\">../log/contracts_analysis_both_20250225_104133/reentrant/0x8db0ee1483fbe9db734d8a5e885dc55adfee21a5/analysis_0x0aa1</span>\n",
       "<span style=\"color: #7f7f7f; text-decoration-color: #7f7f7f\">9b3e51dd77e482690263c8af26bec2c6542e.json</span>\n",
       "</pre>\n"
      ]
     },
     "metadata": {},
     "output_type": "display_data"
    },
    {
     "data": {
      "text/plain": [
       "\u001B[2m[DEBUG] Loading JSON file: \u001B[0m\n",
       "\u001B[2m../log/contracts_analysis_both_20250225_104133/reentrant/0x8db0ee1483fbe9db734d8a5e885dc55adfee21a5/analysis_0x0aab\u001B[0m\n",
       "\u001B[2m3ac447ea90739bdbe4e0e00af0a54038904a.json\u001B[0m\n"
      ],
      "text/html": [
       "<pre style=\"white-space:pre;overflow-x:auto;line-height:normal;font-family:Menlo,'DejaVu Sans Mono',consolas,'Courier New',monospace\"><span style=\"color: #7f7f7f; text-decoration-color: #7f7f7f\">[DEBUG] Loading JSON file: </span>\n",
       "<span style=\"color: #7f7f7f; text-decoration-color: #7f7f7f\">../log/contracts_analysis_both_20250225_104133/reentrant/0x8db0ee1483fbe9db734d8a5e885dc55adfee21a5/analysis_0x0aab</span>\n",
       "<span style=\"color: #7f7f7f; text-decoration-color: #7f7f7f\">3ac447ea90739bdbe4e0e00af0a54038904a.json</span>\n",
       "</pre>\n"
      ]
     },
     "metadata": {},
     "output_type": "display_data"
    },
    {
     "data": {
      "text/plain": [
       "\u001B[2m[DEBUG] Loading JSON file: \u001B[0m\n",
       "\u001B[2m../log/contracts_analysis_both_20250225_104133/reentrant/0x8db0ee1483fbe9db734d8a5e885dc55adfee21a5/analysis_0x0a8c\u001B[0m\n",
       "\u001B[2m3b7e149891ff594e3ad580f8e1769151a07b.json\u001B[0m\n"
      ],
      "text/html": [
       "<pre style=\"white-space:pre;overflow-x:auto;line-height:normal;font-family:Menlo,'DejaVu Sans Mono',consolas,'Courier New',monospace\"><span style=\"color: #7f7f7f; text-decoration-color: #7f7f7f\">[DEBUG] Loading JSON file: </span>\n",
       "<span style=\"color: #7f7f7f; text-decoration-color: #7f7f7f\">../log/contracts_analysis_both_20250225_104133/reentrant/0x8db0ee1483fbe9db734d8a5e885dc55adfee21a5/analysis_0x0a8c</span>\n",
       "<span style=\"color: #7f7f7f; text-decoration-color: #7f7f7f\">3b7e149891ff594e3ad580f8e1769151a07b.json</span>\n",
       "</pre>\n"
      ]
     },
     "metadata": {},
     "output_type": "display_data"
    },
    {
     "data": {
      "text/plain": [
       "\u001B[2m[DEBUG] Collected predictions: ['reentrant', 'reentrant', 'reentrant']\u001B[0m\n"
      ],
      "text/html": [
       "<pre style=\"white-space:pre;overflow-x:auto;line-height:normal;font-family:Menlo,'DejaVu Sans Mono',consolas,'Courier New',monospace\"><span style=\"color: #7f7f7f; text-decoration-color: #7f7f7f\">[DEBUG] Collected predictions: ['reentrant', 'reentrant', 'reentrant']</span>\n",
       "</pre>\n"
      ]
     },
     "metadata": {},
     "output_type": "display_data"
    },
    {
     "name": "stderr",
     "output_type": "stream",
     "text": [
      "Processing contracts:  75%|███████▌  | 72/96 [00:01<00:00, 77.70it/s]"
     ]
    },
    {
     "data": {
      "text/plain": [
       "\u001B[2m[DEBUG] Determined ground truth for \u001B[0m\n",
       "\u001B[2m../log/contracts_analysis_both_20250225_104133/reentrant/0xaa4f28fe9d4819fc9e6033e93b0cb0362d132841: reentrant\u001B[0m\n"
      ],
      "text/html": [
       "<pre style=\"white-space:pre;overflow-x:auto;line-height:normal;font-family:Menlo,'DejaVu Sans Mono',consolas,'Courier New',monospace\"><span style=\"color: #7f7f7f; text-decoration-color: #7f7f7f\">[DEBUG] Determined ground truth for </span>\n",
       "<span style=\"color: #7f7f7f; text-decoration-color: #7f7f7f\">../log/contracts_analysis_both_20250225_104133/reentrant/0xaa4f28fe9d4819fc9e6033e93b0cb0362d132841: reentrant</span>\n",
       "</pre>\n"
      ]
     },
     "metadata": {},
     "output_type": "display_data"
    },
    {
     "data": {
      "text/plain": [
       "\u001B[2m[DEBUG] Processing classification file: \u001B[0m\n",
       "\u001B[2m../log/contracts_analysis_both_20250225_104133/reentrant/0xaa4f28fe9d4819fc9e6033e93b0cb0362d132841/classification.\u001B[0m\n",
       "\u001B[2mjson\u001B[0m\n"
      ],
      "text/html": [
       "<pre style=\"white-space:pre;overflow-x:auto;line-height:normal;font-family:Menlo,'DejaVu Sans Mono',consolas,'Courier New',monospace\"><span style=\"color: #7f7f7f; text-decoration-color: #7f7f7f\">[DEBUG] Processing classification file: </span>\n",
       "<span style=\"color: #7f7f7f; text-decoration-color: #7f7f7f\">../log/contracts_analysis_both_20250225_104133/reentrant/0xaa4f28fe9d4819fc9e6033e93b0cb0362d132841/classification.</span>\n",
       "<span style=\"color: #7f7f7f; text-decoration-color: #7f7f7f\">json</span>\n",
       "</pre>\n"
      ]
     },
     "metadata": {},
     "output_type": "display_data"
    },
    {
     "data": {
      "text/plain": [
       "\u001B[2m[DEBUG] Loading JSON file: \u001B[0m\n",
       "\u001B[2m../log/contracts_analysis_both_20250225_104133/reentrant/0xaa4f28fe9d4819fc9e6033e93b0cb0362d132841/classification.\u001B[0m\n",
       "\u001B[2mjson\u001B[0m\n"
      ],
      "text/html": [
       "<pre style=\"white-space:pre;overflow-x:auto;line-height:normal;font-family:Menlo,'DejaVu Sans Mono',consolas,'Courier New',monospace\"><span style=\"color: #7f7f7f; text-decoration-color: #7f7f7f\">[DEBUG] Loading JSON file: </span>\n",
       "<span style=\"color: #7f7f7f; text-decoration-color: #7f7f7f\">../log/contracts_analysis_both_20250225_104133/reentrant/0xaa4f28fe9d4819fc9e6033e93b0cb0362d132841/classification.</span>\n",
       "<span style=\"color: #7f7f7f; text-decoration-color: #7f7f7f\">json</span>\n",
       "</pre>\n"
      ]
     },
     "metadata": {},
     "output_type": "display_data"
    },
    {
     "data": {
      "text/plain": [
       "\u001B[2m[DEBUG] Classification result: safe, Ground truth: reentrant\u001B[0m\n"
      ],
      "text/html": [
       "<pre style=\"white-space:pre;overflow-x:auto;line-height:normal;font-family:Menlo,'DejaVu Sans Mono',consolas,'Courier New',monospace\"><span style=\"color: #7f7f7f; text-decoration-color: #7f7f7f\">[DEBUG] Classification result: safe, Ground truth: reentrant</span>\n",
       "</pre>\n"
      ]
     },
     "metadata": {},
     "output_type": "display_data"
    },
    {
     "data": {
      "text/plain": [
       "\u001B[2m[DEBUG] Collecting predictions from directory: \u001B[0m\n",
       "\u001B[2m../log/contracts_analysis_both_20250225_104133/reentrant/0xaa4f28fe9d4819fc9e6033e93b0cb0362d132841\u001B[0m\n"
      ],
      "text/html": [
       "<pre style=\"white-space:pre;overflow-x:auto;line-height:normal;font-family:Menlo,'DejaVu Sans Mono',consolas,'Courier New',monospace\"><span style=\"color: #7f7f7f; text-decoration-color: #7f7f7f\">[DEBUG] Collecting predictions from directory: </span>\n",
       "<span style=\"color: #7f7f7f; text-decoration-color: #7f7f7f\">../log/contracts_analysis_both_20250225_104133/reentrant/0xaa4f28fe9d4819fc9e6033e93b0cb0362d132841</span>\n",
       "</pre>\n"
      ]
     },
     "metadata": {},
     "output_type": "display_data"
    },
    {
     "data": {
      "text/plain": [
       "\u001B[2m[DEBUG] Loading JSON file: \u001B[0m\n",
       "\u001B[2m../log/contracts_analysis_both_20250225_104133/reentrant/0xaa4f28fe9d4819fc9e6033e93b0cb0362d132841/analysis_0x0aa1\u001B[0m\n",
       "\u001B[2m9b3e51dd77e482690263c8af26bec2c6542e.json\u001B[0m\n"
      ],
      "text/html": [
       "<pre style=\"white-space:pre;overflow-x:auto;line-height:normal;font-family:Menlo,'DejaVu Sans Mono',consolas,'Courier New',monospace\"><span style=\"color: #7f7f7f; text-decoration-color: #7f7f7f\">[DEBUG] Loading JSON file: </span>\n",
       "<span style=\"color: #7f7f7f; text-decoration-color: #7f7f7f\">../log/contracts_analysis_both_20250225_104133/reentrant/0xaa4f28fe9d4819fc9e6033e93b0cb0362d132841/analysis_0x0aa1</span>\n",
       "<span style=\"color: #7f7f7f; text-decoration-color: #7f7f7f\">9b3e51dd77e482690263c8af26bec2c6542e.json</span>\n",
       "</pre>\n"
      ]
     },
     "metadata": {},
     "output_type": "display_data"
    },
    {
     "data": {
      "text/plain": [
       "\u001B[2m[DEBUG] Loading JSON file: \u001B[0m\n",
       "\u001B[2m../log/contracts_analysis_both_20250225_104133/reentrant/0xaa4f28fe9d4819fc9e6033e93b0cb0362d132841/analysis_0x0aab\u001B[0m\n",
       "\u001B[2m3ac447ea90739bdbe4e0e00af0a54038904a.json\u001B[0m\n"
      ],
      "text/html": [
       "<pre style=\"white-space:pre;overflow-x:auto;line-height:normal;font-family:Menlo,'DejaVu Sans Mono',consolas,'Courier New',monospace\"><span style=\"color: #7f7f7f; text-decoration-color: #7f7f7f\">[DEBUG] Loading JSON file: </span>\n",
       "<span style=\"color: #7f7f7f; text-decoration-color: #7f7f7f\">../log/contracts_analysis_both_20250225_104133/reentrant/0xaa4f28fe9d4819fc9e6033e93b0cb0362d132841/analysis_0x0aab</span>\n",
       "<span style=\"color: #7f7f7f; text-decoration-color: #7f7f7f\">3ac447ea90739bdbe4e0e00af0a54038904a.json</span>\n",
       "</pre>\n"
      ]
     },
     "metadata": {},
     "output_type": "display_data"
    },
    {
     "data": {
      "text/plain": [
       "\u001B[2m[DEBUG] Loading JSON file: \u001B[0m\n",
       "\u001B[2m../log/contracts_analysis_both_20250225_104133/reentrant/0xaa4f28fe9d4819fc9e6033e93b0cb0362d132841/analysis_0x0a8c\u001B[0m\n",
       "\u001B[2m3b7e149891ff594e3ad580f8e1769151a07b.json\u001B[0m\n"
      ],
      "text/html": [
       "<pre style=\"white-space:pre;overflow-x:auto;line-height:normal;font-family:Menlo,'DejaVu Sans Mono',consolas,'Courier New',monospace\"><span style=\"color: #7f7f7f; text-decoration-color: #7f7f7f\">[DEBUG] Loading JSON file: </span>\n",
       "<span style=\"color: #7f7f7f; text-decoration-color: #7f7f7f\">../log/contracts_analysis_both_20250225_104133/reentrant/0xaa4f28fe9d4819fc9e6033e93b0cb0362d132841/analysis_0x0a8c</span>\n",
       "<span style=\"color: #7f7f7f; text-decoration-color: #7f7f7f\">3b7e149891ff594e3ad580f8e1769151a07b.json</span>\n",
       "</pre>\n"
      ]
     },
     "metadata": {},
     "output_type": "display_data"
    },
    {
     "data": {
      "text/plain": [
       "\u001B[2m[DEBUG] Collected predictions: ['reentrant', 'reentrant', 'reentrant']\u001B[0m\n"
      ],
      "text/html": [
       "<pre style=\"white-space:pre;overflow-x:auto;line-height:normal;font-family:Menlo,'DejaVu Sans Mono',consolas,'Courier New',monospace\"><span style=\"color: #7f7f7f; text-decoration-color: #7f7f7f\">[DEBUG] Collected predictions: ['reentrant', 'reentrant', 'reentrant']</span>\n",
       "</pre>\n"
      ]
     },
     "metadata": {},
     "output_type": "display_data"
    },
    {
     "data": {
      "text/plain": [
       "\u001B[2m[DEBUG] Determined ground truth for \u001B[0m\n",
       "\u001B[2m../log/contracts_analysis_both_20250225_104133/reentrant/0xbe970a5e3d4430587e5973a4a4fa02edcbf3aeb9_reentrancy: \u001B[0m\n",
       "\u001B[2mreentrant\u001B[0m\n"
      ],
      "text/html": [
       "<pre style=\"white-space:pre;overflow-x:auto;line-height:normal;font-family:Menlo,'DejaVu Sans Mono',consolas,'Courier New',monospace\"><span style=\"color: #7f7f7f; text-decoration-color: #7f7f7f\">[DEBUG] Determined ground truth for </span>\n",
       "<span style=\"color: #7f7f7f; text-decoration-color: #7f7f7f\">../log/contracts_analysis_both_20250225_104133/reentrant/0xbe970a5e3d4430587e5973a4a4fa02edcbf3aeb9_reentrancy: </span>\n",
       "<span style=\"color: #7f7f7f; text-decoration-color: #7f7f7f\">reentrant</span>\n",
       "</pre>\n"
      ]
     },
     "metadata": {},
     "output_type": "display_data"
    },
    {
     "data": {
      "text/plain": [
       "\u001B[2m[DEBUG] Processing classification file: \u001B[0m\n",
       "\u001B[2m../log/contracts_analysis_both_20250225_104133/reentrant/0xbe970a5e3d4430587e5973a4a4fa02edcbf3aeb9_reentrancy/clas\u001B[0m\n",
       "\u001B[2msification.json\u001B[0m\n"
      ],
      "text/html": [
       "<pre style=\"white-space:pre;overflow-x:auto;line-height:normal;font-family:Menlo,'DejaVu Sans Mono',consolas,'Courier New',monospace\"><span style=\"color: #7f7f7f; text-decoration-color: #7f7f7f\">[DEBUG] Processing classification file: </span>\n",
       "<span style=\"color: #7f7f7f; text-decoration-color: #7f7f7f\">../log/contracts_analysis_both_20250225_104133/reentrant/0xbe970a5e3d4430587e5973a4a4fa02edcbf3aeb9_reentrancy/clas</span>\n",
       "<span style=\"color: #7f7f7f; text-decoration-color: #7f7f7f\">sification.json</span>\n",
       "</pre>\n"
      ]
     },
     "metadata": {},
     "output_type": "display_data"
    },
    {
     "data": {
      "text/plain": [
       "\u001B[2m[DEBUG] Loading JSON file: \u001B[0m\n",
       "\u001B[2m../log/contracts_analysis_both_20250225_104133/reentrant/0xbe970a5e3d4430587e5973a4a4fa02edcbf3aeb9_reentrancy/clas\u001B[0m\n",
       "\u001B[2msification.json\u001B[0m\n"
      ],
      "text/html": [
       "<pre style=\"white-space:pre;overflow-x:auto;line-height:normal;font-family:Menlo,'DejaVu Sans Mono',consolas,'Courier New',monospace\"><span style=\"color: #7f7f7f; text-decoration-color: #7f7f7f\">[DEBUG] Loading JSON file: </span>\n",
       "<span style=\"color: #7f7f7f; text-decoration-color: #7f7f7f\">../log/contracts_analysis_both_20250225_104133/reentrant/0xbe970a5e3d4430587e5973a4a4fa02edcbf3aeb9_reentrancy/clas</span>\n",
       "<span style=\"color: #7f7f7f; text-decoration-color: #7f7f7f\">sification.json</span>\n",
       "</pre>\n"
      ]
     },
     "metadata": {},
     "output_type": "display_data"
    },
    {
     "data": {
      "text/plain": [
       "\u001B[2m[DEBUG] Classification result: reentrant, Ground truth: reentrant\u001B[0m\n"
      ],
      "text/html": [
       "<pre style=\"white-space:pre;overflow-x:auto;line-height:normal;font-family:Menlo,'DejaVu Sans Mono',consolas,'Courier New',monospace\"><span style=\"color: #7f7f7f; text-decoration-color: #7f7f7f\">[DEBUG] Classification result: reentrant, Ground truth: reentrant</span>\n",
       "</pre>\n"
      ]
     },
     "metadata": {},
     "output_type": "display_data"
    },
    {
     "data": {
      "text/plain": [
       "\u001B[2m[DEBUG] Collecting predictions from directory: \u001B[0m\n",
       "\u001B[2m../log/contracts_analysis_both_20250225_104133/reentrant/0xbe970a5e3d4430587e5973a4a4fa02edcbf3aeb9_reentrancy\u001B[0m\n"
      ],
      "text/html": [
       "<pre style=\"white-space:pre;overflow-x:auto;line-height:normal;font-family:Menlo,'DejaVu Sans Mono',consolas,'Courier New',monospace\"><span style=\"color: #7f7f7f; text-decoration-color: #7f7f7f\">[DEBUG] Collecting predictions from directory: </span>\n",
       "<span style=\"color: #7f7f7f; text-decoration-color: #7f7f7f\">../log/contracts_analysis_both_20250225_104133/reentrant/0xbe970a5e3d4430587e5973a4a4fa02edcbf3aeb9_reentrancy</span>\n",
       "</pre>\n"
      ]
     },
     "metadata": {},
     "output_type": "display_data"
    },
    {
     "data": {
      "text/plain": [
       "\u001B[2m[DEBUG] Loading JSON file: \u001B[0m\n",
       "\u001B[2m../log/contracts_analysis_both_20250225_104133/reentrant/0xbe970a5e3d4430587e5973a4a4fa02edcbf3aeb9_reentrancy/anal\u001B[0m\n",
       "\u001B[2mysis_0x0aa19b3e51dd77e482690263c8af26bec2c6542e.json\u001B[0m\n"
      ],
      "text/html": [
       "<pre style=\"white-space:pre;overflow-x:auto;line-height:normal;font-family:Menlo,'DejaVu Sans Mono',consolas,'Courier New',monospace\"><span style=\"color: #7f7f7f; text-decoration-color: #7f7f7f\">[DEBUG] Loading JSON file: </span>\n",
       "<span style=\"color: #7f7f7f; text-decoration-color: #7f7f7f\">../log/contracts_analysis_both_20250225_104133/reentrant/0xbe970a5e3d4430587e5973a4a4fa02edcbf3aeb9_reentrancy/anal</span>\n",
       "<span style=\"color: #7f7f7f; text-decoration-color: #7f7f7f\">ysis_0x0aa19b3e51dd77e482690263c8af26bec2c6542e.json</span>\n",
       "</pre>\n"
      ]
     },
     "metadata": {},
     "output_type": "display_data"
    },
    {
     "data": {
      "text/plain": [
       "\u001B[2m[DEBUG] Loading JSON file: \u001B[0m\n",
       "\u001B[2m../log/contracts_analysis_both_20250225_104133/reentrant/0xbe970a5e3d4430587e5973a4a4fa02edcbf3aeb9_reentrancy/anal\u001B[0m\n",
       "\u001B[2mysis_0x0aab3ac447ea90739bdbe4e0e00af0a54038904a.json\u001B[0m\n"
      ],
      "text/html": [
       "<pre style=\"white-space:pre;overflow-x:auto;line-height:normal;font-family:Menlo,'DejaVu Sans Mono',consolas,'Courier New',monospace\"><span style=\"color: #7f7f7f; text-decoration-color: #7f7f7f\">[DEBUG] Loading JSON file: </span>\n",
       "<span style=\"color: #7f7f7f; text-decoration-color: #7f7f7f\">../log/contracts_analysis_both_20250225_104133/reentrant/0xbe970a5e3d4430587e5973a4a4fa02edcbf3aeb9_reentrancy/anal</span>\n",
       "<span style=\"color: #7f7f7f; text-decoration-color: #7f7f7f\">ysis_0x0aab3ac447ea90739bdbe4e0e00af0a54038904a.json</span>\n",
       "</pre>\n"
      ]
     },
     "metadata": {},
     "output_type": "display_data"
    },
    {
     "data": {
      "text/plain": [
       "\u001B[2m[DEBUG] Loading JSON file: \u001B[0m\n",
       "\u001B[2m../log/contracts_analysis_both_20250225_104133/reentrant/0xbe970a5e3d4430587e5973a4a4fa02edcbf3aeb9_reentrancy/anal\u001B[0m\n",
       "\u001B[2mysis_0x0a8c3b7e149891ff594e3ad580f8e1769151a07b.json\u001B[0m\n"
      ],
      "text/html": [
       "<pre style=\"white-space:pre;overflow-x:auto;line-height:normal;font-family:Menlo,'DejaVu Sans Mono',consolas,'Courier New',monospace\"><span style=\"color: #7f7f7f; text-decoration-color: #7f7f7f\">[DEBUG] Loading JSON file: </span>\n",
       "<span style=\"color: #7f7f7f; text-decoration-color: #7f7f7f\">../log/contracts_analysis_both_20250225_104133/reentrant/0xbe970a5e3d4430587e5973a4a4fa02edcbf3aeb9_reentrancy/anal</span>\n",
       "<span style=\"color: #7f7f7f; text-decoration-color: #7f7f7f\">ysis_0x0a8c3b7e149891ff594e3ad580f8e1769151a07b.json</span>\n",
       "</pre>\n"
      ]
     },
     "metadata": {},
     "output_type": "display_data"
    },
    {
     "data": {
      "text/plain": [
       "\u001B[2m[DEBUG] Collected predictions: ['reentrant', 'reentrant', 'reentrant']\u001B[0m\n"
      ],
      "text/html": [
       "<pre style=\"white-space:pre;overflow-x:auto;line-height:normal;font-family:Menlo,'DejaVu Sans Mono',consolas,'Courier New',monospace\"><span style=\"color: #7f7f7f; text-decoration-color: #7f7f7f\">[DEBUG] Collected predictions: ['reentrant', 'reentrant', 'reentrant']</span>\n",
       "</pre>\n"
      ]
     },
     "metadata": {},
     "output_type": "display_data"
    },
    {
     "data": {
      "text/plain": [
       "\u001B[2m[DEBUG] Determined ground truth for \u001B[0m\n",
       "\u001B[2m../log/contracts_analysis_both_20250225_104133/reentrant/0xe0b0831d52d970298fe4a9dd4fe3f22bcd130fae: reentrant\u001B[0m\n"
      ],
      "text/html": [
       "<pre style=\"white-space:pre;overflow-x:auto;line-height:normal;font-family:Menlo,'DejaVu Sans Mono',consolas,'Courier New',monospace\"><span style=\"color: #7f7f7f; text-decoration-color: #7f7f7f\">[DEBUG] Determined ground truth for </span>\n",
       "<span style=\"color: #7f7f7f; text-decoration-color: #7f7f7f\">../log/contracts_analysis_both_20250225_104133/reentrant/0xe0b0831d52d970298fe4a9dd4fe3f22bcd130fae: reentrant</span>\n",
       "</pre>\n"
      ]
     },
     "metadata": {},
     "output_type": "display_data"
    },
    {
     "data": {
      "text/plain": [
       "\u001B[2m[DEBUG] Processing classification file: \u001B[0m\n",
       "\u001B[2m../log/contracts_analysis_both_20250225_104133/reentrant/0xe0b0831d52d970298fe4a9dd4fe3f22bcd130fae/classification.\u001B[0m\n",
       "\u001B[2mjson\u001B[0m\n"
      ],
      "text/html": [
       "<pre style=\"white-space:pre;overflow-x:auto;line-height:normal;font-family:Menlo,'DejaVu Sans Mono',consolas,'Courier New',monospace\"><span style=\"color: #7f7f7f; text-decoration-color: #7f7f7f\">[DEBUG] Processing classification file: </span>\n",
       "<span style=\"color: #7f7f7f; text-decoration-color: #7f7f7f\">../log/contracts_analysis_both_20250225_104133/reentrant/0xe0b0831d52d970298fe4a9dd4fe3f22bcd130fae/classification.</span>\n",
       "<span style=\"color: #7f7f7f; text-decoration-color: #7f7f7f\">json</span>\n",
       "</pre>\n"
      ]
     },
     "metadata": {},
     "output_type": "display_data"
    },
    {
     "data": {
      "text/plain": [
       "\u001B[2m[DEBUG] Loading JSON file: \u001B[0m\n",
       "\u001B[2m../log/contracts_analysis_both_20250225_104133/reentrant/0xe0b0831d52d970298fe4a9dd4fe3f22bcd130fae/classification.\u001B[0m\n",
       "\u001B[2mjson\u001B[0m\n"
      ],
      "text/html": [
       "<pre style=\"white-space:pre;overflow-x:auto;line-height:normal;font-family:Menlo,'DejaVu Sans Mono',consolas,'Courier New',monospace\"><span style=\"color: #7f7f7f; text-decoration-color: #7f7f7f\">[DEBUG] Loading JSON file: </span>\n",
       "<span style=\"color: #7f7f7f; text-decoration-color: #7f7f7f\">../log/contracts_analysis_both_20250225_104133/reentrant/0xe0b0831d52d970298fe4a9dd4fe3f22bcd130fae/classification.</span>\n",
       "<span style=\"color: #7f7f7f; text-decoration-color: #7f7f7f\">json</span>\n",
       "</pre>\n"
      ]
     },
     "metadata": {},
     "output_type": "display_data"
    },
    {
     "data": {
      "text/plain": [
       "\u001B[2m[DEBUG] Classification result: reentrant, Ground truth: reentrant\u001B[0m\n"
      ],
      "text/html": [
       "<pre style=\"white-space:pre;overflow-x:auto;line-height:normal;font-family:Menlo,'DejaVu Sans Mono',consolas,'Courier New',monospace\"><span style=\"color: #7f7f7f; text-decoration-color: #7f7f7f\">[DEBUG] Classification result: reentrant, Ground truth: reentrant</span>\n",
       "</pre>\n"
      ]
     },
     "metadata": {},
     "output_type": "display_data"
    },
    {
     "data": {
      "text/plain": [
       "\u001B[2m[DEBUG] Collecting predictions from directory: \u001B[0m\n",
       "\u001B[2m../log/contracts_analysis_both_20250225_104133/reentrant/0xe0b0831d52d970298fe4a9dd4fe3f22bcd130fae\u001B[0m\n"
      ],
      "text/html": [
       "<pre style=\"white-space:pre;overflow-x:auto;line-height:normal;font-family:Menlo,'DejaVu Sans Mono',consolas,'Courier New',monospace\"><span style=\"color: #7f7f7f; text-decoration-color: #7f7f7f\">[DEBUG] Collecting predictions from directory: </span>\n",
       "<span style=\"color: #7f7f7f; text-decoration-color: #7f7f7f\">../log/contracts_analysis_both_20250225_104133/reentrant/0xe0b0831d52d970298fe4a9dd4fe3f22bcd130fae</span>\n",
       "</pre>\n"
      ]
     },
     "metadata": {},
     "output_type": "display_data"
    },
    {
     "data": {
      "text/plain": [
       "\u001B[2m[DEBUG] Loading JSON file: \u001B[0m\n",
       "\u001B[2m../log/contracts_analysis_both_20250225_104133/reentrant/0xe0b0831d52d970298fe4a9dd4fe3f22bcd130fae/analysis_0x0aa1\u001B[0m\n",
       "\u001B[2m9b3e51dd77e482690263c8af26bec2c6542e.json\u001B[0m\n"
      ],
      "text/html": [
       "<pre style=\"white-space:pre;overflow-x:auto;line-height:normal;font-family:Menlo,'DejaVu Sans Mono',consolas,'Courier New',monospace\"><span style=\"color: #7f7f7f; text-decoration-color: #7f7f7f\">[DEBUG] Loading JSON file: </span>\n",
       "<span style=\"color: #7f7f7f; text-decoration-color: #7f7f7f\">../log/contracts_analysis_both_20250225_104133/reentrant/0xe0b0831d52d970298fe4a9dd4fe3f22bcd130fae/analysis_0x0aa1</span>\n",
       "<span style=\"color: #7f7f7f; text-decoration-color: #7f7f7f\">9b3e51dd77e482690263c8af26bec2c6542e.json</span>\n",
       "</pre>\n"
      ]
     },
     "metadata": {},
     "output_type": "display_data"
    },
    {
     "data": {
      "text/plain": [
       "\u001B[2m[DEBUG] Loading JSON file: \u001B[0m\n",
       "\u001B[2m../log/contracts_analysis_both_20250225_104133/reentrant/0xe0b0831d52d970298fe4a9dd4fe3f22bcd130fae/analysis_0x0aab\u001B[0m\n",
       "\u001B[2m3ac447ea90739bdbe4e0e00af0a54038904a.json\u001B[0m\n"
      ],
      "text/html": [
       "<pre style=\"white-space:pre;overflow-x:auto;line-height:normal;font-family:Menlo,'DejaVu Sans Mono',consolas,'Courier New',monospace\"><span style=\"color: #7f7f7f; text-decoration-color: #7f7f7f\">[DEBUG] Loading JSON file: </span>\n",
       "<span style=\"color: #7f7f7f; text-decoration-color: #7f7f7f\">../log/contracts_analysis_both_20250225_104133/reentrant/0xe0b0831d52d970298fe4a9dd4fe3f22bcd130fae/analysis_0x0aab</span>\n",
       "<span style=\"color: #7f7f7f; text-decoration-color: #7f7f7f\">3ac447ea90739bdbe4e0e00af0a54038904a.json</span>\n",
       "</pre>\n"
      ]
     },
     "metadata": {},
     "output_type": "display_data"
    },
    {
     "data": {
      "text/plain": [
       "\u001B[2m[DEBUG] Loading JSON file: \u001B[0m\n",
       "\u001B[2m../log/contracts_analysis_both_20250225_104133/reentrant/0xe0b0831d52d970298fe4a9dd4fe3f22bcd130fae/analysis_0x0a8c\u001B[0m\n",
       "\u001B[2m3b7e149891ff594e3ad580f8e1769151a07b.json\u001B[0m\n"
      ],
      "text/html": [
       "<pre style=\"white-space:pre;overflow-x:auto;line-height:normal;font-family:Menlo,'DejaVu Sans Mono',consolas,'Courier New',monospace\"><span style=\"color: #7f7f7f; text-decoration-color: #7f7f7f\">[DEBUG] Loading JSON file: </span>\n",
       "<span style=\"color: #7f7f7f; text-decoration-color: #7f7f7f\">../log/contracts_analysis_both_20250225_104133/reentrant/0xe0b0831d52d970298fe4a9dd4fe3f22bcd130fae/analysis_0x0a8c</span>\n",
       "<span style=\"color: #7f7f7f; text-decoration-color: #7f7f7f\">3b7e149891ff594e3ad580f8e1769151a07b.json</span>\n",
       "</pre>\n"
      ]
     },
     "metadata": {},
     "output_type": "display_data"
    },
    {
     "data": {
      "text/plain": [
       "\u001B[2m[DEBUG] Collected predictions: ['reentrant', 'reentrant', 'reentrant']\u001B[0m\n"
      ],
      "text/html": [
       "<pre style=\"white-space:pre;overflow-x:auto;line-height:normal;font-family:Menlo,'DejaVu Sans Mono',consolas,'Courier New',monospace\"><span style=\"color: #7f7f7f; text-decoration-color: #7f7f7f\">[DEBUG] Collected predictions: ['reentrant', 'reentrant', 'reentrant']</span>\n",
       "</pre>\n"
      ]
     },
     "metadata": {},
     "output_type": "display_data"
    },
    {
     "data": {
      "text/plain": [
       "\u001B[2m[DEBUG] Determined ground truth for \u001B[0m\n",
       "\u001B[2m../log/contracts_analysis_both_20250225_104133/reentrant/0x79ad73567e7f9a5b4a2d28264f78aff9d971cf14: reentrant\u001B[0m\n"
      ],
      "text/html": [
       "<pre style=\"white-space:pre;overflow-x:auto;line-height:normal;font-family:Menlo,'DejaVu Sans Mono',consolas,'Courier New',monospace\"><span style=\"color: #7f7f7f; text-decoration-color: #7f7f7f\">[DEBUG] Determined ground truth for </span>\n",
       "<span style=\"color: #7f7f7f; text-decoration-color: #7f7f7f\">../log/contracts_analysis_both_20250225_104133/reentrant/0x79ad73567e7f9a5b4a2d28264f78aff9d971cf14: reentrant</span>\n",
       "</pre>\n"
      ]
     },
     "metadata": {},
     "output_type": "display_data"
    },
    {
     "data": {
      "text/plain": [
       "\u001B[2m[DEBUG] Processing classification file: \u001B[0m\n",
       "\u001B[2m../log/contracts_analysis_both_20250225_104133/reentrant/0x79ad73567e7f9a5b4a2d28264f78aff9d971cf14/classification.\u001B[0m\n",
       "\u001B[2mjson\u001B[0m\n"
      ],
      "text/html": [
       "<pre style=\"white-space:pre;overflow-x:auto;line-height:normal;font-family:Menlo,'DejaVu Sans Mono',consolas,'Courier New',monospace\"><span style=\"color: #7f7f7f; text-decoration-color: #7f7f7f\">[DEBUG] Processing classification file: </span>\n",
       "<span style=\"color: #7f7f7f; text-decoration-color: #7f7f7f\">../log/contracts_analysis_both_20250225_104133/reentrant/0x79ad73567e7f9a5b4a2d28264f78aff9d971cf14/classification.</span>\n",
       "<span style=\"color: #7f7f7f; text-decoration-color: #7f7f7f\">json</span>\n",
       "</pre>\n"
      ]
     },
     "metadata": {},
     "output_type": "display_data"
    },
    {
     "data": {
      "text/plain": [
       "\u001B[2m[DEBUG] Loading JSON file: \u001B[0m\n",
       "\u001B[2m../log/contracts_analysis_both_20250225_104133/reentrant/0x79ad73567e7f9a5b4a2d28264f78aff9d971cf14/classification.\u001B[0m\n",
       "\u001B[2mjson\u001B[0m\n"
      ],
      "text/html": [
       "<pre style=\"white-space:pre;overflow-x:auto;line-height:normal;font-family:Menlo,'DejaVu Sans Mono',consolas,'Courier New',monospace\"><span style=\"color: #7f7f7f; text-decoration-color: #7f7f7f\">[DEBUG] Loading JSON file: </span>\n",
       "<span style=\"color: #7f7f7f; text-decoration-color: #7f7f7f\">../log/contracts_analysis_both_20250225_104133/reentrant/0x79ad73567e7f9a5b4a2d28264f78aff9d971cf14/classification.</span>\n",
       "<span style=\"color: #7f7f7f; text-decoration-color: #7f7f7f\">json</span>\n",
       "</pre>\n"
      ]
     },
     "metadata": {},
     "output_type": "display_data"
    },
    {
     "data": {
      "text/plain": [
       "\u001B[2m[DEBUG] Classification result: reentrant, Ground truth: reentrant\u001B[0m\n"
      ],
      "text/html": [
       "<pre style=\"white-space:pre;overflow-x:auto;line-height:normal;font-family:Menlo,'DejaVu Sans Mono',consolas,'Courier New',monospace\"><span style=\"color: #7f7f7f; text-decoration-color: #7f7f7f\">[DEBUG] Classification result: reentrant, Ground truth: reentrant</span>\n",
       "</pre>\n"
      ]
     },
     "metadata": {},
     "output_type": "display_data"
    },
    {
     "data": {
      "text/plain": [
       "\u001B[2m[DEBUG] Collecting predictions from directory: \u001B[0m\n",
       "\u001B[2m../log/contracts_analysis_both_20250225_104133/reentrant/0x79ad73567e7f9a5b4a2d28264f78aff9d971cf14\u001B[0m\n"
      ],
      "text/html": [
       "<pre style=\"white-space:pre;overflow-x:auto;line-height:normal;font-family:Menlo,'DejaVu Sans Mono',consolas,'Courier New',monospace\"><span style=\"color: #7f7f7f; text-decoration-color: #7f7f7f\">[DEBUG] Collecting predictions from directory: </span>\n",
       "<span style=\"color: #7f7f7f; text-decoration-color: #7f7f7f\">../log/contracts_analysis_both_20250225_104133/reentrant/0x79ad73567e7f9a5b4a2d28264f78aff9d971cf14</span>\n",
       "</pre>\n"
      ]
     },
     "metadata": {},
     "output_type": "display_data"
    },
    {
     "data": {
      "text/plain": [
       "\u001B[2m[DEBUG] Loading JSON file: \u001B[0m\n",
       "\u001B[2m../log/contracts_analysis_both_20250225_104133/reentrant/0x79ad73567e7f9a5b4a2d28264f78aff9d971cf14/analysis_0x0aa1\u001B[0m\n",
       "\u001B[2m9b3e51dd77e482690263c8af26bec2c6542e.json\u001B[0m\n"
      ],
      "text/html": [
       "<pre style=\"white-space:pre;overflow-x:auto;line-height:normal;font-family:Menlo,'DejaVu Sans Mono',consolas,'Courier New',monospace\"><span style=\"color: #7f7f7f; text-decoration-color: #7f7f7f\">[DEBUG] Loading JSON file: </span>\n",
       "<span style=\"color: #7f7f7f; text-decoration-color: #7f7f7f\">../log/contracts_analysis_both_20250225_104133/reentrant/0x79ad73567e7f9a5b4a2d28264f78aff9d971cf14/analysis_0x0aa1</span>\n",
       "<span style=\"color: #7f7f7f; text-decoration-color: #7f7f7f\">9b3e51dd77e482690263c8af26bec2c6542e.json</span>\n",
       "</pre>\n"
      ]
     },
     "metadata": {},
     "output_type": "display_data"
    },
    {
     "data": {
      "text/plain": [
       "\u001B[2m[DEBUG] Loading JSON file: \u001B[0m\n",
       "\u001B[2m../log/contracts_analysis_both_20250225_104133/reentrant/0x79ad73567e7f9a5b4a2d28264f78aff9d971cf14/analysis_0x0aab\u001B[0m\n",
       "\u001B[2m3ac447ea90739bdbe4e0e00af0a54038904a.json\u001B[0m\n"
      ],
      "text/html": [
       "<pre style=\"white-space:pre;overflow-x:auto;line-height:normal;font-family:Menlo,'DejaVu Sans Mono',consolas,'Courier New',monospace\"><span style=\"color: #7f7f7f; text-decoration-color: #7f7f7f\">[DEBUG] Loading JSON file: </span>\n",
       "<span style=\"color: #7f7f7f; text-decoration-color: #7f7f7f\">../log/contracts_analysis_both_20250225_104133/reentrant/0x79ad73567e7f9a5b4a2d28264f78aff9d971cf14/analysis_0x0aab</span>\n",
       "<span style=\"color: #7f7f7f; text-decoration-color: #7f7f7f\">3ac447ea90739bdbe4e0e00af0a54038904a.json</span>\n",
       "</pre>\n"
      ]
     },
     "metadata": {},
     "output_type": "display_data"
    },
    {
     "data": {
      "text/plain": [
       "\u001B[2m[DEBUG] Loading JSON file: \u001B[0m\n",
       "\u001B[2m../log/contracts_analysis_both_20250225_104133/reentrant/0x79ad73567e7f9a5b4a2d28264f78aff9d971cf14/analysis_0x0a8c\u001B[0m\n",
       "\u001B[2m3b7e149891ff594e3ad580f8e1769151a07b.json\u001B[0m\n"
      ],
      "text/html": [
       "<pre style=\"white-space:pre;overflow-x:auto;line-height:normal;font-family:Menlo,'DejaVu Sans Mono',consolas,'Courier New',monospace\"><span style=\"color: #7f7f7f; text-decoration-color: #7f7f7f\">[DEBUG] Loading JSON file: </span>\n",
       "<span style=\"color: #7f7f7f; text-decoration-color: #7f7f7f\">../log/contracts_analysis_both_20250225_104133/reentrant/0x79ad73567e7f9a5b4a2d28264f78aff9d971cf14/analysis_0x0a8c</span>\n",
       "<span style=\"color: #7f7f7f; text-decoration-color: #7f7f7f\">3b7e149891ff594e3ad580f8e1769151a07b.json</span>\n",
       "</pre>\n"
      ]
     },
     "metadata": {},
     "output_type": "display_data"
    },
    {
     "data": {
      "text/plain": [
       "\u001B[2m[DEBUG] Collected predictions: ['reentrant', 'reentrant', 'reentrant']\u001B[0m\n"
      ],
      "text/html": [
       "<pre style=\"white-space:pre;overflow-x:auto;line-height:normal;font-family:Menlo,'DejaVu Sans Mono',consolas,'Courier New',monospace\"><span style=\"color: #7f7f7f; text-decoration-color: #7f7f7f\">[DEBUG] Collected predictions: ['reentrant', 'reentrant', 'reentrant']</span>\n",
       "</pre>\n"
      ]
     },
     "metadata": {},
     "output_type": "display_data"
    },
    {
     "data": {
      "text/plain": [
       "\u001B[2m[DEBUG] Determined ground truth for \u001B[0m\n",
       "\u001B[2m../log/contracts_analysis_both_20250225_104133/reentrant/0x8ce837d6e4da96a25c3b2cc4c27a5e6813dd95f2_reentrancy: \u001B[0m\n",
       "\u001B[2mreentrant\u001B[0m\n"
      ],
      "text/html": [
       "<pre style=\"white-space:pre;overflow-x:auto;line-height:normal;font-family:Menlo,'DejaVu Sans Mono',consolas,'Courier New',monospace\"><span style=\"color: #7f7f7f; text-decoration-color: #7f7f7f\">[DEBUG] Determined ground truth for </span>\n",
       "<span style=\"color: #7f7f7f; text-decoration-color: #7f7f7f\">../log/contracts_analysis_both_20250225_104133/reentrant/0x8ce837d6e4da96a25c3b2cc4c27a5e6813dd95f2_reentrancy: </span>\n",
       "<span style=\"color: #7f7f7f; text-decoration-color: #7f7f7f\">reentrant</span>\n",
       "</pre>\n"
      ]
     },
     "metadata": {},
     "output_type": "display_data"
    },
    {
     "data": {
      "text/plain": [
       "\u001B[2m[DEBUG] Processing classification file: \u001B[0m\n",
       "\u001B[2m../log/contracts_analysis_both_20250225_104133/reentrant/0x8ce837d6e4da96a25c3b2cc4c27a5e6813dd95f2_reentrancy/clas\u001B[0m\n",
       "\u001B[2msification.json\u001B[0m\n"
      ],
      "text/html": [
       "<pre style=\"white-space:pre;overflow-x:auto;line-height:normal;font-family:Menlo,'DejaVu Sans Mono',consolas,'Courier New',monospace\"><span style=\"color: #7f7f7f; text-decoration-color: #7f7f7f\">[DEBUG] Processing classification file: </span>\n",
       "<span style=\"color: #7f7f7f; text-decoration-color: #7f7f7f\">../log/contracts_analysis_both_20250225_104133/reentrant/0x8ce837d6e4da96a25c3b2cc4c27a5e6813dd95f2_reentrancy/clas</span>\n",
       "<span style=\"color: #7f7f7f; text-decoration-color: #7f7f7f\">sification.json</span>\n",
       "</pre>\n"
      ]
     },
     "metadata": {},
     "output_type": "display_data"
    },
    {
     "data": {
      "text/plain": [
       "\u001B[2m[DEBUG] Loading JSON file: \u001B[0m\n",
       "\u001B[2m../log/contracts_analysis_both_20250225_104133/reentrant/0x8ce837d6e4da96a25c3b2cc4c27a5e6813dd95f2_reentrancy/clas\u001B[0m\n",
       "\u001B[2msification.json\u001B[0m\n"
      ],
      "text/html": [
       "<pre style=\"white-space:pre;overflow-x:auto;line-height:normal;font-family:Menlo,'DejaVu Sans Mono',consolas,'Courier New',monospace\"><span style=\"color: #7f7f7f; text-decoration-color: #7f7f7f\">[DEBUG] Loading JSON file: </span>\n",
       "<span style=\"color: #7f7f7f; text-decoration-color: #7f7f7f\">../log/contracts_analysis_both_20250225_104133/reentrant/0x8ce837d6e4da96a25c3b2cc4c27a5e6813dd95f2_reentrancy/clas</span>\n",
       "<span style=\"color: #7f7f7f; text-decoration-color: #7f7f7f\">sification.json</span>\n",
       "</pre>\n"
      ]
     },
     "metadata": {},
     "output_type": "display_data"
    },
    {
     "data": {
      "text/plain": [
       "\u001B[2m[DEBUG] Classification result: reentrant, Ground truth: reentrant\u001B[0m\n"
      ],
      "text/html": [
       "<pre style=\"white-space:pre;overflow-x:auto;line-height:normal;font-family:Menlo,'DejaVu Sans Mono',consolas,'Courier New',monospace\"><span style=\"color: #7f7f7f; text-decoration-color: #7f7f7f\">[DEBUG] Classification result: reentrant, Ground truth: reentrant</span>\n",
       "</pre>\n"
      ]
     },
     "metadata": {},
     "output_type": "display_data"
    },
    {
     "data": {
      "text/plain": [
       "\u001B[2m[DEBUG] Collecting predictions from directory: \u001B[0m\n",
       "\u001B[2m../log/contracts_analysis_both_20250225_104133/reentrant/0x8ce837d6e4da96a25c3b2cc4c27a5e6813dd95f2_reentrancy\u001B[0m\n"
      ],
      "text/html": [
       "<pre style=\"white-space:pre;overflow-x:auto;line-height:normal;font-family:Menlo,'DejaVu Sans Mono',consolas,'Courier New',monospace\"><span style=\"color: #7f7f7f; text-decoration-color: #7f7f7f\">[DEBUG] Collecting predictions from directory: </span>\n",
       "<span style=\"color: #7f7f7f; text-decoration-color: #7f7f7f\">../log/contracts_analysis_both_20250225_104133/reentrant/0x8ce837d6e4da96a25c3b2cc4c27a5e6813dd95f2_reentrancy</span>\n",
       "</pre>\n"
      ]
     },
     "metadata": {},
     "output_type": "display_data"
    },
    {
     "data": {
      "text/plain": [
       "\u001B[2m[DEBUG] Loading JSON file: \u001B[0m\n",
       "\u001B[2m../log/contracts_analysis_both_20250225_104133/reentrant/0x8ce837d6e4da96a25c3b2cc4c27a5e6813dd95f2_reentrancy/anal\u001B[0m\n",
       "\u001B[2mysis_0x0aa19b3e51dd77e482690263c8af26bec2c6542e.json\u001B[0m\n"
      ],
      "text/html": [
       "<pre style=\"white-space:pre;overflow-x:auto;line-height:normal;font-family:Menlo,'DejaVu Sans Mono',consolas,'Courier New',monospace\"><span style=\"color: #7f7f7f; text-decoration-color: #7f7f7f\">[DEBUG] Loading JSON file: </span>\n",
       "<span style=\"color: #7f7f7f; text-decoration-color: #7f7f7f\">../log/contracts_analysis_both_20250225_104133/reentrant/0x8ce837d6e4da96a25c3b2cc4c27a5e6813dd95f2_reentrancy/anal</span>\n",
       "<span style=\"color: #7f7f7f; text-decoration-color: #7f7f7f\">ysis_0x0aa19b3e51dd77e482690263c8af26bec2c6542e.json</span>\n",
       "</pre>\n"
      ]
     },
     "metadata": {},
     "output_type": "display_data"
    },
    {
     "data": {
      "text/plain": [
       "\u001B[2m[DEBUG] Loading JSON file: \u001B[0m\n",
       "\u001B[2m../log/contracts_analysis_both_20250225_104133/reentrant/0x8ce837d6e4da96a25c3b2cc4c27a5e6813dd95f2_reentrancy/anal\u001B[0m\n",
       "\u001B[2mysis_0x0aab3ac447ea90739bdbe4e0e00af0a54038904a.json\u001B[0m\n"
      ],
      "text/html": [
       "<pre style=\"white-space:pre;overflow-x:auto;line-height:normal;font-family:Menlo,'DejaVu Sans Mono',consolas,'Courier New',monospace\"><span style=\"color: #7f7f7f; text-decoration-color: #7f7f7f\">[DEBUG] Loading JSON file: </span>\n",
       "<span style=\"color: #7f7f7f; text-decoration-color: #7f7f7f\">../log/contracts_analysis_both_20250225_104133/reentrant/0x8ce837d6e4da96a25c3b2cc4c27a5e6813dd95f2_reentrancy/anal</span>\n",
       "<span style=\"color: #7f7f7f; text-decoration-color: #7f7f7f\">ysis_0x0aab3ac447ea90739bdbe4e0e00af0a54038904a.json</span>\n",
       "</pre>\n"
      ]
     },
     "metadata": {},
     "output_type": "display_data"
    },
    {
     "data": {
      "text/plain": [
       "\u001B[2m[DEBUG] Loading JSON file: \u001B[0m\n",
       "\u001B[2m../log/contracts_analysis_both_20250225_104133/reentrant/0x8ce837d6e4da96a25c3b2cc4c27a5e6813dd95f2_reentrancy/anal\u001B[0m\n",
       "\u001B[2mysis_0x0a8c3b7e149891ff594e3ad580f8e1769151a07b.json\u001B[0m\n"
      ],
      "text/html": [
       "<pre style=\"white-space:pre;overflow-x:auto;line-height:normal;font-family:Menlo,'DejaVu Sans Mono',consolas,'Courier New',monospace\"><span style=\"color: #7f7f7f; text-decoration-color: #7f7f7f\">[DEBUG] Loading JSON file: </span>\n",
       "<span style=\"color: #7f7f7f; text-decoration-color: #7f7f7f\">../log/contracts_analysis_both_20250225_104133/reentrant/0x8ce837d6e4da96a25c3b2cc4c27a5e6813dd95f2_reentrancy/anal</span>\n",
       "<span style=\"color: #7f7f7f; text-decoration-color: #7f7f7f\">ysis_0x0a8c3b7e149891ff594e3ad580f8e1769151a07b.json</span>\n",
       "</pre>\n"
      ]
     },
     "metadata": {},
     "output_type": "display_data"
    },
    {
     "data": {
      "text/plain": [
       "\u001B[2m[DEBUG] Collected predictions: ['reentrant', 'reentrant', 'reentrant']\u001B[0m\n"
      ],
      "text/html": [
       "<pre style=\"white-space:pre;overflow-x:auto;line-height:normal;font-family:Menlo,'DejaVu Sans Mono',consolas,'Courier New',monospace\"><span style=\"color: #7f7f7f; text-decoration-color: #7f7f7f\">[DEBUG] Collected predictions: ['reentrant', 'reentrant', 'reentrant']</span>\n",
       "</pre>\n"
      ]
     },
     "metadata": {},
     "output_type": "display_data"
    },
    {
     "data": {
      "text/plain": [
       "\u001B[2m[DEBUG] Determined ground truth for \u001B[0m\n",
       "\u001B[2m../log/contracts_analysis_both_20250225_104133/reentrant/0fbab693f1d854ab81e71b92c52bcfdf: reentrant\u001B[0m\n"
      ],
      "text/html": [
       "<pre style=\"white-space:pre;overflow-x:auto;line-height:normal;font-family:Menlo,'DejaVu Sans Mono',consolas,'Courier New',monospace\"><span style=\"color: #7f7f7f; text-decoration-color: #7f7f7f\">[DEBUG] Determined ground truth for </span>\n",
       "<span style=\"color: #7f7f7f; text-decoration-color: #7f7f7f\">../log/contracts_analysis_both_20250225_104133/reentrant/0fbab693f1d854ab81e71b92c52bcfdf: reentrant</span>\n",
       "</pre>\n"
      ]
     },
     "metadata": {},
     "output_type": "display_data"
    },
    {
     "data": {
      "text/plain": [
       "\u001B[2m[DEBUG] Processing classification file: \u001B[0m\n",
       "\u001B[2m../log/contracts_analysis_both_20250225_104133/reentrant/0fbab693f1d854ab81e71b92c52bcfdf/classification.json\u001B[0m\n"
      ],
      "text/html": [
       "<pre style=\"white-space:pre;overflow-x:auto;line-height:normal;font-family:Menlo,'DejaVu Sans Mono',consolas,'Courier New',monospace\"><span style=\"color: #7f7f7f; text-decoration-color: #7f7f7f\">[DEBUG] Processing classification file: </span>\n",
       "<span style=\"color: #7f7f7f; text-decoration-color: #7f7f7f\">../log/contracts_analysis_both_20250225_104133/reentrant/0fbab693f1d854ab81e71b92c52bcfdf/classification.json</span>\n",
       "</pre>\n"
      ]
     },
     "metadata": {},
     "output_type": "display_data"
    },
    {
     "data": {
      "text/plain": [
       "\u001B[2m[DEBUG] Loading JSON file: \u001B[0m\n",
       "\u001B[2m../log/contracts_analysis_both_20250225_104133/reentrant/0fbab693f1d854ab81e71b92c52bcfdf/classification.json\u001B[0m\n"
      ],
      "text/html": [
       "<pre style=\"white-space:pre;overflow-x:auto;line-height:normal;font-family:Menlo,'DejaVu Sans Mono',consolas,'Courier New',monospace\"><span style=\"color: #7f7f7f; text-decoration-color: #7f7f7f\">[DEBUG] Loading JSON file: </span>\n",
       "<span style=\"color: #7f7f7f; text-decoration-color: #7f7f7f\">../log/contracts_analysis_both_20250225_104133/reentrant/0fbab693f1d854ab81e71b92c52bcfdf/classification.json</span>\n",
       "</pre>\n"
      ]
     },
     "metadata": {},
     "output_type": "display_data"
    },
    {
     "data": {
      "text/plain": [
       "\u001B[2m[DEBUG] Classification result: reentrant, Ground truth: reentrant\u001B[0m\n"
      ],
      "text/html": [
       "<pre style=\"white-space:pre;overflow-x:auto;line-height:normal;font-family:Menlo,'DejaVu Sans Mono',consolas,'Courier New',monospace\"><span style=\"color: #7f7f7f; text-decoration-color: #7f7f7f\">[DEBUG] Classification result: reentrant, Ground truth: reentrant</span>\n",
       "</pre>\n"
      ]
     },
     "metadata": {},
     "output_type": "display_data"
    },
    {
     "data": {
      "text/plain": [
       "\u001B[2m[DEBUG] Collecting predictions from directory: \u001B[0m\n",
       "\u001B[2m../log/contracts_analysis_both_20250225_104133/reentrant/0fbab693f1d854ab81e71b92c52bcfdf\u001B[0m\n"
      ],
      "text/html": [
       "<pre style=\"white-space:pre;overflow-x:auto;line-height:normal;font-family:Menlo,'DejaVu Sans Mono',consolas,'Courier New',monospace\"><span style=\"color: #7f7f7f; text-decoration-color: #7f7f7f\">[DEBUG] Collecting predictions from directory: </span>\n",
       "<span style=\"color: #7f7f7f; text-decoration-color: #7f7f7f\">../log/contracts_analysis_both_20250225_104133/reentrant/0fbab693f1d854ab81e71b92c52bcfdf</span>\n",
       "</pre>\n"
      ]
     },
     "metadata": {},
     "output_type": "display_data"
    },
    {
     "data": {
      "text/plain": [
       "\u001B[2m[DEBUG] Loading JSON file: \u001B[0m\n",
       "\u001B[2m../log/contracts_analysis_both_20250225_104133/reentrant/0fbab693f1d854ab81e71b92c52bcfdf/analysis_0x0aa19b3e51dd77\u001B[0m\n",
       "\u001B[2me482690263c8af26bec2c6542e.json\u001B[0m\n"
      ],
      "text/html": [
       "<pre style=\"white-space:pre;overflow-x:auto;line-height:normal;font-family:Menlo,'DejaVu Sans Mono',consolas,'Courier New',monospace\"><span style=\"color: #7f7f7f; text-decoration-color: #7f7f7f\">[DEBUG] Loading JSON file: </span>\n",
       "<span style=\"color: #7f7f7f; text-decoration-color: #7f7f7f\">../log/contracts_analysis_both_20250225_104133/reentrant/0fbab693f1d854ab81e71b92c52bcfdf/analysis_0x0aa19b3e51dd77</span>\n",
       "<span style=\"color: #7f7f7f; text-decoration-color: #7f7f7f\">e482690263c8af26bec2c6542e.json</span>\n",
       "</pre>\n"
      ]
     },
     "metadata": {},
     "output_type": "display_data"
    },
    {
     "data": {
      "text/plain": [
       "\u001B[2m[DEBUG] Loading JSON file: \u001B[0m\n",
       "\u001B[2m../log/contracts_analysis_both_20250225_104133/reentrant/0fbab693f1d854ab81e71b92c52bcfdf/analysis_0x0aab3ac447ea90\u001B[0m\n",
       "\u001B[2m739bdbe4e0e00af0a54038904a.json\u001B[0m\n"
      ],
      "text/html": [
       "<pre style=\"white-space:pre;overflow-x:auto;line-height:normal;font-family:Menlo,'DejaVu Sans Mono',consolas,'Courier New',monospace\"><span style=\"color: #7f7f7f; text-decoration-color: #7f7f7f\">[DEBUG] Loading JSON file: </span>\n",
       "<span style=\"color: #7f7f7f; text-decoration-color: #7f7f7f\">../log/contracts_analysis_both_20250225_104133/reentrant/0fbab693f1d854ab81e71b92c52bcfdf/analysis_0x0aab3ac447ea90</span>\n",
       "<span style=\"color: #7f7f7f; text-decoration-color: #7f7f7f\">739bdbe4e0e00af0a54038904a.json</span>\n",
       "</pre>\n"
      ]
     },
     "metadata": {},
     "output_type": "display_data"
    },
    {
     "data": {
      "text/plain": [
       "\u001B[2m[DEBUG] Loading JSON file: \u001B[0m\n",
       "\u001B[2m../log/contracts_analysis_both_20250225_104133/reentrant/0fbab693f1d854ab81e71b92c52bcfdf/analysis_0x0a8c3b7e149891\u001B[0m\n",
       "\u001B[2mff594e3ad580f8e1769151a07b.json\u001B[0m\n"
      ],
      "text/html": [
       "<pre style=\"white-space:pre;overflow-x:auto;line-height:normal;font-family:Menlo,'DejaVu Sans Mono',consolas,'Courier New',monospace\"><span style=\"color: #7f7f7f; text-decoration-color: #7f7f7f\">[DEBUG] Loading JSON file: </span>\n",
       "<span style=\"color: #7f7f7f; text-decoration-color: #7f7f7f\">../log/contracts_analysis_both_20250225_104133/reentrant/0fbab693f1d854ab81e71b92c52bcfdf/analysis_0x0a8c3b7e149891</span>\n",
       "<span style=\"color: #7f7f7f; text-decoration-color: #7f7f7f\">ff594e3ad580f8e1769151a07b.json</span>\n",
       "</pre>\n"
      ]
     },
     "metadata": {},
     "output_type": "display_data"
    },
    {
     "data": {
      "text/plain": [
       "\u001B[2m[DEBUG] Collected predictions: ['reentrant', 'reentrant', 'reentrant']\u001B[0m\n"
      ],
      "text/html": [
       "<pre style=\"white-space:pre;overflow-x:auto;line-height:normal;font-family:Menlo,'DejaVu Sans Mono',consolas,'Courier New',monospace\"><span style=\"color: #7f7f7f; text-decoration-color: #7f7f7f\">[DEBUG] Collected predictions: ['reentrant', 'reentrant', 'reentrant']</span>\n",
       "</pre>\n"
      ]
     },
     "metadata": {},
     "output_type": "display_data"
    },
    {
     "data": {
      "text/plain": [
       "\u001B[2m[DEBUG] Determined ground truth for \u001B[0m\n",
       "\u001B[2m../log/contracts_analysis_both_20250225_104133/reentrant/0xb636d0c2021569dcdc9607a7ba4bc7f05095fa55_reentrancy: \u001B[0m\n",
       "\u001B[2mreentrant\u001B[0m\n"
      ],
      "text/html": [
       "<pre style=\"white-space:pre;overflow-x:auto;line-height:normal;font-family:Menlo,'DejaVu Sans Mono',consolas,'Courier New',monospace\"><span style=\"color: #7f7f7f; text-decoration-color: #7f7f7f\">[DEBUG] Determined ground truth for </span>\n",
       "<span style=\"color: #7f7f7f; text-decoration-color: #7f7f7f\">../log/contracts_analysis_both_20250225_104133/reentrant/0xb636d0c2021569dcdc9607a7ba4bc7f05095fa55_reentrancy: </span>\n",
       "<span style=\"color: #7f7f7f; text-decoration-color: #7f7f7f\">reentrant</span>\n",
       "</pre>\n"
      ]
     },
     "metadata": {},
     "output_type": "display_data"
    },
    {
     "data": {
      "text/plain": [
       "\u001B[2m[DEBUG] Processing classification file: \u001B[0m\n",
       "\u001B[2m../log/contracts_analysis_both_20250225_104133/reentrant/0xb636d0c2021569dcdc9607a7ba4bc7f05095fa55_reentrancy/clas\u001B[0m\n",
       "\u001B[2msification.json\u001B[0m\n"
      ],
      "text/html": [
       "<pre style=\"white-space:pre;overflow-x:auto;line-height:normal;font-family:Menlo,'DejaVu Sans Mono',consolas,'Courier New',monospace\"><span style=\"color: #7f7f7f; text-decoration-color: #7f7f7f\">[DEBUG] Processing classification file: </span>\n",
       "<span style=\"color: #7f7f7f; text-decoration-color: #7f7f7f\">../log/contracts_analysis_both_20250225_104133/reentrant/0xb636d0c2021569dcdc9607a7ba4bc7f05095fa55_reentrancy/clas</span>\n",
       "<span style=\"color: #7f7f7f; text-decoration-color: #7f7f7f\">sification.json</span>\n",
       "</pre>\n"
      ]
     },
     "metadata": {},
     "output_type": "display_data"
    },
    {
     "data": {
      "text/plain": [
       "\u001B[2m[DEBUG] Loading JSON file: \u001B[0m\n",
       "\u001B[2m../log/contracts_analysis_both_20250225_104133/reentrant/0xb636d0c2021569dcdc9607a7ba4bc7f05095fa55_reentrancy/clas\u001B[0m\n",
       "\u001B[2msification.json\u001B[0m\n"
      ],
      "text/html": [
       "<pre style=\"white-space:pre;overflow-x:auto;line-height:normal;font-family:Menlo,'DejaVu Sans Mono',consolas,'Courier New',monospace\"><span style=\"color: #7f7f7f; text-decoration-color: #7f7f7f\">[DEBUG] Loading JSON file: </span>\n",
       "<span style=\"color: #7f7f7f; text-decoration-color: #7f7f7f\">../log/contracts_analysis_both_20250225_104133/reentrant/0xb636d0c2021569dcdc9607a7ba4bc7f05095fa55_reentrancy/clas</span>\n",
       "<span style=\"color: #7f7f7f; text-decoration-color: #7f7f7f\">sification.json</span>\n",
       "</pre>\n"
      ]
     },
     "metadata": {},
     "output_type": "display_data"
    },
    {
     "data": {
      "text/plain": [
       "\u001B[2m[DEBUG] Classification result: reentrant, Ground truth: reentrant\u001B[0m\n"
      ],
      "text/html": [
       "<pre style=\"white-space:pre;overflow-x:auto;line-height:normal;font-family:Menlo,'DejaVu Sans Mono',consolas,'Courier New',monospace\"><span style=\"color: #7f7f7f; text-decoration-color: #7f7f7f\">[DEBUG] Classification result: reentrant, Ground truth: reentrant</span>\n",
       "</pre>\n"
      ]
     },
     "metadata": {},
     "output_type": "display_data"
    },
    {
     "data": {
      "text/plain": [
       "\u001B[2m[DEBUG] Collecting predictions from directory: \u001B[0m\n",
       "\u001B[2m../log/contracts_analysis_both_20250225_104133/reentrant/0xb636d0c2021569dcdc9607a7ba4bc7f05095fa55_reentrancy\u001B[0m\n"
      ],
      "text/html": [
       "<pre style=\"white-space:pre;overflow-x:auto;line-height:normal;font-family:Menlo,'DejaVu Sans Mono',consolas,'Courier New',monospace\"><span style=\"color: #7f7f7f; text-decoration-color: #7f7f7f\">[DEBUG] Collecting predictions from directory: </span>\n",
       "<span style=\"color: #7f7f7f; text-decoration-color: #7f7f7f\">../log/contracts_analysis_both_20250225_104133/reentrant/0xb636d0c2021569dcdc9607a7ba4bc7f05095fa55_reentrancy</span>\n",
       "</pre>\n"
      ]
     },
     "metadata": {},
     "output_type": "display_data"
    },
    {
     "data": {
      "text/plain": [
       "\u001B[2m[DEBUG] Loading JSON file: \u001B[0m\n",
       "\u001B[2m../log/contracts_analysis_both_20250225_104133/reentrant/0xb636d0c2021569dcdc9607a7ba4bc7f05095fa55_reentrancy/anal\u001B[0m\n",
       "\u001B[2mysis_0x0aa19b3e51dd77e482690263c8af26bec2c6542e.json\u001B[0m\n"
      ],
      "text/html": [
       "<pre style=\"white-space:pre;overflow-x:auto;line-height:normal;font-family:Menlo,'DejaVu Sans Mono',consolas,'Courier New',monospace\"><span style=\"color: #7f7f7f; text-decoration-color: #7f7f7f\">[DEBUG] Loading JSON file: </span>\n",
       "<span style=\"color: #7f7f7f; text-decoration-color: #7f7f7f\">../log/contracts_analysis_both_20250225_104133/reentrant/0xb636d0c2021569dcdc9607a7ba4bc7f05095fa55_reentrancy/anal</span>\n",
       "<span style=\"color: #7f7f7f; text-decoration-color: #7f7f7f\">ysis_0x0aa19b3e51dd77e482690263c8af26bec2c6542e.json</span>\n",
       "</pre>\n"
      ]
     },
     "metadata": {},
     "output_type": "display_data"
    },
    {
     "data": {
      "text/plain": [
       "\u001B[2m[DEBUG] Loading JSON file: \u001B[0m\n",
       "\u001B[2m../log/contracts_analysis_both_20250225_104133/reentrant/0xb636d0c2021569dcdc9607a7ba4bc7f05095fa55_reentrancy/anal\u001B[0m\n",
       "\u001B[2mysis_0x0aab3ac447ea90739bdbe4e0e00af0a54038904a.json\u001B[0m\n"
      ],
      "text/html": [
       "<pre style=\"white-space:pre;overflow-x:auto;line-height:normal;font-family:Menlo,'DejaVu Sans Mono',consolas,'Courier New',monospace\"><span style=\"color: #7f7f7f; text-decoration-color: #7f7f7f\">[DEBUG] Loading JSON file: </span>\n",
       "<span style=\"color: #7f7f7f; text-decoration-color: #7f7f7f\">../log/contracts_analysis_both_20250225_104133/reentrant/0xb636d0c2021569dcdc9607a7ba4bc7f05095fa55_reentrancy/anal</span>\n",
       "<span style=\"color: #7f7f7f; text-decoration-color: #7f7f7f\">ysis_0x0aab3ac447ea90739bdbe4e0e00af0a54038904a.json</span>\n",
       "</pre>\n"
      ]
     },
     "metadata": {},
     "output_type": "display_data"
    },
    {
     "data": {
      "text/plain": [
       "\u001B[2m[DEBUG] Loading JSON file: \u001B[0m\n",
       "\u001B[2m../log/contracts_analysis_both_20250225_104133/reentrant/0xb636d0c2021569dcdc9607a7ba4bc7f05095fa55_reentrancy/anal\u001B[0m\n",
       "\u001B[2mysis_0x0a8c3b7e149891ff594e3ad580f8e1769151a07b.json\u001B[0m\n"
      ],
      "text/html": [
       "<pre style=\"white-space:pre;overflow-x:auto;line-height:normal;font-family:Menlo,'DejaVu Sans Mono',consolas,'Courier New',monospace\"><span style=\"color: #7f7f7f; text-decoration-color: #7f7f7f\">[DEBUG] Loading JSON file: </span>\n",
       "<span style=\"color: #7f7f7f; text-decoration-color: #7f7f7f\">../log/contracts_analysis_both_20250225_104133/reentrant/0xb636d0c2021569dcdc9607a7ba4bc7f05095fa55_reentrancy/anal</span>\n",
       "<span style=\"color: #7f7f7f; text-decoration-color: #7f7f7f\">ysis_0x0a8c3b7e149891ff594e3ad580f8e1769151a07b.json</span>\n",
       "</pre>\n"
      ]
     },
     "metadata": {},
     "output_type": "display_data"
    },
    {
     "data": {
      "text/plain": [
       "\u001B[2m[DEBUG] Collected predictions: ['reentrant', 'reentrant', 'reentrant']\u001B[0m\n"
      ],
      "text/html": [
       "<pre style=\"white-space:pre;overflow-x:auto;line-height:normal;font-family:Menlo,'DejaVu Sans Mono',consolas,'Courier New',monospace\"><span style=\"color: #7f7f7f; text-decoration-color: #7f7f7f\">[DEBUG] Collected predictions: ['reentrant', 'reentrant', 'reentrant']</span>\n",
       "</pre>\n"
      ]
     },
     "metadata": {},
     "output_type": "display_data"
    },
    {
     "data": {
      "text/plain": [
       "\u001B[2m[DEBUG] Determined ground truth for \u001B[0m\n",
       "\u001B[2m../log/contracts_analysis_both_20250225_104133/reentrant/0xda4C9Ee8373Fd1095379a3Dd457A0c78968aAF03_reentrancy: \u001B[0m\n",
       "\u001B[2mreentrant\u001B[0m\n"
      ],
      "text/html": [
       "<pre style=\"white-space:pre;overflow-x:auto;line-height:normal;font-family:Menlo,'DejaVu Sans Mono',consolas,'Courier New',monospace\"><span style=\"color: #7f7f7f; text-decoration-color: #7f7f7f\">[DEBUG] Determined ground truth for </span>\n",
       "<span style=\"color: #7f7f7f; text-decoration-color: #7f7f7f\">../log/contracts_analysis_both_20250225_104133/reentrant/0xda4C9Ee8373Fd1095379a3Dd457A0c78968aAF03_reentrancy: </span>\n",
       "<span style=\"color: #7f7f7f; text-decoration-color: #7f7f7f\">reentrant</span>\n",
       "</pre>\n"
      ]
     },
     "metadata": {},
     "output_type": "display_data"
    },
    {
     "data": {
      "text/plain": [
       "\u001B[2m[DEBUG] Processing classification file: \u001B[0m\n",
       "\u001B[2m../log/contracts_analysis_both_20250225_104133/reentrant/0xda4C9Ee8373Fd1095379a3Dd457A0c78968aAF03_reentrancy/clas\u001B[0m\n",
       "\u001B[2msification.json\u001B[0m\n"
      ],
      "text/html": [
       "<pre style=\"white-space:pre;overflow-x:auto;line-height:normal;font-family:Menlo,'DejaVu Sans Mono',consolas,'Courier New',monospace\"><span style=\"color: #7f7f7f; text-decoration-color: #7f7f7f\">[DEBUG] Processing classification file: </span>\n",
       "<span style=\"color: #7f7f7f; text-decoration-color: #7f7f7f\">../log/contracts_analysis_both_20250225_104133/reentrant/0xda4C9Ee8373Fd1095379a3Dd457A0c78968aAF03_reentrancy/clas</span>\n",
       "<span style=\"color: #7f7f7f; text-decoration-color: #7f7f7f\">sification.json</span>\n",
       "</pre>\n"
      ]
     },
     "metadata": {},
     "output_type": "display_data"
    },
    {
     "data": {
      "text/plain": [
       "\u001B[2m[DEBUG] Loading JSON file: \u001B[0m\n",
       "\u001B[2m../log/contracts_analysis_both_20250225_104133/reentrant/0xda4C9Ee8373Fd1095379a3Dd457A0c78968aAF03_reentrancy/clas\u001B[0m\n",
       "\u001B[2msification.json\u001B[0m\n"
      ],
      "text/html": [
       "<pre style=\"white-space:pre;overflow-x:auto;line-height:normal;font-family:Menlo,'DejaVu Sans Mono',consolas,'Courier New',monospace\"><span style=\"color: #7f7f7f; text-decoration-color: #7f7f7f\">[DEBUG] Loading JSON file: </span>\n",
       "<span style=\"color: #7f7f7f; text-decoration-color: #7f7f7f\">../log/contracts_analysis_both_20250225_104133/reentrant/0xda4C9Ee8373Fd1095379a3Dd457A0c78968aAF03_reentrancy/clas</span>\n",
       "<span style=\"color: #7f7f7f; text-decoration-color: #7f7f7f\">sification.json</span>\n",
       "</pre>\n"
      ]
     },
     "metadata": {},
     "output_type": "display_data"
    },
    {
     "data": {
      "text/plain": [
       "\u001B[2m[DEBUG] Classification result: reentrant, Ground truth: reentrant\u001B[0m\n"
      ],
      "text/html": [
       "<pre style=\"white-space:pre;overflow-x:auto;line-height:normal;font-family:Menlo,'DejaVu Sans Mono',consolas,'Courier New',monospace\"><span style=\"color: #7f7f7f; text-decoration-color: #7f7f7f\">[DEBUG] Classification result: reentrant, Ground truth: reentrant</span>\n",
       "</pre>\n"
      ]
     },
     "metadata": {},
     "output_type": "display_data"
    },
    {
     "data": {
      "text/plain": [
       "\u001B[2m[DEBUG] Collecting predictions from directory: \u001B[0m\n",
       "\u001B[2m../log/contracts_analysis_both_20250225_104133/reentrant/0xda4C9Ee8373Fd1095379a3Dd457A0c78968aAF03_reentrancy\u001B[0m\n"
      ],
      "text/html": [
       "<pre style=\"white-space:pre;overflow-x:auto;line-height:normal;font-family:Menlo,'DejaVu Sans Mono',consolas,'Courier New',monospace\"><span style=\"color: #7f7f7f; text-decoration-color: #7f7f7f\">[DEBUG] Collecting predictions from directory: </span>\n",
       "<span style=\"color: #7f7f7f; text-decoration-color: #7f7f7f\">../log/contracts_analysis_both_20250225_104133/reentrant/0xda4C9Ee8373Fd1095379a3Dd457A0c78968aAF03_reentrancy</span>\n",
       "</pre>\n"
      ]
     },
     "metadata": {},
     "output_type": "display_data"
    },
    {
     "data": {
      "text/plain": [
       "\u001B[2m[DEBUG] Loading JSON file: \u001B[0m\n",
       "\u001B[2m../log/contracts_analysis_both_20250225_104133/reentrant/0xda4C9Ee8373Fd1095379a3Dd457A0c78968aAF03_reentrancy/anal\u001B[0m\n",
       "\u001B[2mysis_0x0aa19b3e51dd77e482690263c8af26bec2c6542e.json\u001B[0m\n"
      ],
      "text/html": [
       "<pre style=\"white-space:pre;overflow-x:auto;line-height:normal;font-family:Menlo,'DejaVu Sans Mono',consolas,'Courier New',monospace\"><span style=\"color: #7f7f7f; text-decoration-color: #7f7f7f\">[DEBUG] Loading JSON file: </span>\n",
       "<span style=\"color: #7f7f7f; text-decoration-color: #7f7f7f\">../log/contracts_analysis_both_20250225_104133/reentrant/0xda4C9Ee8373Fd1095379a3Dd457A0c78968aAF03_reentrancy/anal</span>\n",
       "<span style=\"color: #7f7f7f; text-decoration-color: #7f7f7f\">ysis_0x0aa19b3e51dd77e482690263c8af26bec2c6542e.json</span>\n",
       "</pre>\n"
      ]
     },
     "metadata": {},
     "output_type": "display_data"
    },
    {
     "data": {
      "text/plain": [
       "\u001B[2m[DEBUG] Loading JSON file: \u001B[0m\n",
       "\u001B[2m../log/contracts_analysis_both_20250225_104133/reentrant/0xda4C9Ee8373Fd1095379a3Dd457A0c78968aAF03_reentrancy/anal\u001B[0m\n",
       "\u001B[2mysis_0x0aab3ac447ea90739bdbe4e0e00af0a54038904a.json\u001B[0m\n"
      ],
      "text/html": [
       "<pre style=\"white-space:pre;overflow-x:auto;line-height:normal;font-family:Menlo,'DejaVu Sans Mono',consolas,'Courier New',monospace\"><span style=\"color: #7f7f7f; text-decoration-color: #7f7f7f\">[DEBUG] Loading JSON file: </span>\n",
       "<span style=\"color: #7f7f7f; text-decoration-color: #7f7f7f\">../log/contracts_analysis_both_20250225_104133/reentrant/0xda4C9Ee8373Fd1095379a3Dd457A0c78968aAF03_reentrancy/anal</span>\n",
       "<span style=\"color: #7f7f7f; text-decoration-color: #7f7f7f\">ysis_0x0aab3ac447ea90739bdbe4e0e00af0a54038904a.json</span>\n",
       "</pre>\n"
      ]
     },
     "metadata": {},
     "output_type": "display_data"
    },
    {
     "data": {
      "text/plain": [
       "\u001B[2m[DEBUG] Loading JSON file: \u001B[0m\n",
       "\u001B[2m../log/contracts_analysis_both_20250225_104133/reentrant/0xda4C9Ee8373Fd1095379a3Dd457A0c78968aAF03_reentrancy/anal\u001B[0m\n",
       "\u001B[2mysis_0x0a8c3b7e149891ff594e3ad580f8e1769151a07b.json\u001B[0m\n"
      ],
      "text/html": [
       "<pre style=\"white-space:pre;overflow-x:auto;line-height:normal;font-family:Menlo,'DejaVu Sans Mono',consolas,'Courier New',monospace\"><span style=\"color: #7f7f7f; text-decoration-color: #7f7f7f\">[DEBUG] Loading JSON file: </span>\n",
       "<span style=\"color: #7f7f7f; text-decoration-color: #7f7f7f\">../log/contracts_analysis_both_20250225_104133/reentrant/0xda4C9Ee8373Fd1095379a3Dd457A0c78968aAF03_reentrancy/anal</span>\n",
       "<span style=\"color: #7f7f7f; text-decoration-color: #7f7f7f\">ysis_0x0a8c3b7e149891ff594e3ad580f8e1769151a07b.json</span>\n",
       "</pre>\n"
      ]
     },
     "metadata": {},
     "output_type": "display_data"
    },
    {
     "data": {
      "text/plain": [
       "\u001B[2m[DEBUG] Collected predictions: ['reentrant', 'reentrant', 'reentrant']\u001B[0m\n"
      ],
      "text/html": [
       "<pre style=\"white-space:pre;overflow-x:auto;line-height:normal;font-family:Menlo,'DejaVu Sans Mono',consolas,'Courier New',monospace\"><span style=\"color: #7f7f7f; text-decoration-color: #7f7f7f\">[DEBUG] Collected predictions: ['reentrant', 'reentrant', 'reentrant']</span>\n",
       "</pre>\n"
      ]
     },
     "metadata": {},
     "output_type": "display_data"
    },
    {
     "data": {
      "text/plain": [
       "\u001B[2m[DEBUG] Determined ground truth for \u001B[0m\n",
       "\u001B[2m../log/contracts_analysis_both_20250225_104133/reentrant/0xd48f71c0efbe44819fac1606ee8309a9808511de_reentrancy: \u001B[0m\n",
       "\u001B[2mreentrant\u001B[0m\n"
      ],
      "text/html": [
       "<pre style=\"white-space:pre;overflow-x:auto;line-height:normal;font-family:Menlo,'DejaVu Sans Mono',consolas,'Courier New',monospace\"><span style=\"color: #7f7f7f; text-decoration-color: #7f7f7f\">[DEBUG] Determined ground truth for </span>\n",
       "<span style=\"color: #7f7f7f; text-decoration-color: #7f7f7f\">../log/contracts_analysis_both_20250225_104133/reentrant/0xd48f71c0efbe44819fac1606ee8309a9808511de_reentrancy: </span>\n",
       "<span style=\"color: #7f7f7f; text-decoration-color: #7f7f7f\">reentrant</span>\n",
       "</pre>\n"
      ]
     },
     "metadata": {},
     "output_type": "display_data"
    },
    {
     "data": {
      "text/plain": [
       "\u001B[2m[DEBUG] Processing classification file: \u001B[0m\n",
       "\u001B[2m../log/contracts_analysis_both_20250225_104133/reentrant/0xd48f71c0efbe44819fac1606ee8309a9808511de_reentrancy/clas\u001B[0m\n",
       "\u001B[2msification.json\u001B[0m\n"
      ],
      "text/html": [
       "<pre style=\"white-space:pre;overflow-x:auto;line-height:normal;font-family:Menlo,'DejaVu Sans Mono',consolas,'Courier New',monospace\"><span style=\"color: #7f7f7f; text-decoration-color: #7f7f7f\">[DEBUG] Processing classification file: </span>\n",
       "<span style=\"color: #7f7f7f; text-decoration-color: #7f7f7f\">../log/contracts_analysis_both_20250225_104133/reentrant/0xd48f71c0efbe44819fac1606ee8309a9808511de_reentrancy/clas</span>\n",
       "<span style=\"color: #7f7f7f; text-decoration-color: #7f7f7f\">sification.json</span>\n",
       "</pre>\n"
      ]
     },
     "metadata": {},
     "output_type": "display_data"
    },
    {
     "data": {
      "text/plain": [
       "\u001B[2m[DEBUG] Loading JSON file: \u001B[0m\n",
       "\u001B[2m../log/contracts_analysis_both_20250225_104133/reentrant/0xd48f71c0efbe44819fac1606ee8309a9808511de_reentrancy/clas\u001B[0m\n",
       "\u001B[2msification.json\u001B[0m\n"
      ],
      "text/html": [
       "<pre style=\"white-space:pre;overflow-x:auto;line-height:normal;font-family:Menlo,'DejaVu Sans Mono',consolas,'Courier New',monospace\"><span style=\"color: #7f7f7f; text-decoration-color: #7f7f7f\">[DEBUG] Loading JSON file: </span>\n",
       "<span style=\"color: #7f7f7f; text-decoration-color: #7f7f7f\">../log/contracts_analysis_both_20250225_104133/reentrant/0xd48f71c0efbe44819fac1606ee8309a9808511de_reentrancy/clas</span>\n",
       "<span style=\"color: #7f7f7f; text-decoration-color: #7f7f7f\">sification.json</span>\n",
       "</pre>\n"
      ]
     },
     "metadata": {},
     "output_type": "display_data"
    },
    {
     "data": {
      "text/plain": [
       "\u001B[2m[DEBUG] Classification result: reentrant, Ground truth: reentrant\u001B[0m\n"
      ],
      "text/html": [
       "<pre style=\"white-space:pre;overflow-x:auto;line-height:normal;font-family:Menlo,'DejaVu Sans Mono',consolas,'Courier New',monospace\"><span style=\"color: #7f7f7f; text-decoration-color: #7f7f7f\">[DEBUG] Classification result: reentrant, Ground truth: reentrant</span>\n",
       "</pre>\n"
      ]
     },
     "metadata": {},
     "output_type": "display_data"
    },
    {
     "data": {
      "text/plain": [
       "\u001B[2m[DEBUG] Collecting predictions from directory: \u001B[0m\n",
       "\u001B[2m../log/contracts_analysis_both_20250225_104133/reentrant/0xd48f71c0efbe44819fac1606ee8309a9808511de_reentrancy\u001B[0m\n"
      ],
      "text/html": [
       "<pre style=\"white-space:pre;overflow-x:auto;line-height:normal;font-family:Menlo,'DejaVu Sans Mono',consolas,'Courier New',monospace\"><span style=\"color: #7f7f7f; text-decoration-color: #7f7f7f\">[DEBUG] Collecting predictions from directory: </span>\n",
       "<span style=\"color: #7f7f7f; text-decoration-color: #7f7f7f\">../log/contracts_analysis_both_20250225_104133/reentrant/0xd48f71c0efbe44819fac1606ee8309a9808511de_reentrancy</span>\n",
       "</pre>\n"
      ]
     },
     "metadata": {},
     "output_type": "display_data"
    },
    {
     "data": {
      "text/plain": [
       "\u001B[2m[DEBUG] Loading JSON file: \u001B[0m\n",
       "\u001B[2m../log/contracts_analysis_both_20250225_104133/reentrant/0xd48f71c0efbe44819fac1606ee8309a9808511de_reentrancy/anal\u001B[0m\n",
       "\u001B[2mysis_0x0aa19b3e51dd77e482690263c8af26bec2c6542e.json\u001B[0m\n"
      ],
      "text/html": [
       "<pre style=\"white-space:pre;overflow-x:auto;line-height:normal;font-family:Menlo,'DejaVu Sans Mono',consolas,'Courier New',monospace\"><span style=\"color: #7f7f7f; text-decoration-color: #7f7f7f\">[DEBUG] Loading JSON file: </span>\n",
       "<span style=\"color: #7f7f7f; text-decoration-color: #7f7f7f\">../log/contracts_analysis_both_20250225_104133/reentrant/0xd48f71c0efbe44819fac1606ee8309a9808511de_reentrancy/anal</span>\n",
       "<span style=\"color: #7f7f7f; text-decoration-color: #7f7f7f\">ysis_0x0aa19b3e51dd77e482690263c8af26bec2c6542e.json</span>\n",
       "</pre>\n"
      ]
     },
     "metadata": {},
     "output_type": "display_data"
    },
    {
     "data": {
      "text/plain": [
       "\u001B[2m[DEBUG] Loading JSON file: \u001B[0m\n",
       "\u001B[2m../log/contracts_analysis_both_20250225_104133/reentrant/0xd48f71c0efbe44819fac1606ee8309a9808511de_reentrancy/anal\u001B[0m\n",
       "\u001B[2mysis_0x0aab3ac447ea90739bdbe4e0e00af0a54038904a.json\u001B[0m\n"
      ],
      "text/html": [
       "<pre style=\"white-space:pre;overflow-x:auto;line-height:normal;font-family:Menlo,'DejaVu Sans Mono',consolas,'Courier New',monospace\"><span style=\"color: #7f7f7f; text-decoration-color: #7f7f7f\">[DEBUG] Loading JSON file: </span>\n",
       "<span style=\"color: #7f7f7f; text-decoration-color: #7f7f7f\">../log/contracts_analysis_both_20250225_104133/reentrant/0xd48f71c0efbe44819fac1606ee8309a9808511de_reentrancy/anal</span>\n",
       "<span style=\"color: #7f7f7f; text-decoration-color: #7f7f7f\">ysis_0x0aab3ac447ea90739bdbe4e0e00af0a54038904a.json</span>\n",
       "</pre>\n"
      ]
     },
     "metadata": {},
     "output_type": "display_data"
    },
    {
     "data": {
      "text/plain": [
       "\u001B[2m[DEBUG] Loading JSON file: \u001B[0m\n",
       "\u001B[2m../log/contracts_analysis_both_20250225_104133/reentrant/0xd48f71c0efbe44819fac1606ee8309a9808511de_reentrancy/anal\u001B[0m\n",
       "\u001B[2mysis_0x0a8c3b7e149891ff594e3ad580f8e1769151a07b.json\u001B[0m\n"
      ],
      "text/html": [
       "<pre style=\"white-space:pre;overflow-x:auto;line-height:normal;font-family:Menlo,'DejaVu Sans Mono',consolas,'Courier New',monospace\"><span style=\"color: #7f7f7f; text-decoration-color: #7f7f7f\">[DEBUG] Loading JSON file: </span>\n",
       "<span style=\"color: #7f7f7f; text-decoration-color: #7f7f7f\">../log/contracts_analysis_both_20250225_104133/reentrant/0xd48f71c0efbe44819fac1606ee8309a9808511de_reentrancy/anal</span>\n",
       "<span style=\"color: #7f7f7f; text-decoration-color: #7f7f7f\">ysis_0x0a8c3b7e149891ff594e3ad580f8e1769151a07b.json</span>\n",
       "</pre>\n"
      ]
     },
     "metadata": {},
     "output_type": "display_data"
    },
    {
     "data": {
      "text/plain": [
       "\u001B[2m[DEBUG] Collected predictions: ['reentrant', 'reentrant', 'reentrant']\u001B[0m\n"
      ],
      "text/html": [
       "<pre style=\"white-space:pre;overflow-x:auto;line-height:normal;font-family:Menlo,'DejaVu Sans Mono',consolas,'Courier New',monospace\"><span style=\"color: #7f7f7f; text-decoration-color: #7f7f7f\">[DEBUG] Collected predictions: ['reentrant', 'reentrant', 'reentrant']</span>\n",
       "</pre>\n"
      ]
     },
     "metadata": {},
     "output_type": "display_data"
    },
    {
     "data": {
      "text/plain": [
       "\u001B[2m[DEBUG] Determined ground truth for \u001B[0m\n",
       "\u001B[2m../log/contracts_analysis_both_20250225_104133/reentrant/0x4c67b3db1d4474c0ebb2db8bec4e345526d9e2fd: reentrant\u001B[0m\n"
      ],
      "text/html": [
       "<pre style=\"white-space:pre;overflow-x:auto;line-height:normal;font-family:Menlo,'DejaVu Sans Mono',consolas,'Courier New',monospace\"><span style=\"color: #7f7f7f; text-decoration-color: #7f7f7f\">[DEBUG] Determined ground truth for </span>\n",
       "<span style=\"color: #7f7f7f; text-decoration-color: #7f7f7f\">../log/contracts_analysis_both_20250225_104133/reentrant/0x4c67b3db1d4474c0ebb2db8bec4e345526d9e2fd: reentrant</span>\n",
       "</pre>\n"
      ]
     },
     "metadata": {},
     "output_type": "display_data"
    },
    {
     "data": {
      "text/plain": [
       "\u001B[2m[DEBUG] Processing classification file: \u001B[0m\n",
       "\u001B[2m../log/contracts_analysis_both_20250225_104133/reentrant/0x4c67b3db1d4474c0ebb2db8bec4e345526d9e2fd/classification.\u001B[0m\n",
       "\u001B[2mjson\u001B[0m\n"
      ],
      "text/html": [
       "<pre style=\"white-space:pre;overflow-x:auto;line-height:normal;font-family:Menlo,'DejaVu Sans Mono',consolas,'Courier New',monospace\"><span style=\"color: #7f7f7f; text-decoration-color: #7f7f7f\">[DEBUG] Processing classification file: </span>\n",
       "<span style=\"color: #7f7f7f; text-decoration-color: #7f7f7f\">../log/contracts_analysis_both_20250225_104133/reentrant/0x4c67b3db1d4474c0ebb2db8bec4e345526d9e2fd/classification.</span>\n",
       "<span style=\"color: #7f7f7f; text-decoration-color: #7f7f7f\">json</span>\n",
       "</pre>\n"
      ]
     },
     "metadata": {},
     "output_type": "display_data"
    },
    {
     "data": {
      "text/plain": [
       "\u001B[2m[DEBUG] Loading JSON file: \u001B[0m\n",
       "\u001B[2m../log/contracts_analysis_both_20250225_104133/reentrant/0x4c67b3db1d4474c0ebb2db8bec4e345526d9e2fd/classification.\u001B[0m\n",
       "\u001B[2mjson\u001B[0m\n"
      ],
      "text/html": [
       "<pre style=\"white-space:pre;overflow-x:auto;line-height:normal;font-family:Menlo,'DejaVu Sans Mono',consolas,'Courier New',monospace\"><span style=\"color: #7f7f7f; text-decoration-color: #7f7f7f\">[DEBUG] Loading JSON file: </span>\n",
       "<span style=\"color: #7f7f7f; text-decoration-color: #7f7f7f\">../log/contracts_analysis_both_20250225_104133/reentrant/0x4c67b3db1d4474c0ebb2db8bec4e345526d9e2fd/classification.</span>\n",
       "<span style=\"color: #7f7f7f; text-decoration-color: #7f7f7f\">json</span>\n",
       "</pre>\n"
      ]
     },
     "metadata": {},
     "output_type": "display_data"
    },
    {
     "data": {
      "text/plain": [
       "\u001B[2m[DEBUG] Classification result: reentrant, Ground truth: reentrant\u001B[0m\n"
      ],
      "text/html": [
       "<pre style=\"white-space:pre;overflow-x:auto;line-height:normal;font-family:Menlo,'DejaVu Sans Mono',consolas,'Courier New',monospace\"><span style=\"color: #7f7f7f; text-decoration-color: #7f7f7f\">[DEBUG] Classification result: reentrant, Ground truth: reentrant</span>\n",
       "</pre>\n"
      ]
     },
     "metadata": {},
     "output_type": "display_data"
    },
    {
     "data": {
      "text/plain": [
       "\u001B[2m[DEBUG] Collecting predictions from directory: \u001B[0m\n",
       "\u001B[2m../log/contracts_analysis_both_20250225_104133/reentrant/0x4c67b3db1d4474c0ebb2db8bec4e345526d9e2fd\u001B[0m\n"
      ],
      "text/html": [
       "<pre style=\"white-space:pre;overflow-x:auto;line-height:normal;font-family:Menlo,'DejaVu Sans Mono',consolas,'Courier New',monospace\"><span style=\"color: #7f7f7f; text-decoration-color: #7f7f7f\">[DEBUG] Collecting predictions from directory: </span>\n",
       "<span style=\"color: #7f7f7f; text-decoration-color: #7f7f7f\">../log/contracts_analysis_both_20250225_104133/reentrant/0x4c67b3db1d4474c0ebb2db8bec4e345526d9e2fd</span>\n",
       "</pre>\n"
      ]
     },
     "metadata": {},
     "output_type": "display_data"
    },
    {
     "data": {
      "text/plain": [
       "\u001B[2m[DEBUG] Loading JSON file: \u001B[0m\n",
       "\u001B[2m../log/contracts_analysis_both_20250225_104133/reentrant/0x4c67b3db1d4474c0ebb2db8bec4e345526d9e2fd/analysis_0x0aa1\u001B[0m\n",
       "\u001B[2m9b3e51dd77e482690263c8af26bec2c6542e.json\u001B[0m\n"
      ],
      "text/html": [
       "<pre style=\"white-space:pre;overflow-x:auto;line-height:normal;font-family:Menlo,'DejaVu Sans Mono',consolas,'Courier New',monospace\"><span style=\"color: #7f7f7f; text-decoration-color: #7f7f7f\">[DEBUG] Loading JSON file: </span>\n",
       "<span style=\"color: #7f7f7f; text-decoration-color: #7f7f7f\">../log/contracts_analysis_both_20250225_104133/reentrant/0x4c67b3db1d4474c0ebb2db8bec4e345526d9e2fd/analysis_0x0aa1</span>\n",
       "<span style=\"color: #7f7f7f; text-decoration-color: #7f7f7f\">9b3e51dd77e482690263c8af26bec2c6542e.json</span>\n",
       "</pre>\n"
      ]
     },
     "metadata": {},
     "output_type": "display_data"
    },
    {
     "data": {
      "text/plain": [
       "\u001B[2m[DEBUG] Loading JSON file: \u001B[0m\n",
       "\u001B[2m../log/contracts_analysis_both_20250225_104133/reentrant/0x4c67b3db1d4474c0ebb2db8bec4e345526d9e2fd/analysis_0x0aab\u001B[0m\n",
       "\u001B[2m3ac447ea90739bdbe4e0e00af0a54038904a.json\u001B[0m\n"
      ],
      "text/html": [
       "<pre style=\"white-space:pre;overflow-x:auto;line-height:normal;font-family:Menlo,'DejaVu Sans Mono',consolas,'Courier New',monospace\"><span style=\"color: #7f7f7f; text-decoration-color: #7f7f7f\">[DEBUG] Loading JSON file: </span>\n",
       "<span style=\"color: #7f7f7f; text-decoration-color: #7f7f7f\">../log/contracts_analysis_both_20250225_104133/reentrant/0x4c67b3db1d4474c0ebb2db8bec4e345526d9e2fd/analysis_0x0aab</span>\n",
       "<span style=\"color: #7f7f7f; text-decoration-color: #7f7f7f\">3ac447ea90739bdbe4e0e00af0a54038904a.json</span>\n",
       "</pre>\n"
      ]
     },
     "metadata": {},
     "output_type": "display_data"
    },
    {
     "data": {
      "text/plain": [
       "\u001B[2m[DEBUG] Loading JSON file: \u001B[0m\n",
       "\u001B[2m../log/contracts_analysis_both_20250225_104133/reentrant/0x4c67b3db1d4474c0ebb2db8bec4e345526d9e2fd/analysis_0x0a8c\u001B[0m\n",
       "\u001B[2m3b7e149891ff594e3ad580f8e1769151a07b.json\u001B[0m\n"
      ],
      "text/html": [
       "<pre style=\"white-space:pre;overflow-x:auto;line-height:normal;font-family:Menlo,'DejaVu Sans Mono',consolas,'Courier New',monospace\"><span style=\"color: #7f7f7f; text-decoration-color: #7f7f7f\">[DEBUG] Loading JSON file: </span>\n",
       "<span style=\"color: #7f7f7f; text-decoration-color: #7f7f7f\">../log/contracts_analysis_both_20250225_104133/reentrant/0x4c67b3db1d4474c0ebb2db8bec4e345526d9e2fd/analysis_0x0a8c</span>\n",
       "<span style=\"color: #7f7f7f; text-decoration-color: #7f7f7f\">3b7e149891ff594e3ad580f8e1769151a07b.json</span>\n",
       "</pre>\n"
      ]
     },
     "metadata": {},
     "output_type": "display_data"
    },
    {
     "data": {
      "text/plain": [
       "\u001B[2m[DEBUG] Collected predictions: ['reentrant', 'reentrant', 'reentrant']\u001B[0m\n"
      ],
      "text/html": [
       "<pre style=\"white-space:pre;overflow-x:auto;line-height:normal;font-family:Menlo,'DejaVu Sans Mono',consolas,'Courier New',monospace\"><span style=\"color: #7f7f7f; text-decoration-color: #7f7f7f\">[DEBUG] Collected predictions: ['reentrant', 'reentrant', 'reentrant']</span>\n",
       "</pre>\n"
      ]
     },
     "metadata": {},
     "output_type": "display_data"
    },
    {
     "name": "stderr",
     "output_type": "stream",
     "text": [
      "Processing contracts:  85%|████████▌ | 82/96 [00:01<00:00, 83.75it/s]"
     ]
    },
    {
     "data": {
      "text/plain": [
       "\u001B[2m[DEBUG] Determined ground truth for \u001B[0m\n",
       "\u001B[2m../log/contracts_analysis_both_20250225_104133/reentrant/0ddd1c046d2a572672c87f87e287a176: reentrant\u001B[0m\n"
      ],
      "text/html": [
       "<pre style=\"white-space:pre;overflow-x:auto;line-height:normal;font-family:Menlo,'DejaVu Sans Mono',consolas,'Courier New',monospace\"><span style=\"color: #7f7f7f; text-decoration-color: #7f7f7f\">[DEBUG] Determined ground truth for </span>\n",
       "<span style=\"color: #7f7f7f; text-decoration-color: #7f7f7f\">../log/contracts_analysis_both_20250225_104133/reentrant/0ddd1c046d2a572672c87f87e287a176: reentrant</span>\n",
       "</pre>\n"
      ]
     },
     "metadata": {},
     "output_type": "display_data"
    },
    {
     "data": {
      "text/plain": [
       "\u001B[2m[DEBUG] Processing classification file: \u001B[0m\n",
       "\u001B[2m../log/contracts_analysis_both_20250225_104133/reentrant/0ddd1c046d2a572672c87f87e287a176/classification.json\u001B[0m\n"
      ],
      "text/html": [
       "<pre style=\"white-space:pre;overflow-x:auto;line-height:normal;font-family:Menlo,'DejaVu Sans Mono',consolas,'Courier New',monospace\"><span style=\"color: #7f7f7f; text-decoration-color: #7f7f7f\">[DEBUG] Processing classification file: </span>\n",
       "<span style=\"color: #7f7f7f; text-decoration-color: #7f7f7f\">../log/contracts_analysis_both_20250225_104133/reentrant/0ddd1c046d2a572672c87f87e287a176/classification.json</span>\n",
       "</pre>\n"
      ]
     },
     "metadata": {},
     "output_type": "display_data"
    },
    {
     "data": {
      "text/plain": [
       "\u001B[2m[DEBUG] Loading JSON file: \u001B[0m\n",
       "\u001B[2m../log/contracts_analysis_both_20250225_104133/reentrant/0ddd1c046d2a572672c87f87e287a176/classification.json\u001B[0m\n"
      ],
      "text/html": [
       "<pre style=\"white-space:pre;overflow-x:auto;line-height:normal;font-family:Menlo,'DejaVu Sans Mono',consolas,'Courier New',monospace\"><span style=\"color: #7f7f7f; text-decoration-color: #7f7f7f\">[DEBUG] Loading JSON file: </span>\n",
       "<span style=\"color: #7f7f7f; text-decoration-color: #7f7f7f\">../log/contracts_analysis_both_20250225_104133/reentrant/0ddd1c046d2a572672c87f87e287a176/classification.json</span>\n",
       "</pre>\n"
      ]
     },
     "metadata": {},
     "output_type": "display_data"
    },
    {
     "data": {
      "text/plain": [
       "\u001B[2m[DEBUG] Classification result: reentrant, Ground truth: reentrant\u001B[0m\n"
      ],
      "text/html": [
       "<pre style=\"white-space:pre;overflow-x:auto;line-height:normal;font-family:Menlo,'DejaVu Sans Mono',consolas,'Courier New',monospace\"><span style=\"color: #7f7f7f; text-decoration-color: #7f7f7f\">[DEBUG] Classification result: reentrant, Ground truth: reentrant</span>\n",
       "</pre>\n"
      ]
     },
     "metadata": {},
     "output_type": "display_data"
    },
    {
     "data": {
      "text/plain": [
       "\u001B[2m[DEBUG] Collecting predictions from directory: \u001B[0m\n",
       "\u001B[2m../log/contracts_analysis_both_20250225_104133/reentrant/0ddd1c046d2a572672c87f87e287a176\u001B[0m\n"
      ],
      "text/html": [
       "<pre style=\"white-space:pre;overflow-x:auto;line-height:normal;font-family:Menlo,'DejaVu Sans Mono',consolas,'Courier New',monospace\"><span style=\"color: #7f7f7f; text-decoration-color: #7f7f7f\">[DEBUG] Collecting predictions from directory: </span>\n",
       "<span style=\"color: #7f7f7f; text-decoration-color: #7f7f7f\">../log/contracts_analysis_both_20250225_104133/reentrant/0ddd1c046d2a572672c87f87e287a176</span>\n",
       "</pre>\n"
      ]
     },
     "metadata": {},
     "output_type": "display_data"
    },
    {
     "data": {
      "text/plain": [
       "\u001B[2m[DEBUG] Loading JSON file: \u001B[0m\n",
       "\u001B[2m../log/contracts_analysis_both_20250225_104133/reentrant/0ddd1c046d2a572672c87f87e287a176/analysis_0x0aa19b3e51dd77\u001B[0m\n",
       "\u001B[2me482690263c8af26bec2c6542e.json\u001B[0m\n"
      ],
      "text/html": [
       "<pre style=\"white-space:pre;overflow-x:auto;line-height:normal;font-family:Menlo,'DejaVu Sans Mono',consolas,'Courier New',monospace\"><span style=\"color: #7f7f7f; text-decoration-color: #7f7f7f\">[DEBUG] Loading JSON file: </span>\n",
       "<span style=\"color: #7f7f7f; text-decoration-color: #7f7f7f\">../log/contracts_analysis_both_20250225_104133/reentrant/0ddd1c046d2a572672c87f87e287a176/analysis_0x0aa19b3e51dd77</span>\n",
       "<span style=\"color: #7f7f7f; text-decoration-color: #7f7f7f\">e482690263c8af26bec2c6542e.json</span>\n",
       "</pre>\n"
      ]
     },
     "metadata": {},
     "output_type": "display_data"
    },
    {
     "data": {
      "text/plain": [
       "\u001B[2m[DEBUG] Loading JSON file: \u001B[0m\n",
       "\u001B[2m../log/contracts_analysis_both_20250225_104133/reentrant/0ddd1c046d2a572672c87f87e287a176/analysis_0x0aab3ac447ea90\u001B[0m\n",
       "\u001B[2m739bdbe4e0e00af0a54038904a.json\u001B[0m\n"
      ],
      "text/html": [
       "<pre style=\"white-space:pre;overflow-x:auto;line-height:normal;font-family:Menlo,'DejaVu Sans Mono',consolas,'Courier New',monospace\"><span style=\"color: #7f7f7f; text-decoration-color: #7f7f7f\">[DEBUG] Loading JSON file: </span>\n",
       "<span style=\"color: #7f7f7f; text-decoration-color: #7f7f7f\">../log/contracts_analysis_both_20250225_104133/reentrant/0ddd1c046d2a572672c87f87e287a176/analysis_0x0aab3ac447ea90</span>\n",
       "<span style=\"color: #7f7f7f; text-decoration-color: #7f7f7f\">739bdbe4e0e00af0a54038904a.json</span>\n",
       "</pre>\n"
      ]
     },
     "metadata": {},
     "output_type": "display_data"
    },
    {
     "data": {
      "text/plain": [
       "\u001B[2m[DEBUG] Loading JSON file: \u001B[0m\n",
       "\u001B[2m../log/contracts_analysis_both_20250225_104133/reentrant/0ddd1c046d2a572672c87f87e287a176/analysis_0x0a8c3b7e149891\u001B[0m\n",
       "\u001B[2mff594e3ad580f8e1769151a07b.json\u001B[0m\n"
      ],
      "text/html": [
       "<pre style=\"white-space:pre;overflow-x:auto;line-height:normal;font-family:Menlo,'DejaVu Sans Mono',consolas,'Courier New',monospace\"><span style=\"color: #7f7f7f; text-decoration-color: #7f7f7f\">[DEBUG] Loading JSON file: </span>\n",
       "<span style=\"color: #7f7f7f; text-decoration-color: #7f7f7f\">../log/contracts_analysis_both_20250225_104133/reentrant/0ddd1c046d2a572672c87f87e287a176/analysis_0x0a8c3b7e149891</span>\n",
       "<span style=\"color: #7f7f7f; text-decoration-color: #7f7f7f\">ff594e3ad580f8e1769151a07b.json</span>\n",
       "</pre>\n"
      ]
     },
     "metadata": {},
     "output_type": "display_data"
    },
    {
     "data": {
      "text/plain": [
       "\u001B[2m[DEBUG] Collected predictions: ['reentrant', 'reentrant', 'reentrant']\u001B[0m\n"
      ],
      "text/html": [
       "<pre style=\"white-space:pre;overflow-x:auto;line-height:normal;font-family:Menlo,'DejaVu Sans Mono',consolas,'Courier New',monospace\"><span style=\"color: #7f7f7f; text-decoration-color: #7f7f7f\">[DEBUG] Collected predictions: ['reentrant', 'reentrant', 'reentrant']</span>\n",
       "</pre>\n"
      ]
     },
     "metadata": {},
     "output_type": "display_data"
    },
    {
     "data": {
      "text/plain": [
       "\u001B[2m[DEBUG] Determined ground truth for \u001B[0m\n",
       "\u001B[2m../log/contracts_analysis_both_20250225_104133/reentrant/0x13a399fe6c5b38b247e1477016f5fc7c3f6b3ccb_reentrancy: \u001B[0m\n",
       "\u001B[2mreentrant\u001B[0m\n"
      ],
      "text/html": [
       "<pre style=\"white-space:pre;overflow-x:auto;line-height:normal;font-family:Menlo,'DejaVu Sans Mono',consolas,'Courier New',monospace\"><span style=\"color: #7f7f7f; text-decoration-color: #7f7f7f\">[DEBUG] Determined ground truth for </span>\n",
       "<span style=\"color: #7f7f7f; text-decoration-color: #7f7f7f\">../log/contracts_analysis_both_20250225_104133/reentrant/0x13a399fe6c5b38b247e1477016f5fc7c3f6b3ccb_reentrancy: </span>\n",
       "<span style=\"color: #7f7f7f; text-decoration-color: #7f7f7f\">reentrant</span>\n",
       "</pre>\n"
      ]
     },
     "metadata": {},
     "output_type": "display_data"
    },
    {
     "data": {
      "text/plain": [
       "\u001B[2m[DEBUG] Processing classification file: \u001B[0m\n",
       "\u001B[2m../log/contracts_analysis_both_20250225_104133/reentrant/0x13a399fe6c5b38b247e1477016f5fc7c3f6b3ccb_reentrancy/clas\u001B[0m\n",
       "\u001B[2msification.json\u001B[0m\n"
      ],
      "text/html": [
       "<pre style=\"white-space:pre;overflow-x:auto;line-height:normal;font-family:Menlo,'DejaVu Sans Mono',consolas,'Courier New',monospace\"><span style=\"color: #7f7f7f; text-decoration-color: #7f7f7f\">[DEBUG] Processing classification file: </span>\n",
       "<span style=\"color: #7f7f7f; text-decoration-color: #7f7f7f\">../log/contracts_analysis_both_20250225_104133/reentrant/0x13a399fe6c5b38b247e1477016f5fc7c3f6b3ccb_reentrancy/clas</span>\n",
       "<span style=\"color: #7f7f7f; text-decoration-color: #7f7f7f\">sification.json</span>\n",
       "</pre>\n"
      ]
     },
     "metadata": {},
     "output_type": "display_data"
    },
    {
     "data": {
      "text/plain": [
       "\u001B[2m[DEBUG] Loading JSON file: \u001B[0m\n",
       "\u001B[2m../log/contracts_analysis_both_20250225_104133/reentrant/0x13a399fe6c5b38b247e1477016f5fc7c3f6b3ccb_reentrancy/clas\u001B[0m\n",
       "\u001B[2msification.json\u001B[0m\n"
      ],
      "text/html": [
       "<pre style=\"white-space:pre;overflow-x:auto;line-height:normal;font-family:Menlo,'DejaVu Sans Mono',consolas,'Courier New',monospace\"><span style=\"color: #7f7f7f; text-decoration-color: #7f7f7f\">[DEBUG] Loading JSON file: </span>\n",
       "<span style=\"color: #7f7f7f; text-decoration-color: #7f7f7f\">../log/contracts_analysis_both_20250225_104133/reentrant/0x13a399fe6c5b38b247e1477016f5fc7c3f6b3ccb_reentrancy/clas</span>\n",
       "<span style=\"color: #7f7f7f; text-decoration-color: #7f7f7f\">sification.json</span>\n",
       "</pre>\n"
      ]
     },
     "metadata": {},
     "output_type": "display_data"
    },
    {
     "data": {
      "text/plain": [
       "\u001B[2m[DEBUG] Classification result: safe, Ground truth: reentrant\u001B[0m\n"
      ],
      "text/html": [
       "<pre style=\"white-space:pre;overflow-x:auto;line-height:normal;font-family:Menlo,'DejaVu Sans Mono',consolas,'Courier New',monospace\"><span style=\"color: #7f7f7f; text-decoration-color: #7f7f7f\">[DEBUG] Classification result: safe, Ground truth: reentrant</span>\n",
       "</pre>\n"
      ]
     },
     "metadata": {},
     "output_type": "display_data"
    },
    {
     "data": {
      "text/plain": [
       "\u001B[2m[DEBUG] Collecting predictions from directory: \u001B[0m\n",
       "\u001B[2m../log/contracts_analysis_both_20250225_104133/reentrant/0x13a399fe6c5b38b247e1477016f5fc7c3f6b3ccb_reentrancy\u001B[0m\n"
      ],
      "text/html": [
       "<pre style=\"white-space:pre;overflow-x:auto;line-height:normal;font-family:Menlo,'DejaVu Sans Mono',consolas,'Courier New',monospace\"><span style=\"color: #7f7f7f; text-decoration-color: #7f7f7f\">[DEBUG] Collecting predictions from directory: </span>\n",
       "<span style=\"color: #7f7f7f; text-decoration-color: #7f7f7f\">../log/contracts_analysis_both_20250225_104133/reentrant/0x13a399fe6c5b38b247e1477016f5fc7c3f6b3ccb_reentrancy</span>\n",
       "</pre>\n"
      ]
     },
     "metadata": {},
     "output_type": "display_data"
    },
    {
     "data": {
      "text/plain": [
       "\u001B[2m[DEBUG] Loading JSON file: \u001B[0m\n",
       "\u001B[2m../log/contracts_analysis_both_20250225_104133/reentrant/0x13a399fe6c5b38b247e1477016f5fc7c3f6b3ccb_reentrancy/anal\u001B[0m\n",
       "\u001B[2mysis_0x0aa19b3e51dd77e482690263c8af26bec2c6542e.json\u001B[0m\n"
      ],
      "text/html": [
       "<pre style=\"white-space:pre;overflow-x:auto;line-height:normal;font-family:Menlo,'DejaVu Sans Mono',consolas,'Courier New',monospace\"><span style=\"color: #7f7f7f; text-decoration-color: #7f7f7f\">[DEBUG] Loading JSON file: </span>\n",
       "<span style=\"color: #7f7f7f; text-decoration-color: #7f7f7f\">../log/contracts_analysis_both_20250225_104133/reentrant/0x13a399fe6c5b38b247e1477016f5fc7c3f6b3ccb_reentrancy/anal</span>\n",
       "<span style=\"color: #7f7f7f; text-decoration-color: #7f7f7f\">ysis_0x0aa19b3e51dd77e482690263c8af26bec2c6542e.json</span>\n",
       "</pre>\n"
      ]
     },
     "metadata": {},
     "output_type": "display_data"
    },
    {
     "data": {
      "text/plain": [
       "\u001B[2m[DEBUG] Loading JSON file: \u001B[0m\n",
       "\u001B[2m../log/contracts_analysis_both_20250225_104133/reentrant/0x13a399fe6c5b38b247e1477016f5fc7c3f6b3ccb_reentrancy/anal\u001B[0m\n",
       "\u001B[2mysis_0x0aab3ac447ea90739bdbe4e0e00af0a54038904a.json\u001B[0m\n"
      ],
      "text/html": [
       "<pre style=\"white-space:pre;overflow-x:auto;line-height:normal;font-family:Menlo,'DejaVu Sans Mono',consolas,'Courier New',monospace\"><span style=\"color: #7f7f7f; text-decoration-color: #7f7f7f\">[DEBUG] Loading JSON file: </span>\n",
       "<span style=\"color: #7f7f7f; text-decoration-color: #7f7f7f\">../log/contracts_analysis_both_20250225_104133/reentrant/0x13a399fe6c5b38b247e1477016f5fc7c3f6b3ccb_reentrancy/anal</span>\n",
       "<span style=\"color: #7f7f7f; text-decoration-color: #7f7f7f\">ysis_0x0aab3ac447ea90739bdbe4e0e00af0a54038904a.json</span>\n",
       "</pre>\n"
      ]
     },
     "metadata": {},
     "output_type": "display_data"
    },
    {
     "data": {
      "text/plain": [
       "\u001B[2m[DEBUG] Loading JSON file: \u001B[0m\n",
       "\u001B[2m../log/contracts_analysis_both_20250225_104133/reentrant/0x13a399fe6c5b38b247e1477016f5fc7c3f6b3ccb_reentrancy/anal\u001B[0m\n",
       "\u001B[2mysis_0x0a8c3b7e149891ff594e3ad580f8e1769151a07b.json\u001B[0m\n"
      ],
      "text/html": [
       "<pre style=\"white-space:pre;overflow-x:auto;line-height:normal;font-family:Menlo,'DejaVu Sans Mono',consolas,'Courier New',monospace\"><span style=\"color: #7f7f7f; text-decoration-color: #7f7f7f\">[DEBUG] Loading JSON file: </span>\n",
       "<span style=\"color: #7f7f7f; text-decoration-color: #7f7f7f\">../log/contracts_analysis_both_20250225_104133/reentrant/0x13a399fe6c5b38b247e1477016f5fc7c3f6b3ccb_reentrancy/anal</span>\n",
       "<span style=\"color: #7f7f7f; text-decoration-color: #7f7f7f\">ysis_0x0a8c3b7e149891ff594e3ad580f8e1769151a07b.json</span>\n",
       "</pre>\n"
      ]
     },
     "metadata": {},
     "output_type": "display_data"
    },
    {
     "data": {
      "text/plain": [
       "\u001B[2m[DEBUG] Collected predictions: ['reentrant', 'reentrant', 'reentrant']\u001B[0m\n"
      ],
      "text/html": [
       "<pre style=\"white-space:pre;overflow-x:auto;line-height:normal;font-family:Menlo,'DejaVu Sans Mono',consolas,'Courier New',monospace\"><span style=\"color: #7f7f7f; text-decoration-color: #7f7f7f\">[DEBUG] Collected predictions: ['reentrant', 'reentrant', 'reentrant']</span>\n",
       "</pre>\n"
      ]
     },
     "metadata": {},
     "output_type": "display_data"
    },
    {
     "data": {
      "text/plain": [
       "\u001B[2m[DEBUG] Determined ground truth for \u001B[0m\n",
       "\u001B[2m../log/contracts_analysis_both_20250225_104133/reentrant/0b9bae8c156e39c97860eae7a7481d84: reentrant\u001B[0m\n"
      ],
      "text/html": [
       "<pre style=\"white-space:pre;overflow-x:auto;line-height:normal;font-family:Menlo,'DejaVu Sans Mono',consolas,'Courier New',monospace\"><span style=\"color: #7f7f7f; text-decoration-color: #7f7f7f\">[DEBUG] Determined ground truth for </span>\n",
       "<span style=\"color: #7f7f7f; text-decoration-color: #7f7f7f\">../log/contracts_analysis_both_20250225_104133/reentrant/0b9bae8c156e39c97860eae7a7481d84: reentrant</span>\n",
       "</pre>\n"
      ]
     },
     "metadata": {},
     "output_type": "display_data"
    },
    {
     "data": {
      "text/plain": [
       "\u001B[2m[DEBUG] Processing classification file: \u001B[0m\n",
       "\u001B[2m../log/contracts_analysis_both_20250225_104133/reentrant/0b9bae8c156e39c97860eae7a7481d84/classification.json\u001B[0m\n"
      ],
      "text/html": [
       "<pre style=\"white-space:pre;overflow-x:auto;line-height:normal;font-family:Menlo,'DejaVu Sans Mono',consolas,'Courier New',monospace\"><span style=\"color: #7f7f7f; text-decoration-color: #7f7f7f\">[DEBUG] Processing classification file: </span>\n",
       "<span style=\"color: #7f7f7f; text-decoration-color: #7f7f7f\">../log/contracts_analysis_both_20250225_104133/reentrant/0b9bae8c156e39c97860eae7a7481d84/classification.json</span>\n",
       "</pre>\n"
      ]
     },
     "metadata": {},
     "output_type": "display_data"
    },
    {
     "data": {
      "text/plain": [
       "\u001B[2m[DEBUG] Loading JSON file: \u001B[0m\n",
       "\u001B[2m../log/contracts_analysis_both_20250225_104133/reentrant/0b9bae8c156e39c97860eae7a7481d84/classification.json\u001B[0m\n"
      ],
      "text/html": [
       "<pre style=\"white-space:pre;overflow-x:auto;line-height:normal;font-family:Menlo,'DejaVu Sans Mono',consolas,'Courier New',monospace\"><span style=\"color: #7f7f7f; text-decoration-color: #7f7f7f\">[DEBUG] Loading JSON file: </span>\n",
       "<span style=\"color: #7f7f7f; text-decoration-color: #7f7f7f\">../log/contracts_analysis_both_20250225_104133/reentrant/0b9bae8c156e39c97860eae7a7481d84/classification.json</span>\n",
       "</pre>\n"
      ]
     },
     "metadata": {},
     "output_type": "display_data"
    },
    {
     "data": {
      "text/plain": [
       "\u001B[2m[DEBUG] Classification result: reentrant, Ground truth: reentrant\u001B[0m\n"
      ],
      "text/html": [
       "<pre style=\"white-space:pre;overflow-x:auto;line-height:normal;font-family:Menlo,'DejaVu Sans Mono',consolas,'Courier New',monospace\"><span style=\"color: #7f7f7f; text-decoration-color: #7f7f7f\">[DEBUG] Classification result: reentrant, Ground truth: reentrant</span>\n",
       "</pre>\n"
      ]
     },
     "metadata": {},
     "output_type": "display_data"
    },
    {
     "data": {
      "text/plain": [
       "\u001B[2m[DEBUG] Collecting predictions from directory: \u001B[0m\n",
       "\u001B[2m../log/contracts_analysis_both_20250225_104133/reentrant/0b9bae8c156e39c97860eae7a7481d84\u001B[0m\n"
      ],
      "text/html": [
       "<pre style=\"white-space:pre;overflow-x:auto;line-height:normal;font-family:Menlo,'DejaVu Sans Mono',consolas,'Courier New',monospace\"><span style=\"color: #7f7f7f; text-decoration-color: #7f7f7f\">[DEBUG] Collecting predictions from directory: </span>\n",
       "<span style=\"color: #7f7f7f; text-decoration-color: #7f7f7f\">../log/contracts_analysis_both_20250225_104133/reentrant/0b9bae8c156e39c97860eae7a7481d84</span>\n",
       "</pre>\n"
      ]
     },
     "metadata": {},
     "output_type": "display_data"
    },
    {
     "data": {
      "text/plain": [
       "\u001B[2m[DEBUG] Loading JSON file: \u001B[0m\n",
       "\u001B[2m../log/contracts_analysis_both_20250225_104133/reentrant/0b9bae8c156e39c97860eae7a7481d84/analysis_0x0aa19b3e51dd77\u001B[0m\n",
       "\u001B[2me482690263c8af26bec2c6542e.json\u001B[0m\n"
      ],
      "text/html": [
       "<pre style=\"white-space:pre;overflow-x:auto;line-height:normal;font-family:Menlo,'DejaVu Sans Mono',consolas,'Courier New',monospace\"><span style=\"color: #7f7f7f; text-decoration-color: #7f7f7f\">[DEBUG] Loading JSON file: </span>\n",
       "<span style=\"color: #7f7f7f; text-decoration-color: #7f7f7f\">../log/contracts_analysis_both_20250225_104133/reentrant/0b9bae8c156e39c97860eae7a7481d84/analysis_0x0aa19b3e51dd77</span>\n",
       "<span style=\"color: #7f7f7f; text-decoration-color: #7f7f7f\">e482690263c8af26bec2c6542e.json</span>\n",
       "</pre>\n"
      ]
     },
     "metadata": {},
     "output_type": "display_data"
    },
    {
     "data": {
      "text/plain": [
       "\u001B[2m[DEBUG] Loading JSON file: \u001B[0m\n",
       "\u001B[2m../log/contracts_analysis_both_20250225_104133/reentrant/0b9bae8c156e39c97860eae7a7481d84/analysis_0x0aab3ac447ea90\u001B[0m\n",
       "\u001B[2m739bdbe4e0e00af0a54038904a.json\u001B[0m\n"
      ],
      "text/html": [
       "<pre style=\"white-space:pre;overflow-x:auto;line-height:normal;font-family:Menlo,'DejaVu Sans Mono',consolas,'Courier New',monospace\"><span style=\"color: #7f7f7f; text-decoration-color: #7f7f7f\">[DEBUG] Loading JSON file: </span>\n",
       "<span style=\"color: #7f7f7f; text-decoration-color: #7f7f7f\">../log/contracts_analysis_both_20250225_104133/reentrant/0b9bae8c156e39c97860eae7a7481d84/analysis_0x0aab3ac447ea90</span>\n",
       "<span style=\"color: #7f7f7f; text-decoration-color: #7f7f7f\">739bdbe4e0e00af0a54038904a.json</span>\n",
       "</pre>\n"
      ]
     },
     "metadata": {},
     "output_type": "display_data"
    },
    {
     "data": {
      "text/plain": [
       "\u001B[2m[DEBUG] Loading JSON file: \u001B[0m\n",
       "\u001B[2m../log/contracts_analysis_both_20250225_104133/reentrant/0b9bae8c156e39c97860eae7a7481d84/analysis_0x0a8c3b7e149891\u001B[0m\n",
       "\u001B[2mff594e3ad580f8e1769151a07b.json\u001B[0m\n"
      ],
      "text/html": [
       "<pre style=\"white-space:pre;overflow-x:auto;line-height:normal;font-family:Menlo,'DejaVu Sans Mono',consolas,'Courier New',monospace\"><span style=\"color: #7f7f7f; text-decoration-color: #7f7f7f\">[DEBUG] Loading JSON file: </span>\n",
       "<span style=\"color: #7f7f7f; text-decoration-color: #7f7f7f\">../log/contracts_analysis_both_20250225_104133/reentrant/0b9bae8c156e39c97860eae7a7481d84/analysis_0x0a8c3b7e149891</span>\n",
       "<span style=\"color: #7f7f7f; text-decoration-color: #7f7f7f\">ff594e3ad580f8e1769151a07b.json</span>\n",
       "</pre>\n"
      ]
     },
     "metadata": {},
     "output_type": "display_data"
    },
    {
     "data": {
      "text/plain": [
       "\u001B[2m[DEBUG] Collected predictions: ['reentrant', 'reentrant', 'reentrant']\u001B[0m\n"
      ],
      "text/html": [
       "<pre style=\"white-space:pre;overflow-x:auto;line-height:normal;font-family:Menlo,'DejaVu Sans Mono',consolas,'Courier New',monospace\"><span style=\"color: #7f7f7f; text-decoration-color: #7f7f7f\">[DEBUG] Collected predictions: ['reentrant', 'reentrant', 'reentrant']</span>\n",
       "</pre>\n"
      ]
     },
     "metadata": {},
     "output_type": "display_data"
    },
    {
     "data": {
      "text/plain": [
       "\u001B[2m[DEBUG] Determined ground truth for \u001B[0m\n",
       "\u001B[2m../log/contracts_analysis_both_20250225_104133/reentrant/0x992447bbd9d9e1d98deaa7d6237b3ebd0ced728e_reentrancy: \u001B[0m\n",
       "\u001B[2mreentrant\u001B[0m\n"
      ],
      "text/html": [
       "<pre style=\"white-space:pre;overflow-x:auto;line-height:normal;font-family:Menlo,'DejaVu Sans Mono',consolas,'Courier New',monospace\"><span style=\"color: #7f7f7f; text-decoration-color: #7f7f7f\">[DEBUG] Determined ground truth for </span>\n",
       "<span style=\"color: #7f7f7f; text-decoration-color: #7f7f7f\">../log/contracts_analysis_both_20250225_104133/reentrant/0x992447bbd9d9e1d98deaa7d6237b3ebd0ced728e_reentrancy: </span>\n",
       "<span style=\"color: #7f7f7f; text-decoration-color: #7f7f7f\">reentrant</span>\n",
       "</pre>\n"
      ]
     },
     "metadata": {},
     "output_type": "display_data"
    },
    {
     "data": {
      "text/plain": [
       "\u001B[2m[DEBUG] Processing classification file: \u001B[0m\n",
       "\u001B[2m../log/contracts_analysis_both_20250225_104133/reentrant/0x992447bbd9d9e1d98deaa7d6237b3ebd0ced728e_reentrancy/clas\u001B[0m\n",
       "\u001B[2msification.json\u001B[0m\n"
      ],
      "text/html": [
       "<pre style=\"white-space:pre;overflow-x:auto;line-height:normal;font-family:Menlo,'DejaVu Sans Mono',consolas,'Courier New',monospace\"><span style=\"color: #7f7f7f; text-decoration-color: #7f7f7f\">[DEBUG] Processing classification file: </span>\n",
       "<span style=\"color: #7f7f7f; text-decoration-color: #7f7f7f\">../log/contracts_analysis_both_20250225_104133/reentrant/0x992447bbd9d9e1d98deaa7d6237b3ebd0ced728e_reentrancy/clas</span>\n",
       "<span style=\"color: #7f7f7f; text-decoration-color: #7f7f7f\">sification.json</span>\n",
       "</pre>\n"
      ]
     },
     "metadata": {},
     "output_type": "display_data"
    },
    {
     "data": {
      "text/plain": [
       "\u001B[2m[DEBUG] Loading JSON file: \u001B[0m\n",
       "\u001B[2m../log/contracts_analysis_both_20250225_104133/reentrant/0x992447bbd9d9e1d98deaa7d6237b3ebd0ced728e_reentrancy/clas\u001B[0m\n",
       "\u001B[2msification.json\u001B[0m\n"
      ],
      "text/html": [
       "<pre style=\"white-space:pre;overflow-x:auto;line-height:normal;font-family:Menlo,'DejaVu Sans Mono',consolas,'Courier New',monospace\"><span style=\"color: #7f7f7f; text-decoration-color: #7f7f7f\">[DEBUG] Loading JSON file: </span>\n",
       "<span style=\"color: #7f7f7f; text-decoration-color: #7f7f7f\">../log/contracts_analysis_both_20250225_104133/reentrant/0x992447bbd9d9e1d98deaa7d6237b3ebd0ced728e_reentrancy/clas</span>\n",
       "<span style=\"color: #7f7f7f; text-decoration-color: #7f7f7f\">sification.json</span>\n",
       "</pre>\n"
      ]
     },
     "metadata": {},
     "output_type": "display_data"
    },
    {
     "data": {
      "text/plain": [
       "\u001B[2m[DEBUG] Classification result: reentrant, Ground truth: reentrant\u001B[0m\n"
      ],
      "text/html": [
       "<pre style=\"white-space:pre;overflow-x:auto;line-height:normal;font-family:Menlo,'DejaVu Sans Mono',consolas,'Courier New',monospace\"><span style=\"color: #7f7f7f; text-decoration-color: #7f7f7f\">[DEBUG] Classification result: reentrant, Ground truth: reentrant</span>\n",
       "</pre>\n"
      ]
     },
     "metadata": {},
     "output_type": "display_data"
    },
    {
     "data": {
      "text/plain": [
       "\u001B[2m[DEBUG] Collecting predictions from directory: \u001B[0m\n",
       "\u001B[2m../log/contracts_analysis_both_20250225_104133/reentrant/0x992447bbd9d9e1d98deaa7d6237b3ebd0ced728e_reentrancy\u001B[0m\n"
      ],
      "text/html": [
       "<pre style=\"white-space:pre;overflow-x:auto;line-height:normal;font-family:Menlo,'DejaVu Sans Mono',consolas,'Courier New',monospace\"><span style=\"color: #7f7f7f; text-decoration-color: #7f7f7f\">[DEBUG] Collecting predictions from directory: </span>\n",
       "<span style=\"color: #7f7f7f; text-decoration-color: #7f7f7f\">../log/contracts_analysis_both_20250225_104133/reentrant/0x992447bbd9d9e1d98deaa7d6237b3ebd0ced728e_reentrancy</span>\n",
       "</pre>\n"
      ]
     },
     "metadata": {},
     "output_type": "display_data"
    },
    {
     "data": {
      "text/plain": [
       "\u001B[2m[DEBUG] Loading JSON file: \u001B[0m\n",
       "\u001B[2m../log/contracts_analysis_both_20250225_104133/reentrant/0x992447bbd9d9e1d98deaa7d6237b3ebd0ced728e_reentrancy/anal\u001B[0m\n",
       "\u001B[2mysis_0x0aa19b3e51dd77e482690263c8af26bec2c6542e.json\u001B[0m\n"
      ],
      "text/html": [
       "<pre style=\"white-space:pre;overflow-x:auto;line-height:normal;font-family:Menlo,'DejaVu Sans Mono',consolas,'Courier New',monospace\"><span style=\"color: #7f7f7f; text-decoration-color: #7f7f7f\">[DEBUG] Loading JSON file: </span>\n",
       "<span style=\"color: #7f7f7f; text-decoration-color: #7f7f7f\">../log/contracts_analysis_both_20250225_104133/reentrant/0x992447bbd9d9e1d98deaa7d6237b3ebd0ced728e_reentrancy/anal</span>\n",
       "<span style=\"color: #7f7f7f; text-decoration-color: #7f7f7f\">ysis_0x0aa19b3e51dd77e482690263c8af26bec2c6542e.json</span>\n",
       "</pre>\n"
      ]
     },
     "metadata": {},
     "output_type": "display_data"
    },
    {
     "data": {
      "text/plain": [
       "\u001B[2m[DEBUG] Loading JSON file: \u001B[0m\n",
       "\u001B[2m../log/contracts_analysis_both_20250225_104133/reentrant/0x992447bbd9d9e1d98deaa7d6237b3ebd0ced728e_reentrancy/anal\u001B[0m\n",
       "\u001B[2mysis_0x0aab3ac447ea90739bdbe4e0e00af0a54038904a.json\u001B[0m\n"
      ],
      "text/html": [
       "<pre style=\"white-space:pre;overflow-x:auto;line-height:normal;font-family:Menlo,'DejaVu Sans Mono',consolas,'Courier New',monospace\"><span style=\"color: #7f7f7f; text-decoration-color: #7f7f7f\">[DEBUG] Loading JSON file: </span>\n",
       "<span style=\"color: #7f7f7f; text-decoration-color: #7f7f7f\">../log/contracts_analysis_both_20250225_104133/reentrant/0x992447bbd9d9e1d98deaa7d6237b3ebd0ced728e_reentrancy/anal</span>\n",
       "<span style=\"color: #7f7f7f; text-decoration-color: #7f7f7f\">ysis_0x0aab3ac447ea90739bdbe4e0e00af0a54038904a.json</span>\n",
       "</pre>\n"
      ]
     },
     "metadata": {},
     "output_type": "display_data"
    },
    {
     "data": {
      "text/plain": [
       "\u001B[2m[DEBUG] Loading JSON file: \u001B[0m\n",
       "\u001B[2m../log/contracts_analysis_both_20250225_104133/reentrant/0x992447bbd9d9e1d98deaa7d6237b3ebd0ced728e_reentrancy/anal\u001B[0m\n",
       "\u001B[2mysis_0x0a8c3b7e149891ff594e3ad580f8e1769151a07b.json\u001B[0m\n"
      ],
      "text/html": [
       "<pre style=\"white-space:pre;overflow-x:auto;line-height:normal;font-family:Menlo,'DejaVu Sans Mono',consolas,'Courier New',monospace\"><span style=\"color: #7f7f7f; text-decoration-color: #7f7f7f\">[DEBUG] Loading JSON file: </span>\n",
       "<span style=\"color: #7f7f7f; text-decoration-color: #7f7f7f\">../log/contracts_analysis_both_20250225_104133/reentrant/0x992447bbd9d9e1d98deaa7d6237b3ebd0ced728e_reentrancy/anal</span>\n",
       "<span style=\"color: #7f7f7f; text-decoration-color: #7f7f7f\">ysis_0x0a8c3b7e149891ff594e3ad580f8e1769151a07b.json</span>\n",
       "</pre>\n"
      ]
     },
     "metadata": {},
     "output_type": "display_data"
    },
    {
     "data": {
      "text/plain": [
       "\u001B[2m[DEBUG] Collected predictions: ['reentrant', 'reentrant', 'reentrant']\u001B[0m\n"
      ],
      "text/html": [
       "<pre style=\"white-space:pre;overflow-x:auto;line-height:normal;font-family:Menlo,'DejaVu Sans Mono',consolas,'Courier New',monospace\"><span style=\"color: #7f7f7f; text-decoration-color: #7f7f7f\">[DEBUG] Collected predictions: ['reentrant', 'reentrant', 'reentrant']</span>\n",
       "</pre>\n"
      ]
     },
     "metadata": {},
     "output_type": "display_data"
    },
    {
     "data": {
      "text/plain": [
       "\u001B[2m[DEBUG] Determined ground truth for \u001B[0m\n",
       "\u001B[2m../log/contracts_analysis_both_20250225_104133/reentrant/0xc9109587a84522508e432daf4e1c5d64893dc182_reentrancy: \u001B[0m\n",
       "\u001B[2mreentrant\u001B[0m\n"
      ],
      "text/html": [
       "<pre style=\"white-space:pre;overflow-x:auto;line-height:normal;font-family:Menlo,'DejaVu Sans Mono',consolas,'Courier New',monospace\"><span style=\"color: #7f7f7f; text-decoration-color: #7f7f7f\">[DEBUG] Determined ground truth for </span>\n",
       "<span style=\"color: #7f7f7f; text-decoration-color: #7f7f7f\">../log/contracts_analysis_both_20250225_104133/reentrant/0xc9109587a84522508e432daf4e1c5d64893dc182_reentrancy: </span>\n",
       "<span style=\"color: #7f7f7f; text-decoration-color: #7f7f7f\">reentrant</span>\n",
       "</pre>\n"
      ]
     },
     "metadata": {},
     "output_type": "display_data"
    },
    {
     "data": {
      "text/plain": [
       "\u001B[2m[DEBUG] Processing classification file: \u001B[0m\n",
       "\u001B[2m../log/contracts_analysis_both_20250225_104133/reentrant/0xc9109587a84522508e432daf4e1c5d64893dc182_reentrancy/clas\u001B[0m\n",
       "\u001B[2msification.json\u001B[0m\n"
      ],
      "text/html": [
       "<pre style=\"white-space:pre;overflow-x:auto;line-height:normal;font-family:Menlo,'DejaVu Sans Mono',consolas,'Courier New',monospace\"><span style=\"color: #7f7f7f; text-decoration-color: #7f7f7f\">[DEBUG] Processing classification file: </span>\n",
       "<span style=\"color: #7f7f7f; text-decoration-color: #7f7f7f\">../log/contracts_analysis_both_20250225_104133/reentrant/0xc9109587a84522508e432daf4e1c5d64893dc182_reentrancy/clas</span>\n",
       "<span style=\"color: #7f7f7f; text-decoration-color: #7f7f7f\">sification.json</span>\n",
       "</pre>\n"
      ]
     },
     "metadata": {},
     "output_type": "display_data"
    },
    {
     "data": {
      "text/plain": [
       "\u001B[2m[DEBUG] Loading JSON file: \u001B[0m\n",
       "\u001B[2m../log/contracts_analysis_both_20250225_104133/reentrant/0xc9109587a84522508e432daf4e1c5d64893dc182_reentrancy/clas\u001B[0m\n",
       "\u001B[2msification.json\u001B[0m\n"
      ],
      "text/html": [
       "<pre style=\"white-space:pre;overflow-x:auto;line-height:normal;font-family:Menlo,'DejaVu Sans Mono',consolas,'Courier New',monospace\"><span style=\"color: #7f7f7f; text-decoration-color: #7f7f7f\">[DEBUG] Loading JSON file: </span>\n",
       "<span style=\"color: #7f7f7f; text-decoration-color: #7f7f7f\">../log/contracts_analysis_both_20250225_104133/reentrant/0xc9109587a84522508e432daf4e1c5d64893dc182_reentrancy/clas</span>\n",
       "<span style=\"color: #7f7f7f; text-decoration-color: #7f7f7f\">sification.json</span>\n",
       "</pre>\n"
      ]
     },
     "metadata": {},
     "output_type": "display_data"
    },
    {
     "data": {
      "text/plain": [
       "\u001B[2m[DEBUG] Classification result: reentrant, Ground truth: reentrant\u001B[0m\n"
      ],
      "text/html": [
       "<pre style=\"white-space:pre;overflow-x:auto;line-height:normal;font-family:Menlo,'DejaVu Sans Mono',consolas,'Courier New',monospace\"><span style=\"color: #7f7f7f; text-decoration-color: #7f7f7f\">[DEBUG] Classification result: reentrant, Ground truth: reentrant</span>\n",
       "</pre>\n"
      ]
     },
     "metadata": {},
     "output_type": "display_data"
    },
    {
     "data": {
      "text/plain": [
       "\u001B[2m[DEBUG] Collecting predictions from directory: \u001B[0m\n",
       "\u001B[2m../log/contracts_analysis_both_20250225_104133/reentrant/0xc9109587a84522508e432daf4e1c5d64893dc182_reentrancy\u001B[0m\n"
      ],
      "text/html": [
       "<pre style=\"white-space:pre;overflow-x:auto;line-height:normal;font-family:Menlo,'DejaVu Sans Mono',consolas,'Courier New',monospace\"><span style=\"color: #7f7f7f; text-decoration-color: #7f7f7f\">[DEBUG] Collecting predictions from directory: </span>\n",
       "<span style=\"color: #7f7f7f; text-decoration-color: #7f7f7f\">../log/contracts_analysis_both_20250225_104133/reentrant/0xc9109587a84522508e432daf4e1c5d64893dc182_reentrancy</span>\n",
       "</pre>\n"
      ]
     },
     "metadata": {},
     "output_type": "display_data"
    },
    {
     "data": {
      "text/plain": [
       "\u001B[2m[DEBUG] Loading JSON file: \u001B[0m\n",
       "\u001B[2m../log/contracts_analysis_both_20250225_104133/reentrant/0xc9109587a84522508e432daf4e1c5d64893dc182_reentrancy/anal\u001B[0m\n",
       "\u001B[2mysis_0x0aa19b3e51dd77e482690263c8af26bec2c6542e.json\u001B[0m\n"
      ],
      "text/html": [
       "<pre style=\"white-space:pre;overflow-x:auto;line-height:normal;font-family:Menlo,'DejaVu Sans Mono',consolas,'Courier New',monospace\"><span style=\"color: #7f7f7f; text-decoration-color: #7f7f7f\">[DEBUG] Loading JSON file: </span>\n",
       "<span style=\"color: #7f7f7f; text-decoration-color: #7f7f7f\">../log/contracts_analysis_both_20250225_104133/reentrant/0xc9109587a84522508e432daf4e1c5d64893dc182_reentrancy/anal</span>\n",
       "<span style=\"color: #7f7f7f; text-decoration-color: #7f7f7f\">ysis_0x0aa19b3e51dd77e482690263c8af26bec2c6542e.json</span>\n",
       "</pre>\n"
      ]
     },
     "metadata": {},
     "output_type": "display_data"
    },
    {
     "data": {
      "text/plain": [
       "\u001B[2m[DEBUG] Loading JSON file: \u001B[0m\n",
       "\u001B[2m../log/contracts_analysis_both_20250225_104133/reentrant/0xc9109587a84522508e432daf4e1c5d64893dc182_reentrancy/anal\u001B[0m\n",
       "\u001B[2mysis_0x0aab3ac447ea90739bdbe4e0e00af0a54038904a.json\u001B[0m\n"
      ],
      "text/html": [
       "<pre style=\"white-space:pre;overflow-x:auto;line-height:normal;font-family:Menlo,'DejaVu Sans Mono',consolas,'Courier New',monospace\"><span style=\"color: #7f7f7f; text-decoration-color: #7f7f7f\">[DEBUG] Loading JSON file: </span>\n",
       "<span style=\"color: #7f7f7f; text-decoration-color: #7f7f7f\">../log/contracts_analysis_both_20250225_104133/reentrant/0xc9109587a84522508e432daf4e1c5d64893dc182_reentrancy/anal</span>\n",
       "<span style=\"color: #7f7f7f; text-decoration-color: #7f7f7f\">ysis_0x0aab3ac447ea90739bdbe4e0e00af0a54038904a.json</span>\n",
       "</pre>\n"
      ]
     },
     "metadata": {},
     "output_type": "display_data"
    },
    {
     "data": {
      "text/plain": [
       "\u001B[2m[DEBUG] Loading JSON file: \u001B[0m\n",
       "\u001B[2m../log/contracts_analysis_both_20250225_104133/reentrant/0xc9109587a84522508e432daf4e1c5d64893dc182_reentrancy/anal\u001B[0m\n",
       "\u001B[2mysis_0x0a8c3b7e149891ff594e3ad580f8e1769151a07b.json\u001B[0m\n"
      ],
      "text/html": [
       "<pre style=\"white-space:pre;overflow-x:auto;line-height:normal;font-family:Menlo,'DejaVu Sans Mono',consolas,'Courier New',monospace\"><span style=\"color: #7f7f7f; text-decoration-color: #7f7f7f\">[DEBUG] Loading JSON file: </span>\n",
       "<span style=\"color: #7f7f7f; text-decoration-color: #7f7f7f\">../log/contracts_analysis_both_20250225_104133/reentrant/0xc9109587a84522508e432daf4e1c5d64893dc182_reentrancy/anal</span>\n",
       "<span style=\"color: #7f7f7f; text-decoration-color: #7f7f7f\">ysis_0x0a8c3b7e149891ff594e3ad580f8e1769151a07b.json</span>\n",
       "</pre>\n"
      ]
     },
     "metadata": {},
     "output_type": "display_data"
    },
    {
     "data": {
      "text/plain": [
       "\u001B[2m[DEBUG] Collected predictions: ['reentrant', 'reentrant', 'reentrant']\u001B[0m\n"
      ],
      "text/html": [
       "<pre style=\"white-space:pre;overflow-x:auto;line-height:normal;font-family:Menlo,'DejaVu Sans Mono',consolas,'Courier New',monospace\"><span style=\"color: #7f7f7f; text-decoration-color: #7f7f7f\">[DEBUG] Collected predictions: ['reentrant', 'reentrant', 'reentrant']</span>\n",
       "</pre>\n"
      ]
     },
     "metadata": {},
     "output_type": "display_data"
    },
    {
     "data": {
      "text/plain": [
       "\u001B[2m[DEBUG] Determined ground truth for \u001B[0m\n",
       "\u001B[2m../log/contracts_analysis_both_20250225_104133/reentrant/0x9240c2d6e42db74a5a0553b83d21298304eecb9a_reentrancy: \u001B[0m\n",
       "\u001B[2mreentrant\u001B[0m\n"
      ],
      "text/html": [
       "<pre style=\"white-space:pre;overflow-x:auto;line-height:normal;font-family:Menlo,'DejaVu Sans Mono',consolas,'Courier New',monospace\"><span style=\"color: #7f7f7f; text-decoration-color: #7f7f7f\">[DEBUG] Determined ground truth for </span>\n",
       "<span style=\"color: #7f7f7f; text-decoration-color: #7f7f7f\">../log/contracts_analysis_both_20250225_104133/reentrant/0x9240c2d6e42db74a5a0553b83d21298304eecb9a_reentrancy: </span>\n",
       "<span style=\"color: #7f7f7f; text-decoration-color: #7f7f7f\">reentrant</span>\n",
       "</pre>\n"
      ]
     },
     "metadata": {},
     "output_type": "display_data"
    },
    {
     "data": {
      "text/plain": [
       "\u001B[2m[DEBUG] Processing classification file: \u001B[0m\n",
       "\u001B[2m../log/contracts_analysis_both_20250225_104133/reentrant/0x9240c2d6e42db74a5a0553b83d21298304eecb9a_reentrancy/clas\u001B[0m\n",
       "\u001B[2msification.json\u001B[0m\n"
      ],
      "text/html": [
       "<pre style=\"white-space:pre;overflow-x:auto;line-height:normal;font-family:Menlo,'DejaVu Sans Mono',consolas,'Courier New',monospace\"><span style=\"color: #7f7f7f; text-decoration-color: #7f7f7f\">[DEBUG] Processing classification file: </span>\n",
       "<span style=\"color: #7f7f7f; text-decoration-color: #7f7f7f\">../log/contracts_analysis_both_20250225_104133/reentrant/0x9240c2d6e42db74a5a0553b83d21298304eecb9a_reentrancy/clas</span>\n",
       "<span style=\"color: #7f7f7f; text-decoration-color: #7f7f7f\">sification.json</span>\n",
       "</pre>\n"
      ]
     },
     "metadata": {},
     "output_type": "display_data"
    },
    {
     "data": {
      "text/plain": [
       "\u001B[2m[DEBUG] Loading JSON file: \u001B[0m\n",
       "\u001B[2m../log/contracts_analysis_both_20250225_104133/reentrant/0x9240c2d6e42db74a5a0553b83d21298304eecb9a_reentrancy/clas\u001B[0m\n",
       "\u001B[2msification.json\u001B[0m\n"
      ],
      "text/html": [
       "<pre style=\"white-space:pre;overflow-x:auto;line-height:normal;font-family:Menlo,'DejaVu Sans Mono',consolas,'Courier New',monospace\"><span style=\"color: #7f7f7f; text-decoration-color: #7f7f7f\">[DEBUG] Loading JSON file: </span>\n",
       "<span style=\"color: #7f7f7f; text-decoration-color: #7f7f7f\">../log/contracts_analysis_both_20250225_104133/reentrant/0x9240c2d6e42db74a5a0553b83d21298304eecb9a_reentrancy/clas</span>\n",
       "<span style=\"color: #7f7f7f; text-decoration-color: #7f7f7f\">sification.json</span>\n",
       "</pre>\n"
      ]
     },
     "metadata": {},
     "output_type": "display_data"
    },
    {
     "data": {
      "text/plain": [
       "\u001B[2m[DEBUG] Classification result: safe, Ground truth: reentrant\u001B[0m\n"
      ],
      "text/html": [
       "<pre style=\"white-space:pre;overflow-x:auto;line-height:normal;font-family:Menlo,'DejaVu Sans Mono',consolas,'Courier New',monospace\"><span style=\"color: #7f7f7f; text-decoration-color: #7f7f7f\">[DEBUG] Classification result: safe, Ground truth: reentrant</span>\n",
       "</pre>\n"
      ]
     },
     "metadata": {},
     "output_type": "display_data"
    },
    {
     "data": {
      "text/plain": [
       "\u001B[2m[DEBUG] Collecting predictions from directory: \u001B[0m\n",
       "\u001B[2m../log/contracts_analysis_both_20250225_104133/reentrant/0x9240c2d6e42db74a5a0553b83d21298304eecb9a_reentrancy\u001B[0m\n"
      ],
      "text/html": [
       "<pre style=\"white-space:pre;overflow-x:auto;line-height:normal;font-family:Menlo,'DejaVu Sans Mono',consolas,'Courier New',monospace\"><span style=\"color: #7f7f7f; text-decoration-color: #7f7f7f\">[DEBUG] Collecting predictions from directory: </span>\n",
       "<span style=\"color: #7f7f7f; text-decoration-color: #7f7f7f\">../log/contracts_analysis_both_20250225_104133/reentrant/0x9240c2d6e42db74a5a0553b83d21298304eecb9a_reentrancy</span>\n",
       "</pre>\n"
      ]
     },
     "metadata": {},
     "output_type": "display_data"
    },
    {
     "data": {
      "text/plain": [
       "\u001B[2m[DEBUG] Loading JSON file: \u001B[0m\n",
       "\u001B[2m../log/contracts_analysis_both_20250225_104133/reentrant/0x9240c2d6e42db74a5a0553b83d21298304eecb9a_reentrancy/anal\u001B[0m\n",
       "\u001B[2mysis_0x0aa19b3e51dd77e482690263c8af26bec2c6542e.json\u001B[0m\n"
      ],
      "text/html": [
       "<pre style=\"white-space:pre;overflow-x:auto;line-height:normal;font-family:Menlo,'DejaVu Sans Mono',consolas,'Courier New',monospace\"><span style=\"color: #7f7f7f; text-decoration-color: #7f7f7f\">[DEBUG] Loading JSON file: </span>\n",
       "<span style=\"color: #7f7f7f; text-decoration-color: #7f7f7f\">../log/contracts_analysis_both_20250225_104133/reentrant/0x9240c2d6e42db74a5a0553b83d21298304eecb9a_reentrancy/anal</span>\n",
       "<span style=\"color: #7f7f7f; text-decoration-color: #7f7f7f\">ysis_0x0aa19b3e51dd77e482690263c8af26bec2c6542e.json</span>\n",
       "</pre>\n"
      ]
     },
     "metadata": {},
     "output_type": "display_data"
    },
    {
     "data": {
      "text/plain": [
       "\u001B[2m[DEBUG] Loading JSON file: \u001B[0m\n",
       "\u001B[2m../log/contracts_analysis_both_20250225_104133/reentrant/0x9240c2d6e42db74a5a0553b83d21298304eecb9a_reentrancy/anal\u001B[0m\n",
       "\u001B[2mysis_0x0aab3ac447ea90739bdbe4e0e00af0a54038904a.json\u001B[0m\n"
      ],
      "text/html": [
       "<pre style=\"white-space:pre;overflow-x:auto;line-height:normal;font-family:Menlo,'DejaVu Sans Mono',consolas,'Courier New',monospace\"><span style=\"color: #7f7f7f; text-decoration-color: #7f7f7f\">[DEBUG] Loading JSON file: </span>\n",
       "<span style=\"color: #7f7f7f; text-decoration-color: #7f7f7f\">../log/contracts_analysis_both_20250225_104133/reentrant/0x9240c2d6e42db74a5a0553b83d21298304eecb9a_reentrancy/anal</span>\n",
       "<span style=\"color: #7f7f7f; text-decoration-color: #7f7f7f\">ysis_0x0aab3ac447ea90739bdbe4e0e00af0a54038904a.json</span>\n",
       "</pre>\n"
      ]
     },
     "metadata": {},
     "output_type": "display_data"
    },
    {
     "data": {
      "text/plain": [
       "\u001B[2m[DEBUG] Loading JSON file: \u001B[0m\n",
       "\u001B[2m../log/contracts_analysis_both_20250225_104133/reentrant/0x9240c2d6e42db74a5a0553b83d21298304eecb9a_reentrancy/anal\u001B[0m\n",
       "\u001B[2mysis_0x0a8c3b7e149891ff594e3ad580f8e1769151a07b.json\u001B[0m\n"
      ],
      "text/html": [
       "<pre style=\"white-space:pre;overflow-x:auto;line-height:normal;font-family:Menlo,'DejaVu Sans Mono',consolas,'Courier New',monospace\"><span style=\"color: #7f7f7f; text-decoration-color: #7f7f7f\">[DEBUG] Loading JSON file: </span>\n",
       "<span style=\"color: #7f7f7f; text-decoration-color: #7f7f7f\">../log/contracts_analysis_both_20250225_104133/reentrant/0x9240c2d6e42db74a5a0553b83d21298304eecb9a_reentrancy/anal</span>\n",
       "<span style=\"color: #7f7f7f; text-decoration-color: #7f7f7f\">ysis_0x0a8c3b7e149891ff594e3ad580f8e1769151a07b.json</span>\n",
       "</pre>\n"
      ]
     },
     "metadata": {},
     "output_type": "display_data"
    },
    {
     "data": {
      "text/plain": [
       "\u001B[2m[DEBUG] Collected predictions: ['reentrant', 'reentrant', 'reentrant']\u001B[0m\n"
      ],
      "text/html": [
       "<pre style=\"white-space:pre;overflow-x:auto;line-height:normal;font-family:Menlo,'DejaVu Sans Mono',consolas,'Courier New',monospace\"><span style=\"color: #7f7f7f; text-decoration-color: #7f7f7f\">[DEBUG] Collected predictions: ['reentrant', 'reentrant', 'reentrant']</span>\n",
       "</pre>\n"
      ]
     },
     "metadata": {},
     "output_type": "display_data"
    },
    {
     "data": {
      "text/plain": [
       "\u001B[2m[DEBUG] Determined ground truth for \u001B[0m\n",
       "\u001B[2m../log/contracts_analysis_both_20250225_104133/reentrant/0xc213dc998b6c0d9c51f9cc72240596e1dd684ec7: reentrant\u001B[0m\n"
      ],
      "text/html": [
       "<pre style=\"white-space:pre;overflow-x:auto;line-height:normal;font-family:Menlo,'DejaVu Sans Mono',consolas,'Courier New',monospace\"><span style=\"color: #7f7f7f; text-decoration-color: #7f7f7f\">[DEBUG] Determined ground truth for </span>\n",
       "<span style=\"color: #7f7f7f; text-decoration-color: #7f7f7f\">../log/contracts_analysis_both_20250225_104133/reentrant/0xc213dc998b6c0d9c51f9cc72240596e1dd684ec7: reentrant</span>\n",
       "</pre>\n"
      ]
     },
     "metadata": {},
     "output_type": "display_data"
    },
    {
     "data": {
      "text/plain": [
       "\u001B[2m[DEBUG] Processing classification file: \u001B[0m\n",
       "\u001B[2m../log/contracts_analysis_both_20250225_104133/reentrant/0xc213dc998b6c0d9c51f9cc72240596e1dd684ec7/classification.\u001B[0m\n",
       "\u001B[2mjson\u001B[0m\n"
      ],
      "text/html": [
       "<pre style=\"white-space:pre;overflow-x:auto;line-height:normal;font-family:Menlo,'DejaVu Sans Mono',consolas,'Courier New',monospace\"><span style=\"color: #7f7f7f; text-decoration-color: #7f7f7f\">[DEBUG] Processing classification file: </span>\n",
       "<span style=\"color: #7f7f7f; text-decoration-color: #7f7f7f\">../log/contracts_analysis_both_20250225_104133/reentrant/0xc213dc998b6c0d9c51f9cc72240596e1dd684ec7/classification.</span>\n",
       "<span style=\"color: #7f7f7f; text-decoration-color: #7f7f7f\">json</span>\n",
       "</pre>\n"
      ]
     },
     "metadata": {},
     "output_type": "display_data"
    },
    {
     "data": {
      "text/plain": [
       "\u001B[2m[DEBUG] Loading JSON file: \u001B[0m\n",
       "\u001B[2m../log/contracts_analysis_both_20250225_104133/reentrant/0xc213dc998b6c0d9c51f9cc72240596e1dd684ec7/classification.\u001B[0m\n",
       "\u001B[2mjson\u001B[0m\n"
      ],
      "text/html": [
       "<pre style=\"white-space:pre;overflow-x:auto;line-height:normal;font-family:Menlo,'DejaVu Sans Mono',consolas,'Courier New',monospace\"><span style=\"color: #7f7f7f; text-decoration-color: #7f7f7f\">[DEBUG] Loading JSON file: </span>\n",
       "<span style=\"color: #7f7f7f; text-decoration-color: #7f7f7f\">../log/contracts_analysis_both_20250225_104133/reentrant/0xc213dc998b6c0d9c51f9cc72240596e1dd684ec7/classification.</span>\n",
       "<span style=\"color: #7f7f7f; text-decoration-color: #7f7f7f\">json</span>\n",
       "</pre>\n"
      ]
     },
     "metadata": {},
     "output_type": "display_data"
    },
    {
     "data": {
      "text/plain": [
       "\u001B[2m[DEBUG] Classification result: safe, Ground truth: reentrant\u001B[0m\n"
      ],
      "text/html": [
       "<pre style=\"white-space:pre;overflow-x:auto;line-height:normal;font-family:Menlo,'DejaVu Sans Mono',consolas,'Courier New',monospace\"><span style=\"color: #7f7f7f; text-decoration-color: #7f7f7f\">[DEBUG] Classification result: safe, Ground truth: reentrant</span>\n",
       "</pre>\n"
      ]
     },
     "metadata": {},
     "output_type": "display_data"
    },
    {
     "data": {
      "text/plain": [
       "\u001B[2m[DEBUG] Collecting predictions from directory: \u001B[0m\n",
       "\u001B[2m../log/contracts_analysis_both_20250225_104133/reentrant/0xc213dc998b6c0d9c51f9cc72240596e1dd684ec7\u001B[0m\n"
      ],
      "text/html": [
       "<pre style=\"white-space:pre;overflow-x:auto;line-height:normal;font-family:Menlo,'DejaVu Sans Mono',consolas,'Courier New',monospace\"><span style=\"color: #7f7f7f; text-decoration-color: #7f7f7f\">[DEBUG] Collecting predictions from directory: </span>\n",
       "<span style=\"color: #7f7f7f; text-decoration-color: #7f7f7f\">../log/contracts_analysis_both_20250225_104133/reentrant/0xc213dc998b6c0d9c51f9cc72240596e1dd684ec7</span>\n",
       "</pre>\n"
      ]
     },
     "metadata": {},
     "output_type": "display_data"
    },
    {
     "data": {
      "text/plain": [
       "\u001B[2m[DEBUG] Loading JSON file: \u001B[0m\n",
       "\u001B[2m../log/contracts_analysis_both_20250225_104133/reentrant/0xc213dc998b6c0d9c51f9cc72240596e1dd684ec7/analysis_0x0aa1\u001B[0m\n",
       "\u001B[2m9b3e51dd77e482690263c8af26bec2c6542e.json\u001B[0m\n"
      ],
      "text/html": [
       "<pre style=\"white-space:pre;overflow-x:auto;line-height:normal;font-family:Menlo,'DejaVu Sans Mono',consolas,'Courier New',monospace\"><span style=\"color: #7f7f7f; text-decoration-color: #7f7f7f\">[DEBUG] Loading JSON file: </span>\n",
       "<span style=\"color: #7f7f7f; text-decoration-color: #7f7f7f\">../log/contracts_analysis_both_20250225_104133/reentrant/0xc213dc998b6c0d9c51f9cc72240596e1dd684ec7/analysis_0x0aa1</span>\n",
       "<span style=\"color: #7f7f7f; text-decoration-color: #7f7f7f\">9b3e51dd77e482690263c8af26bec2c6542e.json</span>\n",
       "</pre>\n"
      ]
     },
     "metadata": {},
     "output_type": "display_data"
    },
    {
     "data": {
      "text/plain": [
       "\u001B[2m[DEBUG] Loading JSON file: \u001B[0m\n",
       "\u001B[2m../log/contracts_analysis_both_20250225_104133/reentrant/0xc213dc998b6c0d9c51f9cc72240596e1dd684ec7/analysis_0x0aab\u001B[0m\n",
       "\u001B[2m3ac447ea90739bdbe4e0e00af0a54038904a.json\u001B[0m\n"
      ],
      "text/html": [
       "<pre style=\"white-space:pre;overflow-x:auto;line-height:normal;font-family:Menlo,'DejaVu Sans Mono',consolas,'Courier New',monospace\"><span style=\"color: #7f7f7f; text-decoration-color: #7f7f7f\">[DEBUG] Loading JSON file: </span>\n",
       "<span style=\"color: #7f7f7f; text-decoration-color: #7f7f7f\">../log/contracts_analysis_both_20250225_104133/reentrant/0xc213dc998b6c0d9c51f9cc72240596e1dd684ec7/analysis_0x0aab</span>\n",
       "<span style=\"color: #7f7f7f; text-decoration-color: #7f7f7f\">3ac447ea90739bdbe4e0e00af0a54038904a.json</span>\n",
       "</pre>\n"
      ]
     },
     "metadata": {},
     "output_type": "display_data"
    },
    {
     "data": {
      "text/plain": [
       "\u001B[2m[DEBUG] Loading JSON file: \u001B[0m\n",
       "\u001B[2m../log/contracts_analysis_both_20250225_104133/reentrant/0xc213dc998b6c0d9c51f9cc72240596e1dd684ec7/analysis_0x0a8c\u001B[0m\n",
       "\u001B[2m3b7e149891ff594e3ad580f8e1769151a07b.json\u001B[0m\n"
      ],
      "text/html": [
       "<pre style=\"white-space:pre;overflow-x:auto;line-height:normal;font-family:Menlo,'DejaVu Sans Mono',consolas,'Courier New',monospace\"><span style=\"color: #7f7f7f; text-decoration-color: #7f7f7f\">[DEBUG] Loading JSON file: </span>\n",
       "<span style=\"color: #7f7f7f; text-decoration-color: #7f7f7f\">../log/contracts_analysis_both_20250225_104133/reentrant/0xc213dc998b6c0d9c51f9cc72240596e1dd684ec7/analysis_0x0a8c</span>\n",
       "<span style=\"color: #7f7f7f; text-decoration-color: #7f7f7f\">3b7e149891ff594e3ad580f8e1769151a07b.json</span>\n",
       "</pre>\n"
      ]
     },
     "metadata": {},
     "output_type": "display_data"
    },
    {
     "data": {
      "text/plain": [
       "\u001B[2m[DEBUG] Collected predictions: ['reentrant', 'reentrant', 'reentrant']\u001B[0m\n"
      ],
      "text/html": [
       "<pre style=\"white-space:pre;overflow-x:auto;line-height:normal;font-family:Menlo,'DejaVu Sans Mono',consolas,'Courier New',monospace\"><span style=\"color: #7f7f7f; text-decoration-color: #7f7f7f\">[DEBUG] Collected predictions: ['reentrant', 'reentrant', 'reentrant']</span>\n",
       "</pre>\n"
      ]
     },
     "metadata": {},
     "output_type": "display_data"
    },
    {
     "data": {
      "text/plain": [
       "\u001B[2m[DEBUG] Determined ground truth for \u001B[0m\n",
       "\u001B[2m../log/contracts_analysis_both_20250225_104133/reentrant/0x93dc6a333a99c0ede1cd346ccf079ea8451013db_reentrancy: \u001B[0m\n",
       "\u001B[2mreentrant\u001B[0m\n"
      ],
      "text/html": [
       "<pre style=\"white-space:pre;overflow-x:auto;line-height:normal;font-family:Menlo,'DejaVu Sans Mono',consolas,'Courier New',monospace\"><span style=\"color: #7f7f7f; text-decoration-color: #7f7f7f\">[DEBUG] Determined ground truth for </span>\n",
       "<span style=\"color: #7f7f7f; text-decoration-color: #7f7f7f\">../log/contracts_analysis_both_20250225_104133/reentrant/0x93dc6a333a99c0ede1cd346ccf079ea8451013db_reentrancy: </span>\n",
       "<span style=\"color: #7f7f7f; text-decoration-color: #7f7f7f\">reentrant</span>\n",
       "</pre>\n"
      ]
     },
     "metadata": {},
     "output_type": "display_data"
    },
    {
     "data": {
      "text/plain": [
       "\u001B[2m[DEBUG] Processing classification file: \u001B[0m\n",
       "\u001B[2m../log/contracts_analysis_both_20250225_104133/reentrant/0x93dc6a333a99c0ede1cd346ccf079ea8451013db_reentrancy/clas\u001B[0m\n",
       "\u001B[2msification.json\u001B[0m\n"
      ],
      "text/html": [
       "<pre style=\"white-space:pre;overflow-x:auto;line-height:normal;font-family:Menlo,'DejaVu Sans Mono',consolas,'Courier New',monospace\"><span style=\"color: #7f7f7f; text-decoration-color: #7f7f7f\">[DEBUG] Processing classification file: </span>\n",
       "<span style=\"color: #7f7f7f; text-decoration-color: #7f7f7f\">../log/contracts_analysis_both_20250225_104133/reentrant/0x93dc6a333a99c0ede1cd346ccf079ea8451013db_reentrancy/clas</span>\n",
       "<span style=\"color: #7f7f7f; text-decoration-color: #7f7f7f\">sification.json</span>\n",
       "</pre>\n"
      ]
     },
     "metadata": {},
     "output_type": "display_data"
    },
    {
     "data": {
      "text/plain": [
       "\u001B[2m[DEBUG] Loading JSON file: \u001B[0m\n",
       "\u001B[2m../log/contracts_analysis_both_20250225_104133/reentrant/0x93dc6a333a99c0ede1cd346ccf079ea8451013db_reentrancy/clas\u001B[0m\n",
       "\u001B[2msification.json\u001B[0m\n"
      ],
      "text/html": [
       "<pre style=\"white-space:pre;overflow-x:auto;line-height:normal;font-family:Menlo,'DejaVu Sans Mono',consolas,'Courier New',monospace\"><span style=\"color: #7f7f7f; text-decoration-color: #7f7f7f\">[DEBUG] Loading JSON file: </span>\n",
       "<span style=\"color: #7f7f7f; text-decoration-color: #7f7f7f\">../log/contracts_analysis_both_20250225_104133/reentrant/0x93dc6a333a99c0ede1cd346ccf079ea8451013db_reentrancy/clas</span>\n",
       "<span style=\"color: #7f7f7f; text-decoration-color: #7f7f7f\">sification.json</span>\n",
       "</pre>\n"
      ]
     },
     "metadata": {},
     "output_type": "display_data"
    },
    {
     "data": {
      "text/plain": [
       "\u001B[2m[DEBUG] Classification result: safe, Ground truth: reentrant\u001B[0m\n"
      ],
      "text/html": [
       "<pre style=\"white-space:pre;overflow-x:auto;line-height:normal;font-family:Menlo,'DejaVu Sans Mono',consolas,'Courier New',monospace\"><span style=\"color: #7f7f7f; text-decoration-color: #7f7f7f\">[DEBUG] Classification result: safe, Ground truth: reentrant</span>\n",
       "</pre>\n"
      ]
     },
     "metadata": {},
     "output_type": "display_data"
    },
    {
     "data": {
      "text/plain": [
       "\u001B[2m[DEBUG] Collecting predictions from directory: \u001B[0m\n",
       "\u001B[2m../log/contracts_analysis_both_20250225_104133/reentrant/0x93dc6a333a99c0ede1cd346ccf079ea8451013db_reentrancy\u001B[0m\n"
      ],
      "text/html": [
       "<pre style=\"white-space:pre;overflow-x:auto;line-height:normal;font-family:Menlo,'DejaVu Sans Mono',consolas,'Courier New',monospace\"><span style=\"color: #7f7f7f; text-decoration-color: #7f7f7f\">[DEBUG] Collecting predictions from directory: </span>\n",
       "<span style=\"color: #7f7f7f; text-decoration-color: #7f7f7f\">../log/contracts_analysis_both_20250225_104133/reentrant/0x93dc6a333a99c0ede1cd346ccf079ea8451013db_reentrancy</span>\n",
       "</pre>\n"
      ]
     },
     "metadata": {},
     "output_type": "display_data"
    },
    {
     "data": {
      "text/plain": [
       "\u001B[2m[DEBUG] Loading JSON file: \u001B[0m\n",
       "\u001B[2m../log/contracts_analysis_both_20250225_104133/reentrant/0x93dc6a333a99c0ede1cd346ccf079ea8451013db_reentrancy/anal\u001B[0m\n",
       "\u001B[2mysis_0x0aa19b3e51dd77e482690263c8af26bec2c6542e.json\u001B[0m\n"
      ],
      "text/html": [
       "<pre style=\"white-space:pre;overflow-x:auto;line-height:normal;font-family:Menlo,'DejaVu Sans Mono',consolas,'Courier New',monospace\"><span style=\"color: #7f7f7f; text-decoration-color: #7f7f7f\">[DEBUG] Loading JSON file: </span>\n",
       "<span style=\"color: #7f7f7f; text-decoration-color: #7f7f7f\">../log/contracts_analysis_both_20250225_104133/reentrant/0x93dc6a333a99c0ede1cd346ccf079ea8451013db_reentrancy/anal</span>\n",
       "<span style=\"color: #7f7f7f; text-decoration-color: #7f7f7f\">ysis_0x0aa19b3e51dd77e482690263c8af26bec2c6542e.json</span>\n",
       "</pre>\n"
      ]
     },
     "metadata": {},
     "output_type": "display_data"
    },
    {
     "data": {
      "text/plain": [
       "\u001B[2m[DEBUG] Loading JSON file: \u001B[0m\n",
       "\u001B[2m../log/contracts_analysis_both_20250225_104133/reentrant/0x93dc6a333a99c0ede1cd346ccf079ea8451013db_reentrancy/anal\u001B[0m\n",
       "\u001B[2mysis_0x0aab3ac447ea90739bdbe4e0e00af0a54038904a.json\u001B[0m\n"
      ],
      "text/html": [
       "<pre style=\"white-space:pre;overflow-x:auto;line-height:normal;font-family:Menlo,'DejaVu Sans Mono',consolas,'Courier New',monospace\"><span style=\"color: #7f7f7f; text-decoration-color: #7f7f7f\">[DEBUG] Loading JSON file: </span>\n",
       "<span style=\"color: #7f7f7f; text-decoration-color: #7f7f7f\">../log/contracts_analysis_both_20250225_104133/reentrant/0x93dc6a333a99c0ede1cd346ccf079ea8451013db_reentrancy/anal</span>\n",
       "<span style=\"color: #7f7f7f; text-decoration-color: #7f7f7f\">ysis_0x0aab3ac447ea90739bdbe4e0e00af0a54038904a.json</span>\n",
       "</pre>\n"
      ]
     },
     "metadata": {},
     "output_type": "display_data"
    },
    {
     "data": {
      "text/plain": [
       "\u001B[2m[DEBUG] Loading JSON file: \u001B[0m\n",
       "\u001B[2m../log/contracts_analysis_both_20250225_104133/reentrant/0x93dc6a333a99c0ede1cd346ccf079ea8451013db_reentrancy/anal\u001B[0m\n",
       "\u001B[2mysis_0x0a8c3b7e149891ff594e3ad580f8e1769151a07b.json\u001B[0m\n"
      ],
      "text/html": [
       "<pre style=\"white-space:pre;overflow-x:auto;line-height:normal;font-family:Menlo,'DejaVu Sans Mono',consolas,'Courier New',monospace\"><span style=\"color: #7f7f7f; text-decoration-color: #7f7f7f\">[DEBUG] Loading JSON file: </span>\n",
       "<span style=\"color: #7f7f7f; text-decoration-color: #7f7f7f\">../log/contracts_analysis_both_20250225_104133/reentrant/0x93dc6a333a99c0ede1cd346ccf079ea8451013db_reentrancy/anal</span>\n",
       "<span style=\"color: #7f7f7f; text-decoration-color: #7f7f7f\">ysis_0x0a8c3b7e149891ff594e3ad580f8e1769151a07b.json</span>\n",
       "</pre>\n"
      ]
     },
     "metadata": {},
     "output_type": "display_data"
    },
    {
     "data": {
      "text/plain": [
       "\u001B[2m[DEBUG] Collected predictions: ['reentrant', 'reentrant', 'reentrant']\u001B[0m\n"
      ],
      "text/html": [
       "<pre style=\"white-space:pre;overflow-x:auto;line-height:normal;font-family:Menlo,'DejaVu Sans Mono',consolas,'Courier New',monospace\"><span style=\"color: #7f7f7f; text-decoration-color: #7f7f7f\">[DEBUG] Collected predictions: ['reentrant', 'reentrant', 'reentrant']</span>\n",
       "</pre>\n"
      ]
     },
     "metadata": {},
     "output_type": "display_data"
    },
    {
     "data": {
      "text/plain": [
       "\u001B[2m[DEBUG] Determined ground truth for \u001B[0m\n",
       "\u001B[2m../log/contracts_analysis_both_20250225_104133/reentrant/0x0addedfee0e8a65c9a60067b9fe0f24af96da51d_reentrancy: \u001B[0m\n",
       "\u001B[2mreentrant\u001B[0m\n"
      ],
      "text/html": [
       "<pre style=\"white-space:pre;overflow-x:auto;line-height:normal;font-family:Menlo,'DejaVu Sans Mono',consolas,'Courier New',monospace\"><span style=\"color: #7f7f7f; text-decoration-color: #7f7f7f\">[DEBUG] Determined ground truth for </span>\n",
       "<span style=\"color: #7f7f7f; text-decoration-color: #7f7f7f\">../log/contracts_analysis_both_20250225_104133/reentrant/0x0addedfee0e8a65c9a60067b9fe0f24af96da51d_reentrancy: </span>\n",
       "<span style=\"color: #7f7f7f; text-decoration-color: #7f7f7f\">reentrant</span>\n",
       "</pre>\n"
      ]
     },
     "metadata": {},
     "output_type": "display_data"
    },
    {
     "data": {
      "text/plain": [
       "\u001B[2m[DEBUG] Processing classification file: \u001B[0m\n",
       "\u001B[2m../log/contracts_analysis_both_20250225_104133/reentrant/0x0addedfee0e8a65c9a60067b9fe0f24af96da51d_reentrancy/clas\u001B[0m\n",
       "\u001B[2msification.json\u001B[0m\n"
      ],
      "text/html": [
       "<pre style=\"white-space:pre;overflow-x:auto;line-height:normal;font-family:Menlo,'DejaVu Sans Mono',consolas,'Courier New',monospace\"><span style=\"color: #7f7f7f; text-decoration-color: #7f7f7f\">[DEBUG] Processing classification file: </span>\n",
       "<span style=\"color: #7f7f7f; text-decoration-color: #7f7f7f\">../log/contracts_analysis_both_20250225_104133/reentrant/0x0addedfee0e8a65c9a60067b9fe0f24af96da51d_reentrancy/clas</span>\n",
       "<span style=\"color: #7f7f7f; text-decoration-color: #7f7f7f\">sification.json</span>\n",
       "</pre>\n"
      ]
     },
     "metadata": {},
     "output_type": "display_data"
    },
    {
     "data": {
      "text/plain": [
       "\u001B[2m[DEBUG] Loading JSON file: \u001B[0m\n",
       "\u001B[2m../log/contracts_analysis_both_20250225_104133/reentrant/0x0addedfee0e8a65c9a60067b9fe0f24af96da51d_reentrancy/clas\u001B[0m\n",
       "\u001B[2msification.json\u001B[0m\n"
      ],
      "text/html": [
       "<pre style=\"white-space:pre;overflow-x:auto;line-height:normal;font-family:Menlo,'DejaVu Sans Mono',consolas,'Courier New',monospace\"><span style=\"color: #7f7f7f; text-decoration-color: #7f7f7f\">[DEBUG] Loading JSON file: </span>\n",
       "<span style=\"color: #7f7f7f; text-decoration-color: #7f7f7f\">../log/contracts_analysis_both_20250225_104133/reentrant/0x0addedfee0e8a65c9a60067b9fe0f24af96da51d_reentrancy/clas</span>\n",
       "<span style=\"color: #7f7f7f; text-decoration-color: #7f7f7f\">sification.json</span>\n",
       "</pre>\n"
      ]
     },
     "metadata": {},
     "output_type": "display_data"
    },
    {
     "data": {
      "text/plain": [
       "\u001B[2m[DEBUG] Classification result: safe, Ground truth: reentrant\u001B[0m\n"
      ],
      "text/html": [
       "<pre style=\"white-space:pre;overflow-x:auto;line-height:normal;font-family:Menlo,'DejaVu Sans Mono',consolas,'Courier New',monospace\"><span style=\"color: #7f7f7f; text-decoration-color: #7f7f7f\">[DEBUG] Classification result: safe, Ground truth: reentrant</span>\n",
       "</pre>\n"
      ]
     },
     "metadata": {},
     "output_type": "display_data"
    },
    {
     "data": {
      "text/plain": [
       "\u001B[2m[DEBUG] Collecting predictions from directory: \u001B[0m\n",
       "\u001B[2m../log/contracts_analysis_both_20250225_104133/reentrant/0x0addedfee0e8a65c9a60067b9fe0f24af96da51d_reentrancy\u001B[0m\n"
      ],
      "text/html": [
       "<pre style=\"white-space:pre;overflow-x:auto;line-height:normal;font-family:Menlo,'DejaVu Sans Mono',consolas,'Courier New',monospace\"><span style=\"color: #7f7f7f; text-decoration-color: #7f7f7f\">[DEBUG] Collecting predictions from directory: </span>\n",
       "<span style=\"color: #7f7f7f; text-decoration-color: #7f7f7f\">../log/contracts_analysis_both_20250225_104133/reentrant/0x0addedfee0e8a65c9a60067b9fe0f24af96da51d_reentrancy</span>\n",
       "</pre>\n"
      ]
     },
     "metadata": {},
     "output_type": "display_data"
    },
    {
     "data": {
      "text/plain": [
       "\u001B[2m[DEBUG] Loading JSON file: \u001B[0m\n",
       "\u001B[2m../log/contracts_analysis_both_20250225_104133/reentrant/0x0addedfee0e8a65c9a60067b9fe0f24af96da51d_reentrancy/anal\u001B[0m\n",
       "\u001B[2mysis_0x0aa19b3e51dd77e482690263c8af26bec2c6542e.json\u001B[0m\n"
      ],
      "text/html": [
       "<pre style=\"white-space:pre;overflow-x:auto;line-height:normal;font-family:Menlo,'DejaVu Sans Mono',consolas,'Courier New',monospace\"><span style=\"color: #7f7f7f; text-decoration-color: #7f7f7f\">[DEBUG] Loading JSON file: </span>\n",
       "<span style=\"color: #7f7f7f; text-decoration-color: #7f7f7f\">../log/contracts_analysis_both_20250225_104133/reentrant/0x0addedfee0e8a65c9a60067b9fe0f24af96da51d_reentrancy/anal</span>\n",
       "<span style=\"color: #7f7f7f; text-decoration-color: #7f7f7f\">ysis_0x0aa19b3e51dd77e482690263c8af26bec2c6542e.json</span>\n",
       "</pre>\n"
      ]
     },
     "metadata": {},
     "output_type": "display_data"
    },
    {
     "data": {
      "text/plain": [
       "\u001B[2m[DEBUG] Loading JSON file: \u001B[0m\n",
       "\u001B[2m../log/contracts_analysis_both_20250225_104133/reentrant/0x0addedfee0e8a65c9a60067b9fe0f24af96da51d_reentrancy/anal\u001B[0m\n",
       "\u001B[2mysis_0x0aab3ac447ea90739bdbe4e0e00af0a54038904a.json\u001B[0m\n"
      ],
      "text/html": [
       "<pre style=\"white-space:pre;overflow-x:auto;line-height:normal;font-family:Menlo,'DejaVu Sans Mono',consolas,'Courier New',monospace\"><span style=\"color: #7f7f7f; text-decoration-color: #7f7f7f\">[DEBUG] Loading JSON file: </span>\n",
       "<span style=\"color: #7f7f7f; text-decoration-color: #7f7f7f\">../log/contracts_analysis_both_20250225_104133/reentrant/0x0addedfee0e8a65c9a60067b9fe0f24af96da51d_reentrancy/anal</span>\n",
       "<span style=\"color: #7f7f7f; text-decoration-color: #7f7f7f\">ysis_0x0aab3ac447ea90739bdbe4e0e00af0a54038904a.json</span>\n",
       "</pre>\n"
      ]
     },
     "metadata": {},
     "output_type": "display_data"
    },
    {
     "data": {
      "text/plain": [
       "\u001B[2m[DEBUG] Loading JSON file: \u001B[0m\n",
       "\u001B[2m../log/contracts_analysis_both_20250225_104133/reentrant/0x0addedfee0e8a65c9a60067b9fe0f24af96da51d_reentrancy/anal\u001B[0m\n",
       "\u001B[2mysis_0x0a8c3b7e149891ff594e3ad580f8e1769151a07b.json\u001B[0m\n"
      ],
      "text/html": [
       "<pre style=\"white-space:pre;overflow-x:auto;line-height:normal;font-family:Menlo,'DejaVu Sans Mono',consolas,'Courier New',monospace\"><span style=\"color: #7f7f7f; text-decoration-color: #7f7f7f\">[DEBUG] Loading JSON file: </span>\n",
       "<span style=\"color: #7f7f7f; text-decoration-color: #7f7f7f\">../log/contracts_analysis_both_20250225_104133/reentrant/0x0addedfee0e8a65c9a60067b9fe0f24af96da51d_reentrancy/anal</span>\n",
       "<span style=\"color: #7f7f7f; text-decoration-color: #7f7f7f\">ysis_0x0a8c3b7e149891ff594e3ad580f8e1769151a07b.json</span>\n",
       "</pre>\n"
      ]
     },
     "metadata": {},
     "output_type": "display_data"
    },
    {
     "data": {
      "text/plain": [
       "\u001B[2m[DEBUG] Collected predictions: ['reentrant', 'reentrant', 'reentrant']\u001B[0m\n"
      ],
      "text/html": [
       "<pre style=\"white-space:pre;overflow-x:auto;line-height:normal;font-family:Menlo,'DejaVu Sans Mono',consolas,'Courier New',monospace\"><span style=\"color: #7f7f7f; text-decoration-color: #7f7f7f\">[DEBUG] Collected predictions: ['reentrant', 'reentrant', 'reentrant']</span>\n",
       "</pre>\n"
      ]
     },
     "metadata": {},
     "output_type": "display_data"
    },
    {
     "name": "stderr",
     "output_type": "stream",
     "text": [
      "Processing contracts:  95%|█████████▍| 91/96 [00:01<00:00, 83.69it/s]"
     ]
    },
    {
     "data": {
      "text/plain": [
       "\u001B[2m[DEBUG] Determined ground truth for \u001B[0m\n",
       "\u001B[2m../log/contracts_analysis_both_20250225_104133/reentrant/0x0da76de0916ef2da3c58a97e4d09d501c56a9f15: reentrant\u001B[0m\n"
      ],
      "text/html": [
       "<pre style=\"white-space:pre;overflow-x:auto;line-height:normal;font-family:Menlo,'DejaVu Sans Mono',consolas,'Courier New',monospace\"><span style=\"color: #7f7f7f; text-decoration-color: #7f7f7f\">[DEBUG] Determined ground truth for </span>\n",
       "<span style=\"color: #7f7f7f; text-decoration-color: #7f7f7f\">../log/contracts_analysis_both_20250225_104133/reentrant/0x0da76de0916ef2da3c58a97e4d09d501c56a9f15: reentrant</span>\n",
       "</pre>\n"
      ]
     },
     "metadata": {},
     "output_type": "display_data"
    },
    {
     "data": {
      "text/plain": [
       "\u001B[2m[DEBUG] Processing classification file: \u001B[0m\n",
       "\u001B[2m../log/contracts_analysis_both_20250225_104133/reentrant/0x0da76de0916ef2da3c58a97e4d09d501c56a9f15/classification.\u001B[0m\n",
       "\u001B[2mjson\u001B[0m\n"
      ],
      "text/html": [
       "<pre style=\"white-space:pre;overflow-x:auto;line-height:normal;font-family:Menlo,'DejaVu Sans Mono',consolas,'Courier New',monospace\"><span style=\"color: #7f7f7f; text-decoration-color: #7f7f7f\">[DEBUG] Processing classification file: </span>\n",
       "<span style=\"color: #7f7f7f; text-decoration-color: #7f7f7f\">../log/contracts_analysis_both_20250225_104133/reentrant/0x0da76de0916ef2da3c58a97e4d09d501c56a9f15/classification.</span>\n",
       "<span style=\"color: #7f7f7f; text-decoration-color: #7f7f7f\">json</span>\n",
       "</pre>\n"
      ]
     },
     "metadata": {},
     "output_type": "display_data"
    },
    {
     "data": {
      "text/plain": [
       "\u001B[2m[DEBUG] Loading JSON file: \u001B[0m\n",
       "\u001B[2m../log/contracts_analysis_both_20250225_104133/reentrant/0x0da76de0916ef2da3c58a97e4d09d501c56a9f15/classification.\u001B[0m\n",
       "\u001B[2mjson\u001B[0m\n"
      ],
      "text/html": [
       "<pre style=\"white-space:pre;overflow-x:auto;line-height:normal;font-family:Menlo,'DejaVu Sans Mono',consolas,'Courier New',monospace\"><span style=\"color: #7f7f7f; text-decoration-color: #7f7f7f\">[DEBUG] Loading JSON file: </span>\n",
       "<span style=\"color: #7f7f7f; text-decoration-color: #7f7f7f\">../log/contracts_analysis_both_20250225_104133/reentrant/0x0da76de0916ef2da3c58a97e4d09d501c56a9f15/classification.</span>\n",
       "<span style=\"color: #7f7f7f; text-decoration-color: #7f7f7f\">json</span>\n",
       "</pre>\n"
      ]
     },
     "metadata": {},
     "output_type": "display_data"
    },
    {
     "data": {
      "text/plain": [
       "\u001B[2m[DEBUG] Classification result: safe, Ground truth: reentrant\u001B[0m\n"
      ],
      "text/html": [
       "<pre style=\"white-space:pre;overflow-x:auto;line-height:normal;font-family:Menlo,'DejaVu Sans Mono',consolas,'Courier New',monospace\"><span style=\"color: #7f7f7f; text-decoration-color: #7f7f7f\">[DEBUG] Classification result: safe, Ground truth: reentrant</span>\n",
       "</pre>\n"
      ]
     },
     "metadata": {},
     "output_type": "display_data"
    },
    {
     "data": {
      "text/plain": [
       "\u001B[2m[DEBUG] Collecting predictions from directory: \u001B[0m\n",
       "\u001B[2m../log/contracts_analysis_both_20250225_104133/reentrant/0x0da76de0916ef2da3c58a97e4d09d501c56a9f15\u001B[0m\n"
      ],
      "text/html": [
       "<pre style=\"white-space:pre;overflow-x:auto;line-height:normal;font-family:Menlo,'DejaVu Sans Mono',consolas,'Courier New',monospace\"><span style=\"color: #7f7f7f; text-decoration-color: #7f7f7f\">[DEBUG] Collecting predictions from directory: </span>\n",
       "<span style=\"color: #7f7f7f; text-decoration-color: #7f7f7f\">../log/contracts_analysis_both_20250225_104133/reentrant/0x0da76de0916ef2da3c58a97e4d09d501c56a9f15</span>\n",
       "</pre>\n"
      ]
     },
     "metadata": {},
     "output_type": "display_data"
    },
    {
     "data": {
      "text/plain": [
       "\u001B[2m[DEBUG] Loading JSON file: \u001B[0m\n",
       "\u001B[2m../log/contracts_analysis_both_20250225_104133/reentrant/0x0da76de0916ef2da3c58a97e4d09d501c56a9f15/analysis_0x0aa1\u001B[0m\n",
       "\u001B[2m9b3e51dd77e482690263c8af26bec2c6542e.json\u001B[0m\n"
      ],
      "text/html": [
       "<pre style=\"white-space:pre;overflow-x:auto;line-height:normal;font-family:Menlo,'DejaVu Sans Mono',consolas,'Courier New',monospace\"><span style=\"color: #7f7f7f; text-decoration-color: #7f7f7f\">[DEBUG] Loading JSON file: </span>\n",
       "<span style=\"color: #7f7f7f; text-decoration-color: #7f7f7f\">../log/contracts_analysis_both_20250225_104133/reentrant/0x0da76de0916ef2da3c58a97e4d09d501c56a9f15/analysis_0x0aa1</span>\n",
       "<span style=\"color: #7f7f7f; text-decoration-color: #7f7f7f\">9b3e51dd77e482690263c8af26bec2c6542e.json</span>\n",
       "</pre>\n"
      ]
     },
     "metadata": {},
     "output_type": "display_data"
    },
    {
     "data": {
      "text/plain": [
       "\u001B[2m[DEBUG] Loading JSON file: \u001B[0m\n",
       "\u001B[2m../log/contracts_analysis_both_20250225_104133/reentrant/0x0da76de0916ef2da3c58a97e4d09d501c56a9f15/analysis_0x0aab\u001B[0m\n",
       "\u001B[2m3ac447ea90739bdbe4e0e00af0a54038904a.json\u001B[0m\n"
      ],
      "text/html": [
       "<pre style=\"white-space:pre;overflow-x:auto;line-height:normal;font-family:Menlo,'DejaVu Sans Mono',consolas,'Courier New',monospace\"><span style=\"color: #7f7f7f; text-decoration-color: #7f7f7f\">[DEBUG] Loading JSON file: </span>\n",
       "<span style=\"color: #7f7f7f; text-decoration-color: #7f7f7f\">../log/contracts_analysis_both_20250225_104133/reentrant/0x0da76de0916ef2da3c58a97e4d09d501c56a9f15/analysis_0x0aab</span>\n",
       "<span style=\"color: #7f7f7f; text-decoration-color: #7f7f7f\">3ac447ea90739bdbe4e0e00af0a54038904a.json</span>\n",
       "</pre>\n"
      ]
     },
     "metadata": {},
     "output_type": "display_data"
    },
    {
     "data": {
      "text/plain": [
       "\u001B[2m[DEBUG] Loading JSON file: \u001B[0m\n",
       "\u001B[2m../log/contracts_analysis_both_20250225_104133/reentrant/0x0da76de0916ef2da3c58a97e4d09d501c56a9f15/analysis_0x0a8c\u001B[0m\n",
       "\u001B[2m3b7e149891ff594e3ad580f8e1769151a07b.json\u001B[0m\n"
      ],
      "text/html": [
       "<pre style=\"white-space:pre;overflow-x:auto;line-height:normal;font-family:Menlo,'DejaVu Sans Mono',consolas,'Courier New',monospace\"><span style=\"color: #7f7f7f; text-decoration-color: #7f7f7f\">[DEBUG] Loading JSON file: </span>\n",
       "<span style=\"color: #7f7f7f; text-decoration-color: #7f7f7f\">../log/contracts_analysis_both_20250225_104133/reentrant/0x0da76de0916ef2da3c58a97e4d09d501c56a9f15/analysis_0x0a8c</span>\n",
       "<span style=\"color: #7f7f7f; text-decoration-color: #7f7f7f\">3b7e149891ff594e3ad580f8e1769151a07b.json</span>\n",
       "</pre>\n"
      ]
     },
     "metadata": {},
     "output_type": "display_data"
    },
    {
     "data": {
      "text/plain": [
       "\u001B[2m[DEBUG] Collected predictions: ['reentrant', 'reentrant', 'reentrant']\u001B[0m\n"
      ],
      "text/html": [
       "<pre style=\"white-space:pre;overflow-x:auto;line-height:normal;font-family:Menlo,'DejaVu Sans Mono',consolas,'Courier New',monospace\"><span style=\"color: #7f7f7f; text-decoration-color: #7f7f7f\">[DEBUG] Collected predictions: ['reentrant', 'reentrant', 'reentrant']</span>\n",
       "</pre>\n"
      ]
     },
     "metadata": {},
     "output_type": "display_data"
    },
    {
     "data": {
      "text/plain": [
       "\u001B[2m[DEBUG] Determined ground truth for \u001B[0m\n",
       "\u001B[2m../log/contracts_analysis_both_20250225_104133/reentrant/0x9902211b5d4bd822594e6f052637bf36515ac9a7: reentrant\u001B[0m\n"
      ],
      "text/html": [
       "<pre style=\"white-space:pre;overflow-x:auto;line-height:normal;font-family:Menlo,'DejaVu Sans Mono',consolas,'Courier New',monospace\"><span style=\"color: #7f7f7f; text-decoration-color: #7f7f7f\">[DEBUG] Determined ground truth for </span>\n",
       "<span style=\"color: #7f7f7f; text-decoration-color: #7f7f7f\">../log/contracts_analysis_both_20250225_104133/reentrant/0x9902211b5d4bd822594e6f052637bf36515ac9a7: reentrant</span>\n",
       "</pre>\n"
      ]
     },
     "metadata": {},
     "output_type": "display_data"
    },
    {
     "data": {
      "text/plain": [
       "\u001B[2m[DEBUG] Processing classification file: \u001B[0m\n",
       "\u001B[2m../log/contracts_analysis_both_20250225_104133/reentrant/0x9902211b5d4bd822594e6f052637bf36515ac9a7/classification.\u001B[0m\n",
       "\u001B[2mjson\u001B[0m\n"
      ],
      "text/html": [
       "<pre style=\"white-space:pre;overflow-x:auto;line-height:normal;font-family:Menlo,'DejaVu Sans Mono',consolas,'Courier New',monospace\"><span style=\"color: #7f7f7f; text-decoration-color: #7f7f7f\">[DEBUG] Processing classification file: </span>\n",
       "<span style=\"color: #7f7f7f; text-decoration-color: #7f7f7f\">../log/contracts_analysis_both_20250225_104133/reentrant/0x9902211b5d4bd822594e6f052637bf36515ac9a7/classification.</span>\n",
       "<span style=\"color: #7f7f7f; text-decoration-color: #7f7f7f\">json</span>\n",
       "</pre>\n"
      ]
     },
     "metadata": {},
     "output_type": "display_data"
    },
    {
     "data": {
      "text/plain": [
       "\u001B[2m[DEBUG] Loading JSON file: \u001B[0m\n",
       "\u001B[2m../log/contracts_analysis_both_20250225_104133/reentrant/0x9902211b5d4bd822594e6f052637bf36515ac9a7/classification.\u001B[0m\n",
       "\u001B[2mjson\u001B[0m\n"
      ],
      "text/html": [
       "<pre style=\"white-space:pre;overflow-x:auto;line-height:normal;font-family:Menlo,'DejaVu Sans Mono',consolas,'Courier New',monospace\"><span style=\"color: #7f7f7f; text-decoration-color: #7f7f7f\">[DEBUG] Loading JSON file: </span>\n",
       "<span style=\"color: #7f7f7f; text-decoration-color: #7f7f7f\">../log/contracts_analysis_both_20250225_104133/reentrant/0x9902211b5d4bd822594e6f052637bf36515ac9a7/classification.</span>\n",
       "<span style=\"color: #7f7f7f; text-decoration-color: #7f7f7f\">json</span>\n",
       "</pre>\n"
      ]
     },
     "metadata": {},
     "output_type": "display_data"
    },
    {
     "data": {
      "text/plain": [
       "\u001B[2m[DEBUG] Classification result: reentrant, Ground truth: reentrant\u001B[0m\n"
      ],
      "text/html": [
       "<pre style=\"white-space:pre;overflow-x:auto;line-height:normal;font-family:Menlo,'DejaVu Sans Mono',consolas,'Courier New',monospace\"><span style=\"color: #7f7f7f; text-decoration-color: #7f7f7f\">[DEBUG] Classification result: reentrant, Ground truth: reentrant</span>\n",
       "</pre>\n"
      ]
     },
     "metadata": {},
     "output_type": "display_data"
    },
    {
     "data": {
      "text/plain": [
       "\u001B[2m[DEBUG] Collecting predictions from directory: \u001B[0m\n",
       "\u001B[2m../log/contracts_analysis_both_20250225_104133/reentrant/0x9902211b5d4bd822594e6f052637bf36515ac9a7\u001B[0m\n"
      ],
      "text/html": [
       "<pre style=\"white-space:pre;overflow-x:auto;line-height:normal;font-family:Menlo,'DejaVu Sans Mono',consolas,'Courier New',monospace\"><span style=\"color: #7f7f7f; text-decoration-color: #7f7f7f\">[DEBUG] Collecting predictions from directory: </span>\n",
       "<span style=\"color: #7f7f7f; text-decoration-color: #7f7f7f\">../log/contracts_analysis_both_20250225_104133/reentrant/0x9902211b5d4bd822594e6f052637bf36515ac9a7</span>\n",
       "</pre>\n"
      ]
     },
     "metadata": {},
     "output_type": "display_data"
    },
    {
     "data": {
      "text/plain": [
       "\u001B[2m[DEBUG] Loading JSON file: \u001B[0m\n",
       "\u001B[2m../log/contracts_analysis_both_20250225_104133/reentrant/0x9902211b5d4bd822594e6f052637bf36515ac9a7/analysis_0x0aa1\u001B[0m\n",
       "\u001B[2m9b3e51dd77e482690263c8af26bec2c6542e.json\u001B[0m\n"
      ],
      "text/html": [
       "<pre style=\"white-space:pre;overflow-x:auto;line-height:normal;font-family:Menlo,'DejaVu Sans Mono',consolas,'Courier New',monospace\"><span style=\"color: #7f7f7f; text-decoration-color: #7f7f7f\">[DEBUG] Loading JSON file: </span>\n",
       "<span style=\"color: #7f7f7f; text-decoration-color: #7f7f7f\">../log/contracts_analysis_both_20250225_104133/reentrant/0x9902211b5d4bd822594e6f052637bf36515ac9a7/analysis_0x0aa1</span>\n",
       "<span style=\"color: #7f7f7f; text-decoration-color: #7f7f7f\">9b3e51dd77e482690263c8af26bec2c6542e.json</span>\n",
       "</pre>\n"
      ]
     },
     "metadata": {},
     "output_type": "display_data"
    },
    {
     "data": {
      "text/plain": [
       "\u001B[2m[DEBUG] Loading JSON file: \u001B[0m\n",
       "\u001B[2m../log/contracts_analysis_both_20250225_104133/reentrant/0x9902211b5d4bd822594e6f052637bf36515ac9a7/analysis_0x0aab\u001B[0m\n",
       "\u001B[2m3ac447ea90739bdbe4e0e00af0a54038904a.json\u001B[0m\n"
      ],
      "text/html": [
       "<pre style=\"white-space:pre;overflow-x:auto;line-height:normal;font-family:Menlo,'DejaVu Sans Mono',consolas,'Courier New',monospace\"><span style=\"color: #7f7f7f; text-decoration-color: #7f7f7f\">[DEBUG] Loading JSON file: </span>\n",
       "<span style=\"color: #7f7f7f; text-decoration-color: #7f7f7f\">../log/contracts_analysis_both_20250225_104133/reentrant/0x9902211b5d4bd822594e6f052637bf36515ac9a7/analysis_0x0aab</span>\n",
       "<span style=\"color: #7f7f7f; text-decoration-color: #7f7f7f\">3ac447ea90739bdbe4e0e00af0a54038904a.json</span>\n",
       "</pre>\n"
      ]
     },
     "metadata": {},
     "output_type": "display_data"
    },
    {
     "data": {
      "text/plain": [
       "\u001B[2m[DEBUG] Loading JSON file: \u001B[0m\n",
       "\u001B[2m../log/contracts_analysis_both_20250225_104133/reentrant/0x9902211b5d4bd822594e6f052637bf36515ac9a7/analysis_0x0a8c\u001B[0m\n",
       "\u001B[2m3b7e149891ff594e3ad580f8e1769151a07b.json\u001B[0m\n"
      ],
      "text/html": [
       "<pre style=\"white-space:pre;overflow-x:auto;line-height:normal;font-family:Menlo,'DejaVu Sans Mono',consolas,'Courier New',monospace\"><span style=\"color: #7f7f7f; text-decoration-color: #7f7f7f\">[DEBUG] Loading JSON file: </span>\n",
       "<span style=\"color: #7f7f7f; text-decoration-color: #7f7f7f\">../log/contracts_analysis_both_20250225_104133/reentrant/0x9902211b5d4bd822594e6f052637bf36515ac9a7/analysis_0x0a8c</span>\n",
       "<span style=\"color: #7f7f7f; text-decoration-color: #7f7f7f\">3b7e149891ff594e3ad580f8e1769151a07b.json</span>\n",
       "</pre>\n"
      ]
     },
     "metadata": {},
     "output_type": "display_data"
    },
    {
     "data": {
      "text/plain": [
       "\u001B[2m[DEBUG] Collected predictions: ['reentrant', 'reentrant', 'reentrant']\u001B[0m\n"
      ],
      "text/html": [
       "<pre style=\"white-space:pre;overflow-x:auto;line-height:normal;font-family:Menlo,'DejaVu Sans Mono',consolas,'Courier New',monospace\"><span style=\"color: #7f7f7f; text-decoration-color: #7f7f7f\">[DEBUG] Collected predictions: ['reentrant', 'reentrant', 'reentrant']</span>\n",
       "</pre>\n"
      ]
     },
     "metadata": {},
     "output_type": "display_data"
    },
    {
     "data": {
      "text/plain": [
       "\u001B[2m[DEBUG] Determined ground truth for \u001B[0m\n",
       "\u001B[2m../log/contracts_analysis_both_20250225_104133/reentrant/0x05f49e3e0a27efa05d60c19cd8f0ecc951d3717e: reentrant\u001B[0m\n"
      ],
      "text/html": [
       "<pre style=\"white-space:pre;overflow-x:auto;line-height:normal;font-family:Menlo,'DejaVu Sans Mono',consolas,'Courier New',monospace\"><span style=\"color: #7f7f7f; text-decoration-color: #7f7f7f\">[DEBUG] Determined ground truth for </span>\n",
       "<span style=\"color: #7f7f7f; text-decoration-color: #7f7f7f\">../log/contracts_analysis_both_20250225_104133/reentrant/0x05f49e3e0a27efa05d60c19cd8f0ecc951d3717e: reentrant</span>\n",
       "</pre>\n"
      ]
     },
     "metadata": {},
     "output_type": "display_data"
    },
    {
     "data": {
      "text/plain": [
       "\u001B[2m[DEBUG] Processing classification file: \u001B[0m\n",
       "\u001B[2m../log/contracts_analysis_both_20250225_104133/reentrant/0x05f49e3e0a27efa05d60c19cd8f0ecc951d3717e/classification.\u001B[0m\n",
       "\u001B[2mjson\u001B[0m\n"
      ],
      "text/html": [
       "<pre style=\"white-space:pre;overflow-x:auto;line-height:normal;font-family:Menlo,'DejaVu Sans Mono',consolas,'Courier New',monospace\"><span style=\"color: #7f7f7f; text-decoration-color: #7f7f7f\">[DEBUG] Processing classification file: </span>\n",
       "<span style=\"color: #7f7f7f; text-decoration-color: #7f7f7f\">../log/contracts_analysis_both_20250225_104133/reentrant/0x05f49e3e0a27efa05d60c19cd8f0ecc951d3717e/classification.</span>\n",
       "<span style=\"color: #7f7f7f; text-decoration-color: #7f7f7f\">json</span>\n",
       "</pre>\n"
      ]
     },
     "metadata": {},
     "output_type": "display_data"
    },
    {
     "data": {
      "text/plain": [
       "\u001B[2m[DEBUG] Loading JSON file: \u001B[0m\n",
       "\u001B[2m../log/contracts_analysis_both_20250225_104133/reentrant/0x05f49e3e0a27efa05d60c19cd8f0ecc951d3717e/classification.\u001B[0m\n",
       "\u001B[2mjson\u001B[0m\n"
      ],
      "text/html": [
       "<pre style=\"white-space:pre;overflow-x:auto;line-height:normal;font-family:Menlo,'DejaVu Sans Mono',consolas,'Courier New',monospace\"><span style=\"color: #7f7f7f; text-decoration-color: #7f7f7f\">[DEBUG] Loading JSON file: </span>\n",
       "<span style=\"color: #7f7f7f; text-decoration-color: #7f7f7f\">../log/contracts_analysis_both_20250225_104133/reentrant/0x05f49e3e0a27efa05d60c19cd8f0ecc951d3717e/classification.</span>\n",
       "<span style=\"color: #7f7f7f; text-decoration-color: #7f7f7f\">json</span>\n",
       "</pre>\n"
      ]
     },
     "metadata": {},
     "output_type": "display_data"
    },
    {
     "data": {
      "text/plain": [
       "\u001B[2m[DEBUG] Classification result: reentrant, Ground truth: reentrant\u001B[0m\n"
      ],
      "text/html": [
       "<pre style=\"white-space:pre;overflow-x:auto;line-height:normal;font-family:Menlo,'DejaVu Sans Mono',consolas,'Courier New',monospace\"><span style=\"color: #7f7f7f; text-decoration-color: #7f7f7f\">[DEBUG] Classification result: reentrant, Ground truth: reentrant</span>\n",
       "</pre>\n"
      ]
     },
     "metadata": {},
     "output_type": "display_data"
    },
    {
     "data": {
      "text/plain": [
       "\u001B[2m[DEBUG] Collecting predictions from directory: \u001B[0m\n",
       "\u001B[2m../log/contracts_analysis_both_20250225_104133/reentrant/0x05f49e3e0a27efa05d60c19cd8f0ecc951d3717e\u001B[0m\n"
      ],
      "text/html": [
       "<pre style=\"white-space:pre;overflow-x:auto;line-height:normal;font-family:Menlo,'DejaVu Sans Mono',consolas,'Courier New',monospace\"><span style=\"color: #7f7f7f; text-decoration-color: #7f7f7f\">[DEBUG] Collecting predictions from directory: </span>\n",
       "<span style=\"color: #7f7f7f; text-decoration-color: #7f7f7f\">../log/contracts_analysis_both_20250225_104133/reentrant/0x05f49e3e0a27efa05d60c19cd8f0ecc951d3717e</span>\n",
       "</pre>\n"
      ]
     },
     "metadata": {},
     "output_type": "display_data"
    },
    {
     "data": {
      "text/plain": [
       "\u001B[2m[DEBUG] Loading JSON file: \u001B[0m\n",
       "\u001B[2m../log/contracts_analysis_both_20250225_104133/reentrant/0x05f49e3e0a27efa05d60c19cd8f0ecc951d3717e/analysis_0x0aa1\u001B[0m\n",
       "\u001B[2m9b3e51dd77e482690263c8af26bec2c6542e.json\u001B[0m\n"
      ],
      "text/html": [
       "<pre style=\"white-space:pre;overflow-x:auto;line-height:normal;font-family:Menlo,'DejaVu Sans Mono',consolas,'Courier New',monospace\"><span style=\"color: #7f7f7f; text-decoration-color: #7f7f7f\">[DEBUG] Loading JSON file: </span>\n",
       "<span style=\"color: #7f7f7f; text-decoration-color: #7f7f7f\">../log/contracts_analysis_both_20250225_104133/reentrant/0x05f49e3e0a27efa05d60c19cd8f0ecc951d3717e/analysis_0x0aa1</span>\n",
       "<span style=\"color: #7f7f7f; text-decoration-color: #7f7f7f\">9b3e51dd77e482690263c8af26bec2c6542e.json</span>\n",
       "</pre>\n"
      ]
     },
     "metadata": {},
     "output_type": "display_data"
    },
    {
     "data": {
      "text/plain": [
       "\u001B[2m[DEBUG] Loading JSON file: \u001B[0m\n",
       "\u001B[2m../log/contracts_analysis_both_20250225_104133/reentrant/0x05f49e3e0a27efa05d60c19cd8f0ecc951d3717e/analysis_0x0aab\u001B[0m\n",
       "\u001B[2m3ac447ea90739bdbe4e0e00af0a54038904a.json\u001B[0m\n"
      ],
      "text/html": [
       "<pre style=\"white-space:pre;overflow-x:auto;line-height:normal;font-family:Menlo,'DejaVu Sans Mono',consolas,'Courier New',monospace\"><span style=\"color: #7f7f7f; text-decoration-color: #7f7f7f\">[DEBUG] Loading JSON file: </span>\n",
       "<span style=\"color: #7f7f7f; text-decoration-color: #7f7f7f\">../log/contracts_analysis_both_20250225_104133/reentrant/0x05f49e3e0a27efa05d60c19cd8f0ecc951d3717e/analysis_0x0aab</span>\n",
       "<span style=\"color: #7f7f7f; text-decoration-color: #7f7f7f\">3ac447ea90739bdbe4e0e00af0a54038904a.json</span>\n",
       "</pre>\n"
      ]
     },
     "metadata": {},
     "output_type": "display_data"
    },
    {
     "data": {
      "text/plain": [
       "\u001B[2m[DEBUG] Loading JSON file: \u001B[0m\n",
       "\u001B[2m../log/contracts_analysis_both_20250225_104133/reentrant/0x05f49e3e0a27efa05d60c19cd8f0ecc951d3717e/analysis_0x0a8c\u001B[0m\n",
       "\u001B[2m3b7e149891ff594e3ad580f8e1769151a07b.json\u001B[0m\n"
      ],
      "text/html": [
       "<pre style=\"white-space:pre;overflow-x:auto;line-height:normal;font-family:Menlo,'DejaVu Sans Mono',consolas,'Courier New',monospace\"><span style=\"color: #7f7f7f; text-decoration-color: #7f7f7f\">[DEBUG] Loading JSON file: </span>\n",
       "<span style=\"color: #7f7f7f; text-decoration-color: #7f7f7f\">../log/contracts_analysis_both_20250225_104133/reentrant/0x05f49e3e0a27efa05d60c19cd8f0ecc951d3717e/analysis_0x0a8c</span>\n",
       "<span style=\"color: #7f7f7f; text-decoration-color: #7f7f7f\">3b7e149891ff594e3ad580f8e1769151a07b.json</span>\n",
       "</pre>\n"
      ]
     },
     "metadata": {},
     "output_type": "display_data"
    },
    {
     "data": {
      "text/plain": [
       "\u001B[2m[DEBUG] Collected predictions: ['reentrant', 'reentrant', 'reentrant']\u001B[0m\n"
      ],
      "text/html": [
       "<pre style=\"white-space:pre;overflow-x:auto;line-height:normal;font-family:Menlo,'DejaVu Sans Mono',consolas,'Courier New',monospace\"><span style=\"color: #7f7f7f; text-decoration-color: #7f7f7f\">[DEBUG] Collected predictions: ['reentrant', 'reentrant', 'reentrant']</span>\n",
       "</pre>\n"
      ]
     },
     "metadata": {},
     "output_type": "display_data"
    },
    {
     "data": {
      "text/plain": [
       "\u001B[2m[DEBUG] Determined ground truth for \u001B[0m\n",
       "\u001B[2m../log/contracts_analysis_both_20250225_104133/reentrant/0xeaf28dc83537cd526f703ee7157a55beac9e073f_reentrancy: \u001B[0m\n",
       "\u001B[2mreentrant\u001B[0m\n"
      ],
      "text/html": [
       "<pre style=\"white-space:pre;overflow-x:auto;line-height:normal;font-family:Menlo,'DejaVu Sans Mono',consolas,'Courier New',monospace\"><span style=\"color: #7f7f7f; text-decoration-color: #7f7f7f\">[DEBUG] Determined ground truth for </span>\n",
       "<span style=\"color: #7f7f7f; text-decoration-color: #7f7f7f\">../log/contracts_analysis_both_20250225_104133/reentrant/0xeaf28dc83537cd526f703ee7157a55beac9e073f_reentrancy: </span>\n",
       "<span style=\"color: #7f7f7f; text-decoration-color: #7f7f7f\">reentrant</span>\n",
       "</pre>\n"
      ]
     },
     "metadata": {},
     "output_type": "display_data"
    },
    {
     "data": {
      "text/plain": [
       "\u001B[2m[DEBUG] Processing classification file: \u001B[0m\n",
       "\u001B[2m../log/contracts_analysis_both_20250225_104133/reentrant/0xeaf28dc83537cd526f703ee7157a55beac9e073f_reentrancy/clas\u001B[0m\n",
       "\u001B[2msification.json\u001B[0m\n"
      ],
      "text/html": [
       "<pre style=\"white-space:pre;overflow-x:auto;line-height:normal;font-family:Menlo,'DejaVu Sans Mono',consolas,'Courier New',monospace\"><span style=\"color: #7f7f7f; text-decoration-color: #7f7f7f\">[DEBUG] Processing classification file: </span>\n",
       "<span style=\"color: #7f7f7f; text-decoration-color: #7f7f7f\">../log/contracts_analysis_both_20250225_104133/reentrant/0xeaf28dc83537cd526f703ee7157a55beac9e073f_reentrancy/clas</span>\n",
       "<span style=\"color: #7f7f7f; text-decoration-color: #7f7f7f\">sification.json</span>\n",
       "</pre>\n"
      ]
     },
     "metadata": {},
     "output_type": "display_data"
    },
    {
     "data": {
      "text/plain": [
       "\u001B[2m[DEBUG] Loading JSON file: \u001B[0m\n",
       "\u001B[2m../log/contracts_analysis_both_20250225_104133/reentrant/0xeaf28dc83537cd526f703ee7157a55beac9e073f_reentrancy/clas\u001B[0m\n",
       "\u001B[2msification.json\u001B[0m\n"
      ],
      "text/html": [
       "<pre style=\"white-space:pre;overflow-x:auto;line-height:normal;font-family:Menlo,'DejaVu Sans Mono',consolas,'Courier New',monospace\"><span style=\"color: #7f7f7f; text-decoration-color: #7f7f7f\">[DEBUG] Loading JSON file: </span>\n",
       "<span style=\"color: #7f7f7f; text-decoration-color: #7f7f7f\">../log/contracts_analysis_both_20250225_104133/reentrant/0xeaf28dc83537cd526f703ee7157a55beac9e073f_reentrancy/clas</span>\n",
       "<span style=\"color: #7f7f7f; text-decoration-color: #7f7f7f\">sification.json</span>\n",
       "</pre>\n"
      ]
     },
     "metadata": {},
     "output_type": "display_data"
    },
    {
     "data": {
      "text/plain": [
       "\u001B[2m[DEBUG] Classification result: reentrant, Ground truth: reentrant\u001B[0m\n"
      ],
      "text/html": [
       "<pre style=\"white-space:pre;overflow-x:auto;line-height:normal;font-family:Menlo,'DejaVu Sans Mono',consolas,'Courier New',monospace\"><span style=\"color: #7f7f7f; text-decoration-color: #7f7f7f\">[DEBUG] Classification result: reentrant, Ground truth: reentrant</span>\n",
       "</pre>\n"
      ]
     },
     "metadata": {},
     "output_type": "display_data"
    },
    {
     "data": {
      "text/plain": [
       "\u001B[2m[DEBUG] Collecting predictions from directory: \u001B[0m\n",
       "\u001B[2m../log/contracts_analysis_both_20250225_104133/reentrant/0xeaf28dc83537cd526f703ee7157a55beac9e073f_reentrancy\u001B[0m\n"
      ],
      "text/html": [
       "<pre style=\"white-space:pre;overflow-x:auto;line-height:normal;font-family:Menlo,'DejaVu Sans Mono',consolas,'Courier New',monospace\"><span style=\"color: #7f7f7f; text-decoration-color: #7f7f7f\">[DEBUG] Collecting predictions from directory: </span>\n",
       "<span style=\"color: #7f7f7f; text-decoration-color: #7f7f7f\">../log/contracts_analysis_both_20250225_104133/reentrant/0xeaf28dc83537cd526f703ee7157a55beac9e073f_reentrancy</span>\n",
       "</pre>\n"
      ]
     },
     "metadata": {},
     "output_type": "display_data"
    },
    {
     "data": {
      "text/plain": [
       "\u001B[2m[DEBUG] Loading JSON file: \u001B[0m\n",
       "\u001B[2m../log/contracts_analysis_both_20250225_104133/reentrant/0xeaf28dc83537cd526f703ee7157a55beac9e073f_reentrancy/anal\u001B[0m\n",
       "\u001B[2mysis_0x0aa19b3e51dd77e482690263c8af26bec2c6542e.json\u001B[0m\n"
      ],
      "text/html": [
       "<pre style=\"white-space:pre;overflow-x:auto;line-height:normal;font-family:Menlo,'DejaVu Sans Mono',consolas,'Courier New',monospace\"><span style=\"color: #7f7f7f; text-decoration-color: #7f7f7f\">[DEBUG] Loading JSON file: </span>\n",
       "<span style=\"color: #7f7f7f; text-decoration-color: #7f7f7f\">../log/contracts_analysis_both_20250225_104133/reentrant/0xeaf28dc83537cd526f703ee7157a55beac9e073f_reentrancy/anal</span>\n",
       "<span style=\"color: #7f7f7f; text-decoration-color: #7f7f7f\">ysis_0x0aa19b3e51dd77e482690263c8af26bec2c6542e.json</span>\n",
       "</pre>\n"
      ]
     },
     "metadata": {},
     "output_type": "display_data"
    },
    {
     "data": {
      "text/plain": [
       "\u001B[2m[DEBUG] Loading JSON file: \u001B[0m\n",
       "\u001B[2m../log/contracts_analysis_both_20250225_104133/reentrant/0xeaf28dc83537cd526f703ee7157a55beac9e073f_reentrancy/anal\u001B[0m\n",
       "\u001B[2mysis_0x0aab3ac447ea90739bdbe4e0e00af0a54038904a.json\u001B[0m\n"
      ],
      "text/html": [
       "<pre style=\"white-space:pre;overflow-x:auto;line-height:normal;font-family:Menlo,'DejaVu Sans Mono',consolas,'Courier New',monospace\"><span style=\"color: #7f7f7f; text-decoration-color: #7f7f7f\">[DEBUG] Loading JSON file: </span>\n",
       "<span style=\"color: #7f7f7f; text-decoration-color: #7f7f7f\">../log/contracts_analysis_both_20250225_104133/reentrant/0xeaf28dc83537cd526f703ee7157a55beac9e073f_reentrancy/anal</span>\n",
       "<span style=\"color: #7f7f7f; text-decoration-color: #7f7f7f\">ysis_0x0aab3ac447ea90739bdbe4e0e00af0a54038904a.json</span>\n",
       "</pre>\n"
      ]
     },
     "metadata": {},
     "output_type": "display_data"
    },
    {
     "data": {
      "text/plain": [
       "\u001B[2m[DEBUG] Loading JSON file: \u001B[0m\n",
       "\u001B[2m../log/contracts_analysis_both_20250225_104133/reentrant/0xeaf28dc83537cd526f703ee7157a55beac9e073f_reentrancy/anal\u001B[0m\n",
       "\u001B[2mysis_0x0a8c3b7e149891ff594e3ad580f8e1769151a07b.json\u001B[0m\n"
      ],
      "text/html": [
       "<pre style=\"white-space:pre;overflow-x:auto;line-height:normal;font-family:Menlo,'DejaVu Sans Mono',consolas,'Courier New',monospace\"><span style=\"color: #7f7f7f; text-decoration-color: #7f7f7f\">[DEBUG] Loading JSON file: </span>\n",
       "<span style=\"color: #7f7f7f; text-decoration-color: #7f7f7f\">../log/contracts_analysis_both_20250225_104133/reentrant/0xeaf28dc83537cd526f703ee7157a55beac9e073f_reentrancy/anal</span>\n",
       "<span style=\"color: #7f7f7f; text-decoration-color: #7f7f7f\">ysis_0x0a8c3b7e149891ff594e3ad580f8e1769151a07b.json</span>\n",
       "</pre>\n"
      ]
     },
     "metadata": {},
     "output_type": "display_data"
    },
    {
     "data": {
      "text/plain": [
       "\u001B[2m[DEBUG] Collected predictions: ['reentrant', 'reentrant', 'reentrant']\u001B[0m\n"
      ],
      "text/html": [
       "<pre style=\"white-space:pre;overflow-x:auto;line-height:normal;font-family:Menlo,'DejaVu Sans Mono',consolas,'Courier New',monospace\"><span style=\"color: #7f7f7f; text-decoration-color: #7f7f7f\">[DEBUG] Collected predictions: ['reentrant', 'reentrant', 'reentrant']</span>\n",
       "</pre>\n"
      ]
     },
     "metadata": {},
     "output_type": "display_data"
    },
    {
     "data": {
      "text/plain": [
       "\u001B[2m[DEBUG] Determined ground truth for \u001B[0m\n",
       "\u001B[2m../log/contracts_analysis_both_20250225_104133/reentrant/0aef6c211111272d7254889fc692314e: reentrant\u001B[0m\n"
      ],
      "text/html": [
       "<pre style=\"white-space:pre;overflow-x:auto;line-height:normal;font-family:Menlo,'DejaVu Sans Mono',consolas,'Courier New',monospace\"><span style=\"color: #7f7f7f; text-decoration-color: #7f7f7f\">[DEBUG] Determined ground truth for </span>\n",
       "<span style=\"color: #7f7f7f; text-decoration-color: #7f7f7f\">../log/contracts_analysis_both_20250225_104133/reentrant/0aef6c211111272d7254889fc692314e: reentrant</span>\n",
       "</pre>\n"
      ]
     },
     "metadata": {},
     "output_type": "display_data"
    },
    {
     "data": {
      "text/plain": [
       "\u001B[2m[DEBUG] Processing classification file: \u001B[0m\n",
       "\u001B[2m../log/contracts_analysis_both_20250225_104133/reentrant/0aef6c211111272d7254889fc692314e/classification.json\u001B[0m\n"
      ],
      "text/html": [
       "<pre style=\"white-space:pre;overflow-x:auto;line-height:normal;font-family:Menlo,'DejaVu Sans Mono',consolas,'Courier New',monospace\"><span style=\"color: #7f7f7f; text-decoration-color: #7f7f7f\">[DEBUG] Processing classification file: </span>\n",
       "<span style=\"color: #7f7f7f; text-decoration-color: #7f7f7f\">../log/contracts_analysis_both_20250225_104133/reentrant/0aef6c211111272d7254889fc692314e/classification.json</span>\n",
       "</pre>\n"
      ]
     },
     "metadata": {},
     "output_type": "display_data"
    },
    {
     "data": {
      "text/plain": [
       "\u001B[2m[DEBUG] Loading JSON file: \u001B[0m\n",
       "\u001B[2m../log/contracts_analysis_both_20250225_104133/reentrant/0aef6c211111272d7254889fc692314e/classification.json\u001B[0m\n"
      ],
      "text/html": [
       "<pre style=\"white-space:pre;overflow-x:auto;line-height:normal;font-family:Menlo,'DejaVu Sans Mono',consolas,'Courier New',monospace\"><span style=\"color: #7f7f7f; text-decoration-color: #7f7f7f\">[DEBUG] Loading JSON file: </span>\n",
       "<span style=\"color: #7f7f7f; text-decoration-color: #7f7f7f\">../log/contracts_analysis_both_20250225_104133/reentrant/0aef6c211111272d7254889fc692314e/classification.json</span>\n",
       "</pre>\n"
      ]
     },
     "metadata": {},
     "output_type": "display_data"
    },
    {
     "data": {
      "text/plain": [
       "\u001B[2m[DEBUG] Classification result: reentrant, Ground truth: reentrant\u001B[0m\n"
      ],
      "text/html": [
       "<pre style=\"white-space:pre;overflow-x:auto;line-height:normal;font-family:Menlo,'DejaVu Sans Mono',consolas,'Courier New',monospace\"><span style=\"color: #7f7f7f; text-decoration-color: #7f7f7f\">[DEBUG] Classification result: reentrant, Ground truth: reentrant</span>\n",
       "</pre>\n"
      ]
     },
     "metadata": {},
     "output_type": "display_data"
    },
    {
     "data": {
      "text/plain": [
       "\u001B[2m[DEBUG] Collecting predictions from directory: \u001B[0m\n",
       "\u001B[2m../log/contracts_analysis_both_20250225_104133/reentrant/0aef6c211111272d7254889fc692314e\u001B[0m\n"
      ],
      "text/html": [
       "<pre style=\"white-space:pre;overflow-x:auto;line-height:normal;font-family:Menlo,'DejaVu Sans Mono',consolas,'Courier New',monospace\"><span style=\"color: #7f7f7f; text-decoration-color: #7f7f7f\">[DEBUG] Collecting predictions from directory: </span>\n",
       "<span style=\"color: #7f7f7f; text-decoration-color: #7f7f7f\">../log/contracts_analysis_both_20250225_104133/reentrant/0aef6c211111272d7254889fc692314e</span>\n",
       "</pre>\n"
      ]
     },
     "metadata": {},
     "output_type": "display_data"
    },
    {
     "data": {
      "text/plain": [
       "\u001B[2m[DEBUG] Loading JSON file: \u001B[0m\n",
       "\u001B[2m../log/contracts_analysis_both_20250225_104133/reentrant/0aef6c211111272d7254889fc692314e/analysis_0x0aa19b3e51dd77\u001B[0m\n",
       "\u001B[2me482690263c8af26bec2c6542e.json\u001B[0m\n"
      ],
      "text/html": [
       "<pre style=\"white-space:pre;overflow-x:auto;line-height:normal;font-family:Menlo,'DejaVu Sans Mono',consolas,'Courier New',monospace\"><span style=\"color: #7f7f7f; text-decoration-color: #7f7f7f\">[DEBUG] Loading JSON file: </span>\n",
       "<span style=\"color: #7f7f7f; text-decoration-color: #7f7f7f\">../log/contracts_analysis_both_20250225_104133/reentrant/0aef6c211111272d7254889fc692314e/analysis_0x0aa19b3e51dd77</span>\n",
       "<span style=\"color: #7f7f7f; text-decoration-color: #7f7f7f\">e482690263c8af26bec2c6542e.json</span>\n",
       "</pre>\n"
      ]
     },
     "metadata": {},
     "output_type": "display_data"
    },
    {
     "data": {
      "text/plain": [
       "\u001B[2m[DEBUG] Loading JSON file: \u001B[0m\n",
       "\u001B[2m../log/contracts_analysis_both_20250225_104133/reentrant/0aef6c211111272d7254889fc692314e/analysis_0x0aab3ac447ea90\u001B[0m\n",
       "\u001B[2m739bdbe4e0e00af0a54038904a.json\u001B[0m\n"
      ],
      "text/html": [
       "<pre style=\"white-space:pre;overflow-x:auto;line-height:normal;font-family:Menlo,'DejaVu Sans Mono',consolas,'Courier New',monospace\"><span style=\"color: #7f7f7f; text-decoration-color: #7f7f7f\">[DEBUG] Loading JSON file: </span>\n",
       "<span style=\"color: #7f7f7f; text-decoration-color: #7f7f7f\">../log/contracts_analysis_both_20250225_104133/reentrant/0aef6c211111272d7254889fc692314e/analysis_0x0aab3ac447ea90</span>\n",
       "<span style=\"color: #7f7f7f; text-decoration-color: #7f7f7f\">739bdbe4e0e00af0a54038904a.json</span>\n",
       "</pre>\n"
      ]
     },
     "metadata": {},
     "output_type": "display_data"
    },
    {
     "data": {
      "text/plain": [
       "\u001B[2m[DEBUG] Loading JSON file: \u001B[0m\n",
       "\u001B[2m../log/contracts_analysis_both_20250225_104133/reentrant/0aef6c211111272d7254889fc692314e/analysis_0x0a8c3b7e149891\u001B[0m\n",
       "\u001B[2mff594e3ad580f8e1769151a07b.json\u001B[0m\n"
      ],
      "text/html": [
       "<pre style=\"white-space:pre;overflow-x:auto;line-height:normal;font-family:Menlo,'DejaVu Sans Mono',consolas,'Courier New',monospace\"><span style=\"color: #7f7f7f; text-decoration-color: #7f7f7f\">[DEBUG] Loading JSON file: </span>\n",
       "<span style=\"color: #7f7f7f; text-decoration-color: #7f7f7f\">../log/contracts_analysis_both_20250225_104133/reentrant/0aef6c211111272d7254889fc692314e/analysis_0x0a8c3b7e149891</span>\n",
       "<span style=\"color: #7f7f7f; text-decoration-color: #7f7f7f\">ff594e3ad580f8e1769151a07b.json</span>\n",
       "</pre>\n"
      ]
     },
     "metadata": {},
     "output_type": "display_data"
    },
    {
     "data": {
      "text/plain": [
       "\u001B[2m[DEBUG] Collected predictions: ['reentrant', 'reentrant', 'reentrant']\u001B[0m\n"
      ],
      "text/html": [
       "<pre style=\"white-space:pre;overflow-x:auto;line-height:normal;font-family:Menlo,'DejaVu Sans Mono',consolas,'Courier New',monospace\"><span style=\"color: #7f7f7f; text-decoration-color: #7f7f7f\">[DEBUG] Collected predictions: ['reentrant', 'reentrant', 'reentrant']</span>\n",
       "</pre>\n"
      ]
     },
     "metadata": {},
     "output_type": "display_data"
    },
    {
     "name": "stderr",
     "output_type": "stream",
     "text": [
      "Processing contracts: 100%|██████████| 96/96 [00:01<00:00, 56.98it/s]\n"
     ]
    },
    {
     "data": {
      "text/plain": [
       "\u001B[36m[INFO] Analysis Files Metrics:\u001B[0m\n"
      ],
      "text/html": [
       "<pre style=\"white-space:pre;overflow-x:auto;line-height:normal;font-family:Menlo,'DejaVu Sans Mono',consolas,'Courier New',monospace\"><span style=\"color: #008080; text-decoration-color: #008080\">[INFO] Analysis Files Metrics:</span>\n",
       "</pre>\n"
      ]
     },
     "metadata": {},
     "output_type": "display_data"
    },
    {
     "data": {
      "text/plain": [
       "\u001B[36m[INFO] Accuracy: 1.0000\u001B[0m\n"
      ],
      "text/html": [
       "<pre style=\"white-space:pre;overflow-x:auto;line-height:normal;font-family:Menlo,'DejaVu Sans Mono',consolas,'Courier New',monospace\"><span style=\"color: #008080; text-decoration-color: #008080\">[INFO] Accuracy: 1.0000</span>\n",
       "</pre>\n"
      ]
     },
     "metadata": {},
     "output_type": "display_data"
    },
    {
     "data": {
      "text/plain": [
       "\u001B[36m[INFO] Precision: 1.0000\u001B[0m\n"
      ],
      "text/html": [
       "<pre style=\"white-space:pre;overflow-x:auto;line-height:normal;font-family:Menlo,'DejaVu Sans Mono',consolas,'Courier New',monospace\"><span style=\"color: #008080; text-decoration-color: #008080\">[INFO] Precision: 1.0000</span>\n",
       "</pre>\n"
      ]
     },
     "metadata": {},
     "output_type": "display_data"
    },
    {
     "data": {
      "text/plain": [
       "\u001B[36m[INFO] Recall: 1.0000\u001B[0m\n"
      ],
      "text/html": [
       "<pre style=\"white-space:pre;overflow-x:auto;line-height:normal;font-family:Menlo,'DejaVu Sans Mono',consolas,'Courier New',monospace\"><span style=\"color: #008080; text-decoration-color: #008080\">[INFO] Recall: 1.0000</span>\n",
       "</pre>\n"
      ]
     },
     "metadata": {},
     "output_type": "display_data"
    },
    {
     "data": {
      "text/plain": [
       "\u001B[36m[INFO] F1 Score: 1.0000\u001B[0m\n"
      ],
      "text/html": [
       "<pre style=\"white-space:pre;overflow-x:auto;line-height:normal;font-family:Menlo,'DejaVu Sans Mono',consolas,'Courier New',monospace\"><span style=\"color: #008080; text-decoration-color: #008080\">[INFO] F1 Score: 1.0000</span>\n",
       "</pre>\n"
      ]
     },
     "metadata": {},
     "output_type": "display_data"
    },
    {
     "data": {
      "text/plain": [
       "\u001B[36m[INFO] \u001B[0m\n",
       "\u001B[36mClassification File Metrics:\u001B[0m\n"
      ],
      "text/html": [
       "<pre style=\"white-space:pre;overflow-x:auto;line-height:normal;font-family:Menlo,'DejaVu Sans Mono',consolas,'Courier New',monospace\"><span style=\"color: #008080; text-decoration-color: #008080\">[INFO] </span>\n",
       "<span style=\"color: #008080; text-decoration-color: #008080\">Classification File Metrics:</span>\n",
       "</pre>\n"
      ]
     },
     "metadata": {},
     "output_type": "display_data"
    },
    {
     "data": {
      "text/plain": [
       "\u001B[36m[INFO] Accuracy: 0.7234\u001B[0m\n"
      ],
      "text/html": [
       "<pre style=\"white-space:pre;overflow-x:auto;line-height:normal;font-family:Menlo,'DejaVu Sans Mono',consolas,'Courier New',monospace\"><span style=\"color: #008080; text-decoration-color: #008080\">[INFO] Accuracy: 0.7234</span>\n",
       "</pre>\n"
      ]
     },
     "metadata": {},
     "output_type": "display_data"
    },
    {
     "data": {
      "text/plain": [
       "\u001B[36m[INFO] Precision: 0.7812\u001B[0m\n"
      ],
      "text/html": [
       "<pre style=\"white-space:pre;overflow-x:auto;line-height:normal;font-family:Menlo,'DejaVu Sans Mono',consolas,'Courier New',monospace\"><span style=\"color: #008080; text-decoration-color: #008080\">[INFO] Precision: 0.7812</span>\n",
       "</pre>\n"
      ]
     },
     "metadata": {},
     "output_type": "display_data"
    },
    {
     "data": {
      "text/plain": [
       "\u001B[36m[INFO] Recall: 0.5682\u001B[0m\n"
      ],
      "text/html": [
       "<pre style=\"white-space:pre;overflow-x:auto;line-height:normal;font-family:Menlo,'DejaVu Sans Mono',consolas,'Courier New',monospace\"><span style=\"color: #008080; text-decoration-color: #008080\">[INFO] Recall: 0.5682</span>\n",
       "</pre>\n"
      ]
     },
     "metadata": {},
     "output_type": "display_data"
    },
    {
     "data": {
      "text/plain": [
       "\u001B[36m[INFO] F1 Score: 0.6579\u001B[0m\n"
      ],
      "text/html": [
       "<pre style=\"white-space:pre;overflow-x:auto;line-height:normal;font-family:Menlo,'DejaVu Sans Mono',consolas,'Courier New',monospace\"><span style=\"color: #008080; text-decoration-color: #008080\">[INFO] F1 Score: 0.6579</span>\n",
       "</pre>\n"
      ]
     },
     "metadata": {},
     "output_type": "display_data"
    },
    {
     "data": {
      "text/plain": [
       "{'analysis': (1.0, 1.0, 1.0, 1.0),\n",
       " 'classification': (0.723404255319149,\n",
       "  0.78125,\n",
       "  0.5681818181818182,\n",
       "  0.6578947368421053)}"
      ]
     },
     "execution_count": 15,
     "metadata": {},
     "output_type": "execute_result"
    }
   ],
   "execution_count": 15
  }
 ],
 "metadata": {
  "kernelspec": {
   "display_name": "Python 3",
   "language": "python",
   "name": "python3"
  },
  "language_info": {
   "codemirror_mode": {
    "name": "ipython",
    "version": 2
   },
   "file_extension": ".py",
   "mimetype": "text/x-python",
   "name": "python",
   "nbconvert_exporter": "python",
   "pygments_lexer": "ipython2",
   "version": "2.7.6"
  }
 },
 "nbformat": 4,
 "nbformat_minor": 5
}
