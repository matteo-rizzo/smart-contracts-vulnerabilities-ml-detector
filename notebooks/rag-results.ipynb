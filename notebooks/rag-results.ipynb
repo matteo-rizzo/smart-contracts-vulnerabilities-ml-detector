{
 "cells": [
  {
   "metadata": {},
   "cell_type": "code",
   "outputs": [],
   "execution_count": null,
   "source": [
    "from src.classes.utils.DebugLogger import DebugLogger\n",
    "import os\n",
    "import json\n",
    "\n",
    "logger = DebugLogger(use_panel_for_errors=True)"
   ],
   "id": "13611561371d75dd"
  },
  {
   "cell_type": "code",
   "execution_count": null,
   "id": "initial_id",
   "metadata": {
    "collapsed": true
   },
   "outputs": [],
   "source": [
    "def accuracy(path_to_log, gt_category):\n",
    "    files = os.listdir(path_to_log)\n",
    "    correct = 0\n",
    "    total = len(files)\n",
    "\n",
    "    for filename in files:\n",
    "        path_to_file = os.path.join(path_to_log, filename)\n",
    "        content = json.load(open(path_to_file, 'r', encoding='utf-8'))\n",
    "        classification = content[\"classification\"]\n",
    "        print(classification)\n",
    "        if classification.lower() == gt_category:\n",
    "            correct += 1\n",
    "\n",
    "    accuracy = correct / total\n",
    "    logger.info(f\"Classification Accuracy: {accuracy:.2%}\")"
   ]
  },
  {
   "metadata": {},
   "cell_type": "code",
   "outputs": [],
   "execution_count": null,
   "source": [
    "path_to_log = \"../log/test_reentrant\"\n",
    "accuracy(path_to_log, gt_category=\"reentrant\")"
   ],
   "id": "a7112673a3f47e9a"
  },
  {
   "metadata": {},
   "cell_type": "code",
   "outputs": [],
   "execution_count": null,
   "source": [
    "path_to_log = \"../log/test_safe\"\n",
    "accuracy(path_to_log, gt_category=\"safe\")"
   ],
   "id": "2d11aa233c342ed5"
  }
 ],
 "metadata": {
  "kernelspec": {
   "display_name": "Python 3",
   "language": "python",
   "name": "python3"
  },
  "language_info": {
   "codemirror_mode": {
    "name": "ipython",
    "version": 2
   },
   "file_extension": ".py",
   "mimetype": "text/x-python",
   "name": "python",
   "nbconvert_exporter": "python",
   "pygments_lexer": "ipython2",
   "version": "2.7.6"
  }
 },
 "nbformat": 4,
 "nbformat_minor": 5
}
